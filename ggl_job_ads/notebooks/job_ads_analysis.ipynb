{
 "cells": [
  {
   "cell_type": "markdown",
   "metadata": {},
   "source": [
    "In this analysis, we will explore a dataset of google job ads. Those ads correspond either to the search string `machine learning engineer` or `data scientist`."
   ]
  },
  {
   "cell_type": "code",
   "execution_count": 66,
   "metadata": {},
   "outputs": [],
   "source": [
    "import os\n",
    "import io\n",
    "import re\n",
    "import yaml\n",
    "\n",
    "import pandas as pd\n",
    "import numpy as np\n",
    "\n",
    "from stemming import porter2\n",
    "\n",
    "from sklearn.feature_extraction.text import TfidfVectorizer, CountVectorizer, TfidfTransformer\n",
    "from sklearn.naive_bayes import MultinomialNB\n",
    "from sklearn.pipeline import Pipeline\n",
    "from sklearn.preprocessing import LabelEncoder\n",
    "from sklearn.model_selection import cross_validate\n",
    "from sklearn.compose import ColumnTransformer\n",
    "\n",
    "import matplotlib.pyplot as plt\n",
    "import seaborn as sns\n",
    "\n",
    "from google.cloud import storage"
   ]
  },
  {
   "cell_type": "code",
   "execution_count": 2,
   "metadata": {},
   "outputs": [],
   "source": [
    "config_path = os.path.abspath(os.path.join(os.getcwd(), '..', 'config.yaml'))\n",
    "with open(config_path, 'r') as config_file:\n",
    "    config = yaml.load(config_file, Loader=yaml.SafeLoader)"
   ]
  },
  {
   "cell_type": "code",
   "execution_count": 3,
   "metadata": {},
   "outputs": [],
   "source": [
    "%matplotlib inline"
   ]
  },
  {
   "cell_type": "code",
   "execution_count": 4,
   "metadata": {},
   "outputs": [],
   "source": [
    "plt.style.use('fivethirtyeight')\n",
    "plt.rcParams['figure.dpi']= 180"
   ]
  },
  {
   "cell_type": "code",
   "execution_count": 5,
   "metadata": {},
   "outputs": [
    {
     "name": "stderr",
     "output_type": "stream",
     "text": [
      "/Users/ruslan.kozhuharov/venvs/tf/lib/python3.7/site-packages/google/auth/_default.py:69: UserWarning: Your application has authenticated using end user credentials from Google Cloud SDK. We recommend that most server applications use service accounts instead. If your application continues to use end user credentials from Cloud SDK, you might receive a \"quota exceeded\" or \"API not enabled\" error. For more information about service accounts, see https://cloud.google.com/docs/authentication/\n",
      "  warnings.warn(_CLOUD_SDK_CREDENTIALS_WARNING)\n"
     ]
    }
   ],
   "source": [
    "client = storage.Client(config['project'])\n",
    "bucket = client.get_bucket(config['bucket'])\n",
    "blob = bucket.blob(config['dest_file'])\n",
    "file_content = io.BytesIO(blob.download_as_string())\n",
    "\n",
    "ads = pd.read_csv(file_content)"
   ]
  },
  {
   "cell_type": "code",
   "execution_count": 6,
   "metadata": {},
   "outputs": [
    {
     "name": "stdout",
     "output_type": "stream",
     "text": [
      "<class 'pandas.core.frame.DataFrame'>\n",
      "RangeIndex: 541 entries, 0 to 540\n",
      "Data columns (total 7 columns):\n",
      "id                  541 non-null object\n",
      "job_descr           539 non-null object\n",
      "location            536 non-null object\n",
      "minimum_qual        539 non-null object\n",
      "preferred_qual      539 non-null object\n",
      "responsibilities    539 non-null object\n",
      "title               541 non-null object\n",
      "dtypes: object(7)\n",
      "memory usage: 29.7+ KB\n"
     ]
    }
   ],
   "source": [
    "ads.info()"
   ]
  },
  {
   "cell_type": "markdown",
   "metadata": {},
   "source": [
    "First, let us try using simple string operations to derive the additional information from the job title. Such information could be: seniority, function, etc."
   ]
  },
  {
   "cell_type": "code",
   "execution_count": 7,
   "metadata": {},
   "outputs": [],
   "source": [
    "ads[['role', 'department', 'area', 'other']] = ads.title.str.split(',', expand=True)"
   ]
  },
  {
   "cell_type": "code",
   "execution_count": 8,
   "metadata": {},
   "outputs": [],
   "source": [
    "seniority_re = r'.*(intern|senior|lead|staff|principal|manager|head).*'\n",
    "function_re = r'.*(engineer|scientist|science|consultant|architect|advocate|developer|analyst|specialist).*'\n",
    "\n",
    "ads['seniority'] = ads.role.str.extract(pat=seniority_re, flags=re.I).fillna('L3-L4')[0].str.lower()\n",
    "ads['function'] = (ads.role.str.extract(pat=function_re, flags=re.I)[0]\n",
    "                   .str.lower().str.replace('science', 'scientist', flags=re.I))"
   ]
  },
  {
   "cell_type": "code",
   "execution_count": 9,
   "metadata": {},
   "outputs": [
    {
     "data": {
      "text/html": [
       "<div>\n",
       "<style scoped>\n",
       "    .dataframe tbody tr th:only-of-type {\n",
       "        vertical-align: middle;\n",
       "    }\n",
       "\n",
       "    .dataframe tbody tr th {\n",
       "        vertical-align: top;\n",
       "    }\n",
       "\n",
       "    .dataframe thead th {\n",
       "        text-align: right;\n",
       "    }\n",
       "</style>\n",
       "<table border=\"1\" class=\"dataframe\">\n",
       "  <thead>\n",
       "    <tr style=\"text-align: right;\">\n",
       "      <th></th>\n",
       "      <th>title</th>\n",
       "      <th>role</th>\n",
       "      <th>department</th>\n",
       "      <th>area</th>\n",
       "      <th>seniority</th>\n",
       "      <th>function</th>\n",
       "    </tr>\n",
       "  </thead>\n",
       "  <tbody>\n",
       "    <tr>\n",
       "      <th>0</th>\n",
       "      <td>Cloud AI Engineer, Professional Services</td>\n",
       "      <td>Cloud AI Engineer</td>\n",
       "      <td>Professional Services</td>\n",
       "      <td>None</td>\n",
       "      <td>l3-l4</td>\n",
       "      <td>engineer</td>\n",
       "    </tr>\n",
       "    <tr>\n",
       "      <th>1</th>\n",
       "      <td>Cloud AI Engineer, Professional Services</td>\n",
       "      <td>Cloud AI Engineer</td>\n",
       "      <td>Professional Services</td>\n",
       "      <td>None</td>\n",
       "      <td>l3-l4</td>\n",
       "      <td>engineer</td>\n",
       "    </tr>\n",
       "    <tr>\n",
       "      <th>2</th>\n",
       "      <td>Conversational AI Engineer, Google Cloud Profe...</td>\n",
       "      <td>Conversational AI Engineer</td>\n",
       "      <td>Google Cloud Professional Services</td>\n",
       "      <td>None</td>\n",
       "      <td>l3-l4</td>\n",
       "      <td>engineer</td>\n",
       "    </tr>\n",
       "    <tr>\n",
       "      <th>3</th>\n",
       "      <td>Cloud AI Engineer, Professional Services</td>\n",
       "      <td>Cloud AI Engineer</td>\n",
       "      <td>Professional Services</td>\n",
       "      <td>None</td>\n",
       "      <td>l3-l4</td>\n",
       "      <td>engineer</td>\n",
       "    </tr>\n",
       "    <tr>\n",
       "      <th>4</th>\n",
       "      <td>Data Scientist, Engineering</td>\n",
       "      <td>Data Scientist</td>\n",
       "      <td>Engineering</td>\n",
       "      <td>None</td>\n",
       "      <td>l3-l4</td>\n",
       "      <td>scientist</td>\n",
       "    </tr>\n",
       "  </tbody>\n",
       "</table>\n",
       "</div>"
      ],
      "text/plain": [
       "                                               title  \\\n",
       "0           Cloud AI Engineer, Professional Services   \n",
       "1           Cloud AI Engineer, Professional Services   \n",
       "2  Conversational AI Engineer, Google Cloud Profe...   \n",
       "3           Cloud AI Engineer, Professional Services   \n",
       "4                        Data Scientist, Engineering   \n",
       "\n",
       "                         role                           department  area  \\\n",
       "0           Cloud AI Engineer                Professional Services  None   \n",
       "1           Cloud AI Engineer                Professional Services  None   \n",
       "2  Conversational AI Engineer   Google Cloud Professional Services  None   \n",
       "3           Cloud AI Engineer                Professional Services  None   \n",
       "4              Data Scientist                          Engineering  None   \n",
       "\n",
       "  seniority   function  \n",
       "0     l3-l4   engineer  \n",
       "1     l3-l4   engineer  \n",
       "2     l3-l4   engineer  \n",
       "3     l3-l4   engineer  \n",
       "4     l3-l4  scientist  "
      ]
     },
     "execution_count": 9,
     "metadata": {},
     "output_type": "execute_result"
    }
   ],
   "source": [
    "ads[['title', 'role', 'department', 'area', 'seniority', 'function']].head()"
   ]
  },
  {
   "cell_type": "markdown",
   "metadata": {},
   "source": [
    "An interesting insight could be to see the most relevant terms from the qualifications and responsibilities with regards to the function. This could give us an isight into the keywords that one should emphasize on in their resume."
   ]
  },
  {
   "cell_type": "code",
   "execution_count": 10,
   "metadata": {},
   "outputs": [
    {
     "data": {
      "text/plain": [
       "engineer      365\n",
       "architect      69\n",
       "developer      18\n",
       "scientist      15\n",
       "analyst        11\n",
       "consultant     10\n",
       "specialist      3\n",
       "advocate        2\n",
       "Name: function, dtype: int64"
      ]
     },
     "execution_count": 10,
     "metadata": {},
     "output_type": "execute_result"
    }
   ],
   "source": [
    "ads.function.value_counts()"
   ]
  },
  {
   "cell_type": "code",
   "execution_count": 43,
   "metadata": {},
   "outputs": [],
   "source": [
    "to_model = ads[(ads.job_descr.notna()) & (ads.function.isin(['engineer', 'scientist', 'architect']))].copy()"
   ]
  },
  {
   "cell_type": "code",
   "execution_count": 44,
   "metadata": {},
   "outputs": [],
   "source": [
    "label_enc = LabelEncoder()\n",
    "to_model['function_enc'] = label_enc.fit_transform(to_model.function.astype('str'))"
   ]
  },
  {
   "cell_type": "code",
   "execution_count": 45,
   "metadata": {},
   "outputs": [],
   "source": [
    "X = to_model.job_descr\n",
    "y = to_model.function_enc"
   ]
  },
  {
   "cell_type": "code",
   "execution_count": 46,
   "metadata": {},
   "outputs": [],
   "source": [
    "text_pipe = Pipeline([('count_vectorizer', CountVectorizer(stop_words='english',\n",
    "                                                           ngram_range=(1, 10),\n",
    "                                                           min_df=0.05, max_df=0.95,\n",
    "                                                           strip_accents='unicode')),\n",
    "                      ('tf_idf_transf', TfidfTransformer()),\n",
    "                      ('naive_bayes_clf', MultinomialNB())])"
   ]
  },
  {
   "cell_type": "code",
   "execution_count": 47,
   "metadata": {},
   "outputs": [
    {
     "name": "stdout",
     "output_type": "stream",
     "text": [
      "CPU times: user 3 µs, sys: 1e+03 ns, total: 4 µs\n",
      "Wall time: 7.87 µs\n"
     ]
    }
   ],
   "source": [
    "%time\n",
    "scores = cross_validate(text_pipe, X, y, cv=3, scoring='f1_weighted', return_train_score=True)"
   ]
  },
  {
   "cell_type": "code",
   "execution_count": 59,
   "metadata": {},
   "outputs": [
    {
     "name": "stdout",
     "output_type": "stream",
     "text": [
      "fit_time, mean: 0.68, std: 0.08\n",
      "score_time, mean: 0.18, std: 0.00\n",
      "test_score, mean: 0.72, std: 0.02\n",
      "train_score, mean: 0.73, std: 0.02\n"
     ]
    }
   ],
   "source": [
    "for k in scores.keys():\n",
    "    print(f'{k}, mean: {scores[k].mean():.2f}, std: {scores[k].std():.2f}')"
   ]
  },
  {
   "cell_type": "code",
   "execution_count": 48,
   "metadata": {},
   "outputs": [
    {
     "data": {
      "text/plain": [
       "Pipeline(memory=None,\n",
       "         steps=[('count_vectorizer',\n",
       "                 CountVectorizer(analyzer='word', binary=False,\n",
       "                                 decode_error='strict',\n",
       "                                 dtype=<class 'numpy.int64'>, encoding='utf-8',\n",
       "                                 input='content', lowercase=True, max_df=0.95,\n",
       "                                 max_features=None, min_df=0.05,\n",
       "                                 ngram_range=(1, 10), preprocessor=None,\n",
       "                                 stop_words='english', strip_accents='unicode',\n",
       "                                 token_pattern='(?u)\\\\b\\\\w\\\\w+\\\\b',\n",
       "                                 tokenizer=None, vocabulary=None)),\n",
       "                ('tf_idf_transf',\n",
       "                 TfidfTransformer(norm='l2', smooth_idf=True,\n",
       "                                  sublinear_tf=False, use_idf=True)),\n",
       "                ('naive_bayes_clf',\n",
       "                 MultinomialNB(alpha=1.0, class_prior=None, fit_prior=True))],\n",
       "         verbose=False)"
      ]
     },
     "execution_count": 48,
     "metadata": {},
     "output_type": "execute_result"
    }
   ],
   "source": [
    "text_pipe.fit(X, y)"
   ]
  },
  {
   "cell_type": "code",
   "execution_count": 64,
   "metadata": {},
   "outputs": [],
   "source": [
    "importances = pd.DataFrame(text_pipe['naive_bayes_clf'].feature_log_prob_.transpose(),\n",
    "                           columns=label_enc.classes_,\n",
    "                           index=text_pipe['count_vectorizer'].get_feature_names())"
   ]
  },
  {
   "cell_type": "code",
   "execution_count": 65,
   "metadata": {},
   "outputs": [
    {
     "name": "stdout",
     "output_type": "stream",
     "text": [
      "architect\n",
      "--------------------------------------------------------------------------------\n",
      "cloud          -6.240556\n",
      "customers      -6.441641\n",
      "google cloud   -6.586060\n",
      "hardware       -7.224296\n",
      "solutions      -7.295929\n",
      "business       -7.314180\n",
      "enterprise     -7.337779\n",
      "help           -7.393645\n",
      "team           -7.400823\n",
      "platform       -7.416114\n",
      "Name: architect, dtype: float64\n",
      "\n",
      "\n",
      "--------------------------------------------------------------------------------\n",
      "engineer\n",
      "--------------------------------------------------------------------------------\n",
      "cloud          -6.382416\n",
      "engineers      -6.513930\n",
      "customers      -6.527060\n",
      "team           -6.698174\n",
      "software       -6.735478\n",
      "google cloud   -6.827812\n",
      "information    -6.857268\n",
      "work           -6.867722\n",
      "design         -6.907004\n",
      "scale          -6.954883\n",
      "Name: engineer, dtype: float64\n",
      "\n",
      "\n",
      "--------------------------------------------------------------------------------\n",
      "scientist\n",
      "--------------------------------------------------------------------------------\n",
      "research   -6.717190\n",
      "data       -7.272481\n",
      "product    -7.432465\n",
      "science    -7.449093\n",
      "learning   -7.597973\n",
      "methods    -7.603859\n",
      "services   -7.622636\n",
      "teams      -7.652535\n",
      "projects   -7.663949\n",
      "solution   -7.678240\n",
      "Name: scientist, dtype: float64\n",
      "\n",
      "\n",
      "--------------------------------------------------------------------------------\n"
     ]
    }
   ],
   "source": [
    "for l in label_enc.classes_:\n",
    "    print(l)\n",
    "    print('-'*80)\n",
    "    print(importances[l].sort_values(ascending=False)[:10])\n",
    "    print('\\n')\n",
    "    print('-'*80)"
   ]
  },
  {
   "cell_type": "code",
   "execution_count": 101,
   "metadata": {},
   "outputs": [],
   "source": [
    "kwargs = {'stop_words':'english',\n",
    "          'ngram_range':(1, 10),\n",
    "          'min_df':0.05,\n",
    "          'max_df':0.95,\n",
    "          'strip_accents':'unicode'}\n",
    "\n",
    "text_cols = ['job_descr', 'minimum_qual', 'preferred_qual', 'responsibilities']\n",
    "\n",
    "column_trans = ColumnTransformer([(f'tfidf_{c}', TfidfVectorizer(**kwargs), c) for c in text_cols])\n",
    "\n",
    "multi_col_pipe = Pipeline([('multi_col_tfidf', column_trans),\n",
    "                           ('naive_bayes_clf', MultinomialNB())])"
   ]
  },
  {
   "cell_type": "code",
   "execution_count": 102,
   "metadata": {},
   "outputs": [
    {
     "data": {
      "text/plain": [
       "Pipeline(memory=None,\n",
       "         steps=[('multi_col_tfidf',\n",
       "                 ColumnTransformer(n_jobs=None, remainder='drop',\n",
       "                                   sparse_threshold=0.3,\n",
       "                                   transformer_weights=None,\n",
       "                                   transformers=[('tfidf_job_descr',\n",
       "                                                  TfidfVectorizer(analyzer='word',\n",
       "                                                                  binary=False,\n",
       "                                                                  decode_error='strict',\n",
       "                                                                  dtype=<class 'numpy.float64'>,\n",
       "                                                                  encoding='utf-8',\n",
       "                                                                  input='content',\n",
       "                                                                  lowercase=True,\n",
       "                                                                  max_df=0.95,\n",
       "                                                                  max_features=None,\n",
       "                                                                  min...\n",
       "                                                                  max_features=None,\n",
       "                                                                  min_df=0.05,\n",
       "                                                                  ngram_range=(1,\n",
       "                                                                               10),\n",
       "                                                                  norm='l2',\n",
       "                                                                  preprocessor=None,\n",
       "                                                                  smooth_idf=True,\n",
       "                                                                  stop_words='english',\n",
       "                                                                  strip_accents='unicode',\n",
       "                                                                  sublinear_tf=False,\n",
       "                                                                  token_pattern='(?u)\\\\b\\\\w\\\\w+\\\\b',\n",
       "                                                                  tokenizer=None,\n",
       "                                                                  use_idf=True,\n",
       "                                                                  vocabulary=None),\n",
       "                                                  'responsibilities')],\n",
       "                                   verbose=False)),\n",
       "                ('naive_bayes_clf',\n",
       "                 MultinomialNB(alpha=1.0, class_prior=None, fit_prior=True))],\n",
       "         verbose=False)"
      ]
     },
     "execution_count": 102,
     "metadata": {},
     "output_type": "execute_result"
    }
   ],
   "source": [
    "multi_col_pipe.fit(to_model[text_cols], y)"
   ]
  },
  {
   "cell_type": "code",
   "execution_count": 108,
   "metadata": {},
   "outputs": [
    {
     "name": "stdout",
     "output_type": "stream",
     "text": [
      "CPU times: user 3 µs, sys: 1 µs, total: 4 µs\n",
      "Wall time: 5.01 µs\n"
     ]
    }
   ],
   "source": [
    "%time\n",
    "scores = cross_validate(multi_col_pipe, to_model[text_cols], y, cv=3, scoring='f1_weighted', return_train_score=True)"
   ]
  },
  {
   "cell_type": "code",
   "execution_count": 109,
   "metadata": {},
   "outputs": [
    {
     "name": "stdout",
     "output_type": "stream",
     "text": [
      "fit_time, mean: 1.23, std: 0.04\n",
      "score_time, mean: 0.35, std: 0.02\n",
      "test_score, mean: 0.79, std: 0.05\n",
      "train_score, mean: 0.78, std: 0.02\n"
     ]
    }
   ],
   "source": [
    "for k in scores.keys():\n",
    "    print(f'{k}, mean: {scores[k].mean():.2f}, std: {scores[k].std():.2f}')"
   ]
  },
  {
   "cell_type": "code",
   "execution_count": 116,
   "metadata": {},
   "outputs": [],
   "source": [
    "importances_mcp = pd.DataFrame(multi_col_pipe['naive_bayes_clf'].feature_log_prob_.transpose(),\n",
    "                               columns=label_enc.classes_,\n",
    "                               index=multi_col_pipe['multi_col_tfidf'].get_feature_names())"
   ]
  },
  {
   "cell_type": "code",
   "execution_count": 117,
   "metadata": {},
   "outputs": [
    {
     "name": "stdout",
     "output_type": "stream",
     "text": [
      "architect\n",
      "--------------------------------------------------------------------------------\n",
      "tfidf_minimum_qual__cloud             -6.627677\n",
      "tfidf_job_descr__cloud                -6.640148\n",
      "tfidf_preferred_qual__experience      -6.720834\n",
      "tfidf_preferred_qual__cloud           -6.787615\n",
      "tfidf_job_descr__customers            -6.841233\n",
      "tfidf_minimum_qual__computing         -6.873032\n",
      "tfidf_responsibilities__power         -6.880187\n",
      "tfidf_job_descr__google cloud         -6.985652\n",
      "tfidf_minimum_qual__cloud computing   -6.988558\n",
      "tfidf_responsibilities__customers     -7.010322\n",
      "Name: architect, dtype: float64\n",
      "\n",
      "\n",
      "--------------------------------------------------------------------------------\n",
      "engineer\n",
      "--------------------------------------------------------------------------------\n",
      "tfidf_preferred_qual__experience   -5.892254\n",
      "tfidf_responsibilities__design     -6.627540\n",
      "tfidf_minimum_qual__development    -6.773619\n",
      "tfidf_minimum_qual__degree         -6.795694\n",
      "tfidf_responsibilities__systems    -6.844199\n",
      "tfidf_minimum_qual__software       -6.846000\n",
      "tfidf_minimum_qual__years          -6.866514\n",
      "tfidf_preferred_qual__systems      -6.869328\n",
      "tfidf_job_descr__cloud             -6.884400\n",
      "tfidf_responsibilities__software   -6.884450\n",
      "Name: engineer, dtype: float64\n",
      "\n",
      "\n",
      "--------------------------------------------------------------------------------\n",
      "scientist\n",
      "--------------------------------------------------------------------------------\n",
      "tfidf_job_descr__research          -7.066668\n",
      "tfidf_preferred_qual__experience   -7.227986\n",
      "tfidf_responsibilities__analysis   -7.238370\n",
      "tfidf_preferred_qual__research     -7.369514\n",
      "tfidf_responsibilities__data       -7.374597\n",
      "tfidf_preferred_qual__analysis     -7.381529\n",
      "tfidf_preferred_qual__data         -7.418807\n",
      "tfidf_minimum_qual__data           -7.429781\n",
      "tfidf_minimum_qual__machine        -7.507594\n",
      "tfidf_minimum_qual__learning       -7.550190\n",
      "Name: scientist, dtype: float64\n",
      "\n",
      "\n",
      "--------------------------------------------------------------------------------\n"
     ]
    }
   ],
   "source": [
    "for l in label_enc.classes_:\n",
    "    print(l)\n",
    "    print('-'*80)\n",
    "    print(importances_mcp[l].sort_values(ascending=False)[:10])\n",
    "    print('\\n')\n",
    "    print('-'*80)"
   ]
  },
  {
   "cell_type": "code",
   "execution_count": null,
   "metadata": {},
   "outputs": [],
   "source": []
  }
 ],
 "metadata": {
  "kernelspec": {
   "display_name": "Python 3",
   "language": "python",
   "name": "python3"
  },
  "language_info": {
   "codemirror_mode": {
    "name": "ipython",
    "version": 3
   },
   "file_extension": ".py",
   "mimetype": "text/x-python",
   "name": "python",
   "nbconvert_exporter": "python",
   "pygments_lexer": "ipython3",
   "version": "3.7.6"
  },
  "widgets": {
   "application/vnd.jupyter.widget-state+json": {
    "state": {},
    "version_major": 2,
    "version_minor": 0
   }
  }
 },
 "nbformat": 4,
 "nbformat_minor": 4
}
