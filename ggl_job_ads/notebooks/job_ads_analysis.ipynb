{
 "cells": [
  {
   "cell_type": "markdown",
   "metadata": {},
   "source": [
    "In this analysis, we will explore a dataset of google job ads. Those ads correspond either to the search string `machine learning engineer` or `data scientist`."
   ]
  },
  {
   "cell_type": "code",
   "execution_count": 45,
   "metadata": {},
   "outputs": [],
   "source": [
    "import os\n",
    "import io\n",
    "import re\n",
    "import yaml\n",
    "\n",
    "import pandas as pd\n",
    "import numpy as np\n",
    "\n",
    "from stemming import porter2\n",
    "\n",
    "from sklearn.feature_extraction.text import TfidfVectorizer, CountVectorizer, TfidfTransformer\n",
    "from sklearn.naive_bayes import MultinomialNB\n",
    "from sklearn.pipeline import Pipeline\n",
    "from sklearn.preprocessing import LabelEncoder, OneHotEncoder\n",
    "from sklearn.model_selection import cross_validate, GridSearchCV\n",
    "from sklearn.compose import ColumnTransformer\n",
    "\n",
    "import matplotlib.pyplot as plt\n",
    "import seaborn as sns\n",
    "\n",
    "from google.cloud import storage"
   ]
  },
  {
   "cell_type": "code",
   "execution_count": 2,
   "metadata": {},
   "outputs": [],
   "source": [
    "config_path = os.path.abspath(os.path.join(os.getcwd(), '..', 'config.yaml'))\n",
    "with open(config_path, 'r') as config_file:\n",
    "    config = yaml.load(config_file, Loader=yaml.SafeLoader)"
   ]
  },
  {
   "cell_type": "code",
   "execution_count": 3,
   "metadata": {},
   "outputs": [],
   "source": [
    "%matplotlib inline"
   ]
  },
  {
   "cell_type": "code",
   "execution_count": 4,
   "metadata": {},
   "outputs": [],
   "source": [
    "plt.style.use('fivethirtyeight')\n",
    "plt.rcParams['figure.dpi']= 180"
   ]
  },
  {
   "cell_type": "code",
   "execution_count": 5,
   "metadata": {},
   "outputs": [
    {
     "name": "stderr",
     "output_type": "stream",
     "text": [
      "/Users/ruslan.kozhuharov/venvs/tf/lib/python3.7/site-packages/google/auth/_default.py:69: UserWarning: Your application has authenticated using end user credentials from Google Cloud SDK. We recommend that most server applications use service accounts instead. If your application continues to use end user credentials from Cloud SDK, you might receive a \"quota exceeded\" or \"API not enabled\" error. For more information about service accounts, see https://cloud.google.com/docs/authentication/\n",
      "  warnings.warn(_CLOUD_SDK_CREDENTIALS_WARNING)\n"
     ]
    }
   ],
   "source": [
    "client = storage.Client(config['project'])\n",
    "bucket = client.get_bucket(config['bucket'])\n",
    "blob = bucket.blob(config['dest_file'])\n",
    "file_content = io.BytesIO(blob.download_as_string())\n",
    "\n",
    "ads = pd.read_csv(file_content)"
   ]
  },
  {
   "cell_type": "code",
   "execution_count": 25,
   "metadata": {},
   "outputs": [
    {
     "name": "stdout",
     "output_type": "stream",
     "text": [
      "<class 'pandas.core.frame.DataFrame'>\n",
      "RangeIndex: 567 entries, 0 to 566\n",
      "Data columns (total 13 columns):\n",
      "id                  567 non-null object\n",
      "job_descr           567 non-null object\n",
      "location            567 non-null object\n",
      "minimum_qual        567 non-null object\n",
      "preferred_qual      567 non-null object\n",
      "responsibilities    567 non-null object\n",
      "title               567 non-null object\n",
      "role                567 non-null object\n",
      "department          498 non-null object\n",
      "area                201 non-null object\n",
      "other               18 non-null object\n",
      "seniority           567 non-null object\n",
      "function            515 non-null object\n",
      "dtypes: object(13)\n",
      "memory usage: 57.7+ KB\n"
     ]
    }
   ],
   "source": [
    "ads.info()"
   ]
  },
  {
   "cell_type": "markdown",
   "metadata": {},
   "source": [
    "First, let us try using simple string operations to derive the additional information from the job title. Such information could be: seniority, function, etc."
   ]
  },
  {
   "cell_type": "code",
   "execution_count": 26,
   "metadata": {},
   "outputs": [],
   "source": [
    "ads.fillna('unknown', inplace=True)"
   ]
  },
  {
   "cell_type": "code",
   "execution_count": 27,
   "metadata": {},
   "outputs": [],
   "source": [
    "ads[['role', 'department', 'area', 'other']] = ads.title.str.split(',', expand=True)"
   ]
  },
  {
   "cell_type": "code",
   "execution_count": 28,
   "metadata": {},
   "outputs": [],
   "source": [
    "seniority_re = r'.*(intern|senior|lead|staff|principal|manager|head).*'\n",
    "function_re = r'.*(engineer|scientist|science|consultant|architect|advocate|developer|analyst|specialist).*'\n",
    "\n",
    "ads['seniority'] = ads.role.str.extract(pat=seniority_re, flags=re.I).fillna('L3-L4')[0].str.lower()\n",
    "ads['function'] = (ads.role.str.extract(pat=function_re, flags=re.I)[0]\n",
    "                   .str.lower().str.replace('science', 'scientist', flags=re.I))"
   ]
  },
  {
   "cell_type": "code",
   "execution_count": 29,
   "metadata": {},
   "outputs": [
    {
     "data": {
      "text/html": [
       "<div>\n",
       "<style scoped>\n",
       "    .dataframe tbody tr th:only-of-type {\n",
       "        vertical-align: middle;\n",
       "    }\n",
       "\n",
       "    .dataframe tbody tr th {\n",
       "        vertical-align: top;\n",
       "    }\n",
       "\n",
       "    .dataframe thead th {\n",
       "        text-align: right;\n",
       "    }\n",
       "</style>\n",
       "<table border=\"1\" class=\"dataframe\">\n",
       "  <thead>\n",
       "    <tr style=\"text-align: right;\">\n",
       "      <th></th>\n",
       "      <th>title</th>\n",
       "      <th>role</th>\n",
       "      <th>department</th>\n",
       "      <th>area</th>\n",
       "      <th>seniority</th>\n",
       "      <th>function</th>\n",
       "    </tr>\n",
       "  </thead>\n",
       "  <tbody>\n",
       "    <tr>\n",
       "      <th>0</th>\n",
       "      <td>Cloud AI Engineer, Professional Services</td>\n",
       "      <td>Cloud AI Engineer</td>\n",
       "      <td>Professional Services</td>\n",
       "      <td>None</td>\n",
       "      <td>l3-l4</td>\n",
       "      <td>engineer</td>\n",
       "    </tr>\n",
       "    <tr>\n",
       "      <th>1</th>\n",
       "      <td>Cloud AI Engineer, Professional Services</td>\n",
       "      <td>Cloud AI Engineer</td>\n",
       "      <td>Professional Services</td>\n",
       "      <td>None</td>\n",
       "      <td>l3-l4</td>\n",
       "      <td>engineer</td>\n",
       "    </tr>\n",
       "    <tr>\n",
       "      <th>2</th>\n",
       "      <td>Conversational AI Engineer, Google Cloud Profe...</td>\n",
       "      <td>Conversational AI Engineer</td>\n",
       "      <td>Google Cloud Professional Services</td>\n",
       "      <td>None</td>\n",
       "      <td>l3-l4</td>\n",
       "      <td>engineer</td>\n",
       "    </tr>\n",
       "    <tr>\n",
       "      <th>3</th>\n",
       "      <td>Cloud AI Engineer, Professional Services</td>\n",
       "      <td>Cloud AI Engineer</td>\n",
       "      <td>Professional Services</td>\n",
       "      <td>None</td>\n",
       "      <td>l3-l4</td>\n",
       "      <td>engineer</td>\n",
       "    </tr>\n",
       "    <tr>\n",
       "      <th>4</th>\n",
       "      <td>Data Scientist, Engineering</td>\n",
       "      <td>Data Scientist</td>\n",
       "      <td>Engineering</td>\n",
       "      <td>None</td>\n",
       "      <td>l3-l4</td>\n",
       "      <td>scientist</td>\n",
       "    </tr>\n",
       "  </tbody>\n",
       "</table>\n",
       "</div>"
      ],
      "text/plain": [
       "                                               title  \\\n",
       "0           Cloud AI Engineer, Professional Services   \n",
       "1           Cloud AI Engineer, Professional Services   \n",
       "2  Conversational AI Engineer, Google Cloud Profe...   \n",
       "3           Cloud AI Engineer, Professional Services   \n",
       "4                        Data Scientist, Engineering   \n",
       "\n",
       "                         role                           department  area  \\\n",
       "0           Cloud AI Engineer                Professional Services  None   \n",
       "1           Cloud AI Engineer                Professional Services  None   \n",
       "2  Conversational AI Engineer   Google Cloud Professional Services  None   \n",
       "3           Cloud AI Engineer                Professional Services  None   \n",
       "4              Data Scientist                          Engineering  None   \n",
       "\n",
       "  seniority   function  \n",
       "0     l3-l4   engineer  \n",
       "1     l3-l4   engineer  \n",
       "2     l3-l4   engineer  \n",
       "3     l3-l4   engineer  \n",
       "4     l3-l4  scientist  "
      ]
     },
     "execution_count": 29,
     "metadata": {},
     "output_type": "execute_result"
    }
   ],
   "source": [
    "ads[['title', 'role', 'department', 'area', 'seniority', 'function']].head()"
   ]
  },
  {
   "cell_type": "markdown",
   "metadata": {},
   "source": [
    "An interesting insight could be to see the most relevant terms from the qualifications and responsibilities with regards to the function. This could give us an isight into the keywords that one should emphasize on in their resume."
   ]
  },
  {
   "cell_type": "code",
   "execution_count": 30,
   "metadata": {},
   "outputs": [
    {
     "data": {
      "text/plain": [
       "l3-l4        377\n",
       "staff         58\n",
       "senior        39\n",
       "intern        35\n",
       "lead          27\n",
       "manager       22\n",
       "principal      8\n",
       "head           1\n",
       "Name: seniority, dtype: int64"
      ]
     },
     "execution_count": 30,
     "metadata": {},
     "output_type": "execute_result"
    }
   ],
   "source": [
    "ads.seniority.value_counts()"
   ]
  },
  {
   "cell_type": "code",
   "execution_count": 31,
   "metadata": {},
   "outputs": [
    {
     "data": {
      "text/plain": [
       "Mountain View          93\n",
       "Sunnyvale              53\n",
       "Bengaluru              36\n",
       "Xindian District       23\n",
       "Warsaw                 21\n",
       "                       ..\n",
       "Oslo                    1\n",
       "Minneapolis             1\n",
       "Zhubei, Zhubei City     1\n",
       "Stockholm               1\n",
       "Addison                 1\n",
       "Name: location, Length: 68, dtype: int64"
      ]
     },
     "execution_count": 31,
     "metadata": {},
     "output_type": "execute_result"
    }
   ],
   "source": [
    "ads.location.value_counts()"
   ]
  },
  {
   "cell_type": "code",
   "execution_count": 32,
   "metadata": {},
   "outputs": [
    {
     "data": {
      "text/plain": [
       "engineer      380\n",
       "architect      74\n",
       "developer      18\n",
       "scientist      16\n",
       "consultant     11\n",
       "analyst        11\n",
       "specialist      3\n",
       "advocate        2\n",
       "Name: function, dtype: int64"
      ]
     },
     "execution_count": 32,
     "metadata": {},
     "output_type": "execute_result"
    }
   ],
   "source": [
    "ads.function.value_counts()"
   ]
  },
  {
   "cell_type": "code",
   "execution_count": 33,
   "metadata": {},
   "outputs": [],
   "source": [
    "to_model = ads[ads.function.isin(['engineer', 'scientist', 'architect'])].copy()"
   ]
  },
  {
   "cell_type": "code",
   "execution_count": 34,
   "metadata": {},
   "outputs": [],
   "source": [
    "label_enc = LabelEncoder()\n",
    "to_model['function_enc'] = label_enc.fit_transform(to_model.function.astype('str'))"
   ]
  },
  {
   "cell_type": "code",
   "execution_count": 197,
   "metadata": {},
   "outputs": [],
   "source": [
    "kwargs = {'stop_words':'english',\n",
    "          'ngram_range':(2, 5),\n",
    "          'strip_accents':'unicode'}\n",
    "\n",
    "text_cols = ['job_descr', 'minimum_qual', 'preferred_qual', 'responsibilities']\n",
    "\n",
    "column_trans = ColumnTransformer([(f'tfidf_{c}', TfidfVectorizer(**kwargs), c) for c in text_cols])\n",
    "\n",
    "multi_col_pipe = Pipeline([('multi_col_tfidf', column_trans),\n",
    "                           ('naive_bayes_clf', MultinomialNB())])"
   ]
  },
  {
   "cell_type": "code",
   "execution_count": 198,
   "metadata": {},
   "outputs": [],
   "source": [
    "# param_grid = dict()\n",
    "# \n",
    "# margins = 0.02\n",
    "# \n",
    "# for c in text_cols:\n",
    "#     param_grid[f'multi_col_tfidf__tfidf_{c}__min_df'] = list(np.arange(0.0, margins, 0.01))\n",
    "#     param_grid[f'multi_col_tfidf__tfidf_{c}__max_df'] = list(np.arange(1.0 - margins, 1.0, 0.01))"
   ]
  },
  {
   "cell_type": "code",
   "execution_count": 200,
   "metadata": {},
   "outputs": [],
   "source": [
    "# grid_search = GridSearchCV(multi_col_pipe, param_grid, cv=3, return_train_score=True)"
   ]
  },
  {
   "cell_type": "code",
   "execution_count": 201,
   "metadata": {},
   "outputs": [],
   "source": [
    "# %timeit\n",
    "# grid_res = grid_search.fit(to_model.drop('function_enc', axis=1), to_model.function_enc)"
   ]
  },
  {
   "cell_type": "code",
   "execution_count": 202,
   "metadata": {},
   "outputs": [],
   "source": [
    "# best_model = grid_res.best_estimator_"
   ]
  },
  {
   "cell_type": "code",
   "execution_count": 203,
   "metadata": {},
   "outputs": [],
   "source": [
    "# best_model['multi_col_tfidf'].transformers"
   ]
  },
  {
   "cell_type": "code",
   "execution_count": 204,
   "metadata": {},
   "outputs": [],
   "source": [
    "# grid_res.cv_results_"
   ]
  },
  {
   "cell_type": "code",
   "execution_count": null,
   "metadata": {},
   "outputs": [],
   "source": []
  },
  {
   "cell_type": "code",
   "execution_count": null,
   "metadata": {},
   "outputs": [],
   "source": []
  },
  {
   "cell_type": "code",
   "execution_count": null,
   "metadata": {},
   "outputs": [],
   "source": []
  },
  {
   "cell_type": "code",
   "execution_count": 205,
   "metadata": {},
   "outputs": [],
   "source": [
    "X = to_model.drop('function_enc', axis=1)\n",
    "y = to_model.function_enc"
   ]
  },
  {
   "cell_type": "code",
   "execution_count": 206,
   "metadata": {},
   "outputs": [],
   "source": [
    "model = multi_col_pipe.fit(X, y)"
   ]
  },
  {
   "cell_type": "code",
   "execution_count": 207,
   "metadata": {},
   "outputs": [
    {
     "name": "stdout",
     "output_type": "stream",
     "text": [
      "3.31 s ± 230 ms per loop (mean ± std. dev. of 7 runs, 1 loop each)\n"
     ]
    }
   ],
   "source": [
    "%%timeit\n",
    "scores = cross_validate(model, X, y, cv=3, scoring='f1_weighted', return_train_score=True)"
   ]
  },
  {
   "cell_type": "code",
   "execution_count": 208,
   "metadata": {},
   "outputs": [
    {
     "name": "stdout",
     "output_type": "stream",
     "text": [
      "fit_time, mean: 0.45, std: 0.02\n",
      "score_time, mean: 0.15, std: 0.00\n",
      "test_score, mean: 0.88, std: 0.02\n",
      "train_score, mean: 0.99, std: 0.01\n"
     ]
    }
   ],
   "source": [
    "for k in scores.keys():\n",
    "    print(f'{k}, mean: {scores[k].mean():.2f}, std: {scores[k].std():.2f}')"
   ]
  },
  {
   "cell_type": "code",
   "execution_count": 209,
   "metadata": {},
   "outputs": [],
   "source": [
    "importances_mcp = pd.DataFrame(model['naive_bayes_clf'].feature_log_prob_.transpose(),\n",
    "                               columns=label_enc.classes_,\n",
    "                               index=model['multi_col_tfidf'].get_feature_names())"
   ]
  },
  {
   "cell_type": "code",
   "execution_count": 210,
   "metadata": {},
   "outputs": [],
   "source": [
    "col_prefix = re.compile('(' + '|'.join([f'tfidf_{c}__' for c in text_cols]) + ')(.*)')"
   ]
  },
  {
   "cell_type": "code",
   "execution_count": 211,
   "metadata": {},
   "outputs": [],
   "source": [
    "top_n = 10\n",
    "imp_terms = pd.DataFrame()\n",
    "\n",
    "for l in label_enc.classes_:\n",
    "    imp_label = importances_mcp[l].sort_values(ascending=False)[:top_n]\n",
    "    to_append = [{'feature': col_prefix.match(feature_term)[1],\n",
    "                  'term': col_prefix.match(feature_term)[2],\n",
    "                  'impoortance': imp,\n",
    "                  'label': l}\n",
    "                 for feature_term, imp in zip(imp_label.index, imp_label.values)]\n",
    "    imp_terms = imp_terms.append(to_append, ignore_index=True)"
   ]
  },
  {
   "cell_type": "code",
   "execution_count": 214,
   "metadata": {},
   "outputs": [
    {
     "data": {
      "text/html": [
       "<div>\n",
       "<style scoped>\n",
       "    .dataframe tbody tr th:only-of-type {\n",
       "        vertical-align: middle;\n",
       "    }\n",
       "\n",
       "    .dataframe tbody tr th {\n",
       "        vertical-align: top;\n",
       "    }\n",
       "\n",
       "    .dataframe thead th {\n",
       "        text-align: right;\n",
       "    }\n",
       "</style>\n",
       "<table border=\"1\" class=\"dataframe\">\n",
       "  <thead>\n",
       "    <tr style=\"text-align: right;\">\n",
       "      <th>feature</th>\n",
       "      <th>tfidf_minimum_qual__</th>\n",
       "    </tr>\n",
       "    <tr>\n",
       "      <th>term</th>\n",
       "      <th></th>\n",
       "    </tr>\n",
       "  </thead>\n",
       "  <tbody>\n",
       "    <tr>\n",
       "      <th>degree statistics</th>\n",
       "      <td>1</td>\n",
       "    </tr>\n",
       "    <tr>\n",
       "      <th>degree statistics computer</th>\n",
       "      <td>1</td>\n",
       "    </tr>\n",
       "    <tr>\n",
       "      <th>degree statistics computer science</th>\n",
       "      <td>1</td>\n",
       "    </tr>\n",
       "    <tr>\n",
       "      <th>experience data</th>\n",
       "      <td>1</td>\n",
       "    </tr>\n",
       "    <tr>\n",
       "      <th>machine learning</th>\n",
       "      <td>1</td>\n",
       "    </tr>\n",
       "    <tr>\n",
       "      <th>operations research</th>\n",
       "      <td>1</td>\n",
       "    </tr>\n",
       "    <tr>\n",
       "      <th>quantitative discipline</th>\n",
       "      <td>1</td>\n",
       "    </tr>\n",
       "    <tr>\n",
       "      <th>statistical software</th>\n",
       "      <td>1</td>\n",
       "    </tr>\n",
       "    <tr>\n",
       "      <th>statistics computer</th>\n",
       "      <td>1</td>\n",
       "    </tr>\n",
       "    <tr>\n",
       "      <th>statistics computer science</th>\n",
       "      <td>1</td>\n",
       "    </tr>\n",
       "  </tbody>\n",
       "</table>\n",
       "</div>"
      ],
      "text/plain": [
       "feature                             tfidf_minimum_qual__\n",
       "term                                                    \n",
       "degree statistics                                      1\n",
       "degree statistics computer                             1\n",
       "degree statistics computer science                     1\n",
       "experience data                                        1\n",
       "machine learning                                       1\n",
       "operations research                                    1\n",
       "quantitative discipline                                1\n",
       "statistical software                                   1\n",
       "statistics computer                                    1\n",
       "statistics computer science                            1"
      ]
     },
     "execution_count": 214,
     "metadata": {},
     "output_type": "execute_result"
    }
   ],
   "source": [
    "to_crosstab = imp_terms[imp_terms.label=='scientist']\n",
    "\n",
    "pd.crosstab(to_crosstab.term, to_crosstab.feature)"
   ]
  },
  {
   "cell_type": "code",
   "execution_count": null,
   "metadata": {},
   "outputs": [],
   "source": []
  }
 ],
 "metadata": {
  "kernelspec": {
   "display_name": "Python 3",
   "language": "python",
   "name": "python3"
  },
  "language_info": {
   "codemirror_mode": {
    "name": "ipython",
    "version": 3
   },
   "file_extension": ".py",
   "mimetype": "text/x-python",
   "name": "python",
   "nbconvert_exporter": "python",
   "pygments_lexer": "ipython3",
   "version": "3.7.6"
  },
  "widgets": {
   "application/vnd.jupyter.widget-state+json": {
    "state": {},
    "version_major": 2,
    "version_minor": 0
   }
  }
 },
 "nbformat": 4,
 "nbformat_minor": 4
}
