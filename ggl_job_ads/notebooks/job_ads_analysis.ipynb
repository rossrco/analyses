{
 "cells": [
  {
   "cell_type": "markdown",
   "metadata": {},
   "source": [
    "In this analysis, we will explore a dataset of google job ads. Those ads correspond either to the search string `machine learning engineer` or `data scientist`."
   ]
  },
  {
   "cell_type": "code",
   "execution_count": 1,
   "metadata": {},
   "outputs": [],
   "source": [
    "import os\n",
    "import io\n",
    "import re\n",
    "import yaml\n",
    "\n",
    "import pandas as pd\n",
    "import numpy as np\n",
    "\n",
    "from stemming import porter2\n",
    "\n",
    "from sklearn.feature_extraction.text import TfidfVectorizer, CountVectorizer, TfidfTransformer\n",
    "from sklearn.naive_bayes import MultinomialNB\n",
    "from sklearn.pipeline import Pipeline\n",
    "from sklearn.preprocessing import LabelEncoder\n",
    "from sklearn.model_selection import cross_validate\n",
    "from sklearn.compose import ColumnTransformer\n",
    "\n",
    "import matplotlib.pyplot as plt\n",
    "import seaborn as sns\n",
    "\n",
    "from google.cloud import storage"
   ]
  },
  {
   "cell_type": "code",
   "execution_count": 2,
   "metadata": {},
   "outputs": [],
   "source": [
    "config_path = os.path.abspath(os.path.join(os.getcwd(), '..', 'config.yaml'))\n",
    "with open(config_path, 'r') as config_file:\n",
    "    config = yaml.load(config_file, Loader=yaml.SafeLoader)"
   ]
  },
  {
   "cell_type": "code",
   "execution_count": 3,
   "metadata": {},
   "outputs": [],
   "source": [
    "%matplotlib inline"
   ]
  },
  {
   "cell_type": "code",
   "execution_count": 4,
   "metadata": {},
   "outputs": [],
   "source": [
    "plt.style.use('fivethirtyeight')\n",
    "plt.rcParams['figure.dpi']= 180"
   ]
  },
  {
   "cell_type": "code",
   "execution_count": 5,
   "metadata": {},
   "outputs": [
    {
     "name": "stderr",
     "output_type": "stream",
     "text": [
      "/Users/ruslan.kozhuharov/venvs/tf/lib/python3.7/site-packages/google/auth/_default.py:69: UserWarning: Your application has authenticated using end user credentials from Google Cloud SDK. We recommend that most server applications use service accounts instead. If your application continues to use end user credentials from Cloud SDK, you might receive a \"quota exceeded\" or \"API not enabled\" error. For more information about service accounts, see https://cloud.google.com/docs/authentication/\n",
      "  warnings.warn(_CLOUD_SDK_CREDENTIALS_WARNING)\n"
     ]
    }
   ],
   "source": [
    "client = storage.Client(config['project'])\n",
    "bucket = client.get_bucket(config['bucket'])\n",
    "blob = bucket.blob(config['dest_file'])\n",
    "file_content = io.BytesIO(blob.download_as_string())\n",
    "\n",
    "ads = pd.read_csv(file_content)"
   ]
  },
  {
   "cell_type": "code",
   "execution_count": 6,
   "metadata": {},
   "outputs": [
    {
     "name": "stdout",
     "output_type": "stream",
     "text": [
      "<class 'pandas.core.frame.DataFrame'>\n",
      "RangeIndex: 556 entries, 0 to 555\n",
      "Data columns (total 7 columns):\n",
      "id                  556 non-null object\n",
      "job_descr           554 non-null object\n",
      "location            551 non-null object\n",
      "minimum_qual        554 non-null object\n",
      "preferred_qual      554 non-null object\n",
      "responsibilities    554 non-null object\n",
      "title               556 non-null object\n",
      "dtypes: object(7)\n",
      "memory usage: 30.5+ KB\n"
     ]
    }
   ],
   "source": [
    "ads.info()"
   ]
  },
  {
   "cell_type": "markdown",
   "metadata": {},
   "source": [
    "First, let us try using simple string operations to derive the additional information from the job title. Such information could be: seniority, function, etc."
   ]
  },
  {
   "cell_type": "code",
   "execution_count": 7,
   "metadata": {},
   "outputs": [],
   "source": [
    "ads.fillna('unknown', inplace=True)"
   ]
  },
  {
   "cell_type": "code",
   "execution_count": 8,
   "metadata": {},
   "outputs": [],
   "source": [
    "ads[['role', 'department', 'area', 'other']] = ads.title.str.split(',', expand=True)"
   ]
  },
  {
   "cell_type": "code",
   "execution_count": 9,
   "metadata": {},
   "outputs": [],
   "source": [
    "seniority_re = r'.*(intern|senior|lead|staff|principal|manager|head).*'\n",
    "function_re = r'.*(engineer|scientist|science|consultant|architect|advocate|developer|analyst|specialist).*'\n",
    "\n",
    "ads['seniority'] = ads.role.str.extract(pat=seniority_re, flags=re.I).fillna('L3-L4')[0].str.lower()\n",
    "ads['function'] = (ads.role.str.extract(pat=function_re, flags=re.I)[0]\n",
    "                   .str.lower().str.replace('science', 'scientist', flags=re.I))"
   ]
  },
  {
   "cell_type": "code",
   "execution_count": 10,
   "metadata": {},
   "outputs": [
    {
     "data": {
      "text/html": [
       "<div>\n",
       "<style scoped>\n",
       "    .dataframe tbody tr th:only-of-type {\n",
       "        vertical-align: middle;\n",
       "    }\n",
       "\n",
       "    .dataframe tbody tr th {\n",
       "        vertical-align: top;\n",
       "    }\n",
       "\n",
       "    .dataframe thead th {\n",
       "        text-align: right;\n",
       "    }\n",
       "</style>\n",
       "<table border=\"1\" class=\"dataframe\">\n",
       "  <thead>\n",
       "    <tr style=\"text-align: right;\">\n",
       "      <th></th>\n",
       "      <th>title</th>\n",
       "      <th>role</th>\n",
       "      <th>department</th>\n",
       "      <th>area</th>\n",
       "      <th>seniority</th>\n",
       "      <th>function</th>\n",
       "    </tr>\n",
       "  </thead>\n",
       "  <tbody>\n",
       "    <tr>\n",
       "      <th>0</th>\n",
       "      <td>Cloud AI Engineer, Professional Services</td>\n",
       "      <td>Cloud AI Engineer</td>\n",
       "      <td>Professional Services</td>\n",
       "      <td>None</td>\n",
       "      <td>l3-l4</td>\n",
       "      <td>engineer</td>\n",
       "    </tr>\n",
       "    <tr>\n",
       "      <th>1</th>\n",
       "      <td>Cloud AI Engineer, Professional Services</td>\n",
       "      <td>Cloud AI Engineer</td>\n",
       "      <td>Professional Services</td>\n",
       "      <td>None</td>\n",
       "      <td>l3-l4</td>\n",
       "      <td>engineer</td>\n",
       "    </tr>\n",
       "    <tr>\n",
       "      <th>2</th>\n",
       "      <td>Conversational AI Engineer, Google Cloud Profe...</td>\n",
       "      <td>Conversational AI Engineer</td>\n",
       "      <td>Google Cloud Professional Services</td>\n",
       "      <td>None</td>\n",
       "      <td>l3-l4</td>\n",
       "      <td>engineer</td>\n",
       "    </tr>\n",
       "    <tr>\n",
       "      <th>3</th>\n",
       "      <td>Cloud AI Engineer, Professional Services</td>\n",
       "      <td>Cloud AI Engineer</td>\n",
       "      <td>Professional Services</td>\n",
       "      <td>None</td>\n",
       "      <td>l3-l4</td>\n",
       "      <td>engineer</td>\n",
       "    </tr>\n",
       "    <tr>\n",
       "      <th>4</th>\n",
       "      <td>Data Scientist, Engineering</td>\n",
       "      <td>Data Scientist</td>\n",
       "      <td>Engineering</td>\n",
       "      <td>None</td>\n",
       "      <td>l3-l4</td>\n",
       "      <td>scientist</td>\n",
       "    </tr>\n",
       "  </tbody>\n",
       "</table>\n",
       "</div>"
      ],
      "text/plain": [
       "                                               title  \\\n",
       "0           Cloud AI Engineer, Professional Services   \n",
       "1           Cloud AI Engineer, Professional Services   \n",
       "2  Conversational AI Engineer, Google Cloud Profe...   \n",
       "3           Cloud AI Engineer, Professional Services   \n",
       "4                        Data Scientist, Engineering   \n",
       "\n",
       "                         role                           department  area  \\\n",
       "0           Cloud AI Engineer                Professional Services  None   \n",
       "1           Cloud AI Engineer                Professional Services  None   \n",
       "2  Conversational AI Engineer   Google Cloud Professional Services  None   \n",
       "3           Cloud AI Engineer                Professional Services  None   \n",
       "4              Data Scientist                          Engineering  None   \n",
       "\n",
       "  seniority   function  \n",
       "0     l3-l4   engineer  \n",
       "1     l3-l4   engineer  \n",
       "2     l3-l4   engineer  \n",
       "3     l3-l4   engineer  \n",
       "4     l3-l4  scientist  "
      ]
     },
     "execution_count": 10,
     "metadata": {},
     "output_type": "execute_result"
    }
   ],
   "source": [
    "ads[['title', 'role', 'department', 'area', 'seniority', 'function']].head()"
   ]
  },
  {
   "cell_type": "markdown",
   "metadata": {},
   "source": [
    "An interesting insight could be to see the most relevant terms from the qualifications and responsibilities with regards to the function. This could give us an isight into the keywords that one should emphasize on in their resume."
   ]
  },
  {
   "cell_type": "code",
   "execution_count": 11,
   "metadata": {},
   "outputs": [
    {
     "data": {
      "text/plain": [
       "engineer      375\n",
       "architect      70\n",
       "developer      18\n",
       "scientist      16\n",
       "consultant     11\n",
       "analyst        11\n",
       "specialist      3\n",
       "advocate        2\n",
       "Name: function, dtype: int64"
      ]
     },
     "execution_count": 11,
     "metadata": {},
     "output_type": "execute_result"
    }
   ],
   "source": [
    "ads.function.value_counts()"
   ]
  },
  {
   "cell_type": "code",
   "execution_count": 12,
   "metadata": {},
   "outputs": [],
   "source": [
    "to_model = ads[ads.function.isin(['engineer', 'scientist', 'architect'])].copy()"
   ]
  },
  {
   "cell_type": "code",
   "execution_count": 13,
   "metadata": {},
   "outputs": [],
   "source": [
    "label_enc = LabelEncoder()\n",
    "to_model['function_enc'] = label_enc.fit_transform(to_model.function.astype('str'))"
   ]
  },
  {
   "cell_type": "code",
   "execution_count": 14,
   "metadata": {},
   "outputs": [],
   "source": [
    "kwargs = {'stop_words':'english',\n",
    "          'ngram_range':(1, 10),\n",
    "          'min_df':0.05,\n",
    "          'max_df':0.95,\n",
    "          'strip_accents':'unicode'}\n",
    "\n",
    "text_cols = ['job_descr', 'minimum_qual', 'preferred_qual', 'responsibilities']\n",
    "\n",
    "column_trans = ColumnTransformer([(f'tfidf_{c}', TfidfVectorizer(**kwargs), c) for c in text_cols])\n",
    "\n",
    "\n",
    "multi_col_pipe = Pipeline([('multi_col_tfidf', column_trans),\n",
    "                           ('naive_bayes_clf', MultinomialNB())])"
   ]
  },
  {
   "cell_type": "code",
   "execution_count": 16,
   "metadata": {},
   "outputs": [
    {
     "data": {
      "text/plain": [
       "Pipeline(memory=None,\n",
       "         steps=[('multi_col_tfidf',\n",
       "                 ColumnTransformer(n_jobs=None, remainder='drop',\n",
       "                                   sparse_threshold=0.3,\n",
       "                                   transformer_weights=None,\n",
       "                                   transformers=[('tfidf_job_descr',\n",
       "                                                  TfidfVectorizer(analyzer='word',\n",
       "                                                                  binary=False,\n",
       "                                                                  decode_error='strict',\n",
       "                                                                  dtype=<class 'numpy.float64'>,\n",
       "                                                                  encoding='utf-8',\n",
       "                                                                  input='content',\n",
       "                                                                  lowercase=True,\n",
       "                                                                  max_df=0.95,\n",
       "                                                                  max_features=None,\n",
       "                                                                  min...\n",
       "                                                                  max_features=None,\n",
       "                                                                  min_df=0.05,\n",
       "                                                                  ngram_range=(1,\n",
       "                                                                               10),\n",
       "                                                                  norm='l2',\n",
       "                                                                  preprocessor=None,\n",
       "                                                                  smooth_idf=True,\n",
       "                                                                  stop_words='english',\n",
       "                                                                  strip_accents='unicode',\n",
       "                                                                  sublinear_tf=False,\n",
       "                                                                  token_pattern='(?u)\\\\b\\\\w\\\\w+\\\\b',\n",
       "                                                                  tokenizer=None,\n",
       "                                                                  use_idf=True,\n",
       "                                                                  vocabulary=None),\n",
       "                                                  'responsibilities')],\n",
       "                                   verbose=False)),\n",
       "                ('naive_bayes_clf',\n",
       "                 MultinomialNB(alpha=1.0, class_prior=None, fit_prior=True))],\n",
       "         verbose=False)"
      ]
     },
     "execution_count": 16,
     "metadata": {},
     "output_type": "execute_result"
    }
   ],
   "source": [
    "multi_col_pipe.fit(to_model[text_cols], to_model.function_enc)"
   ]
  },
  {
   "cell_type": "code",
   "execution_count": 19,
   "metadata": {},
   "outputs": [
    {
     "name": "stdout",
     "output_type": "stream",
     "text": [
      "CPU times: user 3 µs, sys: 0 ns, total: 3 µs\n",
      "Wall time: 5.25 µs\n"
     ]
    }
   ],
   "source": [
    "%time\n",
    "scores = cross_validate(multi_col_pipe, to_model[text_cols], to_model.function_enc, cv=3, scoring='f1_weighted', return_train_score=True)"
   ]
  },
  {
   "cell_type": "code",
   "execution_count": 20,
   "metadata": {},
   "outputs": [
    {
     "name": "stdout",
     "output_type": "stream",
     "text": [
      "fit_time, mean: 1.16, std: 0.02\n",
      "score_time, mean: 0.30, std: 0.01\n",
      "test_score, mean: 0.79, std: 0.05\n",
      "train_score, mean: 0.79, std: 0.02\n"
     ]
    }
   ],
   "source": [
    "for k in scores.keys():\n",
    "    print(f'{k}, mean: {scores[k].mean():.2f}, std: {scores[k].std():.2f}')"
   ]
  },
  {
   "cell_type": "code",
   "execution_count": 21,
   "metadata": {},
   "outputs": [],
   "source": [
    "importances_mcp = pd.DataFrame(multi_col_pipe['naive_bayes_clf'].feature_log_prob_.transpose(),\n",
    "                               columns=label_enc.classes_,\n",
    "                               index=multi_col_pipe['multi_col_tfidf'].get_feature_names())"
   ]
  },
  {
   "cell_type": "code",
   "execution_count": 22,
   "metadata": {},
   "outputs": [
    {
     "name": "stdout",
     "output_type": "stream",
     "text": [
      "architect\n",
      "--------------------------------------------------------------------------------\n",
      "tfidf_minimum_qual__cloud             -6.564817\n",
      "tfidf_job_descr__cloud                -6.597862\n",
      "tfidf_preferred_qual__experience      -6.680751\n",
      "tfidf_preferred_qual__cloud           -6.745307\n",
      "tfidf_minimum_qual__computing         -6.795373\n",
      "tfidf_job_descr__customers            -6.806507\n",
      "tfidf_responsibilities__power         -6.859997\n",
      "tfidf_minimum_qual__cloud computing   -6.923272\n",
      "tfidf_job_descr__google cloud         -6.939427\n",
      "tfidf_responsibilities__customers     -6.956900\n",
      "Name: architect, dtype: float64\n",
      "\n",
      "\n",
      "--------------------------------------------------------------------------------\n",
      "engineer\n",
      "--------------------------------------------------------------------------------\n",
      "tfidf_preferred_qual__experience   -5.866356\n",
      "tfidf_responsibilities__design     -6.608423\n",
      "tfidf_minimum_qual__development    -6.760669\n",
      "tfidf_minimum_qual__degree         -6.776300\n",
      "tfidf_minimum_qual__software       -6.824406\n",
      "tfidf_responsibilities__systems    -6.836938\n",
      "tfidf_preferred_qual__systems      -6.845283\n",
      "tfidf_minimum_qual__years          -6.846944\n",
      "tfidf_responsibilities__software   -6.855885\n",
      "tfidf_job_descr__cloud             -6.862447\n",
      "Name: engineer, dtype: float64\n",
      "\n",
      "\n",
      "--------------------------------------------------------------------------------\n",
      "scientist\n",
      "--------------------------------------------------------------------------------\n",
      "tfidf_job_descr__research             -7.030840\n",
      "tfidf_preferred_qual__experience      -7.122098\n",
      "tfidf_responsibilities__analysis      -7.207473\n",
      "tfidf_preferred_qual__data            -7.274936\n",
      "tfidf_preferred_qual__analysis        -7.288366\n",
      "tfidf_responsibilities__data          -7.313732\n",
      "tfidf_minimum_qual__data              -7.334435\n",
      "tfidf_minimum_qual__machine           -7.472602\n",
      "tfidf_minimum_qual__experience data   -7.510820\n",
      "tfidf_minimum_qual__learning          -7.515817\n",
      "Name: scientist, dtype: float64\n",
      "\n",
      "\n",
      "--------------------------------------------------------------------------------\n"
     ]
    }
   ],
   "source": [
    "for l in label_enc.classes_:\n",
    "    print(l)\n",
    "    print('-'*80)\n",
    "    print(importances_mcp[l].sort_values(ascending=False)[:10])\n",
    "    print('\\n')\n",
    "    print('-'*80)"
   ]
  },
  {
   "cell_type": "code",
   "execution_count": null,
   "metadata": {},
   "outputs": [],
   "source": []
  }
 ],
 "metadata": {
  "kernelspec": {
   "display_name": "Python 3",
   "language": "python",
   "name": "python3"
  },
  "language_info": {
   "codemirror_mode": {
    "name": "ipython",
    "version": 3
   },
   "file_extension": ".py",
   "mimetype": "text/x-python",
   "name": "python",
   "nbconvert_exporter": "python",
   "pygments_lexer": "ipython3",
   "version": "3.7.6"
  },
  "widgets": {
   "application/vnd.jupyter.widget-state+json": {
    "state": {},
    "version_major": 2,
    "version_minor": 0
   }
  }
 },
 "nbformat": 4,
 "nbformat_minor": 4
}
