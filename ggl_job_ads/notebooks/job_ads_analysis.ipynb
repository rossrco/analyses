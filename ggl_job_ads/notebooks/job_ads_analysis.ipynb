{
 "cells": [
  {
   "cell_type": "markdown",
   "metadata": {},
   "source": [
    "In this analysis, we will explore a dataset of google job ads. Those ads correspond either to the search string `machine learning engineer` or `data scientist`."
   ]
  },
  {
   "cell_type": "code",
   "execution_count": 1,
   "metadata": {},
   "outputs": [],
   "source": [
    "import os\n",
    "import io\n",
    "import re\n",
    "import yaml\n",
    "\n",
    "import pandas as pd\n",
    "import numpy as np\n",
    "\n",
    "from stemming import porter2\n",
    "\n",
    "from sklearn.feature_extraction.text import TfidfVectorizer, CountVectorizer, TfidfTransformer\n",
    "from sklearn.naive_bayes import MultinomialNB\n",
    "from sklearn.pipeline import Pipeline\n",
    "from sklearn.preprocessing import LabelEncoder\n",
    "\n",
    "import matplotlib.pyplot as plt\n",
    "import seaborn as sns\n",
    "\n",
    "from google.cloud import storage"
   ]
  },
  {
   "cell_type": "code",
   "execution_count": 2,
   "metadata": {},
   "outputs": [],
   "source": [
    "config_path = os.path.abspath(os.path.join(os.getcwd(), '..', 'config.yaml'))\n",
    "with open(config_path, 'r') as config_file:\n",
    "    config = yaml.load(config_file, Loader=yaml.SafeLoader)"
   ]
  },
  {
   "cell_type": "code",
   "execution_count": 3,
   "metadata": {},
   "outputs": [],
   "source": [
    "%matplotlib inline"
   ]
  },
  {
   "cell_type": "code",
   "execution_count": 4,
   "metadata": {},
   "outputs": [],
   "source": [
    "plt.style.use('fivethirtyeight')\n",
    "plt.rcParams['figure.dpi']= 180"
   ]
  },
  {
   "cell_type": "code",
   "execution_count": 5,
   "metadata": {},
   "outputs": [
    {
     "name": "stderr",
     "output_type": "stream",
     "text": [
      "/Users/ruslan.kozhuharov/venvs/tf/lib/python3.7/site-packages/google/auth/_default.py:69: UserWarning: Your application has authenticated using end user credentials from Google Cloud SDK. We recommend that most server applications use service accounts instead. If your application continues to use end user credentials from Cloud SDK, you might receive a \"quota exceeded\" or \"API not enabled\" error. For more information about service accounts, see https://cloud.google.com/docs/authentication/\n",
      "  warnings.warn(_CLOUD_SDK_CREDENTIALS_WARNING)\n"
     ]
    }
   ],
   "source": [
    "client = storage.Client(config['project'])\n",
    "bucket = client.get_bucket(config['bucket'])\n",
    "blob = bucket.blob(config['dest_file'])\n",
    "file_content = io.BytesIO(blob.download_as_string())\n",
    "\n",
    "ads = pd.read_csv(file_content)"
   ]
  },
  {
   "cell_type": "code",
   "execution_count": 6,
   "metadata": {},
   "outputs": [
    {
     "name": "stdout",
     "output_type": "stream",
     "text": [
      "<class 'pandas.core.frame.DataFrame'>\n",
      "RangeIndex: 532 entries, 0 to 531\n",
      "Data columns (total 7 columns):\n",
      "id                  532 non-null object\n",
      "job_descr           530 non-null object\n",
      "location            528 non-null object\n",
      "minimum_qual        530 non-null object\n",
      "preferred_qual      530 non-null object\n",
      "responsibilities    530 non-null object\n",
      "title               532 non-null object\n",
      "dtypes: object(7)\n",
      "memory usage: 29.2+ KB\n"
     ]
    }
   ],
   "source": [
    "ads.info()"
   ]
  },
  {
   "cell_type": "markdown",
   "metadata": {},
   "source": [
    "First, let us try using simple string operations to derive the additional information from the job title. Such information could be: seniority, function, etc."
   ]
  },
  {
   "cell_type": "code",
   "execution_count": 7,
   "metadata": {},
   "outputs": [],
   "source": [
    "ads[['role', 'department', 'area', 'other']] = ads.title.str.split(',', expand=True)"
   ]
  },
  {
   "cell_type": "code",
   "execution_count": 8,
   "metadata": {},
   "outputs": [],
   "source": [
    "seniority_re = r'.*(intern|senior|lead|staff|principal|manager|head).*'\n",
    "function_re = r'.*(engineer|scientist|science|consultant|architect|advocate|developer|analyst|specialist).*'\n",
    "\n",
    "ads['seniority'] = ads.role.str.extract(pat=seniority_re, flags=re.I).fillna('L3-L4')[0].str.lower()\n",
    "ads['function'] = (ads.role.str.extract(pat=function_re, flags=re.I)[0]\n",
    "                   .str.lower().str.replace('science', 'scientist', flags=re.I))"
   ]
  },
  {
   "cell_type": "code",
   "execution_count": 9,
   "metadata": {},
   "outputs": [
    {
     "data": {
      "text/html": [
       "<div>\n",
       "<style scoped>\n",
       "    .dataframe tbody tr th:only-of-type {\n",
       "        vertical-align: middle;\n",
       "    }\n",
       "\n",
       "    .dataframe tbody tr th {\n",
       "        vertical-align: top;\n",
       "    }\n",
       "\n",
       "    .dataframe thead th {\n",
       "        text-align: right;\n",
       "    }\n",
       "</style>\n",
       "<table border=\"1\" class=\"dataframe\">\n",
       "  <thead>\n",
       "    <tr style=\"text-align: right;\">\n",
       "      <th></th>\n",
       "      <th>title</th>\n",
       "      <th>role</th>\n",
       "      <th>department</th>\n",
       "      <th>area</th>\n",
       "      <th>seniority</th>\n",
       "      <th>function</th>\n",
       "    </tr>\n",
       "  </thead>\n",
       "  <tbody>\n",
       "    <tr>\n",
       "      <th>0</th>\n",
       "      <td>Cloud AI Engineer, Professional Services</td>\n",
       "      <td>Cloud AI Engineer</td>\n",
       "      <td>Professional Services</td>\n",
       "      <td>None</td>\n",
       "      <td>l3-l4</td>\n",
       "      <td>engineer</td>\n",
       "    </tr>\n",
       "    <tr>\n",
       "      <th>1</th>\n",
       "      <td>Cloud AI Engineer, Professional Services</td>\n",
       "      <td>Cloud AI Engineer</td>\n",
       "      <td>Professional Services</td>\n",
       "      <td>None</td>\n",
       "      <td>l3-l4</td>\n",
       "      <td>engineer</td>\n",
       "    </tr>\n",
       "    <tr>\n",
       "      <th>2</th>\n",
       "      <td>Conversational AI Engineer, Google Cloud Profe...</td>\n",
       "      <td>Conversational AI Engineer</td>\n",
       "      <td>Google Cloud Professional Services</td>\n",
       "      <td>None</td>\n",
       "      <td>l3-l4</td>\n",
       "      <td>engineer</td>\n",
       "    </tr>\n",
       "    <tr>\n",
       "      <th>3</th>\n",
       "      <td>Cloud AI Engineer, Professional Services</td>\n",
       "      <td>Cloud AI Engineer</td>\n",
       "      <td>Professional Services</td>\n",
       "      <td>None</td>\n",
       "      <td>l3-l4</td>\n",
       "      <td>engineer</td>\n",
       "    </tr>\n",
       "    <tr>\n",
       "      <th>4</th>\n",
       "      <td>Data Scientist, Engineering</td>\n",
       "      <td>Data Scientist</td>\n",
       "      <td>Engineering</td>\n",
       "      <td>None</td>\n",
       "      <td>l3-l4</td>\n",
       "      <td>scientist</td>\n",
       "    </tr>\n",
       "  </tbody>\n",
       "</table>\n",
       "</div>"
      ],
      "text/plain": [
       "                                               title  \\\n",
       "0           Cloud AI Engineer, Professional Services   \n",
       "1           Cloud AI Engineer, Professional Services   \n",
       "2  Conversational AI Engineer, Google Cloud Profe...   \n",
       "3           Cloud AI Engineer, Professional Services   \n",
       "4                        Data Scientist, Engineering   \n",
       "\n",
       "                         role                           department  area  \\\n",
       "0           Cloud AI Engineer                Professional Services  None   \n",
       "1           Cloud AI Engineer                Professional Services  None   \n",
       "2  Conversational AI Engineer   Google Cloud Professional Services  None   \n",
       "3           Cloud AI Engineer                Professional Services  None   \n",
       "4              Data Scientist                          Engineering  None   \n",
       "\n",
       "  seniority   function  \n",
       "0     l3-l4   engineer  \n",
       "1     l3-l4   engineer  \n",
       "2     l3-l4   engineer  \n",
       "3     l3-l4   engineer  \n",
       "4     l3-l4  scientist  "
      ]
     },
     "execution_count": 9,
     "metadata": {},
     "output_type": "execute_result"
    }
   ],
   "source": [
    "ads[['title', 'role', 'department', 'area', 'seniority', 'function']].head()"
   ]
  },
  {
   "cell_type": "markdown",
   "metadata": {},
   "source": [
    "An interesting insight could be to see the most relevant terms from the qualifications and responsibilities with regards to the function. This could give us an isight into the keywords that one should emphasize on in their resume."
   ]
  },
  {
   "cell_type": "code",
   "execution_count": 10,
   "metadata": {},
   "outputs": [
    {
     "data": {
      "text/plain": [
       "engineer      364\n",
       "architect      69\n",
       "developer      18\n",
       "scientist      15\n",
       "consultant     10\n",
       "analyst        10\n",
       "specialist      2\n",
       "advocate        2\n",
       "Name: function, dtype: int64"
      ]
     },
     "execution_count": 10,
     "metadata": {},
     "output_type": "execute_result"
    }
   ],
   "source": [
    "ads.function.value_counts()"
   ]
  },
  {
   "cell_type": "code",
   "execution_count": 11,
   "metadata": {},
   "outputs": [],
   "source": [
    "label_enc = LabelEncoder()\n",
    "ads['function_enc'] = label_enc.fit_transform(ads.function.astype('str'))"
   ]
  },
  {
   "cell_type": "code",
   "execution_count": 12,
   "metadata": {},
   "outputs": [],
   "source": [
    "to_model = ads[ads.minimum_qual.notna()]\n",
    "\n",
    "X = to_model.minimum_qual\n",
    "y = to_model.function_enc"
   ]
  },
  {
   "cell_type": "code",
   "execution_count": 13,
   "metadata": {},
   "outputs": [],
   "source": [
    "text_pipe = Pipeline([('count_vectorizer', CountVectorizer(stop_words='english',\n",
    "                                                           ngram_range=(1, 10),\n",
    "                                                           min_df=0.05, max_df=0.95,\n",
    "                                                           strip_accents='unicode')),\n",
    "                      ('tf_idf_transf', TfidfTransformer()),\n",
    "                      ('naive_bayes_clf', MultinomialNB())])"
   ]
  },
  {
   "cell_type": "code",
   "execution_count": 14,
   "metadata": {},
   "outputs": [
    {
     "data": {
      "text/plain": [
       "Pipeline(memory=None,\n",
       "         steps=[('count_vectorizer',\n",
       "                 CountVectorizer(analyzer='word', binary=False,\n",
       "                                 decode_error='strict',\n",
       "                                 dtype=<class 'numpy.int64'>, encoding='utf-8',\n",
       "                                 input='content', lowercase=True, max_df=0.95,\n",
       "                                 max_features=None, min_df=0.05,\n",
       "                                 ngram_range=(1, 10), preprocessor=None,\n",
       "                                 stop_words='english', strip_accents='unicode',\n",
       "                                 token_pattern='(?u)\\\\b\\\\w\\\\w+\\\\b',\n",
       "                                 tokenizer=None, vocabulary=None)),\n",
       "                ('tf_idf_transf',\n",
       "                 TfidfTransformer(norm='l2', smooth_idf=True,\n",
       "                                  sublinear_tf=False, use_idf=True)),\n",
       "                ('naive_bayes_clf',\n",
       "                 MultinomialNB(alpha=1.0, class_prior=None, fit_prior=True))],\n",
       "         verbose=False)"
      ]
     },
     "execution_count": 14,
     "metadata": {},
     "output_type": "execute_result"
    }
   ],
   "source": [
    "text_pipe.fit(X, y)"
   ]
  },
  {
   "cell_type": "code",
   "execution_count": 15,
   "metadata": {},
   "outputs": [],
   "source": [
    "importances = pd.DataFrame(text_pipe.steps[-1][1].feature_log_prob_.transpose(),\n",
    "                           columns=label_enc.classes_,\n",
    "                           index=text_pipe.steps[0][1].get_feature_names())"
   ]
  },
  {
   "cell_type": "code",
   "execution_count": 16,
   "metadata": {},
   "outputs": [
    {
     "name": "stdout",
     "output_type": "stream",
     "text": [
      "advocate\n",
      "--------------------------------------------------------------------------------\n",
      "technologies           -5.310366\n",
      "cloud                  -5.384257\n",
      "applications           -5.470887\n",
      "experience technical   -5.478780\n",
      "developing             -5.531538\n",
      "technical              -5.533766\n",
      "technology             -5.558950\n",
      "years experience       -5.570774\n",
      "systems                -5.576884\n",
      "machine learning       -5.577526\n",
      "Name: advocate, dtype: float64\n",
      "\n",
      "\n",
      "--------------------------------------------------------------------------------\n",
      "analyst\n",
      "--------------------------------------------------------------------------------\n",
      "sql                                                -4.606693\n",
      "data                                               -4.629347\n",
      "analysis                                           -5.032129\n",
      "statistics                                         -5.104996\n",
      "equivalent practical experience years experience   -5.137152\n",
      "practical experience years experience              -5.139561\n",
      "experience years experience                        -5.148951\n",
      "years experience                                   -5.167062\n",
      "engineering equivalent practical experience        -5.204753\n",
      "engineering equivalent practical                   -5.204753\n",
      "Name: analyst, dtype: float64\n",
      "\n",
      "\n",
      "--------------------------------------------------------------------------------\n",
      "architect\n",
      "--------------------------------------------------------------------------------\n",
      "cloud              -4.227237\n",
      "computing          -4.427179\n",
      "cloud computing    -4.537470\n",
      "years experience   -4.795987\n",
      "years              -4.829646\n",
      "architecture       -4.882164\n",
      "equivalent         -4.897365\n",
      "computer           -4.917925\n",
      "engineering        -4.919290\n",
      "experience cloud   -4.957200\n",
      "Name: architect, dtype: float64\n",
      "\n",
      "\n",
      "--------------------------------------------------------------------------------\n",
      "consultant\n",
      "--------------------------------------------------------------------------------\n",
      "solutions                                      -4.675618\n",
      "technical                                      -5.030262\n",
      "managing                                       -5.132383\n",
      "language                                       -5.177219\n",
      "experience experience                          -5.245859\n",
      "practical experience experience                -5.273843\n",
      "equivalent practical experience experience     -5.273843\n",
      "networking                                     -5.290477\n",
      "cloud                                          -5.325847\n",
      "related technical field equivalent practical   -5.346808\n",
      "Name: consultant, dtype: float64\n",
      "\n",
      "\n",
      "--------------------------------------------------------------------------------\n",
      "developer\n",
      "--------------------------------------------------------------------------------\n",
      "systems            -5.112640\n",
      "engineering        -5.142352\n",
      "developing         -5.156606\n",
      "degree             -5.208593\n",
      "years              -5.211912\n",
      "phd                -5.260566\n",
      "years experience   -5.319553\n",
      "advanced           -5.357669\n",
      "software           -5.358238\n",
      "development        -5.396554\n",
      "Name: developer, dtype: float64\n",
      "\n",
      "\n",
      "--------------------------------------------------------------------------------\n",
      "engineer\n",
      "--------------------------------------------------------------------------------\n",
      "development            -4.647116\n",
      "degree                 -4.730005\n",
      "software               -4.739401\n",
      "years                  -4.794886\n",
      "technical              -4.823257\n",
      "computer               -4.833889\n",
      "practical              -4.884166\n",
      "practical experience   -4.884166\n",
      "bachelor               -4.885759\n",
      "equivalent             -4.895669\n",
      "Name: engineer, dtype: float64\n",
      "\n",
      "\n",
      "--------------------------------------------------------------------------------\n",
      "nan\n",
      "--------------------------------------------------------------------------------\n",
      "product      -4.314612\n",
      "management   -4.721047\n",
      "technical    -4.780138\n",
      "years        -4.848984\n",
      "learning     -4.895521\n",
      "degree       -4.905884\n",
      "science      -4.915448\n",
      "design       -4.996593\n",
      "field        -4.996948\n",
      "computer     -5.006652\n",
      "Name: nan, dtype: float64\n",
      "\n",
      "\n",
      "--------------------------------------------------------------------------------\n",
      "scientist\n",
      "--------------------------------------------------------------------------------\n",
      "data               -4.752164\n",
      "statistics         -4.811791\n",
      "machine            -4.832176\n",
      "learning           -4.874895\n",
      "machine learning   -4.874895\n",
      "phd                -4.913374\n",
      "experience data    -4.936025\n",
      "master degree      -5.015444\n",
      "master             -5.030213\n",
      "mathematics        -5.074064\n",
      "Name: scientist, dtype: float64\n",
      "\n",
      "\n",
      "--------------------------------------------------------------------------------\n",
      "specialist\n",
      "--------------------------------------------------------------------------------\n",
      "experience coding                              -5.467357\n",
      "related field                                  -5.472180\n",
      "experience general purpose                     -5.474494\n",
      "bachelor degree computer science mathematics   -5.476749\n",
      "engineering related                            -5.476749\n",
      "experience general                             -5.476749\n",
      "statistics                                     -5.478946\n",
      "java python experience                         -5.483182\n",
      "degree computer science mathematics            -5.485226\n",
      "science mathematics                            -5.494788\n",
      "Name: specialist, dtype: float64\n",
      "\n",
      "\n",
      "--------------------------------------------------------------------------------\n"
     ]
    }
   ],
   "source": [
    "for l in label_enc.classes_:\n",
    "    print(l)\n",
    "    print('-'*80)\n",
    "    print(importances[l].sort_values(ascending=False)[:10])\n",
    "    print('\\n')\n",
    "    print('-'*80)"
   ]
  },
  {
   "cell_type": "code",
   "execution_count": null,
   "metadata": {},
   "outputs": [],
   "source": []
  },
  {
   "cell_type": "code",
   "execution_count": null,
   "metadata": {},
   "outputs": [],
   "source": []
  }
 ],
 "metadata": {
  "kernelspec": {
   "display_name": "Python 3",
   "language": "python",
   "name": "python3"
  },
  "language_info": {
   "codemirror_mode": {
    "name": "ipython",
    "version": 3
   },
   "file_extension": ".py",
   "mimetype": "text/x-python",
   "name": "python",
   "nbconvert_exporter": "python",
   "pygments_lexer": "ipython3",
   "version": "3.7.6"
  },
  "widgets": {
   "application/vnd.jupyter.widget-state+json": {
    "state": {},
    "version_major": 2,
    "version_minor": 0
   }
  }
 },
 "nbformat": 4,
 "nbformat_minor": 4
}
