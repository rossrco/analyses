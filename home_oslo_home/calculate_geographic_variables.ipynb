{
 "cells": [
  {
   "cell_type": "code",
   "execution_count": 1,
   "metadata": {},
   "outputs": [],
   "source": [
    "import os\n",
    "import requests\n",
    "import json\n",
    "import yaml\n",
    "import pandas as pd\n",
    "from google.cloud import bigquery\n",
    "import google.api_core.exceptions as google_exceptions"
   ]
  },
  {
   "cell_type": "code",
   "execution_count": 2,
   "metadata": {},
   "outputs": [],
   "source": [
    "config = yaml.safe_load(open('config.yaml', 'r'))"
   ]
  },
  {
   "cell_type": "code",
   "execution_count": 3,
   "metadata": {},
   "outputs": [],
   "source": [
    "maps_key = config['google_maps_api_key']"
   ]
  },
  {
   "cell_type": "code",
   "execution_count": 4,
   "metadata": {},
   "outputs": [],
   "source": [
    "query_dir = 'queries'"
   ]
  },
  {
   "cell_type": "code",
   "execution_count": 5,
   "metadata": {},
   "outputs": [],
   "source": [
    "queries = {}\n",
    "for query_file in (os.listdir(query_dir)):\n",
    "    with open(os.path.join(query_dir, query_file), 'r') as query:\n",
    "        queries[query_file] = query.read()"
   ]
  },
  {
   "cell_type": "code",
   "execution_count": 6,
   "metadata": {},
   "outputs": [],
   "source": [
    "query_client = bigquery.Client()"
   ]
  },
  {
   "cell_type": "code",
   "execution_count": 7,
   "metadata": {},
   "outputs": [],
   "source": [
    "def exists_table(table_reference, client):\n",
    "    try:\n",
    "        client.get_table(table_reference)\n",
    "        return True\n",
    "    except google_exceptions.NotFound:\n",
    "        return False"
   ]
  },
  {
   "cell_type": "code",
   "execution_count": 8,
   "metadata": {},
   "outputs": [],
   "source": [
    "if exists_table(f'{config[\"project_id\"]}.{config[\"dataset\"]}.travel_times', query_client):\n",
    "    request = queries['all_buildings_no_google_maps_response.sql']\n",
    "else:\n",
    "    request = queries['all_buildings.sql']"
   ]
  },
  {
   "cell_type": "code",
   "execution_count": 9,
   "metadata": {},
   "outputs": [],
   "source": [
    "real_estate_raw = query_client.query(request).to_dataframe()"
   ]
  },
  {
   "cell_type": "code",
   "execution_count": 10,
   "metadata": {},
   "outputs": [
    {
     "name": "stdout",
     "output_type": "stream",
     "text": [
      "<class 'pandas.core.frame.DataFrame'>\n",
      "RangeIndex: 245 entries, 0 to 244\n",
      "Data columns (total 4 columns):\n",
      "ad_id             245 non-null int64\n",
      "new_building      245 non-null bool\n",
      "property_attrs    245 non-null object\n",
      "address           240 non-null object\n",
      "dtypes: bool(1), int64(1), object(2)\n",
      "memory usage: 6.1+ KB\n"
     ]
    }
   ],
   "source": [
    "real_estate_raw.info()"
   ]
  },
  {
   "cell_type": "code",
   "execution_count": 11,
   "metadata": {},
   "outputs": [],
   "source": [
    "real_estate_raw.set_index(keys='ad_id', drop=True, inplace=True)"
   ]
  },
  {
   "cell_type": "code",
   "execution_count": 12,
   "metadata": {},
   "outputs": [],
   "source": [
    "addresses = real_estate_raw.drop(['new_building', 'property_attrs'], axis=1).drop_duplicates().copy()"
   ]
  },
  {
   "cell_type": "code",
   "execution_count": 13,
   "metadata": {},
   "outputs": [
    {
     "name": "stdout",
     "output_type": "stream",
     "text": [
      "<class 'pandas.core.frame.DataFrame'>\n",
      "Int64Index: 225 entries, 84585697 to 151748367\n",
      "Data columns (total 1 columns):\n",
      "address    224 non-null object\n",
      "dtypes: object(1)\n",
      "memory usage: 3.5+ KB\n"
     ]
    }
   ],
   "source": [
    "addresses.info()"
   ]
  },
  {
   "cell_type": "code",
   "execution_count": 14,
   "metadata": {},
   "outputs": [
    {
     "data": {
      "text/html": [
       "<div>\n",
       "<style scoped>\n",
       "    .dataframe tbody tr th:only-of-type {\n",
       "        vertical-align: middle;\n",
       "    }\n",
       "\n",
       "    .dataframe tbody tr th {\n",
       "        vertical-align: top;\n",
       "    }\n",
       "\n",
       "    .dataframe thead th {\n",
       "        text-align: right;\n",
       "    }\n",
       "</style>\n",
       "<table border=\"1\" class=\"dataframe\">\n",
       "  <thead>\n",
       "    <tr style=\"text-align: right;\">\n",
       "      <th></th>\n",
       "      <th>address</th>\n",
       "    </tr>\n",
       "    <tr>\n",
       "      <th>ad_id</th>\n",
       "      <th></th>\n",
       "    </tr>\n",
       "  </thead>\n",
       "  <tbody>\n",
       "    <tr>\n",
       "      <th>84585697</th>\n",
       "      <td>Blomsterbakken 28, 1487 Hakadal</td>\n",
       "    </tr>\n",
       "    <tr>\n",
       "      <th>86180027</th>\n",
       "      <td>Grensevegen 13, 1929 Auli</td>\n",
       "    </tr>\n",
       "    <tr>\n",
       "      <th>87708616</th>\n",
       "      <td>Furumo - Furumogrenda, 1400 Ski</td>\n",
       "    </tr>\n",
       "    <tr>\n",
       "      <th>88980906</th>\n",
       "      <td>Krydderhagen - Hus D1-D2, 0579 Oslo</td>\n",
       "    </tr>\n",
       "    <tr>\n",
       "      <th>88990917</th>\n",
       "      <td>Ensjøhøyden, Stålverksveien 1, 0661 Oslo</td>\n",
       "    </tr>\n",
       "  </tbody>\n",
       "</table>\n",
       "</div>"
      ],
      "text/plain": [
       "                                           address\n",
       "ad_id                                             \n",
       "84585697           Blomsterbakken 28, 1487 Hakadal\n",
       "86180027                 Grensevegen 13, 1929 Auli\n",
       "87708616           Furumo - Furumogrenda, 1400 Ski\n",
       "88980906       Krydderhagen - Hus D1-D2, 0579 Oslo\n",
       "88990917  Ensjøhøyden, Stålverksveien 1, 0661 Oslo"
      ]
     },
     "execution_count": 14,
     "metadata": {},
     "output_type": "execute_result"
    }
   ],
   "source": [
    "addresses.head()"
   ]
  },
  {
   "cell_type": "code",
   "execution_count": 15,
   "metadata": {},
   "outputs": [],
   "source": [
    "def get_directions(origin, destination, mode, key):\n",
    "    google_maps_url = 'https://maps.googleapis.com/maps/api/directions/json'\n",
    "    params = {'destination': destination, 'origin': origin, 'key': key, 'mode': mode}\n",
    "    response = requests.get(google_maps_url, params=params)\n",
    "    return response"
   ]
  },
  {
   "cell_type": "code",
   "execution_count": 16,
   "metadata": {},
   "outputs": [],
   "source": [
    "def get_min_travel_time_sec(response):\n",
    "    routes = []\n",
    "    for route in response['routes']:\n",
    "        all_legs_duration = 0\n",
    "        for leg in route['legs']:\n",
    "            all_legs_duration += leg['duration']['value']\n",
    "        routes.append(all_legs_duration)\n",
    "    try:\n",
    "        return min(routes)\n",
    "    except ValueError:\n",
    "        return None"
   ]
  },
  {
   "cell_type": "code",
   "execution_count": 17,
   "metadata": {},
   "outputs": [],
   "source": [
    "def get_travel_times_table(maps_responses):\n",
    "    cols = ['ad_id', 'destination', 'time_s']\n",
    "    data = []\n",
    "    for dest in maps_responses.destination.unique():\n",
    "        sub_df = maps_responses[maps_responses.destination==dest].set_index('ad_id', drop=True)\n",
    "        for ad_id, response in sub_df.maps_response.items():\n",
    "            min_time = get_min_travel_time_sec(json.loads(response))\n",
    "            data.append([ad_id, dest, min_time])\n",
    "    return pd.DataFrame(data, columns=cols)"
   ]
  },
  {
   "cell_type": "code",
   "execution_count": 18,
   "metadata": {},
   "outputs": [],
   "source": [
    "def get_directions_jsons(destinations, address_table):\n",
    "    cols = ['ad_id', 'destination', 'maps_response']\n",
    "    data = []\n",
    "    for dest in destinations:\n",
    "        for ad_id, addr in address_table.address.items():\n",
    "            response = get_directions(addr, dest, 'transit', maps_key)\n",
    "            data.append([ad_id, dest, json.dumps(response.json())])\n",
    "    return pd.DataFrame(data, columns=cols)"
   ]
  },
  {
   "cell_type": "code",
   "execution_count": 19,
   "metadata": {},
   "outputs": [],
   "source": [
    "def get_origin_coordinates(maps_responses):\n",
    "    all_dest = maps_responses.destination.unique()\n",
    "    sub_df = maps_responses[maps_responses.destination==all_dest[0]].set_index('ad_id', drop=True)\n",
    "    cols = ['ad_id', 'lat', 'lng']\n",
    "    data = []\n",
    "    for ad_id, response in sub_df.maps_response.items():\n",
    "        response_dict = json.loads(response)\n",
    "        try:\n",
    "            coords = response_dict['routes'][0]['legs'][0]['start_location']\n",
    "            lat = coords['lat']\n",
    "            lng = coords['lng']\n",
    "        except IndexError as e:\n",
    "            lat = None\n",
    "            lng = None\n",
    "        data.append([ad_id, lat, lng])\n",
    "    return pd.DataFrame(data, columns=cols)"
   ]
  },
  {
   "cell_type": "code",
   "execution_count": 20,
   "metadata": {},
   "outputs": [],
   "source": [
    "def get_destination_coordinates():\n",
    "    pass"
   ]
  },
  {
   "cell_type": "code",
   "execution_count": 21,
   "metadata": {},
   "outputs": [],
   "source": [
    "common_destination = 'Nationaltheatret, Oslo'"
   ]
  },
  {
   "cell_type": "code",
   "execution_count": 22,
   "metadata": {},
   "outputs": [],
   "source": [
    "all_api_results = get_directions_jsons([common_destination], addresses)"
   ]
  },
  {
   "cell_type": "code",
   "execution_count": 23,
   "metadata": {},
   "outputs": [
    {
     "data": {
      "text/html": [
       "<div>\n",
       "<style scoped>\n",
       "    .dataframe tbody tr th:only-of-type {\n",
       "        vertical-align: middle;\n",
       "    }\n",
       "\n",
       "    .dataframe tbody tr th {\n",
       "        vertical-align: top;\n",
       "    }\n",
       "\n",
       "    .dataframe thead th {\n",
       "        text-align: right;\n",
       "    }\n",
       "</style>\n",
       "<table border=\"1\" class=\"dataframe\">\n",
       "  <thead>\n",
       "    <tr style=\"text-align: right;\">\n",
       "      <th></th>\n",
       "      <th>ad_id</th>\n",
       "      <th>destination</th>\n",
       "      <th>maps_response</th>\n",
       "    </tr>\n",
       "  </thead>\n",
       "  <tbody>\n",
       "    <tr>\n",
       "      <th>0</th>\n",
       "      <td>84585697</td>\n",
       "      <td>Nationaltheatret, Oslo</td>\n",
       "      <td>{\"geocoded_waypoints\": [{\"geocoder_status\": \"O...</td>\n",
       "    </tr>\n",
       "    <tr>\n",
       "      <th>1</th>\n",
       "      <td>86180027</td>\n",
       "      <td>Nationaltheatret, Oslo</td>\n",
       "      <td>{\"geocoded_waypoints\": [{\"geocoder_status\": \"O...</td>\n",
       "    </tr>\n",
       "    <tr>\n",
       "      <th>2</th>\n",
       "      <td>87708616</td>\n",
       "      <td>Nationaltheatret, Oslo</td>\n",
       "      <td>{\"geocoded_waypoints\": [{\"geocoder_status\": \"Z...</td>\n",
       "    </tr>\n",
       "    <tr>\n",
       "      <th>3</th>\n",
       "      <td>88980906</td>\n",
       "      <td>Nationaltheatret, Oslo</td>\n",
       "      <td>{\"geocoded_waypoints\": [{\"geocoder_status\": \"O...</td>\n",
       "    </tr>\n",
       "    <tr>\n",
       "      <th>4</th>\n",
       "      <td>88990917</td>\n",
       "      <td>Nationaltheatret, Oslo</td>\n",
       "      <td>{\"geocoded_waypoints\": [{\"geocoder_status\": \"Z...</td>\n",
       "    </tr>\n",
       "  </tbody>\n",
       "</table>\n",
       "</div>"
      ],
      "text/plain": [
       "      ad_id             destination  \\\n",
       "0  84585697  Nationaltheatret, Oslo   \n",
       "1  86180027  Nationaltheatret, Oslo   \n",
       "2  87708616  Nationaltheatret, Oslo   \n",
       "3  88980906  Nationaltheatret, Oslo   \n",
       "4  88990917  Nationaltheatret, Oslo   \n",
       "\n",
       "                                       maps_response  \n",
       "0  {\"geocoded_waypoints\": [{\"geocoder_status\": \"O...  \n",
       "1  {\"geocoded_waypoints\": [{\"geocoder_status\": \"O...  \n",
       "2  {\"geocoded_waypoints\": [{\"geocoder_status\": \"Z...  \n",
       "3  {\"geocoded_waypoints\": [{\"geocoder_status\": \"O...  \n",
       "4  {\"geocoded_waypoints\": [{\"geocoder_status\": \"Z...  "
      ]
     },
     "execution_count": 23,
     "metadata": {},
     "output_type": "execute_result"
    }
   ],
   "source": [
    "all_api_results.head()"
   ]
  },
  {
   "cell_type": "code",
   "execution_count": 24,
   "metadata": {},
   "outputs": [],
   "source": [
    "all_api_results.to_gbq(destination_table='housing_data.google_maps_responses',\n",
    "                       project_id='hde-test-clean',\n",
    "                       if_exists='append')"
   ]
  },
  {
   "cell_type": "code",
   "execution_count": 25,
   "metadata": {},
   "outputs": [],
   "source": [
    "travel_times = get_travel_times_table(all_api_results)"
   ]
  },
  {
   "cell_type": "code",
   "execution_count": 26,
   "metadata": {},
   "outputs": [
    {
     "data": {
      "text/html": [
       "<div>\n",
       "<style scoped>\n",
       "    .dataframe tbody tr th:only-of-type {\n",
       "        vertical-align: middle;\n",
       "    }\n",
       "\n",
       "    .dataframe tbody tr th {\n",
       "        vertical-align: top;\n",
       "    }\n",
       "\n",
       "    .dataframe thead th {\n",
       "        text-align: right;\n",
       "    }\n",
       "</style>\n",
       "<table border=\"1\" class=\"dataframe\">\n",
       "  <thead>\n",
       "    <tr style=\"text-align: right;\">\n",
       "      <th></th>\n",
       "      <th>ad_id</th>\n",
       "      <th>destination</th>\n",
       "      <th>time_s</th>\n",
       "    </tr>\n",
       "  </thead>\n",
       "  <tbody>\n",
       "    <tr>\n",
       "      <th>0</th>\n",
       "      <td>84585697</td>\n",
       "      <td>Nationaltheatret, Oslo</td>\n",
       "      <td>4506.0</td>\n",
       "    </tr>\n",
       "    <tr>\n",
       "      <th>1</th>\n",
       "      <td>86180027</td>\n",
       "      <td>Nationaltheatret, Oslo</td>\n",
       "      <td>8294.0</td>\n",
       "    </tr>\n",
       "    <tr>\n",
       "      <th>2</th>\n",
       "      <td>87708616</td>\n",
       "      <td>Nationaltheatret, Oslo</td>\n",
       "      <td>NaN</td>\n",
       "    </tr>\n",
       "    <tr>\n",
       "      <th>3</th>\n",
       "      <td>88980906</td>\n",
       "      <td>Nationaltheatret, Oslo</td>\n",
       "      <td>1375.0</td>\n",
       "    </tr>\n",
       "    <tr>\n",
       "      <th>4</th>\n",
       "      <td>88990917</td>\n",
       "      <td>Nationaltheatret, Oslo</td>\n",
       "      <td>NaN</td>\n",
       "    </tr>\n",
       "  </tbody>\n",
       "</table>\n",
       "</div>"
      ],
      "text/plain": [
       "      ad_id             destination  time_s\n",
       "0  84585697  Nationaltheatret, Oslo  4506.0\n",
       "1  86180027  Nationaltheatret, Oslo  8294.0\n",
       "2  87708616  Nationaltheatret, Oslo     NaN\n",
       "3  88980906  Nationaltheatret, Oslo  1375.0\n",
       "4  88990917  Nationaltheatret, Oslo     NaN"
      ]
     },
     "execution_count": 26,
     "metadata": {},
     "output_type": "execute_result"
    }
   ],
   "source": [
    "travel_times.head()"
   ]
  },
  {
   "cell_type": "code",
   "execution_count": 27,
   "metadata": {},
   "outputs": [
    {
     "name": "stdout",
     "output_type": "stream",
     "text": [
      "<class 'pandas.core.frame.DataFrame'>\n",
      "RangeIndex: 225 entries, 0 to 224\n",
      "Data columns (total 3 columns):\n",
      "ad_id          225 non-null int64\n",
      "destination    225 non-null object\n",
      "time_s         220 non-null float64\n",
      "dtypes: float64(1), int64(1), object(1)\n",
      "memory usage: 5.4+ KB\n"
     ]
    }
   ],
   "source": [
    "travel_times.info()"
   ]
  },
  {
   "cell_type": "code",
   "execution_count": 28,
   "metadata": {},
   "outputs": [],
   "source": [
    "travel_times.to_gbq(destination_table='housing_data.travel_times',\n",
    "                    project_id='hde-test-clean',\n",
    "                    if_exists='append')"
   ]
  },
  {
   "cell_type": "code",
   "execution_count": 29,
   "metadata": {},
   "outputs": [],
   "source": [
    "ad_coordinates = get_origin_coordinates(all_api_results)"
   ]
  },
  {
   "cell_type": "code",
   "execution_count": 30,
   "metadata": {},
   "outputs": [
    {
     "name": "stdout",
     "output_type": "stream",
     "text": [
      "<class 'pandas.core.frame.DataFrame'>\n",
      "RangeIndex: 225 entries, 0 to 224\n",
      "Data columns (total 3 columns):\n",
      "ad_id    225 non-null int64\n",
      "lat      220 non-null float64\n",
      "lng      220 non-null float64\n",
      "dtypes: float64(2), int64(1)\n",
      "memory usage: 5.4 KB\n"
     ]
    }
   ],
   "source": [
    "ad_coordinates.info()"
   ]
  },
  {
   "cell_type": "code",
   "execution_count": 31,
   "metadata": {},
   "outputs": [],
   "source": [
    "ad_coordinates.to_gbq(destination_table='housing_data.ad_coordinates',\n",
    "                      project_id='hde-test-clean',\n",
    "                      if_exists='append')"
   ]
  },
  {
   "cell_type": "code",
   "execution_count": null,
   "metadata": {},
   "outputs": [],
   "source": []
  }
 ],
 "metadata": {
  "kernelspec": {
   "display_name": "Python 3",
   "language": "python",
   "name": "python3"
  },
  "language_info": {
   "codemirror_mode": {
    "name": "ipython",
    "version": 3
   },
   "file_extension": ".py",
   "mimetype": "text/x-python",
   "name": "python",
   "nbconvert_exporter": "python",
   "pygments_lexer": "ipython3",
   "version": "3.7.3"
  }
 },
 "nbformat": 4,
 "nbformat_minor": 2
}
