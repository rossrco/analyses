{
 "cells": [
  {
   "cell_type": "code",
   "execution_count": 43,
   "metadata": {},
   "outputs": [],
   "source": [
    "import os\n",
    "import requests\n",
    "import json\n",
    "import yaml\n",
    "import pandas as pd\n",
    "from google.cloud import bigquery\n",
    "import google.api_core.exceptions as google_exceptions"
   ]
  },
  {
   "cell_type": "code",
   "execution_count": 21,
   "metadata": {},
   "outputs": [],
   "source": [
    "config = yaml.safe_load(open('config.yaml', 'r'))"
   ]
  },
  {
   "cell_type": "code",
   "execution_count": 22,
   "metadata": {},
   "outputs": [],
   "source": [
    "maps_key = config['google_maps_api_key']"
   ]
  },
  {
   "cell_type": "code",
   "execution_count": 23,
   "metadata": {},
   "outputs": [],
   "source": [
    "query_dir = 'queries'"
   ]
  },
  {
   "cell_type": "code",
   "execution_count": 24,
   "metadata": {},
   "outputs": [],
   "source": [
    "queries = {}\n",
    "for query_file in (os.listdir(query_dir)):\n",
    "    with open(os.path.join(query_dir, query_file), 'r') as query:\n",
    "        queries[query_file] = query.read()"
   ]
  },
  {
   "cell_type": "code",
   "execution_count": 25,
   "metadata": {},
   "outputs": [],
   "source": [
    "query_client = bigquery.Client()"
   ]
  },
  {
   "cell_type": "code",
   "execution_count": 26,
   "metadata": {},
   "outputs": [],
   "source": [
    "def exists_table(table_reference, client):\n",
    "    try:\n",
    "        client.get_table(table_reference)\n",
    "        return True\n",
    "    except google_exceptions.NotFound:\n",
    "        return False"
   ]
  },
  {
   "cell_type": "code",
   "execution_count": 27,
   "metadata": {},
   "outputs": [],
   "source": [
    "if exists_table(f'{config[\"project_id\"]}.{config[\"dataset\"]}.travel_times', query_client):\n",
    "    request = queries['all_buildings_that_have_not_been_processed.sql']\n",
    "else:\n",
    "    request = queries['all_buildings.sql']"
   ]
  },
  {
   "cell_type": "code",
   "execution_count": 28,
   "metadata": {},
   "outputs": [],
   "source": [
    "real_estate_raw = query_client.query(request).to_dataframe()"
   ]
  },
  {
   "cell_type": "code",
   "execution_count": 29,
   "metadata": {},
   "outputs": [
    {
     "name": "stdout",
     "output_type": "stream",
     "text": [
      "<class 'pandas.core.frame.DataFrame'>\n",
      "RangeIndex: 1572 entries, 0 to 1571\n",
      "Data columns (total 4 columns):\n",
      "ad_id             1572 non-null int64\n",
      "new_building      1572 non-null bool\n",
      "property_attrs    1572 non-null object\n",
      "address           1572 non-null object\n",
      "dtypes: bool(1), int64(1), object(2)\n",
      "memory usage: 38.5+ KB\n"
     ]
    }
   ],
   "source": [
    "real_estate_raw.info()"
   ]
  },
  {
   "cell_type": "code",
   "execution_count": 30,
   "metadata": {},
   "outputs": [],
   "source": [
    "real_estate_raw.set_index(keys='ad_id', drop=True, inplace=True)"
   ]
  },
  {
   "cell_type": "code",
   "execution_count": 31,
   "metadata": {},
   "outputs": [],
   "source": [
    "addresses = real_estate_raw.drop(['new_building', 'property_attrs'], axis=1).drop_duplicates().copy()"
   ]
  },
  {
   "cell_type": "code",
   "execution_count": 32,
   "metadata": {},
   "outputs": [
    {
     "name": "stdout",
     "output_type": "stream",
     "text": [
      "<class 'pandas.core.frame.DataFrame'>\n",
      "Int64Index: 949 entries, 85287718 to 150541271\n",
      "Data columns (total 1 columns):\n",
      "address    949 non-null object\n",
      "dtypes: object(1)\n",
      "memory usage: 14.8+ KB\n"
     ]
    }
   ],
   "source": [
    "addresses.info()"
   ]
  },
  {
   "cell_type": "code",
   "execution_count": 33,
   "metadata": {},
   "outputs": [
    {
     "data": {
      "text/html": [
       "<div>\n",
       "<style scoped>\n",
       "    .dataframe tbody tr th:only-of-type {\n",
       "        vertical-align: middle;\n",
       "    }\n",
       "\n",
       "    .dataframe tbody tr th {\n",
       "        vertical-align: top;\n",
       "    }\n",
       "\n",
       "    .dataframe thead th {\n",
       "        text-align: right;\n",
       "    }\n",
       "</style>\n",
       "<table border=\"1\" class=\"dataframe\">\n",
       "  <thead>\n",
       "    <tr style=\"text-align: right;\">\n",
       "      <th></th>\n",
       "      <th>address</th>\n",
       "    </tr>\n",
       "    <tr>\n",
       "      <th>ad_id</th>\n",
       "      <th></th>\n",
       "    </tr>\n",
       "  </thead>\n",
       "  <tbody>\n",
       "    <tr>\n",
       "      <th>85287718</th>\n",
       "      <td>Innspurten 6, 0663 Oslo</td>\n",
       "    </tr>\n",
       "    <tr>\n",
       "      <th>90151696</th>\n",
       "      <td>Ammerudveien 62, 0958 Oslo</td>\n",
       "    </tr>\n",
       "    <tr>\n",
       "      <th>91411206</th>\n",
       "      <td>Lillebergtunet borettslag, Hus A, trinn 1, 066...</td>\n",
       "    </tr>\n",
       "    <tr>\n",
       "      <th>93367028</th>\n",
       "      <td>Frysjaveien 42 -  trinn 1, 0884 Oslo</td>\n",
       "    </tr>\n",
       "    <tr>\n",
       "      <th>95247107</th>\n",
       "      <td>Lillebergtunet borettlslag, Hus B, trinn 2, Ma...</td>\n",
       "    </tr>\n",
       "  </tbody>\n",
       "</table>\n",
       "</div>"
      ],
      "text/plain": [
       "                                                    address\n",
       "ad_id                                                      \n",
       "85287718                            Innspurten 6, 0663 Oslo\n",
       "90151696                         Ammerudveien 62, 0958 Oslo\n",
       "91411206  Lillebergtunet borettslag, Hus A, trinn 1, 066...\n",
       "93367028               Frysjaveien 42 -  trinn 1, 0884 Oslo\n",
       "95247107  Lillebergtunet borettlslag, Hus B, trinn 2, Ma..."
      ]
     },
     "execution_count": 33,
     "metadata": {},
     "output_type": "execute_result"
    }
   ],
   "source": [
    "addresses.head()"
   ]
  },
  {
   "cell_type": "code",
   "execution_count": 34,
   "metadata": {},
   "outputs": [],
   "source": [
    "def get_directions(origin, destination, mode, key):\n",
    "    google_maps_url = 'https://maps.googleapis.com/maps/api/directions/json'\n",
    "    params = {'destination': destination, 'origin': origin, 'key': key, 'mode': mode}\n",
    "    response = requests.get(google_maps_url, params=params)\n",
    "    return response"
   ]
  },
  {
   "cell_type": "code",
   "execution_count": 52,
   "metadata": {},
   "outputs": [],
   "source": [
    "def get_min_travel_time_sec(response):\n",
    "    routes = []\n",
    "    for route in response['routes']:\n",
    "        all_legs_duration = 0\n",
    "        for leg in route['legs']:\n",
    "            all_legs_duration += leg['duration']['value']\n",
    "        routes.append(all_legs_duration)\n",
    "    try:\n",
    "        return min(routes)\n",
    "    except ValueError:\n",
    "        return None"
   ]
  },
  {
   "cell_type": "code",
   "execution_count": 68,
   "metadata": {},
   "outputs": [],
   "source": [
    "def get_travel_times_table(maps_responses):\n",
    "    cols = ['ad_id', 'destination', 'time_s']\n",
    "    data = []\n",
    "    for dest in maps_responses.dest.unique():\n",
    "        sub_df = maps_responses[maps_responses.dest==dest].set_index('ad_id', drop=True)\n",
    "        for ad_id, response in sub_df.maps_response.items():\n",
    "            min_time = get_min_travel_time_sec(json.loads(response))\n",
    "            data.append([ad_id, dest, min_time])\n",
    "    return pd.DataFrame(data, columns=cols)"
   ]
  },
  {
   "cell_type": "code",
   "execution_count": 39,
   "metadata": {},
   "outputs": [],
   "source": [
    "def get_directions_jsons(destinations, address_table):\n",
    "    cols = ['ad_id', 'destination', 'maps_response']\n",
    "    data = []\n",
    "    for dest in destinations:\n",
    "        for ad_id, addr in address_table.address.items():\n",
    "            response = get_directions(addr, dest, 'transit', maps_key)\n",
    "            data.append([ad_id, dest, json.dumps(response.json())])\n",
    "    return pd.DataFrame(data, columns=cols)"
   ]
  },
  {
   "cell_type": "code",
   "execution_count": 163,
   "metadata": {},
   "outputs": [],
   "source": [
    "def get_origin_coordinates(maps_responses):\n",
    "    all_dest = maps_responses.destination.unique()\n",
    "    sub_df = maps_responses[maps_responses.destination==all_dest[0]].set_index('ad_id', drop=True)\n",
    "    cols = ['ad_id', 'lat', 'lng']\n",
    "    data = []\n",
    "    for ad_id, response in sub_df.maps_response.items():\n",
    "        response_dict = json.loads(response)\n",
    "        try:\n",
    "            coords = response_dict['routes'][0]['legs'][0]['start_location']\n",
    "            lat = coords['lat']\n",
    "            lng = coords['lng']\n",
    "        except IndexError as e:\n",
    "            lat = None\n",
    "            lng = None\n",
    "        data.append([ad_id, lat, lng])\n",
    "    return pd.DataFrame(data, columns=cols)"
   ]
  },
  {
   "cell_type": "code",
   "execution_count": 84,
   "metadata": {},
   "outputs": [],
   "source": [
    "def get_destination_coordinates():\n",
    "    pass"
   ]
  },
  {
   "cell_type": "code",
   "execution_count": 40,
   "metadata": {},
   "outputs": [],
   "source": [
    "common_destination = 'Nationaltheatret, Oslo'"
   ]
  },
  {
   "cell_type": "code",
   "execution_count": 44,
   "metadata": {},
   "outputs": [],
   "source": [
    "all_api_results = get_directions_jsons([common_destination], addresses)"
   ]
  },
  {
   "cell_type": "code",
   "execution_count": 80,
   "metadata": {},
   "outputs": [
    {
     "data": {
      "text/html": [
       "<div>\n",
       "<style scoped>\n",
       "    .dataframe tbody tr th:only-of-type {\n",
       "        vertical-align: middle;\n",
       "    }\n",
       "\n",
       "    .dataframe tbody tr th {\n",
       "        vertical-align: top;\n",
       "    }\n",
       "\n",
       "    .dataframe thead th {\n",
       "        text-align: right;\n",
       "    }\n",
       "</style>\n",
       "<table border=\"1\" class=\"dataframe\">\n",
       "  <thead>\n",
       "    <tr style=\"text-align: right;\">\n",
       "      <th></th>\n",
       "      <th>ad_id</th>\n",
       "      <th>destination</th>\n",
       "      <th>maps_response</th>\n",
       "    </tr>\n",
       "  </thead>\n",
       "  <tbody>\n",
       "    <tr>\n",
       "      <th>0</th>\n",
       "      <td>85287718</td>\n",
       "      <td>Nationaltheatret, Oslo</td>\n",
       "      <td>{\"geocoded_waypoints\": [{\"geocoder_status\": \"O...</td>\n",
       "    </tr>\n",
       "    <tr>\n",
       "      <th>1</th>\n",
       "      <td>90151696</td>\n",
       "      <td>Nationaltheatret, Oslo</td>\n",
       "      <td>{\"geocoded_waypoints\": [{\"geocoder_status\": \"O...</td>\n",
       "    </tr>\n",
       "    <tr>\n",
       "      <th>2</th>\n",
       "      <td>91411206</td>\n",
       "      <td>Nationaltheatret, Oslo</td>\n",
       "      <td>{\"geocoded_waypoints\": [{\"geocoder_status\": \"O...</td>\n",
       "    </tr>\n",
       "    <tr>\n",
       "      <th>3</th>\n",
       "      <td>93367028</td>\n",
       "      <td>Nationaltheatret, Oslo</td>\n",
       "      <td>{\"geocoded_waypoints\": [{\"geocoder_status\": \"O...</td>\n",
       "    </tr>\n",
       "    <tr>\n",
       "      <th>4</th>\n",
       "      <td>95247107</td>\n",
       "      <td>Nationaltheatret, Oslo</td>\n",
       "      <td>{\"geocoded_waypoints\": [{\"geocoder_status\": \"O...</td>\n",
       "    </tr>\n",
       "  </tbody>\n",
       "</table>\n",
       "</div>"
      ],
      "text/plain": [
       "      ad_id             destination  \\\n",
       "0  85287718  Nationaltheatret, Oslo   \n",
       "1  90151696  Nationaltheatret, Oslo   \n",
       "2  91411206  Nationaltheatret, Oslo   \n",
       "3  93367028  Nationaltheatret, Oslo   \n",
       "4  95247107  Nationaltheatret, Oslo   \n",
       "\n",
       "                                       maps_response  \n",
       "0  {\"geocoded_waypoints\": [{\"geocoder_status\": \"O...  \n",
       "1  {\"geocoded_waypoints\": [{\"geocoder_status\": \"O...  \n",
       "2  {\"geocoded_waypoints\": [{\"geocoder_status\": \"O...  \n",
       "3  {\"geocoded_waypoints\": [{\"geocoder_status\": \"O...  \n",
       "4  {\"geocoded_waypoints\": [{\"geocoder_status\": \"O...  "
      ]
     },
     "execution_count": 80,
     "metadata": {},
     "output_type": "execute_result"
    }
   ],
   "source": [
    "all_api_results.head()"
   ]
  },
  {
   "cell_type": "code",
   "execution_count": 81,
   "metadata": {},
   "outputs": [],
   "source": [
    "all_api_results.to_gbq(destination_table='housing_data.google_maps_responses',\n",
    "                       project_id='hde-test-clean',\n",
    "                       if_exists='append')"
   ]
  },
  {
   "cell_type": "code",
   "execution_count": 69,
   "metadata": {},
   "outputs": [],
   "source": [
    "travel_times = get_travel_times_table(all_api_results)"
   ]
  },
  {
   "cell_type": "code",
   "execution_count": 70,
   "metadata": {},
   "outputs": [
    {
     "data": {
      "text/html": [
       "<div>\n",
       "<style scoped>\n",
       "    .dataframe tbody tr th:only-of-type {\n",
       "        vertical-align: middle;\n",
       "    }\n",
       "\n",
       "    .dataframe tbody tr th {\n",
       "        vertical-align: top;\n",
       "    }\n",
       "\n",
       "    .dataframe thead th {\n",
       "        text-align: right;\n",
       "    }\n",
       "</style>\n",
       "<table border=\"1\" class=\"dataframe\">\n",
       "  <thead>\n",
       "    <tr style=\"text-align: right;\">\n",
       "      <th></th>\n",
       "      <th>ad_id</th>\n",
       "      <th>destination</th>\n",
       "      <th>time_s</th>\n",
       "    </tr>\n",
       "  </thead>\n",
       "  <tbody>\n",
       "    <tr>\n",
       "      <th>0</th>\n",
       "      <td>85287718</td>\n",
       "      <td>Nationaltheatret, Oslo</td>\n",
       "      <td>1262.0</td>\n",
       "    </tr>\n",
       "    <tr>\n",
       "      <th>1</th>\n",
       "      <td>90151696</td>\n",
       "      <td>Nationaltheatret, Oslo</td>\n",
       "      <td>2330.0</td>\n",
       "    </tr>\n",
       "    <tr>\n",
       "      <th>2</th>\n",
       "      <td>91411206</td>\n",
       "      <td>Nationaltheatret, Oslo</td>\n",
       "      <td>811.0</td>\n",
       "    </tr>\n",
       "    <tr>\n",
       "      <th>3</th>\n",
       "      <td>93367028</td>\n",
       "      <td>Nationaltheatret, Oslo</td>\n",
       "      <td>2075.0</td>\n",
       "    </tr>\n",
       "    <tr>\n",
       "      <th>4</th>\n",
       "      <td>95247107</td>\n",
       "      <td>Nationaltheatret, Oslo</td>\n",
       "      <td>811.0</td>\n",
       "    </tr>\n",
       "  </tbody>\n",
       "</table>\n",
       "</div>"
      ],
      "text/plain": [
       "      ad_id             destination  time_s\n",
       "0  85287718  Nationaltheatret, Oslo  1262.0\n",
       "1  90151696  Nationaltheatret, Oslo  2330.0\n",
       "2  91411206  Nationaltheatret, Oslo   811.0\n",
       "3  93367028  Nationaltheatret, Oslo  2075.0\n",
       "4  95247107  Nationaltheatret, Oslo   811.0"
      ]
     },
     "execution_count": 70,
     "metadata": {},
     "output_type": "execute_result"
    }
   ],
   "source": [
    "travel_times.head()"
   ]
  },
  {
   "cell_type": "code",
   "execution_count": 77,
   "metadata": {},
   "outputs": [
    {
     "name": "stdout",
     "output_type": "stream",
     "text": [
      "<class 'pandas.core.frame.DataFrame'>\n",
      "RangeIndex: 949 entries, 0 to 948\n",
      "Data columns (total 3 columns):\n",
      "ad_id          949 non-null int64\n",
      "destination    949 non-null object\n",
      "time_s         939 non-null float64\n",
      "dtypes: float64(1), int64(1), object(1)\n",
      "memory usage: 22.3+ KB\n"
     ]
    }
   ],
   "source": [
    "travel_times.info()"
   ]
  },
  {
   "cell_type": "code",
   "execution_count": 82,
   "metadata": {},
   "outputs": [],
   "source": [
    "travel_times.to_gbq(destination_table='housing_data.travel_times',\n",
    "                    project_id='hde-test-clean',\n",
    "                    if_exists='append')"
   ]
  },
  {
   "cell_type": "code",
   "execution_count": 166,
   "metadata": {},
   "outputs": [],
   "source": [
    "ad_coordinates = get_origin_coordinates(all_api_results)"
   ]
  },
  {
   "cell_type": "code",
   "execution_count": 167,
   "metadata": {},
   "outputs": [
    {
     "name": "stdout",
     "output_type": "stream",
     "text": [
      "<class 'pandas.core.frame.DataFrame'>\n",
      "RangeIndex: 949 entries, 0 to 948\n",
      "Data columns (total 3 columns):\n",
      "ad_id    949 non-null int64\n",
      "lat      939 non-null float64\n",
      "lng      939 non-null float64\n",
      "dtypes: float64(2), int64(1)\n",
      "memory usage: 22.3 KB\n"
     ]
    }
   ],
   "source": [
    "ad_coordinates.info()"
   ]
  },
  {
   "cell_type": "code",
   "execution_count": 168,
   "metadata": {},
   "outputs": [],
   "source": [
    "ad_coordinates.to_gbq(destination_table='housing_data.ad_coordinates',\n",
    "                      project_id='hde-test-clean',\n",
    "                      if_exists='append')"
   ]
  },
  {
   "cell_type": "code",
   "execution_count": null,
   "metadata": {},
   "outputs": [],
   "source": []
  }
 ],
 "metadata": {
  "kernelspec": {
   "display_name": "Python 3",
   "language": "python",
   "name": "python3"
  },
  "language_info": {
   "codemirror_mode": {
    "name": "ipython",
    "version": 3
   },
   "file_extension": ".py",
   "mimetype": "text/x-python",
   "name": "python",
   "nbconvert_exporter": "python",
   "pygments_lexer": "ipython3",
   "version": "3.7.3"
  }
 },
 "nbformat": 4,
 "nbformat_minor": 2
}
