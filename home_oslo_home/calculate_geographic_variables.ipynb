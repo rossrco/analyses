{
 "cells": [
  {
   "cell_type": "code",
   "execution_count": 169,
   "metadata": {},
   "outputs": [],
   "source": [
    "import os\n",
    "import requests\n",
    "import json\n",
    "import yaml\n",
    "import pandas as pd\n",
    "from google.cloud import bigquery\n",
    "import google.api_core.exceptions as google_exceptions"
   ]
  },
  {
   "cell_type": "code",
   "execution_count": 170,
   "metadata": {},
   "outputs": [],
   "source": [
    "config = yaml.safe_load(open('config.yaml', 'r'))"
   ]
  },
  {
   "cell_type": "code",
   "execution_count": 171,
   "metadata": {},
   "outputs": [],
   "source": [
    "maps_key = config['google_maps_api_key']"
   ]
  },
  {
   "cell_type": "code",
   "execution_count": 172,
   "metadata": {},
   "outputs": [],
   "source": [
    "query_dir = 'queries'"
   ]
  },
  {
   "cell_type": "code",
   "execution_count": 173,
   "metadata": {},
   "outputs": [],
   "source": [
    "queries = {}\n",
    "for query_file in (os.listdir(query_dir)):\n",
    "    with open(os.path.join(query_dir, query_file), 'r') as query:\n",
    "        queries[query_file] = query.read()"
   ]
  },
  {
   "cell_type": "code",
   "execution_count": 174,
   "metadata": {},
   "outputs": [],
   "source": [
    "query_client = bigquery.Client()"
   ]
  },
  {
   "cell_type": "code",
   "execution_count": 175,
   "metadata": {},
   "outputs": [],
   "source": [
    "def exists_table(table_reference, client):\n",
    "    try:\n",
    "        client.get_table(table_reference)\n",
    "        return True\n",
    "    except google_exceptions.NotFound:\n",
    "        return False"
   ]
  },
  {
   "cell_type": "code",
   "execution_count": 176,
   "metadata": {},
   "outputs": [],
   "source": [
    "if exists_table(f'{config[\"project_id\"]}.{config[\"dataset\"]}.travel_times', query_client):\n",
    "    request = queries['all_buildings_that_have_not_been_processed.sql']\n",
    "else:\n",
    "    request = queries['all_buildings.sql']"
   ]
  },
  {
   "cell_type": "code",
   "execution_count": 177,
   "metadata": {},
   "outputs": [],
   "source": [
    "real_estate_raw = query_client.query(request).to_dataframe()"
   ]
  },
  {
   "cell_type": "code",
   "execution_count": 178,
   "metadata": {},
   "outputs": [
    {
     "name": "stdout",
     "output_type": "stream",
     "text": [
      "<class 'pandas.core.frame.DataFrame'>\n",
      "RangeIndex: 466 entries, 0 to 465\n",
      "Data columns (total 4 columns):\n",
      "ad_id             466 non-null int64\n",
      "new_building      466 non-null bool\n",
      "property_attrs    466 non-null object\n",
      "address           465 non-null object\n",
      "dtypes: bool(1), int64(1), object(2)\n",
      "memory usage: 11.5+ KB\n"
     ]
    }
   ],
   "source": [
    "real_estate_raw.info()"
   ]
  },
  {
   "cell_type": "code",
   "execution_count": 179,
   "metadata": {},
   "outputs": [],
   "source": [
    "real_estate_raw.set_index(keys='ad_id', drop=True, inplace=True)"
   ]
  },
  {
   "cell_type": "code",
   "execution_count": 180,
   "metadata": {},
   "outputs": [],
   "source": [
    "addresses = real_estate_raw.drop(['new_building', 'property_attrs'], axis=1).drop_duplicates().copy()"
   ]
  },
  {
   "cell_type": "code",
   "execution_count": 181,
   "metadata": {},
   "outputs": [
    {
     "name": "stdout",
     "output_type": "stream",
     "text": [
      "<class 'pandas.core.frame.DataFrame'>\n",
      "Int64Index: 410 entries, 78653360 to 151063588\n",
      "Data columns (total 1 columns):\n",
      "address    409 non-null object\n",
      "dtypes: object(1)\n",
      "memory usage: 6.4+ KB\n"
     ]
    }
   ],
   "source": [
    "addresses.info()"
   ]
  },
  {
   "cell_type": "code",
   "execution_count": 182,
   "metadata": {},
   "outputs": [
    {
     "data": {
      "text/html": [
       "<div>\n",
       "<style scoped>\n",
       "    .dataframe tbody tr th:only-of-type {\n",
       "        vertical-align: middle;\n",
       "    }\n",
       "\n",
       "    .dataframe tbody tr th {\n",
       "        vertical-align: top;\n",
       "    }\n",
       "\n",
       "    .dataframe thead th {\n",
       "        text-align: right;\n",
       "    }\n",
       "</style>\n",
       "<table border=\"1\" class=\"dataframe\">\n",
       "  <thead>\n",
       "    <tr style=\"text-align: right;\">\n",
       "      <th></th>\n",
       "      <th>address</th>\n",
       "    </tr>\n",
       "    <tr>\n",
       "      <th>ad_id</th>\n",
       "      <th></th>\n",
       "    </tr>\n",
       "  </thead>\n",
       "  <tbody>\n",
       "    <tr>\n",
       "      <th>78653360</th>\n",
       "      <td>Strandvegen 1, 2005 Rælingen</td>\n",
       "    </tr>\n",
       "    <tr>\n",
       "      <th>78866228</th>\n",
       "      <td>FLÅTESTADVEIEN 3, 1415 Oppegård</td>\n",
       "    </tr>\n",
       "    <tr>\n",
       "      <th>82173385</th>\n",
       "      <td>Røakollen - Aslakveien 20 - hus B, 0753 Oslo</td>\n",
       "    </tr>\n",
       "    <tr>\n",
       "      <th>84047772</th>\n",
       "      <td>Røakollen - Aslakveien 20 - Hus A, 0753 Oslo</td>\n",
       "    </tr>\n",
       "    <tr>\n",
       "      <th>85787019</th>\n",
       "      <td>Kværnerdammen borettslag. Utsikt, kveldssol, f...</td>\n",
       "    </tr>\n",
       "  </tbody>\n",
       "</table>\n",
       "</div>"
      ],
      "text/plain": [
       "                                                    address\n",
       "ad_id                                                      \n",
       "78653360                       Strandvegen 1, 2005 Rælingen\n",
       "78866228                    FLÅTESTADVEIEN 3, 1415 Oppegård\n",
       "82173385       Røakollen - Aslakveien 20 - hus B, 0753 Oslo\n",
       "84047772       Røakollen - Aslakveien 20 - Hus A, 0753 Oslo\n",
       "85787019  Kværnerdammen borettslag. Utsikt, kveldssol, f..."
      ]
     },
     "execution_count": 182,
     "metadata": {},
     "output_type": "execute_result"
    }
   ],
   "source": [
    "addresses.head()"
   ]
  },
  {
   "cell_type": "code",
   "execution_count": 183,
   "metadata": {},
   "outputs": [],
   "source": [
    "def get_directions(origin, destination, mode, key):\n",
    "    google_maps_url = 'https://maps.googleapis.com/maps/api/directions/json'\n",
    "    params = {'destination': destination, 'origin': origin, 'key': key, 'mode': mode}\n",
    "    response = requests.get(google_maps_url, params=params)\n",
    "    return response"
   ]
  },
  {
   "cell_type": "code",
   "execution_count": 184,
   "metadata": {},
   "outputs": [],
   "source": [
    "def get_min_travel_time_sec(response):\n",
    "    routes = []\n",
    "    for route in response['routes']:\n",
    "        all_legs_duration = 0\n",
    "        for leg in route['legs']:\n",
    "            all_legs_duration += leg['duration']['value']\n",
    "        routes.append(all_legs_duration)\n",
    "    try:\n",
    "        return min(routes)\n",
    "    except ValueError:\n",
    "        return None"
   ]
  },
  {
   "cell_type": "code",
   "execution_count": 197,
   "metadata": {},
   "outputs": [],
   "source": [
    "def get_travel_times_table(maps_responses):\n",
    "    cols = ['ad_id', 'destination', 'time_s']\n",
    "    data = []\n",
    "    for dest in maps_responses.destination.unique():\n",
    "        sub_df = maps_responses[maps_responses.destination==dest].set_index('ad_id', drop=True)\n",
    "        for ad_id, response in sub_df.maps_response.items():\n",
    "            min_time = get_min_travel_time_sec(json.loads(response))\n",
    "            data.append([ad_id, dest, min_time])\n",
    "    return pd.DataFrame(data, columns=cols)"
   ]
  },
  {
   "cell_type": "code",
   "execution_count": 186,
   "metadata": {},
   "outputs": [],
   "source": [
    "def get_directions_jsons(destinations, address_table):\n",
    "    cols = ['ad_id', 'destination', 'maps_response']\n",
    "    data = []\n",
    "    for dest in destinations:\n",
    "        for ad_id, addr in address_table.address.items():\n",
    "            response = get_directions(addr, dest, 'transit', maps_key)\n",
    "            data.append([ad_id, dest, json.dumps(response.json())])\n",
    "    return pd.DataFrame(data, columns=cols)"
   ]
  },
  {
   "cell_type": "code",
   "execution_count": 187,
   "metadata": {},
   "outputs": [],
   "source": [
    "def get_origin_coordinates(maps_responses):\n",
    "    all_dest = maps_responses.destination.unique()\n",
    "    sub_df = maps_responses[maps_responses.destination==all_dest[0]].set_index('ad_id', drop=True)\n",
    "    cols = ['ad_id', 'lat', 'lng']\n",
    "    data = []\n",
    "    for ad_id, response in sub_df.maps_response.items():\n",
    "        response_dict = json.loads(response)\n",
    "        try:\n",
    "            coords = response_dict['routes'][0]['legs'][0]['start_location']\n",
    "            lat = coords['lat']\n",
    "            lng = coords['lng']\n",
    "        except IndexError as e:\n",
    "            lat = None\n",
    "            lng = None\n",
    "        data.append([ad_id, lat, lng])\n",
    "    return pd.DataFrame(data, columns=cols)"
   ]
  },
  {
   "cell_type": "code",
   "execution_count": 188,
   "metadata": {},
   "outputs": [],
   "source": [
    "def get_destination_coordinates():\n",
    "    pass"
   ]
  },
  {
   "cell_type": "code",
   "execution_count": 189,
   "metadata": {},
   "outputs": [],
   "source": [
    "common_destination = 'Nationaltheatret, Oslo'"
   ]
  },
  {
   "cell_type": "code",
   "execution_count": 190,
   "metadata": {},
   "outputs": [],
   "source": [
    "all_api_results = get_directions_jsons([common_destination], addresses)"
   ]
  },
  {
   "cell_type": "code",
   "execution_count": 191,
   "metadata": {},
   "outputs": [
    {
     "data": {
      "text/html": [
       "<div>\n",
       "<style scoped>\n",
       "    .dataframe tbody tr th:only-of-type {\n",
       "        vertical-align: middle;\n",
       "    }\n",
       "\n",
       "    .dataframe tbody tr th {\n",
       "        vertical-align: top;\n",
       "    }\n",
       "\n",
       "    .dataframe thead th {\n",
       "        text-align: right;\n",
       "    }\n",
       "</style>\n",
       "<table border=\"1\" class=\"dataframe\">\n",
       "  <thead>\n",
       "    <tr style=\"text-align: right;\">\n",
       "      <th></th>\n",
       "      <th>ad_id</th>\n",
       "      <th>destination</th>\n",
       "      <th>maps_response</th>\n",
       "    </tr>\n",
       "  </thead>\n",
       "  <tbody>\n",
       "    <tr>\n",
       "      <th>0</th>\n",
       "      <td>78653360</td>\n",
       "      <td>Nationaltheatret, Oslo</td>\n",
       "      <td>{\"geocoded_waypoints\": [{\"geocoder_status\": \"O...</td>\n",
       "    </tr>\n",
       "    <tr>\n",
       "      <th>1</th>\n",
       "      <td>78866228</td>\n",
       "      <td>Nationaltheatret, Oslo</td>\n",
       "      <td>{\"geocoded_waypoints\": [{\"geocoder_status\": \"O...</td>\n",
       "    </tr>\n",
       "    <tr>\n",
       "      <th>2</th>\n",
       "      <td>82173385</td>\n",
       "      <td>Nationaltheatret, Oslo</td>\n",
       "      <td>{\"geocoded_waypoints\": [{\"geocoder_status\": \"O...</td>\n",
       "    </tr>\n",
       "    <tr>\n",
       "      <th>3</th>\n",
       "      <td>84047772</td>\n",
       "      <td>Nationaltheatret, Oslo</td>\n",
       "      <td>{\"geocoded_waypoints\": [{\"geocoder_status\": \"O...</td>\n",
       "    </tr>\n",
       "    <tr>\n",
       "      <th>4</th>\n",
       "      <td>85787019</td>\n",
       "      <td>Nationaltheatret, Oslo</td>\n",
       "      <td>{\"geocoded_waypoints\": [{\"geocoder_status\": \"O...</td>\n",
       "    </tr>\n",
       "  </tbody>\n",
       "</table>\n",
       "</div>"
      ],
      "text/plain": [
       "      ad_id             destination  \\\n",
       "0  78653360  Nationaltheatret, Oslo   \n",
       "1  78866228  Nationaltheatret, Oslo   \n",
       "2  82173385  Nationaltheatret, Oslo   \n",
       "3  84047772  Nationaltheatret, Oslo   \n",
       "4  85787019  Nationaltheatret, Oslo   \n",
       "\n",
       "                                       maps_response  \n",
       "0  {\"geocoded_waypoints\": [{\"geocoder_status\": \"O...  \n",
       "1  {\"geocoded_waypoints\": [{\"geocoder_status\": \"O...  \n",
       "2  {\"geocoded_waypoints\": [{\"geocoder_status\": \"O...  \n",
       "3  {\"geocoded_waypoints\": [{\"geocoder_status\": \"O...  \n",
       "4  {\"geocoded_waypoints\": [{\"geocoder_status\": \"O...  "
      ]
     },
     "execution_count": 191,
     "metadata": {},
     "output_type": "execute_result"
    }
   ],
   "source": [
    "all_api_results.head()"
   ]
  },
  {
   "cell_type": "code",
   "execution_count": 192,
   "metadata": {},
   "outputs": [],
   "source": [
    "all_api_results.to_gbq(destination_table='housing_data.google_maps_responses',\n",
    "                       project_id='hde-test-clean',\n",
    "                       if_exists='append')"
   ]
  },
  {
   "cell_type": "code",
   "execution_count": 198,
   "metadata": {},
   "outputs": [],
   "source": [
    "travel_times = get_travel_times_table(all_api_results)"
   ]
  },
  {
   "cell_type": "code",
   "execution_count": 199,
   "metadata": {},
   "outputs": [
    {
     "data": {
      "text/html": [
       "<div>\n",
       "<style scoped>\n",
       "    .dataframe tbody tr th:only-of-type {\n",
       "        vertical-align: middle;\n",
       "    }\n",
       "\n",
       "    .dataframe tbody tr th {\n",
       "        vertical-align: top;\n",
       "    }\n",
       "\n",
       "    .dataframe thead th {\n",
       "        text-align: right;\n",
       "    }\n",
       "</style>\n",
       "<table border=\"1\" class=\"dataframe\">\n",
       "  <thead>\n",
       "    <tr style=\"text-align: right;\">\n",
       "      <th></th>\n",
       "      <th>ad_id</th>\n",
       "      <th>destination</th>\n",
       "      <th>time_s</th>\n",
       "    </tr>\n",
       "  </thead>\n",
       "  <tbody>\n",
       "    <tr>\n",
       "      <th>0</th>\n",
       "      <td>78653360</td>\n",
       "      <td>Nationaltheatret, Oslo</td>\n",
       "      <td>2329.0</td>\n",
       "    </tr>\n",
       "    <tr>\n",
       "      <th>1</th>\n",
       "      <td>78866228</td>\n",
       "      <td>Nationaltheatret, Oslo</td>\n",
       "      <td>1918.0</td>\n",
       "    </tr>\n",
       "    <tr>\n",
       "      <th>2</th>\n",
       "      <td>82173385</td>\n",
       "      <td>Nationaltheatret, Oslo</td>\n",
       "      <td>1097.0</td>\n",
       "    </tr>\n",
       "    <tr>\n",
       "      <th>3</th>\n",
       "      <td>84047772</td>\n",
       "      <td>Nationaltheatret, Oslo</td>\n",
       "      <td>1097.0</td>\n",
       "    </tr>\n",
       "    <tr>\n",
       "      <th>4</th>\n",
       "      <td>85787019</td>\n",
       "      <td>Nationaltheatret, Oslo</td>\n",
       "      <td>1135.0</td>\n",
       "    </tr>\n",
       "  </tbody>\n",
       "</table>\n",
       "</div>"
      ],
      "text/plain": [
       "      ad_id             destination  time_s\n",
       "0  78653360  Nationaltheatret, Oslo  2329.0\n",
       "1  78866228  Nationaltheatret, Oslo  1918.0\n",
       "2  82173385  Nationaltheatret, Oslo  1097.0\n",
       "3  84047772  Nationaltheatret, Oslo  1097.0\n",
       "4  85787019  Nationaltheatret, Oslo  1135.0"
      ]
     },
     "execution_count": 199,
     "metadata": {},
     "output_type": "execute_result"
    }
   ],
   "source": [
    "travel_times.head()"
   ]
  },
  {
   "cell_type": "code",
   "execution_count": 200,
   "metadata": {},
   "outputs": [
    {
     "name": "stdout",
     "output_type": "stream",
     "text": [
      "<class 'pandas.core.frame.DataFrame'>\n",
      "RangeIndex: 410 entries, 0 to 409\n",
      "Data columns (total 3 columns):\n",
      "ad_id          410 non-null int64\n",
      "destination    410 non-null object\n",
      "time_s         407 non-null float64\n",
      "dtypes: float64(1), int64(1), object(1)\n",
      "memory usage: 9.7+ KB\n"
     ]
    }
   ],
   "source": [
    "travel_times.info()"
   ]
  },
  {
   "cell_type": "code",
   "execution_count": 201,
   "metadata": {},
   "outputs": [],
   "source": [
    "travel_times.to_gbq(destination_table='housing_data.travel_times',\n",
    "                    project_id='hde-test-clean',\n",
    "                    if_exists='append')"
   ]
  },
  {
   "cell_type": "code",
   "execution_count": 202,
   "metadata": {},
   "outputs": [],
   "source": [
    "ad_coordinates = get_origin_coordinates(all_api_results)"
   ]
  },
  {
   "cell_type": "code",
   "execution_count": 203,
   "metadata": {},
   "outputs": [
    {
     "name": "stdout",
     "output_type": "stream",
     "text": [
      "<class 'pandas.core.frame.DataFrame'>\n",
      "RangeIndex: 410 entries, 0 to 409\n",
      "Data columns (total 3 columns):\n",
      "ad_id    410 non-null int64\n",
      "lat      407 non-null float64\n",
      "lng      407 non-null float64\n",
      "dtypes: float64(2), int64(1)\n",
      "memory usage: 9.7 KB\n"
     ]
    }
   ],
   "source": [
    "ad_coordinates.info()"
   ]
  },
  {
   "cell_type": "code",
   "execution_count": 204,
   "metadata": {},
   "outputs": [],
   "source": [
    "ad_coordinates.to_gbq(destination_table='housing_data.ad_coordinates',\n",
    "                      project_id='hde-test-clean',\n",
    "                      if_exists='append')"
   ]
  },
  {
   "cell_type": "code",
   "execution_count": null,
   "metadata": {},
   "outputs": [],
   "source": []
  }
 ],
 "metadata": {
  "kernelspec": {
   "display_name": "Python 3",
   "language": "python",
   "name": "python3"
  },
  "language_info": {
   "codemirror_mode": {
    "name": "ipython",
    "version": 3
   },
   "file_extension": ".py",
   "mimetype": "text/x-python",
   "name": "python",
   "nbconvert_exporter": "python",
   "pygments_lexer": "ipython3",
   "version": "3.7.3"
  }
 },
 "nbformat": 4,
 "nbformat_minor": 2
}
