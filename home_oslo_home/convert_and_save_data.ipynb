{
 "cells": [
  {
   "cell_type": "code",
   "execution_count": 1,
   "metadata": {},
   "outputs": [],
   "source": [
    "import re\n",
    "import json\n",
    "import pandas as pd\n",
    "from google.cloud import bigquery"
   ]
  },
  {
   "cell_type": "code",
   "execution_count": 2,
   "metadata": {},
   "outputs": [
    {
     "name": "stdout",
     "output_type": "stream",
     "text": [
      "The google.cloud.bigquery extension is already loaded. To reload it, use:\n",
      "  %reload_ext google.cloud.bigquery\n"
     ]
    }
   ],
   "source": [
    "%load_ext google.cloud.bigquery"
   ]
  },
  {
   "cell_type": "code",
   "execution_count": 3,
   "metadata": {},
   "outputs": [
    {
     "data": {
      "text/html": [
       "<div>\n",
       "<style scoped>\n",
       "    .dataframe tbody tr th:only-of-type {\n",
       "        vertical-align: middle;\n",
       "    }\n",
       "\n",
       "    .dataframe tbody tr th {\n",
       "        vertical-align: top;\n",
       "    }\n",
       "\n",
       "    .dataframe thead th {\n",
       "        text-align: right;\n",
       "    }\n",
       "</style>\n",
       "<table border=\"1\" class=\"dataframe\">\n",
       "  <thead>\n",
       "    <tr style=\"text-align: right;\">\n",
       "      <th></th>\n",
       "      <th>f0_</th>\n",
       "    </tr>\n",
       "  </thead>\n",
       "  <tbody>\n",
       "    <tr>\n",
       "      <th>0</th>\n",
       "      <td>849</td>\n",
       "    </tr>\n",
       "  </tbody>\n",
       "</table>\n",
       "</div>"
      ],
      "text/plain": [
       "   f0_\n",
       "0  849"
      ]
     },
     "execution_count": 3,
     "metadata": {},
     "output_type": "execute_result"
    }
   ],
   "source": [
    "%%bigquery\n",
    "SELECT\n",
    "    count(*)\n",
    "FROM `hde-test-clean.housing_data.real_estate_raw`"
   ]
  },
  {
   "cell_type": "code",
   "execution_count": 4,
   "metadata": {},
   "outputs": [],
   "source": [
    "query_client = bigquery.Client()"
   ]
  },
  {
   "cell_type": "code",
   "execution_count": 5,
   "metadata": {},
   "outputs": [],
   "source": [
    "request = \"\"\"\n",
    "SELECT\n",
    "    *\n",
    "FROM\n",
    "    `hde-test-clean.housing_data.real_estate_raw`\n",
    "\"\"\"\n",
    "real_estate_raw = query_client.query(request).to_dataframe()"
   ]
  },
  {
   "cell_type": "code",
   "execution_count": 6,
   "metadata": {},
   "outputs": [
    {
     "name": "stdout",
     "output_type": "stream",
     "text": [
      "<class 'pandas.core.frame.DataFrame'>\n",
      "RangeIndex: 849 entries, 0 to 848\n",
      "Data columns (total 11 columns):\n",
      "ad_id                849 non-null int64\n",
      "ad_url               849 non-null object\n",
      "new_building         849 non-null bool\n",
      "short_description    849 non-null object\n",
      "full_description     849 non-null object\n",
      "property_table       849 non-null object\n",
      "main_price           849 non-null object\n",
      "property_attrs       849 non-null object\n",
      "address              849 non-null object\n",
      "datetime_viewed      849 non-null datetime64[ns]\n",
      "datetime_offset      849 non-null object\n",
      "dtypes: bool(1), datetime64[ns](1), int64(1), object(8)\n",
      "memory usage: 67.2+ KB\n"
     ]
    }
   ],
   "source": [
    "real_estate_raw.info()"
   ]
  },
  {
   "cell_type": "code",
   "execution_count": 7,
   "metadata": {},
   "outputs": [],
   "source": [
    "real_estate_raw.set_index(keys='ad_id', drop=True, inplace=True)"
   ]
  },
  {
   "cell_type": "code",
   "execution_count": 8,
   "metadata": {},
   "outputs": [
    {
     "data": {
      "text/html": [
       "<div>\n",
       "<style scoped>\n",
       "    .dataframe tbody tr th:only-of-type {\n",
       "        vertical-align: middle;\n",
       "    }\n",
       "\n",
       "    .dataframe tbody tr th {\n",
       "        vertical-align: top;\n",
       "    }\n",
       "\n",
       "    .dataframe thead th {\n",
       "        text-align: right;\n",
       "    }\n",
       "</style>\n",
       "<table border=\"1\" class=\"dataframe\">\n",
       "  <thead>\n",
       "    <tr style=\"text-align: right;\">\n",
       "      <th></th>\n",
       "      <th>ad_url</th>\n",
       "      <th>new_building</th>\n",
       "      <th>short_description</th>\n",
       "      <th>full_description</th>\n",
       "      <th>property_table</th>\n",
       "      <th>main_price</th>\n",
       "      <th>property_attrs</th>\n",
       "      <th>address</th>\n",
       "      <th>datetime_viewed</th>\n",
       "      <th>datetime_offset</th>\n",
       "    </tr>\n",
       "    <tr>\n",
       "      <th>ad_id</th>\n",
       "      <th></th>\n",
       "      <th></th>\n",
       "      <th></th>\n",
       "      <th></th>\n",
       "      <th></th>\n",
       "      <th></th>\n",
       "      <th></th>\n",
       "      <th></th>\n",
       "      <th></th>\n",
       "      <th></th>\n",
       "    </tr>\n",
       "  </thead>\n",
       "  <tbody>\n",
       "    <tr>\n",
       "      <th>130898040</th>\n",
       "      <td>https://www.finn.no/realestate/homes/ad.html?f...</td>\n",
       "      <td>False</td>\n",
       "      <td>Sentral og moderne 3-roms selveierleilighet me...</td>\n",
       "      <td>Kort om leiligheten:- MODERNE LEILIGHET FRA 20...</td>\n",
       "      <td>{}</td>\n",
       "      <td>5 200 000 kr</td>\n",
       "      <td>{\"Omkostninger\": \"138\\u00a0722 kr\", \"Totalpris...</td>\n",
       "      <td>Fredtunveien 8, 1386 Asker</td>\n",
       "      <td>2019-06-09 10:36:02</td>\n",
       "      <td>UTC</td>\n",
       "    </tr>\n",
       "    <tr>\n",
       "      <th>126578832</th>\n",
       "      <td>https://www.finn.no/realestate/newbuildings/ad...</td>\n",
       "      <td>True</td>\n",
       "      <td>SENNERUDTOPPEN - ARBEIDENE ER I GANG! 87 lyse ...</td>\n",
       "      <td>FremdriftArbeidene er i gang! Ta kontakt for t...</td>\n",
       "      <td>{\"Bolig\": [\"1-207\", \"1-307\", \"1-308\", \"1-407\",...</td>\n",
       "      <td>2 790 000 kr7 890 000 kr</td>\n",
       "      <td>{\"Areal\": \"45\\u00a0-\\u00a0125 m\\u00b2\", \"Sover...</td>\n",
       "      <td>Sennerudtoppen Bolig AS, 1920 Sørumsand</td>\n",
       "      <td>2019-06-09 10:30:23</td>\n",
       "      <td>UTC</td>\n",
       "    </tr>\n",
       "    <tr>\n",
       "      <th>135914307</th>\n",
       "      <td>https://www.finn.no/realestate/newbuildings/ad...</td>\n",
       "      <td>True</td>\n",
       "      <td>Dovrekvartalet - Spennende boligprosjekt for v...</td>\n",
       "      <td>Prosjektets beskrivelseUtbyggers visjonFor å s...</td>\n",
       "      <td>{\"Bolig\": [\"101\", \"102\", \"103\", \"104\", \"105\", ...</td>\n",
       "      <td>1 600 000 kr4 900 000 kr</td>\n",
       "      <td>{\"Fellesgjeld\": \"1\\u00a0600\\u00a0000 \\u2013 4\\...</td>\n",
       "      <td>Landstadsgate 13 - D5, 2000 Lillestrøm</td>\n",
       "      <td>2019-06-09 10:39:41</td>\n",
       "      <td>UTC</td>\n",
       "    </tr>\n",
       "    <tr>\n",
       "      <th>142183291</th>\n",
       "      <td>https://www.finn.no/realestate/homes/ad.html?f...</td>\n",
       "      <td>False</td>\n",
       "      <td>Tiltalende enebolig fra 2015. Solrik terrasse ...</td>\n",
       "      <td>Tiltalende og moderne enebolig med svært etter...</td>\n",
       "      <td>{}</td>\n",
       "      <td>14 775 000 kr</td>\n",
       "      <td>{\"Omkostninger\": \"384\\u00a0520 kr\", \"Totalpris...</td>\n",
       "      <td>Bjerkelundsveien 4A, 1358 Jar</td>\n",
       "      <td>2019-06-09 10:41:33</td>\n",
       "      <td>UTC</td>\n",
       "    </tr>\n",
       "    <tr>\n",
       "      <th>149524358</th>\n",
       "      <td>https://www.finn.no/realestate/homes/ad.html?f...</td>\n",
       "      <td>False</td>\n",
       "      <td>Stor og påkostet enebolig over 2 plan fra 2013...</td>\n",
       "      <td>DNB Eiendom v/Christer Langstrand har gleden a...</td>\n",
       "      <td>{}</td>\n",
       "      <td>6 390 000 kr</td>\n",
       "      <td>{\"Omkostninger\": \"160\\u00a0972 kr\", \"Totalpris...</td>\n",
       "      <td>Kantarellvegen 14, 2016 Frogner</td>\n",
       "      <td>2019-06-09 10:32:42</td>\n",
       "      <td>UTC</td>\n",
       "    </tr>\n",
       "  </tbody>\n",
       "</table>\n",
       "</div>"
      ],
      "text/plain": [
       "                                                      ad_url  new_building  \\\n",
       "ad_id                                                                        \n",
       "130898040  https://www.finn.no/realestate/homes/ad.html?f...         False   \n",
       "126578832  https://www.finn.no/realestate/newbuildings/ad...          True   \n",
       "135914307  https://www.finn.no/realestate/newbuildings/ad...          True   \n",
       "142183291  https://www.finn.no/realestate/homes/ad.html?f...         False   \n",
       "149524358  https://www.finn.no/realestate/homes/ad.html?f...         False   \n",
       "\n",
       "                                           short_description  \\\n",
       "ad_id                                                          \n",
       "130898040  Sentral og moderne 3-roms selveierleilighet me...   \n",
       "126578832  SENNERUDTOPPEN - ARBEIDENE ER I GANG! 87 lyse ...   \n",
       "135914307  Dovrekvartalet - Spennende boligprosjekt for v...   \n",
       "142183291  Tiltalende enebolig fra 2015. Solrik terrasse ...   \n",
       "149524358  Stor og påkostet enebolig over 2 plan fra 2013...   \n",
       "\n",
       "                                            full_description  \\\n",
       "ad_id                                                          \n",
       "130898040  Kort om leiligheten:- MODERNE LEILIGHET FRA 20...   \n",
       "126578832  FremdriftArbeidene er i gang! Ta kontakt for t...   \n",
       "135914307  Prosjektets beskrivelseUtbyggers visjonFor å s...   \n",
       "142183291  Tiltalende og moderne enebolig med svært etter...   \n",
       "149524358  DNB Eiendom v/Christer Langstrand har gleden a...   \n",
       "\n",
       "                                              property_table  \\\n",
       "ad_id                                                          \n",
       "130898040                                                 {}   \n",
       "126578832  {\"Bolig\": [\"1-207\", \"1-307\", \"1-308\", \"1-407\",...   \n",
       "135914307  {\"Bolig\": [\"101\", \"102\", \"103\", \"104\", \"105\", ...   \n",
       "142183291                                                 {}   \n",
       "149524358                                                 {}   \n",
       "\n",
       "                         main_price  \\\n",
       "ad_id                                 \n",
       "130898040              5 200 000 kr   \n",
       "126578832  2 790 000 kr7 890 000 kr   \n",
       "135914307  1 600 000 kr4 900 000 kr   \n",
       "142183291             14 775 000 kr   \n",
       "149524358              6 390 000 kr   \n",
       "\n",
       "                                              property_attrs  \\\n",
       "ad_id                                                          \n",
       "130898040  {\"Omkostninger\": \"138\\u00a0722 kr\", \"Totalpris...   \n",
       "126578832  {\"Areal\": \"45\\u00a0-\\u00a0125 m\\u00b2\", \"Sover...   \n",
       "135914307  {\"Fellesgjeld\": \"1\\u00a0600\\u00a0000 \\u2013 4\\...   \n",
       "142183291  {\"Omkostninger\": \"384\\u00a0520 kr\", \"Totalpris...   \n",
       "149524358  {\"Omkostninger\": \"160\\u00a0972 kr\", \"Totalpris...   \n",
       "\n",
       "                                           address     datetime_viewed  \\\n",
       "ad_id                                                                    \n",
       "130898040               Fredtunveien 8, 1386 Asker 2019-06-09 10:36:02   \n",
       "126578832  Sennerudtoppen Bolig AS, 1920 Sørumsand 2019-06-09 10:30:23   \n",
       "135914307   Landstadsgate 13 - D5, 2000 Lillestrøm 2019-06-09 10:39:41   \n",
       "142183291            Bjerkelundsveien 4A, 1358 Jar 2019-06-09 10:41:33   \n",
       "149524358          Kantarellvegen 14, 2016 Frogner 2019-06-09 10:32:42   \n",
       "\n",
       "          datetime_offset  \n",
       "ad_id                      \n",
       "130898040             UTC  \n",
       "126578832             UTC  \n",
       "135914307             UTC  \n",
       "142183291             UTC  \n",
       "149524358             UTC  "
      ]
     },
     "execution_count": 8,
     "metadata": {},
     "output_type": "execute_result"
    }
   ],
   "source": [
    "real_estate_raw.head()"
   ]
  },
  {
   "cell_type": "code",
   "execution_count": 9,
   "metadata": {},
   "outputs": [],
   "source": [
    "for col in ['property_table', 'property_attrs']:\n",
    "    real_estate_raw[col] = [json.loads(cell) for cell in real_estate_raw[col]]"
   ]
  },
  {
   "cell_type": "code",
   "execution_count": 10,
   "metadata": {},
   "outputs": [],
   "source": [
    "def expanand_property_tables(new_buildings):\n",
    "    cols = new_buildings.iloc[0]['property_table'].keys()\n",
    "    col_map = {'Bolig': 'apt_id',\n",
    "               'Soverom': 'num_bedrooms',\n",
    "               'Etg': 'floor',\n",
    "               'P-rom': 'primary_size',\n",
    "               'BRA': 'total_size',\n",
    "               'Pris': 'price'}\n",
    "    property_tables = pd.DataFrame(columns=cols)\n",
    "    for code, row in new_buildings['property_table'].iteritems():\n",
    "        all_properties = [arr for arr in row.values()]\n",
    "        to_append = dict(zip(cols, all_properties))\n",
    "        frame = pd.DataFrame(to_append, columns=cols)\n",
    "        frame['ad_id'] = code\n",
    "        property_tables = property_tables.append(frame, ignore_index=True, sort=False)\n",
    "    property_tables.rename(columns=col_map, inplace=True)\n",
    "    return property_tables"
   ]
  },
  {
   "cell_type": "code",
   "execution_count": 11,
   "metadata": {},
   "outputs": [],
   "source": [
    "sub_properties = expanand_property_tables(real_estate_raw[(real_estate_raw.new_building == True) & (real_estate_raw.property_table)])"
   ]
  },
  {
   "cell_type": "code",
   "execution_count": 12,
   "metadata": {},
   "outputs": [
    {
     "data": {
      "text/html": [
       "<div>\n",
       "<style scoped>\n",
       "    .dataframe tbody tr th:only-of-type {\n",
       "        vertical-align: middle;\n",
       "    }\n",
       "\n",
       "    .dataframe tbody tr th {\n",
       "        vertical-align: top;\n",
       "    }\n",
       "\n",
       "    .dataframe thead th {\n",
       "        text-align: right;\n",
       "    }\n",
       "</style>\n",
       "<table border=\"1\" class=\"dataframe\">\n",
       "  <thead>\n",
       "    <tr style=\"text-align: right;\">\n",
       "      <th></th>\n",
       "      <th>num_bedrooms</th>\n",
       "      <th>primary_size</th>\n",
       "      <th>floor</th>\n",
       "      <th>total_size</th>\n",
       "      <th>price</th>\n",
       "      <th>apt_id</th>\n",
       "      <th>ad_id</th>\n",
       "    </tr>\n",
       "  </thead>\n",
       "  <tbody>\n",
       "    <tr>\n",
       "      <th>0</th>\n",
       "      <td>2</td>\n",
       "      <td>87 m²</td>\n",
       "      <td>2.</td>\n",
       "      <td>91 m²</td>\n",
       "      <td>4 990 000 kr</td>\n",
       "      <td>1-207</td>\n",
       "      <td>126578832.0</td>\n",
       "    </tr>\n",
       "    <tr>\n",
       "      <th>1</th>\n",
       "      <td>2</td>\n",
       "      <td>87 m²</td>\n",
       "      <td>3.</td>\n",
       "      <td>91 m²</td>\n",
       "      <td>5 090 000 kr</td>\n",
       "      <td>1-307</td>\n",
       "      <td>126578832.0</td>\n",
       "    </tr>\n",
       "    <tr>\n",
       "      <th>2</th>\n",
       "      <td>3</td>\n",
       "      <td>70 m²</td>\n",
       "      <td>3.</td>\n",
       "      <td>74 m²</td>\n",
       "      <td>4 290 000 kr</td>\n",
       "      <td>1-308</td>\n",
       "      <td>126578832.0</td>\n",
       "    </tr>\n",
       "    <tr>\n",
       "      <th>3</th>\n",
       "      <td>2</td>\n",
       "      <td>87 m²</td>\n",
       "      <td>3.</td>\n",
       "      <td>91 m²</td>\n",
       "      <td>5 190 000 kr</td>\n",
       "      <td>1-407</td>\n",
       "      <td>126578832.0</td>\n",
       "    </tr>\n",
       "    <tr>\n",
       "      <th>4</th>\n",
       "      <td>2</td>\n",
       "      <td>56 m²</td>\n",
       "      <td>5.</td>\n",
       "      <td>60 m²</td>\n",
       "      <td>3 490 000 kr</td>\n",
       "      <td>1-506</td>\n",
       "      <td>126578832.0</td>\n",
       "    </tr>\n",
       "  </tbody>\n",
       "</table>\n",
       "</div>"
      ],
      "text/plain": [
       "  num_bedrooms primary_size floor total_size         price apt_id        ad_id\n",
       "0            2        87 m²    2.      91 m²  4 990 000 kr  1-207  126578832.0\n",
       "1            2        87 m²    3.      91 m²  5 090 000 kr  1-307  126578832.0\n",
       "2            3        70 m²    3.      74 m²  4 290 000 kr  1-308  126578832.0\n",
       "3            2        87 m²    3.      91 m²  5 190 000 kr  1-407  126578832.0\n",
       "4            2        56 m²    5.      60 m²  3 490 000 kr  1-506  126578832.0"
      ]
     },
     "execution_count": 12,
     "metadata": {},
     "output_type": "execute_result"
    }
   ],
   "source": [
    "sub_properties.head()"
   ]
  },
  {
   "cell_type": "code",
   "execution_count": 13,
   "metadata": {},
   "outputs": [],
   "source": [
    "def get_int_from_str(string):\n",
    "    try:\n",
    "        concat_string = ''.join(re.findall(r'\\d', string))\n",
    "        if concat_string != '':\n",
    "            return int(concat_string)\n",
    "    except Exception as e:\n",
    "        print(e)\n",
    "        pass"
   ]
  },
  {
   "cell_type": "code",
   "execution_count": 14,
   "metadata": {},
   "outputs": [
    {
     "name": "stdout",
     "output_type": "stream",
     "text": [
      "expected string or bytes-like object\n"
     ]
    }
   ],
   "source": [
    "sub_properties_parsed = sub_properties.copy()\n",
    "for col in ['primary_size', 'floor', 'price', 'num_bedrooms', 'total_size']:\n",
    "    sub_properties_parsed[col] = [get_int_from_str(s) for s in sub_properties_parsed[col]]"
   ]
  },
  {
   "cell_type": "code",
   "execution_count": 15,
   "metadata": {},
   "outputs": [
    {
     "name": "stdout",
     "output_type": "stream",
     "text": [
      "<class 'pandas.core.frame.DataFrame'>\n",
      "RangeIndex: 519 entries, 0 to 518\n",
      "Data columns (total 7 columns):\n",
      "num_bedrooms    519 non-null int64\n",
      "primary_size    443 non-null float64\n",
      "floor           451 non-null float64\n",
      "total_size      516 non-null float64\n",
      "price           518 non-null float64\n",
      "apt_id          519 non-null object\n",
      "ad_id           519 non-null float64\n",
      "dtypes: float64(5), int64(1), object(1)\n",
      "memory usage: 28.5+ KB\n"
     ]
    }
   ],
   "source": [
    "sub_properties_parsed.info()"
   ]
  },
  {
   "cell_type": "code",
   "execution_count": 16,
   "metadata": {},
   "outputs": [
    {
     "data": {
      "text/html": [
       "<div>\n",
       "<style scoped>\n",
       "    .dataframe tbody tr th:only-of-type {\n",
       "        vertical-align: middle;\n",
       "    }\n",
       "\n",
       "    .dataframe tbody tr th {\n",
       "        vertical-align: top;\n",
       "    }\n",
       "\n",
       "    .dataframe thead th {\n",
       "        text-align: right;\n",
       "    }\n",
       "</style>\n",
       "<table border=\"1\" class=\"dataframe\">\n",
       "  <thead>\n",
       "    <tr style=\"text-align: right;\">\n",
       "      <th></th>\n",
       "      <th>num_bedrooms</th>\n",
       "      <th>primary_size</th>\n",
       "      <th>floor</th>\n",
       "      <th>total_size</th>\n",
       "      <th>price</th>\n",
       "      <th>apt_id</th>\n",
       "      <th>ad_id</th>\n",
       "    </tr>\n",
       "  </thead>\n",
       "  <tbody>\n",
       "    <tr>\n",
       "      <th>0</th>\n",
       "      <td>2</td>\n",
       "      <td>87.0</td>\n",
       "      <td>2.0</td>\n",
       "      <td>91.0</td>\n",
       "      <td>4990000.0</td>\n",
       "      <td>1-207</td>\n",
       "      <td>126578832.0</td>\n",
       "    </tr>\n",
       "    <tr>\n",
       "      <th>1</th>\n",
       "      <td>2</td>\n",
       "      <td>87.0</td>\n",
       "      <td>3.0</td>\n",
       "      <td>91.0</td>\n",
       "      <td>5090000.0</td>\n",
       "      <td>1-307</td>\n",
       "      <td>126578832.0</td>\n",
       "    </tr>\n",
       "    <tr>\n",
       "      <th>2</th>\n",
       "      <td>3</td>\n",
       "      <td>70.0</td>\n",
       "      <td>3.0</td>\n",
       "      <td>74.0</td>\n",
       "      <td>4290000.0</td>\n",
       "      <td>1-308</td>\n",
       "      <td>126578832.0</td>\n",
       "    </tr>\n",
       "    <tr>\n",
       "      <th>3</th>\n",
       "      <td>2</td>\n",
       "      <td>87.0</td>\n",
       "      <td>3.0</td>\n",
       "      <td>91.0</td>\n",
       "      <td>5190000.0</td>\n",
       "      <td>1-407</td>\n",
       "      <td>126578832.0</td>\n",
       "    </tr>\n",
       "    <tr>\n",
       "      <th>4</th>\n",
       "      <td>2</td>\n",
       "      <td>56.0</td>\n",
       "      <td>5.0</td>\n",
       "      <td>60.0</td>\n",
       "      <td>3490000.0</td>\n",
       "      <td>1-506</td>\n",
       "      <td>126578832.0</td>\n",
       "    </tr>\n",
       "  </tbody>\n",
       "</table>\n",
       "</div>"
      ],
      "text/plain": [
       "   num_bedrooms  primary_size  floor  total_size      price apt_id  \\\n",
       "0             2          87.0    2.0        91.0  4990000.0  1-207   \n",
       "1             2          87.0    3.0        91.0  5090000.0  1-307   \n",
       "2             3          70.0    3.0        74.0  4290000.0  1-308   \n",
       "3             2          87.0    3.0        91.0  5190000.0  1-407   \n",
       "4             2          56.0    5.0        60.0  3490000.0  1-506   \n",
       "\n",
       "         ad_id  \n",
       "0  126578832.0  \n",
       "1  126578832.0  \n",
       "2  126578832.0  \n",
       "3  126578832.0  \n",
       "4  126578832.0  "
      ]
     },
     "execution_count": 16,
     "metadata": {},
     "output_type": "execute_result"
    }
   ],
   "source": [
    "sub_properties_parsed.head()"
   ]
  },
  {
   "cell_type": "code",
   "execution_count": null,
   "metadata": {},
   "outputs": [],
   "source": []
  }
 ],
 "metadata": {
  "kernelspec": {
   "display_name": "Python 3",
   "language": "python",
   "name": "python3"
  },
  "language_info": {
   "codemirror_mode": {
    "name": "ipython",
    "version": 3
   },
   "file_extension": ".py",
   "mimetype": "text/x-python",
   "name": "python",
   "nbconvert_exporter": "python",
   "pygments_lexer": "ipython3",
   "version": "3.5.3"
  }
 },
 "nbformat": 4,
 "nbformat_minor": 2
}
