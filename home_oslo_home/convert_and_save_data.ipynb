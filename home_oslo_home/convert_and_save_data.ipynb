{
 "cells": [
  {
   "cell_type": "code",
   "execution_count": 1,
   "metadata": {},
   "outputs": [],
   "source": [
    "import re\n",
    "import json\n",
    "import pandas as pd\n",
    "from google.cloud import bigquery"
   ]
  },
  {
   "cell_type": "code",
   "execution_count": 2,
   "metadata": {},
   "outputs": [],
   "source": [
    "%load_ext google.cloud.bigquery"
   ]
  },
  {
   "cell_type": "code",
   "execution_count": 56,
   "metadata": {},
   "outputs": [
    {
     "data": {
      "text/html": [
       "<div>\n",
       "<style scoped>\n",
       "    .dataframe tbody tr th:only-of-type {\n",
       "        vertical-align: middle;\n",
       "    }\n",
       "\n",
       "    .dataframe tbody tr th {\n",
       "        vertical-align: top;\n",
       "    }\n",
       "\n",
       "    .dataframe thead th {\n",
       "        text-align: right;\n",
       "    }\n",
       "</style>\n",
       "<table border=\"1\" class=\"dataframe\">\n",
       "  <thead>\n",
       "    <tr style=\"text-align: right;\">\n",
       "      <th></th>\n",
       "      <th>f0_</th>\n",
       "    </tr>\n",
       "  </thead>\n",
       "  <tbody>\n",
       "    <tr>\n",
       "      <th>0</th>\n",
       "      <td>1245</td>\n",
       "    </tr>\n",
       "  </tbody>\n",
       "</table>\n",
       "</div>"
      ],
      "text/plain": [
       "    f0_\n",
       "0  1245"
      ]
     },
     "execution_count": 56,
     "metadata": {},
     "output_type": "execute_result"
    }
   ],
   "source": [
    "%%bigquery\n",
    "SELECT\n",
    "    count(*)\n",
    "FROM `hde-test-clean.housing_data.real_estate_raw`"
   ]
  },
  {
   "cell_type": "code",
   "execution_count": 4,
   "metadata": {},
   "outputs": [],
   "source": [
    "query_client = bigquery.Client()"
   ]
  },
  {
   "cell_type": "code",
   "execution_count": 5,
   "metadata": {},
   "outputs": [],
   "source": [
    "request = \"\"\"\n",
    "SELECT\n",
    "    *\n",
    "FROM\n",
    "    `hde-test-clean.housing_data.real_estate_raw`\n",
    "\"\"\"\n",
    "real_estate_raw = query_client.query(request).to_dataframe()"
   ]
  },
  {
   "cell_type": "code",
   "execution_count": 6,
   "metadata": {},
   "outputs": [
    {
     "name": "stdout",
     "output_type": "stream",
     "text": [
      "<class 'pandas.core.frame.DataFrame'>\n",
      "RangeIndex: 1245 entries, 0 to 1244\n",
      "Data columns (total 11 columns):\n",
      "ad_id                1245 non-null int64\n",
      "ad_url               1245 non-null object\n",
      "new_building         1245 non-null bool\n",
      "short_description    1245 non-null object\n",
      "full_description     1245 non-null object\n",
      "property_table       1245 non-null object\n",
      "main_price           1245 non-null object\n",
      "property_attrs       1245 non-null object\n",
      "address              1245 non-null object\n",
      "datetime_viewed      1245 non-null datetime64[ns]\n",
      "datetime_offset      1245 non-null object\n",
      "dtypes: bool(1), datetime64[ns](1), int64(1), object(8)\n",
      "memory usage: 98.6+ KB\n"
     ]
    }
   ],
   "source": [
    "real_estate_raw.info()"
   ]
  },
  {
   "cell_type": "code",
   "execution_count": 7,
   "metadata": {},
   "outputs": [],
   "source": [
    "real_estate_raw.set_index(keys='ad_id', drop=True, inplace=True)"
   ]
  },
  {
   "cell_type": "code",
   "execution_count": 8,
   "metadata": {},
   "outputs": [
    {
     "data": {
      "text/html": [
       "<div>\n",
       "<style scoped>\n",
       "    .dataframe tbody tr th:only-of-type {\n",
       "        vertical-align: middle;\n",
       "    }\n",
       "\n",
       "    .dataframe tbody tr th {\n",
       "        vertical-align: top;\n",
       "    }\n",
       "\n",
       "    .dataframe thead th {\n",
       "        text-align: right;\n",
       "    }\n",
       "</style>\n",
       "<table border=\"1\" class=\"dataframe\">\n",
       "  <thead>\n",
       "    <tr style=\"text-align: right;\">\n",
       "      <th></th>\n",
       "      <th>ad_url</th>\n",
       "      <th>new_building</th>\n",
       "      <th>short_description</th>\n",
       "      <th>full_description</th>\n",
       "      <th>property_table</th>\n",
       "      <th>main_price</th>\n",
       "      <th>property_attrs</th>\n",
       "      <th>address</th>\n",
       "      <th>datetime_viewed</th>\n",
       "      <th>datetime_offset</th>\n",
       "    </tr>\n",
       "    <tr>\n",
       "      <th>ad_id</th>\n",
       "      <th></th>\n",
       "      <th></th>\n",
       "      <th></th>\n",
       "      <th></th>\n",
       "      <th></th>\n",
       "      <th></th>\n",
       "      <th></th>\n",
       "      <th></th>\n",
       "      <th></th>\n",
       "      <th></th>\n",
       "    </tr>\n",
       "  </thead>\n",
       "  <tbody>\n",
       "    <tr>\n",
       "      <th>149269674</th>\n",
       "      <td>https://www.finn.no/realestate/homes/ad.html?f...</td>\n",
       "      <td>False</td>\n",
       "      <td>Ny og delikat 3-roms selveierleil. midt i hjer...</td>\n",
       "      <td>Velkommen til Kantorveien 4 B - moderne og fun...</td>\n",
       "      <td>{}</td>\n",
       "      <td>7 850 000 kr</td>\n",
       "      <td>{\"Omkostninger\": \"27\\u00a0042 kr\", \"Totalpris\"...</td>\n",
       "      <td>Kantorveien 4B, 1410 Kolbotn</td>\n",
       "      <td>2019-06-11 12:38:54</td>\n",
       "      <td>UTC</td>\n",
       "    </tr>\n",
       "    <tr>\n",
       "      <th>149797548</th>\n",
       "      <td>https://www.finn.no/realestate/homes/ad.html?f...</td>\n",
       "      <td>False</td>\n",
       "      <td>Arealeffektiv og sentral 2-roms selveier leili...</td>\n",
       "      <td>Aktiv Eiendomsmegling ved Celine B. S. Holm ha...</td>\n",
       "      <td>{}</td>\n",
       "      <td>1 690 000 kr</td>\n",
       "      <td>{\"Fellesgjeld\": \"32\\u00a0000 kr\", \"Omkostninge...</td>\n",
       "      <td>Herkulesvegen 77D, 2165 Hvam</td>\n",
       "      <td>2019-06-11 12:41:27</td>\n",
       "      <td>UTC</td>\n",
       "    </tr>\n",
       "    <tr>\n",
       "      <th>149814042</th>\n",
       "      <td>https://www.finn.no/realestate/homes/ad.html?f...</td>\n",
       "      <td>False</td>\n",
       "      <td>Gjennomgående 3-roms med balkong l Idyllisk ut...</td>\n",
       "      <td>Velkommen til Ammerudveien 51! Leiligheten lig...</td>\n",
       "      <td>{}</td>\n",
       "      <td>2 600 000 kr</td>\n",
       "      <td>{\"Fellesgjeld\": \"172\\u00a0000 kr\", \"Omkostning...</td>\n",
       "      <td>Ammerudveien 51, 0958 Oslo</td>\n",
       "      <td>2019-06-11 12:40:53</td>\n",
       "      <td>UTC</td>\n",
       "    </tr>\n",
       "    <tr>\n",
       "      <th>149828158</th>\n",
       "      <td>https://www.finn.no/realestate/homes/ad.html?f...</td>\n",
       "      <td>False</td>\n",
       "      <td>Stor og vakker leilighet - to balkonger - stor...</td>\n",
       "      <td>Velkommen til denne fantastiske leiligheten!De...</td>\n",
       "      <td>{}</td>\n",
       "      <td>8 000 000 kr</td>\n",
       "      <td>{\"Fellesgjeld\": \"99\\u00a0566 kr\", \"Omkostninge...</td>\n",
       "      <td>Waldemar Thranes gate 66 D, 0173 Oslo</td>\n",
       "      <td>2019-06-11 12:40:32</td>\n",
       "      <td>UTC</td>\n",
       "    </tr>\n",
       "    <tr>\n",
       "      <th>147199162</th>\n",
       "      <td>https://www.finn.no/realestate/homes/ad.html?f...</td>\n",
       "      <td>False</td>\n",
       "      <td>Unikt renoveringsobjekt. 7-roms ene- el. 2-man...</td>\n",
       "      <td>Huset har til nå fylt rollen som generasjonsbo...</td>\n",
       "      <td>{}</td>\n",
       "      <td>8 700 000 kr</td>\n",
       "      <td>{\"Omkostninger\": \"229\\u00a0822 kr\", \"Totalpris...</td>\n",
       "      <td>Lalienveien 23, 1453 Bjørnemyr</td>\n",
       "      <td>2019-06-11 12:39:13</td>\n",
       "      <td>UTC</td>\n",
       "    </tr>\n",
       "  </tbody>\n",
       "</table>\n",
       "</div>"
      ],
      "text/plain": [
       "                                                      ad_url  new_building  \\\n",
       "ad_id                                                                        \n",
       "149269674  https://www.finn.no/realestate/homes/ad.html?f...         False   \n",
       "149797548  https://www.finn.no/realestate/homes/ad.html?f...         False   \n",
       "149814042  https://www.finn.no/realestate/homes/ad.html?f...         False   \n",
       "149828158  https://www.finn.no/realestate/homes/ad.html?f...         False   \n",
       "147199162  https://www.finn.no/realestate/homes/ad.html?f...         False   \n",
       "\n",
       "                                           short_description  \\\n",
       "ad_id                                                          \n",
       "149269674  Ny og delikat 3-roms selveierleil. midt i hjer...   \n",
       "149797548  Arealeffektiv og sentral 2-roms selveier leili...   \n",
       "149814042  Gjennomgående 3-roms med balkong l Idyllisk ut...   \n",
       "149828158  Stor og vakker leilighet - to balkonger - stor...   \n",
       "147199162  Unikt renoveringsobjekt. 7-roms ene- el. 2-man...   \n",
       "\n",
       "                                            full_description property_table  \\\n",
       "ad_id                                                                         \n",
       "149269674  Velkommen til Kantorveien 4 B - moderne og fun...             {}   \n",
       "149797548  Aktiv Eiendomsmegling ved Celine B. S. Holm ha...             {}   \n",
       "149814042  Velkommen til Ammerudveien 51! Leiligheten lig...             {}   \n",
       "149828158  Velkommen til denne fantastiske leiligheten!De...             {}   \n",
       "147199162  Huset har til nå fylt rollen som generasjonsbo...             {}   \n",
       "\n",
       "             main_price                                     property_attrs  \\\n",
       "ad_id                                                                        \n",
       "149269674  7 850 000 kr  {\"Omkostninger\": \"27\\u00a0042 kr\", \"Totalpris\"...   \n",
       "149797548  1 690 000 kr  {\"Fellesgjeld\": \"32\\u00a0000 kr\", \"Omkostninge...   \n",
       "149814042  2 600 000 kr  {\"Fellesgjeld\": \"172\\u00a0000 kr\", \"Omkostning...   \n",
       "149828158  8 000 000 kr  {\"Fellesgjeld\": \"99\\u00a0566 kr\", \"Omkostninge...   \n",
       "147199162  8 700 000 kr  {\"Omkostninger\": \"229\\u00a0822 kr\", \"Totalpris...   \n",
       "\n",
       "                                         address     datetime_viewed  \\\n",
       "ad_id                                                                  \n",
       "149269674           Kantorveien 4B, 1410 Kolbotn 2019-06-11 12:38:54   \n",
       "149797548           Herkulesvegen 77D, 2165 Hvam 2019-06-11 12:41:27   \n",
       "149814042             Ammerudveien 51, 0958 Oslo 2019-06-11 12:40:53   \n",
       "149828158  Waldemar Thranes gate 66 D, 0173 Oslo 2019-06-11 12:40:32   \n",
       "147199162         Lalienveien 23, 1453 Bjørnemyr 2019-06-11 12:39:13   \n",
       "\n",
       "          datetime_offset  \n",
       "ad_id                      \n",
       "149269674             UTC  \n",
       "149797548             UTC  \n",
       "149814042             UTC  \n",
       "149828158             UTC  \n",
       "147199162             UTC  "
      ]
     },
     "execution_count": 8,
     "metadata": {},
     "output_type": "execute_result"
    }
   ],
   "source": [
    "real_estate_raw.head()"
   ]
  },
  {
   "cell_type": "code",
   "execution_count": 9,
   "metadata": {},
   "outputs": [],
   "source": [
    "for col in ['property_table', 'property_attrs']:\n",
    "    real_estate_raw[col] = [json.loads(cell) for cell in real_estate_raw[col]]"
   ]
  },
  {
   "cell_type": "code",
   "execution_count": 17,
   "metadata": {},
   "outputs": [],
   "source": [
    "def expanand_property_tables(new_buildings):\n",
    "    cols = new_buildings.iloc[0]['property_table'].keys()\n",
    "    col_map = {'Bolig': 'apt_id',\n",
    "               'Soverom': 'num_bedrooms',\n",
    "               'Etg': 'floor',\n",
    "               'P-rom': 'primary_size',\n",
    "               'BRA': 'total_size',\n",
    "               'Totalpris': 'price'}\n",
    "    property_tables = pd.DataFrame(columns=cols)\n",
    "    for code, row in new_buildings['property_table'].iteritems():\n",
    "        all_properties = [arr for arr in row.values()]\n",
    "        to_append = dict(zip(cols, all_properties))\n",
    "        frame = pd.DataFrame(to_append, columns=cols)\n",
    "        frame['ad_id'] = code\n",
    "        property_tables = property_tables.append(frame, ignore_index=True, sort=False)\n",
    "    property_tables.rename(columns=col_map, inplace=True)\n",
    "    return property_tables"
   ]
  },
  {
   "cell_type": "code",
   "execution_count": 42,
   "metadata": {},
   "outputs": [],
   "source": [
    "sub_properties = expanand_property_tables(real_estate_raw[(real_estate_raw.new_building == True) & (real_estate_raw.property_table)])"
   ]
  },
  {
   "cell_type": "code",
   "execution_count": 43,
   "metadata": {},
   "outputs": [
    {
     "data": {
      "text/html": [
       "<div>\n",
       "<style scoped>\n",
       "    .dataframe tbody tr th:only-of-type {\n",
       "        vertical-align: middle;\n",
       "    }\n",
       "\n",
       "    .dataframe tbody tr th {\n",
       "        vertical-align: top;\n",
       "    }\n",
       "\n",
       "    .dataframe thead th {\n",
       "        text-align: right;\n",
       "    }\n",
       "</style>\n",
       "<table border=\"1\" class=\"dataframe\">\n",
       "  <thead>\n",
       "    <tr style=\"text-align: right;\">\n",
       "      <th></th>\n",
       "      <th>apt_id</th>\n",
       "      <th>num_bedrooms</th>\n",
       "      <th>floor</th>\n",
       "      <th>primary_size</th>\n",
       "      <th>total_size</th>\n",
       "      <th>price</th>\n",
       "      <th>ad_id</th>\n",
       "    </tr>\n",
       "  </thead>\n",
       "  <tbody>\n",
       "    <tr>\n",
       "      <th>0</th>\n",
       "      <td>B1</td>\n",
       "      <td>3</td>\n",
       "      <td>1.</td>\n",
       "      <td>140 m²</td>\n",
       "      <td>143 m²</td>\n",
       "      <td>15 290 922 kr</td>\n",
       "      <td>126757425.0</td>\n",
       "    </tr>\n",
       "    <tr>\n",
       "      <th>1</th>\n",
       "      <td>H1</td>\n",
       "      <td>3</td>\n",
       "      <td>1.</td>\n",
       "      <td>156 m²</td>\n",
       "      <td>156 m²</td>\n",
       "      <td>22 102 622 kr</td>\n",
       "      <td>126757425.0</td>\n",
       "    </tr>\n",
       "    <tr>\n",
       "      <th>2</th>\n",
       "      <td>H2</td>\n",
       "      <td>3</td>\n",
       "      <td>2.</td>\n",
       "      <td>159 m²</td>\n",
       "      <td>159 m²</td>\n",
       "      <td>23 104 572 kr</td>\n",
       "      <td>126757425.0</td>\n",
       "    </tr>\n",
       "    <tr>\n",
       "      <th>3</th>\n",
       "      <td>03</td>\n",
       "      <td>3</td>\n",
       "      <td>1.</td>\n",
       "      <td>178 m²</td>\n",
       "      <td>192 m²</td>\n",
       "      <td>11 475 000 kr</td>\n",
       "      <td>96916306.0</td>\n",
       "    </tr>\n",
       "    <tr>\n",
       "      <th>4</th>\n",
       "      <td>04</td>\n",
       "      <td>4</td>\n",
       "      <td>2.</td>\n",
       "      <td>170 m²</td>\n",
       "      <td>180 m²</td>\n",
       "      <td>11 375 000 kr</td>\n",
       "      <td>96916306.0</td>\n",
       "    </tr>\n",
       "  </tbody>\n",
       "</table>\n",
       "</div>"
      ],
      "text/plain": [
       "  apt_id num_bedrooms floor primary_size total_size          price  \\\n",
       "0     B1            3    1.       140 m²     143 m²  15 290 922 kr   \n",
       "1     H1            3    1.       156 m²     156 m²  22 102 622 kr   \n",
       "2     H2            3    2.       159 m²     159 m²  23 104 572 kr   \n",
       "3     03            3    1.       178 m²     192 m²  11 475 000 kr   \n",
       "4     04            4    2.       170 m²     180 m²  11 375 000 kr   \n",
       "\n",
       "         ad_id  \n",
       "0  126757425.0  \n",
       "1  126757425.0  \n",
       "2  126757425.0  \n",
       "3   96916306.0  \n",
       "4   96916306.0  "
      ]
     },
     "execution_count": 43,
     "metadata": {},
     "output_type": "execute_result"
    }
   ],
   "source": [
    "sub_properties.head()"
   ]
  },
  {
   "cell_type": "code",
   "execution_count": 44,
   "metadata": {},
   "outputs": [],
   "source": [
    "def get_int_from_str(string):\n",
    "    try:\n",
    "        concat_string = ''.join(re.findall(r'[\\d.]', string))\n",
    "        if concat_string != '':\n",
    "            return float(concat_string)\n",
    "    except Exception as e:\n",
    "        print(e, string)\n",
    "        pass"
   ]
  },
  {
   "cell_type": "code",
   "execution_count": 45,
   "metadata": {},
   "outputs": [
    {
     "name": "stdout",
     "output_type": "stream",
     "text": [
      "expected string or bytes-like object None\n",
      "expected string or bytes-like object None\n",
      "expected string or bytes-like object None\n",
      "expected string or bytes-like object None\n",
      "expected string or bytes-like object None\n"
     ]
    }
   ],
   "source": [
    "sub_properties_parsed = sub_properties.copy()\n",
    "for col in ['primary_size', 'floor', 'price', 'num_bedrooms', 'total_size']:\n",
    "    sub_properties_parsed[col] = [get_int_from_str(s) for s in sub_properties_parsed[col]]"
   ]
  },
  {
   "cell_type": "code",
   "execution_count": 46,
   "metadata": {},
   "outputs": [
    {
     "name": "stdout",
     "output_type": "stream",
     "text": [
      "<class 'pandas.core.frame.DataFrame'>\n",
      "RangeIndex: 1091 entries, 0 to 1090\n",
      "Data columns (total 7 columns):\n",
      "apt_id          1091 non-null object\n",
      "num_bedrooms    1089 non-null float64\n",
      "floor           974 non-null float64\n",
      "primary_size    791 non-null float64\n",
      "total_size      1088 non-null float64\n",
      "price           1086 non-null float64\n",
      "ad_id           1091 non-null float64\n",
      "dtypes: float64(6), object(1)\n",
      "memory usage: 59.7+ KB\n"
     ]
    }
   ],
   "source": [
    "sub_properties_parsed.info()"
   ]
  },
  {
   "cell_type": "code",
   "execution_count": 47,
   "metadata": {},
   "outputs": [
    {
     "data": {
      "text/html": [
       "<div>\n",
       "<style scoped>\n",
       "    .dataframe tbody tr th:only-of-type {\n",
       "        vertical-align: middle;\n",
       "    }\n",
       "\n",
       "    .dataframe tbody tr th {\n",
       "        vertical-align: top;\n",
       "    }\n",
       "\n",
       "    .dataframe thead th {\n",
       "        text-align: right;\n",
       "    }\n",
       "</style>\n",
       "<table border=\"1\" class=\"dataframe\">\n",
       "  <thead>\n",
       "    <tr style=\"text-align: right;\">\n",
       "      <th></th>\n",
       "      <th>apt_id</th>\n",
       "      <th>num_bedrooms</th>\n",
       "      <th>floor</th>\n",
       "      <th>primary_size</th>\n",
       "      <th>total_size</th>\n",
       "      <th>price</th>\n",
       "      <th>ad_id</th>\n",
       "    </tr>\n",
       "  </thead>\n",
       "  <tbody>\n",
       "    <tr>\n",
       "      <th>0</th>\n",
       "      <td>B1</td>\n",
       "      <td>3.0</td>\n",
       "      <td>1.0</td>\n",
       "      <td>140.0</td>\n",
       "      <td>143.0</td>\n",
       "      <td>15290922.0</td>\n",
       "      <td>126757425.0</td>\n",
       "    </tr>\n",
       "    <tr>\n",
       "      <th>1</th>\n",
       "      <td>H1</td>\n",
       "      <td>3.0</td>\n",
       "      <td>1.0</td>\n",
       "      <td>156.0</td>\n",
       "      <td>156.0</td>\n",
       "      <td>22102622.0</td>\n",
       "      <td>126757425.0</td>\n",
       "    </tr>\n",
       "    <tr>\n",
       "      <th>2</th>\n",
       "      <td>H2</td>\n",
       "      <td>3.0</td>\n",
       "      <td>2.0</td>\n",
       "      <td>159.0</td>\n",
       "      <td>159.0</td>\n",
       "      <td>23104572.0</td>\n",
       "      <td>126757425.0</td>\n",
       "    </tr>\n",
       "    <tr>\n",
       "      <th>3</th>\n",
       "      <td>03</td>\n",
       "      <td>3.0</td>\n",
       "      <td>1.0</td>\n",
       "      <td>178.0</td>\n",
       "      <td>192.0</td>\n",
       "      <td>11475000.0</td>\n",
       "      <td>96916306.0</td>\n",
       "    </tr>\n",
       "    <tr>\n",
       "      <th>4</th>\n",
       "      <td>04</td>\n",
       "      <td>4.0</td>\n",
       "      <td>2.0</td>\n",
       "      <td>170.0</td>\n",
       "      <td>180.0</td>\n",
       "      <td>11375000.0</td>\n",
       "      <td>96916306.0</td>\n",
       "    </tr>\n",
       "  </tbody>\n",
       "</table>\n",
       "</div>"
      ],
      "text/plain": [
       "  apt_id  num_bedrooms  floor  primary_size  total_size       price  \\\n",
       "0     B1           3.0    1.0         140.0       143.0  15290922.0   \n",
       "1     H1           3.0    1.0         156.0       156.0  22102622.0   \n",
       "2     H2           3.0    2.0         159.0       159.0  23104572.0   \n",
       "3     03           3.0    1.0         178.0       192.0  11475000.0   \n",
       "4     04           4.0    2.0         170.0       180.0  11375000.0   \n",
       "\n",
       "         ad_id  \n",
       "0  126757425.0  \n",
       "1  126757425.0  \n",
       "2  126757425.0  \n",
       "3   96916306.0  \n",
       "4   96916306.0  "
      ]
     },
     "execution_count": 47,
     "metadata": {},
     "output_type": "execute_result"
    }
   ],
   "source": [
    "sub_properties_parsed.head()"
   ]
  },
  {
   "cell_type": "code",
   "execution_count": 48,
   "metadata": {},
   "outputs": [],
   "source": [
    "sub_properties_parsed.drop_duplicates(subset=['apt_id', 'num_bedrooms', 'floor', 'primary_size', 'total_size', 'price'], inplace=True)"
   ]
  },
  {
   "cell_type": "code",
   "execution_count": 49,
   "metadata": {},
   "outputs": [
    {
     "name": "stdout",
     "output_type": "stream",
     "text": [
      "<class 'pandas.core.frame.DataFrame'>\n",
      "Int64Index: 613 entries, 0 to 1088\n",
      "Data columns (total 7 columns):\n",
      "apt_id          613 non-null object\n",
      "num_bedrooms    611 non-null float64\n",
      "floor           538 non-null float64\n",
      "primary_size    469 non-null float64\n",
      "total_size      612 non-null float64\n",
      "price           610 non-null float64\n",
      "ad_id           613 non-null float64\n",
      "dtypes: float64(6), object(1)\n",
      "memory usage: 38.3+ KB\n"
     ]
    }
   ],
   "source": [
    "sub_properties_parsed.info()"
   ]
  },
  {
   "cell_type": "code",
   "execution_count": 58,
   "metadata": {},
   "outputs": [],
   "source": [
    "expanded_sub_properties_schema = [{'name': 'apt_id', 'type': 'STRING'},\n",
    "                                  {'name': 'num_bedrooms', 'type': 'INTEGER'},\n",
    "                                  {'name': 'floor', 'type': 'INTEGER'},\n",
    "                                  {'name': 'primary_size', 'type': 'FLOAT'},\n",
    "                                  {'name': 'total_size', 'type': 'FLOAT'},\n",
    "                                  {'name': 'price', 'type': 'FLOAT'},\n",
    "                                  {'name': 'ad_id', 'type': 'INTEGER'},]"
   ]
  },
  {
   "cell_type": "code",
   "execution_count": 59,
   "metadata": {},
   "outputs": [],
   "source": [
    "sub_properties_parsed.to_gbq(destination_table='housing_data.expanded_sub_properties',\n",
    "                             project_id='hde-test-clean',\n",
    "                             table_schema=expanded_sub_properties_schema,\n",
    "                             if_exists='append')"
   ]
  },
  {
   "cell_type": "code",
   "execution_count": null,
   "metadata": {},
   "outputs": [],
   "source": []
  }
 ],
 "metadata": {
  "kernelspec": {
   "display_name": "Python 3",
   "language": "python",
   "name": "python3"
  },
  "language_info": {
   "codemirror_mode": {
    "name": "ipython",
    "version": 3
   },
   "file_extension": ".py",
   "mimetype": "text/x-python",
   "name": "python",
   "nbconvert_exporter": "python",
   "pygments_lexer": "ipython3",
   "version": "3.7.1"
  }
 },
 "nbformat": 4,
 "nbformat_minor": 2
}
