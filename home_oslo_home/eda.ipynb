{
 "cells": [
  {
   "cell_type": "markdown",
   "metadata": {},
   "source": [
    "# 1. Definition\n",
    "## 1.1 Project Overview\n",
    "From December 2008 until December 2018, the mean property prices in all of Norway have increased by 82%. However, for the region of Oslo, the growth for the same period was 121%[[1]](https://krogsveen.no/Boligprisstatistikk/(county)/Oslo 'Krogsveen Norge'). This complication makes the purchase of property in the biggest urban center in Norway a process having an inherent financial risk.\n",
    "\n",
    "The purpose of this project is to provide a comprehensive view of the property market of Oslo and Akershuhs. Such analysis would inform a prudent purchase of real estate by the user in the above-mentioned areas. The main goals of investigation for the analysis are to:\n",
    "* Estimate a reasonable price per square meter in various parts of Oslo and Akershus\n",
    "* Understand the factors that have the highest influence on the price per square meter\n",
    "* Detect areas with overvalued and undervalued real estate prices\n",
    "* Find and recommend properties suitable for purchase based on the findings from this analysis\n",
    "\n",
    "The datasets used in this analysis are:\n",
    "* Real estate dataset\n",
    "* Post codes dataset\n",
    "* Google places dataset\n",
    "* Dataset by the National Health Institute referred to also as FHI\n",
    "\n",
    "## 1.2 Problem Statement\n",
    "We need to identify patterns and relationships between various real estate features (e.g. size, number of floors, energy characteristics) and the target (price per square meter). In addition, we need to identify potential neighborhood features to augment the real estate dataset.\n",
    "\n",
    "## 1.3 Metrics\n",
    "Since our problem requires the prediction of the target value, we will utilize the following regression metrics:\n",
    "* Mean Squared Error\n",
    "* Median Squared Error\n",
    "* Max Error\n",
    "* Explained Variance\n",
    "* R2 Score\n",
    "\n",
    "# 2. Analysis\n",
    "## 2.1 Data Exploration\n",
    "We will start by importing the libraries we will utilize."
   ]
  },
  {
   "cell_type": "code",
   "execution_count": 1,
   "metadata": {},
   "outputs": [],
   "source": [
    "import pandas as pd\n",
    "import numpy as np\n",
    "from sklearn import preprocessing as preprocess\n",
    "from google.cloud import bigquery\n",
    "import matplotlib.pyplot as plt\n",
    "import seaborn as sns\n",
    "import folium\n",
    "from folium import plugins\n",
    "import datashader as ds\n",
    "from datashader import transfer_functions as tf\n",
    "import utils as u"
   ]
  },
  {
   "cell_type": "markdown",
   "metadata": {},
   "source": [
    "Next, we will set up our visual style for the rest of the notebook."
   ]
  },
  {
   "cell_type": "code",
   "execution_count": 2,
   "metadata": {},
   "outputs": [],
   "source": [
    "pd.set_option('display.max_colwidth', 20)\n",
    "pd.set_option('display.max_columns', 40)\n",
    "pd.set_option('display.max_rows', 40)\n",
    "from IPython.display import display, HTML\n",
    "%matplotlib inline\n",
    "sns.set(style='dark')\n",
    "plt.rcParams['figure.figsize'] = [14, 10]"
   ]
  },
  {
   "cell_type": "markdown",
   "metadata": {},
   "source": [
    "We will now import the main dataset."
   ]
  },
  {
   "cell_type": "code",
   "execution_count": 3,
   "metadata": {},
   "outputs": [],
   "source": [
    "queries = u.get_queries('queries')"
   ]
  },
  {
   "cell_type": "code",
   "execution_count": 4,
   "metadata": {},
   "outputs": [],
   "source": [
    "bq_client = bigquery.Client()"
   ]
  },
  {
   "cell_type": "code",
   "execution_count": 5,
   "metadata": {},
   "outputs": [],
   "source": [
    "data = u.get_real_estate_data(queries, bq_client)"
   ]
  },
  {
   "cell_type": "code",
   "execution_count": 6,
   "metadata": {},
   "outputs": [
    {
     "data": {
      "text/html": [
       "<div>\n",
       "<style scoped>\n",
       "    .dataframe tbody tr th:only-of-type {\n",
       "        vertical-align: middle;\n",
       "    }\n",
       "\n",
       "    .dataframe tbody tr th {\n",
       "        vertical-align: top;\n",
       "    }\n",
       "\n",
       "    .dataframe thead th {\n",
       "        text-align: right;\n",
       "    }\n",
       "</style>\n",
       "<table border=\"1\" class=\"dataframe\">\n",
       "  <thead>\n",
       "    <tr style=\"text-align: right;\">\n",
       "      <th></th>\n",
       "      <th>new_building</th>\n",
       "      <th>num_bedrooms</th>\n",
       "      <th>floor</th>\n",
       "      <th>primary_size</th>\n",
       "      <th>total_size</th>\n",
       "      <th>price</th>\n",
       "      <th>property_type</th>\n",
       "      <th>ownership_type</th>\n",
       "      <th>construction_year</th>\n",
       "      <th>energy_character</th>\n",
       "      <th>common_expenses</th>\n",
       "      <th>brokerage_expenses</th>\n",
       "      <th>common_wealth</th>\n",
       "      <th>common_debt</th>\n",
       "      <th>address</th>\n",
       "    </tr>\n",
       "  </thead>\n",
       "  <tbody>\n",
       "    <tr>\n",
       "      <th>0</th>\n",
       "      <td>True</td>\n",
       "      <td>2.0</td>\n",
       "      <td>NaN</td>\n",
       "      <td>89.0</td>\n",
       "      <td>93.0</td>\n",
       "      <td>3211622.0</td>\n",
       "      <td>Leilighet</td>\n",
       "      <td>Eier (Selveier)</td>\n",
       "      <td>2019.0</td>\n",
       "      <td>B -oransje</td>\n",
       "      <td>NaN</td>\n",
       "      <td>NaN</td>\n",
       "      <td>NaN</td>\n",
       "      <td>0.0</td>\n",
       "      <td>Siggerudbråten, ...</td>\n",
       "    </tr>\n",
       "    <tr>\n",
       "      <th>1</th>\n",
       "      <td>True</td>\n",
       "      <td>2.0</td>\n",
       "      <td>2.0</td>\n",
       "      <td>89.0</td>\n",
       "      <td>93.0</td>\n",
       "      <td>3261622.0</td>\n",
       "      <td>Leilighet</td>\n",
       "      <td>Eier (Selveier)</td>\n",
       "      <td>2019.0</td>\n",
       "      <td>B -oransje</td>\n",
       "      <td>NaN</td>\n",
       "      <td>NaN</td>\n",
       "      <td>NaN</td>\n",
       "      <td>0.0</td>\n",
       "      <td>Siggerudbråten, ...</td>\n",
       "    </tr>\n",
       "    <tr>\n",
       "      <th>2</th>\n",
       "      <td>True</td>\n",
       "      <td>2.0</td>\n",
       "      <td>2.0</td>\n",
       "      <td>89.0</td>\n",
       "      <td>93.0</td>\n",
       "      <td>3308582.0</td>\n",
       "      <td>Leilighet</td>\n",
       "      <td>Eier (Selveier)</td>\n",
       "      <td>2019.0</td>\n",
       "      <td>B -oransje</td>\n",
       "      <td>NaN</td>\n",
       "      <td>NaN</td>\n",
       "      <td>NaN</td>\n",
       "      <td>0.0</td>\n",
       "      <td>Siggerudbråten, ...</td>\n",
       "    </tr>\n",
       "    <tr>\n",
       "      <th>3</th>\n",
       "      <td>True</td>\n",
       "      <td>2.0</td>\n",
       "      <td>2.0</td>\n",
       "      <td>89.0</td>\n",
       "      <td>93.0</td>\n",
       "      <td>3409162.0</td>\n",
       "      <td>Leilighet</td>\n",
       "      <td>Eier (Selveier)</td>\n",
       "      <td>2019.0</td>\n",
       "      <td>B -oransje</td>\n",
       "      <td>NaN</td>\n",
       "      <td>NaN</td>\n",
       "      <td>NaN</td>\n",
       "      <td>0.0</td>\n",
       "      <td>Siggerudbråten, ...</td>\n",
       "    </tr>\n",
       "    <tr>\n",
       "      <th>4</th>\n",
       "      <td>True</td>\n",
       "      <td>2.0</td>\n",
       "      <td>2.0</td>\n",
       "      <td>67.0</td>\n",
       "      <td>71.0</td>\n",
       "      <td>2908582.0</td>\n",
       "      <td>Leilighet</td>\n",
       "      <td>Eier (Selveier)</td>\n",
       "      <td>2019.0</td>\n",
       "      <td>B -oransje</td>\n",
       "      <td>NaN</td>\n",
       "      <td>NaN</td>\n",
       "      <td>NaN</td>\n",
       "      <td>0.0</td>\n",
       "      <td>Siggerudbråten, ...</td>\n",
       "    </tr>\n",
       "  </tbody>\n",
       "</table>\n",
       "</div>"
      ],
      "text/plain": [
       "   new_building  num_bedrooms  floor  primary_size  total_size      price  \\\n",
       "0          True           2.0    NaN          89.0        93.0  3211622.0   \n",
       "1          True           2.0    2.0          89.0        93.0  3261622.0   \n",
       "2          True           2.0    2.0          89.0        93.0  3308582.0   \n",
       "3          True           2.0    2.0          89.0        93.0  3409162.0   \n",
       "4          True           2.0    2.0          67.0        71.0  2908582.0   \n",
       "\n",
       "  property_type   ownership_type  construction_year energy_character  \\\n",
       "0     Leilighet  Eier (Selveier)             2019.0       B -oransje   \n",
       "1     Leilighet  Eier (Selveier)             2019.0       B -oransje   \n",
       "2     Leilighet  Eier (Selveier)             2019.0       B -oransje   \n",
       "3     Leilighet  Eier (Selveier)             2019.0       B -oransje   \n",
       "4     Leilighet  Eier (Selveier)             2019.0       B -oransje   \n",
       "\n",
       "   common_expenses  brokerage_expenses  common_wealth  common_debt  \\\n",
       "0              NaN                 NaN            NaN          0.0   \n",
       "1              NaN                 NaN            NaN          0.0   \n",
       "2              NaN                 NaN            NaN          0.0   \n",
       "3              NaN                 NaN            NaN          0.0   \n",
       "4              NaN                 NaN            NaN          0.0   \n",
       "\n",
       "               address  \n",
       "0  Siggerudbråten, ...  \n",
       "1  Siggerudbråten, ...  \n",
       "2  Siggerudbråten, ...  \n",
       "3  Siggerudbråten, ...  \n",
       "4  Siggerudbråten, ...  "
      ]
     },
     "execution_count": 6,
     "metadata": {},
     "output_type": "execute_result"
    }
   ],
   "source": [
    "data.iloc[:, 2:].head()"
   ]
  },
  {
   "cell_type": "markdown",
   "metadata": {},
   "source": [
    "We now need to inspect the number of missing values per feature."
   ]
  },
  {
   "cell_type": "code",
   "execution_count": 7,
   "metadata": {},
   "outputs": [
    {
     "name": "stdout",
     "output_type": "stream",
     "text": [
      "<class 'pandas.core.frame.DataFrame'>\n",
      "RangeIndex: 5291 entries, 0 to 5290\n",
      "Data columns (total 17 columns):\n",
      "ad_id                 5291 non-null int64\n",
      "apt_id                3892 non-null object\n",
      "new_building          5291 non-null bool\n",
      "num_bedrooms          5109 non-null float64\n",
      "floor                 4287 non-null float64\n",
      "primary_size          4786 non-null float64\n",
      "total_size            5067 non-null float64\n",
      "price                 5088 non-null float64\n",
      "property_type         5289 non-null object\n",
      "ownership_type        5289 non-null object\n",
      "construction_year     5281 non-null float64\n",
      "energy_character      1733 non-null object\n",
      "common_expenses       1004 non-null float64\n",
      "brokerage_expenses    1266 non-null float64\n",
      "common_wealth         697 non-null float64\n",
      "common_debt           1253 non-null float64\n",
      "address               5289 non-null object\n",
      "dtypes: bool(1), float64(10), int64(1), object(5)\n",
      "memory usage: 666.6+ KB\n"
     ]
    }
   ],
   "source": [
    "data.info()"
   ]
  },
  {
   "cell_type": "markdown",
   "metadata": {},
   "source": [
    "As we can see, there are only 2 complete fields. Since our target is defined as price per square meter, we need to limit ourselves to the cases where both the `primary_size` and the `price` of each real estate object are present."
   ]
  },
  {
   "cell_type": "code",
   "execution_count": 8,
   "metadata": {},
   "outputs": [],
   "source": [
    "data = data[(data.price.notna()) & (data.primary_size.notna())].copy()"
   ]
  },
  {
   "cell_type": "markdown",
   "metadata": {},
   "source": [
    "We can now sort and plot the features by the number of `NULL` values."
   ]
  },
  {
   "cell_type": "code",
   "execution_count": 20,
   "metadata": {},
   "outputs": [
    {
     "data": {
      "image/png": "[encoded data removed]",
      "text/plain": [
       "<Figure size 1008x720 with 1 Axes>"
      ]
     },
     "metadata": {},
     "output_type": "display_data"
    }
   ],
   "source": [
    "to_plot = data.isna().sum(axis=0).drop(['ad_id', 'apt_id']) / len(data)\n",
    "to_plot = to_plot[to_plot > 0].sort_values()\n",
    "\n",
    "top_missing_columns = list(to_plot[to_plot > 0.7].index)\n",
    "\n",
    "plt.yticks(range(len(to_plot)), to_plot.index)\n",
    "plt.title('Missing Percentage Per Feature')\n",
    "plt.barh(range(len(to_plot)), to_plot)\n",
    "plt.show()"
   ]
  },
  {
   "cell_type": "markdown",
   "metadata": {},
   "source": [
    "As we can see, the features with the least number of `NULL` values are: `construction_year`, `num_bedrooms`, `total_size` (expected as we filtered the missing `primary_size` values) and `address`. Conversely, the features with highes percentage of missing values are: `common_wealth`, `common_expenses`, `common_debt`, `brokerage_expenses` and `energy_character`.\n",
    "\n",
    "It is worth mentioning that it is possible that a missing value for: `common_wealth`, `common_expenses`, `common_debt` and `brokerage_expenses` may mean that there are no such expenses / debt / eatlh (i.e. 0). We will investigate that further.\n",
    "\n",
    "The `floor` column has about 20% (as of the time of writing of this analysis) missing values. It may be possible to infer and impute the value for this feature. Again, we will investigate that further on.\n",
    "\n",
    "Let us now look at the distribution of `common_wealth`, `common_expenses`, `common_debt` and `brokerage_expenses`:"
   ]
  },
  {
   "cell_type": "code",
   "execution_count": 22,
   "metadata": {},
   "outputs": [
    {
     "data": {
      "text/html": [
       "<div>\n",
       "<style scoped>\n",
       "    .dataframe tbody tr th:only-of-type {\n",
       "        vertical-align: middle;\n",
       "    }\n",
       "\n",
       "    .dataframe tbody tr th {\n",
       "        vertical-align: top;\n",
       "    }\n",
       "\n",
       "    .dataframe thead th {\n",
       "        text-align: right;\n",
       "    }\n",
       "</style>\n",
       "<table border=\"1\" class=\"dataframe\">\n",
       "  <thead>\n",
       "    <tr style=\"text-align: right;\">\n",
       "      <th></th>\n",
       "      <th>brokerage_expenses</th>\n",
       "      <th>common_debt</th>\n",
       "      <th>common_expenses</th>\n",
       "      <th>common_wealth</th>\n",
       "    </tr>\n",
       "  </thead>\n",
       "  <tbody>\n",
       "    <tr>\n",
       "      <th>count</th>\n",
       "      <td>1.261000e+03</td>\n",
       "      <td>1.191000e+03</td>\n",
       "      <td>951.000000</td>\n",
       "      <td>6.640000e+02</td>\n",
       "    </tr>\n",
       "    <tr>\n",
       "      <th>mean</th>\n",
       "      <td>1.072662e+05</td>\n",
       "      <td>7.609612e+12</td>\n",
       "      <td>3575.644585</td>\n",
       "      <td>3.001912e+04</td>\n",
       "    </tr>\n",
       "    <tr>\n",
       "      <th>std</th>\n",
       "      <td>1.221284e+05</td>\n",
       "      <td>1.120707e+13</td>\n",
       "      <td>1564.052117</td>\n",
       "      <td>7.985621e+04</td>\n",
       "    </tr>\n",
       "    <tr>\n",
       "      <th>min</th>\n",
       "      <td>0.000000e+00</td>\n",
       "      <td>0.000000e+00</td>\n",
       "      <td>83.000000</td>\n",
       "      <td>3.280000e+02</td>\n",
       "    </tr>\n",
       "    <tr>\n",
       "      <th>25%</th>\n",
       "      <td>1.244600e+04</td>\n",
       "      <td>7.311950e+04</td>\n",
       "      <td>2600.000000</td>\n",
       "      <td>1.128650e+04</td>\n",
       "    </tr>\n",
       "    <tr>\n",
       "      <th>50%</th>\n",
       "      <td>9.372200e+04</td>\n",
       "      <td>2.587890e+05</td>\n",
       "      <td>3378.000000</td>\n",
       "      <td>1.928600e+04</td>\n",
       "    </tr>\n",
       "    <tr>\n",
       "      <th>75%</th>\n",
       "      <td>1.549720e+05</td>\n",
       "      <td>1.800000e+13</td>\n",
       "      <td>4230.000000</td>\n",
       "      <td>3.298025e+04</td>\n",
       "    </tr>\n",
       "    <tr>\n",
       "      <th>max</th>\n",
       "      <td>2.001222e+06</td>\n",
       "      <td>4.095000e+13</td>\n",
       "      <td>15056.000000</td>\n",
       "      <td>1.905469e+06</td>\n",
       "    </tr>\n",
       "  </tbody>\n",
       "</table>\n",
       "</div>"
      ],
      "text/plain": [
       "       brokerage_expenses   common_debt  common_expenses  common_wealth\n",
       "count        1.261000e+03  1.191000e+03       951.000000   6.640000e+02\n",
       "mean         1.072662e+05  7.609612e+12      3575.644585   3.001912e+04\n",
       "std          1.221284e+05  1.120707e+13      1564.052117   7.985621e+04\n",
       "min          0.000000e+00  0.000000e+00        83.000000   3.280000e+02\n",
       "25%          1.244600e+04  7.311950e+04      2600.000000   1.128650e+04\n",
       "50%          9.372200e+04  2.587890e+05      3378.000000   1.928600e+04\n",
       "75%          1.549720e+05  1.800000e+13      4230.000000   3.298025e+04\n",
       "max          2.001222e+06  4.095000e+13     15056.000000   1.905469e+06"
      ]
     },
     "execution_count": 22,
     "metadata": {},
     "output_type": "execute_result"
    }
   ],
   "source": [
    "data[top_missing_columns].describe()"
   ]
  },
  {
   "cell_type": "markdown",
   "metadata": {},
   "source": [
    "As we can see, the minimum values for `brokerage_expenses` and `common_debt` are 0, which means that we cannot treat missing values as 0 too. The `common_expenses` and `common_wealth`, on the other hand have minimum values higher than 0. This means that we can investigate the latter columns further and drop the former."
   ]
  },
  {
   "cell_type": "code",
   "execution_count": null,
   "metadata": {},
   "outputs": [],
   "source": []
  },
  {
   "cell_type": "code",
   "execution_count": null,
   "metadata": {},
   "outputs": [],
   "source": [
    "data = data.join(u.get_energy_cols(data))\n",
    "data.drop('energy_character', axis=1, inplace=True)"
   ]
  },
  {
   "cell_type": "code",
   "execution_count": null,
   "metadata": {},
   "outputs": [],
   "source": [
    "data['post_code'] = data.address.apply(u.get_postcode_from_address)"
   ]
  },
  {
   "cell_type": "code",
   "execution_count": null,
   "metadata": {},
   "outputs": [],
   "source": [
    "data['price_per_sq_m'] = data.price.div(data.primary_size).round(0)"
   ]
  },
  {
   "cell_type": "code",
   "execution_count": null,
   "metadata": {},
   "outputs": [],
   "source": [
    "data['lat_bin'] = pd.cut(data['lat'], bins=25, precision=5)\n",
    "data['lng_bin'] = pd.cut(data['lng'], bins=25, precision=5)"
   ]
  },
  {
   "cell_type": "code",
   "execution_count": null,
   "metadata": {},
   "outputs": [],
   "source": [
    "scaler = preprocess.MinMaxScaler()\n",
    "data['price_per_sq_m_scaled'] = scaler.fit_transform(data['price_per_sq_m'].to_frame())"
   ]
  },
  {
   "cell_type": "markdown",
   "metadata": {},
   "source": [
    "# Geographic Distribution"
   ]
  },
  {
   "cell_type": "code",
   "execution_count": null,
   "metadata": {},
   "outputs": [],
   "source": [
    "sample_size = 1400\n",
    "to_plot = data[(data.lat.notnull()) & (data.price_per_sq_m.notnull())].sample(sample_size)\n",
    "\n",
    "m = folium.Map([59.9116, 10.7545], zoom_start=11)\n",
    "#mark each station as a point\n",
    "for index, row in to_plot.iterrows():\n",
    "    folium.CircleMarker([row['lat'], row['lng']],\n",
    "                        radius=1,\n",
    "                        popup=(row['lat'], row['lng']),\n",
    "                        fill_color=\"#3db7e4\", # divvy color\n",
    "                       ).add_to(m)\n",
    "#convert to (n, 2) nd-array format for heatmap\n",
    "properties_array = to_plot[['lat', 'lng', 'price_per_sq_m_scaled']].values\n",
    "\n",
    "#plot heatmap\n",
    "m.add_child(plugins.HeatMap(properties_array, radius=15))\n",
    "m"
   ]
  },
  {
   "cell_type": "code",
   "execution_count": null,
   "metadata": {},
   "outputs": [],
   "source": []
  }
 ],
 "metadata": {
  "kernelspec": {
   "display_name": "Python 3",
   "language": "python",
   "name": "python3"
  },
  "language_info": {
   "codemirror_mode": {
    "name": "ipython",
    "version": 3
   },
   "file_extension": ".py",
   "mimetype": "text/x-python",
   "name": "python",
   "nbconvert_exporter": "python",
   "pygments_lexer": "ipython3",
   "version": "3.7.3"
  }
 },
 "nbformat": 4,
 "nbformat_minor": 2
}
