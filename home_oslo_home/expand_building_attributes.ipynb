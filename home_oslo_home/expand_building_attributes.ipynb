{
 "cells": [
  {
   "cell_type": "code",
   "execution_count": 1,
   "metadata": {},
   "outputs": [],
   "source": [
    "import re\n",
    "import json\n",
    "import pandas as pd\n",
    "from google.cloud import bigquery"
   ]
  },
  {
   "cell_type": "code",
   "execution_count": 2,
   "metadata": {},
   "outputs": [],
   "source": [
    "%load_ext google.cloud.bigquery"
   ]
  },
  {
   "cell_type": "code",
   "execution_count": 56,
   "metadata": {},
   "outputs": [
    {
     "data": {
      "text/html": [
       "<div>\n",
       "<style scoped>\n",
       "    .dataframe tbody tr th:only-of-type {\n",
       "        vertical-align: middle;\n",
       "    }\n",
       "\n",
       "    .dataframe tbody tr th {\n",
       "        vertical-align: top;\n",
       "    }\n",
       "\n",
       "    .dataframe thead th {\n",
       "        text-align: right;\n",
       "    }\n",
       "</style>\n",
       "<table border=\"1\" class=\"dataframe\">\n",
       "  <thead>\n",
       "    <tr style=\"text-align: right;\">\n",
       "      <th></th>\n",
       "      <th>f0_</th>\n",
       "    </tr>\n",
       "  </thead>\n",
       "  <tbody>\n",
       "    <tr>\n",
       "      <th>0</th>\n",
       "      <td>1245</td>\n",
       "    </tr>\n",
       "  </tbody>\n",
       "</table>\n",
       "</div>"
      ],
      "text/plain": [
       "    f0_\n",
       "0  1245"
      ]
     },
     "execution_count": 56,
     "metadata": {},
     "output_type": "execute_result"
    }
   ],
   "source": [
    "%%bigquery\n",
    "SELECT\n",
    "    count(*)\n",
    "FROM `hde-test-clean.housing_data.real_estate_raw`"
   ]
  },
  {
   "cell_type": "code",
   "execution_count": 4,
   "metadata": {},
   "outputs": [],
   "source": [
    "query_client = bigquery.Client()"
   ]
  },
  {
   "cell_type": "code",
   "execution_count": 5,
   "metadata": {},
   "outputs": [],
   "source": [
    "request = \"\"\"\n",
    "SELECT\n",
    "    *\n",
    "FROM\n",
    "    `hde-test-clean.housing_data.real_estate_raw`\n",
    "\"\"\"\n",
    "real_estate_raw = query_client.query(request).to_dataframe()"
   ]
  },
  {
   "cell_type": "code",
   "execution_count": 6,
   "metadata": {},
   "outputs": [
    {
     "name": "stdout",
     "output_type": "stream",
     "text": [
      "<class 'pandas.core.frame.DataFrame'>\n",
      "RangeIndex: 1245 entries, 0 to 1244\n",
      "Data columns (total 11 columns):\n",
      "ad_id                1245 non-null int64\n",
      "ad_url               1245 non-null object\n",
      "new_building         1245 non-null bool\n",
      "short_description    1245 non-null object\n",
      "full_description     1245 non-null object\n",
      "property_table       1245 non-null object\n",
      "main_price           1245 non-null object\n",
      "property_attrs       1245 non-null object\n",
      "address              1245 non-null object\n",
      "datetime_viewed      1245 non-null datetime64[ns]\n",
      "datetime_offset      1245 non-null object\n",
      "dtypes: bool(1), datetime64[ns](1), int64(1), object(8)\n",
      "memory usage: 98.6+ KB\n"
     ]
    }
   ],
   "source": [
    "real_estate_raw.info()"
   ]
  },
  {
   "cell_type": "code",
   "execution_count": 7,
   "metadata": {},
   "outputs": [],
   "source": [
    "real_estate_raw.set_index(keys='ad_id', drop=True, inplace=True)"
   ]
  },
  {
   "cell_type": "code",
   "execution_count": 105,
   "metadata": {},
   "outputs": [
    {
     "data": {
      "text/html": [
       "<div>\n",
       "<style scoped>\n",
       "    .dataframe tbody tr th:only-of-type {\n",
       "        vertical-align: middle;\n",
       "    }\n",
       "\n",
       "    .dataframe tbody tr th {\n",
       "        vertical-align: top;\n",
       "    }\n",
       "\n",
       "    .dataframe thead th {\n",
       "        text-align: right;\n",
       "    }\n",
       "</style>\n",
       "<table border=\"1\" class=\"dataframe\">\n",
       "  <thead>\n",
       "    <tr style=\"text-align: right;\">\n",
       "      <th></th>\n",
       "      <th>ad_url</th>\n",
       "      <th>new_building</th>\n",
       "      <th>short_description</th>\n",
       "      <th>full_description</th>\n",
       "      <th>property_table</th>\n",
       "      <th>main_price</th>\n",
       "      <th>property_attrs</th>\n",
       "      <th>address</th>\n",
       "      <th>datetime_viewed</th>\n",
       "      <th>datetime_offset</th>\n",
       "    </tr>\n",
       "    <tr>\n",
       "      <th>ad_id</th>\n",
       "      <th></th>\n",
       "      <th></th>\n",
       "      <th></th>\n",
       "      <th></th>\n",
       "      <th></th>\n",
       "      <th></th>\n",
       "      <th></th>\n",
       "      <th></th>\n",
       "      <th></th>\n",
       "      <th></th>\n",
       "    </tr>\n",
       "  </thead>\n",
       "  <tbody>\n",
       "    <tr>\n",
       "      <th>149269674</th>\n",
       "      <td>https://www.finn.no/realestate/homes/ad.html?f...</td>\n",
       "      <td>False</td>\n",
       "      <td>Ny og delikat 3-roms selveierleil. midt i hjer...</td>\n",
       "      <td>Velkommen til Kantorveien 4 B - moderne og fun...</td>\n",
       "      <td>{}</td>\n",
       "      <td>7 850 000 kr</td>\n",
       "      <td>{'Omkostninger': '27 042 kr', 'Totalpris': '7 ...</td>\n",
       "      <td>Kantorveien 4B, 1410 Kolbotn</td>\n",
       "      <td>2019-06-11 12:38:54</td>\n",
       "      <td>UTC</td>\n",
       "    </tr>\n",
       "    <tr>\n",
       "      <th>149797548</th>\n",
       "      <td>https://www.finn.no/realestate/homes/ad.html?f...</td>\n",
       "      <td>False</td>\n",
       "      <td>Arealeffektiv og sentral 2-roms selveier leili...</td>\n",
       "      <td>Aktiv Eiendomsmegling ved Celine B. S. Holm ha...</td>\n",
       "      <td>{}</td>\n",
       "      <td>1 690 000 kr</td>\n",
       "      <td>{'Fellesgjeld': '32 000 kr', 'Omkostninger': '...</td>\n",
       "      <td>Herkulesvegen 77D, 2165 Hvam</td>\n",
       "      <td>2019-06-11 12:41:27</td>\n",
       "      <td>UTC</td>\n",
       "    </tr>\n",
       "    <tr>\n",
       "      <th>149814042</th>\n",
       "      <td>https://www.finn.no/realestate/homes/ad.html?f...</td>\n",
       "      <td>False</td>\n",
       "      <td>Gjennomgående 3-roms med balkong l Idyllisk ut...</td>\n",
       "      <td>Velkommen til Ammerudveien 51! Leiligheten lig...</td>\n",
       "      <td>{}</td>\n",
       "      <td>2 600 000 kr</td>\n",
       "      <td>{'Fellesgjeld': '172 000 kr', 'Omkostninger': ...</td>\n",
       "      <td>Ammerudveien 51, 0958 Oslo</td>\n",
       "      <td>2019-06-11 12:40:53</td>\n",
       "      <td>UTC</td>\n",
       "    </tr>\n",
       "    <tr>\n",
       "      <th>149828158</th>\n",
       "      <td>https://www.finn.no/realestate/homes/ad.html?f...</td>\n",
       "      <td>False</td>\n",
       "      <td>Stor og vakker leilighet - to balkonger - stor...</td>\n",
       "      <td>Velkommen til denne fantastiske leiligheten!De...</td>\n",
       "      <td>{}</td>\n",
       "      <td>8 000 000 kr</td>\n",
       "      <td>{'Fellesgjeld': '99 566 kr', 'Omkostninger': '...</td>\n",
       "      <td>Waldemar Thranes gate 66 D, 0173 Oslo</td>\n",
       "      <td>2019-06-11 12:40:32</td>\n",
       "      <td>UTC</td>\n",
       "    </tr>\n",
       "    <tr>\n",
       "      <th>147199162</th>\n",
       "      <td>https://www.finn.no/realestate/homes/ad.html?f...</td>\n",
       "      <td>False</td>\n",
       "      <td>Unikt renoveringsobjekt. 7-roms ene- el. 2-man...</td>\n",
       "      <td>Huset har til nå fylt rollen som generasjonsbo...</td>\n",
       "      <td>{}</td>\n",
       "      <td>8 700 000 kr</td>\n",
       "      <td>{'Omkostninger': '229 822 kr', 'Totalpris': '8...</td>\n",
       "      <td>Lalienveien 23, 1453 Bjørnemyr</td>\n",
       "      <td>2019-06-11 12:39:13</td>\n",
       "      <td>UTC</td>\n",
       "    </tr>\n",
       "  </tbody>\n",
       "</table>\n",
       "</div>"
      ],
      "text/plain": [
       "                                                      ad_url  new_building  \\\n",
       "ad_id                                                                        \n",
       "149269674  https://www.finn.no/realestate/homes/ad.html?f...         False   \n",
       "149797548  https://www.finn.no/realestate/homes/ad.html?f...         False   \n",
       "149814042  https://www.finn.no/realestate/homes/ad.html?f...         False   \n",
       "149828158  https://www.finn.no/realestate/homes/ad.html?f...         False   \n",
       "147199162  https://www.finn.no/realestate/homes/ad.html?f...         False   \n",
       "\n",
       "                                           short_description  \\\n",
       "ad_id                                                          \n",
       "149269674  Ny og delikat 3-roms selveierleil. midt i hjer...   \n",
       "149797548  Arealeffektiv og sentral 2-roms selveier leili...   \n",
       "149814042  Gjennomgående 3-roms med balkong l Idyllisk ut...   \n",
       "149828158  Stor og vakker leilighet - to balkonger - stor...   \n",
       "147199162  Unikt renoveringsobjekt. 7-roms ene- el. 2-man...   \n",
       "\n",
       "                                            full_description property_table  \\\n",
       "ad_id                                                                         \n",
       "149269674  Velkommen til Kantorveien 4 B - moderne og fun...             {}   \n",
       "149797548  Aktiv Eiendomsmegling ved Celine B. S. Holm ha...             {}   \n",
       "149814042  Velkommen til Ammerudveien 51! Leiligheten lig...             {}   \n",
       "149828158  Velkommen til denne fantastiske leiligheten!De...             {}   \n",
       "147199162  Huset har til nå fylt rollen som generasjonsbo...             {}   \n",
       "\n",
       "             main_price                                     property_attrs  \\\n",
       "ad_id                                                                        \n",
       "149269674  7 850 000 kr  {'Omkostninger': '27 042 kr', 'Totalpris': '7 ...   \n",
       "149797548  1 690 000 kr  {'Fellesgjeld': '32 000 kr', 'Omkostninger': '...   \n",
       "149814042  2 600 000 kr  {'Fellesgjeld': '172 000 kr', 'Omkostninger': ...   \n",
       "149828158  8 000 000 kr  {'Fellesgjeld': '99 566 kr', 'Omkostninger': '...   \n",
       "147199162  8 700 000 kr  {'Omkostninger': '229 822 kr', 'Totalpris': '8...   \n",
       "\n",
       "                                         address     datetime_viewed  \\\n",
       "ad_id                                                                  \n",
       "149269674           Kantorveien 4B, 1410 Kolbotn 2019-06-11 12:38:54   \n",
       "149797548           Herkulesvegen 77D, 2165 Hvam 2019-06-11 12:41:27   \n",
       "149814042             Ammerudveien 51, 0958 Oslo 2019-06-11 12:40:53   \n",
       "149828158  Waldemar Thranes gate 66 D, 0173 Oslo 2019-06-11 12:40:32   \n",
       "147199162         Lalienveien 23, 1453 Bjørnemyr 2019-06-11 12:39:13   \n",
       "\n",
       "          datetime_offset  \n",
       "ad_id                      \n",
       "149269674             UTC  \n",
       "149797548             UTC  \n",
       "149814042             UTC  \n",
       "149828158             UTC  \n",
       "147199162             UTC  "
      ]
     },
     "execution_count": 105,
     "metadata": {},
     "output_type": "execute_result"
    }
   ],
   "source": [
    "real_estate_raw.head()"
   ]
  },
  {
   "cell_type": "code",
   "execution_count": 9,
   "metadata": {},
   "outputs": [],
   "source": [
    "for col in ['property_table', 'property_attrs']:\n",
    "    real_estate_raw[col] = [json.loads(cell) for cell in real_estate_raw[col]]"
   ]
  },
  {
   "cell_type": "code",
   "execution_count": 60,
   "metadata": {},
   "outputs": [],
   "source": [
    "headers = []\n",
    "for id, row in real_estate_raw.property_attrs.items():\n",
    "    for k in row.keys():\n",
    "        headers.append(k)"
   ]
  },
  {
   "cell_type": "code",
   "execution_count": 99,
   "metadata": {},
   "outputs": [],
   "source": [
    "headers = list(set(headers))"
   ]
  },
  {
   "cell_type": "code",
   "execution_count": 63,
   "metadata": {},
   "outputs": [],
   "source": [
    "all_attributes_map = {'Låneverdi': 'loan_value',\n",
    "                      'Soverom': 'num_bedrooms',\n",
    "                      'Primærrom': 'primary_size',\n",
    "                      'Firma': 'company',\n",
    "                      'Eieform': 'ownership_type',\n",
    "                      'Renovert år': 'renovation_year',\n",
    "                      'Bruksareal': 'usable_area',\n",
    "                      'Mobil': 'mobile',\n",
    "                      'Fellesgjeld': 'common_debt',\n",
    "                      'Tomt': 'plot',\n",
    "                      'Lånetakst': 'mortgage_tariff',\n",
    "                      'Tomteareal': 'plot_size',\n",
    "                      'Boligtype': 'property_type',\n",
    "                      'Referanse': 'reference',\n",
    "                      'Bruttoareal': 'total_size',\n",
    "                      'Totalpris': 'price',\n",
    "                      'Areal': 'size',\n",
    "                      'FINN-kode': 'ad_id',\n",
    "                      'Verditakst': 'value_tariff',\n",
    "                      'Eierskifte-forsikring': 'insurance_change_of_ownership',\n",
    "                      'Felleskost/mnd.': 'common_expenses_per_month',\n",
    "                      'Ferdigstillelse': 'completion',\n",
    "                      'Kommunale avg.': 'municipality_taxes',\n",
    "                      'Pris med fellesgjeld': 'price_incl_common_debt',\n",
    "                      'Solforhold': 'sun_light',\n",
    "                      'Sist endret': 'last_changed',\n",
    "                      'Sikringsordning': 'security_arrangement',\n",
    "                      'Energimerking': 'energy_grade',\n",
    "                      'Fellesformue': 'common_wealth',\n",
    "                      'Telefon': 'phone',\n",
    "                      'Enhetsid': 'unit_id',\n",
    "                      'Grunnflate': 'surface_area',\n",
    "                      'Omkostninger': 'brokerage_expenses',\n",
    "                      'Festeavgift': 'reservation_rent',\n",
    "                      'Formuesverdi': 'wealth_value',\n",
    "                      'Utendørsareal': 'outdoors_area',\n",
    "                      'Rom': 'num_rooms',\n",
    "                      'Ant etasjer': 'num_floors',\n",
    "                      'Felleskost/mnd. etter avdragsfri periode': 'common_debt_after_no_fee_period',\n",
    "                      'Byggeår': 'construction_year',\n",
    "                      'Fax': 'fax',\n",
    "                      'Etasje': 'floor'}"
   ]
  },
  {
   "cell_type": "code",
   "execution_count": 100,
   "metadata": {},
   "outputs": [],
   "source": [
    "to_append = []\n",
    "for code, row in real_estate_raw.property_attrs.items():\n",
    "    all_properties = []\n",
    "    for key in headers:\n",
    "        all_properties.append(row.get(key))\n",
    "    to_append.append(all_properties)\n",
    "building_attributes = pd.DataFrame(to_append, columns=headers)\n",
    "building_attributes.rename(columns=all_attributes_map, inplace=True)"
   ]
  },
  {
   "cell_type": "code",
   "execution_count": 107,
   "metadata": {},
   "outputs": [],
   "source": [
    "def get_int_from_str(string):\n",
    "    if string:\n",
    "        try:\n",
    "            concat_string = ''.join(re.findall(r'[\\d.]', string))\n",
    "            if concat_string != '':\n",
    "                return float(concat_string)\n",
    "        except Exception as e:\n",
    "            print(e, string)\n",
    "            pass\n",
    "    else:\n",
    "        return None"
   ]
  },
  {
   "cell_type": "code",
   "execution_count": 108,
   "metadata": {},
   "outputs": [],
   "source": [
    "building_attributes_parsed = building_attributes.copy()\n",
    "for col in ['loan_value', 'num_bedrooms', 'primary_size',\n",
    "            'renovation_year', 'usable_area', 'common_debt',\n",
    "            'plot', 'mortgage_tariff', 'plot_size',\n",
    "            'total_size', 'price', 'size', 'value_tariff',\n",
    "            'common_expenses_per_month', 'municipality_taxes',\n",
    "            'price_incl_common_debt', 'common_wealth',\n",
    "            'surface_area', 'brokerage_expenses', 'reservation_rent',\n",
    "            'wealth_value', 'outdoors_area','num_rooms',\n",
    "            'num_floors', 'common_debt_after_no_fee_period',\n",
    "            'construction_year', 'floor']:\n",
    "    building_attributes_parsed[col] = [get_int_from_str(s) for s in building_attributes_parsed[col]]"
   ]
  },
  {
   "cell_type": "code",
   "execution_count": 109,
   "metadata": {},
   "outputs": [
    {
     "name": "stdout",
     "output_type": "stream",
     "text": [
      "<class 'pandas.core.frame.DataFrame'>\n",
      "RangeIndex: 1245 entries, 0 to 1244\n",
      "Data columns (total 42 columns):\n",
      "loan_value                         2 non-null float64\n",
      "num_bedrooms                       1206 non-null float64\n",
      "primary_size                       1159 non-null float64\n",
      "company                            6 non-null object\n",
      "ownership_type                     1245 non-null object\n",
      "renovation_year                    17 non-null float64\n",
      "usable_area                        1159 non-null float64\n",
      "mobile                             226 non-null object\n",
      "common_debt                        624 non-null float64\n",
      "plot                               0 non-null object\n",
      "mortgage_tariff                    8 non-null float64\n",
      "plot_size                          1115 non-null float64\n",
      "property_type                      1245 non-null object\n",
      "reference                          1223 non-null object\n",
      "total_size                         1043 non-null float64\n",
      "price                              1141 non-null float64\n",
      "size                               80 non-null float64\n",
      "ad_id                              1245 non-null object\n",
      "value_tariff                       27 non-null float64\n",
      "insurance_change_of_ownership      410 non-null object\n",
      "common_expenses_per_month          846 non-null float64\n",
      "completion                         3 non-null object\n",
      "municipality_taxes                 314 non-null float64\n",
      "price_incl_common_debt             34 non-null float64\n",
      "sun_light                          2 non-null object\n",
      "last_changed                       1245 non-null object\n",
      "security_arrangement               4 non-null object\n",
      "energy_grade                       953 non-null object\n",
      "common_wealth                      629 non-null float64\n",
      "phone                              9 non-null object\n",
      "unit_id                            10 non-null object\n",
      "surface_area                       8 non-null float64\n",
      "brokerage_expenses                 1136 non-null float64\n",
      "reservation_rent                   14 non-null float64\n",
      "wealth_value                       1015 non-null float64\n",
      "outdoors_area                      1 non-null float64\n",
      "num_rooms                          768 non-null float64\n",
      "num_floors                         24 non-null float64\n",
      "common_debt_after_no_fee_period    4 non-null float64\n",
      "construction_year                  1138 non-null float64\n",
      "fax                                22 non-null object\n",
      "floor                              818 non-null float64\n",
      "dtypes: float64(26), object(16)\n",
      "memory usage: 408.6+ KB\n"
     ]
    }
   ],
   "source": [
    "building_attributes_parsed.info()"
   ]
  },
  {
   "cell_type": "code",
   "execution_count": null,
   "metadata": {},
   "outputs": [],
   "source": []
  },
  {
   "cell_type": "code",
   "execution_count": null,
   "metadata": {},
   "outputs": [],
   "source": []
  },
  {
   "cell_type": "code",
   "execution_count": null,
   "metadata": {},
   "outputs": [],
   "source": []
  },
  {
   "cell_type": "code",
   "execution_count": null,
   "metadata": {},
   "outputs": [],
   "source": []
  },
  {
   "cell_type": "code",
   "execution_count": null,
   "metadata": {},
   "outputs": [],
   "source": []
  },
  {
   "cell_type": "code",
   "execution_count": null,
   "metadata": {},
   "outputs": [],
   "source": []
  },
  {
   "cell_type": "code",
   "execution_count": null,
   "metadata": {},
   "outputs": [],
   "source": []
  },
  {
   "cell_type": "code",
   "execution_count": 48,
   "metadata": {},
   "outputs": [],
   "source": [
    "sub_properties_parsed.drop_duplicates(subset=['apt_id', 'num_bedrooms', 'floor', 'primary_size', 'total_size', 'price'], inplace=True)"
   ]
  },
  {
   "cell_type": "code",
   "execution_count": 49,
   "metadata": {},
   "outputs": [
    {
     "name": "stdout",
     "output_type": "stream",
     "text": [
      "<class 'pandas.core.frame.DataFrame'>\n",
      "Int64Index: 613 entries, 0 to 1088\n",
      "Data columns (total 7 columns):\n",
      "apt_id          613 non-null object\n",
      "num_bedrooms    611 non-null float64\n",
      "floor           538 non-null float64\n",
      "primary_size    469 non-null float64\n",
      "total_size      612 non-null float64\n",
      "price           610 non-null float64\n",
      "ad_id           613 non-null float64\n",
      "dtypes: float64(6), object(1)\n",
      "memory usage: 38.3+ KB\n"
     ]
    }
   ],
   "source": [
    "sub_properties_parsed.info()"
   ]
  },
  {
   "cell_type": "code",
   "execution_count": 58,
   "metadata": {},
   "outputs": [],
   "source": [
    "expanded_sub_properties_schema = [{'name': 'apt_id', 'type': 'STRING'},\n",
    "                                  {'name': 'num_bedrooms', 'type': 'INTEGER'},\n",
    "                                  {'name': 'floor', 'type': 'INTEGER'},\n",
    "                                  {'name': 'primary_size', 'type': 'FLOAT'},\n",
    "                                  {'name': 'total_size', 'type': 'FLOAT'},\n",
    "                                  {'name': 'price', 'type': 'FLOAT'},\n",
    "                                  {'name': 'ad_id', 'type': 'INTEGER'},]"
   ]
  },
  {
   "cell_type": "code",
   "execution_count": 59,
   "metadata": {},
   "outputs": [],
   "source": [
    "sub_properties_parsed.to_gbq(destination_table='housing_data.expanded_sub_properties',\n",
    "                             project_id='hde-test-clean',\n",
    "                             table_schema=expanded_sub_properties_schema,\n",
    "                             if_exists='append')"
   ]
  },
  {
   "cell_type": "code",
   "execution_count": null,
   "metadata": {},
   "outputs": [],
   "source": []
  }
 ],
 "metadata": {
  "kernelspec": {
   "display_name": "Python 3",
   "language": "python",
   "name": "python3"
  },
  "language_info": {
   "codemirror_mode": {
    "name": "ipython",
    "version": 3
   },
   "file_extension": ".py",
   "mimetype": "text/x-python",
   "name": "python",
   "nbconvert_exporter": "python",
   "pygments_lexer": "ipython3",
   "version": "3.7.1"
  }
 },
 "nbformat": 4,
 "nbformat_minor": 2
}
