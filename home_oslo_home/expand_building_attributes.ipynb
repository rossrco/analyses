{
 "cells": [
  {
   "cell_type": "code",
   "execution_count": 1,
   "metadata": {},
   "outputs": [],
   "source": [
    "import re\n",
    "import os\n",
    "import yaml\n",
    "import json\n",
    "import pandas as pd\n",
    "from google.cloud import bigquery\n",
    "import google.api_core.exceptions as google_exceptions"
   ]
  },
  {
   "cell_type": "code",
   "execution_count": 2,
   "metadata": {},
   "outputs": [],
   "source": [
    "config  = yaml.safe_load(open('config.yaml', 'r'))"
   ]
  },
  {
   "cell_type": "code",
   "execution_count": 3,
   "metadata": {},
   "outputs": [],
   "source": [
    "query_dir = 'queries'"
   ]
  },
  {
   "cell_type": "code",
   "execution_count": 4,
   "metadata": {},
   "outputs": [],
   "source": [
    "queries = {}\n",
    "for query_file in (os.listdir(query_dir)):\n",
    "    with open(os.path.join(query_dir, query_file), 'r') as query:\n",
    "        queries[query_file] = query.read()"
   ]
  },
  {
   "cell_type": "code",
   "execution_count": 5,
   "metadata": {},
   "outputs": [],
   "source": [
    "query_client = bigquery.Client()"
   ]
  },
  {
   "cell_type": "code",
   "execution_count": 6,
   "metadata": {},
   "outputs": [],
   "source": [
    "def exists_table(table_reference, client):\n",
    "    try:\n",
    "        client.get_table(table_reference)\n",
    "        return True\n",
    "    except google_exceptions.NotFound:\n",
    "        return False"
   ]
  },
  {
   "cell_type": "code",
   "execution_count": 7,
   "metadata": {},
   "outputs": [],
   "source": [
    "if exists_table(f'{config[\"project_id\"]}.{config[\"dataset\"]}.building_attributes', query_client):\n",
    "    request = queries['all_buildings_that_have_not_been_processed.sql']\n",
    "else:\n",
    "    request = queries['all_buildings.sql']"
   ]
  },
  {
   "cell_type": "code",
   "execution_count": null,
   "metadata": {},
   "outputs": [],
   "source": [
    "real_estate_raw = query_client.query(request).to_dataframe()"
   ]
  },
  {
   "cell_type": "code",
   "execution_count": null,
   "metadata": {},
   "outputs": [],
   "source": [
    "real_estate_raw.info()"
   ]
  },
  {
   "cell_type": "code",
   "execution_count": null,
   "metadata": {},
   "outputs": [],
   "source": [
    "real_estate_raw.set_index(keys='ad_id', drop=True, inplace=True)"
   ]
  },
  {
   "cell_type": "code",
   "execution_count": null,
   "metadata": {},
   "outputs": [],
   "source": [
    "real_estate_raw.head()"
   ]
  },
  {
   "cell_type": "code",
   "execution_count": null,
   "metadata": {},
   "outputs": [],
   "source": [
    "real_estate_raw['property_attrs'] = [json.loads(cell) for cell in real_estate_raw['property_attrs']]"
   ]
  },
  {
   "cell_type": "code",
   "execution_count": null,
   "metadata": {},
   "outputs": [],
   "source": [
    "all_attributes = ['Boligtype', 'Eieform', 'Soverom', 'Bruksareal',\n",
    "                  'Primærrom', 'Totalpris', 'Omkostninger',\n",
    "                  'Byggeår', 'Tomteareal', 'Bruttoareal',\n",
    "                  'Formuesverdi', 'Energimerking', 'Felleskost/mnd.',\n",
    "                  'Etasje', 'Rom', 'Fellesformue',\n",
    "                  'Fellesgjeld', 'Eierskifte-forsikring']"
   ]
  },
  {
   "cell_type": "code",
   "execution_count": null,
   "metadata": {},
   "outputs": [],
   "source": [
    "all_attributes_map = {'Boligtype': 'property_type',\n",
    "                      'Eieform': 'ownership_type',\n",
    "                      'Soverom': 'num_bedrooms',\n",
    "                      'Bruksareal': 'usable_area',\n",
    "                      'Primærrom': 'primary_area',\n",
    "                      'Totalpris': 'price',\n",
    "                      'Omkostninger': 'brokerage_expenses',\n",
    "                      'Byggeår': 'construction_year',\n",
    "                      'Tomteareal': 'plot_area',\n",
    "                      'Bruttoareal': 'total_size',\n",
    "                      'Formuesverdi': 'wealth_value',\n",
    "                      'Energimerking': 'energy_character',\n",
    "                      'Felleskost/mnd.': 'common_expenses',\n",
    "                      'Etasje': 'floor',\n",
    "                      'Rom': 'num_rooms',\n",
    "                      'Fellesformue': 'common_wealth',\n",
    "                      'Fellesgjeld': 'common_debt',\n",
    "                      'Eierskifte-forsikring': 'ownership_change_insurance'}"
   ]
  },
  {
   "cell_type": "code",
   "execution_count": null,
   "metadata": {},
   "outputs": [],
   "source": [
    "numeric_columns = ['num_bedrooms', 'usable_area', 'primary_area',\n",
    "                   'price', 'brokerage_expenses', 'construction_year',\n",
    "                   'plot_area', 'total_size', 'wealth_value',\n",
    "                   'common_expenses', 'floor', 'num_rooms', 'common_wealth',\n",
    "                   'common_debt']"
   ]
  },
  {
   "cell_type": "code",
   "execution_count": null,
   "metadata": {},
   "outputs": [],
   "source": [
    "def extract_property_attributes(data):\n",
    "    to_append = []\n",
    "    for ad_id, row in data.property_attrs.items():\n",
    "        all_properties = []\n",
    "        all_properties.append(ad_id)\n",
    "        for key in all_attributes:\n",
    "            all_properties.append(row.get(key))\n",
    "        to_append.append(all_properties)\n",
    "    extracted_data = pd.DataFrame(to_append, columns=['ad_id']+all_attributes)\n",
    "    extracted_data.rename(columns=all_attributes_map, inplace=True)\n",
    "    return extracted_data"
   ]
  },
  {
   "cell_type": "code",
   "execution_count": null,
   "metadata": {},
   "outputs": [],
   "source": [
    "def get_int_from_str(string):\n",
    "    if string:\n",
    "        try:\n",
    "            concat_string = ''.join(re.findall(r'[\\d.]', string))\n",
    "            if concat_string != '':\n",
    "                return float(concat_string)\n",
    "        except Exception as e:\n",
    "            print(e, string)\n",
    "            pass\n",
    "    else:\n",
    "        return None"
   ]
  },
  {
   "cell_type": "code",
   "execution_count": null,
   "metadata": {},
   "outputs": [],
   "source": [
    "building_attributes = extract_property_attributes(real_estate_raw)"
   ]
  },
  {
   "cell_type": "code",
   "execution_count": null,
   "metadata": {},
   "outputs": [],
   "source": [
    "building_attributes = building_attributes.merge(real_estate_raw[['new_building']], how='left', left_on='ad_id', right_index=True)"
   ]
  },
  {
   "cell_type": "code",
   "execution_count": null,
   "metadata": {},
   "outputs": [],
   "source": [
    "for col in ['num_bedrooms', 'usable_area', 'primary_area',\n",
    "            'price', 'brokerage_expenses', 'construction_year',\n",
    "            'total_size', 'common_expenses', 'floor',\n",
    "            'num_rooms', 'common_wealth',\n",
    "            'ownership_change_insurance']:\n",
    "    building_attributes[col] = [None if new_building is True else value\n",
    "                                for new_building, value in zip(\n",
    "                                    building_attributes['new_building'],\n",
    "                                    building_attributes[col])]"
   ]
  },
  {
   "cell_type": "code",
   "execution_count": null,
   "metadata": {},
   "outputs": [],
   "source": [
    "building_attributes.head()"
   ]
  },
  {
   "cell_type": "code",
   "execution_count": null,
   "metadata": {},
   "outputs": [],
   "source": [
    "building_attributes_parsed = building_attributes.copy()\n",
    "for col in numeric_columns:\n",
    "    building_attributes_parsed[col] = [get_int_from_str(s) for s in building_attributes_parsed[col]]"
   ]
  },
  {
   "cell_type": "code",
   "execution_count": null,
   "metadata": {},
   "outputs": [],
   "source": [
    "building_attributes_parsed['ownership_change_insurance'] = [(lambda x: True if x == 'Ja' else False)(v)\n",
    "                                                            for v\n",
    "                                                            in building_attributes_parsed['ownership_change_insurance']]"
   ]
  },
  {
   "cell_type": "code",
   "execution_count": null,
   "metadata": {},
   "outputs": [],
   "source": [
    "building_attributes_parsed.head()"
   ]
  },
  {
   "cell_type": "code",
   "execution_count": null,
   "metadata": {},
   "outputs": [],
   "source": [
    "building_attributes_parsed.info()"
   ]
  },
  {
   "cell_type": "code",
   "execution_count": null,
   "metadata": {},
   "outputs": [],
   "source": [
    "building_attributes_parsed.drop_duplicates(inplace=True)"
   ]
  },
  {
   "cell_type": "code",
   "execution_count": null,
   "metadata": {},
   "outputs": [],
   "source": [
    "building_attributes_parsed.shape"
   ]
  },
  {
   "cell_type": "code",
   "execution_count": null,
   "metadata": {},
   "outputs": [],
   "source": [
    "building_attributes_parsed.to_gbq(destination_table='housing_data.building_attributes',\n",
    "                                  project_id='hde-test-clean',\n",
    "                                  if_exists='append')"
   ]
  },
  {
   "cell_type": "code",
   "execution_count": null,
   "metadata": {},
   "outputs": [],
   "source": []
  }
 ],
 "metadata": {
  "kernelspec": {
   "display_name": "Python 3",
   "language": "python",
   "name": "python3"
  },
  "language_info": {
   "codemirror_mode": {
    "name": "ipython",
    "version": 3
   },
   "file_extension": ".py",
   "mimetype": "text/x-python",
   "name": "python",
   "nbconvert_exporter": "python",
   "pygments_lexer": "ipython3",
   "version": "3.7.3"
  }
 },
 "nbformat": 4,
 "nbformat_minor": 2
}
