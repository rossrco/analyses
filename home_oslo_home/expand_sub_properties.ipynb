{
 "cells": [
  {
   "cell_type": "code",
   "execution_count": 1,
   "metadata": {},
   "outputs": [],
   "source": [
    "import re\n",
    "import os\n",
    "import yaml\n",
    "import json\n",
    "import pandas as pd\n",
    "from google.cloud import bigquery\n",
    "import google.api_core.exceptions as google_exceptions"
   ]
  },
  {
   "cell_type": "code",
   "execution_count": 2,
   "metadata": {},
   "outputs": [],
   "source": [
    "config  = yaml.safe_load(open('config.yaml', 'r'))"
   ]
  },
  {
   "cell_type": "code",
   "execution_count": 3,
   "metadata": {},
   "outputs": [],
   "source": [
    "query_dir = 'queries'"
   ]
  },
  {
   "cell_type": "code",
   "execution_count": 4,
   "metadata": {},
   "outputs": [],
   "source": [
    "queries = {}\n",
    "for query_file in (os.listdir(query_dir)):\n",
    "    with open(os.path.join(query_dir, query_file), 'r') as query:\n",
    "        queries[query_file] = query.read()"
   ]
  },
  {
   "cell_type": "code",
   "execution_count": 5,
   "metadata": {},
   "outputs": [],
   "source": [
    "query_client = bigquery.Client()"
   ]
  },
  {
   "cell_type": "code",
   "execution_count": 6,
   "metadata": {},
   "outputs": [],
   "source": [
    "def exists_table(table_reference, client):\n",
    "    try:\n",
    "        client.get_table(table_reference)\n",
    "        return True\n",
    "    except google_exceptions.NotFound:\n",
    "        return False"
   ]
  },
  {
   "cell_type": "code",
   "execution_count": 7,
   "metadata": {},
   "outputs": [],
   "source": [
    "if exists_table(f'{config[\"project_id\"]}.{config[\"dataset\"]}.expanded_sub_properties', query_client):\n",
    "    request = queries['all_new_buildings_that_have_not_been_expanded.sql']\n",
    "else:\n",
    "    request = queries['all_new_buildings.sql']"
   ]
  },
  {
   "cell_type": "code",
   "execution_count": 8,
   "metadata": {},
   "outputs": [],
   "source": [
    "real_estate_raw = query_client.query(request).to_dataframe()"
   ]
  },
  {
   "cell_type": "code",
   "execution_count": 9,
   "metadata": {},
   "outputs": [
    {
     "name": "stdout",
     "output_type": "stream",
     "text": [
      "<class 'pandas.core.frame.DataFrame'>\n",
      "RangeIndex: 103 entries, 0 to 102\n",
      "Data columns (total 5 columns):\n",
      "ad_id             103 non-null int64\n",
      "new_building      103 non-null bool\n",
      "property_table    103 non-null object\n",
      "property_attrs    103 non-null object\n",
      "address           103 non-null object\n",
      "dtypes: bool(1), int64(1), object(3)\n",
      "memory usage: 3.4+ KB\n"
     ]
    }
   ],
   "source": [
    "real_estate_raw.info()"
   ]
  },
  {
   "cell_type": "code",
   "execution_count": 10,
   "metadata": {},
   "outputs": [],
   "source": [
    "real_estate_raw.set_index(keys='ad_id', drop=True, inplace=True)"
   ]
  },
  {
   "cell_type": "code",
   "execution_count": 11,
   "metadata": {},
   "outputs": [
    {
     "data": {
      "text/html": [
       "<div>\n",
       "<style scoped>\n",
       "    .dataframe tbody tr th:only-of-type {\n",
       "        vertical-align: middle;\n",
       "    }\n",
       "\n",
       "    .dataframe tbody tr th {\n",
       "        vertical-align: top;\n",
       "    }\n",
       "\n",
       "    .dataframe thead th {\n",
       "        text-align: right;\n",
       "    }\n",
       "</style>\n",
       "<table border=\"1\" class=\"dataframe\">\n",
       "  <thead>\n",
       "    <tr style=\"text-align: right;\">\n",
       "      <th></th>\n",
       "      <th>new_building</th>\n",
       "      <th>property_table</th>\n",
       "      <th>property_attrs</th>\n",
       "      <th>address</th>\n",
       "    </tr>\n",
       "    <tr>\n",
       "      <th>ad_id</th>\n",
       "      <th></th>\n",
       "      <th></th>\n",
       "      <th></th>\n",
       "      <th></th>\n",
       "    </tr>\n",
       "  </thead>\n",
       "  <tbody>\n",
       "    <tr>\n",
       "      <th>71962400</th>\n",
       "      <td>True</td>\n",
       "      <td>{\"Bolig\": [\"E-301\"], \"Soverom\": [\"3\"], \"Etg\": ...</td>\n",
       "      <td>{\"Areal\": \"129 m\\u00b2\", \"Soverom\": \"3-3\", \"Bo...</td>\n",
       "      <td>Fjellhamar Torg, 1472 Fjellhamar</td>\n",
       "    </tr>\n",
       "    <tr>\n",
       "      <th>76674446</th>\n",
       "      <td>True</td>\n",
       "      <td>{\"Bolig\": [\"D1302\", \"D1303\", \"D1402\", \"D1503\",...</td>\n",
       "      <td>{\"Fellesgjeld\": \"2\\u00a0500\\u00a0000 \\u2013 3\\...</td>\n",
       "      <td>Landstadsgate 13, 2004 Lillestrøm</td>\n",
       "    </tr>\n",
       "    <tr>\n",
       "      <th>77962792</th>\n",
       "      <td>True</td>\n",
       "      <td>{\"Bolig\": [\"21\", \"27\", \"28\", \"29\", \"30\", \"32\",...</td>\n",
       "      <td>{\"Omkostninger\": \"22\\u00a0665 kr\", \"Totalpris\"...</td>\n",
       "      <td>Gamle Lommedalsvei 123, 1348 Rykkinn</td>\n",
       "    </tr>\n",
       "    <tr>\n",
       "      <th>83008842</th>\n",
       "      <td>True</td>\n",
       "      <td>{\"Bolig\": [\"111\"], \"Soverom\": [\"3\"], \"Etg\": [\"...</td>\n",
       "      <td>{\"Areal\": \"68 m\\u00b2\", \"Soverom\": \"3-3\", \"Bol...</td>\n",
       "      <td>Mørtelverksbakken 27, 0580 Oslo</td>\n",
       "    </tr>\n",
       "    <tr>\n",
       "      <th>87990816</th>\n",
       "      <td>True</td>\n",
       "      <td>{\"Bolig\": [\"10001\", \"10002\", \"C0003\", \"C1002\",...</td>\n",
       "      <td>{\"Omkostninger\": \"22\\u00a0650 kr\", \"Totalpris\"...</td>\n",
       "      <td>Røakollen - Aslakveien 20 - hus C, 0753 Oslo</td>\n",
       "    </tr>\n",
       "  </tbody>\n",
       "</table>\n",
       "</div>"
      ],
      "text/plain": [
       "          new_building                                     property_table  \\\n",
       "ad_id                                                                       \n",
       "71962400          True  {\"Bolig\": [\"E-301\"], \"Soverom\": [\"3\"], \"Etg\": ...   \n",
       "76674446          True  {\"Bolig\": [\"D1302\", \"D1303\", \"D1402\", \"D1503\",...   \n",
       "77962792          True  {\"Bolig\": [\"21\", \"27\", \"28\", \"29\", \"30\", \"32\",...   \n",
       "83008842          True  {\"Bolig\": [\"111\"], \"Soverom\": [\"3\"], \"Etg\": [\"...   \n",
       "87990816          True  {\"Bolig\": [\"10001\", \"10002\", \"C0003\", \"C1002\",...   \n",
       "\n",
       "                                             property_attrs  \\\n",
       "ad_id                                                         \n",
       "71962400  {\"Areal\": \"129 m\\u00b2\", \"Soverom\": \"3-3\", \"Bo...   \n",
       "76674446  {\"Fellesgjeld\": \"2\\u00a0500\\u00a0000 \\u2013 3\\...   \n",
       "77962792  {\"Omkostninger\": \"22\\u00a0665 kr\", \"Totalpris\"...   \n",
       "83008842  {\"Areal\": \"68 m\\u00b2\", \"Soverom\": \"3-3\", \"Bol...   \n",
       "87990816  {\"Omkostninger\": \"22\\u00a0650 kr\", \"Totalpris\"...   \n",
       "\n",
       "                                               address  \n",
       "ad_id                                                   \n",
       "71962400              Fjellhamar Torg, 1472 Fjellhamar  \n",
       "76674446             Landstadsgate 13, 2004 Lillestrøm  \n",
       "77962792          Gamle Lommedalsvei 123, 1348 Rykkinn  \n",
       "83008842               Mørtelverksbakken 27, 0580 Oslo  \n",
       "87990816  Røakollen - Aslakveien 20 - hus C, 0753 Oslo  "
      ]
     },
     "execution_count": 11,
     "metadata": {},
     "output_type": "execute_result"
    }
   ],
   "source": [
    "real_estate_raw.head()"
   ]
  },
  {
   "cell_type": "code",
   "execution_count": 12,
   "metadata": {},
   "outputs": [],
   "source": [
    "for col in ['property_table', 'property_attrs']:\n",
    "    real_estate_raw[col] = [json.loads(cell) for cell in real_estate_raw[col]]"
   ]
  },
  {
   "cell_type": "code",
   "execution_count": 13,
   "metadata": {},
   "outputs": [],
   "source": [
    "def expanand_property_tables(new_buildings):\n",
    "    cols = new_buildings.iloc[0]['property_table'].keys()\n",
    "    col_map = {'Bolig': 'apt_id',\n",
    "               'Soverom': 'num_bedrooms',\n",
    "               'Etg': 'floor',\n",
    "               'P-rom': 'primary_size',\n",
    "               'BRA': 'total_size',\n",
    "               'Totalpris': 'price',\n",
    "               'Pris': 'price'}\n",
    "    property_tables = pd.DataFrame(columns=cols)\n",
    "    for code, row in new_buildings['property_table'].iteritems():\n",
    "        all_properties = [arr for arr in row.values()]\n",
    "        to_append = dict(zip(cols, all_properties))\n",
    "        frame = pd.DataFrame(to_append, columns=cols)\n",
    "        frame['ad_id'] = code\n",
    "        property_tables = property_tables.append(frame, ignore_index=True, sort=False)\n",
    "    property_tables.rename(columns=col_map, inplace=True)\n",
    "    return property_tables"
   ]
  },
  {
   "cell_type": "code",
   "execution_count": 14,
   "metadata": {},
   "outputs": [],
   "source": [
    "sub_properties = expanand_property_tables(real_estate_raw[(real_estate_raw.new_building == True) & (real_estate_raw.property_table)])"
   ]
  },
  {
   "cell_type": "code",
   "execution_count": 15,
   "metadata": {},
   "outputs": [
    {
     "data": {
      "text/html": [
       "<div>\n",
       "<style scoped>\n",
       "    .dataframe tbody tr th:only-of-type {\n",
       "        vertical-align: middle;\n",
       "    }\n",
       "\n",
       "    .dataframe tbody tr th {\n",
       "        vertical-align: top;\n",
       "    }\n",
       "\n",
       "    .dataframe thead th {\n",
       "        text-align: right;\n",
       "    }\n",
       "</style>\n",
       "<table border=\"1\" class=\"dataframe\">\n",
       "  <thead>\n",
       "    <tr style=\"text-align: right;\">\n",
       "      <th></th>\n",
       "      <th>apt_id</th>\n",
       "      <th>num_bedrooms</th>\n",
       "      <th>floor</th>\n",
       "      <th>primary_size</th>\n",
       "      <th>total_size</th>\n",
       "      <th>price</th>\n",
       "      <th>ad_id</th>\n",
       "    </tr>\n",
       "  </thead>\n",
       "  <tbody>\n",
       "    <tr>\n",
       "      <th>0</th>\n",
       "      <td>E-301</td>\n",
       "      <td>3</td>\n",
       "      <td>-</td>\n",
       "      <td>129 m²</td>\n",
       "      <td>137 m²</td>\n",
       "      <td>7 690 000 kr</td>\n",
       "      <td>71962400.0</td>\n",
       "    </tr>\n",
       "    <tr>\n",
       "      <th>1</th>\n",
       "      <td>D1302</td>\n",
       "      <td>2</td>\n",
       "      <td>3.</td>\n",
       "      <td>-</td>\n",
       "      <td>76.4 m²</td>\n",
       "      <td>5 031 462 kr</td>\n",
       "      <td>76674446.0</td>\n",
       "    </tr>\n",
       "    <tr>\n",
       "      <th>2</th>\n",
       "      <td>D1303</td>\n",
       "      <td>2</td>\n",
       "      <td>3.</td>\n",
       "      <td>-</td>\n",
       "      <td>91.3 m²</td>\n",
       "      <td>5 981 462 kr</td>\n",
       "      <td>76674446.0</td>\n",
       "    </tr>\n",
       "    <tr>\n",
       "      <th>3</th>\n",
       "      <td>D1402</td>\n",
       "      <td>2</td>\n",
       "      <td>4.</td>\n",
       "      <td>-</td>\n",
       "      <td>76.4 m²</td>\n",
       "      <td>5 231 462 kr</td>\n",
       "      <td>76674446.0</td>\n",
       "    </tr>\n",
       "    <tr>\n",
       "      <th>4</th>\n",
       "      <td>D1503</td>\n",
       "      <td>2</td>\n",
       "      <td>5.</td>\n",
       "      <td>-</td>\n",
       "      <td>89.7 m²</td>\n",
       "      <td>6 931 462 kr</td>\n",
       "      <td>76674446.0</td>\n",
       "    </tr>\n",
       "  </tbody>\n",
       "</table>\n",
       "</div>"
      ],
      "text/plain": [
       "  apt_id num_bedrooms floor primary_size total_size         price       ad_id\n",
       "0  E-301            3     -       129 m²     137 m²  7 690 000 kr  71962400.0\n",
       "1  D1302            2    3.            -    76.4 m²  5 031 462 kr  76674446.0\n",
       "2  D1303            2    3.            -    91.3 m²  5 981 462 kr  76674446.0\n",
       "3  D1402            2    4.            -    76.4 m²  5 231 462 kr  76674446.0\n",
       "4  D1503            2    5.            -    89.7 m²  6 931 462 kr  76674446.0"
      ]
     },
     "execution_count": 15,
     "metadata": {},
     "output_type": "execute_result"
    }
   ],
   "source": [
    "sub_properties.head()"
   ]
  },
  {
   "cell_type": "code",
   "execution_count": 16,
   "metadata": {},
   "outputs": [],
   "source": [
    "def get_int_from_str(string):\n",
    "    try:\n",
    "        concat_string = ''.join(re.findall(r'[\\d.]', string))\n",
    "        if concat_string != '':\n",
    "            return float(concat_string)\n",
    "    except Exception as e:\n",
    "        print(e, string)\n",
    "        pass"
   ]
  },
  {
   "cell_type": "code",
   "execution_count": 17,
   "metadata": {},
   "outputs": [
    {
     "name": "stdout",
     "output_type": "stream",
     "text": [
      "expected string or bytes-like object None\n",
      "expected string or bytes-like object None\n",
      "expected string or bytes-like object None\n"
     ]
    }
   ],
   "source": [
    "sub_properties_parsed = sub_properties.copy()\n",
    "for col in ['primary_size', 'floor', 'price', 'num_bedrooms', 'total_size']:\n",
    "    sub_properties_parsed[col] = [get_int_from_str(s) for s in sub_properties_parsed[col]]"
   ]
  },
  {
   "cell_type": "code",
   "execution_count": 18,
   "metadata": {},
   "outputs": [
    {
     "name": "stdout",
     "output_type": "stream",
     "text": [
      "<class 'pandas.core.frame.DataFrame'>\n",
      "RangeIndex: 1144 entries, 0 to 1143\n",
      "Data columns (total 7 columns):\n",
      "apt_id          1144 non-null object\n",
      "num_bedrooms    1100 non-null float64\n",
      "floor           1035 non-null float64\n",
      "primary_size    1093 non-null float64\n",
      "total_size      1142 non-null float64\n",
      "price           1141 non-null float64\n",
      "ad_id           1144 non-null float64\n",
      "dtypes: float64(6), object(1)\n",
      "memory usage: 62.6+ KB\n"
     ]
    }
   ],
   "source": [
    "sub_properties_parsed.info()"
   ]
  },
  {
   "cell_type": "code",
   "execution_count": 19,
   "metadata": {},
   "outputs": [
    {
     "data": {
      "text/html": [
       "<div>\n",
       "<style scoped>\n",
       "    .dataframe tbody tr th:only-of-type {\n",
       "        vertical-align: middle;\n",
       "    }\n",
       "\n",
       "    .dataframe tbody tr th {\n",
       "        vertical-align: top;\n",
       "    }\n",
       "\n",
       "    .dataframe thead th {\n",
       "        text-align: right;\n",
       "    }\n",
       "</style>\n",
       "<table border=\"1\" class=\"dataframe\">\n",
       "  <thead>\n",
       "    <tr style=\"text-align: right;\">\n",
       "      <th></th>\n",
       "      <th>apt_id</th>\n",
       "      <th>num_bedrooms</th>\n",
       "      <th>floor</th>\n",
       "      <th>primary_size</th>\n",
       "      <th>total_size</th>\n",
       "      <th>price</th>\n",
       "      <th>ad_id</th>\n",
       "    </tr>\n",
       "  </thead>\n",
       "  <tbody>\n",
       "    <tr>\n",
       "      <th>0</th>\n",
       "      <td>E-301</td>\n",
       "      <td>3.0</td>\n",
       "      <td>NaN</td>\n",
       "      <td>129.0</td>\n",
       "      <td>137.0</td>\n",
       "      <td>7690000.0</td>\n",
       "      <td>71962400.0</td>\n",
       "    </tr>\n",
       "    <tr>\n",
       "      <th>1</th>\n",
       "      <td>D1302</td>\n",
       "      <td>2.0</td>\n",
       "      <td>3.0</td>\n",
       "      <td>NaN</td>\n",
       "      <td>76.4</td>\n",
       "      <td>5031462.0</td>\n",
       "      <td>76674446.0</td>\n",
       "    </tr>\n",
       "    <tr>\n",
       "      <th>2</th>\n",
       "      <td>D1303</td>\n",
       "      <td>2.0</td>\n",
       "      <td>3.0</td>\n",
       "      <td>NaN</td>\n",
       "      <td>91.3</td>\n",
       "      <td>5981462.0</td>\n",
       "      <td>76674446.0</td>\n",
       "    </tr>\n",
       "    <tr>\n",
       "      <th>3</th>\n",
       "      <td>D1402</td>\n",
       "      <td>2.0</td>\n",
       "      <td>4.0</td>\n",
       "      <td>NaN</td>\n",
       "      <td>76.4</td>\n",
       "      <td>5231462.0</td>\n",
       "      <td>76674446.0</td>\n",
       "    </tr>\n",
       "    <tr>\n",
       "      <th>4</th>\n",
       "      <td>D1503</td>\n",
       "      <td>2.0</td>\n",
       "      <td>5.0</td>\n",
       "      <td>NaN</td>\n",
       "      <td>89.7</td>\n",
       "      <td>6931462.0</td>\n",
       "      <td>76674446.0</td>\n",
       "    </tr>\n",
       "  </tbody>\n",
       "</table>\n",
       "</div>"
      ],
      "text/plain": [
       "  apt_id  num_bedrooms  floor  primary_size  total_size      price       ad_id\n",
       "0  E-301           3.0    NaN         129.0       137.0  7690000.0  71962400.0\n",
       "1  D1302           2.0    3.0           NaN        76.4  5031462.0  76674446.0\n",
       "2  D1303           2.0    3.0           NaN        91.3  5981462.0  76674446.0\n",
       "3  D1402           2.0    4.0           NaN        76.4  5231462.0  76674446.0\n",
       "4  D1503           2.0    5.0           NaN        89.7  6931462.0  76674446.0"
      ]
     },
     "execution_count": 19,
     "metadata": {},
     "output_type": "execute_result"
    }
   ],
   "source": [
    "sub_properties_parsed.head()"
   ]
  },
  {
   "cell_type": "code",
   "execution_count": 20,
   "metadata": {},
   "outputs": [],
   "source": [
    "sub_properties_parsed.drop_duplicates(inplace=True)"
   ]
  },
  {
   "cell_type": "code",
   "execution_count": 21,
   "metadata": {},
   "outputs": [
    {
     "name": "stdout",
     "output_type": "stream",
     "text": [
      "<class 'pandas.core.frame.DataFrame'>\n",
      "Int64Index: 1143 entries, 0 to 1143\n",
      "Data columns (total 7 columns):\n",
      "apt_id          1143 non-null object\n",
      "num_bedrooms    1099 non-null float64\n",
      "floor           1034 non-null float64\n",
      "primary_size    1092 non-null float64\n",
      "total_size      1141 non-null float64\n",
      "price           1140 non-null float64\n",
      "ad_id           1143 non-null float64\n",
      "dtypes: float64(6), object(1)\n",
      "memory usage: 71.4+ KB\n"
     ]
    }
   ],
   "source": [
    "sub_properties_parsed.info()"
   ]
  },
  {
   "cell_type": "code",
   "execution_count": 22,
   "metadata": {},
   "outputs": [],
   "source": [
    "sub_properties_parsed.to_gbq(destination_table='housing_data.expanded_sub_properties',\n",
    "                             project_id='hde-test-clean',\n",
    "                             if_exists='append')"
   ]
  }
 ],
 "metadata": {
  "kernelspec": {
   "display_name": "Python 3",
   "language": "python",
   "name": "python3"
  },
  "language_info": {
   "codemirror_mode": {
    "name": "ipython",
    "version": 3
   },
   "file_extension": ".py",
   "mimetype": "text/x-python",
   "name": "python",
   "nbconvert_exporter": "python",
   "pygments_lexer": "ipython3",
   "version": "3.7.3"
  }
 },
 "nbformat": 4,
 "nbformat_minor": 2
}
