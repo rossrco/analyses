{
 "cells": [
  {
   "cell_type": "code",
   "execution_count": 10,
   "metadata": {},
   "outputs": [],
   "source": [
    "import re\n",
    "import os\n",
    "import yaml\n",
    "import json\n",
    "import pandas as pd\n",
    "from google.cloud import bigquery\n",
    "import google.api_core.exceptions as google_exceptions"
   ]
  },
  {
   "cell_type": "code",
   "execution_count": 11,
   "metadata": {},
   "outputs": [],
   "source": [
    "config  = yaml.safe_load(open('config.yaml', 'r'))"
   ]
  },
  {
   "cell_type": "code",
   "execution_count": 12,
   "metadata": {},
   "outputs": [],
   "source": [
    "query_dir = 'queries'"
   ]
  },
  {
   "cell_type": "code",
   "execution_count": 13,
   "metadata": {},
   "outputs": [],
   "source": [
    "queries = {}\n",
    "for query_file in (os.listdir(query_dir)):\n",
    "    with open(os.path.join(query_dir, query_file), 'r') as query:\n",
    "        queries[query_file] = query.read()"
   ]
  },
  {
   "cell_type": "code",
   "execution_count": 14,
   "metadata": {},
   "outputs": [],
   "source": [
    "query_client = bigquery.Client()"
   ]
  },
  {
   "cell_type": "code",
   "execution_count": 15,
   "metadata": {},
   "outputs": [],
   "source": [
    "def exists_table(table_reference, client):\n",
    "    try:\n",
    "        client.get_table(table_reference)\n",
    "        return True\n",
    "    except google_exceptions.NotFound:\n",
    "        return False"
   ]
  },
  {
   "cell_type": "code",
   "execution_count": 16,
   "metadata": {},
   "outputs": [],
   "source": [
    "if exists_table(f'{config[\"project_id\"]}.{config[\"dataset\"]}.expanded_sub_properties', query_client):\n",
    "    request = queries['all_new_buildings_that_have_not_been_expanded.sql']\n",
    "else:\n",
    "    request = queries['all_new_buildings.sql']"
   ]
  },
  {
   "cell_type": "code",
   "execution_count": 17,
   "metadata": {},
   "outputs": [],
   "source": [
    "real_estate_raw = query_client.query(request).to_dataframe()"
   ]
  },
  {
   "cell_type": "code",
   "execution_count": 18,
   "metadata": {},
   "outputs": [
    {
     "name": "stdout",
     "output_type": "stream",
     "text": [
      "<class 'pandas.core.frame.DataFrame'>\n",
      "RangeIndex: 45 entries, 0 to 44\n",
      "Data columns (total 5 columns):\n",
      "ad_id             45 non-null int64\n",
      "new_building      45 non-null bool\n",
      "property_table    45 non-null object\n",
      "property_attrs    45 non-null object\n",
      "address           45 non-null object\n",
      "dtypes: bool(1), int64(1), object(3)\n",
      "memory usage: 1.5+ KB\n"
     ]
    }
   ],
   "source": [
    "real_estate_raw.info()"
   ]
  },
  {
   "cell_type": "code",
   "execution_count": 19,
   "metadata": {},
   "outputs": [],
   "source": [
    "real_estate_raw.set_index(keys='ad_id', drop=True, inplace=True)"
   ]
  },
  {
   "cell_type": "code",
   "execution_count": 20,
   "metadata": {},
   "outputs": [
    {
     "data": {
      "text/html": [
       "<div>\n",
       "<style scoped>\n",
       "    .dataframe tbody tr th:only-of-type {\n",
       "        vertical-align: middle;\n",
       "    }\n",
       "\n",
       "    .dataframe tbody tr th {\n",
       "        vertical-align: top;\n",
       "    }\n",
       "\n",
       "    .dataframe thead th {\n",
       "        text-align: right;\n",
       "    }\n",
       "</style>\n",
       "<table border=\"1\" class=\"dataframe\">\n",
       "  <thead>\n",
       "    <tr style=\"text-align: right;\">\n",
       "      <th></th>\n",
       "      <th>new_building</th>\n",
       "      <th>property_table</th>\n",
       "      <th>property_attrs</th>\n",
       "      <th>address</th>\n",
       "    </tr>\n",
       "    <tr>\n",
       "      <th>ad_id</th>\n",
       "      <th></th>\n",
       "      <th></th>\n",
       "      <th></th>\n",
       "      <th></th>\n",
       "    </tr>\n",
       "  </thead>\n",
       "  <tbody>\n",
       "    <tr>\n",
       "      <th>77962792</th>\n",
       "      <td>True</td>\n",
       "      <td>{\"Bolig\": [\"21\", \"27\", \"28\", \"29\", \"30\", \"32\",...</td>\n",
       "      <td>{\"Omkostninger\": \"22\\u00a0665 kr\", \"Totalpris\"...</td>\n",
       "      <td>Gamle Lommedalsvei 123, 1348 Rykkinn</td>\n",
       "    </tr>\n",
       "    <tr>\n",
       "      <th>96760455</th>\n",
       "      <td>True</td>\n",
       "      <td>{\"Bolig\": [\"B401\", \"C201\", \"C202\", \"C301\", \"C3...</td>\n",
       "      <td>{\"Omkostninger\": \"1\\u00a0064 kr\", \"Totalpris\":...</td>\n",
       "      <td>Røa Torg - Vækerøveien 195, 0751 Oslo</td>\n",
       "    </tr>\n",
       "    <tr>\n",
       "      <th>96760455</th>\n",
       "      <td>True</td>\n",
       "      <td>{\"Bolig\": [\"A303\", \"B401\", \"C201\", \"C202\", \"C3...</td>\n",
       "      <td>{\"Omkostninger\": \"1\\u00a0064 kr\", \"Totalpris\":...</td>\n",
       "      <td>Røa Torg - Vækerøveien 195, 0751 Oslo</td>\n",
       "    </tr>\n",
       "    <tr>\n",
       "      <th>96760455</th>\n",
       "      <td>True</td>\n",
       "      <td>{\"Bolig\": [\"A303\", \"B401\", \"C201\", \"C202\", \"C3...</td>\n",
       "      <td>{\"Omkostninger\": \"1\\u00a0064 kr\", \"Totalpris\":...</td>\n",
       "      <td>Røa Torg - Vækerøveien 195, 0751 Oslo</td>\n",
       "    </tr>\n",
       "    <tr>\n",
       "      <th>96760455</th>\n",
       "      <td>True</td>\n",
       "      <td>{\"Bolig\": [\"A303\", \"B401\", \"C201\", \"C202\", \"C3...</td>\n",
       "      <td>{\"Omkostninger\": \"1\\u00a0064 kr\", \"Totalpris\":...</td>\n",
       "      <td>Røa Torg - Vækerøveien 195, 0751 Oslo</td>\n",
       "    </tr>\n",
       "  </tbody>\n",
       "</table>\n",
       "</div>"
      ],
      "text/plain": [
       "          new_building                                     property_table  \\\n",
       "ad_id                                                                       \n",
       "77962792          True  {\"Bolig\": [\"21\", \"27\", \"28\", \"29\", \"30\", \"32\",...   \n",
       "96760455          True  {\"Bolig\": [\"B401\", \"C201\", \"C202\", \"C301\", \"C3...   \n",
       "96760455          True  {\"Bolig\": [\"A303\", \"B401\", \"C201\", \"C202\", \"C3...   \n",
       "96760455          True  {\"Bolig\": [\"A303\", \"B401\", \"C201\", \"C202\", \"C3...   \n",
       "96760455          True  {\"Bolig\": [\"A303\", \"B401\", \"C201\", \"C202\", \"C3...   \n",
       "\n",
       "                                             property_attrs  \\\n",
       "ad_id                                                         \n",
       "77962792  {\"Omkostninger\": \"22\\u00a0665 kr\", \"Totalpris\"...   \n",
       "96760455  {\"Omkostninger\": \"1\\u00a0064 kr\", \"Totalpris\":...   \n",
       "96760455  {\"Omkostninger\": \"1\\u00a0064 kr\", \"Totalpris\":...   \n",
       "96760455  {\"Omkostninger\": \"1\\u00a0064 kr\", \"Totalpris\":...   \n",
       "96760455  {\"Omkostninger\": \"1\\u00a0064 kr\", \"Totalpris\":...   \n",
       "\n",
       "                                        address  \n",
       "ad_id                                            \n",
       "77962792   Gamle Lommedalsvei 123, 1348 Rykkinn  \n",
       "96760455  Røa Torg - Vækerøveien 195, 0751 Oslo  \n",
       "96760455  Røa Torg - Vækerøveien 195, 0751 Oslo  \n",
       "96760455  Røa Torg - Vækerøveien 195, 0751 Oslo  \n",
       "96760455  Røa Torg - Vækerøveien 195, 0751 Oslo  "
      ]
     },
     "execution_count": 20,
     "metadata": {},
     "output_type": "execute_result"
    }
   ],
   "source": [
    "real_estate_raw.head()"
   ]
  },
  {
   "cell_type": "code",
   "execution_count": 21,
   "metadata": {},
   "outputs": [],
   "source": [
    "for col in ['property_table', 'property_attrs']:\n",
    "    real_estate_raw[col] = [json.loads(cell) for cell in real_estate_raw[col]]"
   ]
  },
  {
   "cell_type": "code",
   "execution_count": 22,
   "metadata": {},
   "outputs": [],
   "source": [
    "def expanand_property_tables(new_buildings):\n",
    "    cols = new_buildings.iloc[0]['property_table'].keys()\n",
    "    col_map = {'Bolig': 'apt_id',\n",
    "               'Soverom': 'num_bedrooms',\n",
    "               'Etg': 'floor',\n",
    "               'P-rom': 'primary_size',\n",
    "               'BRA': 'total_size',\n",
    "               'Totalpris': 'price',\n",
    "               'Pris': 'price'}\n",
    "    property_tables = pd.DataFrame(columns=cols)\n",
    "    for code, row in new_buildings['property_table'].iteritems():\n",
    "        all_properties = [arr for arr in row.values()]\n",
    "        to_append = dict(zip(cols, all_properties))\n",
    "        frame = pd.DataFrame(to_append, columns=cols)\n",
    "        frame['ad_id'] = code\n",
    "        property_tables = property_tables.append(frame, ignore_index=True, sort=False)\n",
    "    property_tables.rename(columns=col_map, inplace=True)\n",
    "    return property_tables"
   ]
  },
  {
   "cell_type": "code",
   "execution_count": 23,
   "metadata": {},
   "outputs": [],
   "source": [
    "sub_properties = expanand_property_tables(real_estate_raw[(real_estate_raw.new_building == True) & (real_estate_raw.property_table)])"
   ]
  },
  {
   "cell_type": "code",
   "execution_count": 24,
   "metadata": {},
   "outputs": [
    {
     "data": {
      "text/html": [
       "<div>\n",
       "<style scoped>\n",
       "    .dataframe tbody tr th:only-of-type {\n",
       "        vertical-align: middle;\n",
       "    }\n",
       "\n",
       "    .dataframe tbody tr th {\n",
       "        vertical-align: top;\n",
       "    }\n",
       "\n",
       "    .dataframe thead th {\n",
       "        text-align: right;\n",
       "    }\n",
       "</style>\n",
       "<table border=\"1\" class=\"dataframe\">\n",
       "  <thead>\n",
       "    <tr style=\"text-align: right;\">\n",
       "      <th></th>\n",
       "      <th>apt_id</th>\n",
       "      <th>num_bedrooms</th>\n",
       "      <th>floor</th>\n",
       "      <th>primary_size</th>\n",
       "      <th>total_size</th>\n",
       "      <th>price</th>\n",
       "      <th>ad_id</th>\n",
       "    </tr>\n",
       "  </thead>\n",
       "  <tbody>\n",
       "    <tr>\n",
       "      <th>0</th>\n",
       "      <td>21</td>\n",
       "      <td>2</td>\n",
       "      <td>1.</td>\n",
       "      <td>66 m²</td>\n",
       "      <td>71 m²</td>\n",
       "      <td>4 418 000 kr</td>\n",
       "      <td>77962792.0</td>\n",
       "    </tr>\n",
       "    <tr>\n",
       "      <th>1</th>\n",
       "      <td>27</td>\n",
       "      <td>2</td>\n",
       "      <td>1.</td>\n",
       "      <td>67 m²</td>\n",
       "      <td>71 m²</td>\n",
       "      <td>4 518 200 kr</td>\n",
       "      <td>77962792.0</td>\n",
       "    </tr>\n",
       "    <tr>\n",
       "      <th>2</th>\n",
       "      <td>28</td>\n",
       "      <td>2</td>\n",
       "      <td>1.</td>\n",
       "      <td>67 m²</td>\n",
       "      <td>71 m²</td>\n",
       "      <td>4 551 700 kr</td>\n",
       "      <td>77962792.0</td>\n",
       "    </tr>\n",
       "    <tr>\n",
       "      <th>3</th>\n",
       "      <td>29</td>\n",
       "      <td>2</td>\n",
       "      <td>1.</td>\n",
       "      <td>66 m²</td>\n",
       "      <td>71 m²</td>\n",
       "      <td>4 554 400 kr</td>\n",
       "      <td>77962792.0</td>\n",
       "    </tr>\n",
       "    <tr>\n",
       "      <th>4</th>\n",
       "      <td>30</td>\n",
       "      <td>2</td>\n",
       "      <td>1.</td>\n",
       "      <td>66 m²</td>\n",
       "      <td>71 m²</td>\n",
       "      <td>4 569 400 kr</td>\n",
       "      <td>77962792.0</td>\n",
       "    </tr>\n",
       "  </tbody>\n",
       "</table>\n",
       "</div>"
      ],
      "text/plain": [
       "  apt_id num_bedrooms floor primary_size total_size         price       ad_id\n",
       "0     21            2    1.        66 m²      71 m²  4 418 000 kr  77962792.0\n",
       "1     27            2    1.        67 m²      71 m²  4 518 200 kr  77962792.0\n",
       "2     28            2    1.        67 m²      71 m²  4 551 700 kr  77962792.0\n",
       "3     29            2    1.        66 m²      71 m²  4 554 400 kr  77962792.0\n",
       "4     30            2    1.        66 m²      71 m²  4 569 400 kr  77962792.0"
      ]
     },
     "execution_count": 24,
     "metadata": {},
     "output_type": "execute_result"
    }
   ],
   "source": [
    "sub_properties.head()"
   ]
  },
  {
   "cell_type": "code",
   "execution_count": 25,
   "metadata": {},
   "outputs": [],
   "source": [
    "def get_int_from_str(string):\n",
    "    try:\n",
    "        concat_string = ''.join(re.findall(r'[\\d.]', string))\n",
    "        if concat_string != '':\n",
    "            return float(concat_string)\n",
    "    except Exception as e:\n",
    "        print(e, string)\n",
    "        pass"
   ]
  },
  {
   "cell_type": "code",
   "execution_count": 26,
   "metadata": {},
   "outputs": [],
   "source": [
    "sub_properties_parsed = sub_properties.copy()\n",
    "for col in ['primary_size', 'floor', 'price', 'num_bedrooms', 'total_size']:\n",
    "    sub_properties_parsed[col] = [get_int_from_str(s) for s in sub_properties_parsed[col]]"
   ]
  },
  {
   "cell_type": "code",
   "execution_count": 27,
   "metadata": {},
   "outputs": [
    {
     "name": "stdout",
     "output_type": "stream",
     "text": [
      "<class 'pandas.core.frame.DataFrame'>\n",
      "RangeIndex: 571 entries, 0 to 570\n",
      "Data columns (total 7 columns):\n",
      "apt_id          571 non-null object\n",
      "num_bedrooms    570 non-null float64\n",
      "floor           534 non-null float64\n",
      "primary_size    571 non-null float64\n",
      "total_size      571 non-null float64\n",
      "price           571 non-null float64\n",
      "ad_id           571 non-null float64\n",
      "dtypes: float64(6), object(1)\n",
      "memory usage: 31.3+ KB\n"
     ]
    }
   ],
   "source": [
    "sub_properties_parsed.info()"
   ]
  },
  {
   "cell_type": "code",
   "execution_count": 28,
   "metadata": {},
   "outputs": [
    {
     "data": {
      "text/html": [
       "<div>\n",
       "<style scoped>\n",
       "    .dataframe tbody tr th:only-of-type {\n",
       "        vertical-align: middle;\n",
       "    }\n",
       "\n",
       "    .dataframe tbody tr th {\n",
       "        vertical-align: top;\n",
       "    }\n",
       "\n",
       "    .dataframe thead th {\n",
       "        text-align: right;\n",
       "    }\n",
       "</style>\n",
       "<table border=\"1\" class=\"dataframe\">\n",
       "  <thead>\n",
       "    <tr style=\"text-align: right;\">\n",
       "      <th></th>\n",
       "      <th>apt_id</th>\n",
       "      <th>num_bedrooms</th>\n",
       "      <th>floor</th>\n",
       "      <th>primary_size</th>\n",
       "      <th>total_size</th>\n",
       "      <th>price</th>\n",
       "      <th>ad_id</th>\n",
       "    </tr>\n",
       "  </thead>\n",
       "  <tbody>\n",
       "    <tr>\n",
       "      <th>0</th>\n",
       "      <td>21</td>\n",
       "      <td>2.0</td>\n",
       "      <td>1.0</td>\n",
       "      <td>66.0</td>\n",
       "      <td>71.0</td>\n",
       "      <td>4418000.0</td>\n",
       "      <td>77962792.0</td>\n",
       "    </tr>\n",
       "    <tr>\n",
       "      <th>1</th>\n",
       "      <td>27</td>\n",
       "      <td>2.0</td>\n",
       "      <td>1.0</td>\n",
       "      <td>67.0</td>\n",
       "      <td>71.0</td>\n",
       "      <td>4518200.0</td>\n",
       "      <td>77962792.0</td>\n",
       "    </tr>\n",
       "    <tr>\n",
       "      <th>2</th>\n",
       "      <td>28</td>\n",
       "      <td>2.0</td>\n",
       "      <td>1.0</td>\n",
       "      <td>67.0</td>\n",
       "      <td>71.0</td>\n",
       "      <td>4551700.0</td>\n",
       "      <td>77962792.0</td>\n",
       "    </tr>\n",
       "    <tr>\n",
       "      <th>3</th>\n",
       "      <td>29</td>\n",
       "      <td>2.0</td>\n",
       "      <td>1.0</td>\n",
       "      <td>66.0</td>\n",
       "      <td>71.0</td>\n",
       "      <td>4554400.0</td>\n",
       "      <td>77962792.0</td>\n",
       "    </tr>\n",
       "    <tr>\n",
       "      <th>4</th>\n",
       "      <td>30</td>\n",
       "      <td>2.0</td>\n",
       "      <td>1.0</td>\n",
       "      <td>66.0</td>\n",
       "      <td>71.0</td>\n",
       "      <td>4569400.0</td>\n",
       "      <td>77962792.0</td>\n",
       "    </tr>\n",
       "  </tbody>\n",
       "</table>\n",
       "</div>"
      ],
      "text/plain": [
       "  apt_id  num_bedrooms  floor  primary_size  total_size      price       ad_id\n",
       "0     21           2.0    1.0          66.0        71.0  4418000.0  77962792.0\n",
       "1     27           2.0    1.0          67.0        71.0  4518200.0  77962792.0\n",
       "2     28           2.0    1.0          67.0        71.0  4551700.0  77962792.0\n",
       "3     29           2.0    1.0          66.0        71.0  4554400.0  77962792.0\n",
       "4     30           2.0    1.0          66.0        71.0  4569400.0  77962792.0"
      ]
     },
     "execution_count": 28,
     "metadata": {},
     "output_type": "execute_result"
    }
   ],
   "source": [
    "sub_properties_parsed.head()"
   ]
  },
  {
   "cell_type": "code",
   "execution_count": 29,
   "metadata": {},
   "outputs": [],
   "source": [
    "sub_properties_parsed.drop_duplicates(inplace=True)"
   ]
  },
  {
   "cell_type": "code",
   "execution_count": 30,
   "metadata": {},
   "outputs": [
    {
     "name": "stdout",
     "output_type": "stream",
     "text": [
      "<class 'pandas.core.frame.DataFrame'>\n",
      "Int64Index: 313 entries, 0 to 570\n",
      "Data columns (total 7 columns):\n",
      "apt_id          313 non-null object\n",
      "num_bedrooms    312 non-null float64\n",
      "floor           289 non-null float64\n",
      "primary_size    313 non-null float64\n",
      "total_size      313 non-null float64\n",
      "price           313 non-null float64\n",
      "ad_id           313 non-null float64\n",
      "dtypes: float64(6), object(1)\n",
      "memory usage: 19.6+ KB\n"
     ]
    }
   ],
   "source": [
    "sub_properties_parsed.info()"
   ]
  },
  {
   "cell_type": "code",
   "execution_count": 31,
   "metadata": {},
   "outputs": [],
   "source": [
    "sub_properties_parsed.to_gbq(destination_table='housing_data.expanded_sub_properties',\n",
    "                             project_id='hde-test-clean',\n",
    "                             if_exists='append')"
   ]
  }
 ],
 "metadata": {
  "kernelspec": {
   "display_name": "Python 3",
   "language": "python",
   "name": "python3"
  },
  "language_info": {
   "codemirror_mode": {
    "name": "ipython",
    "version": 3
   },
   "file_extension": ".py",
   "mimetype": "text/x-python",
   "name": "python",
   "nbconvert_exporter": "python",
   "pygments_lexer": "ipython3",
   "version": "3.7.3"
  }
 },
 "nbformat": 4,
 "nbformat_minor": 2
}
