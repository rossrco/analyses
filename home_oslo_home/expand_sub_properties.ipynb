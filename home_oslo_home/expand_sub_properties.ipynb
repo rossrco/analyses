{
 "cells": [
  {
   "cell_type": "code",
   "execution_count": 1,
   "metadata": {},
   "outputs": [],
   "source": [
    "import re\n",
    "import os\n",
    "import yaml\n",
    "import json\n",
    "import pandas as pd\n",
    "from google.cloud import bigquery\n",
    "import google.api_core.exceptions as google_exceptions"
   ]
  },
  {
   "cell_type": "code",
   "execution_count": 2,
   "metadata": {},
   "outputs": [],
   "source": [
    "config  = yaml.safe_load(open('config.yaml', 'r'))"
   ]
  },
  {
   "cell_type": "code",
   "execution_count": 3,
   "metadata": {},
   "outputs": [],
   "source": [
    "query_dir = 'queries'"
   ]
  },
  {
   "cell_type": "code",
   "execution_count": 4,
   "metadata": {},
   "outputs": [],
   "source": [
    "queries = {}\n",
    "for query_file in (os.listdir(query_dir)):\n",
    "    with open(os.path.join(query_dir, query_file), 'r') as query:\n",
    "        queries[query_file] = query.read()"
   ]
  },
  {
   "cell_type": "code",
   "execution_count": 5,
   "metadata": {},
   "outputs": [],
   "source": [
    "query_client = bigquery.Client()"
   ]
  },
  {
   "cell_type": "code",
   "execution_count": 6,
   "metadata": {},
   "outputs": [],
   "source": [
    "def exists_table(table_reference, client):\n",
    "    try:\n",
    "        client.get_table(table_reference)\n",
    "        return True\n",
    "    except google_exceptions.NotFound:\n",
    "        return False"
   ]
  },
  {
   "cell_type": "code",
   "execution_count": 7,
   "metadata": {},
   "outputs": [],
   "source": [
    "if exists_table(f'{config[\"project_id\"]}.{config[\"dataset\"]}.expanded_sub_properties', query_client):\n",
    "    request = queries['all_new_buildings_that_have_not_been_expanded.sql']\n",
    "else:\n",
    "    request = queries['all_new_buildings.sql']"
   ]
  },
  {
   "cell_type": "code",
   "execution_count": 8,
   "metadata": {},
   "outputs": [],
   "source": [
    "real_estate_raw = query_client.query(request).to_dataframe()"
   ]
  },
  {
   "cell_type": "code",
   "execution_count": 9,
   "metadata": {},
   "outputs": [
    {
     "name": "stdout",
     "output_type": "stream",
     "text": [
      "<class 'pandas.core.frame.DataFrame'>\n",
      "RangeIndex: 60 entries, 0 to 59\n",
      "Data columns (total 5 columns):\n",
      "ad_id             60 non-null int64\n",
      "new_building      60 non-null bool\n",
      "property_table    60 non-null object\n",
      "property_attrs    60 non-null object\n",
      "address           60 non-null object\n",
      "dtypes: bool(1), int64(1), object(3)\n",
      "memory usage: 2.0+ KB\n"
     ]
    }
   ],
   "source": [
    "real_estate_raw.info()"
   ]
  },
  {
   "cell_type": "code",
   "execution_count": 10,
   "metadata": {},
   "outputs": [],
   "source": [
    "real_estate_raw.set_index(keys='ad_id', drop=True, inplace=True)"
   ]
  },
  {
   "cell_type": "code",
   "execution_count": 11,
   "metadata": {},
   "outputs": [
    {
     "data": {
      "text/html": [
       "<div>\n",
       "<style scoped>\n",
       "    .dataframe tbody tr th:only-of-type {\n",
       "        vertical-align: middle;\n",
       "    }\n",
       "\n",
       "    .dataframe tbody tr th {\n",
       "        vertical-align: top;\n",
       "    }\n",
       "\n",
       "    .dataframe thead th {\n",
       "        text-align: right;\n",
       "    }\n",
       "</style>\n",
       "<table border=\"1\" class=\"dataframe\">\n",
       "  <thead>\n",
       "    <tr style=\"text-align: right;\">\n",
       "      <th></th>\n",
       "      <th>new_building</th>\n",
       "      <th>property_table</th>\n",
       "      <th>property_attrs</th>\n",
       "      <th>address</th>\n",
       "    </tr>\n",
       "    <tr>\n",
       "      <th>ad_id</th>\n",
       "      <th></th>\n",
       "      <th></th>\n",
       "      <th></th>\n",
       "      <th></th>\n",
       "    </tr>\n",
       "  </thead>\n",
       "  <tbody>\n",
       "    <tr>\n",
       "      <th>69757913</th>\n",
       "      <td>True</td>\n",
       "      <td>{\"Bolig\": [\"34\", \"41\", \"43\", \"49\", \"50\", \"52\",...</td>\n",
       "      <td>{\"Fellesgjeld\": \"0 kr\", \"Omkostninger\": \"10\\u0...</td>\n",
       "      <td>Siggerudbråten, 2080 Eidsvoll</td>\n",
       "    </tr>\n",
       "    <tr>\n",
       "      <th>88841945</th>\n",
       "      <td>True</td>\n",
       "      <td>{\"Bolig\": [\"C4 01\", \"C4 09\", \"C4 17\", \"C4 24\",...</td>\n",
       "      <td>{\"Areal\": \"37\\u00a0-\\u00a087 m\\u00b2\", \"Sovero...</td>\n",
       "      <td>Lørenveien 57-63, 0585 Oslo</td>\n",
       "    </tr>\n",
       "    <tr>\n",
       "      <th>90475285</th>\n",
       "      <td>True</td>\n",
       "      <td>{\"Bolig\": [\"A206\", \"B205\", \"B301\", \"B403\", \"B4...</td>\n",
       "      <td>{\"Omkostninger\": \"29\\u00a0154 \\u2013 42\\u00a01...</td>\n",
       "      <td>Skaret, Kolbotn - Ormerudveien 8, 1410 Kolbotn</td>\n",
       "    </tr>\n",
       "    <tr>\n",
       "      <th>96236122</th>\n",
       "      <td>True</td>\n",
       "      <td>{\"Bolig\": [\"B B601\", \"B B602\", \"B B604\", \"C C6...</td>\n",
       "      <td>{\"Areal\": \"70\\u00a0-\\u00a090 m\\u00b2\", \"Sovero...</td>\n",
       "      <td>Skårersletta 50 - Hus B-C, 1473 Lørenskog</td>\n",
       "    </tr>\n",
       "    <tr>\n",
       "      <th>98054029</th>\n",
       "      <td>True</td>\n",
       "      <td>{\"Bolig\": [\"A-H0201\", \"A-H0203\", \"A-H0301\", \"A...</td>\n",
       "      <td>{\"Omkostninger\": \"8\\u00a0056 \\u2013 15\\u00a038...</td>\n",
       "      <td>Rostockgata, 0191 Oslo</td>\n",
       "    </tr>\n",
       "  </tbody>\n",
       "</table>\n",
       "</div>"
      ],
      "text/plain": [
       "          new_building                                     property_table  \\\n",
       "ad_id                                                                       \n",
       "69757913          True  {\"Bolig\": [\"34\", \"41\", \"43\", \"49\", \"50\", \"52\",...   \n",
       "88841945          True  {\"Bolig\": [\"C4 01\", \"C4 09\", \"C4 17\", \"C4 24\",...   \n",
       "90475285          True  {\"Bolig\": [\"A206\", \"B205\", \"B301\", \"B403\", \"B4...   \n",
       "96236122          True  {\"Bolig\": [\"B B601\", \"B B602\", \"B B604\", \"C C6...   \n",
       "98054029          True  {\"Bolig\": [\"A-H0201\", \"A-H0203\", \"A-H0301\", \"A...   \n",
       "\n",
       "                                             property_attrs  \\\n",
       "ad_id                                                         \n",
       "69757913  {\"Fellesgjeld\": \"0 kr\", \"Omkostninger\": \"10\\u0...   \n",
       "88841945  {\"Areal\": \"37\\u00a0-\\u00a087 m\\u00b2\", \"Sovero...   \n",
       "90475285  {\"Omkostninger\": \"29\\u00a0154 \\u2013 42\\u00a01...   \n",
       "96236122  {\"Areal\": \"70\\u00a0-\\u00a090 m\\u00b2\", \"Sovero...   \n",
       "98054029  {\"Omkostninger\": \"8\\u00a0056 \\u2013 15\\u00a038...   \n",
       "\n",
       "                                                 address  \n",
       "ad_id                                                     \n",
       "69757913                   Siggerudbråten, 2080 Eidsvoll  \n",
       "88841945                     Lørenveien 57-63, 0585 Oslo  \n",
       "90475285  Skaret, Kolbotn - Ormerudveien 8, 1410 Kolbotn  \n",
       "96236122       Skårersletta 50 - Hus B-C, 1473 Lørenskog  \n",
       "98054029                          Rostockgata, 0191 Oslo  "
      ]
     },
     "execution_count": 11,
     "metadata": {},
     "output_type": "execute_result"
    }
   ],
   "source": [
    "real_estate_raw.head()"
   ]
  },
  {
   "cell_type": "code",
   "execution_count": 12,
   "metadata": {},
   "outputs": [],
   "source": [
    "for col in ['property_table', 'property_attrs']:\n",
    "    real_estate_raw[col] = [json.loads(cell) for cell in real_estate_raw[col]]"
   ]
  },
  {
   "cell_type": "code",
   "execution_count": 13,
   "metadata": {},
   "outputs": [],
   "source": [
    "def expanand_property_tables(new_buildings):\n",
    "    cols = new_buildings.iloc[0]['property_table'].keys()\n",
    "    col_map = {'Bolig': 'apt_id',\n",
    "               'Soverom': 'num_bedrooms',\n",
    "               'Etg': 'floor',\n",
    "               'P-rom': 'primary_size',\n",
    "               'BRA': 'total_size',\n",
    "               'Totalpris': 'price',\n",
    "               'Pris': 'price'}\n",
    "    property_tables = pd.DataFrame(columns=cols)\n",
    "    for code, row in new_buildings['property_table'].iteritems():\n",
    "        all_properties = [arr for arr in row.values()]\n",
    "        to_append = dict(zip(cols, all_properties))\n",
    "        frame = pd.DataFrame(to_append, columns=cols)\n",
    "        frame['ad_id'] = code\n",
    "        property_tables = property_tables.append(frame, ignore_index=True, sort=False)\n",
    "    property_tables.rename(columns=col_map, inplace=True)\n",
    "    return property_tables"
   ]
  },
  {
   "cell_type": "code",
   "execution_count": 14,
   "metadata": {},
   "outputs": [],
   "source": [
    "sub_properties = expanand_property_tables(real_estate_raw[(real_estate_raw.new_building == True) & (real_estate_raw.property_table)])"
   ]
  },
  {
   "cell_type": "code",
   "execution_count": 15,
   "metadata": {},
   "outputs": [
    {
     "data": {
      "text/html": [
       "<div>\n",
       "<style scoped>\n",
       "    .dataframe tbody tr th:only-of-type {\n",
       "        vertical-align: middle;\n",
       "    }\n",
       "\n",
       "    .dataframe tbody tr th {\n",
       "        vertical-align: top;\n",
       "    }\n",
       "\n",
       "    .dataframe thead th {\n",
       "        text-align: right;\n",
       "    }\n",
       "</style>\n",
       "<table border=\"1\" class=\"dataframe\">\n",
       "  <thead>\n",
       "    <tr style=\"text-align: right;\">\n",
       "      <th></th>\n",
       "      <th>apt_id</th>\n",
       "      <th>num_bedrooms</th>\n",
       "      <th>floor</th>\n",
       "      <th>primary_size</th>\n",
       "      <th>total_size</th>\n",
       "      <th>price</th>\n",
       "      <th>ad_id</th>\n",
       "    </tr>\n",
       "  </thead>\n",
       "  <tbody>\n",
       "    <tr>\n",
       "      <th>0</th>\n",
       "      <td>34</td>\n",
       "      <td>2</td>\n",
       "      <td>-</td>\n",
       "      <td>89 m²</td>\n",
       "      <td>93 m²</td>\n",
       "      <td>3 211 622 kr</td>\n",
       "      <td>69757913.0</td>\n",
       "    </tr>\n",
       "    <tr>\n",
       "      <th>1</th>\n",
       "      <td>41</td>\n",
       "      <td>2</td>\n",
       "      <td>2.</td>\n",
       "      <td>89 m²</td>\n",
       "      <td>93 m²</td>\n",
       "      <td>3 261 622 kr</td>\n",
       "      <td>69757913.0</td>\n",
       "    </tr>\n",
       "    <tr>\n",
       "      <th>2</th>\n",
       "      <td>43</td>\n",
       "      <td>2</td>\n",
       "      <td>2.</td>\n",
       "      <td>89 m²</td>\n",
       "      <td>93 m²</td>\n",
       "      <td>3 308 582 kr</td>\n",
       "      <td>69757913.0</td>\n",
       "    </tr>\n",
       "    <tr>\n",
       "      <th>3</th>\n",
       "      <td>49</td>\n",
       "      <td>2</td>\n",
       "      <td>2.</td>\n",
       "      <td>89 m²</td>\n",
       "      <td>93 m²</td>\n",
       "      <td>3 409 162 kr</td>\n",
       "      <td>69757913.0</td>\n",
       "    </tr>\n",
       "    <tr>\n",
       "      <th>4</th>\n",
       "      <td>50</td>\n",
       "      <td>2</td>\n",
       "      <td>2.</td>\n",
       "      <td>67 m²</td>\n",
       "      <td>71 m²</td>\n",
       "      <td>2 908 582 kr</td>\n",
       "      <td>69757913.0</td>\n",
       "    </tr>\n",
       "  </tbody>\n",
       "</table>\n",
       "</div>"
      ],
      "text/plain": [
       "  apt_id num_bedrooms floor primary_size total_size         price       ad_id\n",
       "0     34            2     -        89 m²      93 m²  3 211 622 kr  69757913.0\n",
       "1     41            2    2.        89 m²      93 m²  3 261 622 kr  69757913.0\n",
       "2     43            2    2.        89 m²      93 m²  3 308 582 kr  69757913.0\n",
       "3     49            2    2.        89 m²      93 m²  3 409 162 kr  69757913.0\n",
       "4     50            2    2.        67 m²      71 m²  2 908 582 kr  69757913.0"
      ]
     },
     "execution_count": 15,
     "metadata": {},
     "output_type": "execute_result"
    }
   ],
   "source": [
    "sub_properties.head()"
   ]
  },
  {
   "cell_type": "code",
   "execution_count": 16,
   "metadata": {},
   "outputs": [],
   "source": [
    "def get_int_from_str(string):\n",
    "    try:\n",
    "        concat_string = ''.join(re.findall(r'[\\d.]', string))\n",
    "        if concat_string != '':\n",
    "            return float(concat_string)\n",
    "    except Exception as e:\n",
    "        print(e, string)\n",
    "        pass"
   ]
  },
  {
   "cell_type": "code",
   "execution_count": 17,
   "metadata": {},
   "outputs": [
    {
     "name": "stdout",
     "output_type": "stream",
     "text": [
      "expected string or bytes-like object None\n",
      "expected string or bytes-like object None\n",
      "expected string or bytes-like object None\n",
      "expected string or bytes-like object None\n",
      "expected string or bytes-like object None\n",
      "expected string or bytes-like object None\n",
      "expected string or bytes-like object None\n",
      "expected string or bytes-like object None\n",
      "expected string or bytes-like object None\n",
      "expected string or bytes-like object None\n",
      "expected string or bytes-like object None\n",
      "expected string or bytes-like object None\n",
      "expected string or bytes-like object None\n",
      "expected string or bytes-like object None\n",
      "expected string or bytes-like object None\n",
      "expected string or bytes-like object None\n"
     ]
    }
   ],
   "source": [
    "sub_properties_parsed = sub_properties.copy()\n",
    "for col in ['primary_size', 'floor', 'price', 'num_bedrooms', 'total_size']:\n",
    "    sub_properties_parsed[col] = [get_int_from_str(s) for s in sub_properties_parsed[col]]"
   ]
  },
  {
   "cell_type": "code",
   "execution_count": 18,
   "metadata": {},
   "outputs": [
    {
     "name": "stdout",
     "output_type": "stream",
     "text": [
      "<class 'pandas.core.frame.DataFrame'>\n",
      "RangeIndex: 742 entries, 0 to 741\n",
      "Data columns (total 7 columns):\n",
      "apt_id          742 non-null object\n",
      "num_bedrooms    733 non-null float64\n",
      "floor           612 non-null float64\n",
      "primary_size    691 non-null float64\n",
      "total_size      742 non-null float64\n",
      "price           726 non-null float64\n",
      "ad_id           742 non-null float64\n",
      "dtypes: float64(6), object(1)\n",
      "memory usage: 40.7+ KB\n"
     ]
    }
   ],
   "source": [
    "sub_properties_parsed.info()"
   ]
  },
  {
   "cell_type": "code",
   "execution_count": 19,
   "metadata": {},
   "outputs": [
    {
     "data": {
      "text/html": [
       "<div>\n",
       "<style scoped>\n",
       "    .dataframe tbody tr th:only-of-type {\n",
       "        vertical-align: middle;\n",
       "    }\n",
       "\n",
       "    .dataframe tbody tr th {\n",
       "        vertical-align: top;\n",
       "    }\n",
       "\n",
       "    .dataframe thead th {\n",
       "        text-align: right;\n",
       "    }\n",
       "</style>\n",
       "<table border=\"1\" class=\"dataframe\">\n",
       "  <thead>\n",
       "    <tr style=\"text-align: right;\">\n",
       "      <th></th>\n",
       "      <th>apt_id</th>\n",
       "      <th>num_bedrooms</th>\n",
       "      <th>floor</th>\n",
       "      <th>primary_size</th>\n",
       "      <th>total_size</th>\n",
       "      <th>price</th>\n",
       "      <th>ad_id</th>\n",
       "    </tr>\n",
       "  </thead>\n",
       "  <tbody>\n",
       "    <tr>\n",
       "      <th>0</th>\n",
       "      <td>34</td>\n",
       "      <td>2.0</td>\n",
       "      <td>NaN</td>\n",
       "      <td>89.0</td>\n",
       "      <td>93.0</td>\n",
       "      <td>3211622.0</td>\n",
       "      <td>69757913.0</td>\n",
       "    </tr>\n",
       "    <tr>\n",
       "      <th>1</th>\n",
       "      <td>41</td>\n",
       "      <td>2.0</td>\n",
       "      <td>2.0</td>\n",
       "      <td>89.0</td>\n",
       "      <td>93.0</td>\n",
       "      <td>3261622.0</td>\n",
       "      <td>69757913.0</td>\n",
       "    </tr>\n",
       "    <tr>\n",
       "      <th>2</th>\n",
       "      <td>43</td>\n",
       "      <td>2.0</td>\n",
       "      <td>2.0</td>\n",
       "      <td>89.0</td>\n",
       "      <td>93.0</td>\n",
       "      <td>3308582.0</td>\n",
       "      <td>69757913.0</td>\n",
       "    </tr>\n",
       "    <tr>\n",
       "      <th>3</th>\n",
       "      <td>49</td>\n",
       "      <td>2.0</td>\n",
       "      <td>2.0</td>\n",
       "      <td>89.0</td>\n",
       "      <td>93.0</td>\n",
       "      <td>3409162.0</td>\n",
       "      <td>69757913.0</td>\n",
       "    </tr>\n",
       "    <tr>\n",
       "      <th>4</th>\n",
       "      <td>50</td>\n",
       "      <td>2.0</td>\n",
       "      <td>2.0</td>\n",
       "      <td>67.0</td>\n",
       "      <td>71.0</td>\n",
       "      <td>2908582.0</td>\n",
       "      <td>69757913.0</td>\n",
       "    </tr>\n",
       "  </tbody>\n",
       "</table>\n",
       "</div>"
      ],
      "text/plain": [
       "  apt_id  num_bedrooms  floor  primary_size  total_size      price       ad_id\n",
       "0     34           2.0    NaN          89.0        93.0  3211622.0  69757913.0\n",
       "1     41           2.0    2.0          89.0        93.0  3261622.0  69757913.0\n",
       "2     43           2.0    2.0          89.0        93.0  3308582.0  69757913.0\n",
       "3     49           2.0    2.0          89.0        93.0  3409162.0  69757913.0\n",
       "4     50           2.0    2.0          67.0        71.0  2908582.0  69757913.0"
      ]
     },
     "execution_count": 19,
     "metadata": {},
     "output_type": "execute_result"
    }
   ],
   "source": [
    "sub_properties_parsed.head()"
   ]
  },
  {
   "cell_type": "code",
   "execution_count": 20,
   "metadata": {},
   "outputs": [],
   "source": [
    "sub_properties_parsed.drop_duplicates(inplace=True)"
   ]
  },
  {
   "cell_type": "code",
   "execution_count": 21,
   "metadata": {},
   "outputs": [
    {
     "name": "stdout",
     "output_type": "stream",
     "text": [
      "<class 'pandas.core.frame.DataFrame'>\n",
      "Int64Index: 742 entries, 0 to 741\n",
      "Data columns (total 7 columns):\n",
      "apt_id          742 non-null object\n",
      "num_bedrooms    733 non-null float64\n",
      "floor           612 non-null float64\n",
      "primary_size    691 non-null float64\n",
      "total_size      742 non-null float64\n",
      "price           726 non-null float64\n",
      "ad_id           742 non-null float64\n",
      "dtypes: float64(6), object(1)\n",
      "memory usage: 46.4+ KB\n"
     ]
    }
   ],
   "source": [
    "sub_properties_parsed.info()"
   ]
  },
  {
   "cell_type": "code",
   "execution_count": 22,
   "metadata": {},
   "outputs": [],
   "source": [
    "sub_properties_parsed.to_gbq(destination_table='housing_data.expanded_sub_properties',\n",
    "                             project_id='hde-test-clean',\n",
    "                             if_exists='append')"
   ]
  }
 ],
 "metadata": {
  "kernelspec": {
   "display_name": "Python 3",
   "language": "python",
   "name": "python3"
  },
  "language_info": {
   "codemirror_mode": {
    "name": "ipython",
    "version": 3
   },
   "file_extension": ".py",
   "mimetype": "text/x-python",
   "name": "python",
   "nbconvert_exporter": "python",
   "pygments_lexer": "ipython3",
   "version": "3.7.3"
  }
 },
 "nbformat": 4,
 "nbformat_minor": 2
}
