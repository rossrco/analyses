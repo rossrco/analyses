{
 "cells": [
  {
   "cell_type": "code",
   "execution_count": 1,
   "metadata": {},
   "outputs": [],
   "source": [
    "import re\n",
    "import os\n",
    "import yaml\n",
    "import json\n",
    "import pandas as pd\n",
    "from google.cloud import bigquery\n",
    "import google.api_core.exceptions as google_exceptions"
   ]
  },
  {
   "cell_type": "code",
   "execution_count": 2,
   "metadata": {},
   "outputs": [],
   "source": [
    "config  = yaml.safe_load(open('config.yaml', 'r'))"
   ]
  },
  {
   "cell_type": "code",
   "execution_count": 3,
   "metadata": {},
   "outputs": [],
   "source": [
    "query_dir = 'queries'"
   ]
  },
  {
   "cell_type": "code",
   "execution_count": 4,
   "metadata": {},
   "outputs": [],
   "source": [
    "queries = {}\n",
    "for query_file in (os.listdir(query_dir)):\n",
    "    with open(os.path.join(query_dir, query_file), 'r') as query:\n",
    "        queries[query_file] = query.read()"
   ]
  },
  {
   "cell_type": "code",
   "execution_count": 5,
   "metadata": {},
   "outputs": [],
   "source": [
    "query_client = bigquery.Client()"
   ]
  },
  {
   "cell_type": "code",
   "execution_count": 6,
   "metadata": {},
   "outputs": [],
   "source": [
    "def exists_table(table_reference, client):\n",
    "    try:\n",
    "        client.get_table(table_reference)\n",
    "        return True\n",
    "    except google_exceptions.NotFound:\n",
    "        return False"
   ]
  },
  {
   "cell_type": "code",
   "execution_count": 7,
   "metadata": {},
   "outputs": [],
   "source": [
    "if exists_table(f'{config[\"project_id\"]}.{config[\"dataset\"]}.expanded_sub_properties', query_client):\n",
    "    request = queries['all_new_buildings_that_have_not_been_expanded.sql']\n",
    "else:\n",
    "    request = queries['all_new_buildings.sql']"
   ]
  },
  {
   "cell_type": "code",
   "execution_count": 8,
   "metadata": {},
   "outputs": [],
   "source": [
    "real_estate_raw = query_client.query(request).to_dataframe()"
   ]
  },
  {
   "cell_type": "code",
   "execution_count": 9,
   "metadata": {},
   "outputs": [
    {
     "name": "stdout",
     "output_type": "stream",
     "text": [
      "<class 'pandas.core.frame.DataFrame'>\n",
      "RangeIndex: 80 entries, 0 to 79\n",
      "Data columns (total 5 columns):\n",
      "ad_id             80 non-null int64\n",
      "new_building      80 non-null bool\n",
      "property_table    80 non-null object\n",
      "property_attrs    80 non-null object\n",
      "address           80 non-null object\n",
      "dtypes: bool(1), int64(1), object(3)\n",
      "memory usage: 2.7+ KB\n"
     ]
    }
   ],
   "source": [
    "real_estate_raw.info()"
   ]
  },
  {
   "cell_type": "code",
   "execution_count": 10,
   "metadata": {},
   "outputs": [],
   "source": [
    "real_estate_raw.set_index(keys='ad_id', drop=True, inplace=True)"
   ]
  },
  {
   "cell_type": "code",
   "execution_count": 11,
   "metadata": {},
   "outputs": [
    {
     "data": {
      "text/html": [
       "<div>\n",
       "<style scoped>\n",
       "    .dataframe tbody tr th:only-of-type {\n",
       "        vertical-align: middle;\n",
       "    }\n",
       "\n",
       "    .dataframe tbody tr th {\n",
       "        vertical-align: top;\n",
       "    }\n",
       "\n",
       "    .dataframe thead th {\n",
       "        text-align: right;\n",
       "    }\n",
       "</style>\n",
       "<table border=\"1\" class=\"dataframe\">\n",
       "  <thead>\n",
       "    <tr style=\"text-align: right;\">\n",
       "      <th></th>\n",
       "      <th>new_building</th>\n",
       "      <th>property_table</th>\n",
       "      <th>property_attrs</th>\n",
       "      <th>address</th>\n",
       "    </tr>\n",
       "    <tr>\n",
       "      <th>ad_id</th>\n",
       "      <th></th>\n",
       "      <th></th>\n",
       "      <th></th>\n",
       "      <th></th>\n",
       "    </tr>\n",
       "  </thead>\n",
       "  <tbody>\n",
       "    <tr>\n",
       "      <th>84585697</th>\n",
       "      <td>True</td>\n",
       "      <td>{\"Bolig\": [\"05\"], \"Soverom\": [\"3\"], \"Etg\": [\"2...</td>\n",
       "      <td>{\"Omkostninger\": \"10\\u00a0002 kr\", \"Totalpris\"...</td>\n",
       "      <td>Blomsterbakken 28, 1487 Hakadal</td>\n",
       "    </tr>\n",
       "    <tr>\n",
       "      <th>86180027</th>\n",
       "      <td>True</td>\n",
       "      <td>{\"Bolig\": [\"101\", \"113\", \"201\", \"205\", \"206\", ...</td>\n",
       "      <td>{\"Totalpris\": \"3\\u00a0090\\u00a0000 \\u2013 4\\u0...</td>\n",
       "      <td>Grensevegen 13, 1929 Auli</td>\n",
       "    </tr>\n",
       "    <tr>\n",
       "      <th>87708616</th>\n",
       "      <td>True</td>\n",
       "      <td>{\"Bolig\": [\"37\", \"46\", \"47\", \"52\", \"54\"], \"Sov...</td>\n",
       "      <td>{\"Omkostninger\": \"12\\u00a0222 kr\", \"Totalpris\"...</td>\n",
       "      <td>Furumo - Furumogrenda, 1400 Ski</td>\n",
       "    </tr>\n",
       "    <tr>\n",
       "      <th>88980906</th>\n",
       "      <td>True</td>\n",
       "      <td>{\"Bolig\": [\"D1 08\", \"D1 12\", \"D1 17\", \"D1 19\",...</td>\n",
       "      <td>{\"Omkostninger\": \"19\\u00a0442 \\u2013 24\\u00a06...</td>\n",
       "      <td>Krydderhagen - Hus D1-D2, 0579 Oslo</td>\n",
       "    </tr>\n",
       "    <tr>\n",
       "      <th>88990917</th>\n",
       "      <td>True</td>\n",
       "      <td>{\"Bolig\": [\"1306\", \"1403\", \"1506\", \"3502\", \"35...</td>\n",
       "      <td>{\"Fellesgjeld\": \"659\\u00a0000 \\u2013 779\\u00a0...</td>\n",
       "      <td>Ensjøhøyden, Stålverksveien 1, 0661 Oslo</td>\n",
       "    </tr>\n",
       "  </tbody>\n",
       "</table>\n",
       "</div>"
      ],
      "text/plain": [
       "          new_building                                     property_table  \\\n",
       "ad_id                                                                       \n",
       "84585697          True  {\"Bolig\": [\"05\"], \"Soverom\": [\"3\"], \"Etg\": [\"2...   \n",
       "86180027          True  {\"Bolig\": [\"101\", \"113\", \"201\", \"205\", \"206\", ...   \n",
       "87708616          True  {\"Bolig\": [\"37\", \"46\", \"47\", \"52\", \"54\"], \"Sov...   \n",
       "88980906          True  {\"Bolig\": [\"D1 08\", \"D1 12\", \"D1 17\", \"D1 19\",...   \n",
       "88990917          True  {\"Bolig\": [\"1306\", \"1403\", \"1506\", \"3502\", \"35...   \n",
       "\n",
       "                                             property_attrs  \\\n",
       "ad_id                                                         \n",
       "84585697  {\"Omkostninger\": \"10\\u00a0002 kr\", \"Totalpris\"...   \n",
       "86180027  {\"Totalpris\": \"3\\u00a0090\\u00a0000 \\u2013 4\\u0...   \n",
       "87708616  {\"Omkostninger\": \"12\\u00a0222 kr\", \"Totalpris\"...   \n",
       "88980906  {\"Omkostninger\": \"19\\u00a0442 \\u2013 24\\u00a06...   \n",
       "88990917  {\"Fellesgjeld\": \"659\\u00a0000 \\u2013 779\\u00a0...   \n",
       "\n",
       "                                           address  \n",
       "ad_id                                               \n",
       "84585697           Blomsterbakken 28, 1487 Hakadal  \n",
       "86180027                 Grensevegen 13, 1929 Auli  \n",
       "87708616           Furumo - Furumogrenda, 1400 Ski  \n",
       "88980906       Krydderhagen - Hus D1-D2, 0579 Oslo  \n",
       "88990917  Ensjøhøyden, Stålverksveien 1, 0661 Oslo  "
      ]
     },
     "execution_count": 11,
     "metadata": {},
     "output_type": "execute_result"
    }
   ],
   "source": [
    "real_estate_raw.head()"
   ]
  },
  {
   "cell_type": "code",
   "execution_count": 12,
   "metadata": {},
   "outputs": [],
   "source": [
    "for col in ['property_table', 'property_attrs']:\n",
    "    real_estate_raw[col] = [json.loads(cell) for cell in real_estate_raw[col]]"
   ]
  },
  {
   "cell_type": "code",
   "execution_count": 13,
   "metadata": {},
   "outputs": [],
   "source": [
    "def expanand_property_tables(new_buildings):\n",
    "    cols = new_buildings.iloc[0]['property_table'].keys()\n",
    "    col_map = {'Bolig': 'apt_id',\n",
    "               'Soverom': 'num_bedrooms',\n",
    "               'Etg': 'floor',\n",
    "               'P-rom': 'primary_size',\n",
    "               'BRA': 'total_size',\n",
    "               'Totalpris': 'price',\n",
    "               'Pris': 'price'}\n",
    "    property_tables = pd.DataFrame(columns=cols)\n",
    "    for code, row in new_buildings['property_table'].iteritems():\n",
    "        all_properties = [arr for arr in row.values()]\n",
    "        to_append = dict(zip(cols, all_properties))\n",
    "        frame = pd.DataFrame(to_append, columns=cols)\n",
    "        frame['ad_id'] = code\n",
    "        property_tables = property_tables.append(frame, ignore_index=True, sort=False)\n",
    "    property_tables.rename(columns=col_map, inplace=True)\n",
    "    return property_tables"
   ]
  },
  {
   "cell_type": "code",
   "execution_count": 14,
   "metadata": {},
   "outputs": [],
   "source": [
    "sub_properties = expanand_property_tables(real_estate_raw[(real_estate_raw.new_building == True) & (real_estate_raw.property_table)])"
   ]
  },
  {
   "cell_type": "code",
   "execution_count": 15,
   "metadata": {},
   "outputs": [
    {
     "data": {
      "text/html": [
       "<div>\n",
       "<style scoped>\n",
       "    .dataframe tbody tr th:only-of-type {\n",
       "        vertical-align: middle;\n",
       "    }\n",
       "\n",
       "    .dataframe tbody tr th {\n",
       "        vertical-align: top;\n",
       "    }\n",
       "\n",
       "    .dataframe thead th {\n",
       "        text-align: right;\n",
       "    }\n",
       "</style>\n",
       "<table border=\"1\" class=\"dataframe\">\n",
       "  <thead>\n",
       "    <tr style=\"text-align: right;\">\n",
       "      <th></th>\n",
       "      <th>apt_id</th>\n",
       "      <th>num_bedrooms</th>\n",
       "      <th>floor</th>\n",
       "      <th>primary_size</th>\n",
       "      <th>total_size</th>\n",
       "      <th>price</th>\n",
       "      <th>ad_id</th>\n",
       "    </tr>\n",
       "  </thead>\n",
       "  <tbody>\n",
       "    <tr>\n",
       "      <th>0</th>\n",
       "      <td>05</td>\n",
       "      <td>3</td>\n",
       "      <td>2.</td>\n",
       "      <td>84 m²</td>\n",
       "      <td>89 m²</td>\n",
       "      <td>4 108 002 kr</td>\n",
       "      <td>84585697.0</td>\n",
       "    </tr>\n",
       "    <tr>\n",
       "      <th>1</th>\n",
       "      <td>101</td>\n",
       "      <td>2</td>\n",
       "      <td>1.</td>\n",
       "      <td>74 m²</td>\n",
       "      <td>77 m²</td>\n",
       "      <td>3 190 000 kr</td>\n",
       "      <td>86180027.0</td>\n",
       "    </tr>\n",
       "    <tr>\n",
       "      <th>2</th>\n",
       "      <td>113</td>\n",
       "      <td>2</td>\n",
       "      <td>1.</td>\n",
       "      <td>80 m²</td>\n",
       "      <td>82 m²</td>\n",
       "      <td>3 090 000 kr</td>\n",
       "      <td>86180027.0</td>\n",
       "    </tr>\n",
       "    <tr>\n",
       "      <th>3</th>\n",
       "      <td>201</td>\n",
       "      <td>3</td>\n",
       "      <td>2.</td>\n",
       "      <td>97 m²</td>\n",
       "      <td>100 m²</td>\n",
       "      <td>4 250 000 kr</td>\n",
       "      <td>86180027.0</td>\n",
       "    </tr>\n",
       "    <tr>\n",
       "      <th>4</th>\n",
       "      <td>205</td>\n",
       "      <td>2</td>\n",
       "      <td>2.</td>\n",
       "      <td>74 m²</td>\n",
       "      <td>77 m²</td>\n",
       "      <td>3 290 000 kr</td>\n",
       "      <td>86180027.0</td>\n",
       "    </tr>\n",
       "  </tbody>\n",
       "</table>\n",
       "</div>"
      ],
      "text/plain": [
       "  apt_id num_bedrooms floor primary_size total_size         price       ad_id\n",
       "0     05            3    2.        84 m²      89 m²  4 108 002 kr  84585697.0\n",
       "1    101            2    1.        74 m²      77 m²  3 190 000 kr  86180027.0\n",
       "2    113            2    1.        80 m²      82 m²  3 090 000 kr  86180027.0\n",
       "3    201            3    2.        97 m²     100 m²  4 250 000 kr  86180027.0\n",
       "4    205            2    2.        74 m²      77 m²  3 290 000 kr  86180027.0"
      ]
     },
     "execution_count": 15,
     "metadata": {},
     "output_type": "execute_result"
    }
   ],
   "source": [
    "sub_properties.head()"
   ]
  },
  {
   "cell_type": "code",
   "execution_count": 16,
   "metadata": {},
   "outputs": [],
   "source": [
    "def get_int_from_str(string):\n",
    "    try:\n",
    "        concat_string = ''.join(re.findall(r'[\\d.]', string))\n",
    "        if concat_string != '':\n",
    "            return float(concat_string)\n",
    "    except Exception as e:\n",
    "        print(e, string)\n",
    "        pass"
   ]
  },
  {
   "cell_type": "code",
   "execution_count": 17,
   "metadata": {},
   "outputs": [
    {
     "name": "stdout",
     "output_type": "stream",
     "text": [
      "expected string or bytes-like object None\n",
      "expected string or bytes-like object None\n",
      "expected string or bytes-like object None\n",
      "expected string or bytes-like object None\n",
      "expected string or bytes-like object None\n"
     ]
    }
   ],
   "source": [
    "sub_properties_parsed = sub_properties.copy()\n",
    "for col in ['primary_size', 'floor', 'price', 'num_bedrooms', 'total_size']:\n",
    "    sub_properties_parsed[col] = [get_int_from_str(s) for s in sub_properties_parsed[col]]"
   ]
  },
  {
   "cell_type": "code",
   "execution_count": 18,
   "metadata": {},
   "outputs": [
    {
     "name": "stdout",
     "output_type": "stream",
     "text": [
      "<class 'pandas.core.frame.DataFrame'>\n",
      "RangeIndex: 935 entries, 0 to 934\n",
      "Data columns (total 7 columns):\n",
      "apt_id          935 non-null object\n",
      "num_bedrooms    930 non-null float64\n",
      "floor           850 non-null float64\n",
      "primary_size    807 non-null float64\n",
      "total_size      934 non-null float64\n",
      "price           930 non-null float64\n",
      "ad_id           935 non-null float64\n",
      "dtypes: float64(6), object(1)\n",
      "memory usage: 51.2+ KB\n"
     ]
    }
   ],
   "source": [
    "sub_properties_parsed.info()"
   ]
  },
  {
   "cell_type": "code",
   "execution_count": 19,
   "metadata": {},
   "outputs": [
    {
     "data": {
      "text/html": [
       "<div>\n",
       "<style scoped>\n",
       "    .dataframe tbody tr th:only-of-type {\n",
       "        vertical-align: middle;\n",
       "    }\n",
       "\n",
       "    .dataframe tbody tr th {\n",
       "        vertical-align: top;\n",
       "    }\n",
       "\n",
       "    .dataframe thead th {\n",
       "        text-align: right;\n",
       "    }\n",
       "</style>\n",
       "<table border=\"1\" class=\"dataframe\">\n",
       "  <thead>\n",
       "    <tr style=\"text-align: right;\">\n",
       "      <th></th>\n",
       "      <th>apt_id</th>\n",
       "      <th>num_bedrooms</th>\n",
       "      <th>floor</th>\n",
       "      <th>primary_size</th>\n",
       "      <th>total_size</th>\n",
       "      <th>price</th>\n",
       "      <th>ad_id</th>\n",
       "    </tr>\n",
       "  </thead>\n",
       "  <tbody>\n",
       "    <tr>\n",
       "      <th>0</th>\n",
       "      <td>05</td>\n",
       "      <td>3.0</td>\n",
       "      <td>2.0</td>\n",
       "      <td>84.0</td>\n",
       "      <td>89.0</td>\n",
       "      <td>4108002.0</td>\n",
       "      <td>84585697.0</td>\n",
       "    </tr>\n",
       "    <tr>\n",
       "      <th>1</th>\n",
       "      <td>101</td>\n",
       "      <td>2.0</td>\n",
       "      <td>1.0</td>\n",
       "      <td>74.0</td>\n",
       "      <td>77.0</td>\n",
       "      <td>3190000.0</td>\n",
       "      <td>86180027.0</td>\n",
       "    </tr>\n",
       "    <tr>\n",
       "      <th>2</th>\n",
       "      <td>113</td>\n",
       "      <td>2.0</td>\n",
       "      <td>1.0</td>\n",
       "      <td>80.0</td>\n",
       "      <td>82.0</td>\n",
       "      <td>3090000.0</td>\n",
       "      <td>86180027.0</td>\n",
       "    </tr>\n",
       "    <tr>\n",
       "      <th>3</th>\n",
       "      <td>201</td>\n",
       "      <td>3.0</td>\n",
       "      <td>2.0</td>\n",
       "      <td>97.0</td>\n",
       "      <td>100.0</td>\n",
       "      <td>4250000.0</td>\n",
       "      <td>86180027.0</td>\n",
       "    </tr>\n",
       "    <tr>\n",
       "      <th>4</th>\n",
       "      <td>205</td>\n",
       "      <td>2.0</td>\n",
       "      <td>2.0</td>\n",
       "      <td>74.0</td>\n",
       "      <td>77.0</td>\n",
       "      <td>3290000.0</td>\n",
       "      <td>86180027.0</td>\n",
       "    </tr>\n",
       "  </tbody>\n",
       "</table>\n",
       "</div>"
      ],
      "text/plain": [
       "  apt_id  num_bedrooms  floor  primary_size  total_size      price       ad_id\n",
       "0     05           3.0    2.0          84.0        89.0  4108002.0  84585697.0\n",
       "1    101           2.0    1.0          74.0        77.0  3190000.0  86180027.0\n",
       "2    113           2.0    1.0          80.0        82.0  3090000.0  86180027.0\n",
       "3    201           3.0    2.0          97.0       100.0  4250000.0  86180027.0\n",
       "4    205           2.0    2.0          74.0        77.0  3290000.0  86180027.0"
      ]
     },
     "execution_count": 19,
     "metadata": {},
     "output_type": "execute_result"
    }
   ],
   "source": [
    "sub_properties_parsed.head()"
   ]
  },
  {
   "cell_type": "code",
   "execution_count": 20,
   "metadata": {},
   "outputs": [],
   "source": [
    "sub_properties_parsed.drop_duplicates(inplace=True)"
   ]
  },
  {
   "cell_type": "code",
   "execution_count": 21,
   "metadata": {},
   "outputs": [
    {
     "name": "stdout",
     "output_type": "stream",
     "text": [
      "<class 'pandas.core.frame.DataFrame'>\n",
      "Int64Index: 920 entries, 0 to 934\n",
      "Data columns (total 7 columns):\n",
      "apt_id          920 non-null object\n",
      "num_bedrooms    915 non-null float64\n",
      "floor           835 non-null float64\n",
      "primary_size    807 non-null float64\n",
      "total_size      919 non-null float64\n",
      "price           915 non-null float64\n",
      "ad_id           920 non-null float64\n",
      "dtypes: float64(6), object(1)\n",
      "memory usage: 57.5+ KB\n"
     ]
    }
   ],
   "source": [
    "sub_properties_parsed.info()"
   ]
  },
  {
   "cell_type": "code",
   "execution_count": 22,
   "metadata": {},
   "outputs": [],
   "source": [
    "sub_properties_parsed.to_gbq(destination_table='housing_data.expanded_sub_properties',\n",
    "                             project_id='hde-test-clean',\n",
    "                             if_exists='append')"
   ]
  }
 ],
 "metadata": {
  "kernelspec": {
   "display_name": "Python 3",
   "language": "python",
   "name": "python3"
  },
  "language_info": {
   "codemirror_mode": {
    "name": "ipython",
    "version": 3
   },
   "file_extension": ".py",
   "mimetype": "text/x-python",
   "name": "python",
   "nbconvert_exporter": "python",
   "pygments_lexer": "ipython3",
   "version": "3.7.3"
  }
 },
 "nbformat": 4,
 "nbformat_minor": 2
}
