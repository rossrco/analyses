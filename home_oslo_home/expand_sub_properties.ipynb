{
 "cells": [
  {
   "cell_type": "code",
   "execution_count": 217,
   "metadata": {},
   "outputs": [],
   "source": [
    "import re\n",
    "import os\n",
    "import yaml\n",
    "import json\n",
    "import pandas as pd\n",
    "from google.cloud import bigquery\n",
    "import google.api_core.exceptions as google_exceptions"
   ]
  },
  {
   "cell_type": "code",
   "execution_count": 218,
   "metadata": {},
   "outputs": [],
   "source": [
    "config  = yaml.safe_load(open('config.yaml', 'r'))"
   ]
  },
  {
   "cell_type": "code",
   "execution_count": 219,
   "metadata": {},
   "outputs": [],
   "source": [
    "query_dir = 'queries'"
   ]
  },
  {
   "cell_type": "code",
   "execution_count": 220,
   "metadata": {},
   "outputs": [],
   "source": [
    "queries = {}\n",
    "for query_file in (os.listdir(query_dir)):\n",
    "    with open(os.path.join(query_dir, query_file), 'r') as query:\n",
    "        queries[query_file] = query.read()"
   ]
  },
  {
   "cell_type": "code",
   "execution_count": 221,
   "metadata": {},
   "outputs": [],
   "source": [
    "query_client = bigquery.Client()"
   ]
  },
  {
   "cell_type": "code",
   "execution_count": 222,
   "metadata": {},
   "outputs": [],
   "source": [
    "def exists_table(table_reference, client):\n",
    "    try:\n",
    "        client.get_table(table_reference)\n",
    "        return True\n",
    "    except google_exceptions.NotFound:\n",
    "        return False"
   ]
  },
  {
   "cell_type": "code",
   "execution_count": 223,
   "metadata": {},
   "outputs": [],
   "source": [
    "if exists_table(f'{config[\"project_id\"]}.{config[\"dataset\"]}.expanded_sub_properties', query_client):\n",
    "    request = queries['all_new_buildings_that_have_not_been_expanded.sql']\n",
    "else:\n",
    "    request = queries['all_new_buildings.sql']"
   ]
  },
  {
   "cell_type": "code",
   "execution_count": 224,
   "metadata": {},
   "outputs": [],
   "source": [
    "real_estate_raw = query_client.query(request).to_dataframe()"
   ]
  },
  {
   "cell_type": "code",
   "execution_count": 225,
   "metadata": {},
   "outputs": [
    {
     "name": "stdout",
     "output_type": "stream",
     "text": [
      "<class 'pandas.core.frame.DataFrame'>\n",
      "RangeIndex: 129 entries, 0 to 128\n",
      "Data columns (total 5 columns):\n",
      "ad_id             129 non-null int64\n",
      "new_building      129 non-null bool\n",
      "property_table    129 non-null object\n",
      "property_attrs    129 non-null object\n",
      "address           129 non-null object\n",
      "dtypes: bool(1), int64(1), object(3)\n",
      "memory usage: 4.2+ KB\n"
     ]
    }
   ],
   "source": [
    "real_estate_raw.info()"
   ]
  },
  {
   "cell_type": "code",
   "execution_count": 226,
   "metadata": {},
   "outputs": [],
   "source": [
    "real_estate_raw.set_index(keys='ad_id', drop=True, inplace=True)"
   ]
  },
  {
   "cell_type": "code",
   "execution_count": 227,
   "metadata": {},
   "outputs": [
    {
     "data": {
      "text/html": [
       "<div>\n",
       "<style scoped>\n",
       "    .dataframe tbody tr th:only-of-type {\n",
       "        vertical-align: middle;\n",
       "    }\n",
       "\n",
       "    .dataframe tbody tr th {\n",
       "        vertical-align: top;\n",
       "    }\n",
       "\n",
       "    .dataframe thead th {\n",
       "        text-align: right;\n",
       "    }\n",
       "</style>\n",
       "<table border=\"1\" class=\"dataframe\">\n",
       "  <thead>\n",
       "    <tr style=\"text-align: right;\">\n",
       "      <th></th>\n",
       "      <th>new_building</th>\n",
       "      <th>property_table</th>\n",
       "      <th>property_attrs</th>\n",
       "      <th>address</th>\n",
       "    </tr>\n",
       "    <tr>\n",
       "      <th>ad_id</th>\n",
       "      <th></th>\n",
       "      <th></th>\n",
       "      <th></th>\n",
       "      <th></th>\n",
       "    </tr>\n",
       "  </thead>\n",
       "  <tbody>\n",
       "    <tr>\n",
       "      <th>85287718</th>\n",
       "      <td>True</td>\n",
       "      <td>{\"Bolig\": [\"120\", \"143\", \"183\", \"187\", \"204\", ...</td>\n",
       "      <td>{\"Areal\": \"43\\u00a0-\\u00a090 m\\u00b2\", \"Sovero...</td>\n",
       "      <td>Innspurten 6, 0663 Oslo</td>\n",
       "    </tr>\n",
       "    <tr>\n",
       "      <th>91411206</th>\n",
       "      <td>True</td>\n",
       "      <td>{\"Bolig\": [\"104\", \"1004\", \"2001\", \"2003\", \"300...</td>\n",
       "      <td>{\"Fellesgjeld\": \"2\\u00a0790\\u00a0000 \\u2013 5\\...</td>\n",
       "      <td>Lillebergtunet borettslag, Hus A, trinn 1, 066...</td>\n",
       "    </tr>\n",
       "    <tr>\n",
       "      <th>93367028</th>\n",
       "      <td>True</td>\n",
       "      <td>{\"Bolig\": [\"302\", \"305\", \"307\", \"402\", \"407\", ...</td>\n",
       "      <td>{\"Fellesgjeld\": \"1\\u00a0900\\u00a0000 \\u2013 6\\...</td>\n",
       "      <td>Frysjaveien 42 -  trinn 1, 0884 Oslo</td>\n",
       "    </tr>\n",
       "    <tr>\n",
       "      <th>95247107</th>\n",
       "      <td>True</td>\n",
       "      <td>{\"Bolig\": [\"B4009\", \"B4010\", \"B4013\", \"B5012\",...</td>\n",
       "      <td>{\"Fellesgjeld\": \"2\\u00a0430\\u00a0000 \\u2013 5\\...</td>\n",
       "      <td>Lillebergtunet borettlslag, Hus B, trinn 2, Ma...</td>\n",
       "    </tr>\n",
       "    <tr>\n",
       "      <th>96760455</th>\n",
       "      <td>True</td>\n",
       "      <td>{\"Bolig\": [\"A303\", \"B401\", \"C201\", \"C202\", \"C3...</td>\n",
       "      <td>{\"Omkostninger\": \"1\\u00a0064 kr\", \"Totalpris\":...</td>\n",
       "      <td>Røa Torg - Vækerøveien 195, 0751 Oslo</td>\n",
       "    </tr>\n",
       "  </tbody>\n",
       "</table>\n",
       "</div>"
      ],
      "text/plain": [
       "          new_building                                     property_table  \\\n",
       "ad_id                                                                       \n",
       "85287718          True  {\"Bolig\": [\"120\", \"143\", \"183\", \"187\", \"204\", ...   \n",
       "91411206          True  {\"Bolig\": [\"104\", \"1004\", \"2001\", \"2003\", \"300...   \n",
       "93367028          True  {\"Bolig\": [\"302\", \"305\", \"307\", \"402\", \"407\", ...   \n",
       "95247107          True  {\"Bolig\": [\"B4009\", \"B4010\", \"B4013\", \"B5012\",...   \n",
       "96760455          True  {\"Bolig\": [\"A303\", \"B401\", \"C201\", \"C202\", \"C3...   \n",
       "\n",
       "                                             property_attrs  \\\n",
       "ad_id                                                         \n",
       "85287718  {\"Areal\": \"43\\u00a0-\\u00a090 m\\u00b2\", \"Sovero...   \n",
       "91411206  {\"Fellesgjeld\": \"2\\u00a0790\\u00a0000 \\u2013 5\\...   \n",
       "93367028  {\"Fellesgjeld\": \"1\\u00a0900\\u00a0000 \\u2013 6\\...   \n",
       "95247107  {\"Fellesgjeld\": \"2\\u00a0430\\u00a0000 \\u2013 5\\...   \n",
       "96760455  {\"Omkostninger\": \"1\\u00a0064 kr\", \"Totalpris\":...   \n",
       "\n",
       "                                                    address  \n",
       "ad_id                                                        \n",
       "85287718                            Innspurten 6, 0663 Oslo  \n",
       "91411206  Lillebergtunet borettslag, Hus A, trinn 1, 066...  \n",
       "93367028               Frysjaveien 42 -  trinn 1, 0884 Oslo  \n",
       "95247107  Lillebergtunet borettlslag, Hus B, trinn 2, Ma...  \n",
       "96760455              Røa Torg - Vækerøveien 195, 0751 Oslo  "
      ]
     },
     "execution_count": 227,
     "metadata": {},
     "output_type": "execute_result"
    }
   ],
   "source": [
    "real_estate_raw.head()"
   ]
  },
  {
   "cell_type": "code",
   "execution_count": 228,
   "metadata": {},
   "outputs": [],
   "source": [
    "for col in ['property_table', 'property_attrs']:\n",
    "    real_estate_raw[col] = [json.loads(cell) for cell in real_estate_raw[col]]"
   ]
  },
  {
   "cell_type": "code",
   "execution_count": 229,
   "metadata": {},
   "outputs": [],
   "source": [
    "def expanand_property_tables(new_buildings):\n",
    "    cols = new_buildings.iloc[0]['property_table'].keys()\n",
    "    col_map = {'Bolig': 'apt_id',\n",
    "               'Soverom': 'num_bedrooms',\n",
    "               'Etg': 'floor',\n",
    "               'P-rom': 'primary_size',\n",
    "               'BRA': 'total_size',\n",
    "               'Totalpris': 'price',\n",
    "               'Pris': 'price'}\n",
    "    property_tables = pd.DataFrame(columns=cols)\n",
    "    for code, row in new_buildings['property_table'].iteritems():\n",
    "        all_properties = [arr for arr in row.values()]\n",
    "        to_append = dict(zip(cols, all_properties))\n",
    "        frame = pd.DataFrame(to_append, columns=cols)\n",
    "        frame['ad_id'] = code\n",
    "        property_tables = property_tables.append(frame, ignore_index=True, sort=False)\n",
    "    property_tables.rename(columns=col_map, inplace=True)\n",
    "    return property_tables"
   ]
  },
  {
   "cell_type": "code",
   "execution_count": 230,
   "metadata": {},
   "outputs": [],
   "source": [
    "sub_properties = expanand_property_tables(real_estate_raw[(real_estate_raw.new_building == True) & (real_estate_raw.property_table)])"
   ]
  },
  {
   "cell_type": "code",
   "execution_count": 231,
   "metadata": {},
   "outputs": [
    {
     "data": {
      "text/html": [
       "<div>\n",
       "<style scoped>\n",
       "    .dataframe tbody tr th:only-of-type {\n",
       "        vertical-align: middle;\n",
       "    }\n",
       "\n",
       "    .dataframe tbody tr th {\n",
       "        vertical-align: top;\n",
       "    }\n",
       "\n",
       "    .dataframe thead th {\n",
       "        text-align: right;\n",
       "    }\n",
       "</style>\n",
       "<table border=\"1\" class=\"dataframe\">\n",
       "  <thead>\n",
       "    <tr style=\"text-align: right;\">\n",
       "      <th></th>\n",
       "      <th>apt_id</th>\n",
       "      <th>num_bedrooms</th>\n",
       "      <th>floor</th>\n",
       "      <th>primary_size</th>\n",
       "      <th>total_size</th>\n",
       "      <th>price</th>\n",
       "      <th>ad_id</th>\n",
       "    </tr>\n",
       "  </thead>\n",
       "  <tbody>\n",
       "    <tr>\n",
       "      <th>0</th>\n",
       "      <td>120</td>\n",
       "      <td>2</td>\n",
       "      <td>1.</td>\n",
       "      <td>48 m²</td>\n",
       "      <td>59 m²</td>\n",
       "      <td>4 150 000 kr</td>\n",
       "      <td>85287718.0</td>\n",
       "    </tr>\n",
       "    <tr>\n",
       "      <th>1</th>\n",
       "      <td>143</td>\n",
       "      <td>2</td>\n",
       "      <td>2.</td>\n",
       "      <td>56 m²</td>\n",
       "      <td>61 m²</td>\n",
       "      <td>4 350 000 kr</td>\n",
       "      <td>85287718.0</td>\n",
       "    </tr>\n",
       "    <tr>\n",
       "      <th>2</th>\n",
       "      <td>183</td>\n",
       "      <td>2</td>\n",
       "      <td>5.</td>\n",
       "      <td>51 m²</td>\n",
       "      <td>59 m²</td>\n",
       "      <td>4 350 000 kr</td>\n",
       "      <td>85287718.0</td>\n",
       "    </tr>\n",
       "    <tr>\n",
       "      <th>3</th>\n",
       "      <td>187</td>\n",
       "      <td>2</td>\n",
       "      <td>5.</td>\n",
       "      <td>48 m²</td>\n",
       "      <td>59 m²</td>\n",
       "      <td>4 350 000 kr</td>\n",
       "      <td>85287718.0</td>\n",
       "    </tr>\n",
       "    <tr>\n",
       "      <th>4</th>\n",
       "      <td>204</td>\n",
       "      <td>3</td>\n",
       "      <td>6.</td>\n",
       "      <td>86 m²</td>\n",
       "      <td>92 m²</td>\n",
       "      <td>8 495 000 kr</td>\n",
       "      <td>85287718.0</td>\n",
       "    </tr>\n",
       "  </tbody>\n",
       "</table>\n",
       "</div>"
      ],
      "text/plain": [
       "  apt_id num_bedrooms floor primary_size total_size         price       ad_id\n",
       "0    120            2    1.        48 m²      59 m²  4 150 000 kr  85287718.0\n",
       "1    143            2    2.        56 m²      61 m²  4 350 000 kr  85287718.0\n",
       "2    183            2    5.        51 m²      59 m²  4 350 000 kr  85287718.0\n",
       "3    187            2    5.        48 m²      59 m²  4 350 000 kr  85287718.0\n",
       "4    204            3    6.        86 m²      92 m²  8 495 000 kr  85287718.0"
      ]
     },
     "execution_count": 231,
     "metadata": {},
     "output_type": "execute_result"
    }
   ],
   "source": [
    "sub_properties.head()"
   ]
  },
  {
   "cell_type": "code",
   "execution_count": 232,
   "metadata": {},
   "outputs": [],
   "source": [
    "def get_int_from_str(string):\n",
    "    try:\n",
    "        concat_string = ''.join(re.findall(r'[\\d.]', string))\n",
    "        if concat_string != '':\n",
    "            return float(concat_string)\n",
    "    except Exception as e:\n",
    "        print(e, string)\n",
    "        pass"
   ]
  },
  {
   "cell_type": "code",
   "execution_count": 233,
   "metadata": {},
   "outputs": [
    {
     "name": "stdout",
     "output_type": "stream",
     "text": [
      "expected string or bytes-like object None\n",
      "expected string or bytes-like object None\n",
      "expected string or bytes-like object None\n",
      "expected string or bytes-like object None\n",
      "expected string or bytes-like object None\n",
      "expected string or bytes-like object None\n",
      "expected string or bytes-like object None\n",
      "expected string or bytes-like object None\n",
      "expected string or bytes-like object None\n",
      "expected string or bytes-like object None\n"
     ]
    }
   ],
   "source": [
    "sub_properties_parsed = sub_properties.copy()\n",
    "for col in ['primary_size', 'floor', 'price', 'num_bedrooms', 'total_size']:\n",
    "    sub_properties_parsed[col] = [get_int_from_str(s) for s in sub_properties_parsed[col]]"
   ]
  },
  {
   "cell_type": "code",
   "execution_count": 234,
   "metadata": {},
   "outputs": [
    {
     "name": "stdout",
     "output_type": "stream",
     "text": [
      "<class 'pandas.core.frame.DataFrame'>\n",
      "RangeIndex: 1573 entries, 0 to 1572\n",
      "Data columns (total 7 columns):\n",
      "apt_id          1573 non-null object\n",
      "num_bedrooms    1571 non-null float64\n",
      "floor           1350 non-null float64\n",
      "primary_size    1238 non-null float64\n",
      "total_size      1570 non-null float64\n",
      "price           1563 non-null float64\n",
      "ad_id           1573 non-null float64\n",
      "dtypes: float64(6), object(1)\n",
      "memory usage: 86.1+ KB\n"
     ]
    }
   ],
   "source": [
    "sub_properties_parsed.info()"
   ]
  },
  {
   "cell_type": "code",
   "execution_count": 235,
   "metadata": {},
   "outputs": [
    {
     "data": {
      "text/html": [
       "<div>\n",
       "<style scoped>\n",
       "    .dataframe tbody tr th:only-of-type {\n",
       "        vertical-align: middle;\n",
       "    }\n",
       "\n",
       "    .dataframe tbody tr th {\n",
       "        vertical-align: top;\n",
       "    }\n",
       "\n",
       "    .dataframe thead th {\n",
       "        text-align: right;\n",
       "    }\n",
       "</style>\n",
       "<table border=\"1\" class=\"dataframe\">\n",
       "  <thead>\n",
       "    <tr style=\"text-align: right;\">\n",
       "      <th></th>\n",
       "      <th>apt_id</th>\n",
       "      <th>num_bedrooms</th>\n",
       "      <th>floor</th>\n",
       "      <th>primary_size</th>\n",
       "      <th>total_size</th>\n",
       "      <th>price</th>\n",
       "      <th>ad_id</th>\n",
       "    </tr>\n",
       "  </thead>\n",
       "  <tbody>\n",
       "    <tr>\n",
       "      <th>0</th>\n",
       "      <td>120</td>\n",
       "      <td>2.0</td>\n",
       "      <td>1.0</td>\n",
       "      <td>48.0</td>\n",
       "      <td>59.0</td>\n",
       "      <td>4150000.0</td>\n",
       "      <td>85287718.0</td>\n",
       "    </tr>\n",
       "    <tr>\n",
       "      <th>1</th>\n",
       "      <td>143</td>\n",
       "      <td>2.0</td>\n",
       "      <td>2.0</td>\n",
       "      <td>56.0</td>\n",
       "      <td>61.0</td>\n",
       "      <td>4350000.0</td>\n",
       "      <td>85287718.0</td>\n",
       "    </tr>\n",
       "    <tr>\n",
       "      <th>2</th>\n",
       "      <td>183</td>\n",
       "      <td>2.0</td>\n",
       "      <td>5.0</td>\n",
       "      <td>51.0</td>\n",
       "      <td>59.0</td>\n",
       "      <td>4350000.0</td>\n",
       "      <td>85287718.0</td>\n",
       "    </tr>\n",
       "    <tr>\n",
       "      <th>3</th>\n",
       "      <td>187</td>\n",
       "      <td>2.0</td>\n",
       "      <td>5.0</td>\n",
       "      <td>48.0</td>\n",
       "      <td>59.0</td>\n",
       "      <td>4350000.0</td>\n",
       "      <td>85287718.0</td>\n",
       "    </tr>\n",
       "    <tr>\n",
       "      <th>4</th>\n",
       "      <td>204</td>\n",
       "      <td>3.0</td>\n",
       "      <td>6.0</td>\n",
       "      <td>86.0</td>\n",
       "      <td>92.0</td>\n",
       "      <td>8495000.0</td>\n",
       "      <td>85287718.0</td>\n",
       "    </tr>\n",
       "  </tbody>\n",
       "</table>\n",
       "</div>"
      ],
      "text/plain": [
       "  apt_id  num_bedrooms  floor  primary_size  total_size      price       ad_id\n",
       "0    120           2.0    1.0          48.0        59.0  4150000.0  85287718.0\n",
       "1    143           2.0    2.0          56.0        61.0  4350000.0  85287718.0\n",
       "2    183           2.0    5.0          51.0        59.0  4350000.0  85287718.0\n",
       "3    187           2.0    5.0          48.0        59.0  4350000.0  85287718.0\n",
       "4    204           3.0    6.0          86.0        92.0  8495000.0  85287718.0"
      ]
     },
     "execution_count": 235,
     "metadata": {},
     "output_type": "execute_result"
    }
   ],
   "source": [
    "sub_properties_parsed.head()"
   ]
  },
  {
   "cell_type": "code",
   "execution_count": 236,
   "metadata": {},
   "outputs": [],
   "source": [
    "sub_properties_parsed.drop_duplicates(inplace=True)"
   ]
  },
  {
   "cell_type": "code",
   "execution_count": 237,
   "metadata": {},
   "outputs": [
    {
     "name": "stdout",
     "output_type": "stream",
     "text": [
      "<class 'pandas.core.frame.DataFrame'>\n",
      "Int64Index: 1092 entries, 0 to 1542\n",
      "Data columns (total 7 columns):\n",
      "apt_id          1092 non-null object\n",
      "num_bedrooms    1090 non-null float64\n",
      "floor           914 non-null float64\n",
      "primary_size    913 non-null float64\n",
      "total_size      1091 non-null float64\n",
      "price           1084 non-null float64\n",
      "ad_id           1092 non-null float64\n",
      "dtypes: float64(6), object(1)\n",
      "memory usage: 68.2+ KB\n"
     ]
    }
   ],
   "source": [
    "sub_properties_parsed.info()"
   ]
  },
  {
   "cell_type": "code",
   "execution_count": 238,
   "metadata": {},
   "outputs": [],
   "source": [
    "sub_properties_parsed.to_gbq(destination_table='housing_data.expanded_sub_properties',\n",
    "                             project_id='hde-test-clean',\n",
    "                             if_exists='append')"
   ]
  }
 ],
 "metadata": {
  "kernelspec": {
   "display_name": "Python 3",
   "language": "python",
   "name": "python3"
  },
  "language_info": {
   "codemirror_mode": {
    "name": "ipython",
    "version": 3
   },
   "file_extension": ".py",
   "mimetype": "text/x-python",
   "name": "python",
   "nbconvert_exporter": "python",
   "pygments_lexer": "ipython3",
   "version": "3.7.3"
  }
 },
 "nbformat": 4,
 "nbformat_minor": 2
}
