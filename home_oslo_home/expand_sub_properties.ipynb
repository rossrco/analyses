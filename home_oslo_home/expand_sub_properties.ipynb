{
 "cells": [
  {
   "cell_type": "code",
   "execution_count": 1,
   "metadata": {},
   "outputs": [],
   "source": [
    "import re\n",
    "import os\n",
    "import yaml\n",
    "import json\n",
    "import pandas as pd\n",
    "from google.cloud import bigquery\n",
    "import google.api_core.exceptions as google_exceptions"
   ]
  },
  {
   "cell_type": "code",
   "execution_count": 2,
   "metadata": {},
   "outputs": [],
   "source": [
    "config  = yaml.safe_load(open('config.yaml', 'r'))"
   ]
  },
  {
   "cell_type": "code",
   "execution_count": 3,
   "metadata": {},
   "outputs": [],
   "source": [
    "query_dir = 'queries'"
   ]
  },
  {
   "cell_type": "code",
   "execution_count": 4,
   "metadata": {},
   "outputs": [],
   "source": [
    "queries = {}\n",
    "for query_file in (os.listdir(query_dir)):\n",
    "    with open(os.path.join(query_dir, query_file), 'r') as query:\n",
    "        queries[query_file] = query.read()"
   ]
  },
  {
   "cell_type": "code",
   "execution_count": 5,
   "metadata": {},
   "outputs": [],
   "source": [
    "query_client = bigquery.Client()"
   ]
  },
  {
   "cell_type": "code",
   "execution_count": 6,
   "metadata": {},
   "outputs": [],
   "source": [
    "def exists_table(table_reference, client):\n",
    "    try:\n",
    "        client.get_table(table_reference)\n",
    "        return True\n",
    "    except google_exceptions.NotFound:\n",
    "        return False"
   ]
  },
  {
   "cell_type": "code",
   "execution_count": 7,
   "metadata": {},
   "outputs": [],
   "source": [
    "if exists_table(f'{config[\"project_id\"]}.{config[\"dataset\"]}.expanded_sub_properties', query_client):\n",
    "    request = queries['all_new_buildings_that_have_not_been_expanded.sql']\n",
    "else:\n",
    "    request = queries['all_new_buildings.sql']"
   ]
  },
  {
   "cell_type": "code",
   "execution_count": 8,
   "metadata": {},
   "outputs": [],
   "source": [
    "real_estate_raw = query_client.query(request).to_dataframe()"
   ]
  },
  {
   "cell_type": "code",
   "execution_count": 9,
   "metadata": {},
   "outputs": [
    {
     "name": "stdout",
     "output_type": "stream",
     "text": [
      "<class 'pandas.core.frame.DataFrame'>\n",
      "RangeIndex: 132 entries, 0 to 131\n",
      "Data columns (total 5 columns):\n",
      "ad_id             132 non-null int64\n",
      "new_building      132 non-null bool\n",
      "property_table    132 non-null object\n",
      "property_attrs    132 non-null object\n",
      "address           132 non-null object\n",
      "dtypes: bool(1), int64(1), object(3)\n",
      "memory usage: 4.3+ KB\n"
     ]
    }
   ],
   "source": [
    "real_estate_raw.info()"
   ]
  },
  {
   "cell_type": "code",
   "execution_count": 10,
   "metadata": {},
   "outputs": [],
   "source": [
    "real_estate_raw.set_index(keys='ad_id', drop=True, inplace=True)"
   ]
  },
  {
   "cell_type": "code",
   "execution_count": 11,
   "metadata": {},
   "outputs": [
    {
     "data": {
      "text/html": [
       "<div>\n",
       "<style scoped>\n",
       "    .dataframe tbody tr th:only-of-type {\n",
       "        vertical-align: middle;\n",
       "    }\n",
       "\n",
       "    .dataframe tbody tr th {\n",
       "        vertical-align: top;\n",
       "    }\n",
       "\n",
       "    .dataframe thead th {\n",
       "        text-align: right;\n",
       "    }\n",
       "</style>\n",
       "<table border=\"1\" class=\"dataframe\">\n",
       "  <thead>\n",
       "    <tr style=\"text-align: right;\">\n",
       "      <th></th>\n",
       "      <th>new_building</th>\n",
       "      <th>property_table</th>\n",
       "      <th>property_attrs</th>\n",
       "      <th>address</th>\n",
       "    </tr>\n",
       "    <tr>\n",
       "      <th>ad_id</th>\n",
       "      <th></th>\n",
       "      <th></th>\n",
       "      <th></th>\n",
       "      <th></th>\n",
       "    </tr>\n",
       "  </thead>\n",
       "  <tbody>\n",
       "    <tr>\n",
       "      <th>78653360</th>\n",
       "      <td>True</td>\n",
       "      <td>{\"Bolig\": [\"A04-1\", \"A05-1\", \"B05-1\", \"C04-1\",...</td>\n",
       "      <td>{\"Omkostninger\": \"20\\u00a0406 \\u2013 22\\u00a01...</td>\n",
       "      <td>Strandvegen 1, 2005 Rælingen</td>\n",
       "    </tr>\n",
       "    <tr>\n",
       "      <th>78866228</th>\n",
       "      <td>True</td>\n",
       "      <td>{\"Bolig\": [\"C2201\", \"D1202\", \"D1301\", \"D2401\",...</td>\n",
       "      <td>{\"Fellesgjeld\": \"0 kr\", \"Areal\": \"70\\u00a0-\\u0...</td>\n",
       "      <td>FLÅTESTADVEIEN 3, 1415 Oppegård</td>\n",
       "    </tr>\n",
       "    <tr>\n",
       "      <th>78866228</th>\n",
       "      <td>True</td>\n",
       "      <td>{\"Bolig\": [\"C2201\", \"D1202\", \"D1301\", \"D2401\",...</td>\n",
       "      <td>{\"Fellesgjeld\": \"0 kr\", \"Areal\": \"70\\u00a0-\\u0...</td>\n",
       "      <td>FLÅTESTADVEIEN 3, 1415 Oppegård</td>\n",
       "    </tr>\n",
       "    <tr>\n",
       "      <th>82173385</th>\n",
       "      <td>True</td>\n",
       "      <td>{\"Bolig\": [\"2012\", \"2015\", \"2016\", \"2017\", \"30...</td>\n",
       "      <td>{\"Fellesgjeld\": \"3\\u00a0200\\u00a0000 \\u2013 4\\...</td>\n",
       "      <td>Røakollen - Aslakveien 20 - hus B, 0753 Oslo</td>\n",
       "    </tr>\n",
       "    <tr>\n",
       "      <th>84047772</th>\n",
       "      <td>True</td>\n",
       "      <td>{\"Bolig\": [\"1001\", \"3006\", \"4006\", \"4008\", \"50...</td>\n",
       "      <td>{\"Fellesgjeld\": \"3\\u00a0575\\u00a0000 \\u2013 4\\...</td>\n",
       "      <td>Røakollen - Aslakveien 20 - Hus A, 0753 Oslo</td>\n",
       "    </tr>\n",
       "  </tbody>\n",
       "</table>\n",
       "</div>"
      ],
      "text/plain": [
       "          new_building                                     property_table  \\\n",
       "ad_id                                                                       \n",
       "78653360          True  {\"Bolig\": [\"A04-1\", \"A05-1\", \"B05-1\", \"C04-1\",...   \n",
       "78866228          True  {\"Bolig\": [\"C2201\", \"D1202\", \"D1301\", \"D2401\",...   \n",
       "78866228          True  {\"Bolig\": [\"C2201\", \"D1202\", \"D1301\", \"D2401\",...   \n",
       "82173385          True  {\"Bolig\": [\"2012\", \"2015\", \"2016\", \"2017\", \"30...   \n",
       "84047772          True  {\"Bolig\": [\"1001\", \"3006\", \"4006\", \"4008\", \"50...   \n",
       "\n",
       "                                             property_attrs  \\\n",
       "ad_id                                                         \n",
       "78653360  {\"Omkostninger\": \"20\\u00a0406 \\u2013 22\\u00a01...   \n",
       "78866228  {\"Fellesgjeld\": \"0 kr\", \"Areal\": \"70\\u00a0-\\u0...   \n",
       "78866228  {\"Fellesgjeld\": \"0 kr\", \"Areal\": \"70\\u00a0-\\u0...   \n",
       "82173385  {\"Fellesgjeld\": \"3\\u00a0200\\u00a0000 \\u2013 4\\...   \n",
       "84047772  {\"Fellesgjeld\": \"3\\u00a0575\\u00a0000 \\u2013 4\\...   \n",
       "\n",
       "                                               address  \n",
       "ad_id                                                   \n",
       "78653360                  Strandvegen 1, 2005 Rælingen  \n",
       "78866228               FLÅTESTADVEIEN 3, 1415 Oppegård  \n",
       "78866228               FLÅTESTADVEIEN 3, 1415 Oppegård  \n",
       "82173385  Røakollen - Aslakveien 20 - hus B, 0753 Oslo  \n",
       "84047772  Røakollen - Aslakveien 20 - Hus A, 0753 Oslo  "
      ]
     },
     "execution_count": 11,
     "metadata": {},
     "output_type": "execute_result"
    }
   ],
   "source": [
    "real_estate_raw.head()"
   ]
  },
  {
   "cell_type": "code",
   "execution_count": 12,
   "metadata": {},
   "outputs": [],
   "source": [
    "for col in ['property_table', 'property_attrs']:\n",
    "    real_estate_raw[col] = [json.loads(cell) for cell in real_estate_raw[col]]"
   ]
  },
  {
   "cell_type": "code",
   "execution_count": 13,
   "metadata": {},
   "outputs": [],
   "source": [
    "def expanand_property_tables(new_buildings):\n",
    "    cols = new_buildings.iloc[0]['property_table'].keys()\n",
    "    col_map = {'Bolig': 'apt_id',\n",
    "               'Soverom': 'num_bedrooms',\n",
    "               'Etg': 'floor',\n",
    "               'P-rom': 'primary_size',\n",
    "               'BRA': 'total_size',\n",
    "               'Totalpris': 'price',\n",
    "               'Pris': 'price'}\n",
    "    property_tables = pd.DataFrame(columns=cols)\n",
    "    for code, row in new_buildings['property_table'].iteritems():\n",
    "        all_properties = [arr for arr in row.values()]\n",
    "        to_append = dict(zip(cols, all_properties))\n",
    "        frame = pd.DataFrame(to_append, columns=cols)\n",
    "        frame['ad_id'] = code\n",
    "        property_tables = property_tables.append(frame, ignore_index=True, sort=False)\n",
    "    property_tables.rename(columns=col_map, inplace=True)\n",
    "    return property_tables"
   ]
  },
  {
   "cell_type": "code",
   "execution_count": 14,
   "metadata": {},
   "outputs": [],
   "source": [
    "sub_properties = expanand_property_tables(real_estate_raw[(real_estate_raw.new_building == True) & (real_estate_raw.property_table)])"
   ]
  },
  {
   "cell_type": "code",
   "execution_count": 15,
   "metadata": {},
   "outputs": [
    {
     "data": {
      "text/html": [
       "<div>\n",
       "<style scoped>\n",
       "    .dataframe tbody tr th:only-of-type {\n",
       "        vertical-align: middle;\n",
       "    }\n",
       "\n",
       "    .dataframe tbody tr th {\n",
       "        vertical-align: top;\n",
       "    }\n",
       "\n",
       "    .dataframe thead th {\n",
       "        text-align: right;\n",
       "    }\n",
       "</style>\n",
       "<table border=\"1\" class=\"dataframe\">\n",
       "  <thead>\n",
       "    <tr style=\"text-align: right;\">\n",
       "      <th></th>\n",
       "      <th>apt_id</th>\n",
       "      <th>num_bedrooms</th>\n",
       "      <th>floor</th>\n",
       "      <th>primary_size</th>\n",
       "      <th>total_size</th>\n",
       "      <th>price</th>\n",
       "      <th>ad_id</th>\n",
       "    </tr>\n",
       "  </thead>\n",
       "  <tbody>\n",
       "    <tr>\n",
       "      <th>0</th>\n",
       "      <td>A04-1</td>\n",
       "      <td>3</td>\n",
       "      <td>4.</td>\n",
       "      <td>83 m²</td>\n",
       "      <td>88 m²</td>\n",
       "      <td>5 810 406 kr</td>\n",
       "      <td>78653360.0</td>\n",
       "    </tr>\n",
       "    <tr>\n",
       "      <th>1</th>\n",
       "      <td>A05-1</td>\n",
       "      <td>3</td>\n",
       "      <td>5.</td>\n",
       "      <td>83 m²</td>\n",
       "      <td>88 m²</td>\n",
       "      <td>5 910 406 kr</td>\n",
       "      <td>78653360.0</td>\n",
       "    </tr>\n",
       "    <tr>\n",
       "      <th>2</th>\n",
       "      <td>B05-1</td>\n",
       "      <td>3</td>\n",
       "      <td>5.</td>\n",
       "      <td>92 m²</td>\n",
       "      <td>96 m²</td>\n",
       "      <td>5 912 150 kr</td>\n",
       "      <td>78653360.0</td>\n",
       "    </tr>\n",
       "    <tr>\n",
       "      <th>3</th>\n",
       "      <td>C04-1</td>\n",
       "      <td>3</td>\n",
       "      <td>4.</td>\n",
       "      <td>91 m²</td>\n",
       "      <td>95 m²</td>\n",
       "      <td>5 811 932 kr</td>\n",
       "      <td>78653360.0</td>\n",
       "    </tr>\n",
       "    <tr>\n",
       "      <th>4</th>\n",
       "      <td>C05-1</td>\n",
       "      <td>3</td>\n",
       "      <td>5.</td>\n",
       "      <td>91 m²</td>\n",
       "      <td>95 m²</td>\n",
       "      <td>5 911 932 kr</td>\n",
       "      <td>78653360.0</td>\n",
       "    </tr>\n",
       "  </tbody>\n",
       "</table>\n",
       "</div>"
      ],
      "text/plain": [
       "  apt_id num_bedrooms floor primary_size total_size         price       ad_id\n",
       "0  A04-1            3    4.        83 m²      88 m²  5 810 406 kr  78653360.0\n",
       "1  A05-1            3    5.        83 m²      88 m²  5 910 406 kr  78653360.0\n",
       "2  B05-1            3    5.        92 m²      96 m²  5 912 150 kr  78653360.0\n",
       "3  C04-1            3    4.        91 m²      95 m²  5 811 932 kr  78653360.0\n",
       "4  C05-1            3    5.        91 m²      95 m²  5 911 932 kr  78653360.0"
      ]
     },
     "execution_count": 15,
     "metadata": {},
     "output_type": "execute_result"
    }
   ],
   "source": [
    "sub_properties.head()"
   ]
  },
  {
   "cell_type": "code",
   "execution_count": 16,
   "metadata": {},
   "outputs": [],
   "source": [
    "def get_int_from_str(string):\n",
    "    try:\n",
    "        concat_string = ''.join(re.findall(r'[\\d.]', string))\n",
    "        if concat_string != '':\n",
    "            return float(concat_string)\n",
    "    except Exception as e:\n",
    "        print(e, string)\n",
    "        pass"
   ]
  },
  {
   "cell_type": "code",
   "execution_count": 17,
   "metadata": {},
   "outputs": [
    {
     "name": "stdout",
     "output_type": "stream",
     "text": [
      "expected string or bytes-like object None\n",
      "expected string or bytes-like object None\n",
      "expected string or bytes-like object None\n",
      "expected string or bytes-like object None\n",
      "expected string or bytes-like object None\n",
      "expected string or bytes-like object None\n",
      "expected string or bytes-like object None\n",
      "expected string or bytes-like object None\n",
      "expected string or bytes-like object None\n",
      "expected string or bytes-like object None\n",
      "expected string or bytes-like object None\n",
      "expected string or bytes-like object None\n",
      "expected string or bytes-like object None\n",
      "expected string or bytes-like object None\n",
      "expected string or bytes-like object None\n",
      "expected string or bytes-like object None\n",
      "expected string or bytes-like object None\n",
      "expected string or bytes-like object None\n",
      "expected string or bytes-like object None\n",
      "expected string or bytes-like object None\n",
      "expected string or bytes-like object None\n",
      "expected string or bytes-like object None\n",
      "expected string or bytes-like object None\n",
      "expected string or bytes-like object None\n",
      "expected string or bytes-like object None\n",
      "expected string or bytes-like object None\n",
      "expected string or bytes-like object None\n",
      "expected string or bytes-like object None\n",
      "expected string or bytes-like object None\n",
      "expected string or bytes-like object None\n",
      "expected string or bytes-like object None\n",
      "expected string or bytes-like object None\n",
      "expected string or bytes-like object None\n",
      "expected string or bytes-like object None\n",
      "expected string or bytes-like object None\n",
      "expected string or bytes-like object None\n",
      "expected string or bytes-like object None\n",
      "expected string or bytes-like object None\n",
      "expected string or bytes-like object None\n",
      "expected string or bytes-like object None\n",
      "expected string or bytes-like object None\n",
      "expected string or bytes-like object None\n",
      "expected string or bytes-like object None\n",
      "expected string or bytes-like object None\n"
     ]
    }
   ],
   "source": [
    "sub_properties_parsed = sub_properties.copy()\n",
    "for col in ['primary_size', 'floor', 'price', 'num_bedrooms', 'total_size']:\n",
    "    sub_properties_parsed[col] = [get_int_from_str(s) for s in sub_properties_parsed[col]]"
   ]
  },
  {
   "cell_type": "code",
   "execution_count": 18,
   "metadata": {},
   "outputs": [
    {
     "name": "stdout",
     "output_type": "stream",
     "text": [
      "<class 'pandas.core.frame.DataFrame'>\n",
      "RangeIndex: 1238 entries, 0 to 1237\n",
      "Data columns (total 7 columns):\n",
      "apt_id          1238 non-null object\n",
      "num_bedrooms    1167 non-null float64\n",
      "floor           1028 non-null float64\n",
      "primary_size    1130 non-null float64\n",
      "total_size      1194 non-null float64\n",
      "price           1194 non-null float64\n",
      "ad_id           1238 non-null float64\n",
      "dtypes: float64(6), object(1)\n",
      "memory usage: 67.8+ KB\n"
     ]
    }
   ],
   "source": [
    "sub_properties_parsed.info()"
   ]
  },
  {
   "cell_type": "code",
   "execution_count": 19,
   "metadata": {},
   "outputs": [
    {
     "data": {
      "text/html": [
       "<div>\n",
       "<style scoped>\n",
       "    .dataframe tbody tr th:only-of-type {\n",
       "        vertical-align: middle;\n",
       "    }\n",
       "\n",
       "    .dataframe tbody tr th {\n",
       "        vertical-align: top;\n",
       "    }\n",
       "\n",
       "    .dataframe thead th {\n",
       "        text-align: right;\n",
       "    }\n",
       "</style>\n",
       "<table border=\"1\" class=\"dataframe\">\n",
       "  <thead>\n",
       "    <tr style=\"text-align: right;\">\n",
       "      <th></th>\n",
       "      <th>apt_id</th>\n",
       "      <th>num_bedrooms</th>\n",
       "      <th>floor</th>\n",
       "      <th>primary_size</th>\n",
       "      <th>total_size</th>\n",
       "      <th>price</th>\n",
       "      <th>ad_id</th>\n",
       "    </tr>\n",
       "  </thead>\n",
       "  <tbody>\n",
       "    <tr>\n",
       "      <th>0</th>\n",
       "      <td>A04-1</td>\n",
       "      <td>3.0</td>\n",
       "      <td>4.0</td>\n",
       "      <td>83.0</td>\n",
       "      <td>88.0</td>\n",
       "      <td>5810406.0</td>\n",
       "      <td>78653360.0</td>\n",
       "    </tr>\n",
       "    <tr>\n",
       "      <th>1</th>\n",
       "      <td>A05-1</td>\n",
       "      <td>3.0</td>\n",
       "      <td>5.0</td>\n",
       "      <td>83.0</td>\n",
       "      <td>88.0</td>\n",
       "      <td>5910406.0</td>\n",
       "      <td>78653360.0</td>\n",
       "    </tr>\n",
       "    <tr>\n",
       "      <th>2</th>\n",
       "      <td>B05-1</td>\n",
       "      <td>3.0</td>\n",
       "      <td>5.0</td>\n",
       "      <td>92.0</td>\n",
       "      <td>96.0</td>\n",
       "      <td>5912150.0</td>\n",
       "      <td>78653360.0</td>\n",
       "    </tr>\n",
       "    <tr>\n",
       "      <th>3</th>\n",
       "      <td>C04-1</td>\n",
       "      <td>3.0</td>\n",
       "      <td>4.0</td>\n",
       "      <td>91.0</td>\n",
       "      <td>95.0</td>\n",
       "      <td>5811932.0</td>\n",
       "      <td>78653360.0</td>\n",
       "    </tr>\n",
       "    <tr>\n",
       "      <th>4</th>\n",
       "      <td>C05-1</td>\n",
       "      <td>3.0</td>\n",
       "      <td>5.0</td>\n",
       "      <td>91.0</td>\n",
       "      <td>95.0</td>\n",
       "      <td>5911932.0</td>\n",
       "      <td>78653360.0</td>\n",
       "    </tr>\n",
       "  </tbody>\n",
       "</table>\n",
       "</div>"
      ],
      "text/plain": [
       "  apt_id  num_bedrooms  floor  primary_size  total_size      price       ad_id\n",
       "0  A04-1           3.0    4.0          83.0        88.0  5810406.0  78653360.0\n",
       "1  A05-1           3.0    5.0          83.0        88.0  5910406.0  78653360.0\n",
       "2  B05-1           3.0    5.0          92.0        96.0  5912150.0  78653360.0\n",
       "3  C04-1           3.0    4.0          91.0        95.0  5811932.0  78653360.0\n",
       "4  C05-1           3.0    5.0          91.0        95.0  5911932.0  78653360.0"
      ]
     },
     "execution_count": 19,
     "metadata": {},
     "output_type": "execute_result"
    }
   ],
   "source": [
    "sub_properties_parsed.head()"
   ]
  },
  {
   "cell_type": "code",
   "execution_count": 20,
   "metadata": {},
   "outputs": [],
   "source": [
    "sub_properties_parsed.drop_duplicates(inplace=True)"
   ]
  },
  {
   "cell_type": "code",
   "execution_count": 21,
   "metadata": {},
   "outputs": [
    {
     "name": "stdout",
     "output_type": "stream",
     "text": [
      "<class 'pandas.core.frame.DataFrame'>\n",
      "Int64Index: 1138 entries, 0 to 1237\n",
      "Data columns (total 7 columns):\n",
      "apt_id          1138 non-null object\n",
      "num_bedrooms    1068 non-null float64\n",
      "floor           950 non-null float64\n",
      "primary_size    1031 non-null float64\n",
      "total_size      1094 non-null float64\n",
      "price           1094 non-null float64\n",
      "ad_id           1138 non-null float64\n",
      "dtypes: float64(6), object(1)\n",
      "memory usage: 71.1+ KB\n"
     ]
    }
   ],
   "source": [
    "sub_properties_parsed.info()"
   ]
  },
  {
   "cell_type": "code",
   "execution_count": 22,
   "metadata": {},
   "outputs": [],
   "source": [
    "sub_properties_parsed.to_gbq(destination_table='housing_data.expanded_sub_properties',\n",
    "                             project_id='hde-test-clean',\n",
    "                             if_exists='append')"
   ]
  }
 ],
 "metadata": {
  "kernelspec": {
   "display_name": "Python 3",
   "language": "python",
   "name": "python3"
  },
  "language_info": {
   "codemirror_mode": {
    "name": "ipython",
    "version": 3
   },
   "file_extension": ".py",
   "mimetype": "text/x-python",
   "name": "python",
   "nbconvert_exporter": "python",
   "pygments_lexer": "ipython3",
   "version": "3.7.3"
  }
 },
 "nbformat": 4,
 "nbformat_minor": 2
}
