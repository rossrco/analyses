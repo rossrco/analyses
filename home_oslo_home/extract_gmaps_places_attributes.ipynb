{
 "cells": [
  {
   "cell_type": "code",
   "execution_count": 6,
   "metadata": {},
   "outputs": [],
   "source": [
    "import pandas as pd\n",
    "import json\n",
    "from google.cloud import bigquery\n",
    "import utils as u"
   ]
  },
  {
   "cell_type": "code",
   "execution_count": 2,
   "metadata": {},
   "outputs": [],
   "source": [
    "queries = u.get_queries('queries')"
   ]
  },
  {
   "cell_type": "code",
   "execution_count": 3,
   "metadata": {},
   "outputs": [],
   "source": [
    "bq_client = bigquery.Client()"
   ]
  },
  {
   "cell_type": "code",
   "execution_count": 4,
   "metadata": {},
   "outputs": [],
   "source": [
    "data = u.get_data(queries, 'all_gmaps_responses.sql', bq_client)"
   ]
  },
  {
   "cell_type": "code",
   "execution_count": 8,
   "metadata": {},
   "outputs": [],
   "source": [
    "data['response'] = data['response'].apply(json.loads)"
   ]
  },
  {
   "cell_type": "code",
   "execution_count": 9,
   "metadata": {},
   "outputs": [
    {
     "data": {
      "text/html": [
       "<div>\n",
       "<style scoped>\n",
       "    .dataframe tbody tr th:only-of-type {\n",
       "        vertical-align: middle;\n",
       "    }\n",
       "\n",
       "    .dataframe tbody tr th {\n",
       "        vertical-align: top;\n",
       "    }\n",
       "\n",
       "    .dataframe thead th {\n",
       "        text-align: right;\n",
       "    }\n",
       "</style>\n",
       "<table border=\"1\" class=\"dataframe\">\n",
       "  <thead>\n",
       "    <tr style=\"text-align: right;\">\n",
       "      <th></th>\n",
       "      <th>post_code</th>\n",
       "      <th>lat</th>\n",
       "      <th>lng</th>\n",
       "      <th>radius</th>\n",
       "      <th>response</th>\n",
       "    </tr>\n",
       "  </thead>\n",
       "  <tbody>\n",
       "    <tr>\n",
       "      <th>0</th>\n",
       "      <td>2018</td>\n",
       "      <td>59.9375</td>\n",
       "      <td>11.0216</td>\n",
       "      <td>500</td>\n",
       "      <td>{'html_attributions': [], 'next_page_token': '...</td>\n",
       "    </tr>\n",
       "    <tr>\n",
       "      <th>1</th>\n",
       "      <td>1101</td>\n",
       "      <td>59.8732</td>\n",
       "      <td>10.8107</td>\n",
       "      <td>500</td>\n",
       "      <td>{'html_attributions': [], 'next_page_token': '...</td>\n",
       "    </tr>\n",
       "    <tr>\n",
       "      <th>2</th>\n",
       "      <td>0514</td>\n",
       "      <td>59.9393</td>\n",
       "      <td>10.7960</td>\n",
       "      <td>500</td>\n",
       "      <td>{'html_attributions': [], 'next_page_token': '...</td>\n",
       "    </tr>\n",
       "    <tr>\n",
       "      <th>3</th>\n",
       "      <td>0369</td>\n",
       "      <td>59.9321</td>\n",
       "      <td>10.7068</td>\n",
       "      <td>500</td>\n",
       "      <td>{'html_attributions': [], 'next_page_token': '...</td>\n",
       "    </tr>\n",
       "    <tr>\n",
       "      <th>4</th>\n",
       "      <td>0380</td>\n",
       "      <td>59.9321</td>\n",
       "      <td>10.6552</td>\n",
       "      <td>500</td>\n",
       "      <td>{'html_attributions': [], 'next_page_token': '...</td>\n",
       "    </tr>\n",
       "  </tbody>\n",
       "</table>\n",
       "</div>"
      ],
      "text/plain": [
       "  post_code      lat      lng  radius  \\\n",
       "0      2018  59.9375  11.0216     500   \n",
       "1      1101  59.8732  10.8107     500   \n",
       "2      0514  59.9393  10.7960     500   \n",
       "3      0369  59.9321  10.7068     500   \n",
       "4      0380  59.9321  10.6552     500   \n",
       "\n",
       "                                            response  \n",
       "0  {'html_attributions': [], 'next_page_token': '...  \n",
       "1  {'html_attributions': [], 'next_page_token': '...  \n",
       "2  {'html_attributions': [], 'next_page_token': '...  \n",
       "3  {'html_attributions': [], 'next_page_token': '...  \n",
       "4  {'html_attributions': [], 'next_page_token': '...  "
      ]
     },
     "execution_count": 9,
     "metadata": {},
     "output_type": "execute_result"
    }
   ],
   "source": [
    "data.head()"
   ]
  },
  {
   "cell_type": "code",
   "execution_count": 14,
   "metadata": {},
   "outputs": [
    {
     "data": {
      "text/plain": [
       "{'geometry': {'location': {'lat': 59.93799919999999, 'lng': 11.021436},\n",
       "  'viewport': {'northeast': {'lat': 59.93938763029151,\n",
       "    'lng': 11.0228280302915},\n",
       "   'southwest': {'lat': 59.93668966970849, 'lng': 11.02013006970849}}},\n",
       " 'icon': 'https://maps.gstatic.com/mapfiles/place_api/icons/generic_business-71.png',\n",
       " 'id': '66be426ab3fc9493647e77a4ffe1c2bd05be68ae',\n",
       " 'name': 'Løvenstad frisør Nina Kjær',\n",
       " 'place_id': 'ChIJ8UOD5lJ7QUYRUdZcUVn5QP8',\n",
       " 'plus_code': {'compound_code': 'W2QC+5H Løvenstad, Norway',\n",
       "  'global_code': '9FFHW2QC+5H'},\n",
       " 'rating': 4.5,\n",
       " 'reference': 'ChIJ8UOD5lJ7QUYRUdZcUVn5QP8',\n",
       " 'scope': 'GOOGLE',\n",
       " 'types': ['hair_care', 'point_of_interest', 'establishment'],\n",
       " 'user_ratings_total': 2,\n",
       " 'vicinity': 'Løvenstadtorget 18, Løvenstad'}"
      ]
     },
     "execution_count": 14,
     "metadata": {},
     "output_type": "execute_result"
    }
   ],
   "source": [
    "data.loc[0, 'response']['results'][0]"
   ]
  },
  {
   "cell_type": "code",
   "execution_count": 15,
   "metadata": {},
   "outputs": [],
   "source": [
    "def get_lat(place):\n",
    "    return place.get('geometry').get('location').get('lat')\n",
    "\n",
    "def get_lng(place):\n",
    "    return place.get('geometry').get('location').get('lng')\n",
    "\n",
    "def get_id(place):\n",
    "    return place.get('id')"
   ]
  },
  {
   "cell_type": "code",
   "execution_count": 28,
   "metadata": {},
   "outputs": [],
   "source": [
    "result = []\n",
    "columns = ['post_code', 'radius', 'place_name', 'place_type', 'place_attribute', 'attribute_value']\n",
    "\n",
    "for radius in data.radius.unique():\n",
    "    for post_code, response in zip(data.post_code, data.response):\n",
    "        for place in response['results']:\n",
    "            place_name = place['name']\n",
    "            for place_type in place['types']:\n",
    "                for attr_f, attr_n in zip([get_lat, get_lng], ['lat', 'lng']):\n",
    "                    try:\n",
    "                        value = attr_f(place)\n",
    "                    except AttributeError:\n",
    "                        value = None\n",
    "                    result.append([post_code, radius, place_name, place_type, attr_n, value])"
   ]
  },
  {
   "cell_type": "code",
   "execution_count": 29,
   "metadata": {},
   "outputs": [],
   "source": [
    "post_code_places = pd.DataFrame(result, columns=columns)"
   ]
  },
  {
   "cell_type": "code",
   "execution_count": 30,
   "metadata": {},
   "outputs": [
    {
     "data": {
      "text/html": [
       "<div>\n",
       "<style scoped>\n",
       "    .dataframe tbody tr th:only-of-type {\n",
       "        vertical-align: middle;\n",
       "    }\n",
       "\n",
       "    .dataframe tbody tr th {\n",
       "        vertical-align: top;\n",
       "    }\n",
       "\n",
       "    .dataframe thead th {\n",
       "        text-align: right;\n",
       "    }\n",
       "</style>\n",
       "<table border=\"1\" class=\"dataframe\">\n",
       "  <thead>\n",
       "    <tr style=\"text-align: right;\">\n",
       "      <th></th>\n",
       "      <th>post_code</th>\n",
       "      <th>radius</th>\n",
       "      <th>place_name</th>\n",
       "      <th>place_type</th>\n",
       "      <th>place_attribute</th>\n",
       "      <th>attribute_value</th>\n",
       "    </tr>\n",
       "  </thead>\n",
       "  <tbody>\n",
       "    <tr>\n",
       "      <th>0</th>\n",
       "      <td>2018</td>\n",
       "      <td>500</td>\n",
       "      <td>Løvenstad frisør Nina Kjær</td>\n",
       "      <td>hair_care</td>\n",
       "      <td>lat</td>\n",
       "      <td>59.937999</td>\n",
       "    </tr>\n",
       "    <tr>\n",
       "      <th>1</th>\n",
       "      <td>2018</td>\n",
       "      <td>500</td>\n",
       "      <td>Løvenstad frisør Nina Kjær</td>\n",
       "      <td>hair_care</td>\n",
       "      <td>lng</td>\n",
       "      <td>11.021436</td>\n",
       "    </tr>\n",
       "    <tr>\n",
       "      <th>2</th>\n",
       "      <td>2018</td>\n",
       "      <td>500</td>\n",
       "      <td>Løvenstad frisør Nina Kjær</td>\n",
       "      <td>point_of_interest</td>\n",
       "      <td>lat</td>\n",
       "      <td>59.937999</td>\n",
       "    </tr>\n",
       "    <tr>\n",
       "      <th>3</th>\n",
       "      <td>2018</td>\n",
       "      <td>500</td>\n",
       "      <td>Løvenstad frisør Nina Kjær</td>\n",
       "      <td>point_of_interest</td>\n",
       "      <td>lng</td>\n",
       "      <td>11.021436</td>\n",
       "    </tr>\n",
       "    <tr>\n",
       "      <th>4</th>\n",
       "      <td>2018</td>\n",
       "      <td>500</td>\n",
       "      <td>Løvenstad frisør Nina Kjær</td>\n",
       "      <td>establishment</td>\n",
       "      <td>lat</td>\n",
       "      <td>59.937999</td>\n",
       "    </tr>\n",
       "  </tbody>\n",
       "</table>\n",
       "</div>"
      ],
      "text/plain": [
       "  post_code  radius                  place_name         place_type  \\\n",
       "0      2018     500  Løvenstad frisør Nina Kjær          hair_care   \n",
       "1      2018     500  Løvenstad frisør Nina Kjær          hair_care   \n",
       "2      2018     500  Løvenstad frisør Nina Kjær  point_of_interest   \n",
       "3      2018     500  Løvenstad frisør Nina Kjær  point_of_interest   \n",
       "4      2018     500  Løvenstad frisør Nina Kjær      establishment   \n",
       "\n",
       "  place_attribute  attribute_value  \n",
       "0             lat        59.937999  \n",
       "1             lng        11.021436  \n",
       "2             lat        59.937999  \n",
       "3             lng        11.021436  \n",
       "4             lat        59.937999  "
      ]
     },
     "execution_count": 30,
     "metadata": {},
     "output_type": "execute_result"
    }
   ],
   "source": [
    "post_code_places.head()"
   ]
  },
  {
   "cell_type": "code",
   "execution_count": 31,
   "metadata": {},
   "outputs": [],
   "source": [
    "post_code_places.to_gbq(destination_table='neighborhood_data.post_code_places',\n",
    "                        project_id='hde-test-clean',\n",
    "                        if_exists='append')"
   ]
  },
  {
   "cell_type": "code",
   "execution_count": null,
   "metadata": {},
   "outputs": [],
   "source": []
  }
 ],
 "metadata": {
  "kernelspec": {
   "display_name": "Python 3",
   "language": "python",
   "name": "python3"
  },
  "language_info": {
   "codemirror_mode": {
    "name": "ipython",
    "version": 3
   },
   "file_extension": ".py",
   "mimetype": "text/x-python",
   "name": "python",
   "nbconvert_exporter": "python",
   "pygments_lexer": "ipython3",
   "version": "3.7.3"
  }
 },
 "nbformat": 4,
 "nbformat_minor": 2
}
