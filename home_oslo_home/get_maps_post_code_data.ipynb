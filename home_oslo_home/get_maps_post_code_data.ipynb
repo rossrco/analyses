{
 "cells": [
  {
   "cell_type": "code",
   "execution_count": 215,
   "metadata": {},
   "outputs": [],
   "source": [
    "import os\n",
    "import re\n",
    "from pprint import pprint\n",
    "import yaml\n",
    "import requests\n",
    "import json\n",
    "import pandas as pd\n",
    "from google.cloud import bigquery"
   ]
  },
  {
   "cell_type": "code",
   "execution_count": 214,
   "metadata": {},
   "outputs": [],
   "source": [
    "#set the visual style\n",
    "pd.set_option('display.max_colwidth', 100)\n",
    "pd.set_option('display.max_columns', 100)\n",
    "pd.set_option('display.max_rows', 50)"
   ]
  },
  {
   "cell_type": "code",
   "execution_count": 206,
   "metadata": {},
   "outputs": [],
   "source": [
    "config = yaml.safe_load(open('config.yaml', 'r'))"
   ]
  },
  {
   "cell_type": "code",
   "execution_count": 207,
   "metadata": {},
   "outputs": [],
   "source": [
    "maps_key = config['google_maps_api_key']"
   ]
  },
  {
   "cell_type": "code",
   "execution_count": 210,
   "metadata": {},
   "outputs": [],
   "source": [
    "query_client = bigquery.Client()"
   ]
  },
  {
   "cell_type": "code",
   "execution_count": 3,
   "metadata": {},
   "outputs": [],
   "source": [
    "post_codes_osl = pd.read_csv('post_codes.csv', dtype={'post_code':str}).set_index('post_code', drop=True)"
   ]
  },
  {
   "cell_type": "code",
   "execution_count": 146,
   "metadata": {},
   "outputs": [
    {
     "data": {
      "text/html": [
       "<div>\n",
       "<style scoped>\n",
       "    .dataframe tbody tr th:only-of-type {\n",
       "        vertical-align: middle;\n",
       "    }\n",
       "\n",
       "    .dataframe tbody tr th {\n",
       "        vertical-align: top;\n",
       "    }\n",
       "\n",
       "    .dataframe thead th {\n",
       "        text-align: right;\n",
       "    }\n",
       "</style>\n",
       "<table border=\"1\" class=\"dataframe\">\n",
       "  <thead>\n",
       "    <tr style=\"text-align: right;\">\n",
       "      <th></th>\n",
       "      <th>lat</th>\n",
       "      <th>lng</th>\n",
       "      <th>municipality</th>\n",
       "      <th>neighborhood_name</th>\n",
       "      <th>population</th>\n",
       "    </tr>\n",
       "    <tr>\n",
       "      <th>post_code</th>\n",
       "      <th></th>\n",
       "      <th></th>\n",
       "      <th></th>\n",
       "      <th></th>\n",
       "      <th></th>\n",
       "    </tr>\n",
       "  </thead>\n",
       "  <tbody>\n",
       "    <tr>\n",
       "      <th>0001</th>\n",
       "      <td>59.9116</td>\n",
       "      <td>10.7545</td>\n",
       "      <td>oslo</td>\n",
       "      <td>sentrum</td>\n",
       "      <td>NaN</td>\n",
       "    </tr>\n",
       "    <tr>\n",
       "      <th>0009</th>\n",
       "      <td>59.9100</td>\n",
       "      <td>10.7500</td>\n",
       "      <td>oslo</td>\n",
       "      <td>NaN</td>\n",
       "      <td>NaN</td>\n",
       "    </tr>\n",
       "    <tr>\n",
       "      <th>0010</th>\n",
       "      <td>59.9171</td>\n",
       "      <td>10.7274</td>\n",
       "      <td>oslo</td>\n",
       "      <td>sentrum</td>\n",
       "      <td>NaN</td>\n",
       "    </tr>\n",
       "    <tr>\n",
       "      <th>0014</th>\n",
       "      <td>59.9116</td>\n",
       "      <td>10.7545</td>\n",
       "      <td>oslo</td>\n",
       "      <td>NaN</td>\n",
       "      <td>NaN</td>\n",
       "    </tr>\n",
       "    <tr>\n",
       "      <th>0015</th>\n",
       "      <td>59.9061</td>\n",
       "      <td>10.7392</td>\n",
       "      <td>oslo</td>\n",
       "      <td>sentrum</td>\n",
       "      <td>NaN</td>\n",
       "    </tr>\n",
       "  </tbody>\n",
       "</table>\n",
       "</div>"
      ],
      "text/plain": [
       "               lat      lng municipality neighborhood_name  population\n",
       "post_code                                                             \n",
       "0001       59.9116  10.7545         oslo           sentrum         NaN\n",
       "0009       59.9100  10.7500         oslo               NaN         NaN\n",
       "0010       59.9171  10.7274         oslo           sentrum         NaN\n",
       "0014       59.9116  10.7545         oslo               NaN         NaN\n",
       "0015       59.9061  10.7392         oslo           sentrum         NaN"
      ]
     },
     "execution_count": 146,
     "metadata": {},
     "output_type": "execute_result"
    }
   ],
   "source": [
    "post_codes_osl.head()"
   ]
  },
  {
   "cell_type": "code",
   "execution_count": 197,
   "metadata": {},
   "outputs": [],
   "source": [
    "def get_maps_places_response(coords, radius, key):\n",
    "    google_maps_url = 'https://maps.googleapis.com/maps/api/place/nearbysearch/json'\n",
    "    params = {'location': coords, 'radius': radius, 'key': key}\n",
    "    response = requests.get(google_maps_url, params=params)\n",
    "    return response"
   ]
  },
  {
   "cell_type": "code",
   "execution_count": 201,
   "metadata": {},
   "outputs": [],
   "source": [
    "columns = ['post_code', 'lat', 'lng', 'radius', 'response']"
   ]
  },
  {
   "cell_type": "code",
   "execution_count": 199,
   "metadata": {},
   "outputs": [],
   "source": [
    "data = []\n",
    "for radius in [500]:\n",
    "    for post_code, lat, lng in zip(post_codes_osl.index, post_codes_osl.lat, post_codes_osl.lng):\n",
    "        coords = str(lat) + ',' + str(lng)\n",
    "        response = get_maps_places_response(coords, radius, maps_key)\n",
    "        response_str = json.dumps(response.json())\n",
    "        data.append([post_code, lat, lng, radius, response_str])"
   ]
  },
  {
   "cell_type": "code",
   "execution_count": 203,
   "metadata": {},
   "outputs": [],
   "source": [
    "post_code_data = pd.DataFrame(data, columns=columns)"
   ]
  },
  {
   "cell_type": "code",
   "execution_count": 209,
   "metadata": {},
   "outputs": [
    {
     "data": {
      "text/html": [
       "<div>\n",
       "<style scoped>\n",
       "    .dataframe tbody tr th:only-of-type {\n",
       "        vertical-align: middle;\n",
       "    }\n",
       "\n",
       "    .dataframe tbody tr th {\n",
       "        vertical-align: top;\n",
       "    }\n",
       "\n",
       "    .dataframe thead th {\n",
       "        text-align: right;\n",
       "    }\n",
       "</style>\n",
       "<table border=\"1\" class=\"dataframe\">\n",
       "  <thead>\n",
       "    <tr style=\"text-align: right;\">\n",
       "      <th></th>\n",
       "      <th>post_code</th>\n",
       "      <th>lat</th>\n",
       "      <th>lng</th>\n",
       "      <th>radius</th>\n",
       "      <th>response</th>\n",
       "    </tr>\n",
       "  </thead>\n",
       "  <tbody>\n",
       "    <tr>\n",
       "      <th>0</th>\n",
       "      <td>0001</td>\n",
       "      <td>59.9116</td>\n",
       "      <td>10.7545</td>\n",
       "      <td>500</td>\n",
       "      <td>{\"html_attributions\": [], \"next_page_token\": \"CqQCFQEAAIQlU6HTjwLweE46xaTVsK4OZOUKFrrTNicG8MPkqB...</td>\n",
       "    </tr>\n",
       "    <tr>\n",
       "      <th>1</th>\n",
       "      <td>0009</td>\n",
       "      <td>59.9100</td>\n",
       "      <td>10.7500</td>\n",
       "      <td>500</td>\n",
       "      <td>{\"html_attributions\": [], \"next_page_token\": \"CqQCFQEAAOkvhtZYQNSjIx6VewpBh21Ip0AV2-btTlMG2uMsDv...</td>\n",
       "    </tr>\n",
       "    <tr>\n",
       "      <th>2</th>\n",
       "      <td>0010</td>\n",
       "      <td>59.9171</td>\n",
       "      <td>10.7274</td>\n",
       "      <td>500</td>\n",
       "      <td>{\"html_attributions\": [], \"next_page_token\": \"CqQCFQEAANN-yAM8BzkuOMyuzoimwn6-gHGdcAbFopgSadBVi0...</td>\n",
       "    </tr>\n",
       "    <tr>\n",
       "      <th>3</th>\n",
       "      <td>0014</td>\n",
       "      <td>59.9116</td>\n",
       "      <td>10.7545</td>\n",
       "      <td>500</td>\n",
       "      <td>{\"html_attributions\": [], \"next_page_token\": \"CqQCFQEAAAClaAAndRbf8GbvkM-WZ0a9p0o4oe27wy-rnd-qfA...</td>\n",
       "    </tr>\n",
       "    <tr>\n",
       "      <th>4</th>\n",
       "      <td>0015</td>\n",
       "      <td>59.9061</td>\n",
       "      <td>10.7392</td>\n",
       "      <td>500</td>\n",
       "      <td>{\"html_attributions\": [], \"next_page_token\": \"CqQCFQEAAGxYKzHWr9NxMG89movvZz6ytLvpotdeepsvowywNA...</td>\n",
       "    </tr>\n",
       "  </tbody>\n",
       "</table>\n",
       "</div>"
      ],
      "text/plain": [
       "  post_code      lat      lng  radius  \\\n",
       "0      0001  59.9116  10.7545     500   \n",
       "1      0009  59.9100  10.7500     500   \n",
       "2      0010  59.9171  10.7274     500   \n",
       "3      0014  59.9116  10.7545     500   \n",
       "4      0015  59.9061  10.7392     500   \n",
       "\n",
       "                                                                                              response  \n",
       "0  {\"html_attributions\": [], \"next_page_token\": \"CqQCFQEAAIQlU6HTjwLweE46xaTVsK4OZOUKFrrTNicG8MPkqB...  \n",
       "1  {\"html_attributions\": [], \"next_page_token\": \"CqQCFQEAAOkvhtZYQNSjIx6VewpBh21Ip0AV2-btTlMG2uMsDv...  \n",
       "2  {\"html_attributions\": [], \"next_page_token\": \"CqQCFQEAANN-yAM8BzkuOMyuzoimwn6-gHGdcAbFopgSadBVi0...  \n",
       "3  {\"html_attributions\": [], \"next_page_token\": \"CqQCFQEAAAClaAAndRbf8GbvkM-WZ0a9p0o4oe27wy-rnd-qfA...  \n",
       "4  {\"html_attributions\": [], \"next_page_token\": \"CqQCFQEAAGxYKzHWr9NxMG89movvZz6ytLvpotdeepsvowywNA...  "
      ]
     },
     "execution_count": 209,
     "metadata": {},
     "output_type": "execute_result"
    }
   ],
   "source": [
    "post_code_data.head()"
   ]
  },
  {
   "cell_type": "code",
   "execution_count": 220,
   "metadata": {},
   "outputs": [],
   "source": [
    "post_code_data.to_gbq(destination_table='housing_data.google_maps_post_code_responses',\n",
    "                      project_id='hde-test-clean',\n",
    "                      if_exists='append')"
   ]
  },
  {
   "cell_type": "code",
   "execution_count": null,
   "metadata": {},
   "outputs": [],
   "source": []
  }
 ],
 "metadata": {
  "kernelspec": {
   "display_name": "Python 3",
   "language": "python",
   "name": "python3"
  },
  "language_info": {
   "codemirror_mode": {
    "name": "ipython",
    "version": 3
   },
   "file_extension": ".py",
   "mimetype": "text/x-python",
   "name": "python",
   "nbconvert_exporter": "python",
   "pygments_lexer": "ipython3",
   "version": "3.7.3"
  }
 },
 "nbformat": 4,
 "nbformat_minor": 2
}
