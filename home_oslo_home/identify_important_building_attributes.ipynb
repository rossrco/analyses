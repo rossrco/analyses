{
 "cells": [
  {
   "cell_type": "code",
   "execution_count": 24,
   "metadata": {},
   "outputs": [],
   "source": [
    "import re\n",
    "import json\n",
    "import pandas as pd\n",
    "from google.cloud import bigquery\n",
    "from sklearn.preprocessing import MinMaxScaler"
   ]
  },
  {
   "cell_type": "code",
   "execution_count": 2,
   "metadata": {},
   "outputs": [],
   "source": [
    "%load_ext google.cloud.bigquery"
   ]
  },
  {
   "cell_type": "code",
   "execution_count": 3,
   "metadata": {},
   "outputs": [
    {
     "data": {
      "text/html": [
       "<div>\n",
       "<style scoped>\n",
       "    .dataframe tbody tr th:only-of-type {\n",
       "        vertical-align: middle;\n",
       "    }\n",
       "\n",
       "    .dataframe tbody tr th {\n",
       "        vertical-align: top;\n",
       "    }\n",
       "\n",
       "    .dataframe thead th {\n",
       "        text-align: right;\n",
       "    }\n",
       "</style>\n",
       "<table border=\"1\" class=\"dataframe\">\n",
       "  <thead>\n",
       "    <tr style=\"text-align: right;\">\n",
       "      <th></th>\n",
       "      <th>f0_</th>\n",
       "    </tr>\n",
       "  </thead>\n",
       "  <tbody>\n",
       "    <tr>\n",
       "      <th>0</th>\n",
       "      <td>1281</td>\n",
       "    </tr>\n",
       "  </tbody>\n",
       "</table>\n",
       "</div>"
      ],
      "text/plain": [
       "    f0_\n",
       "0  1281"
      ]
     },
     "execution_count": 3,
     "metadata": {},
     "output_type": "execute_result"
    }
   ],
   "source": [
    "%%bigquery\n",
    "SELECT\n",
    "    count(*)\n",
    "FROM `hde-test-clean.housing_data.real_estate_raw`"
   ]
  },
  {
   "cell_type": "code",
   "execution_count": 4,
   "metadata": {},
   "outputs": [],
   "source": [
    "query_client = bigquery.Client()"
   ]
  },
  {
   "cell_type": "code",
   "execution_count": 5,
   "metadata": {},
   "outputs": [],
   "source": [
    "request = \"\"\"\n",
    "SELECT\n",
    "    *\n",
    "FROM\n",
    "    `hde-test-clean.housing_data.real_estate_raw`\n",
    "\"\"\"\n",
    "real_estate_raw = query_client.query(request).to_dataframe()"
   ]
  },
  {
   "cell_type": "code",
   "execution_count": 6,
   "metadata": {},
   "outputs": [
    {
     "name": "stdout",
     "output_type": "stream",
     "text": [
      "<class 'pandas.core.frame.DataFrame'>\n",
      "RangeIndex: 1281 entries, 0 to 1280\n",
      "Data columns (total 11 columns):\n",
      "ad_id                1281 non-null int64\n",
      "ad_url               1281 non-null object\n",
      "new_building         1281 non-null bool\n",
      "short_description    1281 non-null object\n",
      "full_description     1281 non-null object\n",
      "property_table       1281 non-null object\n",
      "main_price           1281 non-null object\n",
      "property_attrs       1281 non-null object\n",
      "address              1281 non-null object\n",
      "datetime_viewed      1281 non-null datetime64[ns]\n",
      "datetime_offset      1281 non-null object\n",
      "dtypes: bool(1), datetime64[ns](1), int64(1), object(8)\n",
      "memory usage: 101.4+ KB\n"
     ]
    }
   ],
   "source": [
    "real_estate_raw.info()"
   ]
  },
  {
   "cell_type": "code",
   "execution_count": 7,
   "metadata": {},
   "outputs": [],
   "source": [
    "real_estate_raw.set_index(keys='ad_id', drop=True, inplace=True)"
   ]
  },
  {
   "cell_type": "code",
   "execution_count": 8,
   "metadata": {},
   "outputs": [
    {
     "data": {
      "text/html": [
       "<div>\n",
       "<style scoped>\n",
       "    .dataframe tbody tr th:only-of-type {\n",
       "        vertical-align: middle;\n",
       "    }\n",
       "\n",
       "    .dataframe tbody tr th {\n",
       "        vertical-align: top;\n",
       "    }\n",
       "\n",
       "    .dataframe thead th {\n",
       "        text-align: right;\n",
       "    }\n",
       "</style>\n",
       "<table border=\"1\" class=\"dataframe\">\n",
       "  <thead>\n",
       "    <tr style=\"text-align: right;\">\n",
       "      <th></th>\n",
       "      <th>ad_url</th>\n",
       "      <th>new_building</th>\n",
       "      <th>short_description</th>\n",
       "      <th>full_description</th>\n",
       "      <th>property_table</th>\n",
       "      <th>main_price</th>\n",
       "      <th>property_attrs</th>\n",
       "      <th>address</th>\n",
       "      <th>datetime_viewed</th>\n",
       "      <th>datetime_offset</th>\n",
       "    </tr>\n",
       "    <tr>\n",
       "      <th>ad_id</th>\n",
       "      <th></th>\n",
       "      <th></th>\n",
       "      <th></th>\n",
       "      <th></th>\n",
       "      <th></th>\n",
       "      <th></th>\n",
       "      <th></th>\n",
       "      <th></th>\n",
       "      <th></th>\n",
       "      <th></th>\n",
       "    </tr>\n",
       "  </thead>\n",
       "  <tbody>\n",
       "    <tr>\n",
       "      <th>130898040</th>\n",
       "      <td>https://www.finn.no/realestate/homes/ad.html?f...</td>\n",
       "      <td>False</td>\n",
       "      <td>Sentral og moderne 3-roms selveierleilighet me...</td>\n",
       "      <td>Kort om leiligheten:- MODERNE LEILIGHET FRA 20...</td>\n",
       "      <td>{}</td>\n",
       "      <td>5 200 000 kr</td>\n",
       "      <td>{\"Omkostninger\": \"138\\u00a0722 kr\", \"Totalpris...</td>\n",
       "      <td>Fredtunveien 8, 1386 Asker</td>\n",
       "      <td>2019-06-09 10:36:02</td>\n",
       "      <td>UTC</td>\n",
       "    </tr>\n",
       "    <tr>\n",
       "      <th>126578832</th>\n",
       "      <td>https://www.finn.no/realestate/newbuildings/ad...</td>\n",
       "      <td>True</td>\n",
       "      <td>SENNERUDTOPPEN - ARBEIDENE ER I GANG! 87 lyse ...</td>\n",
       "      <td>FremdriftArbeidene er i gang! Ta kontakt for t...</td>\n",
       "      <td>{\"Bolig\": [\"1-207\", \"1-307\", \"1-308\", \"1-407\",...</td>\n",
       "      <td>2 790 000 kr7 890 000 kr</td>\n",
       "      <td>{\"Areal\": \"45\\u00a0-\\u00a0125 m\\u00b2\", \"Sover...</td>\n",
       "      <td>Sennerudtoppen Bolig AS, 1920 Sørumsand</td>\n",
       "      <td>2019-06-09 10:30:23</td>\n",
       "      <td>UTC</td>\n",
       "    </tr>\n",
       "    <tr>\n",
       "      <th>135914307</th>\n",
       "      <td>https://www.finn.no/realestate/newbuildings/ad...</td>\n",
       "      <td>True</td>\n",
       "      <td>Dovrekvartalet - Spennende boligprosjekt for v...</td>\n",
       "      <td>Prosjektets beskrivelseUtbyggers visjonFor å s...</td>\n",
       "      <td>{\"Bolig\": [\"101\", \"102\", \"103\", \"104\", \"105\", ...</td>\n",
       "      <td>1 600 000 kr4 900 000 kr</td>\n",
       "      <td>{\"Fellesgjeld\": \"1\\u00a0600\\u00a0000 \\u2013 4\\...</td>\n",
       "      <td>Landstadsgate 13 - D5, 2000 Lillestrøm</td>\n",
       "      <td>2019-06-09 10:39:41</td>\n",
       "      <td>UTC</td>\n",
       "    </tr>\n",
       "    <tr>\n",
       "      <th>142183291</th>\n",
       "      <td>https://www.finn.no/realestate/homes/ad.html?f...</td>\n",
       "      <td>False</td>\n",
       "      <td>Tiltalende enebolig fra 2015. Solrik terrasse ...</td>\n",
       "      <td>Tiltalende og moderne enebolig med svært etter...</td>\n",
       "      <td>{}</td>\n",
       "      <td>14 775 000 kr</td>\n",
       "      <td>{\"Omkostninger\": \"384\\u00a0520 kr\", \"Totalpris...</td>\n",
       "      <td>Bjerkelundsveien 4A, 1358 Jar</td>\n",
       "      <td>2019-06-09 10:41:33</td>\n",
       "      <td>UTC</td>\n",
       "    </tr>\n",
       "    <tr>\n",
       "      <th>149524358</th>\n",
       "      <td>https://www.finn.no/realestate/homes/ad.html?f...</td>\n",
       "      <td>False</td>\n",
       "      <td>Stor og påkostet enebolig over 2 plan fra 2013...</td>\n",
       "      <td>DNB Eiendom v/Christer Langstrand har gleden a...</td>\n",
       "      <td>{}</td>\n",
       "      <td>6 390 000 kr</td>\n",
       "      <td>{\"Omkostninger\": \"160\\u00a0972 kr\", \"Totalpris...</td>\n",
       "      <td>Kantarellvegen 14, 2016 Frogner</td>\n",
       "      <td>2019-06-09 10:32:42</td>\n",
       "      <td>UTC</td>\n",
       "    </tr>\n",
       "  </tbody>\n",
       "</table>\n",
       "</div>"
      ],
      "text/plain": [
       "                                                      ad_url  new_building  \\\n",
       "ad_id                                                                        \n",
       "130898040  https://www.finn.no/realestate/homes/ad.html?f...         False   \n",
       "126578832  https://www.finn.no/realestate/newbuildings/ad...          True   \n",
       "135914307  https://www.finn.no/realestate/newbuildings/ad...          True   \n",
       "142183291  https://www.finn.no/realestate/homes/ad.html?f...         False   \n",
       "149524358  https://www.finn.no/realestate/homes/ad.html?f...         False   \n",
       "\n",
       "                                           short_description  \\\n",
       "ad_id                                                          \n",
       "130898040  Sentral og moderne 3-roms selveierleilighet me...   \n",
       "126578832  SENNERUDTOPPEN - ARBEIDENE ER I GANG! 87 lyse ...   \n",
       "135914307  Dovrekvartalet - Spennende boligprosjekt for v...   \n",
       "142183291  Tiltalende enebolig fra 2015. Solrik terrasse ...   \n",
       "149524358  Stor og påkostet enebolig over 2 plan fra 2013...   \n",
       "\n",
       "                                            full_description  \\\n",
       "ad_id                                                          \n",
       "130898040  Kort om leiligheten:- MODERNE LEILIGHET FRA 20...   \n",
       "126578832  FremdriftArbeidene er i gang! Ta kontakt for t...   \n",
       "135914307  Prosjektets beskrivelseUtbyggers visjonFor å s...   \n",
       "142183291  Tiltalende og moderne enebolig med svært etter...   \n",
       "149524358  DNB Eiendom v/Christer Langstrand har gleden a...   \n",
       "\n",
       "                                              property_table  \\\n",
       "ad_id                                                          \n",
       "130898040                                                 {}   \n",
       "126578832  {\"Bolig\": [\"1-207\", \"1-307\", \"1-308\", \"1-407\",...   \n",
       "135914307  {\"Bolig\": [\"101\", \"102\", \"103\", \"104\", \"105\", ...   \n",
       "142183291                                                 {}   \n",
       "149524358                                                 {}   \n",
       "\n",
       "                         main_price  \\\n",
       "ad_id                                 \n",
       "130898040              5 200 000 kr   \n",
       "126578832  2 790 000 kr7 890 000 kr   \n",
       "135914307  1 600 000 kr4 900 000 kr   \n",
       "142183291             14 775 000 kr   \n",
       "149524358              6 390 000 kr   \n",
       "\n",
       "                                              property_attrs  \\\n",
       "ad_id                                                          \n",
       "130898040  {\"Omkostninger\": \"138\\u00a0722 kr\", \"Totalpris...   \n",
       "126578832  {\"Areal\": \"45\\u00a0-\\u00a0125 m\\u00b2\", \"Sover...   \n",
       "135914307  {\"Fellesgjeld\": \"1\\u00a0600\\u00a0000 \\u2013 4\\...   \n",
       "142183291  {\"Omkostninger\": \"384\\u00a0520 kr\", \"Totalpris...   \n",
       "149524358  {\"Omkostninger\": \"160\\u00a0972 kr\", \"Totalpris...   \n",
       "\n",
       "                                           address     datetime_viewed  \\\n",
       "ad_id                                                                    \n",
       "130898040               Fredtunveien 8, 1386 Asker 2019-06-09 10:36:02   \n",
       "126578832  Sennerudtoppen Bolig AS, 1920 Sørumsand 2019-06-09 10:30:23   \n",
       "135914307   Landstadsgate 13 - D5, 2000 Lillestrøm 2019-06-09 10:39:41   \n",
       "142183291            Bjerkelundsveien 4A, 1358 Jar 2019-06-09 10:41:33   \n",
       "149524358          Kantarellvegen 14, 2016 Frogner 2019-06-09 10:32:42   \n",
       "\n",
       "          datetime_offset  \n",
       "ad_id                      \n",
       "130898040             UTC  \n",
       "126578832             UTC  \n",
       "135914307             UTC  \n",
       "142183291             UTC  \n",
       "149524358             UTC  "
      ]
     },
     "execution_count": 8,
     "metadata": {},
     "output_type": "execute_result"
    }
   ],
   "source": [
    "real_estate_raw.head()"
   ]
  },
  {
   "cell_type": "code",
   "execution_count": 9,
   "metadata": {},
   "outputs": [],
   "source": [
    "for col in ['property_table', 'property_attrs']:\n",
    "    real_estate_raw[col] = [json.loads(cell) for cell in real_estate_raw[col]]"
   ]
  },
  {
   "cell_type": "code",
   "execution_count": 10,
   "metadata": {},
   "outputs": [],
   "source": [
    "headers = []\n",
    "for id, row in real_estate_raw.property_attrs.items():\n",
    "    for k in row.keys():\n",
    "        headers.append(k)"
   ]
  },
  {
   "cell_type": "code",
   "execution_count": 11,
   "metadata": {},
   "outputs": [],
   "source": [
    "headers = list(set(headers))"
   ]
  },
  {
   "cell_type": "code",
   "execution_count": 12,
   "metadata": {},
   "outputs": [],
   "source": [
    "to_append = []\n",
    "for code, row in real_estate_raw.property_attrs.items():\n",
    "    all_properties = []\n",
    "    for key in headers:\n",
    "        all_properties.append(row.get(key))\n",
    "    to_append.append(all_properties)\n",
    "building_attributes = pd.DataFrame(to_append, columns=headers)"
   ]
  },
  {
   "cell_type": "code",
   "execution_count": 17,
   "metadata": {},
   "outputs": [
    {
     "name": "stdout",
     "output_type": "stream",
     "text": [
      "<class 'pandas.core.frame.DataFrame'>\n",
      "RangeIndex: 1281 entries, 0 to 1280\n",
      "Data columns (total 42 columns):\n",
      "Eierskifte-forsikring                       420 non-null object\n",
      "Verditakst                                  31 non-null object\n",
      "Sikringsordning                             4 non-null object\n",
      "Omkostninger                                1165 non-null object\n",
      "Formuesverdi                                1034 non-null object\n",
      "Felleskost/mnd. etter avdragsfri periode    4 non-null object\n",
      "Rom                                         782 non-null object\n",
      "Ant etasjer                                 26 non-null object\n",
      "Kommunale avg.                              326 non-null object\n",
      "Utendørsareal                               1 non-null object\n",
      "Lånetakst                                   10 non-null object\n",
      "Fellesformue                                639 non-null object\n",
      "Telefon                                     9 non-null object\n",
      "Ferdigstillelse                             3 non-null object\n",
      "FINN-kode                                   1281 non-null object\n",
      "Areal                                       87 non-null object\n",
      "Låneverdi                                   2 non-null object\n",
      "Byggeår                                     1165 non-null object\n",
      "Grunnflate                                  8 non-null object\n",
      "Tomteareal                                  1140 non-null object\n",
      "Felleskost/mnd.                             865 non-null object\n",
      "Renovert år                                 18 non-null object\n",
      "Firma                                       7 non-null object\n",
      "Enhetsid                                    12 non-null object\n",
      "Soverom                                     1241 non-null object\n",
      "Etasje                                      834 non-null object\n",
      "Eieform                                     1281 non-null object\n",
      "Mobil                                       233 non-null object\n",
      "Totalpris                                   1170 non-null object\n",
      "Primærrom                                   1186 non-null object\n",
      "Fax                                         22 non-null object\n",
      "Solforhold                                  2 non-null object\n",
      "Referanse                                   1258 non-null object\n",
      "Bruttoareal                                 1066 non-null object\n",
      "Sist endret                                 1281 non-null object\n",
      "Energimerking                               976 non-null object\n",
      "Pris med fellesgjeld                        35 non-null object\n",
      "Bruksareal                                  1188 non-null object\n",
      "Fellesgjeld                                 635 non-null object\n",
      "Festeavgift                                 15 non-null object\n",
      "Tomt                                        30 non-null object\n",
      "Boligtype                                   1281 non-null object\n",
      "dtypes: object(42)\n",
      "memory usage: 420.4+ KB\n"
     ]
    }
   ],
   "source": [
    "building_attributes.info()"
   ]
  },
  {
   "cell_type": "code",
   "execution_count": 22,
   "metadata": {},
   "outputs": [],
   "source": [
    "non_null_counts = building_attributes.notna().sum(axis=0)"
   ]
  },
  {
   "cell_type": "code",
   "execution_count": 42,
   "metadata": {},
   "outputs": [],
   "source": [
    "scaler = MinMaxScaler()\n",
    "non_null_counts_scaled = pd.Series(scaler.fit_transform(non_null_counts.values.reshape(-1, 1))[:,0], index=non_null_counts.index)"
   ]
  },
  {
   "cell_type": "code",
   "execution_count": 46,
   "metadata": {},
   "outputs": [],
   "source": [
    "non_null_counts_scaled.sort_values(ascending=False, inplace=True)"
   ]
  },
  {
   "cell_type": "code",
   "execution_count": 56,
   "metadata": {},
   "outputs": [
    {
     "data": {
      "text/plain": [
       "Boligtype                                   1.000000\n",
       "Eieform                                     1.000000\n",
       "FINN-kode                                   1.000000\n",
       "Sist endret                                 1.000000\n",
       "Referanse                                   0.982031\n",
       "Soverom                                     0.968750\n",
       "Bruksareal                                  0.927344\n",
       "Primærrom                                   0.925781\n",
       "Totalpris                                   0.913281\n",
       "Omkostninger                                0.909375\n",
       "Byggeår                                     0.909375\n",
       "Tomteareal                                  0.889844\n",
       "Bruttoareal                                 0.832031\n",
       "Formuesverdi                                0.807031\n",
       "Energimerking                               0.761719\n",
       "Felleskost/mnd.                             0.675000\n",
       "Etasje                                      0.650781\n",
       "Rom                                         0.610156\n",
       "Fellesformue                                0.498438\n",
       "Fellesgjeld                                 0.495312\n",
       "Eierskifte-forsikring                       0.327344\n",
       "Kommunale avg.                              0.253906\n",
       "Mobil                                       0.181250\n",
       "Areal                                       0.067188\n",
       "Pris med fellesgjeld                        0.026562\n",
       "Verditakst                                  0.023438\n",
       "Tomt                                        0.022656\n",
       "Ant etasjer                                 0.019531\n",
       "Fax                                         0.016406\n",
       "Renovert år                                 0.013281\n",
       "Festeavgift                                 0.010937\n",
       "Enhetsid                                    0.008594\n",
       "Lånetakst                                   0.007031\n",
       "Telefon                                     0.006250\n",
       "Grunnflate                                  0.005469\n",
       "Firma                                       0.004688\n",
       "Felleskost/mnd. etter avdragsfri periode    0.002344\n",
       "Sikringsordning                             0.002344\n",
       "Ferdigstillelse                             0.001563\n",
       "Låneverdi                                   0.000781\n",
       "Solforhold                                  0.000781\n",
       "Utendørsareal                               0.000000\n",
       "dtype: float64"
      ]
     },
     "execution_count": 56,
     "metadata": {},
     "output_type": "execute_result"
    }
   ],
   "source": [
    "non_null_counts_scaled"
   ]
  },
  {
   "cell_type": "code",
   "execution_count": 53,
   "metadata": {},
   "outputs": [],
   "source": [
    "present_data_thresh = 0.5\n",
    "top_n = 10"
   ]
  },
  {
   "cell_type": "code",
   "execution_count": 54,
   "metadata": {},
   "outputs": [
    {
     "data": {
      "text/plain": [
       "Boligtype          1.000000\n",
       "Eieform            1.000000\n",
       "FINN-kode          1.000000\n",
       "Sist endret        1.000000\n",
       "Referanse          0.982031\n",
       "Soverom            0.968750\n",
       "Bruksareal         0.927344\n",
       "Primærrom          0.925781\n",
       "Totalpris          0.913281\n",
       "Omkostninger       0.909375\n",
       "Byggeår            0.909375\n",
       "Tomteareal         0.889844\n",
       "Bruttoareal        0.832031\n",
       "Formuesverdi       0.807031\n",
       "Energimerking      0.761719\n",
       "Felleskost/mnd.    0.675000\n",
       "Etasje             0.650781\n",
       "Rom                0.610156\n",
       "dtype: float64"
      ]
     },
     "execution_count": 54,
     "metadata": {},
     "output_type": "execute_result"
    }
   ],
   "source": [
    "non_null_counts_scaled[non_null_counts_scaled > present_data_thresh]"
   ]
  },
  {
   "cell_type": "code",
   "execution_count": 55,
   "metadata": {},
   "outputs": [
    {
     "data": {
      "text/plain": [
       "Boligtype       1.000000\n",
       "Eieform         1.000000\n",
       "FINN-kode       1.000000\n",
       "Sist endret     1.000000\n",
       "Referanse       0.982031\n",
       "Soverom         0.968750\n",
       "Bruksareal      0.927344\n",
       "Primærrom       0.925781\n",
       "Totalpris       0.913281\n",
       "Omkostninger    0.909375\n",
       "dtype: float64"
      ]
     },
     "execution_count": 55,
     "metadata": {},
     "output_type": "execute_result"
    }
   ],
   "source": [
    "non_null_counts_scaled[:top_n]"
   ]
  },
  {
   "cell_type": "code",
   "execution_count": 57,
   "metadata": {},
   "outputs": [
    {
     "data": {
      "text/plain": [
       "Index(['Boligtype', 'Eieform', 'FINN-kode', 'Sist endret', 'Referanse',\n",
       "       'Soverom', 'Bruksareal', 'Primærrom', 'Totalpris', 'Omkostninger',\n",
       "       'Byggeår', 'Tomteareal', 'Bruttoareal', 'Formuesverdi', 'Energimerking',\n",
       "       'Felleskost/mnd.', 'Etasje', 'Rom', 'Fellesformue', 'Fellesgjeld',\n",
       "       'Eierskifte-forsikring'],\n",
       "      dtype='object')"
      ]
     },
     "execution_count": 57,
     "metadata": {},
     "output_type": "execute_result"
    }
   ],
   "source": [
    "non_null_counts_scaled[non_null_counts_scaled > 0.3].index"
   ]
  },
  {
   "cell_type": "code",
   "execution_count": null,
   "metadata": {},
   "outputs": [],
   "source": []
  }
 ],
 "metadata": {
  "kernelspec": {
   "display_name": "Python 3",
   "language": "python",
   "name": "python3"
  },
  "language_info": {
   "codemirror_mode": {
    "name": "ipython",
    "version": 3
   },
   "file_extension": ".py",
   "mimetype": "text/x-python",
   "name": "python",
   "nbconvert_exporter": "python",
   "pygments_lexer": "ipython3",
   "version": "3.7.3"
  }
 },
 "nbformat": 4,
 "nbformat_minor": 2
}
