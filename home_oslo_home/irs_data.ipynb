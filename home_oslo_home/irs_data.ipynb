{
 "cells": [
  {
   "cell_type": "code",
   "execution_count": 17,
   "metadata": {},
   "outputs": [],
   "source": [
    "import requests\n",
    "import pandas as pd\n",
    "import numpy as np"
   ]
  },
  {
   "cell_type": "code",
   "execution_count": 7,
   "metadata": {},
   "outputs": [],
   "source": [
    "post_codes_osl = pd.read_csv('post_codes.csv', dtype={'post_code':str}).set_index('post_code', drop=True)"
   ]
  },
  {
   "cell_type": "code",
   "execution_count": 9,
   "metadata": {},
   "outputs": [],
   "source": [
    "table_json = {\n",
    "    \"query\": [\n",
    "        {\n",
    "            \"code\": \"Region\",\n",
    "            \"selection\": {\n",
    "                \"filter\": \"agg_single:KommGjeldende\",\n",
    "                \"values\": [\n",
    "                    \"0001\",\n",
    "                    \"0214\",\n",
    "                    \"0219\",\n",
    "                    \"0220\",\n",
    "                    \"0301\"\n",
    "                ]\n",
    "            }\n",
    "        },\n",
    "        {\n",
    "            \"code\": \"HusholdType\",\n",
    "            \"selection\": {\n",
    "                \"filter\": \"item\",\n",
    "                \"values\": [\n",
    "                    \"0000\"\n",
    "                ]\n",
    "            }\n",
    "        },\n",
    "        {\n",
    "            \"code\": \"Tid\",\n",
    "            \"selection\": {\n",
    "                \"filter\": \"item\",\n",
    "                \"values\": [\n",
    "                    \"2017\"\n",
    "                ]\n",
    "            }\n",
    "        }\n",
    "    ],\n",
    "    \"response\": {\n",
    "        \"format\": \"json-stat2\"\n",
    "    }\n",
    "}"
   ]
  },
  {
   "cell_type": "code",
   "execution_count": 10,
   "metadata": {},
   "outputs": [],
   "source": [
    "res = requests.post(url='https://data.ssb.no/api/v0/no/table/06944/', json=table_json)"
   ]
  },
  {
   "cell_type": "code",
   "execution_count": 12,
   "metadata": {},
   "outputs": [],
   "source": [
    "res = res.json()"
   ]
  },
  {
   "cell_type": "code",
   "execution_count": 13,
   "metadata": {},
   "outputs": [
    {
     "data": {
      "text/plain": [
       "{'class': 'dataset',\n",
       " 'label': '06944: Inntekt for husholdninger, etter region, husholdningstype, statistikkvariabel og år',\n",
       " 'source': 'Statistisk sentralbyrå',\n",
       " 'updated': '2019-02-22T07:00:00Z',\n",
       " 'id': ['Region', 'HusholdType', 'ContentsCode', 'Tid'],\n",
       " 'size': [4, 1, 3, 1],\n",
       " 'dimension': {'Region': {'label': 'region',\n",
       "   'category': {'index': {'0214': 0, '0219': 1, '0220': 2, '0301': 3},\n",
       "    'label': {'0214': 'Ås',\n",
       "     '0219': 'Bærum',\n",
       "     '0220': 'Asker',\n",
       "     '0301': 'Oslo kommune'}},\n",
       "   'link': {'describedby': [{'extension': {'Region': 'urn:ssb:classification:klass:104 urn:ssb:classification:klass:131 urn:ssb:classification:klass:103'}}]}},\n",
       "  'HusholdType': {'label': 'husholdningstype',\n",
       "   'category': {'index': {'0000': 0},\n",
       "    'label': {'0000': 'Alle husholdninger'}}},\n",
       "  'ContentsCode': {'label': 'statistikkvariabel',\n",
       "   'category': {'index': {'SamletInntekt': 0,\n",
       "     'InntSkatt': 1,\n",
       "     'AntallHushold': 2},\n",
       "    'label': {'SamletInntekt': 'Samlet inntekt, median (kr)',\n",
       "     'InntSkatt': 'Inntekt etter skatt, median (kr)',\n",
       "     'AntallHushold': 'Antall husholdninger'},\n",
       "    'unit': {'SamletInntekt': {'base': 'kr', 'decimals': 0},\n",
       "     'InntSkatt': {'base': 'kr', 'decimals': 0},\n",
       "     'AntallHushold': {'base': 'husholdninger', 'decimals': 0}}},\n",
       "   'link': {'describedby': [{'extension': {'SamletInntekt': 'urn:ssb:conceptvariable:vardok:570',\n",
       "       'InntSkatt': 'urn:ssb:conceptvariable:vardok:2'}}]}},\n",
       "  'Tid': {'label': 'år',\n",
       "   'category': {'index': {'2017': 0}, 'label': {'2017': '2017'}}}},\n",
       " 'value': [705000,\n",
       "  552000,\n",
       "  8192,\n",
       "  832000,\n",
       "  626000,\n",
       "  53079,\n",
       "  853000,\n",
       "  644000,\n",
       "  24869,\n",
       "  604000,\n",
       "  460000,\n",
       "  331880],\n",
       " 'role': {'time': ['Tid'], 'metric': ['ContentsCode'], 'geo': ['Region']},\n",
       " 'version': '2.0'}"
      ]
     },
     "execution_count": 13,
     "metadata": {},
     "output_type": "execute_result"
    }
   ],
   "source": [
    "res"
   ]
  },
  {
   "cell_type": "code",
   "execution_count": 41,
   "metadata": {},
   "outputs": [],
   "source": [
    "columns = pd.Series(res['dimension']['ContentsCode']['category']['index']).sort_values()"
   ]
  },
  {
   "cell_type": "code",
   "execution_count": 43,
   "metadata": {},
   "outputs": [],
   "source": [
    "column_values = list(columns.index)"
   ]
  },
  {
   "cell_type": "code",
   "execution_count": 49,
   "metadata": {},
   "outputs": [],
   "source": [
    "index = pd.Series(res['dimension']['Region']['category']['index']).sort_values()"
   ]
  },
  {
   "cell_type": "code",
   "execution_count": 50,
   "metadata": {},
   "outputs": [],
   "source": [
    "index_values = list(index.index)"
   ]
  },
  {
   "cell_type": "code",
   "execution_count": 51,
   "metadata": {},
   "outputs": [
    {
     "data": {
      "text/html": [
       "<div>\n",
       "<style scoped>\n",
       "    .dataframe tbody tr th:only-of-type {\n",
       "        vertical-align: middle;\n",
       "    }\n",
       "\n",
       "    .dataframe tbody tr th {\n",
       "        vertical-align: top;\n",
       "    }\n",
       "\n",
       "    .dataframe thead th {\n",
       "        text-align: right;\n",
       "    }\n",
       "</style>\n",
       "<table border=\"1\" class=\"dataframe\">\n",
       "  <thead>\n",
       "    <tr style=\"text-align: right;\">\n",
       "      <th></th>\n",
       "      <th>SamletInntekt</th>\n",
       "      <th>InntSkatt</th>\n",
       "      <th>AntallHushold</th>\n",
       "    </tr>\n",
       "  </thead>\n",
       "  <tbody>\n",
       "    <tr>\n",
       "      <th>0214</th>\n",
       "      <td>705000</td>\n",
       "      <td>552000</td>\n",
       "      <td>8192</td>\n",
       "    </tr>\n",
       "    <tr>\n",
       "      <th>0219</th>\n",
       "      <td>832000</td>\n",
       "      <td>626000</td>\n",
       "      <td>53079</td>\n",
       "    </tr>\n",
       "    <tr>\n",
       "      <th>0220</th>\n",
       "      <td>853000</td>\n",
       "      <td>644000</td>\n",
       "      <td>24869</td>\n",
       "    </tr>\n",
       "    <tr>\n",
       "      <th>0301</th>\n",
       "      <td>604000</td>\n",
       "      <td>460000</td>\n",
       "      <td>331880</td>\n",
       "    </tr>\n",
       "  </tbody>\n",
       "</table>\n",
       "</div>"
      ],
      "text/plain": [
       "      SamletInntekt  InntSkatt  AntallHushold\n",
       "0214         705000     552000           8192\n",
       "0219         832000     626000          53079\n",
       "0220         853000     644000          24869\n",
       "0301         604000     460000         331880"
      ]
     },
     "execution_count": 51,
     "metadata": {},
     "output_type": "execute_result"
    }
   ],
   "source": [
    "pd.DataFrame(np.array(res['value']).reshape((4, 3)), index=index_values, columns=column_values)"
   ]
  },
  {
   "cell_type": "code",
   "execution_count": 8,
   "metadata": {},
   "outputs": [
    {
     "data": {
      "text/html": [
       "<div>\n",
       "<style scoped>\n",
       "    .dataframe tbody tr th:only-of-type {\n",
       "        vertical-align: middle;\n",
       "    }\n",
       "\n",
       "    .dataframe tbody tr th {\n",
       "        vertical-align: top;\n",
       "    }\n",
       "\n",
       "    .dataframe thead th {\n",
       "        text-align: right;\n",
       "    }\n",
       "</style>\n",
       "<table border=\"1\" class=\"dataframe\">\n",
       "  <thead>\n",
       "    <tr style=\"text-align: right;\">\n",
       "      <th></th>\n",
       "      <th>lat</th>\n",
       "      <th>lng</th>\n",
       "      <th>municipality</th>\n",
       "      <th>neighborhood_name</th>\n",
       "      <th>population</th>\n",
       "    </tr>\n",
       "    <tr>\n",
       "      <th>post_code</th>\n",
       "      <th></th>\n",
       "      <th></th>\n",
       "      <th></th>\n",
       "      <th></th>\n",
       "      <th></th>\n",
       "    </tr>\n",
       "  </thead>\n",
       "  <tbody>\n",
       "    <tr>\n",
       "      <th>0001</th>\n",
       "      <td>59.9116</td>\n",
       "      <td>10.7545</td>\n",
       "      <td>Oslo</td>\n",
       "      <td>Sentrum</td>\n",
       "      <td>NaN</td>\n",
       "    </tr>\n",
       "    <tr>\n",
       "      <th>0009</th>\n",
       "      <td>59.9100</td>\n",
       "      <td>10.7500</td>\n",
       "      <td>Oslo</td>\n",
       "      <td>NaN</td>\n",
       "      <td>NaN</td>\n",
       "    </tr>\n",
       "    <tr>\n",
       "      <th>0010</th>\n",
       "      <td>59.9171</td>\n",
       "      <td>10.7274</td>\n",
       "      <td>Oslo</td>\n",
       "      <td>Sentrum</td>\n",
       "      <td>NaN</td>\n",
       "    </tr>\n",
       "    <tr>\n",
       "      <th>0014</th>\n",
       "      <td>59.9116</td>\n",
       "      <td>10.7545</td>\n",
       "      <td>Oslo</td>\n",
       "      <td>NaN</td>\n",
       "      <td>NaN</td>\n",
       "    </tr>\n",
       "    <tr>\n",
       "      <th>0015</th>\n",
       "      <td>59.9061</td>\n",
       "      <td>10.7392</td>\n",
       "      <td>Oslo</td>\n",
       "      <td>Sentrum</td>\n",
       "      <td>NaN</td>\n",
       "    </tr>\n",
       "  </tbody>\n",
       "</table>\n",
       "</div>"
      ],
      "text/plain": [
       "               lat      lng municipality neighborhood_name  population\n",
       "post_code                                                             \n",
       "0001       59.9116  10.7545         Oslo           Sentrum         NaN\n",
       "0009       59.9100  10.7500         Oslo               NaN         NaN\n",
       "0010       59.9171  10.7274         Oslo           Sentrum         NaN\n",
       "0014       59.9116  10.7545         Oslo               NaN         NaN\n",
       "0015       59.9061  10.7392         Oslo           Sentrum         NaN"
      ]
     },
     "execution_count": 8,
     "metadata": {},
     "output_type": "execute_result"
    }
   ],
   "source": [
    "post_codes_osl.head()"
   ]
  },
  {
   "cell_type": "code",
   "execution_count": null,
   "metadata": {},
   "outputs": [],
   "source": []
  }
 ],
 "metadata": {
  "kernelspec": {
   "display_name": "Python 3",
   "language": "python",
   "name": "python3"
  },
  "language_info": {
   "codemirror_mode": {
    "name": "ipython",
    "version": 3
   },
   "file_extension": ".py",
   "mimetype": "text/x-python",
   "name": "python",
   "nbconvert_exporter": "python",
   "pygments_lexer": "ipython3",
   "version": "3.7.3"
  }
 },
 "nbformat": 4,
 "nbformat_minor": 2
}
