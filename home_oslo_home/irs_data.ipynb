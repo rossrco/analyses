{
 "cells": [
  {
   "cell_type": "code",
   "execution_count": 1,
   "metadata": {},
   "outputs": [],
   "source": [
    "import requests"
   ]
  },
  {
   "cell_type": "code",
   "execution_count": 2,
   "metadata": {},
   "outputs": [],
   "source": [
    "table_json = {\n",
    "    \"query\": [\n",
    "        {\n",
    "            \"code\": \"Region\",\n",
    "            \"selection\": {\n",
    "                \"filter\": \"agg_single:KommGjeldende\",\n",
    "                \"values\": [\n",
    "                    \"0214\",\n",
    "                    \"0219\",\n",
    "                    \"0220\",\n",
    "                    \"0301\"\n",
    "                ]\n",
    "            }\n",
    "        },\n",
    "        {\n",
    "            \"code\": \"HusholdType\",\n",
    "            \"selection\": {\n",
    "                \"filter\": \"item\",\n",
    "                \"values\": [\n",
    "                    \"0000\"\n",
    "                ]\n",
    "            }\n",
    "        },\n",
    "        {\n",
    "            \"code\": \"Tid\",\n",
    "            \"selection\": {\n",
    "                \"filter\": \"item\",\n",
    "                \"values\": [\n",
    "                    \"2017\"\n",
    "                ]\n",
    "            }\n",
    "        }\n",
    "    ],\n",
    "    \"response\": {\n",
    "        \"format\": \"json-stat2\"\n",
    "    }\n",
    "}"
   ]
  },
  {
   "cell_type": "code",
   "execution_count": 3,
   "metadata": {},
   "outputs": [],
   "source": [
    "res = requests.post(url='https://data.ssb.no/api/v0/no/table/06944/', json=table_json)"
   ]
  },
  {
   "cell_type": "code",
   "execution_count": 4,
   "metadata": {},
   "outputs": [
    {
     "data": {
      "text/plain": [
       "{'class': 'dataset',\n",
       " 'label': '06944: Inntekt for husholdninger, etter region, husholdningstype, statistikkvariabel og år',\n",
       " 'source': 'Statistisk sentralbyrå',\n",
       " 'updated': '2019-02-22T07:00:00Z',\n",
       " 'id': ['Region', 'HusholdType', 'ContentsCode', 'Tid'],\n",
       " 'size': [4, 1, 3, 1],\n",
       " 'dimension': {'Region': {'label': 'region',\n",
       "   'category': {'index': {'0214': 0, '0219': 1, '0220': 2, '0301': 3},\n",
       "    'label': {'0214': 'Ås',\n",
       "     '0219': 'Bærum',\n",
       "     '0220': 'Asker',\n",
       "     '0301': 'Oslo kommune'}},\n",
       "   'link': {'describedby': [{'extension': {'Region': 'urn:ssb:classification:klass:104 urn:ssb:classification:klass:131 urn:ssb:classification:klass:103'}}]}},\n",
       "  'HusholdType': {'label': 'husholdningstype',\n",
       "   'category': {'index': {'0000': 0},\n",
       "    'label': {'0000': 'Alle husholdninger'}}},\n",
       "  'ContentsCode': {'label': 'statistikkvariabel',\n",
       "   'category': {'index': {'SamletInntekt': 0,\n",
       "     'InntSkatt': 1,\n",
       "     'AntallHushold': 2},\n",
       "    'label': {'SamletInntekt': 'Samlet inntekt, median (kr)',\n",
       "     'InntSkatt': 'Inntekt etter skatt, median (kr)',\n",
       "     'AntallHushold': 'Antall husholdninger'},\n",
       "    'unit': {'SamletInntekt': {'base': 'kr', 'decimals': 0},\n",
       "     'InntSkatt': {'base': 'kr', 'decimals': 0},\n",
       "     'AntallHushold': {'base': 'husholdninger', 'decimals': 0}}},\n",
       "   'link': {'describedby': [{'extension': {'SamletInntekt': 'urn:ssb:conceptvariable:vardok:570',\n",
       "       'InntSkatt': 'urn:ssb:conceptvariable:vardok:2'}}]}},\n",
       "  'Tid': {'label': 'år',\n",
       "   'category': {'index': {'2017': 0}, 'label': {'2017': '2017'}}}},\n",
       " 'value': [705000,\n",
       "  552000,\n",
       "  8192,\n",
       "  832000,\n",
       "  626000,\n",
       "  53079,\n",
       "  853000,\n",
       "  644000,\n",
       "  24869,\n",
       "  604000,\n",
       "  460000,\n",
       "  331880],\n",
       " 'role': {'time': ['Tid'], 'metric': ['ContentsCode'], 'geo': ['Region']},\n",
       " 'version': '2.0'}"
      ]
     },
     "execution_count": 4,
     "metadata": {},
     "output_type": "execute_result"
    }
   ],
   "source": [
    "res.json()"
   ]
  },
  {
   "cell_type": "code",
   "execution_count": null,
   "metadata": {},
   "outputs": [],
   "source": []
  }
 ],
 "metadata": {
  "kernelspec": {
   "display_name": "Python 3",
   "language": "python",
   "name": "python3"
  },
  "language_info": {
   "codemirror_mode": {
    "name": "ipython",
    "version": 3
   },
   "file_extension": ".py",
   "mimetype": "text/x-python",
   "name": "python",
   "nbconvert_exporter": "python",
   "pygments_lexer": "ipython3",
   "version": "3.7.3"
  }
 },
 "nbformat": 4,
 "nbformat_minor": 2
}
