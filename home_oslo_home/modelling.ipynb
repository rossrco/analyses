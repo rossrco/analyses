{
 "cells": [
  {
   "cell_type": "code",
   "execution_count": 309,
   "metadata": {},
   "outputs": [],
   "source": [
    "import os\n",
    "import pandas as pd\n",
    "import numpy as np\n",
    "from google.cloud import bigquery\n",
    "import matplotlib.pyplot as plt\n",
    "import seaborn as sns"
   ]
  },
  {
   "cell_type": "code",
   "execution_count": 310,
   "metadata": {},
   "outputs": [],
   "source": [
    "from keras.models import Sequential\n",
    "from keras.layers import Dense, Dropout\n",
    "from keras.wrappers.scikit_learn import KerasRegressor\n",
    "from sklearn.model_selection import train_test_split\n",
    "from sklearn.preprocessing import MinMaxScaler, StandardScaler, normalize, Normalizer\n",
    "from sklearn.metrics import mean_absolute_error\n",
    "from sklearn.ensemble import AdaBoostRegressor, IsolationForest\n",
    "from sklearn.pipeline import make_pipeline, Pipeline"
   ]
  },
  {
   "cell_type": "code",
   "execution_count": 311,
   "metadata": {},
   "outputs": [],
   "source": [
    "#set the visual style\n",
    "pd.set_option('display.max_colwidth', 20)\n",
    "pd.set_option('display.max_columns', 100)\n",
    "pd.set_option('display.max_rows', 10000)\n",
    "from IPython.display import display, HTML\n",
    "%matplotlib inline\n",
    "sns.set(style='dark')\n",
    "plt.rcParams['figure.figsize'] = [14, 10]"
   ]
  },
  {
   "cell_type": "code",
   "execution_count": 312,
   "metadata": {},
   "outputs": [],
   "source": [
    "query_dir = 'queries'"
   ]
  },
  {
   "cell_type": "code",
   "execution_count": 313,
   "metadata": {},
   "outputs": [],
   "source": [
    "queries = {}\n",
    "for query_file in (os.listdir(query_dir)):\n",
    "    with open(os.path.join(query_dir, query_file), 'r') as query:\n",
    "        queries[query_file] = query.read()"
   ]
  },
  {
   "cell_type": "code",
   "execution_count": 314,
   "metadata": {},
   "outputs": [],
   "source": [
    "query_client = bigquery.Client()"
   ]
  },
  {
   "cell_type": "code",
   "execution_count": 315,
   "metadata": {},
   "outputs": [],
   "source": [
    "request = queries['combined_analysis_data.sql']"
   ]
  },
  {
   "cell_type": "code",
   "execution_count": 316,
   "metadata": {},
   "outputs": [],
   "source": [
    "data = query_client.query(request).to_dataframe()"
   ]
  },
  {
   "cell_type": "code",
   "execution_count": 317,
   "metadata": {},
   "outputs": [],
   "source": [
    "data = data[(data.price.notna()) & (data.primary_size.notna())].copy()"
   ]
  },
  {
   "cell_type": "code",
   "execution_count": 318,
   "metadata": {},
   "outputs": [
    {
     "name": "stdout",
     "output_type": "stream",
     "text": [
      "<class 'pandas.core.frame.DataFrame'>\n",
      "Int64Index: 1602 entries, 0 to 1858\n",
      "Data columns (total 18 columns):\n",
      "ad_id                1602 non-null int64\n",
      "apt_id               855 non-null object\n",
      "new_building         1602 non-null bool\n",
      "num_bedrooms         1580 non-null float64\n",
      "floor                1273 non-null float64\n",
      "primary_size         1602 non-null float64\n",
      "total_size           1546 non-null float64\n",
      "price                1602 non-null float64\n",
      "property_type        1602 non-null object\n",
      "ownership_type       1602 non-null object\n",
      "construction_year    1601 non-null float64\n",
      "energy_character     753 non-null object\n",
      "common_expenses      561 non-null float64\n",
      "common_wealth        418 non-null float64\n",
      "common_debt          536 non-null float64\n",
      "time_s               1600 non-null float64\n",
      "short_description    1602 non-null object\n",
      "full_description     1602 non-null object\n",
      "dtypes: bool(1), float64(10), int64(1), object(6)\n",
      "memory usage: 226.8+ KB\n"
     ]
    }
   ],
   "source": [
    "data.info()"
   ]
  },
  {
   "cell_type": "code",
   "execution_count": 319,
   "metadata": {},
   "outputs": [
    {
     "data": {
      "text/html": [
       "<div>\n",
       "<style scoped>\n",
       "    .dataframe tbody tr th:only-of-type {\n",
       "        vertical-align: middle;\n",
       "    }\n",
       "\n",
       "    .dataframe tbody tr th {\n",
       "        vertical-align: top;\n",
       "    }\n",
       "\n",
       "    .dataframe thead th {\n",
       "        text-align: right;\n",
       "    }\n",
       "</style>\n",
       "<table border=\"1\" class=\"dataframe\">\n",
       "  <thead>\n",
       "    <tr style=\"text-align: right;\">\n",
       "      <th></th>\n",
       "      <th>ad_id</th>\n",
       "      <th>apt_id</th>\n",
       "      <th>new_building</th>\n",
       "      <th>num_bedrooms</th>\n",
       "      <th>floor</th>\n",
       "      <th>primary_size</th>\n",
       "      <th>total_size</th>\n",
       "      <th>price</th>\n",
       "      <th>property_type</th>\n",
       "      <th>ownership_type</th>\n",
       "      <th>construction_year</th>\n",
       "      <th>energy_character</th>\n",
       "      <th>common_expenses</th>\n",
       "      <th>common_wealth</th>\n",
       "      <th>common_debt</th>\n",
       "      <th>time_s</th>\n",
       "      <th>short_description</th>\n",
       "      <th>full_description</th>\n",
       "    </tr>\n",
       "  </thead>\n",
       "  <tbody>\n",
       "    <tr>\n",
       "      <th>0</th>\n",
       "      <td>85287718</td>\n",
       "      <td>120</td>\n",
       "      <td>True</td>\n",
       "      <td>2.0</td>\n",
       "      <td>1.0</td>\n",
       "      <td>48.0</td>\n",
       "      <td>59.0</td>\n",
       "      <td>4150000.0</td>\n",
       "      <td>Leilighet</td>\n",
       "      <td>Eier (Selveier)</td>\n",
       "      <td>2019.0</td>\n",
       "      <td>None</td>\n",
       "      <td>NaN</td>\n",
       "      <td>NaN</td>\n",
       "      <td>NaN</td>\n",
       "      <td>905.0</td>\n",
       "      <td>Hovinenga Hus C ...</td>\n",
       "      <td>Ansvarlig megler...</td>\n",
       "    </tr>\n",
       "    <tr>\n",
       "      <th>1</th>\n",
       "      <td>85287718</td>\n",
       "      <td>143</td>\n",
       "      <td>True</td>\n",
       "      <td>2.0</td>\n",
       "      <td>2.0</td>\n",
       "      <td>56.0</td>\n",
       "      <td>61.0</td>\n",
       "      <td>4350000.0</td>\n",
       "      <td>Leilighet</td>\n",
       "      <td>Eier (Selveier)</td>\n",
       "      <td>2019.0</td>\n",
       "      <td>None</td>\n",
       "      <td>NaN</td>\n",
       "      <td>NaN</td>\n",
       "      <td>NaN</td>\n",
       "      <td>905.0</td>\n",
       "      <td>Hovinenga Hus C ...</td>\n",
       "      <td>Ansvarlig megler...</td>\n",
       "    </tr>\n",
       "    <tr>\n",
       "      <th>2</th>\n",
       "      <td>85287718</td>\n",
       "      <td>183</td>\n",
       "      <td>True</td>\n",
       "      <td>2.0</td>\n",
       "      <td>5.0</td>\n",
       "      <td>51.0</td>\n",
       "      <td>59.0</td>\n",
       "      <td>4350000.0</td>\n",
       "      <td>Leilighet</td>\n",
       "      <td>Eier (Selveier)</td>\n",
       "      <td>2019.0</td>\n",
       "      <td>None</td>\n",
       "      <td>NaN</td>\n",
       "      <td>NaN</td>\n",
       "      <td>NaN</td>\n",
       "      <td>905.0</td>\n",
       "      <td>Hovinenga Hus C ...</td>\n",
       "      <td>Ansvarlig megler...</td>\n",
       "    </tr>\n",
       "    <tr>\n",
       "      <th>3</th>\n",
       "      <td>85287718</td>\n",
       "      <td>187</td>\n",
       "      <td>True</td>\n",
       "      <td>2.0</td>\n",
       "      <td>5.0</td>\n",
       "      <td>48.0</td>\n",
       "      <td>59.0</td>\n",
       "      <td>4350000.0</td>\n",
       "      <td>Leilighet</td>\n",
       "      <td>Eier (Selveier)</td>\n",
       "      <td>2019.0</td>\n",
       "      <td>None</td>\n",
       "      <td>NaN</td>\n",
       "      <td>NaN</td>\n",
       "      <td>NaN</td>\n",
       "      <td>905.0</td>\n",
       "      <td>Hovinenga Hus C ...</td>\n",
       "      <td>Ansvarlig megler...</td>\n",
       "    </tr>\n",
       "    <tr>\n",
       "      <th>4</th>\n",
       "      <td>85287718</td>\n",
       "      <td>204</td>\n",
       "      <td>True</td>\n",
       "      <td>3.0</td>\n",
       "      <td>6.0</td>\n",
       "      <td>86.0</td>\n",
       "      <td>92.0</td>\n",
       "      <td>8495000.0</td>\n",
       "      <td>Leilighet</td>\n",
       "      <td>Eier (Selveier)</td>\n",
       "      <td>2019.0</td>\n",
       "      <td>None</td>\n",
       "      <td>NaN</td>\n",
       "      <td>NaN</td>\n",
       "      <td>NaN</td>\n",
       "      <td>905.0</td>\n",
       "      <td>Hovinenga Hus C ...</td>\n",
       "      <td>Ansvarlig megler...</td>\n",
       "    </tr>\n",
       "  </tbody>\n",
       "</table>\n",
       "</div>"
      ],
      "text/plain": [
       "      ad_id apt_id  new_building  num_bedrooms  floor  primary_size  \\\n",
       "0  85287718    120          True           2.0    1.0          48.0   \n",
       "1  85287718    143          True           2.0    2.0          56.0   \n",
       "2  85287718    183          True           2.0    5.0          51.0   \n",
       "3  85287718    187          True           2.0    5.0          48.0   \n",
       "4  85287718    204          True           3.0    6.0          86.0   \n",
       "\n",
       "   total_size      price property_type   ownership_type  construction_year  \\\n",
       "0        59.0  4150000.0     Leilighet  Eier (Selveier)             2019.0   \n",
       "1        61.0  4350000.0     Leilighet  Eier (Selveier)             2019.0   \n",
       "2        59.0  4350000.0     Leilighet  Eier (Selveier)             2019.0   \n",
       "3        59.0  4350000.0     Leilighet  Eier (Selveier)             2019.0   \n",
       "4        92.0  8495000.0     Leilighet  Eier (Selveier)             2019.0   \n",
       "\n",
       "  energy_character  common_expenses  common_wealth  common_debt  time_s  \\\n",
       "0             None              NaN            NaN          NaN   905.0   \n",
       "1             None              NaN            NaN          NaN   905.0   \n",
       "2             None              NaN            NaN          NaN   905.0   \n",
       "3             None              NaN            NaN          NaN   905.0   \n",
       "4             None              NaN            NaN          NaN   905.0   \n",
       "\n",
       "     short_description     full_description  \n",
       "0  Hovinenga Hus C ...  Ansvarlig megler...  \n",
       "1  Hovinenga Hus C ...  Ansvarlig megler...  \n",
       "2  Hovinenga Hus C ...  Ansvarlig megler...  \n",
       "3  Hovinenga Hus C ...  Ansvarlig megler...  \n",
       "4  Hovinenga Hus C ...  Ansvarlig megler...  "
      ]
     },
     "execution_count": 319,
     "metadata": {},
     "output_type": "execute_result"
    }
   ],
   "source": [
    "data.head()"
   ]
  },
  {
   "cell_type": "code",
   "execution_count": 320,
   "metadata": {},
   "outputs": [],
   "source": [
    "energy_cols = ['energy_letter', 'energy_color']\n",
    "\n",
    "for col in energy_cols:\n",
    "    data[col] = 0\n",
    "\n",
    "energy_res = [[c.strip() for c in char.split('-')] if char is not None else [None, None] for char in data.energy_character]\n",
    "data[energy_cols] = pd.DataFrame(energy_res, columns=energy_cols)"
   ]
  },
  {
   "cell_type": "code",
   "execution_count": 321,
   "metadata": {},
   "outputs": [],
   "source": [
    "num_cols = ['primary_size', 'total_size', 'price', 'time_s', 'num_bedrooms', 'floor', 'construction_year']\n",
    "cat_cols = ['new_building', 'energy_letter', 'energy_color', 'property_type', 'ownership_type']\n",
    "text_cols = ['short_description', 'full_description']"
   ]
  },
  {
   "cell_type": "code",
   "execution_count": 322,
   "metadata": {},
   "outputs": [],
   "source": [
    "num_data = data[num_cols].copy()"
   ]
  },
  {
   "cell_type": "code",
   "execution_count": 323,
   "metadata": {},
   "outputs": [],
   "source": [
    "cat_data = data[cat_cols].copy()"
   ]
  },
  {
   "cell_type": "code",
   "execution_count": 324,
   "metadata": {},
   "outputs": [],
   "source": [
    "for col in cat_cols:\n",
    "    cat_data = cat_data.join(pd.get_dummies(cat_data[col], prefix=col, drop_first=True))\n",
    "    cat_data.drop(col, axis=1, inplace=True)"
   ]
  },
  {
   "cell_type": "code",
   "execution_count": 325,
   "metadata": {},
   "outputs": [],
   "source": [
    "text_data = data[text_cols].copy()"
   ]
  },
  {
   "cell_type": "code",
   "execution_count": 326,
   "metadata": {},
   "outputs": [],
   "source": [
    "# target = num_data.price / num_data.primary_size"
   ]
  },
  {
   "cell_type": "code",
   "execution_count": 327,
   "metadata": {},
   "outputs": [],
   "source": [
    "num_data['price_per_sq_m'] = num_data.price / num_data.primary_size"
   ]
  },
  {
   "cell_type": "code",
   "execution_count": 328,
   "metadata": {},
   "outputs": [],
   "source": [
    "num_cat_data_corr = num_data.join(cat_data).corr()"
   ]
  },
  {
   "cell_type": "code",
   "execution_count": 329,
   "metadata": {},
   "outputs": [
    {
     "data": {
      "text/plain": [
       "<matplotlib.axes._subplots.AxesSubplot at 0x14049b278>"
      ]
     },
     "execution_count": 329,
     "metadata": {},
     "output_type": "execute_result"
    },
    {
     "data": {
      "image/png": "[encoded data removed]",
      "text/plain": [
       "<Figure size 1008x720 with 2 Axes>"
      ]
     },
     "metadata": {},
     "output_type": "display_data"
    }
   ],
   "source": [
    "sns.heatmap(num_cat_data_corr)"
   ]
  },
  {
   "cell_type": "code",
   "execution_count": 330,
   "metadata": {},
   "outputs": [
    {
     "data": {
      "image/png": "[encoded data removed]",
      "text/plain": [
       "<Figure size 864x576 with 1 Axes>"
      ]
     },
     "metadata": {},
     "output_type": "display_data"
    }
   ],
   "source": [
    "corr_col = 'price_per_sq_m'\n",
    "to_plot = num_cat_data_corr[corr_col].drop(corr_col).sort_values(ascending=False)\n",
    "f = plt.figure(figsize=(12, 8))\n",
    "plt.yticks(range(len(to_plot)), to_plot.index)\n",
    "plt.title(f'Correlation Of {corr_col}')\n",
    "plt.barh(range(len(to_plot)), to_plot)\n",
    "plt.show()"
   ]
  },
  {
   "cell_type": "code",
   "execution_count": 462,
   "metadata": {},
   "outputs": [],
   "source": [
    "model_data = num_data.join(cat_data)"
   ]
  },
  {
   "cell_type": "code",
   "execution_count": 463,
   "metadata": {},
   "outputs": [],
   "source": [
    "model_data.dropna(inplace=True)"
   ]
  },
  {
   "cell_type": "code",
   "execution_count": 464,
   "metadata": {},
   "outputs": [
    {
     "data": {
      "text/html": [
       "<div>\n",
       "<style scoped>\n",
       "    .dataframe tbody tr th:only-of-type {\n",
       "        vertical-align: middle;\n",
       "    }\n",
       "\n",
       "    .dataframe tbody tr th {\n",
       "        vertical-align: top;\n",
       "    }\n",
       "\n",
       "    .dataframe thead th {\n",
       "        text-align: right;\n",
       "    }\n",
       "</style>\n",
       "<table border=\"1\" class=\"dataframe\">\n",
       "  <thead>\n",
       "    <tr style=\"text-align: right;\">\n",
       "      <th></th>\n",
       "      <th>primary_size</th>\n",
       "      <th>total_size</th>\n",
       "      <th>price</th>\n",
       "      <th>time_s</th>\n",
       "      <th>num_bedrooms</th>\n",
       "      <th>floor</th>\n",
       "      <th>construction_year</th>\n",
       "      <th>price_per_sq_m</th>\n",
       "      <th>new_building_True</th>\n",
       "      <th>energy_letter_B</th>\n",
       "      <th>energy_letter_C</th>\n",
       "      <th>energy_letter_D</th>\n",
       "      <th>energy_letter_E</th>\n",
       "      <th>energy_letter_F</th>\n",
       "      <th>energy_letter_G</th>\n",
       "      <th>energy_letter_oransje</th>\n",
       "      <th>energy_color_lysegrønn</th>\n",
       "      <th>energy_color_mørkegrønn</th>\n",
       "      <th>energy_color_oransje</th>\n",
       "      <th>energy_color_rød</th>\n",
       "      <th>property_type_Enebolig</th>\n",
       "      <th>property_type_Hytte</th>\n",
       "      <th>property_type_Leilighet</th>\n",
       "      <th>property_type_Rekkehus</th>\n",
       "      <th>property_type_Tomannsbolig</th>\n",
       "      <th>ownership_type_Andel</th>\n",
       "      <th>ownership_type_Eier (Selveier)</th>\n",
       "    </tr>\n",
       "  </thead>\n",
       "  <tbody>\n",
       "    <tr>\n",
       "      <th>count</th>\n",
       "      <td>1221.000000</td>\n",
       "      <td>1221.000000</td>\n",
       "      <td>1.221000e+03</td>\n",
       "      <td>1221.000000</td>\n",
       "      <td>1221.000000</td>\n",
       "      <td>1221.000000</td>\n",
       "      <td>1221.000000</td>\n",
       "      <td>1221.000000</td>\n",
       "      <td>1221.000000</td>\n",
       "      <td>1221.000000</td>\n",
       "      <td>1221.000000</td>\n",
       "      <td>1221.000000</td>\n",
       "      <td>1221.000000</td>\n",
       "      <td>1221.000000</td>\n",
       "      <td>1221.000000</td>\n",
       "      <td>1221.000000</td>\n",
       "      <td>1221.000000</td>\n",
       "      <td>1221.000000</td>\n",
       "      <td>1221.000000</td>\n",
       "      <td>1221.000000</td>\n",
       "      <td>1221.000000</td>\n",
       "      <td>1221.0</td>\n",
       "      <td>1221.000000</td>\n",
       "      <td>1221.000000</td>\n",
       "      <td>1221.000000</td>\n",
       "      <td>1221.000000</td>\n",
       "      <td>1221.000000</td>\n",
       "    </tr>\n",
       "    <tr>\n",
       "      <th>mean</th>\n",
       "      <td>79.688780</td>\n",
       "      <td>87.265274</td>\n",
       "      <td>5.507196e+06</td>\n",
       "      <td>1398.235872</td>\n",
       "      <td>2.244881</td>\n",
       "      <td>3.294021</td>\n",
       "      <td>1996.523342</td>\n",
       "      <td>71754.176945</td>\n",
       "      <td>0.602785</td>\n",
       "      <td>0.044226</td>\n",
       "      <td>0.084357</td>\n",
       "      <td>0.056511</td>\n",
       "      <td>0.040131</td>\n",
       "      <td>0.074529</td>\n",
       "      <td>0.089271</td>\n",
       "      <td>0.001638</td>\n",
       "      <td>0.029484</td>\n",
       "      <td>0.069615</td>\n",
       "      <td>0.117117</td>\n",
       "      <td>0.146601</td>\n",
       "      <td>0.031122</td>\n",
       "      <td>0.0</td>\n",
       "      <td>0.910729</td>\n",
       "      <td>0.035217</td>\n",
       "      <td>0.022113</td>\n",
       "      <td>0.257985</td>\n",
       "      <td>0.721540</td>\n",
       "    </tr>\n",
       "    <tr>\n",
       "      <th>std</th>\n",
       "      <td>35.722355</td>\n",
       "      <td>43.288738</td>\n",
       "      <td>2.791692e+06</td>\n",
       "      <td>823.607322</td>\n",
       "      <td>0.891573</td>\n",
       "      <td>1.928528</td>\n",
       "      <td>36.911420</td>\n",
       "      <td>22710.192387</td>\n",
       "      <td>0.489522</td>\n",
       "      <td>0.205681</td>\n",
       "      <td>0.278036</td>\n",
       "      <td>0.231001</td>\n",
       "      <td>0.196347</td>\n",
       "      <td>0.262738</td>\n",
       "      <td>0.285251</td>\n",
       "      <td>0.040456</td>\n",
       "      <td>0.169228</td>\n",
       "      <td>0.254601</td>\n",
       "      <td>0.321692</td>\n",
       "      <td>0.353853</td>\n",
       "      <td>0.173719</td>\n",
       "      <td>0.0</td>\n",
       "      <td>0.285251</td>\n",
       "      <td>0.184403</td>\n",
       "      <td>0.147111</td>\n",
       "      <td>0.437705</td>\n",
       "      <td>0.448425</td>\n",
       "    </tr>\n",
       "    <tr>\n",
       "      <th>min</th>\n",
       "      <td>14.000000</td>\n",
       "      <td>16.000000</td>\n",
       "      <td>1.514691e+06</td>\n",
       "      <td>207.000000</td>\n",
       "      <td>0.000000</td>\n",
       "      <td>1.000000</td>\n",
       "      <td>1850.000000</td>\n",
       "      <td>17347.783784</td>\n",
       "      <td>0.000000</td>\n",
       "      <td>0.000000</td>\n",
       "      <td>0.000000</td>\n",
       "      <td>0.000000</td>\n",
       "      <td>0.000000</td>\n",
       "      <td>0.000000</td>\n",
       "      <td>0.000000</td>\n",
       "      <td>0.000000</td>\n",
       "      <td>0.000000</td>\n",
       "      <td>0.000000</td>\n",
       "      <td>0.000000</td>\n",
       "      <td>0.000000</td>\n",
       "      <td>0.000000</td>\n",
       "      <td>0.0</td>\n",
       "      <td>0.000000</td>\n",
       "      <td>0.000000</td>\n",
       "      <td>0.000000</td>\n",
       "      <td>0.000000</td>\n",
       "      <td>0.000000</td>\n",
       "    </tr>\n",
       "    <tr>\n",
       "      <th>25%</th>\n",
       "      <td>57.000000</td>\n",
       "      <td>62.000000</td>\n",
       "      <td>3.615219e+06</td>\n",
       "      <td>781.000000</td>\n",
       "      <td>2.000000</td>\n",
       "      <td>2.000000</td>\n",
       "      <td>1978.000000</td>\n",
       "      <td>57142.857143</td>\n",
       "      <td>0.000000</td>\n",
       "      <td>0.000000</td>\n",
       "      <td>0.000000</td>\n",
       "      <td>0.000000</td>\n",
       "      <td>0.000000</td>\n",
       "      <td>0.000000</td>\n",
       "      <td>0.000000</td>\n",
       "      <td>0.000000</td>\n",
       "      <td>0.000000</td>\n",
       "      <td>0.000000</td>\n",
       "      <td>0.000000</td>\n",
       "      <td>0.000000</td>\n",
       "      <td>0.000000</td>\n",
       "      <td>0.0</td>\n",
       "      <td>1.000000</td>\n",
       "      <td>0.000000</td>\n",
       "      <td>0.000000</td>\n",
       "      <td>0.000000</td>\n",
       "      <td>0.000000</td>\n",
       "    </tr>\n",
       "    <tr>\n",
       "      <th>50%</th>\n",
       "      <td>73.000000</td>\n",
       "      <td>79.000000</td>\n",
       "      <td>4.757800e+06</td>\n",
       "      <td>1187.000000</td>\n",
       "      <td>2.000000</td>\n",
       "      <td>3.000000</td>\n",
       "      <td>2019.000000</td>\n",
       "      <td>69499.151515</td>\n",
       "      <td>1.000000</td>\n",
       "      <td>0.000000</td>\n",
       "      <td>0.000000</td>\n",
       "      <td>0.000000</td>\n",
       "      <td>0.000000</td>\n",
       "      <td>0.000000</td>\n",
       "      <td>0.000000</td>\n",
       "      <td>0.000000</td>\n",
       "      <td>0.000000</td>\n",
       "      <td>0.000000</td>\n",
       "      <td>0.000000</td>\n",
       "      <td>0.000000</td>\n",
       "      <td>0.000000</td>\n",
       "      <td>0.0</td>\n",
       "      <td>1.000000</td>\n",
       "      <td>0.000000</td>\n",
       "      <td>0.000000</td>\n",
       "      <td>0.000000</td>\n",
       "      <td>1.000000</td>\n",
       "    </tr>\n",
       "    <tr>\n",
       "      <th>75%</th>\n",
       "      <td>91.000000</td>\n",
       "      <td>97.100000</td>\n",
       "      <td>6.516142e+06</td>\n",
       "      <td>1968.000000</td>\n",
       "      <td>3.000000</td>\n",
       "      <td>4.000000</td>\n",
       "      <td>2019.000000</td>\n",
       "      <td>85568.115942</td>\n",
       "      <td>1.000000</td>\n",
       "      <td>0.000000</td>\n",
       "      <td>0.000000</td>\n",
       "      <td>0.000000</td>\n",
       "      <td>0.000000</td>\n",
       "      <td>0.000000</td>\n",
       "      <td>0.000000</td>\n",
       "      <td>0.000000</td>\n",
       "      <td>0.000000</td>\n",
       "      <td>0.000000</td>\n",
       "      <td>0.000000</td>\n",
       "      <td>0.000000</td>\n",
       "      <td>0.000000</td>\n",
       "      <td>0.0</td>\n",
       "      <td>1.000000</td>\n",
       "      <td>0.000000</td>\n",
       "      <td>0.000000</td>\n",
       "      <td>1.000000</td>\n",
       "      <td>1.000000</td>\n",
       "    </tr>\n",
       "    <tr>\n",
       "      <th>max</th>\n",
       "      <td>368.000000</td>\n",
       "      <td>479.000000</td>\n",
       "      <td>2.310457e+07</td>\n",
       "      <td>3849.000000</td>\n",
       "      <td>8.000000</td>\n",
       "      <td>12.000000</td>\n",
       "      <td>2019.000000</td>\n",
       "      <td>161164.967742</td>\n",
       "      <td>1.000000</td>\n",
       "      <td>1.000000</td>\n",
       "      <td>1.000000</td>\n",
       "      <td>1.000000</td>\n",
       "      <td>1.000000</td>\n",
       "      <td>1.000000</td>\n",
       "      <td>1.000000</td>\n",
       "      <td>1.000000</td>\n",
       "      <td>1.000000</td>\n",
       "      <td>1.000000</td>\n",
       "      <td>1.000000</td>\n",
       "      <td>1.000000</td>\n",
       "      <td>1.000000</td>\n",
       "      <td>0.0</td>\n",
       "      <td>1.000000</td>\n",
       "      <td>1.000000</td>\n",
       "      <td>1.000000</td>\n",
       "      <td>1.000000</td>\n",
       "      <td>1.000000</td>\n",
       "    </tr>\n",
       "  </tbody>\n",
       "</table>\n",
       "</div>"
      ],
      "text/plain": [
       "       primary_size   total_size         price       time_s  num_bedrooms  \\\n",
       "count   1221.000000  1221.000000  1.221000e+03  1221.000000   1221.000000   \n",
       "mean      79.688780    87.265274  5.507196e+06  1398.235872      2.244881   \n",
       "std       35.722355    43.288738  2.791692e+06   823.607322      0.891573   \n",
       "min       14.000000    16.000000  1.514691e+06   207.000000      0.000000   \n",
       "25%       57.000000    62.000000  3.615219e+06   781.000000      2.000000   \n",
       "50%       73.000000    79.000000  4.757800e+06  1187.000000      2.000000   \n",
       "75%       91.000000    97.100000  6.516142e+06  1968.000000      3.000000   \n",
       "max      368.000000   479.000000  2.310457e+07  3849.000000      8.000000   \n",
       "\n",
       "             floor  construction_year  price_per_sq_m  new_building_True  \\\n",
       "count  1221.000000        1221.000000     1221.000000        1221.000000   \n",
       "mean      3.294021        1996.523342    71754.176945           0.602785   \n",
       "std       1.928528          36.911420    22710.192387           0.489522   \n",
       "min       1.000000        1850.000000    17347.783784           0.000000   \n",
       "25%       2.000000        1978.000000    57142.857143           0.000000   \n",
       "50%       3.000000        2019.000000    69499.151515           1.000000   \n",
       "75%       4.000000        2019.000000    85568.115942           1.000000   \n",
       "max      12.000000        2019.000000   161164.967742           1.000000   \n",
       "\n",
       "       energy_letter_B  energy_letter_C  energy_letter_D  energy_letter_E  \\\n",
       "count      1221.000000      1221.000000      1221.000000      1221.000000   \n",
       "mean          0.044226         0.084357         0.056511         0.040131   \n",
       "std           0.205681         0.278036         0.231001         0.196347   \n",
       "min           0.000000         0.000000         0.000000         0.000000   \n",
       "25%           0.000000         0.000000         0.000000         0.000000   \n",
       "50%           0.000000         0.000000         0.000000         0.000000   \n",
       "75%           0.000000         0.000000         0.000000         0.000000   \n",
       "max           1.000000         1.000000         1.000000         1.000000   \n",
       "\n",
       "       energy_letter_F  energy_letter_G  energy_letter_oransje  \\\n",
       "count      1221.000000      1221.000000          1221.000000     \n",
       "mean          0.074529         0.089271             0.001638     \n",
       "std           0.262738         0.285251             0.040456     \n",
       "min           0.000000         0.000000             0.000000     \n",
       "25%           0.000000         0.000000             0.000000     \n",
       "50%           0.000000         0.000000             0.000000     \n",
       "75%           0.000000         0.000000             0.000000     \n",
       "max           1.000000         1.000000             1.000000     \n",
       "\n",
       "       energy_color_lysegrønn  energy_color_mørkegrønn  energy_color_oransje  \\\n",
       "count          1221.000000             1221.000000              1221.000000    \n",
       "mean              0.029484                0.069615                 0.117117    \n",
       "std               0.169228                0.254601                 0.321692    \n",
       "min               0.000000                0.000000                 0.000000    \n",
       "25%               0.000000                0.000000                 0.000000    \n",
       "50%               0.000000                0.000000                 0.000000    \n",
       "75%               0.000000                0.000000                 0.000000    \n",
       "max               1.000000                1.000000                 1.000000    \n",
       "\n",
       "       energy_color_rød  property_type_Enebolig  property_type_Hytte  \\\n",
       "count       1221.000000          1221.000000                  1221.0   \n",
       "mean           0.146601             0.031122                     0.0   \n",
       "std            0.353853             0.173719                     0.0   \n",
       "min            0.000000             0.000000                     0.0   \n",
       "25%            0.000000             0.000000                     0.0   \n",
       "50%            0.000000             0.000000                     0.0   \n",
       "75%            0.000000             0.000000                     0.0   \n",
       "max            1.000000             1.000000                     0.0   \n",
       "\n",
       "       property_type_Leilighet  property_type_Rekkehus  \\\n",
       "count          1221.000000              1221.000000      \n",
       "mean              0.910729                 0.035217      \n",
       "std               0.285251                 0.184403      \n",
       "min               0.000000                 0.000000      \n",
       "25%               1.000000                 0.000000      \n",
       "50%               1.000000                 0.000000      \n",
       "75%               1.000000                 0.000000      \n",
       "max               1.000000                 1.000000      \n",
       "\n",
       "       property_type_Tomannsbolig  ownership_type_Andel  \\\n",
       "count          1221.000000                 1221.000000    \n",
       "mean              0.022113                    0.257985    \n",
       "std               0.147111                    0.437705    \n",
       "min               0.000000                    0.000000    \n",
       "25%               0.000000                    0.000000    \n",
       "50%               0.000000                    0.000000    \n",
       "75%               0.000000                    1.000000    \n",
       "max               1.000000                    1.000000    \n",
       "\n",
       "       ownership_type_Eier (Selveier)  \n",
       "count          1221.000000             \n",
       "mean              0.721540             \n",
       "std               0.448425             \n",
       "min               0.000000             \n",
       "25%               0.000000             \n",
       "50%               1.000000             \n",
       "75%               1.000000             \n",
       "max               1.000000             "
      ]
     },
     "execution_count": 464,
     "metadata": {},
     "output_type": "execute_result"
    }
   ],
   "source": [
    "model_data.describe()"
   ]
  },
  {
   "cell_type": "code",
   "execution_count": 465,
   "metadata": {},
   "outputs": [
    {
     "name": "stdout",
     "output_type": "stream",
     "text": [
      "<class 'pandas.core.frame.DataFrame'>\n",
      "Int64Index: 1221 entries, 0 to 1858\n",
      "Data columns (total 27 columns):\n",
      "primary_size                      1221 non-null float64\n",
      "total_size                        1221 non-null float64\n",
      "price                             1221 non-null float64\n",
      "time_s                            1221 non-null float64\n",
      "num_bedrooms                      1221 non-null float64\n",
      "floor                             1221 non-null float64\n",
      "construction_year                 1221 non-null float64\n",
      "price_per_sq_m                    1221 non-null float64\n",
      "new_building_True                 1221 non-null uint8\n",
      "energy_letter_B                   1221 non-null uint8\n",
      "energy_letter_C                   1221 non-null uint8\n",
      "energy_letter_D                   1221 non-null uint8\n",
      "energy_letter_E                   1221 non-null uint8\n",
      "energy_letter_F                   1221 non-null uint8\n",
      "energy_letter_G                   1221 non-null uint8\n",
      "energy_letter_oransje             1221 non-null uint8\n",
      "energy_color_lysegrønn            1221 non-null uint8\n",
      "energy_color_mørkegrønn           1221 non-null uint8\n",
      "energy_color_oransje              1221 non-null uint8\n",
      "energy_color_rød                  1221 non-null uint8\n",
      "property_type_Enebolig            1221 non-null uint8\n",
      "property_type_Hytte               1221 non-null uint8\n",
      "property_type_Leilighet           1221 non-null uint8\n",
      "property_type_Rekkehus            1221 non-null uint8\n",
      "property_type_Tomannsbolig        1221 non-null uint8\n",
      "ownership_type_Andel              1221 non-null uint8\n",
      "ownership_type_Eier (Selveier)    1221 non-null uint8\n",
      "dtypes: float64(8), uint8(19)\n",
      "memory usage: 108.5 KB\n"
     ]
    }
   ],
   "source": [
    "model_data.info()"
   ]
  },
  {
   "cell_type": "code",
   "execution_count": 466,
   "metadata": {},
   "outputs": [
    {
     "data": {
      "text/plain": [
       "Index(['primary_size', 'total_size', 'price', 'time_s', 'num_bedrooms',\n",
       "       'floor', 'construction_year', 'price_per_sq_m', 'new_building_True',\n",
       "       'energy_letter_B', 'energy_letter_C', 'energy_letter_D',\n",
       "       'energy_letter_E', 'energy_letter_F', 'energy_letter_G',\n",
       "       'energy_letter_oransje', 'energy_color_lysegrønn',\n",
       "       'energy_color_mørkegrønn', 'energy_color_oransje', 'energy_color_rød',\n",
       "       'property_type_Enebolig', 'property_type_Hytte',\n",
       "       'property_type_Leilighet', 'property_type_Rekkehus',\n",
       "       'property_type_Tomannsbolig', 'ownership_type_Andel',\n",
       "       'ownership_type_Eier (Selveier)'],\n",
       "      dtype='object')"
      ]
     },
     "execution_count": 466,
     "metadata": {},
     "output_type": "execute_result"
    }
   ],
   "source": [
    "model_data.columns"
   ]
  },
  {
   "cell_type": "code",
   "execution_count": 467,
   "metadata": {},
   "outputs": [],
   "source": [
    "target = 'price'"
   ]
  },
  {
   "cell_type": "code",
   "execution_count": 468,
   "metadata": {},
   "outputs": [],
   "source": [
    "X = model_data.drop(['price_per_sq_m', 'total_size', 'price'], axis=1)\n",
    "y = model_data[[target]].rename(columns={target: 'target'})"
   ]
  },
  {
   "cell_type": "code",
   "execution_count": 469,
   "metadata": {},
   "outputs": [],
   "source": [
    "random_seed = 42\n",
    "test_size = 0.25"
   ]
  },
  {
   "cell_type": "code",
   "execution_count": 470,
   "metadata": {},
   "outputs": [],
   "source": [
    "selected_cols = ['primary_size', 'time_s', 'num_bedrooms',\n",
    "                 'floor', 'construction_year', 'new_building_True',\n",
    "                 'property_type_Enebolig', 'property_type_Leilighet',\n",
    "                 'property_type_Rekkehus', 'property_type_Tomannsbolig']"
   ]
  },
  {
   "cell_type": "code",
   "execution_count": 471,
   "metadata": {},
   "outputs": [],
   "source": [
    "X_train, X_test, y_train, y_test = train_test_split(X[selected_cols], y, test_size=test_size, random_state=random_seed)"
   ]
  },
  {
   "cell_type": "code",
   "execution_count": 472,
   "metadata": {},
   "outputs": [
    {
     "data": {
      "text/plain": [
       "(915, 10)"
      ]
     },
     "execution_count": 472,
     "metadata": {},
     "output_type": "execute_result"
    }
   ],
   "source": [
    "X_train.shape"
   ]
  },
  {
   "cell_type": "code",
   "execution_count": 473,
   "metadata": {},
   "outputs": [],
   "source": [
    "def create_model():\n",
    "    model = Sequential()\n",
    "    model.add(Dense(32, input_dim=X_train.shape[1], activation=\"relu\"))\n",
    "    model.add(Dense(16, activation=\"relu\"))\n",
    "    model.add(Dropout(0.25))\n",
    "    model.add(Dense(8, activation=\"relu\"))\n",
    "    model.add(Dropout(0.25))\n",
    "    model.add(Dense(4, activation=\"relu\"))\n",
    "    model.add(Dropout(0.25))\n",
    "    model.add(Dense(1, activation=\"linear\"))\n",
    "    model.compile(loss='mean_absolute_error', optimizer='adam')\n",
    "    return model"
   ]
  },
  {
   "cell_type": "code",
   "execution_count": 474,
   "metadata": {},
   "outputs": [],
   "source": [
    "steps = []\n",
    "steps.append(('standardize', StandardScaler()))\n",
    "steps.append(('dl', KerasRegressor(build_fn=create_model, epochs=700, batch_size=700, verbose=False)))\n",
    "# steps.append(('ada', AdaBoostRegressor()))"
   ]
  },
  {
   "cell_type": "code",
   "execution_count": 475,
   "metadata": {},
   "outputs": [],
   "source": [
    "pipeline = Pipeline(steps)"
   ]
  },
  {
   "cell_type": "code",
   "execution_count": 476,
   "metadata": {},
   "outputs": [],
   "source": [
    "scaler_y = StandardScaler().fit(y_train)"
   ]
  },
  {
   "cell_type": "code",
   "execution_count": 477,
   "metadata": {},
   "outputs": [
    {
     "data": {
      "text/plain": [
       "Pipeline(memory=None,\n",
       "         steps=[('standardize',\n",
       "                 StandardScaler(copy=True, with_mean=True, with_std=True)),\n",
       "                ('dl',\n",
       "                 <keras.wrappers.scikit_learn.KerasRegressor object at 0x14ae4bfd0>)],\n",
       "         verbose=False)"
      ]
     },
     "execution_count": 477,
     "metadata": {},
     "output_type": "execute_result"
    }
   ],
   "source": [
    "pipeline.fit(X_train, scaler_y.transform(y_train).ravel())"
   ]
  },
  {
   "cell_type": "code",
   "execution_count": 478,
   "metadata": {},
   "outputs": [],
   "source": [
    "pred = scaler_y.inverse_transform(pipeline.predict(X_test))"
   ]
  },
  {
   "cell_type": "code",
   "execution_count": 479,
   "metadata": {},
   "outputs": [],
   "source": [
    "y_pred = pd.DataFrame(pred, index=X_test.index, columns=['predicted'])"
   ]
  },
  {
   "cell_type": "code",
   "execution_count": 480,
   "metadata": {},
   "outputs": [
    {
     "name": "stdout",
     "output_type": "stream",
     "text": [
      "The mae is: 959725.86193\n"
     ]
    }
   ],
   "source": [
    "print(f'The mae is: {mean_absolute_error(y_test, y_pred):.5f}')"
   ]
  },
  {
   "cell_type": "code",
   "execution_count": 481,
   "metadata": {},
   "outputs": [],
   "source": [
    "res = y_pred.join(y_test)"
   ]
  },
  {
   "cell_type": "code",
   "execution_count": 482,
   "metadata": {},
   "outputs": [
    {
     "data": {
      "text/html": [
       "<style  type=\"text/css\" >\n",
       "</style><table id=\"T_d366d1f6_937e_11e9_b744_acde48001122\" ><thead>    <tr>        <th class=\"blank level0\" ></th>        <th class=\"col_heading level0 col0\" >predicted</th>        <th class=\"col_heading level0 col1\" >target</th>    </tr></thead><tbody>\n",
       "                <tr>\n",
       "                        <th id=\"T_d366d1f6_937e_11e9_b744_acde48001122level0_row0\" class=\"row_heading level0 row0\" >726</th>\n",
       "                        <td id=\"T_d366d1f6_937e_11e9_b744_acde48001122row0_col0\" class=\"data row0 col0\" >3792639.7500</td>\n",
       "                        <td id=\"T_d366d1f6_937e_11e9_b744_acde48001122row0_col1\" class=\"data row0 col1\" >3658788.0000</td>\n",
       "            </tr>\n",
       "            <tr>\n",
       "                        <th id=\"T_d366d1f6_937e_11e9_b744_acde48001122level0_row1\" class=\"row_heading level0 row1\" >308</th>\n",
       "                        <td id=\"T_d366d1f6_937e_11e9_b744_acde48001122row1_col0\" class=\"data row1 col0\" >3840688.2500</td>\n",
       "                        <td id=\"T_d366d1f6_937e_11e9_b744_acde48001122row1_col1\" class=\"data row1 col1\" >3595000.0000</td>\n",
       "            </tr>\n",
       "            <tr>\n",
       "                        <th id=\"T_d366d1f6_937e_11e9_b744_acde48001122level0_row2\" class=\"row_heading level0 row2\" >44</th>\n",
       "                        <td id=\"T_d366d1f6_937e_11e9_b744_acde48001122row2_col0\" class=\"data row2 col0\" >9421062.0000</td>\n",
       "                        <td id=\"T_d366d1f6_937e_11e9_b744_acde48001122row2_col1\" class=\"data row2 col1\" >15890120.0000</td>\n",
       "            </tr>\n",
       "            <tr>\n",
       "                        <th id=\"T_d366d1f6_937e_11e9_b744_acde48001122level0_row3\" class=\"row_heading level0 row3\" >1465</th>\n",
       "                        <td id=\"T_d366d1f6_937e_11e9_b744_acde48001122row3_col0\" class=\"data row3 col0\" >6029424.0000</td>\n",
       "                        <td id=\"T_d366d1f6_937e_11e9_b744_acde48001122row3_col1\" class=\"data row3 col1\" >6158357.0000</td>\n",
       "            </tr>\n",
       "            <tr>\n",
       "                        <th id=\"T_d366d1f6_937e_11e9_b744_acde48001122level0_row4\" class=\"row_heading level0 row4\" >1045</th>\n",
       "                        <td id=\"T_d366d1f6_937e_11e9_b744_acde48001122row4_col0\" class=\"data row4 col0\" >5561067.5000</td>\n",
       "                        <td id=\"T_d366d1f6_937e_11e9_b744_acde48001122row4_col1\" class=\"data row4 col1\" >4839722.0000</td>\n",
       "            </tr>\n",
       "    </tbody></table>"
      ],
      "text/plain": [
       "<pandas.io.formats.style.Styler at 0x14c2cbd30>"
      ]
     },
     "execution_count": 482,
     "metadata": {},
     "output_type": "execute_result"
    }
   ],
   "source": [
    "res.head().style.format('{:.4f}')"
   ]
  },
  {
   "cell_type": "code",
   "execution_count": 483,
   "metadata": {},
   "outputs": [],
   "source": [
    "res['pred_target_diff'] = res['predicted'] - res['target']"
   ]
  },
  {
   "cell_type": "code",
   "execution_count": 484,
   "metadata": {},
   "outputs": [
    {
     "data": {
      "text/plain": [
       "<matplotlib.axes._subplots.AxesSubplot at 0x14c27fa20>"
      ]
     },
     "execution_count": 484,
     "metadata": {},
     "output_type": "execute_result"
    },
    {
     "data": {
      "image/png": "[encoded data removed]",
      "text/plain": [
       "<Figure size 1008x720 with 1 Axes>"
      ]
     },
     "metadata": {},
     "output_type": "display_data"
    }
   ],
   "source": [
    "sns.distplot(res.pred_target_diff)"
   ]
  },
  {
   "cell_type": "code",
   "execution_count": null,
   "metadata": {},
   "outputs": [],
   "source": []
  },
  {
   "cell_type": "code",
   "execution_count": null,
   "metadata": {},
   "outputs": [],
   "source": []
  }
 ],
 "metadata": {
  "kernelspec": {
   "display_name": "Python 3",
   "language": "python",
   "name": "python3"
  },
  "language_info": {
   "codemirror_mode": {
    "name": "ipython",
    "version": 3
   },
   "file_extension": ".py",
   "mimetype": "text/x-python",
   "name": "python",
   "nbconvert_exporter": "python",
   "pygments_lexer": "ipython3",
   "version": "3.7.3"
  }
 },
 "nbformat": 4,
 "nbformat_minor": 2
}
