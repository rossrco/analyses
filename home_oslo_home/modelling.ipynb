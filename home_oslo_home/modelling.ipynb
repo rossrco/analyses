{
 "cells": [
  {
   "cell_type": "code",
   "execution_count": 1,
   "metadata": {},
   "outputs": [],
   "source": [
    "import os\n",
    "import re\n",
    "import pandas as pd\n",
    "import numpy as np\n",
    "import scipy\n",
    "from google.cloud import bigquery\n",
    "import matplotlib.pyplot as plt\n",
    "import seaborn as sns"
   ]
  },
  {
   "cell_type": "code",
   "execution_count": 2,
   "metadata": {},
   "outputs": [
    {
     "name": "stderr",
     "output_type": "stream",
     "text": [
      "Using TensorFlow backend.\n"
     ]
    }
   ],
   "source": [
    "import tensorflow\n",
    "from keras.models import Sequential\n",
    "from keras.layers import Dense, Dropout\n",
    "from keras.wrappers.scikit_learn import KerasRegressor\n",
    "from sklearn.decomposition import PCA\n",
    "from sklearn.feature_selection import RFECV\n",
    "from sklearn.model_selection import train_test_split, KFold, cross_val_score, learning_curve, cross_validate\n",
    "from sklearn.preprocessing import MinMaxScaler, StandardScaler, normalize, Normalizer, MaxAbsScaler\n",
    "from sklearn.metrics import mean_absolute_error, median_absolute_error, r2_score, explained_variance_score, make_scorer\n",
    "from sklearn.ensemble import AdaBoostRegressor, IsolationForest\n",
    "from sklearn.pipeline import make_pipeline, Pipeline\n",
    "from sklearn.linear_model import LinearRegression\n",
    "from sklearn.neighbors import KNeighborsRegressor, RadiusNeighborsRegressor\n",
    "from sklearn.naive_bayes import ComplementNB, MultinomialNB, GaussianNB\n",
    "from sklearn.neural_network import MLPRegressor"
   ]
  },
  {
   "cell_type": "code",
   "execution_count": 3,
   "metadata": {},
   "outputs": [],
   "source": [
    "#set the visual style\n",
    "pd.set_option('display.max_colwidth', 20)\n",
    "pd.set_option('display.max_columns', 100)\n",
    "pd.set_option('display.max_rows', 5000)\n",
    "from IPython.display import display, HTML\n",
    "%matplotlib inline\n",
    "sns.set(style='dark')\n",
    "plt.rcParams['figure.figsize'] = [14, 10]"
   ]
  },
  {
   "cell_type": "markdown",
   "metadata": {},
   "source": [
    "# Import Data"
   ]
  },
  {
   "cell_type": "code",
   "execution_count": 4,
   "metadata": {},
   "outputs": [],
   "source": [
    "query_dir = 'queries'"
   ]
  },
  {
   "cell_type": "code",
   "execution_count": 5,
   "metadata": {},
   "outputs": [],
   "source": [
    "queries = {}\n",
    "for query_file in (os.listdir(query_dir)):\n",
    "    with open(os.path.join(query_dir, query_file), 'r') as query:\n",
    "        queries[query_file] = query.read()"
   ]
  },
  {
   "cell_type": "code",
   "execution_count": 6,
   "metadata": {},
   "outputs": [],
   "source": [
    "query_client = bigquery.Client()"
   ]
  },
  {
   "cell_type": "code",
   "execution_count": 7,
   "metadata": {},
   "outputs": [],
   "source": [
    "request = queries['combined_analysis_data.sql']"
   ]
  },
  {
   "cell_type": "code",
   "execution_count": 8,
   "metadata": {},
   "outputs": [],
   "source": [
    "data = query_client.query(request).to_dataframe()"
   ]
  },
  {
   "cell_type": "code",
   "execution_count": 9,
   "metadata": {},
   "outputs": [],
   "source": [
    "data = data[(data.price.notna()) & (data.primary_size.notna())].copy()"
   ]
  },
  {
   "cell_type": "code",
   "execution_count": 10,
   "metadata": {},
   "outputs": [
    {
     "name": "stdout",
     "output_type": "stream",
     "text": [
      "<class 'pandas.core.frame.DataFrame'>\n",
      "Int64Index: 3797 entries, 0 to 4246\n",
      "Data columns (total 22 columns):\n",
      "ad_id                 3797 non-null int64\n",
      "apt_id                2628 non-null object\n",
      "new_building          3797 non-null bool\n",
      "num_bedrooms          3738 non-null float64\n",
      "floor                 3119 non-null float64\n",
      "primary_size          3797 non-null float64\n",
      "total_size            3705 non-null float64\n",
      "price                 3797 non-null float64\n",
      "property_type         3797 non-null object\n",
      "ownership_type        3797 non-null object\n",
      "construction_year     3794 non-null float64\n",
      "energy_character      1433 non-null object\n",
      "common_expenses       883 non-null float64\n",
      "brokerage_expenses    1166 non-null float64\n",
      "common_wealth         637 non-null float64\n",
      "common_debt           1043 non-null float64\n",
      "time_s                3657 non-null float64\n",
      "lat                   3657 non-null float64\n",
      "lng                   3657 non-null float64\n",
      "address               3797 non-null object\n",
      "short_description     3797 non-null object\n",
      "full_description      3797 non-null object\n",
      "dtypes: bool(1), float64(13), int64(1), object(7)\n",
      "memory usage: 656.3+ KB\n"
     ]
    }
   ],
   "source": [
    "data.info()"
   ]
  },
  {
   "cell_type": "code",
   "execution_count": 11,
   "metadata": {},
   "outputs": [],
   "source": [
    "request = queries['all_post_code_places.sql']"
   ]
  },
  {
   "cell_type": "code",
   "execution_count": 12,
   "metadata": {},
   "outputs": [],
   "source": [
    "post_code_data = query_client.query(request).to_dataframe()"
   ]
  },
  {
   "cell_type": "code",
   "execution_count": 13,
   "metadata": {},
   "outputs": [
    {
     "name": "stdout",
     "output_type": "stream",
     "text": [
      "<class 'pandas.core.frame.DataFrame'>\n",
      "RangeIndex: 117498 entries, 0 to 117497\n",
      "Data columns (total 6 columns):\n",
      "post_code          117498 non-null object\n",
      "radius             117498 non-null int64\n",
      "place_name         117498 non-null object\n",
      "place_type         117498 non-null object\n",
      "place_attribute    117498 non-null object\n",
      "attribute_value    42240 non-null float64\n",
      "dtypes: float64(1), int64(1), object(4)\n",
      "memory usage: 5.4+ MB\n"
     ]
    }
   ],
   "source": [
    "post_code_data.info()"
   ]
  },
  {
   "cell_type": "markdown",
   "metadata": {},
   "source": [
    "# Feature Engineering\n",
    "## Energy Letter and Color"
   ]
  },
  {
   "cell_type": "code",
   "execution_count": 14,
   "metadata": {},
   "outputs": [],
   "source": [
    "energy_cols = ['energy_letter', 'energy_color']\n",
    "\n",
    "for col in energy_cols:\n",
    "    data[col] = 0\n",
    "\n",
    "energy_res = [[c.strip() for c in char.split('-')] if char is not None and '-' in char else [None, None] for char in data.energy_character]\n",
    "data[energy_cols] = pd.DataFrame(energy_res, columns=energy_cols)"
   ]
  },
  {
   "cell_type": "markdown",
   "metadata": {},
   "source": [
    "## Post Codes"
   ]
  },
  {
   "cell_type": "code",
   "execution_count": 15,
   "metadata": {},
   "outputs": [],
   "source": [
    "def get_postcode_from_address(address):\n",
    "    try:\n",
    "        return re.search(r'(.*)(\\d{4})(.*)', address, re.I)[2]\n",
    "    except:\n",
    "        return None"
   ]
  },
  {
   "cell_type": "code",
   "execution_count": 16,
   "metadata": {},
   "outputs": [],
   "source": [
    "data['post_code'] = data.address.apply(get_postcode_from_address)"
   ]
  },
  {
   "cell_type": "markdown",
   "metadata": {},
   "source": [
    "## Settlement Names"
   ]
  },
  {
   "cell_type": "code",
   "execution_count": 17,
   "metadata": {},
   "outputs": [],
   "source": [
    "post_codes_no = pd.read_csv('post_codes_no.csv', dtype={'post_code': str}).set_index('post_code')"
   ]
  },
  {
   "cell_type": "code",
   "execution_count": 18,
   "metadata": {},
   "outputs": [
    {
     "name": "stdout",
     "output_type": "stream",
     "text": [
      "<class 'pandas.core.frame.DataFrame'>\n",
      "Index: 5057 entries, 0001 to 9991\n",
      "Data columns (total 4 columns):\n",
      "name               5057 non-null object\n",
      "municipality_id    5057 non-null int64\n",
      "municipality       5057 non-null object\n",
      "type               5057 non-null object\n",
      "dtypes: int64(1), object(3)\n",
      "memory usage: 197.5+ KB\n"
     ]
    }
   ],
   "source": [
    "post_codes_no.info()"
   ]
  },
  {
   "cell_type": "code",
   "execution_count": 19,
   "metadata": {},
   "outputs": [],
   "source": [
    "data['settlement_name'] = pd.merge(data[['ad_id', 'post_code']], post_codes_no, how='left', left_on='post_code', right_index=True)['municipality']"
   ]
  },
  {
   "cell_type": "markdown",
   "metadata": {},
   "source": [
    "## Oslo Neighborhood Names"
   ]
  },
  {
   "cell_type": "code",
   "execution_count": 20,
   "metadata": {},
   "outputs": [],
   "source": [
    "post_codes_osl = pd.read_csv('post_codes.csv', dtype={'post_code':str}).set_index('post_code', drop=True)"
   ]
  },
  {
   "cell_type": "code",
   "execution_count": 21,
   "metadata": {},
   "outputs": [
    {
     "name": "stdout",
     "output_type": "stream",
     "text": [
      "<class 'pandas.core.frame.DataFrame'>\n",
      "Index: 995 entries, 0001 to 2185\n",
      "Data columns (total 5 columns):\n",
      "lat                  995 non-null float64\n",
      "lng                  995 non-null float64\n",
      "municipality         995 non-null object\n",
      "neighborhood_name    940 non-null object\n",
      "population           590 non-null float64\n",
      "dtypes: float64(3), object(2)\n",
      "memory usage: 46.6+ KB\n"
     ]
    }
   ],
   "source": [
    "post_codes_osl.info()"
   ]
  },
  {
   "cell_type": "code",
   "execution_count": 22,
   "metadata": {},
   "outputs": [],
   "source": [
    "data['neighborhood_name'] = pd.merge(data[['ad_id', 'post_code']], post_codes_osl, how='left', left_on='post_code', right_index=True)['neighborhood_name']"
   ]
  },
  {
   "cell_type": "markdown",
   "metadata": {},
   "source": [
    "## Combine Oslo Neighborhood Names and Settlement Names"
   ]
  },
  {
   "cell_type": "code",
   "execution_count": 23,
   "metadata": {},
   "outputs": [],
   "source": [
    "data['area_name'] = [s_n.lower() if s_n != 'OSLO' else n_n.lower() for s_n, n_n in zip(data['settlement_name'], data['neighborhood_name'])]"
   ]
  },
  {
   "cell_type": "code",
   "execution_count": 24,
   "metadata": {},
   "outputs": [],
   "source": [
    "data['address_oslo'] = data['settlement_name'].apply(lambda s_n: True if s_n == 'OSLO' else False)"
   ]
  },
  {
   "cell_type": "markdown",
   "metadata": {},
   "source": [
    "# Data Imputation"
   ]
  },
  {
   "cell_type": "code",
   "execution_count": 25,
   "metadata": {},
   "outputs": [
    {
     "name": "stdout",
     "output_type": "stream",
     "text": [
      "<class 'pandas.core.frame.DataFrame'>\n",
      "Int64Index: 3797 entries, 0 to 4246\n",
      "Data columns (total 29 columns):\n",
      "ad_id                 3797 non-null int64\n",
      "apt_id                2628 non-null object\n",
      "new_building          3797 non-null bool\n",
      "num_bedrooms          3738 non-null float64\n",
      "floor                 3119 non-null float64\n",
      "primary_size          3797 non-null float64\n",
      "total_size            3705 non-null float64\n",
      "price                 3797 non-null float64\n",
      "property_type         3797 non-null object\n",
      "ownership_type        3797 non-null object\n",
      "construction_year     3794 non-null float64\n",
      "energy_character      1433 non-null object\n",
      "common_expenses       883 non-null float64\n",
      "brokerage_expenses    1166 non-null float64\n",
      "common_wealth         637 non-null float64\n",
      "common_debt           1043 non-null float64\n",
      "time_s                3657 non-null float64\n",
      "lat                   3657 non-null float64\n",
      "lng                   3657 non-null float64\n",
      "address               3797 non-null object\n",
      "short_description     3797 non-null object\n",
      "full_description      3797 non-null object\n",
      "energy_letter         1261 non-null object\n",
      "energy_color          1261 non-null object\n",
      "post_code             3797 non-null object\n",
      "settlement_name       3797 non-null object\n",
      "neighborhood_name     3796 non-null object\n",
      "area_name             3797 non-null object\n",
      "address_oslo          3797 non-null bool\n",
      "dtypes: bool(2), float64(13), int64(1), object(13)\n",
      "memory usage: 838.0+ KB\n"
     ]
    }
   ],
   "source": [
    "data.info()"
   ]
  },
  {
   "cell_type": "markdown",
   "metadata": {},
   "source": [
    "## Impute Number Of Bedrooms"
   ]
  },
  {
   "cell_type": "code",
   "execution_count": 26,
   "metadata": {},
   "outputs": [],
   "source": [
    "data['primary_size_bin'] = pd.cut(data['primary_size'], bins=[-np.inf, 30, 40, 50, 60, 70, 80, 100, 150, 200, np.inf])"
   ]
  },
  {
   "cell_type": "code",
   "execution_count": 27,
   "metadata": {},
   "outputs": [],
   "source": [
    "num_bedrooms_grouping = data.groupby(['primary_size_bin'])['num_bedrooms'].median()"
   ]
  },
  {
   "cell_type": "code",
   "execution_count": 28,
   "metadata": {},
   "outputs": [],
   "source": [
    "data['num_bedrooms'] = [num_bedrooms_grouping.loc[size_bin] if np.isnan(num_bedr) else num_bedr\n",
    "                        for size_bin, num_bedr\n",
    "                        in zip(data['primary_size_bin'], data['num_bedrooms'])]"
   ]
  },
  {
   "cell_type": "markdown",
   "metadata": {},
   "source": [
    "## Impute Floor"
   ]
  },
  {
   "cell_type": "code",
   "execution_count": 29,
   "metadata": {},
   "outputs": [],
   "source": [
    "data['floor_level'] = [fl if prop_type == 'Leilighet' else 1 for fl, prop_type in zip(data['floor'], data['property_type'])]\n",
    "data['num_floors'] = [fl if prop_type != 'Leilighet' else 1 for fl, prop_type in zip(data['floor'], data['property_type'])]\n",
    "\n",
    "data['floor_level'] = data['floor_level'].fillna(1)\n",
    "data['num_floors'] = data['num_floors'].fillna(1)\n",
    "data['floor'] = data['floor'].fillna(2)"
   ]
  },
  {
   "cell_type": "markdown",
   "metadata": {},
   "source": [
    "## Impute Total Size"
   ]
  },
  {
   "cell_type": "code",
   "execution_count": 30,
   "metadata": {},
   "outputs": [],
   "source": [
    "data['total_size'] = [primary_size if np.isnan(total_size) else total_size\n",
    "                      for primary_size, total_size\n",
    "                      in zip(data['primary_size'], data['total_size'])]"
   ]
  },
  {
   "cell_type": "markdown",
   "metadata": {},
   "source": [
    "## Impute Construction Year"
   ]
  },
  {
   "cell_type": "code",
   "execution_count": 31,
   "metadata": {},
   "outputs": [],
   "source": [
    "data['construction_year'].fillna(data[data['new_building'] == False]['construction_year'].median(), inplace=True) "
   ]
  },
  {
   "cell_type": "markdown",
   "metadata": {},
   "source": [
    "## Impute Energy Character"
   ]
  },
  {
   "cell_type": "code",
   "execution_count": 32,
   "metadata": {},
   "outputs": [],
   "source": [
    "constr_year_bins = [-np.inf, 1900, 1945, 1965, 1970, 1980, 1990, 2000, 2010, np.inf]\n",
    "data['construction_year_bin'] = pd.cut(data['construction_year'],\n",
    "                                       bins=constr_year_bins)"
   ]
  },
  {
   "cell_type": "code",
   "execution_count": 33,
   "metadata": {},
   "outputs": [],
   "source": [
    "to_plot = data.groupby(['construction_year_bin', 'energy_letter'])['energy_letter'].count()"
   ]
  },
  {
   "cell_type": "code",
   "execution_count": 34,
   "metadata": {},
   "outputs": [],
   "source": [
    "most_common_energy_c = []\n",
    "constr_year_index = []\n",
    "for y in to_plot.index.get_level_values('construction_year_bin').unique():\n",
    "    most_common_energy_c.append(to_plot.loc[y].sort_values(ascending=False).index[0])\n",
    "    constr_year_index.append(y)"
   ]
  },
  {
   "cell_type": "code",
   "execution_count": 35,
   "metadata": {},
   "outputs": [],
   "source": [
    "energy_letter_grouping = pd.Series(most_common_energy_c, index=constr_year_index)"
   ]
  },
  {
   "cell_type": "code",
   "execution_count": 36,
   "metadata": {},
   "outputs": [],
   "source": [
    "def imnpute_energy_letter(letter, construction_year_bin):\n",
    "    if str(letter) in 'ABCDEFG':\n",
    "        return letter\n",
    "    else:\n",
    "        return energy_letter_grouping.loc[construction_year_bin]"
   ]
  },
  {
   "cell_type": "code",
   "execution_count": 37,
   "metadata": {},
   "outputs": [],
   "source": [
    "data['energy_letter'] = [imnpute_energy_letter(letter, construction_year_bin) for letter, construction_year_bin in zip(data['energy_letter'], data['construction_year_bin'])]"
   ]
  },
  {
   "cell_type": "code",
   "execution_count": 38,
   "metadata": {},
   "outputs": [],
   "source": [
    "to_plot = data.groupby(['construction_year_bin', 'energy_color'])['energy_color'].count()"
   ]
  },
  {
   "cell_type": "code",
   "execution_count": 39,
   "metadata": {},
   "outputs": [],
   "source": [
    "most_common_energy_c = []\n",
    "constr_year_index = []\n",
    "for y in to_plot.index.get_level_values('construction_year_bin').unique():\n",
    "    most_common_energy_c.append(to_plot.loc[y].sort_values(ascending=False).index[0])\n",
    "    constr_year_index.append(y)"
   ]
  },
  {
   "cell_type": "code",
   "execution_count": 40,
   "metadata": {},
   "outputs": [],
   "source": [
    "energy_color_grouping = pd.Series(most_common_energy_c, index=constr_year_index)"
   ]
  },
  {
   "cell_type": "code",
   "execution_count": 41,
   "metadata": {},
   "outputs": [],
   "source": [
    "def imnpute_energy_color(color, construction_year_bin):\n",
    "    if str(color) in ['mørkegrønn', 'oransje', 'lysegrønn', 'rød', 'gul']:\n",
    "        return color\n",
    "    else:\n",
    "        return energy_color_grouping.loc[construction_year_bin]"
   ]
  },
  {
   "cell_type": "code",
   "execution_count": 42,
   "metadata": {},
   "outputs": [],
   "source": [
    "data['energy_color'] = [imnpute_energy_color(color, construction_year_bin) for color, construction_year_bin in zip(data['energy_color'], data['construction_year_bin'])]"
   ]
  },
  {
   "cell_type": "markdown",
   "metadata": {},
   "source": [
    "## Impute Travel Time"
   ]
  },
  {
   "cell_type": "code",
   "execution_count": 43,
   "metadata": {},
   "outputs": [],
   "source": [
    "missing_transport_factor = 3\n",
    "data['time_s'].fillna(data['time_s'].max() * missing_transport_factor, inplace=True)"
   ]
  },
  {
   "cell_type": "markdown",
   "metadata": {},
   "source": [
    "# Feature Engineering"
   ]
  },
  {
   "cell_type": "code",
   "execution_count": 44,
   "metadata": {},
   "outputs": [],
   "source": [
    "new_building_pct = pd.Series(data[data.new_building == True]\\\n",
    "                             .groupby('area_name')['ad_id'].count()\\\n",
    "                             .div(data\\\n",
    "                                  .groupby('area_name')['ad_id'].count()),\n",
    "                             name='area_new_building_pct')"
   ]
  },
  {
   "cell_type": "code",
   "execution_count": 45,
   "metadata": {},
   "outputs": [],
   "source": [
    "data = data.merge(new_building_pct, how='left', left_on='area_name', right_index=True)"
   ]
  },
  {
   "cell_type": "markdown",
   "metadata": {},
   "source": [
    "# Post Code Places"
   ]
  },
  {
   "cell_type": "code",
   "execution_count": 46,
   "metadata": {},
   "outputs": [
    {
     "data": {
      "text/html": [
       "<div>\n",
       "<style scoped>\n",
       "    .dataframe tbody tr th:only-of-type {\n",
       "        vertical-align: middle;\n",
       "    }\n",
       "\n",
       "    .dataframe tbody tr th {\n",
       "        vertical-align: top;\n",
       "    }\n",
       "\n",
       "    .dataframe thead th {\n",
       "        text-align: right;\n",
       "    }\n",
       "</style>\n",
       "<table border=\"1\" class=\"dataframe\">\n",
       "  <thead>\n",
       "    <tr style=\"text-align: right;\">\n",
       "      <th></th>\n",
       "      <th>post_code</th>\n",
       "      <th>radius</th>\n",
       "      <th>place_name</th>\n",
       "      <th>place_type</th>\n",
       "      <th>place_attribute</th>\n",
       "      <th>attribute_value</th>\n",
       "    </tr>\n",
       "  </thead>\n",
       "  <tbody>\n",
       "    <tr>\n",
       "      <th>0</th>\n",
       "      <td>0001</td>\n",
       "      <td>500</td>\n",
       "      <td>Oslo</td>\n",
       "      <td>locality</td>\n",
       "      <td>rating</td>\n",
       "      <td>NaN</td>\n",
       "    </tr>\n",
       "    <tr>\n",
       "      <th>1</th>\n",
       "      <td>0001</td>\n",
       "      <td>500</td>\n",
       "      <td>Oslo</td>\n",
       "      <td>political</td>\n",
       "      <td>rating</td>\n",
       "      <td>NaN</td>\n",
       "    </tr>\n",
       "    <tr>\n",
       "      <th>2</th>\n",
       "      <td>0001</td>\n",
       "      <td>500</td>\n",
       "      <td>Oslo Opera House</td>\n",
       "      <td>premise</td>\n",
       "      <td>rating</td>\n",
       "      <td>NaN</td>\n",
       "    </tr>\n",
       "    <tr>\n",
       "      <th>3</th>\n",
       "      <td>0001</td>\n",
       "      <td>500</td>\n",
       "      <td>Oslo Opera House</td>\n",
       "      <td>point_of_interest</td>\n",
       "      <td>rating</td>\n",
       "      <td>NaN</td>\n",
       "    </tr>\n",
       "    <tr>\n",
       "      <th>4</th>\n",
       "      <td>0001</td>\n",
       "      <td>500</td>\n",
       "      <td>Oslo Opera House</td>\n",
       "      <td>establishment</td>\n",
       "      <td>rating</td>\n",
       "      <td>NaN</td>\n",
       "    </tr>\n",
       "  </tbody>\n",
       "</table>\n",
       "</div>"
      ],
      "text/plain": [
       "  post_code  radius        place_name         place_type place_attribute  \\\n",
       "0      0001     500              Oslo           locality          rating   \n",
       "1      0001     500              Oslo          political          rating   \n",
       "2      0001     500  Oslo Opera House            premise          rating   \n",
       "3      0001     500  Oslo Opera House  point_of_interest          rating   \n",
       "4      0001     500  Oslo Opera House      establishment          rating   \n",
       "\n",
       "   attribute_value  \n",
       "0              NaN  \n",
       "1              NaN  \n",
       "2              NaN  \n",
       "3              NaN  \n",
       "4              NaN  "
      ]
     },
     "execution_count": 46,
     "metadata": {},
     "output_type": "execute_result"
    }
   ],
   "source": [
    "post_code_data.head()"
   ]
  },
  {
   "cell_type": "code",
   "execution_count": 47,
   "metadata": {},
   "outputs": [],
   "source": [
    "neighborhood_data = pd.DataFrame(index=post_code_data.post_code.unique())"
   ]
  },
  {
   "cell_type": "code",
   "execution_count": 48,
   "metadata": {},
   "outputs": [],
   "source": [
    "neighborhood_data['mean_post_code_rating'] = post_code_data[(post_code_data.place_attribute == 'rating')]\\\n",
    "                                             .groupby('place_name').first()\\\n",
    "                                             .groupby('post_code')['attribute_value'].mean()"
   ]
  },
  {
   "cell_type": "code",
   "execution_count": 49,
   "metadata": {},
   "outputs": [],
   "source": [
    "neighborhood_data['post_code_place_count'] = post_code_data[(post_code_data.place_attribute == 'rating')]\\\n",
    "                                             .groupby('place_name').first()\\\n",
    "                                             .groupby('post_code')['attribute_value'].count()"
   ]
  },
  {
   "cell_type": "code",
   "execution_count": 50,
   "metadata": {},
   "outputs": [],
   "source": [
    "to_plot = post_code_data[post_code_data.place_attribute == 'rating']\n",
    "place_counts = pd.pivot_table(data=to_plot, index='post_code', columns='place_type', values='attribute_value', aggfunc='count', fill_value=0)"
   ]
  },
  {
   "cell_type": "code",
   "execution_count": 51,
   "metadata": {},
   "outputs": [],
   "source": [
    "neighborhood_data = neighborhood_data.join(place_counts)"
   ]
  },
  {
   "cell_type": "code",
   "execution_count": 52,
   "metadata": {},
   "outputs": [],
   "source": [
    "to_plot = post_code_data[post_code_data.place_attribute == 'rating']\n",
    "neighborhood_data['establishment_rating'] = pd.pivot_table(data=to_plot,\n",
    "                                                           index='post_code',\n",
    "                                                           columns='place_type',\n",
    "                                                           values='attribute_value',\n",
    "                                                           aggfunc='mean',\n",
    "                                                           fill_value=0)['establishment']"
   ]
  },
  {
   "cell_type": "code",
   "execution_count": 53,
   "metadata": {},
   "outputs": [],
   "source": [
    "to_plot = post_code_data[(post_code_data.place_name.str.lower().str.contains(r'meny'))\n",
    "                         & (post_code_data.place_type == 'store')\n",
    "                         & (post_code_data.place_attribute == 'rating')]\n",
    "\n",
    "neighborhood_data['meny_store'] = pd.pivot_table(data=to_plot,\n",
    "                                                 index='post_code',\n",
    "                                                 values='attribute_value',\n",
    "                                                 aggfunc='count',\n",
    "                                                 fill_value=0)"
   ]
  },
  {
   "cell_type": "code",
   "execution_count": 54,
   "metadata": {},
   "outputs": [],
   "source": [
    "to_plot = post_code_data[(post_code_data.place_name.str.lower().str.contains(r'marina|båt|boat'))\n",
    "                         & (post_code_data.place_type == 'point_of_interest')\n",
    "                         & (post_code_data.place_attribute == 'rating')]\n",
    "\n",
    "neighborhood_data['marina'] = pd.pivot_table(data=to_plot,\n",
    "                                             index='post_code',\n",
    "                                             values='attribute_value',\n",
    "                                             aggfunc='count',\n",
    "                                             fill_value=0)"
   ]
  },
  {
   "cell_type": "code",
   "execution_count": 55,
   "metadata": {},
   "outputs": [],
   "source": [
    "to_plot = post_code_data[(post_code_data.place_name.str.lower().str.contains(r'sats'))\n",
    "                         & (post_code_data.place_type == 'gym')\n",
    "                         & (post_code_data.place_attribute == 'rating')]\n",
    "\n",
    "neighborhood_data['sats'] = pd.pivot_table(data=to_plot,\n",
    "                                           index='post_code',\n",
    "                                           values='attribute_value',\n",
    "                                           aggfunc='count',\n",
    "                                           fill_value=0)"
   ]
  },
  {
   "cell_type": "code",
   "execution_count": 56,
   "metadata": {},
   "outputs": [],
   "source": [
    "neighborhood_data.fillna(0, inplace=True)"
   ]
  },
  {
   "cell_type": "code",
   "execution_count": 57,
   "metadata": {},
   "outputs": [],
   "source": [
    "data = data.merge(neighborhood_data, how='left', left_on='post_code', right_index=True)"
   ]
  },
  {
   "cell_type": "code",
   "execution_count": 58,
   "metadata": {},
   "outputs": [],
   "source": [
    "neighborhood_cols = list(neighborhood_data.columns)"
   ]
  },
  {
   "cell_type": "markdown",
   "metadata": {},
   "source": [
    "# Oslo Municipality Data"
   ]
  },
  {
   "cell_type": "code",
   "execution_count": 59,
   "metadata": {},
   "outputs": [],
   "source": [
    "low_income_households = pd.read_csv('low_income_households_oslo.csv', index_col=0)"
   ]
  },
  {
   "cell_type": "code",
   "execution_count": 60,
   "metadata": {},
   "outputs": [],
   "source": [
    "low_income_households.drop(['2014', '2015'], axis=1, inplace=True)"
   ]
  },
  {
   "cell_type": "code",
   "execution_count": 61,
   "metadata": {},
   "outputs": [],
   "source": [
    "data = data.merge(low_income_households.rename(columns={'2016': 'low_income_households'}), how='left', left_on='area_name', right_index=True)"
   ]
  },
  {
   "cell_type": "markdown",
   "metadata": {},
   "source": [
    "# National Health Institute Data"
   ]
  },
  {
   "cell_type": "code",
   "execution_count": 62,
   "metadata": {},
   "outputs": [],
   "source": [
    "dropout_rate = pd.read_csv('dropout_rate.csv', index_col=0)"
   ]
  },
  {
   "cell_type": "code",
   "execution_count": 63,
   "metadata": {},
   "outputs": [],
   "source": [
    "data = data.merge(dropout_rate, how='left', left_on='area_name', right_index=True)"
   ]
  },
  {
   "cell_type": "code",
   "execution_count": null,
   "metadata": {},
   "outputs": [],
   "source": []
  },
  {
   "cell_type": "code",
   "execution_count": null,
   "metadata": {},
   "outputs": [],
   "source": []
  },
  {
   "cell_type": "code",
   "execution_count": 64,
   "metadata": {},
   "outputs": [],
   "source": [
    "cramped_spaces = pd.read_csv('cramped_spaces.csv', index_col=0)"
   ]
  },
  {
   "cell_type": "code",
   "execution_count": 65,
   "metadata": {},
   "outputs": [],
   "source": [
    "cramped_spaces.drop(['2015', '2016'], axis=1, inplace=True)"
   ]
  },
  {
   "cell_type": "code",
   "execution_count": 66,
   "metadata": {},
   "outputs": [],
   "source": [
    "data = data.merge(cramped_spaces.rename(columns={'2017': 'cramped_spaces'}), how='left', left_on='area_name', right_index=True)"
   ]
  },
  {
   "cell_type": "code",
   "execution_count": null,
   "metadata": {},
   "outputs": [],
   "source": []
  },
  {
   "cell_type": "code",
   "execution_count": null,
   "metadata": {},
   "outputs": [],
   "source": []
  },
  {
   "cell_type": "code",
   "execution_count": 67,
   "metadata": {},
   "outputs": [],
   "source": [
    "income_inequality = pd.read_csv('income_inequality.csv', index_col=0)"
   ]
  },
  {
   "cell_type": "code",
   "execution_count": 68,
   "metadata": {},
   "outputs": [],
   "source": [
    "income_inequality.drop(['2013', '2014', '2015', '2016'], axis=1, inplace=True)"
   ]
  },
  {
   "cell_type": "code",
   "execution_count": 69,
   "metadata": {},
   "outputs": [],
   "source": [
    "data = data.merge(income_inequality.rename(columns={'2017': 'income_inequality'}), how='left', left_on='area_name', right_index=True)"
   ]
  },
  {
   "cell_type": "code",
   "execution_count": null,
   "metadata": {},
   "outputs": [],
   "source": []
  },
  {
   "cell_type": "code",
   "execution_count": null,
   "metadata": {},
   "outputs": [],
   "source": []
  },
  {
   "cell_type": "code",
   "execution_count": 70,
   "metadata": {},
   "outputs": [],
   "source": [
    "immigrant_percentage = pd.read_csv('immigrant_percentage.csv', index_col=0)"
   ]
  },
  {
   "cell_type": "code",
   "execution_count": 71,
   "metadata": {},
   "outputs": [],
   "source": [
    "immigrant_percentage.drop(['2015', '2016', '2017', '2018'], axis=1, inplace=True)"
   ]
  },
  {
   "cell_type": "code",
   "execution_count": 72,
   "metadata": {},
   "outputs": [],
   "source": [
    "data = data.merge(immigrant_percentage.rename(columns={'2019': 'immigrant_percentage'}), how='left', left_on='area_name', right_index=True)"
   ]
  },
  {
   "cell_type": "code",
   "execution_count": null,
   "metadata": {},
   "outputs": [],
   "source": []
  },
  {
   "cell_type": "markdown",
   "metadata": {},
   "source": [
    "# Other Data"
   ]
  },
  {
   "cell_type": "code",
   "execution_count": 73,
   "metadata": {},
   "outputs": [],
   "source": [
    "rich_post_codes = pd.read_csv('high_income_post_codes.csv', dtype={'post_code': str})"
   ]
  },
  {
   "cell_type": "code",
   "execution_count": 74,
   "metadata": {},
   "outputs": [],
   "source": [
    "rich_post_codes.set_index('post_code', inplace=True)"
   ]
  },
  {
   "cell_type": "code",
   "execution_count": 75,
   "metadata": {},
   "outputs": [],
   "source": [
    "data = data.merge(rich_post_codes['high_income_post_code'], how='left', left_on='post_code', right_index=True)"
   ]
  },
  {
   "cell_type": "code",
   "execution_count": 76,
   "metadata": {},
   "outputs": [],
   "source": [
    "data['high_income_post_code'] = data['high_income_post_code'].fillna(False)"
   ]
  },
  {
   "cell_type": "code",
   "execution_count": null,
   "metadata": {},
   "outputs": [],
   "source": []
  },
  {
   "cell_type": "code",
   "execution_count": null,
   "metadata": {},
   "outputs": [],
   "source": []
  },
  {
   "cell_type": "code",
   "execution_count": null,
   "metadata": {},
   "outputs": [],
   "source": []
  },
  {
   "cell_type": "markdown",
   "metadata": {},
   "source": [
    "# Mark Selected Columns"
   ]
  },
  {
   "cell_type": "code",
   "execution_count": 77,
   "metadata": {},
   "outputs": [],
   "source": [
    "num_cols = ['price', 'primary_size', 'time_s', 'floor', 'floor_level', 'num_floors', 'num_bedrooms', 'construction_year',\n",
    "            'area_new_building_pct', 'high_school', 'low_income_households', 'cramped_spaces',\n",
    "            'income_inequality', 'immigrant_percentage', 'establishment_rating'] # + neighborhood_cols\n",
    "cat_cols = ['property_type', 'ownership_type', 'address_oslo', 'new_building',\n",
    "            'high_income_post_code']\n",
    "text_cols = ['short_description', 'full_description']"
   ]
  },
  {
   "cell_type": "code",
   "execution_count": 78,
   "metadata": {},
   "outputs": [],
   "source": [
    "sample_size = 7"
   ]
  },
  {
   "cell_type": "code",
   "execution_count": 79,
   "metadata": {},
   "outputs": [],
   "source": [
    "data_sample_from_new_buildings = data.groupby('ad_id').apply(lambda obj: obj.sample(sample_size)\n",
    "                                                             if len(obj) > sample_size\n",
    "                                                             else obj.sample(len(obj)))"
   ]
  },
  {
   "cell_type": "code",
   "execution_count": 80,
   "metadata": {},
   "outputs": [],
   "source": [
    "num_data = data_sample_from_new_buildings[num_cols].copy()"
   ]
  },
  {
   "cell_type": "code",
   "execution_count": 81,
   "metadata": {},
   "outputs": [],
   "source": [
    "cat_data = data_sample_from_new_buildings[cat_cols].copy()"
   ]
  },
  {
   "cell_type": "code",
   "execution_count": 82,
   "metadata": {},
   "outputs": [],
   "source": [
    "for col in cat_cols:\n",
    "    cat_data = cat_data.join(pd.get_dummies(cat_data[col], prefix=col, drop_first=True))\n",
    "    cat_data.drop(col, axis=1, inplace=True)"
   ]
  },
  {
   "cell_type": "code",
   "execution_count": 83,
   "metadata": {},
   "outputs": [],
   "source": [
    "text_data = data_sample_from_new_buildings[text_cols].copy()"
   ]
  },
  {
   "cell_type": "markdown",
   "metadata": {},
   "source": [
    "# Feature Engineering"
   ]
  },
  {
   "cell_type": "code",
   "execution_count": 84,
   "metadata": {},
   "outputs": [],
   "source": [
    "num_data['price_per_sq_m'] = num_data.price.div(num_data.primary_size).round(0)"
   ]
  },
  {
   "cell_type": "markdown",
   "metadata": {},
   "source": [
    "# Predict Price With Numeric And Categorical Features"
   ]
  },
  {
   "cell_type": "code",
   "execution_count": 85,
   "metadata": {},
   "outputs": [],
   "source": [
    "def get_learning_curves(estimator, X, y, train_sizes=np.arange(0.1, 1.1, 0.1), score='neg_mean_absolute_error', cv=5):\n",
    "    train_sizes, train_scores, test_scores = learning_curve(estimator, X, y, train_sizes=train_sizes, scoring=score, cv=cv)\n",
    "    curve_data = pd.DataFrame(columns = range(train_scores.shape[1]))\n",
    "    for result, result_type in zip([train_scores, test_scores], ['train', 'test']):\n",
    "        frame = pd.DataFrame(result)\n",
    "        frame['size'] = train_sizes\n",
    "        frame['type'] = result_type\n",
    "        curve_data = curve_data.append(frame, ignore_index = True)\n",
    "    curve_data = curve_data.melt(id_vars = ['size', 'type'], var_name = 'cv_fit', value_name = 'score')\n",
    "    return curve_data"
   ]
  },
  {
   "cell_type": "code",
   "execution_count": 86,
   "metadata": {},
   "outputs": [],
   "source": [
    "def get_cv_res(estimator, X, y, score=['neg_mean_absolute_error'], cv=5):\n",
    "    cross_val = cross_validate(estimator, X, y, scoring=score, cv=cv)\n",
    "    return cross_val"
   ]
  },
  {
   "cell_type": "code",
   "execution_count": 87,
   "metadata": {},
   "outputs": [],
   "source": [
    "def print_cv_res(cross_val):\n",
    "    for key, val in cross_val.items():\n",
    "        print('Mean {}, {:.2f}'.format(key, val.mean()))"
   ]
  },
  {
   "cell_type": "markdown",
   "metadata": {},
   "source": [
    "# Define Hyperparameters"
   ]
  },
  {
   "cell_type": "code",
   "execution_count": 88,
   "metadata": {},
   "outputs": [],
   "source": [
    "metrics = ['neg_mean_absolute_error', 'neg_median_absolute_error', 'r2', 'explained_variance', 'max_error']\n",
    "cv = 3\n",
    "random_seed = 42\n",
    "test_size = 0.3\n",
    "preferred_score = 'r2'\n",
    "tensorflow.set_random_seed(random_seed)"
   ]
  },
  {
   "cell_type": "code",
   "execution_count": 89,
   "metadata": {},
   "outputs": [],
   "source": [
    "def create_model():\n",
    "    model = Sequential()\n",
    "    model.add(Dense(32, input_dim=X_train.shape[1], activation=\"relu\"))\n",
    "    model.add(Dense(16, activation=\"relu\"))\n",
    "    # model.add(Dropout(0.25))\n",
    "    model.add(Dense(8, activation=\"relu\"))\n",
    "    model.add(Dense(4, activation=\"relu\"))\n",
    "    model.add(Dense(1, activation=\"linear\"))\n",
    "    model.compile(loss='mean_squared_error', optimizer='adam')\n",
    "    return model"
   ]
  },
  {
   "cell_type": "code",
   "execution_count": 90,
   "metadata": {},
   "outputs": [],
   "source": [
    "estimators = {'deep_learning_regressor': KerasRegressor(build_fn=create_model, epochs=700, batch_size=700, verbose=False),\n",
    "              'adaboost': AdaBoostRegressor(random_state=random_seed),\n",
    "              'linear': LinearRegression(),\n",
    "              'kneighbors': KNeighborsRegressor(),\n",
    "              'bayes': ComplementNB(),\n",
    "              'mlp': MLPRegressor(random_state=random_seed)}"
   ]
  },
  {
   "cell_type": "code",
   "execution_count": 91,
   "metadata": {},
   "outputs": [],
   "source": [
    "estimator = estimators['adaboost']"
   ]
  },
  {
   "cell_type": "markdown",
   "metadata": {},
   "source": [
    "# Define Model Data"
   ]
  },
  {
   "cell_type": "code",
   "execution_count": 92,
   "metadata": {},
   "outputs": [],
   "source": [
    "model_data = num_data.join(cat_data)"
   ]
  },
  {
   "cell_type": "code",
   "execution_count": 93,
   "metadata": {},
   "outputs": [],
   "source": [
    "model_data.dropna(inplace=True)"
   ]
  },
  {
   "cell_type": "code",
   "execution_count": 94,
   "metadata": {},
   "outputs": [
    {
     "data": {
      "text/plain": [
       "(2203, 28)"
      ]
     },
     "execution_count": 94,
     "metadata": {},
     "output_type": "execute_result"
    }
   ],
   "source": [
    "model_data.shape"
   ]
  },
  {
   "cell_type": "code",
   "execution_count": 95,
   "metadata": {},
   "outputs": [
    {
     "data": {
      "text/plain": [
       "Index(['price', 'primary_size', 'time_s', 'floor', 'num_bedrooms',\n",
       "       'construction_year', 'area_new_building_pct', 'high_school',\n",
       "       'low_income_households', 'cramped_spaces', 'income_inequality',\n",
       "       'immigrant_percentage', 'establishment_rating', 'price_per_sq_m',\n",
       "       'property_type_Annet fritid', 'property_type_Enebolig',\n",
       "       'property_type_Garasje/Parkering', 'property_type_Gårdsbruk/Småbruk',\n",
       "       'property_type_Hytte', 'property_type_Leilighet',\n",
       "       'property_type_Rekkehus', 'property_type_Tomannsbolig',\n",
       "       'ownership_type_Andel', 'ownership_type_Annet',\n",
       "       'ownership_type_Eier (Selveier)', 'address_oslo_True',\n",
       "       'new_building_True', 'high_income_post_code_True'],\n",
       "      dtype='object')"
      ]
     },
     "execution_count": 95,
     "metadata": {},
     "output_type": "execute_result"
    }
   ],
   "source": [
    "model_data.columns"
   ]
  },
  {
   "cell_type": "code",
   "execution_count": 96,
   "metadata": {},
   "outputs": [],
   "source": [
    "from sklearn.neighbors import LocalOutlierFactor\n",
    "outlier_detector = LocalOutlierFactor()"
   ]
  },
  {
   "cell_type": "code",
   "execution_count": 97,
   "metadata": {},
   "outputs": [
    {
     "name": "stderr",
     "output_type": "stream",
     "text": [
      "/Users/ruslan.kozhuharov/venvs/home_oslo_home/lib/python3.7/site-packages/sklearn/neighbors/lof.py:236: FutureWarning: default contamination parameter 0.1 will change in version 0.22 to \"auto\". This will change the predict method behavior.\n",
      "  FutureWarning)\n"
     ]
    },
    {
     "data": {
      "text/plain": [
       "LocalOutlierFactor(algorithm='auto', contamination='legacy', leaf_size=30,\n",
       "                   metric='minkowski', metric_params=None, n_jobs=None,\n",
       "                   n_neighbors=20, novelty=False, p=2)"
      ]
     },
     "execution_count": 97,
     "metadata": {},
     "output_type": "execute_result"
    }
   ],
   "source": [
    "outlier_detector.fit(model_data)"
   ]
  },
  {
   "cell_type": "code",
   "execution_count": 98,
   "metadata": {},
   "outputs": [],
   "source": [
    "model_data['neg_outlier_factor'] = outlier_detector.negative_outlier_factor_"
   ]
  },
  {
   "cell_type": "code",
   "execution_count": 99,
   "metadata": {},
   "outputs": [],
   "source": [
    "model_data = model_data[model_data.neg_outlier_factor > -1.1].copy()"
   ]
  },
  {
   "cell_type": "code",
   "execution_count": 100,
   "metadata": {},
   "outputs": [],
   "source": [
    "model_data.drop('neg_outlier_factor', axis=1, inplace=True)"
   ]
  },
  {
   "cell_type": "code",
   "execution_count": 101,
   "metadata": {},
   "outputs": [],
   "source": [
    "target = 'price_per_sq_m'\n",
    "possible_targets = ['price_per_sq_m', 'price']\n",
    "possible_targets.remove(target)"
   ]
  },
  {
   "cell_type": "code",
   "execution_count": 102,
   "metadata": {},
   "outputs": [],
   "source": [
    "model_data.drop(possible_targets, axis=1, inplace=True)"
   ]
  },
  {
   "cell_type": "code",
   "execution_count": 103,
   "metadata": {},
   "outputs": [],
   "source": [
    "cols = list(model_data.columns)\n",
    "cols.remove(target)\n",
    "cols.append(target)\n",
    "model_data = model_data[cols]"
   ]
  },
  {
   "cell_type": "code",
   "execution_count": 104,
   "metadata": {},
   "outputs": [],
   "source": [
    "X = model_data.drop(target, axis=1)\n",
    "y = model_data[target]"
   ]
  },
  {
   "cell_type": "code",
   "execution_count": 105,
   "metadata": {},
   "outputs": [],
   "source": [
    "x_cols = X.columns"
   ]
  },
  {
   "cell_type": "code",
   "execution_count": 106,
   "metadata": {},
   "outputs": [],
   "source": [
    "X_train, X_test, y_train, y_test = train_test_split(X, y,\n",
    "                                                    test_size=test_size,\n",
    "                                                    random_state=random_seed)"
   ]
  },
  {
   "cell_type": "code",
   "execution_count": 107,
   "metadata": {},
   "outputs": [
    {
     "data": {
      "text/plain": [
       "(1299, 26)"
      ]
     },
     "execution_count": 107,
     "metadata": {},
     "output_type": "execute_result"
    }
   ],
   "source": [
    "X_train.shape"
   ]
  },
  {
   "cell_type": "code",
   "execution_count": 108,
   "metadata": {},
   "outputs": [],
   "source": [
    "X_sparse = scipy.sparse.csr_matrix(X.values)"
   ]
  },
  {
   "cell_type": "code",
   "execution_count": 109,
   "metadata": {},
   "outputs": [],
   "source": [
    "steps = []\n",
    "\n",
    "# steps.append(('scale', MaxAbsScaler()))\n",
    "# steps.append(('pca', PCA(n_components=10)))\n",
    "steps.append(('scale', MinMaxScaler()))\n",
    "steps.append(('normalize', Normalizer()))\n",
    "# steps.append(('standardize', StandardScaler()))\n",
    "steps.append(('estimator', estimator))"
   ]
  },
  {
   "cell_type": "code",
   "execution_count": 110,
   "metadata": {},
   "outputs": [],
   "source": [
    "pipeline = Pipeline(steps)"
   ]
  },
  {
   "cell_type": "markdown",
   "metadata": {},
   "source": [
    "# Perform Recursive Feature Elimination"
   ]
  },
  {
   "cell_type": "code",
   "execution_count": 111,
   "metadata": {},
   "outputs": [],
   "source": [
    "rfe = RFECV(estimator, step=1, cv=KFold(cv), scoring='neg_median_absolute_error')"
   ]
  },
  {
   "cell_type": "code",
   "execution_count": 112,
   "metadata": {},
   "outputs": [
    {
     "data": {
      "text/plain": [
       "RFECV(cv=KFold(n_splits=3, random_state=None, shuffle=False),\n",
       "      estimator=AdaBoostRegressor(base_estimator=None, learning_rate=1.0,\n",
       "                                  loss='linear', n_estimators=50,\n",
       "                                  random_state=42),\n",
       "      min_features_to_select=1, n_jobs=None,\n",
       "      scoring='neg_median_absolute_error', step=1, verbose=0)"
      ]
     },
     "execution_count": 112,
     "metadata": {},
     "output_type": "execute_result"
    }
   ],
   "source": [
    "rfe.fit(X_train, y_train)"
   ]
  },
  {
   "cell_type": "code",
   "execution_count": 113,
   "metadata": {},
   "outputs": [
    {
     "data": {
      "image/png": "[encoded data removed]",
      "text/plain": [
       "<Figure size 1008x720 with 1 Axes>"
      ]
     },
     "metadata": {},
     "output_type": "display_data"
    }
   ],
   "source": [
    "plt.figure()\n",
    "plt.xlabel('n_features')\n",
    "plt.ylabel('error')\n",
    "plt.plot(range(1, len(rfe.grid_scores_) + 1), rfe.grid_scores_)\n",
    "plt.show()"
   ]
  },
  {
   "cell_type": "code",
   "execution_count": 114,
   "metadata": {},
   "outputs": [],
   "source": [
    "optimal_n_features = rfe.grid_scores_.argmax() + 1"
   ]
  },
  {
   "cell_type": "code",
   "execution_count": 115,
   "metadata": {},
   "outputs": [
    {
     "name": "stdout",
     "output_type": "stream",
     "text": [
      "The optimal number of features is: 15\n"
     ]
    }
   ],
   "source": [
    "print(f'The optimal number of features is: {optimal_n_features}')"
   ]
  },
  {
   "cell_type": "code",
   "execution_count": 116,
   "metadata": {},
   "outputs": [],
   "source": [
    "feature_ranking = pd.Series(rfe.ranking_, index=x_cols)"
   ]
  },
  {
   "cell_type": "code",
   "execution_count": 117,
   "metadata": {},
   "outputs": [
    {
     "data": {
      "text/plain": [
       "primary_size                        1\n",
       "ownership_type_Eier (Selveier)      1\n",
       "property_type_Leilighet             1\n",
       "new_building_True                   1\n",
       "establishment_rating                1\n",
       "immigrant_percentage                1\n",
       "income_inequality                   1\n",
       "cramped_spaces                      1\n",
       "high_income_post_code_True          1\n",
       "floor                               1\n",
       "area_new_building_pct               1\n",
       "construction_year                   1\n",
       "num_bedrooms                        1\n",
       "time_s                              1\n",
       "low_income_households               1\n",
       "ownership_type_Andel                2\n",
       "high_school                         3\n",
       "property_type_Hytte                 4\n",
       "property_type_Gårdsbruk/Småbruk     5\n",
       "property_type_Garasje/Parkering     6\n",
       "ownership_type_Annet                7\n",
       "address_oslo_True                   8\n",
       "property_type_Rekkehus              9\n",
       "property_type_Tomannsbolig         10\n",
       "property_type_Enebolig             11\n",
       "property_type_Annet fritid         12\n",
       "dtype: int64"
      ]
     },
     "execution_count": 117,
     "metadata": {},
     "output_type": "execute_result"
    }
   ],
   "source": [
    "feature_ranking.sort_values()"
   ]
  },
  {
   "cell_type": "code",
   "execution_count": 118,
   "metadata": {},
   "outputs": [],
   "source": [
    "selected_features = list(feature_ranking.sort_values()[:optimal_n_features].index)"
   ]
  },
  {
   "cell_type": "markdown",
   "metadata": {},
   "source": [
    "# Fit Model"
   ]
  },
  {
   "cell_type": "code",
   "execution_count": 119,
   "metadata": {},
   "outputs": [
    {
     "data": {
      "text/plain": [
       "Pipeline(memory=None,\n",
       "         steps=[('scale', MinMaxScaler(copy=True, feature_range=(0, 1))),\n",
       "                ('normalize', Normalizer(copy=True, norm='l2')),\n",
       "                ('estimator',\n",
       "                 AdaBoostRegressor(base_estimator=None, learning_rate=1.0,\n",
       "                                   loss='linear', n_estimators=50,\n",
       "                                   random_state=42))],\n",
       "         verbose=False)"
      ]
     },
     "execution_count": 119,
     "metadata": {},
     "output_type": "execute_result"
    }
   ],
   "source": [
    "pipeline.fit(X_train[selected_features], y_train)"
   ]
  },
  {
   "cell_type": "code",
   "execution_count": 120,
   "metadata": {},
   "outputs": [],
   "source": [
    "pred = pipeline.predict(X_test[selected_features])"
   ]
  },
  {
   "cell_type": "code",
   "execution_count": 121,
   "metadata": {},
   "outputs": [],
   "source": [
    "y_pred = pd.Series(pred, index=y_test.index, name='predicted')"
   ]
  },
  {
   "cell_type": "markdown",
   "metadata": {},
   "source": [
    "# Draw Learning Curves"
   ]
  },
  {
   "cell_type": "code",
   "execution_count": 122,
   "metadata": {},
   "outputs": [],
   "source": [
    "learning_curve_res = get_learning_curves(pipeline, X_train[selected_features], y_train, score='neg_median_absolute_error')"
   ]
  },
  {
   "cell_type": "code",
   "execution_count": 123,
   "metadata": {},
   "outputs": [
    {
     "data": {
      "image/png": "[encoded data removed]",
      "text/plain": [
       "<Figure size 864x576 with 1 Axes>"
      ]
     },
     "metadata": {},
     "output_type": "display_data"
    }
   ],
   "source": [
    "fig = plt.figure(figsize = (12, 8))\n",
    "plt.title('Learning Curves')\n",
    "sns.lineplot(x='size', y='score', hue='type', data=learning_curve_res)\n",
    "plt.show()"
   ]
  },
  {
   "cell_type": "markdown",
   "metadata": {},
   "source": [
    "# Display Cross-Validation Results"
   ]
  },
  {
   "cell_type": "code",
   "execution_count": 124,
   "metadata": {},
   "outputs": [],
   "source": [
    "cv_res = get_cv_res(pipeline,\n",
    "                    X_train[selected_features],\n",
    "                    y_train,\n",
    "                    score=['neg_median_absolute_error',\n",
    "                           'r2',\n",
    "                           'explained_variance',\n",
    "                           'max_error'])"
   ]
  },
  {
   "cell_type": "code",
   "execution_count": 125,
   "metadata": {},
   "outputs": [
    {
     "name": "stdout",
     "output_type": "stream",
     "text": [
      "Mean fit_time, 0.11\n",
      "Mean score_time, 0.02\n",
      "Mean test_neg_median_absolute_error, -7119.71\n",
      "Mean test_r2, 0.70\n",
      "Mean test_explained_variance, 0.71\n",
      "Mean test_max_error, -51882.09\n"
     ]
    }
   ],
   "source": [
    "print_cv_res(cv_res)"
   ]
  },
  {
   "cell_type": "code",
   "execution_count": 126,
   "metadata": {},
   "outputs": [
    {
     "data": {
      "image/png": "[encoded data removed]",
      "text/plain": [
       "<Figure size 1008x720 with 1 Axes>"
      ]
     },
     "metadata": {},
     "output_type": "display_data"
    }
   ],
   "source": [
    "plt.scatter(y_test, y_pred)\n",
    "plt.xlabel('y_test')\n",
    "plt.ylabel('y_pred')\n",
    "plt.axis('equal')\n",
    "plt.axis('square')\n",
    "plt.xlim([0,plt.xlim()[1]])\n",
    "plt.ylim([0,plt.ylim()[1]])\n",
    "_ = plt.plot([-5e7, 5e7], [-5e7, 5e7])\n",
    "plt.title('True VS Predicted')\n",
    "plt.show()"
   ]
  },
  {
   "cell_type": "markdown",
   "metadata": {},
   "source": [
    "# Display Feature Importances"
   ]
  },
  {
   "cell_type": "code",
   "execution_count": 127,
   "metadata": {},
   "outputs": [],
   "source": [
    "feature_importances = pd.Series(pipeline.named_steps['estimator'].feature_importances_, index=selected_features).sort_values(ascending=True)"
   ]
  },
  {
   "cell_type": "code",
   "execution_count": 128,
   "metadata": {},
   "outputs": [
    {
     "data": {
      "image/png": "[encoded data removed]",
      "text/plain": [
       "<Figure size 1008x720 with 1 Axes>"
      ]
     },
     "metadata": {},
     "output_type": "display_data"
    }
   ],
   "source": [
    "top_n = 30\n",
    "to_plot = feature_importances[-top_n:]\n",
    "plt.yticks(range(len(to_plot)), to_plot.index)\n",
    "plt.title('Feature Importances')\n",
    "plt.barh(range(len(to_plot)), to_plot)\n",
    "plt.show()"
   ]
  },
  {
   "cell_type": "markdown",
   "metadata": {},
   "source": [
    "# Predict Price With NLP"
   ]
  },
  {
   "cell_type": "code",
   "execution_count": 129,
   "metadata": {},
   "outputs": [],
   "source": [
    "from sklearn.feature_extraction.text import CountVectorizer\n",
    "from sklearn.feature_extraction.text import TfidfTransformer\n",
    "from sklearn.feature_extraction.text import TfidfVectorizer\n",
    "from sklearn.preprocessing import Normalizer\n",
    "from sklearn.decomposition import TruncatedSVD"
   ]
  },
  {
   "cell_type": "code",
   "execution_count": 130,
   "metadata": {},
   "outputs": [],
   "source": [
    "stop_words = ['av', 'og', 'til', 'over', 'fra', 'om',\n",
    "              'den', 'det', 'denne', 'dette', 'ved',\n",
    "              'in', 'inn', 'en', 'opp', 'ikke', 'oss',\n",
    "              'for', 'du', 'fortsatt', 'flere', 'eller',\n",
    "              'hele', 'her', 'men', 'kan', 'meget',\n",
    "              'ingen', 'inntil', 'mer']\n",
    "\n",
    "real_estate_terms = ['solgt', 'informasjon', 'bygget',\n",
    "                     'leiligheter', 'salg', 'solgte', 'bell']\n",
    "\n",
    "other_terms = ['inkl', 'nn', 'dok', 'str', 'avg', 'yt',\n",
    "               'kl', 'kj', 'hj', 'schl', 'nyg']\n",
    "\n",
    "stop_words = stop_words + real_estate_terms + other_terms"
   ]
  },
  {
   "cell_type": "code",
   "execution_count": 131,
   "metadata": {},
   "outputs": [],
   "source": [
    "count_vectorizer = CountVectorizer(ngram_range=(1, 1),\n",
    "                                   token_pattern = r'[A-z\\-]{3,}',\n",
    "                                   strip_accents=None,\n",
    "                                   lowercase=True,\n",
    "                                   stop_words=stop_words,\n",
    "                                   # vocabulary=\n",
    "                                   min_df=1,\n",
    "                                   max_features = 5000)"
   ]
  },
  {
   "cell_type": "code",
   "execution_count": 132,
   "metadata": {},
   "outputs": [],
   "source": [
    "vectorized_full_desc = count_vectorizer.fit_transform(data_sample_from_new_buildings[data_sample_from_new_buildings.index.isin(model_data.index)].short_description)"
   ]
  },
  {
   "cell_type": "code",
   "execution_count": 133,
   "metadata": {},
   "outputs": [],
   "source": [
    "tfidf_transformer = TfidfTransformer()"
   ]
  },
  {
   "cell_type": "code",
   "execution_count": 134,
   "metadata": {},
   "outputs": [],
   "source": [
    "tfidf = tfidf_transformer.fit_transform(vectorized_full_desc)"
   ]
  },
  {
   "cell_type": "code",
   "execution_count": 135,
   "metadata": {},
   "outputs": [
    {
     "data": {
      "text/plain": [
       "<1856x1667 sparse matrix of type '<class 'numpy.float64'>'\n",
       "\twith 18994 stored elements in Compressed Sparse Row format>"
      ]
     },
     "execution_count": 135,
     "metadata": {},
     "output_type": "execute_result"
    }
   ],
   "source": [
    "tfidf"
   ]
  },
  {
   "cell_type": "code",
   "execution_count": 136,
   "metadata": {},
   "outputs": [],
   "source": [
    "X_text_train, X_text_test, y_text_train, y_text_test = train_test_split(tfidf,\n",
    "                                                                        y,\n",
    "                                                                        test_size=test_size,\n",
    "                                                                        random_state=random_seed)"
   ]
  },
  {
   "cell_type": "code",
   "execution_count": 137,
   "metadata": {},
   "outputs": [
    {
     "data": {
      "text/plain": [
       "AdaBoostRegressor(base_estimator=None, learning_rate=1.0, loss='linear',\n",
       "                  n_estimators=50, random_state=42)"
      ]
     },
     "execution_count": 137,
     "metadata": {},
     "output_type": "execute_result"
    }
   ],
   "source": [
    "estimator.fit(X_text_train, y_text_train)"
   ]
  },
  {
   "cell_type": "code",
   "execution_count": 138,
   "metadata": {},
   "outputs": [],
   "source": [
    "y_text_pred = estimator.predict(X_text_test)"
   ]
  },
  {
   "cell_type": "markdown",
   "metadata": {},
   "source": [
    "# Draw Learning Curves"
   ]
  },
  {
   "cell_type": "code",
   "execution_count": 139,
   "metadata": {},
   "outputs": [],
   "source": [
    "learning_curve_res = get_learning_curves(estimator,\n",
    "                                         X_text_train,\n",
    "                                         y_text_train,\n",
    "                                         score='neg_median_absolute_error')"
   ]
  },
  {
   "cell_type": "code",
   "execution_count": 140,
   "metadata": {},
   "outputs": [
    {
     "data": {
      "image/png": "[encoded data removed]",
      "text/plain": [
       "<Figure size 864x576 with 1 Axes>"
      ]
     },
     "metadata": {},
     "output_type": "display_data"
    }
   ],
   "source": [
    "fig = plt.figure(figsize = (12, 8))\n",
    "plt.title('Learning Curves')\n",
    "sns.lineplot(x='size', y='score', hue='type', data=learning_curve_res)\n",
    "plt.show()"
   ]
  },
  {
   "cell_type": "markdown",
   "metadata": {},
   "source": [
    "# Display Cross-Validation Results"
   ]
  },
  {
   "cell_type": "code",
   "execution_count": 141,
   "metadata": {},
   "outputs": [],
   "source": [
    "cv_res = get_cv_res(estimator,\n",
    "                    X_text_train,\n",
    "                    y_text_train,\n",
    "                    score=['neg_median_absolute_error',\n",
    "                           'r2',\n",
    "                           'explained_variance',\n",
    "                           'max_error'])"
   ]
  },
  {
   "cell_type": "code",
   "execution_count": 142,
   "metadata": {},
   "outputs": [
    {
     "name": "stdout",
     "output_type": "stream",
     "text": [
      "Mean fit_time, 0.07\n",
      "Mean score_time, 0.01\n",
      "Mean test_neg_median_absolute_error, -14882.48\n",
      "Mean test_r2, 0.06\n",
      "Mean test_explained_variance, 0.09\n",
      "Mean test_max_error, -64874.62\n"
     ]
    }
   ],
   "source": [
    "print_cv_res(cv_res)"
   ]
  },
  {
   "cell_type": "code",
   "execution_count": 143,
   "metadata": {},
   "outputs": [],
   "source": [
    "feature_importances = pd.Series(estimator.feature_importances_, index=list(count_vectorizer.vocabulary_.keys()))"
   ]
  },
  {
   "cell_type": "code",
   "execution_count": 144,
   "metadata": {},
   "outputs": [
    {
     "data": {
      "image/png": "[encoded data removed]",
      "text/plain": [
       "<Figure size 1008x720 with 1 Axes>"
      ]
     },
     "metadata": {},
     "output_type": "display_data"
    }
   ],
   "source": [
    "to_plot = feature_importances.sort_values(ascending=False)[:30]\n",
    "plt.yticks(range(len(to_plot)), to_plot.index)\n",
    "plt.title('Feature Importances')\n",
    "plt.barh(range(len(to_plot)), to_plot)\n",
    "plt.show()"
   ]
  },
  {
   "cell_type": "markdown",
   "metadata": {},
   "source": [
    "# Predict Price With All Features"
   ]
  },
  {
   "cell_type": "code",
   "execution_count": 145,
   "metadata": {},
   "outputs": [],
   "source": [
    "# all_features = scipy.sparse.hstack([vectorized_full_desc, X_sparse])\n",
    "all_features = scipy.sparse.hstack([tfidf, X_sparse])"
   ]
  },
  {
   "cell_type": "code",
   "execution_count": 146,
   "metadata": {},
   "outputs": [
    {
     "data": {
      "text/plain": [
       "<1856x1693 sparse matrix of type '<class 'numpy.float64'>'\n",
       "\twith 46791 stored elements in COOrdinate format>"
      ]
     },
     "execution_count": 146,
     "metadata": {},
     "output_type": "execute_result"
    }
   ],
   "source": [
    "all_features"
   ]
  },
  {
   "cell_type": "code",
   "execution_count": 147,
   "metadata": {},
   "outputs": [],
   "source": [
    "X_full_train, X_full_test, y_full_train, y_full_test = train_test_split(all_features,\n",
    "                                                                        y,\n",
    "                                                                        test_size=test_size,\n",
    "                                                                        random_state=random_seed)"
   ]
  },
  {
   "cell_type": "code",
   "execution_count": 148,
   "metadata": {},
   "outputs": [
    {
     "data": {
      "text/plain": [
       "AdaBoostRegressor(base_estimator=None, learning_rate=1.0, loss='linear',\n",
       "                  n_estimators=50, random_state=42)"
      ]
     },
     "execution_count": 148,
     "metadata": {},
     "output_type": "execute_result"
    }
   ],
   "source": [
    "estimator.fit(X_full_train, y_full_train)"
   ]
  },
  {
   "cell_type": "code",
   "execution_count": 149,
   "metadata": {},
   "outputs": [],
   "source": [
    "y_pred = estimator.predict(X_full_test)"
   ]
  },
  {
   "cell_type": "markdown",
   "metadata": {},
   "source": [
    "# Draw Learning Curves"
   ]
  },
  {
   "cell_type": "code",
   "execution_count": 150,
   "metadata": {},
   "outputs": [],
   "source": [
    "learning_curve_res = get_learning_curves(estimator,\n",
    "                                         X_full_train,\n",
    "                                         y_full_train,\n",
    "                                         score='neg_median_absolute_error')"
   ]
  },
  {
   "cell_type": "code",
   "execution_count": 151,
   "metadata": {},
   "outputs": [
    {
     "data": {
      "image/png": "[encoded data removed]",
      "text/plain": [
       "<Figure size 864x576 with 1 Axes>"
      ]
     },
     "metadata": {},
     "output_type": "display_data"
    }
   ],
   "source": [
    "fig = plt.figure(figsize = (12, 8))\n",
    "plt.title('Learning Curves')\n",
    "sns.lineplot(x='size', y='score', hue='type', data=learning_curve_res)\n",
    "plt.show()"
   ]
  },
  {
   "cell_type": "markdown",
   "metadata": {},
   "source": [
    "# Display Cross-Validation Results"
   ]
  },
  {
   "cell_type": "code",
   "execution_count": 152,
   "metadata": {},
   "outputs": [],
   "source": [
    "cv_res = get_cv_res(estimator,\n",
    "                    X_full_train,\n",
    "                    y_full_train,\n",
    "                    score=['neg_median_absolute_error',\n",
    "                           'r2',\n",
    "                           'explained_variance',\n",
    "                           'max_error'])"
   ]
  },
  {
   "cell_type": "code",
   "execution_count": 153,
   "metadata": {},
   "outputs": [
    {
     "name": "stdout",
     "output_type": "stream",
     "text": [
      "Mean fit_time, 0.20\n",
      "Mean score_time, 0.02\n",
      "Mean test_neg_median_absolute_error, -7708.98\n",
      "Mean test_r2, 0.72\n",
      "Mean test_explained_variance, 0.74\n",
      "Mean test_max_error, -46475.17\n"
     ]
    }
   ],
   "source": [
    "print_cv_res(cv_res)"
   ]
  },
  {
   "cell_type": "markdown",
   "metadata": {},
   "source": [
    "# Display Feature Importances"
   ]
  },
  {
   "cell_type": "code",
   "execution_count": 154,
   "metadata": {},
   "outputs": [],
   "source": [
    "feature_importances = pd.Series(estimator.feature_importances_, index=list(count_vectorizer.vocabulary_.keys()) + list(x_cols)).sort_values(ascending=True)"
   ]
  },
  {
   "cell_type": "code",
   "execution_count": 155,
   "metadata": {},
   "outputs": [
    {
     "data": {
      "text/plain": [
       "income_inequality                 0.211274\n",
       "time_s                            0.177271\n",
       "construction_year                 0.122308\n",
       "floor                             0.087071\n",
       "property_type_Leilighet           0.068338\n",
       "high_income_post_code_True        0.043162\n",
       "establishment_rating              0.041873\n",
       "doblougl                          0.032652\n",
       "primary_size                      0.031187\n",
       "mulig                             0.026496\n",
       "vaskerom-                         0.024203\n",
       "cramped_spaces                    0.016471\n",
       "lidenskap                         0.015365\n",
       "tiedemannsparken                  0.014230\n",
       "lysejordet                        0.010981\n",
       "flytte                            0.008416\n",
       "ownership_type_Andel              0.007485\n",
       "bryggekanten                      0.006355\n",
       "kolonihave                        0.006010\n",
       "ownership_type_Eier (Selveier)    0.005744\n",
       "stuen                             0.005593\n",
       "rehabilitert                      0.003946\n",
       "area_new_building_pct             0.003943\n",
       "terrasse                          0.003342\n",
       "butikk                            0.003087\n",
       "ordning                           0.002273\n",
       "nne                               0.002020\n",
       "solforhold-garasje-parkering      0.001979\n",
       "rnesparken                        0.001848\n",
       "low_income_households             0.001840\n",
       "dtype: float64"
      ]
     },
     "execution_count": 155,
     "metadata": {},
     "output_type": "execute_result"
    }
   ],
   "source": [
    "feature_importances.sort_values(ascending=False)[:30]"
   ]
  },
  {
   "cell_type": "code",
   "execution_count": 156,
   "metadata": {},
   "outputs": [
    {
     "data": {
      "image/png": "[encoded data removed]",
      "text/plain": [
       "<Figure size 1008x720 with 1 Axes>"
      ]
     },
     "metadata": {},
     "output_type": "display_data"
    }
   ],
   "source": [
    "to_plot = feature_importances.sort_values(ascending=False)[:30]\n",
    "plt.yticks(range(len(to_plot)), to_plot.index)\n",
    "plt.title('Feature Importances')\n",
    "plt.barh(range(len(to_plot)), to_plot)\n",
    "plt.show()"
   ]
  },
  {
   "cell_type": "code",
   "execution_count": 157,
   "metadata": {},
   "outputs": [],
   "source": [
    "vocab = pd.Series(list(count_vectorizer.vocabulary_.values()), index=count_vectorizer.vocabulary_.keys())"
   ]
  },
  {
   "cell_type": "code",
   "execution_count": 158,
   "metadata": {},
   "outputs": [
    {
     "data": {
      "text/plain": [
       "ytterkant       1666\n",
       "ytre            1665\n",
       "ypperlig        1664\n",
       "ype             1663\n",
       "youngstorget    1662\n",
       "york            1661\n",
       "yleg            1660\n",
       "yhuset          1659\n",
       "yes             1658\n",
       "yenenga         1657\n",
       "dtype: int64"
      ]
     },
     "execution_count": 158,
     "metadata": {},
     "output_type": "execute_result"
    }
   ],
   "source": [
    "vocab.sort_values(ascending=False)[:10]"
   ]
  },
  {
   "cell_type": "markdown",
   "metadata": {},
   "source": [
    "# TODO\n",
    "* Draw learning curves on multiple metrics\n",
    "* Add data on schools\n",
    "* Try convolutional neural network (convolving over the coordinates analogously to pictures)"
   ]
  },
  {
   "cell_type": "code",
   "execution_count": null,
   "metadata": {},
   "outputs": [],
   "source": []
  }
 ],
 "metadata": {
  "kernelspec": {
   "display_name": "Python 3",
   "language": "python",
   "name": "python3"
  },
  "language_info": {
   "codemirror_mode": {
    "name": "ipython",
    "version": 3
   },
   "file_extension": ".py",
   "mimetype": "text/x-python",
   "name": "python",
   "nbconvert_exporter": "python",
   "pygments_lexer": "ipython3",
   "version": "3.7.3"
  }
 },
 "nbformat": 4,
 "nbformat_minor": 2
}
