{
 "cells": [
  {
   "cell_type": "code",
   "execution_count": 506,
   "metadata": {},
   "outputs": [],
   "source": [
    "import os\n",
    "import re\n",
    "import pandas as pd\n",
    "import numpy as np\n",
    "from google.cloud import bigquery\n",
    "import matplotlib.pyplot as plt\n",
    "import seaborn as sns\n",
    "import utils as u"
   ]
  },
  {
   "cell_type": "code",
   "execution_count": 507,
   "metadata": {},
   "outputs": [],
   "source": [
    "import tensorflow as tf\n",
    "import keras\n",
    "from keras.wrappers.scikit_learn import KerasRegressor\n",
    "from keras.models import Sequential\n",
    "from keras.layers import Dense, Dropout\n",
    "from sklearn import model_selection\n",
    "from sklearn import preprocessing\n",
    "from sklearn import metrics\n",
    "from sklearn import ensemble\n",
    "from sklearn import pipeline\n",
    "from sklearn import linear_model\n",
    "from sklearn import neighbors\n",
    "from sklearn import naive_bayes\n",
    "from sklearn import neural_network\n",
    "from sklearn import feature_selection"
   ]
  },
  {
   "cell_type": "code",
   "execution_count": 508,
   "metadata": {},
   "outputs": [],
   "source": [
    "pd.set_option('display.max_colwidth', 20)\n",
    "pd.set_option('display.max_columns', 50)\n",
    "pd.set_option('display.max_rows', 50)\n",
    "from IPython.display import display, HTML\n",
    "%matplotlib inline\n",
    "sns.set(style='dark')\n",
    "plt.rcParams['figure.figsize'] = [14, 10]"
   ]
  },
  {
   "cell_type": "code",
   "execution_count": 509,
   "metadata": {},
   "outputs": [],
   "source": [
    "sample_size = 2\n",
    "metrics = ['neg_mean_absolute_error', 'neg_median_absolute_error', 'r2', 'explained_variance', 'max_error']\n",
    "cv = 3\n",
    "random_seed = 42\n",
    "var_threshold = 0.9\n",
    "test_size = 0.3\n",
    "preferred_score = 'r2'\n",
    "tf.set_random_seed(random_seed)\n",
    "missing_transport_factor = 1\n",
    "min_outlier_factor = -2"
   ]
  },
  {
   "cell_type": "markdown",
   "metadata": {},
   "source": [
    "# 2.2 Algorithms and Techniques"
   ]
  },
  {
   "cell_type": "code",
   "execution_count": 510,
   "metadata": {},
   "outputs": [],
   "source": [
    "queries = u.get_queries('queries')"
   ]
  },
  {
   "cell_type": "code",
   "execution_count": 511,
   "metadata": {},
   "outputs": [],
   "source": [
    "bq_client = bigquery.Client()"
   ]
  },
  {
   "cell_type": "code",
   "execution_count": 512,
   "metadata": {},
   "outputs": [],
   "source": [
    "data = u.get_data(queries, 'training_data.sql', bq_client)"
   ]
  },
  {
   "cell_type": "code",
   "execution_count": 513,
   "metadata": {},
   "outputs": [],
   "source": [
    "data['post_code'] = data['address'].str.extract(r'.*(\\d{4}).*', expand=False)"
   ]
  },
  {
   "cell_type": "code",
   "execution_count": 514,
   "metadata": {},
   "outputs": [],
   "source": [
    "data = data.groupby('ad_id').apply(lambda obj: obj.sample(n=sample_size, random_state=random_seed) if len(obj) > sample_size else obj.sample(len(obj)))"
   ]
  },
  {
   "cell_type": "markdown",
   "metadata": {},
   "source": [
    "## Norwegian Post Code Data"
   ]
  },
  {
   "cell_type": "code",
   "execution_count": 515,
   "metadata": {},
   "outputs": [],
   "source": [
    "post_codes = u.get_data(queries, 'post_code_area_name.sql', bq_client).set_index('post_code', drop=True)"
   ]
  },
  {
   "cell_type": "code",
   "execution_count": 516,
   "metadata": {},
   "outputs": [],
   "source": [
    "data = data.merge(post_codes, how='left', left_on='post_code', right_index=True)"
   ]
  },
  {
   "cell_type": "code",
   "execution_count": 517,
   "metadata": {},
   "outputs": [],
   "source": [
    "data['address_oslo'] = data['settlement_name'].apply(lambda s_n: 1 if s_n == 'oslo' else 0)"
   ]
  },
  {
   "cell_type": "code",
   "execution_count": 518,
   "metadata": {},
   "outputs": [],
   "source": [
    "new_building_pct = pd.Series(data[data.new_building == True]\\\n",
    "                             .groupby('area_name')['ad_id'].count()\\\n",
    "                             .div(data\\\n",
    "                                  .groupby('area_name')['ad_id'].count()),\n",
    "                             name='area_new_building_pct')\n",
    "\n",
    "data = data.merge(new_building_pct, how='left', left_on='area_name', right_index=True)"
   ]
  },
  {
   "cell_type": "code",
   "execution_count": 519,
   "metadata": {},
   "outputs": [],
   "source": [
    "historic = pd.pivot_table(data=data, index='post_code', values='price_per_sq_m', aggfunc='median').rename(columns={'price_per_sq_m': 'median_price_per_sq_m'})\n",
    "data = data.merge(historic, how='left', left_on='post_code', right_index=True)"
   ]
  },
  {
   "cell_type": "markdown",
   "metadata": {},
   "source": [
    "# Google Maps Data"
   ]
  },
  {
   "cell_type": "code",
   "execution_count": 520,
   "metadata": {},
   "outputs": [],
   "source": [
    "gmaps = u.get_data(queries, 'all_post_code_places.sql', bq_client)"
   ]
  },
  {
   "cell_type": "code",
   "execution_count": 521,
   "metadata": {},
   "outputs": [],
   "source": [
    "place_counts = pd.pivot_table(data=gmaps, index='post_code', columns='place_type', values='attribute_value', aggfunc='count', fill_value=0)"
   ]
  },
  {
   "cell_type": "code",
   "execution_count": 522,
   "metadata": {},
   "outputs": [],
   "source": [
    "_slice = gmaps[gmaps.place_attribute == 'rating']\n",
    "place_ratings = pd.pivot_table(data=_slice, index='post_code', columns='place_type', values='attribute_value', aggfunc='mean')"
   ]
  },
  {
   "cell_type": "code",
   "execution_count": 523,
   "metadata": {},
   "outputs": [],
   "source": [
    "_slice = gmaps[gmaps.place_attribute == 'price_level']\n",
    "place_prices = pd.pivot_table(data=_slice, index='post_code', columns='place_type', values='attribute_value', aggfunc='mean')"
   ]
  },
  {
   "cell_type": "code",
   "execution_count": 524,
   "metadata": {},
   "outputs": [],
   "source": [
    "gmaps_data = place_counts.join(place_ratings, rsuffix='_rating').join(place_prices, rsuffix='_price')"
   ]
  },
  {
   "cell_type": "code",
   "execution_count": 525,
   "metadata": {},
   "outputs": [],
   "source": [
    "gmaps_data.dropna(axis=1, inplace=True)"
   ]
  },
  {
   "cell_type": "code",
   "execution_count": 526,
   "metadata": {},
   "outputs": [],
   "source": [
    "data = data.merge(gmaps_data, how='left', left_on='post_code', right_index=True)"
   ]
  },
  {
   "cell_type": "markdown",
   "metadata": {},
   "source": [
    "# National Health Institute Data"
   ]
  },
  {
   "cell_type": "code",
   "execution_count": 527,
   "metadata": {},
   "outputs": [],
   "source": [
    "fhi_data = u.get_data(queries, 'full_fhi_data.sql', bq_client)"
   ]
  },
  {
   "cell_type": "code",
   "execution_count": 528,
   "metadata": {},
   "outputs": [],
   "source": [
    "fhi_data_latest = pd.DataFrame(index=fhi_data.area_name.unique())\n",
    "for dataset in fhi_data.dataset.unique():\n",
    "    to_join = fhi_data[fhi_data.dataset == dataset]\n",
    "    latest_year = to_join[to_join.value.notna()].year.max()\n",
    "    to_join_latest_year = to_join[to_join.year == latest_year]\n",
    "    to_join_pivot = pd.pivot_table(data=to_join_latest_year,\n",
    "                                   index='area_name',\n",
    "                                   values='value').rename(columns={'value': dataset})\n",
    "    fhi_data_latest = fhi_data_latest.join(to_join_pivot)"
   ]
  },
  {
   "cell_type": "code",
   "execution_count": 529,
   "metadata": {},
   "outputs": [
    {
     "data": {
      "text/html": [
       "<div>\n",
       "<style scoped>\n",
       "    .dataframe tbody tr th:only-of-type {\n",
       "        vertical-align: middle;\n",
       "    }\n",
       "\n",
       "    .dataframe tbody tr th {\n",
       "        vertical-align: top;\n",
       "    }\n",
       "\n",
       "    .dataframe thead th {\n",
       "        text-align: right;\n",
       "    }\n",
       "</style>\n",
       "<table border=\"1\" class=\"dataframe\">\n",
       "  <thead>\n",
       "    <tr style=\"text-align: right;\">\n",
       "      <th></th>\n",
       "      <th>income_inequality</th>\n",
       "      <th>uni_graduates</th>\n",
       "      <th>low_income_households</th>\n",
       "      <th>cramped_spaces</th>\n",
       "      <th>immigrant_pct</th>\n",
       "    </tr>\n",
       "  </thead>\n",
       "  <tbody>\n",
       "    <tr>\n",
       "      <th>hurdal</th>\n",
       "      <td>0.025</td>\n",
       "      <td>0.35</td>\n",
       "      <td>0.168</td>\n",
       "      <td>0.128</td>\n",
       "      <td>0.103</td>\n",
       "    </tr>\n",
       "    <tr>\n",
       "      <th>st.hanshaugen</th>\n",
       "      <td>0.038</td>\n",
       "      <td>0.73</td>\n",
       "      <td>0.186</td>\n",
       "      <td>0.469</td>\n",
       "      <td>0.278</td>\n",
       "    </tr>\n",
       "    <tr>\n",
       "      <th>frogner</th>\n",
       "      <td>0.047</td>\n",
       "      <td>0.72</td>\n",
       "      <td>0.160</td>\n",
       "      <td>0.328</td>\n",
       "      <td>0.280</td>\n",
       "    </tr>\n",
       "    <tr>\n",
       "      <th>ullern</th>\n",
       "      <td>0.040</td>\n",
       "      <td>0.76</td>\n",
       "      <td>0.066</td>\n",
       "      <td>0.160</td>\n",
       "      <td>0.199</td>\n",
       "    </tr>\n",
       "    <tr>\n",
       "      <th>vestre aker</th>\n",
       "      <td>0.045</td>\n",
       "      <td>0.77</td>\n",
       "      <td>0.069</td>\n",
       "      <td>0.140</td>\n",
       "      <td>0.178</td>\n",
       "    </tr>\n",
       "  </tbody>\n",
       "</table>\n",
       "</div>"
      ],
      "text/plain": [
       "               income_inequality  uni_graduates  low_income_households  \\\n",
       "hurdal                     0.025           0.35                0.168     \n",
       "st.hanshaugen              0.038           0.73                0.186     \n",
       "frogner                    0.047           0.72                0.160     \n",
       "ullern                     0.040           0.76                0.066     \n",
       "vestre aker                0.045           0.77                0.069     \n",
       "\n",
       "               cramped_spaces  immigrant_pct  \n",
       "hurdal                  0.128          0.103  \n",
       "st.hanshaugen           0.469          0.278  \n",
       "frogner                 0.328          0.280  \n",
       "ullern                  0.160          0.199  \n",
       "vestre aker             0.140          0.178  "
      ]
     },
     "execution_count": 529,
     "metadata": {},
     "output_type": "execute_result"
    }
   ],
   "source": [
    "fhi_data_latest.head()"
   ]
  },
  {
   "cell_type": "code",
   "execution_count": 530,
   "metadata": {},
   "outputs": [],
   "source": [
    "fhi_cols = list(fhi_data_latest.columns)"
   ]
  },
  {
   "cell_type": "code",
   "execution_count": 531,
   "metadata": {},
   "outputs": [],
   "source": [
    "data = data.merge(fhi_data_latest, how='left', left_on='area_name', right_index=True)"
   ]
  },
  {
   "cell_type": "markdown",
   "metadata": {},
   "source": [
    "# Impute Data"
   ]
  },
  {
   "cell_type": "code",
   "execution_count": 532,
   "metadata": {},
   "outputs": [
    {
     "data": {
      "text/plain": [
       "apt_id                   2046\n",
       "floor                     672\n",
       "time_s                    119\n",
       "num_bedrooms               84\n",
       "area_new_building_pct      42\n",
       "immigrant_pct               8\n",
       "low_income_households       8\n",
       "uni_graduates               8\n",
       "income_inequality           8\n",
       "cramped_spaces              8\n",
       "dtype: int64"
      ]
     },
     "execution_count": 532,
     "metadata": {},
     "output_type": "execute_result"
    }
   ],
   "source": [
    "data.isna().sum(axis=0).sort_values(ascending=False)[:10]"
   ]
  },
  {
   "cell_type": "code",
   "execution_count": 533,
   "metadata": {},
   "outputs": [],
   "source": [
    "data['time_s'].fillna(data['time_s'].max() * missing_transport_factor, inplace=True)\n",
    "data['floor'].fillna(1, inplace=True)\n",
    "data['num_bedrooms'].fillna(0, inplace=True)\n",
    "data['median_price_per_sq_m'].fillna(data.median_price_per_sq_m.median(), inplace=True)\n",
    "data['uni_graduates'].fillna(data.uni_graduates.mean(), inplace=True)\n",
    "data['area_new_building_pct'] = data.area_new_building_pct.fillna(data.area_new_building_pct.mean())\n",
    "data.fillna(0, inplace=True)"
   ]
  },
  {
   "cell_type": "code",
   "execution_count": 534,
   "metadata": {},
   "outputs": [],
   "source": [
    "data.drop(['address', 'post_code', 'area_name', 'settlement_name', 'ad_id', 'apt_id'], axis=1, inplace=True)"
   ]
  },
  {
   "cell_type": "code",
   "execution_count": 535,
   "metadata": {},
   "outputs": [
    {
     "name": "stdout",
     "output_type": "stream",
     "text": [
      "<class 'pandas.core.frame.DataFrame'>\n",
      "MultiIndex: 2743 entries, (69757913, 609) to (154331002, 6517)\n",
      "Columns: 120 entries, time_s to immigrant_pct\n",
      "dtypes: float64(116), int64(4)\n",
      "memory usage: 2.6 MB\n"
     ]
    }
   ],
   "source": [
    "data.info()"
   ]
  },
  {
   "cell_type": "markdown",
   "metadata": {},
   "source": [
    "# Select For Variance"
   ]
  },
  {
   "cell_type": "code",
   "execution_count": 536,
   "metadata": {},
   "outputs": [],
   "source": [
    "X = data.drop('price_per_sq_m', axis=1)\n",
    "y = data['price_per_sq_m']"
   ]
  },
  {
   "cell_type": "code",
   "execution_count": 537,
   "metadata": {},
   "outputs": [],
   "source": [
    "var_estimator = feature_selection.VarianceThreshold(threshold=var_threshold)\n",
    "var_estimator.fit(X)\n",
    "variances = pd.Series(var_estimator.variances_, index=X.columns)"
   ]
  },
  {
   "cell_type": "code",
   "execution_count": 538,
   "metadata": {},
   "outputs": [
    {
     "data": {
      "text/plain": [
       "median_price_per_sq_m    4.591091e+08\n",
       "time_s                   8.902544e+06\n",
       "primary_size             2.769841e+03\n",
       "construction_year        1.617974e+03\n",
       "establishment            3.032412e+01\n",
       "point_of_interest        3.032412e+01\n",
       "food                     1.026837e+01\n",
       "restaurant               9.722710e+00\n",
       "store                    6.902829e+00\n",
       "lodging                  3.790723e+00\n",
       "dtype: float64"
      ]
     },
     "execution_count": 538,
     "metadata": {},
     "output_type": "execute_result"
    }
   ],
   "source": [
    "variances.sort_values(ascending=False).head(10)"
   ]
  },
  {
   "cell_type": "code",
   "execution_count": 539,
   "metadata": {},
   "outputs": [],
   "source": [
    "var_features = pd.Series(var_estimator.get_support(), index=X.columns, name='var_features')"
   ]
  },
  {
   "cell_type": "code",
   "execution_count": 540,
   "metadata": {},
   "outputs": [
    {
     "data": {
      "text/plain": [
       "time_s                      True\n",
       "property_type_apartment    False\n",
       "new_building               False\n",
       "construction_year           True\n",
       "ownership_full             False\n",
       "Name: var_features, dtype: bool"
      ]
     },
     "execution_count": 540,
     "metadata": {},
     "output_type": "execute_result"
    }
   ],
   "source": [
    "var_features.head()"
   ]
  },
  {
   "cell_type": "code",
   "execution_count": 541,
   "metadata": {},
   "outputs": [],
   "source": [
    "high_variance_features = list(var_features[var_features == True].index)"
   ]
  },
  {
   "cell_type": "markdown",
   "metadata": {},
   "source": [
    "# Detect Outliers"
   ]
  },
  {
   "cell_type": "code",
   "execution_count": 542,
   "metadata": {},
   "outputs": [],
   "source": [
    "outlier_detector = neighbors.LocalOutlierFactor(contamination=0.22)\n",
    "outlier_detector.fit(data)\n",
    "data['neg_outlier_factor'] = outlier_detector.negative_outlier_factor_"
   ]
  },
  {
   "cell_type": "code",
   "execution_count": 543,
   "metadata": {},
   "outputs": [
    {
     "data": {
      "text/plain": [
       "count    2743.000000\n",
       "mean       -1.100919\n",
       "std         0.265960\n",
       "min        -5.107393\n",
       "25%        -1.099323\n",
       "50%        -1.037633\n",
       "75%        -1.003985\n",
       "max        -0.950115\n",
       "Name: neg_outlier_factor, dtype: float64"
      ]
     },
     "execution_count": 543,
     "metadata": {},
     "output_type": "execute_result"
    }
   ],
   "source": [
    "data['neg_outlier_factor'].describe()"
   ]
  },
  {
   "cell_type": "code",
   "execution_count": 544,
   "metadata": {},
   "outputs": [],
   "source": [
    "data = data[data.neg_outlier_factor > min_outlier_factor].copy()"
   ]
  },
  {
   "cell_type": "code",
   "execution_count": 545,
   "metadata": {},
   "outputs": [
    {
     "name": "stdout",
     "output_type": "stream",
     "text": [
      "The number of identified outliers is: 0\n"
     ]
    }
   ],
   "source": [
    "print('The number of identified outliers is: {}'.format(data[data.neg_outlier_factor <= min_outlier_factor].shape[0]))"
   ]
  },
  {
   "cell_type": "code",
   "execution_count": 546,
   "metadata": {},
   "outputs": [],
   "source": [
    "data.drop('neg_outlier_factor', axis=1, inplace=True)"
   ]
  },
  {
   "cell_type": "markdown",
   "metadata": {},
   "source": [
    "# Define Model"
   ]
  },
  {
   "cell_type": "code",
   "execution_count": 547,
   "metadata": {},
   "outputs": [],
   "source": [
    "def create_model():\n",
    "    model = Sequential()\n",
    "    model.add(Dense(32, input_dim=X_train.shape[1], activation=\"relu\"))\n",
    "    model.add(Dense(16, activation=\"relu\"))\n",
    "    model.add(Dense(1, activation=\"linear\"))\n",
    "    model.compile(loss='mean_squared_error', optimizer='adam')\n",
    "    return model"
   ]
  },
  {
   "cell_type": "code",
   "execution_count": 548,
   "metadata": {},
   "outputs": [],
   "source": [
    "estimators = {'deep_learning_regressor': KerasRegressor(build_fn=create_model, epochs=500, batch_size=700, verbose=False),\n",
    "              'adaboost': ensemble.AdaBoostRegressor(random_state=random_seed),\n",
    "              'linear': linear_model.LinearRegression(),\n",
    "              'kneighbors': neighbors.KNeighborsRegressor(),\n",
    "              'bayes': naive_bayes.ComplementNB(),\n",
    "              'mlp': neural_network.MLPRegressor(random_state=random_seed)}"
   ]
  },
  {
   "cell_type": "code",
   "execution_count": 549,
   "metadata": {},
   "outputs": [],
   "source": [
    "estimator = estimators['adaboost']"
   ]
  },
  {
   "cell_type": "code",
   "execution_count": 550,
   "metadata": {},
   "outputs": [],
   "source": [
    "steps = [('scale', preprocessing.MinMaxScaler()),\n",
    "         ('normalize', preprocessing.Normalizer()),\n",
    "         ('estimator', estimator)]"
   ]
  },
  {
   "cell_type": "code",
   "execution_count": 551,
   "metadata": {},
   "outputs": [],
   "source": [
    "model = pipeline.Pipeline(steps)"
   ]
  },
  {
   "cell_type": "markdown",
   "metadata": {},
   "source": [
    "# Split Data"
   ]
  },
  {
   "cell_type": "code",
   "execution_count": 552,
   "metadata": {},
   "outputs": [],
   "source": [
    "X_train, X_test, y_train, y_test = model_selection.train_test_split(X, y,\n",
    "                                                                    test_size=test_size,\n",
    "                                                                    random_state=random_seed)"
   ]
  },
  {
   "cell_type": "code",
   "execution_count": 553,
   "metadata": {},
   "outputs": [
    {
     "data": {
      "text/plain": [
       "(1920, 119)"
      ]
     },
     "execution_count": 553,
     "metadata": {},
     "output_type": "execute_result"
    }
   ],
   "source": [
    "X_train.shape"
   ]
  },
  {
   "cell_type": "markdown",
   "metadata": {},
   "source": [
    "# Recursive Feature Elimination"
   ]
  },
  {
   "cell_type": "code",
   "execution_count": 554,
   "metadata": {},
   "outputs": [],
   "source": [
    "rfe = feature_selection.RFECV(estimator, step=1, cv=model_selection.KFold(cv), scoring='neg_median_absolute_error')"
   ]
  },
  {
   "cell_type": "code",
   "execution_count": 555,
   "metadata": {},
   "outputs": [
    {
     "data": {
      "text/plain": [
       "RFECV(cv=KFold(n_splits=3, random_state=None, shuffle=False),\n",
       "      estimator=AdaBoostRegressor(base_estimator=None, learning_rate=1.0,\n",
       "                                  loss='linear', n_estimators=50,\n",
       "                                  random_state=42),\n",
       "      min_features_to_select=1, n_jobs=None,\n",
       "      scoring='neg_median_absolute_error', step=1, verbose=0)"
      ]
     },
     "execution_count": 555,
     "metadata": {},
     "output_type": "execute_result"
    }
   ],
   "source": [
    "rfe.fit(X_train, y_train)"
   ]
  },
  {
   "cell_type": "code",
   "execution_count": 556,
   "metadata": {},
   "outputs": [
    {
     "data": {
      "image/png": "[encoded data removed]",
      "text/plain": [
       "<Figure size 1008x720 with 1 Axes>"
      ]
     },
     "metadata": {},
     "output_type": "display_data"
    }
   ],
   "source": [
    "plt.figure()\n",
    "plt.xlabel('n_features')\n",
    "plt.ylabel('error')\n",
    "plt.plot(range(1, len(rfe.grid_scores_) + 1), rfe.grid_scores_)\n",
    "plt.show()"
   ]
  },
  {
   "cell_type": "code",
   "execution_count": 557,
   "metadata": {},
   "outputs": [
    {
     "name": "stdout",
     "output_type": "stream",
     "text": [
      "The optimal number of features is: 1\n"
     ]
    }
   ],
   "source": [
    "optimal_n_features = rfe.grid_scores_.argmax() + 1\n",
    "print(f'The optimal number of features is: {optimal_n_features}')"
   ]
  },
  {
   "cell_type": "code",
   "execution_count": 558,
   "metadata": {},
   "outputs": [],
   "source": [
    "feature_ranking = pd.Series(rfe.ranking_, index=X.columns)"
   ]
  },
  {
   "cell_type": "code",
   "execution_count": 559,
   "metadata": {},
   "outputs": [
    {
     "data": {
      "text/plain": [
       "median_price_per_sq_m        1\n",
       "time_s                       2\n",
       "primary_size                 3\n",
       "construction_year            4\n",
       "income_inequality            5\n",
       "num_bedrooms                 6\n",
       "low_income_households        7\n",
       "bar                          8\n",
       "ownership_full               9\n",
       "new_building                10\n",
       "embassy                     11\n",
       "floor                       12\n",
       "establishment               13\n",
       "uni_graduates               14\n",
       "property_type_apartment     15\n",
       "lodging                     16\n",
       "hospital                    17\n",
       "cramped_spaces              18\n",
       "food                        19\n",
       "store                       20\n",
       "point_of_interest           21\n",
       "electrician                 22\n",
       "general_contractor          23\n",
       "restaurant                  24\n",
       "travel_agency               25\n",
       "                          ... \n",
       "rv_park                     95\n",
       "doctor                      96\n",
       "stadium                     97\n",
       "hindu_temple                98\n",
       "school                      99\n",
       "supermarket                100\n",
       "lawyer                     101\n",
       "gas_station                102\n",
       "laundry                    103\n",
       "electronics_store          104\n",
       "funeral_home               105\n",
       "shoe_store                 106\n",
       "furniture_store            107\n",
       "home_goods_store           108\n",
       "storage                    109\n",
       "taxi_stand                 110\n",
       "jewelry_store              111\n",
       "gym                        112\n",
       "grocery_or_supermarket     113\n",
       "sublocality_level_2        114\n",
       "fire_station               115\n",
       "sublocality_level_1        116\n",
       "finance                    117\n",
       "sublocality                118\n",
       "insurance_agency           119\n",
       "Length: 119, dtype: int64"
      ]
     },
     "execution_count": 559,
     "metadata": {},
     "output_type": "execute_result"
    }
   ],
   "source": [
    "feature_ranking.sort_values()"
   ]
  },
  {
   "cell_type": "markdown",
   "metadata": {},
   "source": [
    "## Select Optimal Features"
   ]
  },
  {
   "cell_type": "code",
   "execution_count": 560,
   "metadata": {},
   "outputs": [],
   "source": [
    "top_rank_features = list(feature_ranking[feature_ranking <= int(feature_ranking.max()*0.25)].index)"
   ]
  },
  {
   "cell_type": "code",
   "execution_count": 561,
   "metadata": {},
   "outputs": [
    {
     "data": {
      "text/plain": [
       "['time_s',\n",
       " 'property_type_apartment',\n",
       " 'new_building',\n",
       " 'construction_year',\n",
       " 'ownership_full',\n",
       " 'floor',\n",
       " 'num_bedrooms',\n",
       " 'primary_size',\n",
       " 'area_new_building_pct',\n",
       " 'median_price_per_sq_m',\n",
       " 'amusement_park',\n",
       " 'bar',\n",
       " 'electrician',\n",
       " 'embassy',\n",
       " 'establishment',\n",
       " 'food',\n",
       " 'general_contractor',\n",
       " 'hospital',\n",
       " 'lodging',\n",
       " 'movie_theater',\n",
       " 'point_of_interest',\n",
       " 'restaurant',\n",
       " 'store',\n",
       " 'transit_station',\n",
       " 'travel_agency',\n",
       " 'income_inequality',\n",
       " 'uni_graduates',\n",
       " 'low_income_households',\n",
       " 'cramped_spaces']"
      ]
     },
     "execution_count": 561,
     "metadata": {},
     "output_type": "execute_result"
    }
   ],
   "source": [
    "top_rank_features"
   ]
  },
  {
   "cell_type": "code",
   "execution_count": 562,
   "metadata": {},
   "outputs": [],
   "source": [
    "selected_features = list(set([f for f in top_rank_features + high_variance_features if f in top_rank_features and high_variance_features]))"
   ]
  },
  {
   "cell_type": "code",
   "execution_count": 578,
   "metadata": {},
   "outputs": [
    {
     "data": {
      "text/plain": [
       "['new_building',\n",
       " 'property_type_apartment',\n",
       " 'median_price_per_sq_m',\n",
       " 'travel_agency',\n",
       " 'amusement_park',\n",
       " 'transit_station',\n",
       " 'hospital',\n",
       " 'cramped_spaces',\n",
       " 'bar',\n",
       " 'construction_year',\n",
       " 'num_bedrooms',\n",
       " 'point_of_interest',\n",
       " 'ownership_full',\n",
       " 'low_income_households',\n",
       " 'store',\n",
       " 'income_inequality',\n",
       " 'lodging',\n",
       " 'embassy',\n",
       " 'restaurant',\n",
       " 'establishment',\n",
       " 'primary_size',\n",
       " 'floor',\n",
       " 'food',\n",
       " 'general_contractor',\n",
       " 'area_new_building_pct',\n",
       " 'electrician',\n",
       " 'movie_theater',\n",
       " 'uni_graduates',\n",
       " 'time_s']"
      ]
     },
     "execution_count": 578,
     "metadata": {},
     "output_type": "execute_result"
    }
   ],
   "source": [
    "selected_features"
   ]
  },
  {
   "cell_type": "code",
   "execution_count": 563,
   "metadata": {},
   "outputs": [],
   "source": [
    "X_train = X_train[selected_features].copy()\n",
    "X_test = X_test[selected_features].copy()"
   ]
  },
  {
   "cell_type": "markdown",
   "metadata": {},
   "source": [
    "# Grid Search Over The Pipeline"
   ]
  },
  {
   "cell_type": "code",
   "execution_count": null,
   "metadata": {},
   "outputs": [],
   "source": []
  },
  {
   "cell_type": "code",
   "execution_count": null,
   "metadata": {},
   "outputs": [],
   "source": []
  },
  {
   "cell_type": "code",
   "execution_count": null,
   "metadata": {},
   "outputs": [],
   "source": []
  },
  {
   "cell_type": "code",
   "execution_count": null,
   "metadata": {},
   "outputs": [],
   "source": []
  },
  {
   "cell_type": "markdown",
   "metadata": {},
   "source": [
    "# Fit Model"
   ]
  },
  {
   "cell_type": "code",
   "execution_count": 564,
   "metadata": {},
   "outputs": [
    {
     "data": {
      "text/plain": [
       "Pipeline(memory=None,\n",
       "         steps=[('scale', MinMaxScaler(copy=True, feature_range=(0, 1))),\n",
       "                ('normalize', Normalizer(copy=True, norm='l2')),\n",
       "                ('estimator',\n",
       "                 AdaBoostRegressor(base_estimator=None, learning_rate=1.0,\n",
       "                                   loss='linear', n_estimators=50,\n",
       "                                   random_state=42))],\n",
       "         verbose=False)"
      ]
     },
     "execution_count": 564,
     "metadata": {},
     "output_type": "execute_result"
    }
   ],
   "source": [
    "model.fit(X_train, y_train)"
   ]
  },
  {
   "cell_type": "code",
   "execution_count": 565,
   "metadata": {},
   "outputs": [],
   "source": [
    "pred = model.predict(X_test)"
   ]
  },
  {
   "cell_type": "code",
   "execution_count": 566,
   "metadata": {},
   "outputs": [],
   "source": [
    "y_pred = pd.Series(pred, index=y_test.index, name='predicted')"
   ]
  },
  {
   "cell_type": "markdown",
   "metadata": {},
   "source": [
    "# Draw Learning Curves"
   ]
  },
  {
   "cell_type": "code",
   "execution_count": 567,
   "metadata": {},
   "outputs": [],
   "source": [
    "def get_learning_curves(estimator, X, y, train_sizes=np.arange(0.1, 1.1, 0.1), score='neg_mean_absolute_error', cv=5):\n",
    "    train_sizes, train_scores, test_scores = model_selection.learning_curve(estimator, X, y, train_sizes=train_sizes, scoring=score, cv=cv)\n",
    "    curve_data = pd.DataFrame(columns = range(train_scores.shape[1]))\n",
    "    for result, result_type in zip([train_scores, test_scores], ['train', 'test']):\n",
    "        frame = pd.DataFrame(result)\n",
    "        frame['size'] = train_sizes\n",
    "        frame['type'] = result_type\n",
    "        curve_data = curve_data.append(frame, ignore_index = True)\n",
    "    curve_data = curve_data.melt(id_vars = ['size', 'type'], var_name = 'cv_fit', value_name = 'score')\n",
    "    return curve_data\n",
    "\n",
    "\n",
    "def get_cv_res(estimator, X, y, score=['neg_mean_absolute_error'], cv=5):\n",
    "    cross_val = model_selection.cross_validate(estimator, X, y, scoring=score, cv=cv)\n",
    "    return cross_val\n",
    "\n",
    "\n",
    "def print_cv_res(cross_val):\n",
    "    for key, val in cross_val.items():\n",
    "        print('Mean {}, {:.2f}'.format(key, val.mean()))"
   ]
  },
  {
   "cell_type": "code",
   "execution_count": 568,
   "metadata": {},
   "outputs": [],
   "source": [
    "learning_curve_res = get_learning_curves(model, X_train, y_train, score='neg_median_absolute_error')"
   ]
  },
  {
   "cell_type": "code",
   "execution_count": 569,
   "metadata": {},
   "outputs": [
    {
     "data": {
      "image/png": "[encoded data removed]",
      "text/plain": [
       "<Figure size 864x576 with 1 Axes>"
      ]
     },
     "metadata": {},
     "output_type": "display_data"
    }
   ],
   "source": [
    "fig = plt.figure(figsize = (12, 8))\n",
    "plt.title('Learning Curves')\n",
    "sns.lineplot(x='size', y='score', hue='type', data=learning_curve_res)\n",
    "plt.show()"
   ]
  },
  {
   "cell_type": "markdown",
   "metadata": {},
   "source": [
    "# Display Cross-Validation Results"
   ]
  },
  {
   "cell_type": "code",
   "execution_count": 570,
   "metadata": {},
   "outputs": [],
   "source": [
    "cv_res = get_cv_res(model,\n",
    "                    X_train[selected_features],\n",
    "                    y_train,\n",
    "                    score=['neg_median_absolute_error',\n",
    "                           'r2',\n",
    "                           'explained_variance',\n",
    "                           'max_error'],\n",
    "                    cv=cv)"
   ]
  },
  {
   "cell_type": "code",
   "execution_count": 571,
   "metadata": {},
   "outputs": [
    {
     "name": "stdout",
     "output_type": "stream",
     "text": [
      "Mean fit_time, 0.14\n",
      "Mean score_time, 0.02\n",
      "Mean test_neg_median_absolute_error, -8941.88\n",
      "Mean test_r2, 0.69\n",
      "Mean test_explained_variance, 0.73\n",
      "Mean test_max_error, -81988.72\n"
     ]
    }
   ],
   "source": [
    "print_cv_res(cv_res)"
   ]
  },
  {
   "cell_type": "markdown",
   "metadata": {},
   "source": [
    "## Display Predicted VS Actual"
   ]
  },
  {
   "cell_type": "code",
   "execution_count": 572,
   "metadata": {},
   "outputs": [
    {
     "data": {
      "image/png": "[encoded data removed]",
      "text/plain": [
       "<Figure size 1008x720 with 1 Axes>"
      ]
     },
     "metadata": {},
     "output_type": "display_data"
    }
   ],
   "source": [
    "plt.scatter(y_test, y_pred)\n",
    "plt.xlabel('y_test')\n",
    "plt.ylabel('y_pred')\n",
    "plt.axis('equal')\n",
    "plt.axis('square')\n",
    "plt.xlim([0,plt.xlim()[1]])\n",
    "plt.ylim([0,plt.ylim()[1]])\n",
    "_ = plt.plot([-5e7, 5e7], [-5e7, 5e7])\n",
    "plt.title('True VS Predicted')\n",
    "plt.show()"
   ]
  },
  {
   "cell_type": "markdown",
   "metadata": {},
   "source": [
    "## Display Error Spread"
   ]
  },
  {
   "cell_type": "code",
   "execution_count": 573,
   "metadata": {},
   "outputs": [],
   "source": [
    "to_plot = X_test.join(y_pred).join(y_test)\n",
    "to_plot['pred_diff'] = to_plot['predicted'] - to_plot['price_per_sq_m']"
   ]
  },
  {
   "cell_type": "code",
   "execution_count": 574,
   "metadata": {},
   "outputs": [
    {
     "data": {
      "image/png": "[encoded data removed]",
      "text/plain": [
       "<Figure size 1008x720 with 1 Axes>"
      ]
     },
     "metadata": {},
     "output_type": "display_data"
    }
   ],
   "source": [
    "sns.distplot(to_plot.pred_diff)\n",
    "plt.show()"
   ]
  },
  {
   "cell_type": "markdown",
   "metadata": {},
   "source": [
    "# Display Feature Importances"
   ]
  },
  {
   "cell_type": "code",
   "execution_count": 575,
   "metadata": {},
   "outputs": [],
   "source": [
    "feature_importances = pd.Series(model.named_steps['estimator'].feature_importances_, index=selected_features).sort_values(ascending=True)"
   ]
  },
  {
   "cell_type": "code",
   "execution_count": 576,
   "metadata": {},
   "outputs": [
    {
     "data": {
      "image/png": "[encoded data removed]",
      "text/plain": [
       "<Figure size 1008x720 with 1 Axes>"
      ]
     },
     "metadata": {},
     "output_type": "display_data"
    }
   ],
   "source": [
    "to_plot = feature_importances\n",
    "plt.yticks(range(len(to_plot)), to_plot.index)\n",
    "plt.title('Feature Importances')\n",
    "plt.barh(range(len(to_plot)), to_plot)\n",
    "plt.show()"
   ]
  },
  {
   "cell_type": "code",
   "execution_count": 577,
   "metadata": {},
   "outputs": [
    {
     "data": {
      "text/html": [
       "<style  type=\"text/css\" >\n",
       "</style><table id=\"T_055bdce2_ba8f_11e9_b8dd_acde48001122\" ><thead>    <tr>        <th class=\"blank level0\" ></th>        <th class=\"col_heading level0 col0\" >importance</th>    </tr></thead><tbody>\n",
       "                <tr>\n",
       "                        <th id=\"T_055bdce2_ba8f_11e9_b8dd_acde48001122level0_row0\" class=\"row_heading level0 row0\" >travel_agency</th>\n",
       "                        <td id=\"T_055bdce2_ba8f_11e9_b8dd_acde48001122row0_col0\" class=\"data row0 col0\" >0.0%</td>\n",
       "            </tr>\n",
       "            <tr>\n",
       "                        <th id=\"T_055bdce2_ba8f_11e9_b8dd_acde48001122level0_row1\" class=\"row_heading level0 row1\" >amusement_park</th>\n",
       "                        <td id=\"T_055bdce2_ba8f_11e9_b8dd_acde48001122row1_col0\" class=\"data row1 col0\" >0.0%</td>\n",
       "            </tr>\n",
       "            <tr>\n",
       "                        <th id=\"T_055bdce2_ba8f_11e9_b8dd_acde48001122level0_row2\" class=\"row_heading level0 row2\" >establishment</th>\n",
       "                        <td id=\"T_055bdce2_ba8f_11e9_b8dd_acde48001122row2_col0\" class=\"data row2 col0\" >0.0%</td>\n",
       "            </tr>\n",
       "            <tr>\n",
       "                        <th id=\"T_055bdce2_ba8f_11e9_b8dd_acde48001122level0_row3\" class=\"row_heading level0 row3\" >restaurant</th>\n",
       "                        <td id=\"T_055bdce2_ba8f_11e9_b8dd_acde48001122row3_col0\" class=\"data row3 col0\" >0.0%</td>\n",
       "            </tr>\n",
       "            <tr>\n",
       "                        <th id=\"T_055bdce2_ba8f_11e9_b8dd_acde48001122level0_row4\" class=\"row_heading level0 row4\" >transit_station</th>\n",
       "                        <td id=\"T_055bdce2_ba8f_11e9_b8dd_acde48001122row4_col0\" class=\"data row4 col0\" >0.1%</td>\n",
       "            </tr>\n",
       "            <tr>\n",
       "                        <th id=\"T_055bdce2_ba8f_11e9_b8dd_acde48001122level0_row5\" class=\"row_heading level0 row5\" >hospital</th>\n",
       "                        <td id=\"T_055bdce2_ba8f_11e9_b8dd_acde48001122row5_col0\" class=\"data row5 col0\" >0.2%</td>\n",
       "            </tr>\n",
       "            <tr>\n",
       "                        <th id=\"T_055bdce2_ba8f_11e9_b8dd_acde48001122level0_row6\" class=\"row_heading level0 row6\" >point_of_interest</th>\n",
       "                        <td id=\"T_055bdce2_ba8f_11e9_b8dd_acde48001122row6_col0\" class=\"data row6 col0\" >0.2%</td>\n",
       "            </tr>\n",
       "            <tr>\n",
       "                        <th id=\"T_055bdce2_ba8f_11e9_b8dd_acde48001122level0_row7\" class=\"row_heading level0 row7\" >income_inequality</th>\n",
       "                        <td id=\"T_055bdce2_ba8f_11e9_b8dd_acde48001122row7_col0\" class=\"data row7 col0\" >0.2%</td>\n",
       "            </tr>\n",
       "            <tr>\n",
       "                        <th id=\"T_055bdce2_ba8f_11e9_b8dd_acde48001122level0_row8\" class=\"row_heading level0 row8\" >bar</th>\n",
       "                        <td id=\"T_055bdce2_ba8f_11e9_b8dd_acde48001122row8_col0\" class=\"data row8 col0\" >0.3%</td>\n",
       "            </tr>\n",
       "            <tr>\n",
       "                        <th id=\"T_055bdce2_ba8f_11e9_b8dd_acde48001122level0_row9\" class=\"row_heading level0 row9\" >food</th>\n",
       "                        <td id=\"T_055bdce2_ba8f_11e9_b8dd_acde48001122row9_col0\" class=\"data row9 col0\" >0.3%</td>\n",
       "            </tr>\n",
       "            <tr>\n",
       "                        <th id=\"T_055bdce2_ba8f_11e9_b8dd_acde48001122level0_row10\" class=\"row_heading level0 row10\" >floor</th>\n",
       "                        <td id=\"T_055bdce2_ba8f_11e9_b8dd_acde48001122row10_col0\" class=\"data row10 col0\" >0.8%</td>\n",
       "            </tr>\n",
       "            <tr>\n",
       "                        <th id=\"T_055bdce2_ba8f_11e9_b8dd_acde48001122level0_row11\" class=\"row_heading level0 row11\" >lodging</th>\n",
       "                        <td id=\"T_055bdce2_ba8f_11e9_b8dd_acde48001122row11_col0\" class=\"data row11 col0\" >0.9%</td>\n",
       "            </tr>\n",
       "            <tr>\n",
       "                        <th id=\"T_055bdce2_ba8f_11e9_b8dd_acde48001122level0_row12\" class=\"row_heading level0 row12\" >embassy</th>\n",
       "                        <td id=\"T_055bdce2_ba8f_11e9_b8dd_acde48001122row12_col0\" class=\"data row12 col0\" >1.0%</td>\n",
       "            </tr>\n",
       "            <tr>\n",
       "                        <th id=\"T_055bdce2_ba8f_11e9_b8dd_acde48001122level0_row13\" class=\"row_heading level0 row13\" >construction_year</th>\n",
       "                        <td id=\"T_055bdce2_ba8f_11e9_b8dd_acde48001122row13_col0\" class=\"data row13 col0\" >1.0%</td>\n",
       "            </tr>\n",
       "            <tr>\n",
       "                        <th id=\"T_055bdce2_ba8f_11e9_b8dd_acde48001122level0_row14\" class=\"row_heading level0 row14\" >new_building</th>\n",
       "                        <td id=\"T_055bdce2_ba8f_11e9_b8dd_acde48001122row14_col0\" class=\"data row14 col0\" >1.2%</td>\n",
       "            </tr>\n",
       "            <tr>\n",
       "                        <th id=\"T_055bdce2_ba8f_11e9_b8dd_acde48001122level0_row15\" class=\"row_heading level0 row15\" >general_contractor</th>\n",
       "                        <td id=\"T_055bdce2_ba8f_11e9_b8dd_acde48001122row15_col0\" class=\"data row15 col0\" >1.2%</td>\n",
       "            </tr>\n",
       "            <tr>\n",
       "                        <th id=\"T_055bdce2_ba8f_11e9_b8dd_acde48001122level0_row16\" class=\"row_heading level0 row16\" >uni_graduates</th>\n",
       "                        <td id=\"T_055bdce2_ba8f_11e9_b8dd_acde48001122row16_col0\" class=\"data row16 col0\" >1.2%</td>\n",
       "            </tr>\n",
       "            <tr>\n",
       "                        <th id=\"T_055bdce2_ba8f_11e9_b8dd_acde48001122level0_row17\" class=\"row_heading level0 row17\" >electrician</th>\n",
       "                        <td id=\"T_055bdce2_ba8f_11e9_b8dd_acde48001122row17_col0\" class=\"data row17 col0\" >1.3%</td>\n",
       "            </tr>\n",
       "            <tr>\n",
       "                        <th id=\"T_055bdce2_ba8f_11e9_b8dd_acde48001122level0_row18\" class=\"row_heading level0 row18\" >store</th>\n",
       "                        <td id=\"T_055bdce2_ba8f_11e9_b8dd_acde48001122row18_col0\" class=\"data row18 col0\" >1.5%</td>\n",
       "            </tr>\n",
       "            <tr>\n",
       "                        <th id=\"T_055bdce2_ba8f_11e9_b8dd_acde48001122level0_row19\" class=\"row_heading level0 row19\" >cramped_spaces</th>\n",
       "                        <td id=\"T_055bdce2_ba8f_11e9_b8dd_acde48001122row19_col0\" class=\"data row19 col0\" >1.7%</td>\n",
       "            </tr>\n",
       "            <tr>\n",
       "                        <th id=\"T_055bdce2_ba8f_11e9_b8dd_acde48001122level0_row20\" class=\"row_heading level0 row20\" >property_type_apartment</th>\n",
       "                        <td id=\"T_055bdce2_ba8f_11e9_b8dd_acde48001122row20_col0\" class=\"data row20 col0\" >1.7%</td>\n",
       "            </tr>\n",
       "            <tr>\n",
       "                        <th id=\"T_055bdce2_ba8f_11e9_b8dd_acde48001122level0_row21\" class=\"row_heading level0 row21\" >movie_theater</th>\n",
       "                        <td id=\"T_055bdce2_ba8f_11e9_b8dd_acde48001122row21_col0\" class=\"data row21 col0\" >2.0%</td>\n",
       "            </tr>\n",
       "            <tr>\n",
       "                        <th id=\"T_055bdce2_ba8f_11e9_b8dd_acde48001122level0_row22\" class=\"row_heading level0 row22\" >ownership_full</th>\n",
       "                        <td id=\"T_055bdce2_ba8f_11e9_b8dd_acde48001122row22_col0\" class=\"data row22 col0\" >2.2%</td>\n",
       "            </tr>\n",
       "            <tr>\n",
       "                        <th id=\"T_055bdce2_ba8f_11e9_b8dd_acde48001122level0_row23\" class=\"row_heading level0 row23\" >area_new_building_pct</th>\n",
       "                        <td id=\"T_055bdce2_ba8f_11e9_b8dd_acde48001122row23_col0\" class=\"data row23 col0\" >4.5%</td>\n",
       "            </tr>\n",
       "            <tr>\n",
       "                        <th id=\"T_055bdce2_ba8f_11e9_b8dd_acde48001122level0_row24\" class=\"row_heading level0 row24\" >low_income_households</th>\n",
       "                        <td id=\"T_055bdce2_ba8f_11e9_b8dd_acde48001122row24_col0\" class=\"data row24 col0\" >6.3%</td>\n",
       "            </tr>\n",
       "            <tr>\n",
       "                        <th id=\"T_055bdce2_ba8f_11e9_b8dd_acde48001122level0_row25\" class=\"row_heading level0 row25\" >num_bedrooms</th>\n",
       "                        <td id=\"T_055bdce2_ba8f_11e9_b8dd_acde48001122row25_col0\" class=\"data row25 col0\" >9.7%</td>\n",
       "            </tr>\n",
       "            <tr>\n",
       "                        <th id=\"T_055bdce2_ba8f_11e9_b8dd_acde48001122level0_row26\" class=\"row_heading level0 row26\" >primary_size</th>\n",
       "                        <td id=\"T_055bdce2_ba8f_11e9_b8dd_acde48001122row26_col0\" class=\"data row26 col0\" >11.1%</td>\n",
       "            </tr>\n",
       "            <tr>\n",
       "                        <th id=\"T_055bdce2_ba8f_11e9_b8dd_acde48001122level0_row27\" class=\"row_heading level0 row27\" >time_s</th>\n",
       "                        <td id=\"T_055bdce2_ba8f_11e9_b8dd_acde48001122row27_col0\" class=\"data row27 col0\" >15.7%</td>\n",
       "            </tr>\n",
       "            <tr>\n",
       "                        <th id=\"T_055bdce2_ba8f_11e9_b8dd_acde48001122level0_row28\" class=\"row_heading level0 row28\" >median_price_per_sq_m</th>\n",
       "                        <td id=\"T_055bdce2_ba8f_11e9_b8dd_acde48001122row28_col0\" class=\"data row28 col0\" >33.7%</td>\n",
       "            </tr>\n",
       "    </tbody></table>"
      ],
      "text/plain": [
       "<pandas.io.formats.style.Styler at 0x157f10b38>"
      ]
     },
     "execution_count": 577,
     "metadata": {},
     "output_type": "execute_result"
    }
   ],
   "source": [
    "feature_importances.to_frame(name='importance').style.format('{:.1%}')"
   ]
  },
  {
   "cell_type": "markdown",
   "metadata": {},
   "source": [
    "# TODO\n",
    "* Draw learning curves on multiple metrics\n",
    "* Produce statistics for all types of models\n",
    "* Select final model\n",
    "* Tune up the final model\n",
    "* Deploy model to cloud"
   ]
  },
  {
   "cell_type": "code",
   "execution_count": null,
   "metadata": {},
   "outputs": [],
   "source": []
  }
 ],
 "metadata": {
  "kernelspec": {
   "display_name": "Python 3",
   "language": "python",
   "name": "python3"
  },
  "language_info": {
   "codemirror_mode": {
    "name": "ipython",
    "version": 3
   },
   "file_extension": ".py",
   "mimetype": "text/x-python",
   "name": "python",
   "nbconvert_exporter": "python",
   "pygments_lexer": "ipython3",
   "version": "3.7.3"
  }
 },
 "nbformat": 4,
 "nbformat_minor": 2
}
