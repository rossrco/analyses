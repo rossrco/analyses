{
 "cells": [
  {
   "cell_type": "code",
   "execution_count": 1175,
   "metadata": {},
   "outputs": [],
   "source": [
    "import pprint\n",
    "import os\n",
    "import re\n",
    "import pandas as pd\n",
    "import numpy as np\n",
    "from google.cloud import bigquery\n",
    "import matplotlib.pyplot as plt\n",
    "import seaborn as sns"
   ]
  },
  {
   "cell_type": "code",
   "execution_count": 1170,
   "metadata": {},
   "outputs": [],
   "source": [
    "from keras.models import Sequential\n",
    "from keras.layers import Dense, Dropout\n",
    "from keras.wrappers.scikit_learn import KerasRegressor\n",
    "from sklearn.model_selection import train_test_split, KFold, cross_val_score, learning_curve\n",
    "from sklearn.preprocessing import MinMaxScaler, StandardScaler, normalize, Normalizer\n",
    "from sklearn.metrics import mean_absolute_error, median_absolute_error, r2_score, explained_variance_score\n",
    "from sklearn.ensemble import AdaBoostRegressor, IsolationForest\n",
    "from sklearn.pipeline import make_pipeline, Pipeline\n",
    "from sklearn.linear_model import LinearRegression\n",
    "from sklearn.neighbors import KNeighborsRegressor\n",
    "from sklearn.naive_bayes import ComplementNB\n",
    "from sklearn.neural_network import MLPRegressor"
   ]
  },
  {
   "cell_type": "code",
   "execution_count": 733,
   "metadata": {},
   "outputs": [],
   "source": [
    "#set the visual style\n",
    "pd.set_option('display.max_colwidth', 20)\n",
    "pd.set_option('display.max_columns', 100)\n",
    "pd.set_option('display.max_rows', 10000)\n",
    "from IPython.display import display, HTML\n",
    "%matplotlib inline\n",
    "sns.set(style='dark')\n",
    "plt.rcParams['figure.figsize'] = [14, 10]"
   ]
  },
  {
   "cell_type": "code",
   "execution_count": 734,
   "metadata": {},
   "outputs": [],
   "source": [
    "query_dir = 'queries'"
   ]
  },
  {
   "cell_type": "code",
   "execution_count": 735,
   "metadata": {},
   "outputs": [],
   "source": [
    "queries = {}\n",
    "for query_file in (os.listdir(query_dir)):\n",
    "    with open(os.path.join(query_dir, query_file), 'r') as query:\n",
    "        queries[query_file] = query.read()"
   ]
  },
  {
   "cell_type": "code",
   "execution_count": 736,
   "metadata": {},
   "outputs": [],
   "source": [
    "query_client = bigquery.Client()"
   ]
  },
  {
   "cell_type": "code",
   "execution_count": 737,
   "metadata": {},
   "outputs": [],
   "source": [
    "request = queries['combined_analysis_data.sql']"
   ]
  },
  {
   "cell_type": "code",
   "execution_count": 738,
   "metadata": {},
   "outputs": [],
   "source": [
    "data = query_client.query(request).to_dataframe()"
   ]
  },
  {
   "cell_type": "code",
   "execution_count": 739,
   "metadata": {},
   "outputs": [],
   "source": [
    "data = data[(data.price.notna()) & (data.primary_size.notna())].copy()"
   ]
  },
  {
   "cell_type": "code",
   "execution_count": 740,
   "metadata": {},
   "outputs": [
    {
     "name": "stdout",
     "output_type": "stream",
     "text": [
      "<class 'pandas.core.frame.DataFrame'>\n",
      "Int64Index: 1602 entries, 0 to 1858\n",
      "Data columns (total 21 columns):\n",
      "ad_id                1602 non-null int64\n",
      "apt_id               855 non-null object\n",
      "new_building         1602 non-null bool\n",
      "num_bedrooms         1580 non-null float64\n",
      "floor                1273 non-null float64\n",
      "primary_size         1602 non-null float64\n",
      "total_size           1546 non-null float64\n",
      "price                1602 non-null float64\n",
      "property_type        1602 non-null object\n",
      "ownership_type       1602 non-null object\n",
      "construction_year    1601 non-null float64\n",
      "energy_character     753 non-null object\n",
      "common_expenses      561 non-null float64\n",
      "common_wealth        418 non-null float64\n",
      "common_debt          536 non-null float64\n",
      "time_s               1536 non-null float64\n",
      "lat                  1536 non-null float64\n",
      "lng                  1536 non-null float64\n",
      "address              1602 non-null object\n",
      "short_description    1602 non-null object\n",
      "full_description     1602 non-null object\n",
      "dtypes: bool(1), float64(12), int64(1), object(7)\n",
      "memory usage: 264.4+ KB\n"
     ]
    }
   ],
   "source": [
    "data.info()"
   ]
  },
  {
   "cell_type": "code",
   "execution_count": 791,
   "metadata": {},
   "outputs": [
    {
     "data": {
      "text/html": [
       "<div>\n",
       "<style scoped>\n",
       "    .dataframe tbody tr th:only-of-type {\n",
       "        vertical-align: middle;\n",
       "    }\n",
       "\n",
       "    .dataframe tbody tr th {\n",
       "        vertical-align: top;\n",
       "    }\n",
       "\n",
       "    .dataframe thead th {\n",
       "        text-align: right;\n",
       "    }\n",
       "</style>\n",
       "<table border=\"1\" class=\"dataframe\">\n",
       "  <thead>\n",
       "    <tr style=\"text-align: right;\">\n",
       "      <th></th>\n",
       "      <th>ad_id</th>\n",
       "      <th>apt_id</th>\n",
       "      <th>new_building</th>\n",
       "      <th>num_bedrooms</th>\n",
       "      <th>floor</th>\n",
       "      <th>primary_size</th>\n",
       "      <th>total_size</th>\n",
       "      <th>price</th>\n",
       "      <th>property_type</th>\n",
       "      <th>ownership_type</th>\n",
       "      <th>construction_year</th>\n",
       "      <th>energy_character</th>\n",
       "      <th>common_expenses</th>\n",
       "      <th>common_wealth</th>\n",
       "      <th>common_debt</th>\n",
       "      <th>time_s</th>\n",
       "      <th>lat</th>\n",
       "      <th>lng</th>\n",
       "      <th>address</th>\n",
       "      <th>short_description</th>\n",
       "      <th>full_description</th>\n",
       "      <th>energy_letter</th>\n",
       "      <th>energy_color</th>\n",
       "      <th>post_code</th>\n",
       "      <th>address_in_oslo</th>\n",
       "    </tr>\n",
       "  </thead>\n",
       "  <tbody>\n",
       "    <tr>\n",
       "      <th>0</th>\n",
       "      <td>85287718</td>\n",
       "      <td>120</td>\n",
       "      <td>True</td>\n",
       "      <td>2.0</td>\n",
       "      <td>1.0</td>\n",
       "      <td>48.0</td>\n",
       "      <td>59.0</td>\n",
       "      <td>4150000.0</td>\n",
       "      <td>Leilighet</td>\n",
       "      <td>Eier (Selveier)</td>\n",
       "      <td>2019.0</td>\n",
       "      <td>None</td>\n",
       "      <td>NaN</td>\n",
       "      <td>NaN</td>\n",
       "      <td>NaN</td>\n",
       "      <td>1262.0</td>\n",
       "      <td>59.916908</td>\n",
       "      <td>10.801887</td>\n",
       "      <td>Innspurten 6, 06...</td>\n",
       "      <td>Hovinenga Hus C ...</td>\n",
       "      <td>Ansvarlig megler...</td>\n",
       "      <td>None</td>\n",
       "      <td>None</td>\n",
       "      <td>0663</td>\n",
       "      <td>True</td>\n",
       "    </tr>\n",
       "    <tr>\n",
       "      <th>1</th>\n",
       "      <td>85287718</td>\n",
       "      <td>143</td>\n",
       "      <td>True</td>\n",
       "      <td>2.0</td>\n",
       "      <td>2.0</td>\n",
       "      <td>56.0</td>\n",
       "      <td>61.0</td>\n",
       "      <td>4350000.0</td>\n",
       "      <td>Leilighet</td>\n",
       "      <td>Eier (Selveier)</td>\n",
       "      <td>2019.0</td>\n",
       "      <td>None</td>\n",
       "      <td>NaN</td>\n",
       "      <td>NaN</td>\n",
       "      <td>NaN</td>\n",
       "      <td>1262.0</td>\n",
       "      <td>59.916908</td>\n",
       "      <td>10.801887</td>\n",
       "      <td>Innspurten 6, 06...</td>\n",
       "      <td>Hovinenga Hus C ...</td>\n",
       "      <td>Ansvarlig megler...</td>\n",
       "      <td>None</td>\n",
       "      <td>None</td>\n",
       "      <td>0663</td>\n",
       "      <td>True</td>\n",
       "    </tr>\n",
       "    <tr>\n",
       "      <th>2</th>\n",
       "      <td>85287718</td>\n",
       "      <td>183</td>\n",
       "      <td>True</td>\n",
       "      <td>2.0</td>\n",
       "      <td>5.0</td>\n",
       "      <td>51.0</td>\n",
       "      <td>59.0</td>\n",
       "      <td>4350000.0</td>\n",
       "      <td>Leilighet</td>\n",
       "      <td>Eier (Selveier)</td>\n",
       "      <td>2019.0</td>\n",
       "      <td>None</td>\n",
       "      <td>NaN</td>\n",
       "      <td>NaN</td>\n",
       "      <td>NaN</td>\n",
       "      <td>1262.0</td>\n",
       "      <td>59.916908</td>\n",
       "      <td>10.801887</td>\n",
       "      <td>Innspurten 6, 06...</td>\n",
       "      <td>Hovinenga Hus C ...</td>\n",
       "      <td>Ansvarlig megler...</td>\n",
       "      <td>None</td>\n",
       "      <td>None</td>\n",
       "      <td>0663</td>\n",
       "      <td>True</td>\n",
       "    </tr>\n",
       "    <tr>\n",
       "      <th>3</th>\n",
       "      <td>85287718</td>\n",
       "      <td>187</td>\n",
       "      <td>True</td>\n",
       "      <td>2.0</td>\n",
       "      <td>5.0</td>\n",
       "      <td>48.0</td>\n",
       "      <td>59.0</td>\n",
       "      <td>4350000.0</td>\n",
       "      <td>Leilighet</td>\n",
       "      <td>Eier (Selveier)</td>\n",
       "      <td>2019.0</td>\n",
       "      <td>None</td>\n",
       "      <td>NaN</td>\n",
       "      <td>NaN</td>\n",
       "      <td>NaN</td>\n",
       "      <td>1262.0</td>\n",
       "      <td>59.916908</td>\n",
       "      <td>10.801887</td>\n",
       "      <td>Innspurten 6, 06...</td>\n",
       "      <td>Hovinenga Hus C ...</td>\n",
       "      <td>Ansvarlig megler...</td>\n",
       "      <td>None</td>\n",
       "      <td>None</td>\n",
       "      <td>0663</td>\n",
       "      <td>True</td>\n",
       "    </tr>\n",
       "    <tr>\n",
       "      <th>4</th>\n",
       "      <td>85287718</td>\n",
       "      <td>204</td>\n",
       "      <td>True</td>\n",
       "      <td>3.0</td>\n",
       "      <td>6.0</td>\n",
       "      <td>86.0</td>\n",
       "      <td>92.0</td>\n",
       "      <td>8495000.0</td>\n",
       "      <td>Leilighet</td>\n",
       "      <td>Eier (Selveier)</td>\n",
       "      <td>2019.0</td>\n",
       "      <td>None</td>\n",
       "      <td>NaN</td>\n",
       "      <td>NaN</td>\n",
       "      <td>NaN</td>\n",
       "      <td>1262.0</td>\n",
       "      <td>59.916908</td>\n",
       "      <td>10.801887</td>\n",
       "      <td>Innspurten 6, 06...</td>\n",
       "      <td>Hovinenga Hus C ...</td>\n",
       "      <td>Ansvarlig megler...</td>\n",
       "      <td>None</td>\n",
       "      <td>None</td>\n",
       "      <td>0663</td>\n",
       "      <td>True</td>\n",
       "    </tr>\n",
       "  </tbody>\n",
       "</table>\n",
       "</div>"
      ],
      "text/plain": [
       "      ad_id apt_id  new_building  num_bedrooms  floor  primary_size  \\\n",
       "0  85287718    120          True           2.0    1.0          48.0   \n",
       "1  85287718    143          True           2.0    2.0          56.0   \n",
       "2  85287718    183          True           2.0    5.0          51.0   \n",
       "3  85287718    187          True           2.0    5.0          48.0   \n",
       "4  85287718    204          True           3.0    6.0          86.0   \n",
       "\n",
       "   total_size      price property_type   ownership_type  construction_year  \\\n",
       "0        59.0  4150000.0     Leilighet  Eier (Selveier)             2019.0   \n",
       "1        61.0  4350000.0     Leilighet  Eier (Selveier)             2019.0   \n",
       "2        59.0  4350000.0     Leilighet  Eier (Selveier)             2019.0   \n",
       "3        59.0  4350000.0     Leilighet  Eier (Selveier)             2019.0   \n",
       "4        92.0  8495000.0     Leilighet  Eier (Selveier)             2019.0   \n",
       "\n",
       "  energy_character  common_expenses  common_wealth  common_debt  time_s  \\\n",
       "0             None              NaN            NaN          NaN  1262.0   \n",
       "1             None              NaN            NaN          NaN  1262.0   \n",
       "2             None              NaN            NaN          NaN  1262.0   \n",
       "3             None              NaN            NaN          NaN  1262.0   \n",
       "4             None              NaN            NaN          NaN  1262.0   \n",
       "\n",
       "         lat        lng              address    short_description  \\\n",
       "0  59.916908  10.801887  Innspurten 6, 06...  Hovinenga Hus C ...   \n",
       "1  59.916908  10.801887  Innspurten 6, 06...  Hovinenga Hus C ...   \n",
       "2  59.916908  10.801887  Innspurten 6, 06...  Hovinenga Hus C ...   \n",
       "3  59.916908  10.801887  Innspurten 6, 06...  Hovinenga Hus C ...   \n",
       "4  59.916908  10.801887  Innspurten 6, 06...  Hovinenga Hus C ...   \n",
       "\n",
       "      full_description energy_letter energy_color post_code  address_in_oslo  \n",
       "0  Ansvarlig megler...          None         None      0663             True  \n",
       "1  Ansvarlig megler...          None         None      0663             True  \n",
       "2  Ansvarlig megler...          None         None      0663             True  \n",
       "3  Ansvarlig megler...          None         None      0663             True  \n",
       "4  Ansvarlig megler...          None         None      0663             True  "
      ]
     },
     "execution_count": 791,
     "metadata": {},
     "output_type": "execute_result"
    }
   ],
   "source": [
    "data.head()"
   ]
  },
  {
   "cell_type": "code",
   "execution_count": 792,
   "metadata": {},
   "outputs": [],
   "source": [
    "energy_cols = ['energy_letter', 'energy_color']\n",
    "\n",
    "for col in energy_cols:\n",
    "    data[col] = 0\n",
    "\n",
    "energy_res = [[c.strip() for c in char.split('-')] if char is not None and '-' in char else [None, None] for char in data.energy_character]\n",
    "data[energy_cols] = pd.DataFrame(energy_res, columns=energy_cols)"
   ]
  },
  {
   "cell_type": "code",
   "execution_count": 793,
   "metadata": {},
   "outputs": [],
   "source": [
    "def get_postcode_from_address(address):\n",
    "    try:\n",
    "        return re.search(r'(.*)(\\d{4})(.*)', address, re.I)[2]\n",
    "    except:\n",
    "        return None"
   ]
  },
  {
   "cell_type": "code",
   "execution_count": 794,
   "metadata": {},
   "outputs": [],
   "source": [
    "def assert_address_in_oslo(address):\n",
    "    return re.match(r'.*oslo.*', address, re.I) is not None"
   ]
  },
  {
   "cell_type": "code",
   "execution_count": 795,
   "metadata": {},
   "outputs": [],
   "source": [
    "data['post_code'] = data.address.apply(get_postcode_from_address)"
   ]
  },
  {
   "cell_type": "code",
   "execution_count": 796,
   "metadata": {},
   "outputs": [],
   "source": [
    "data['address_in_oslo'] = data.address.apply(assert_address_in_oslo)"
   ]
  },
  {
   "cell_type": "code",
   "execution_count": 837,
   "metadata": {},
   "outputs": [],
   "source": [
    "num_cols = ['primary_size', 'total_size', 'price', 'time_s', 'num_bedrooms', 'floor', 'construction_year', 'lat', 'lng']\n",
    "cat_cols = ['new_building', 'energy_letter', 'energy_color', 'property_type', 'ownership_type', 'address_in_oslo']\n",
    "text_cols = ['short_description', 'full_description']"
   ]
  },
  {
   "cell_type": "code",
   "execution_count": 798,
   "metadata": {},
   "outputs": [],
   "source": [
    "sample_size = 5"
   ]
  },
  {
   "cell_type": "code",
   "execution_count": 799,
   "metadata": {},
   "outputs": [],
   "source": [
    "data_random_one_from_new_buildings = data.groupby('ad_id').apply(lambda obj: obj.sample(sample_size)\n",
    "                                                                 if len(obj) > sample_size\n",
    "                                                                 else obj.sample(len(obj)))"
   ]
  },
  {
   "cell_type": "code",
   "execution_count": 800,
   "metadata": {},
   "outputs": [],
   "source": [
    "num_data = data_random_one_from_new_buildings[num_cols].copy()"
   ]
  },
  {
   "cell_type": "code",
   "execution_count": 801,
   "metadata": {},
   "outputs": [],
   "source": [
    "cat_data = data_random_one_from_new_buildings[cat_cols].copy()"
   ]
  },
  {
   "cell_type": "code",
   "execution_count": 802,
   "metadata": {},
   "outputs": [],
   "source": [
    "for col in cat_cols:\n",
    "    cat_data = cat_data.join(pd.get_dummies(cat_data[col], prefix=col, drop_first=True))\n",
    "    cat_data.drop(col, axis=1, inplace=True)"
   ]
  },
  {
   "cell_type": "code",
   "execution_count": 803,
   "metadata": {},
   "outputs": [],
   "source": [
    "text_data = data_random_one_from_new_buildings[text_cols].copy()"
   ]
  },
  {
   "cell_type": "code",
   "execution_count": 804,
   "metadata": {},
   "outputs": [],
   "source": [
    "num_data['price_per_sq_m'] = num_data.price / num_data.primary_size"
   ]
  },
  {
   "cell_type": "code",
   "execution_count": 805,
   "metadata": {},
   "outputs": [],
   "source": [
    "num_cat_data_corr = num_data.join(cat_data).corr()"
   ]
  },
  {
   "cell_type": "code",
   "execution_count": 806,
   "metadata": {},
   "outputs": [
    {
     "data": {
      "text/plain": [
       "<matplotlib.axes._subplots.AxesSubplot at 0x148594588>"
      ]
     },
     "execution_count": 806,
     "metadata": {},
     "output_type": "execute_result"
    },
    {
     "data": {
      "image/png": "[encoded data removed]",
      "text/plain": [
       "<Figure size 1008x720 with 2 Axes>"
      ]
     },
     "metadata": {},
     "output_type": "display_data"
    }
   ],
   "source": [
    "sns.heatmap(num_cat_data_corr)"
   ]
  },
  {
   "cell_type": "code",
   "execution_count": 807,
   "metadata": {},
   "outputs": [
    {
     "data": {
      "image/png": "[encoded data removed]",
      "text/plain": [
       "<Figure size 864x576 with 1 Axes>"
      ]
     },
     "metadata": {},
     "output_type": "display_data"
    }
   ],
   "source": [
    "corr_col = 'price_per_sq_m'\n",
    "to_plot = num_cat_data_corr[corr_col].drop(corr_col).sort_values(ascending=False)\n",
    "f = plt.figure(figsize=(12, 8))\n",
    "plt.yticks(range(len(to_plot)), to_plot.index)\n",
    "plt.title(f'Correlation Of {corr_col}')\n",
    "plt.barh(range(len(to_plot)), to_plot)\n",
    "plt.show()"
   ]
  },
  {
   "cell_type": "code",
   "execution_count": 1796,
   "metadata": {},
   "outputs": [],
   "source": [
    "model_data = num_data.join(cat_data)"
   ]
  },
  {
   "cell_type": "code",
   "execution_count": 1797,
   "metadata": {},
   "outputs": [],
   "source": [
    "model_data.dropna(inplace=True)"
   ]
  },
  {
   "cell_type": "code",
   "execution_count": 1798,
   "metadata": {},
   "outputs": [],
   "source": [
    "# model_data = model_data[(model_data.address_in_oslo_True==1) & (model_data.property_type_Leilighet==1)]\n",
    "# model_data = model_data[model_data.total_size.isin(range(45, 95))]\n",
    "# model_data = model_data[model_data.price.isin(range(int(3e6), int(8e6)))]"
   ]
  },
  {
   "cell_type": "code",
   "execution_count": 1799,
   "metadata": {},
   "outputs": [
    {
     "data": {
      "text/html": [
       "<div>\n",
       "<style scoped>\n",
       "    .dataframe tbody tr th:only-of-type {\n",
       "        vertical-align: middle;\n",
       "    }\n",
       "\n",
       "    .dataframe tbody tr th {\n",
       "        vertical-align: top;\n",
       "    }\n",
       "\n",
       "    .dataframe thead th {\n",
       "        text-align: right;\n",
       "    }\n",
       "</style>\n",
       "<table border=\"1\" class=\"dataframe\">\n",
       "  <thead>\n",
       "    <tr style=\"text-align: right;\">\n",
       "      <th></th>\n",
       "      <th>primary_size</th>\n",
       "      <th>total_size</th>\n",
       "      <th>price</th>\n",
       "      <th>time_s</th>\n",
       "      <th>num_bedrooms</th>\n",
       "      <th>floor</th>\n",
       "      <th>construction_year</th>\n",
       "      <th>lat</th>\n",
       "      <th>lng</th>\n",
       "      <th>price_per_sq_m</th>\n",
       "      <th>new_building_True</th>\n",
       "      <th>energy_letter_B</th>\n",
       "      <th>energy_letter_C</th>\n",
       "      <th>energy_letter_D</th>\n",
       "      <th>energy_letter_E</th>\n",
       "      <th>energy_letter_F</th>\n",
       "      <th>energy_letter_G</th>\n",
       "      <th>energy_color_lysegrønn</th>\n",
       "      <th>energy_color_mørkegrønn</th>\n",
       "      <th>energy_color_oransje</th>\n",
       "      <th>energy_color_rød</th>\n",
       "      <th>property_type_Enebolig</th>\n",
       "      <th>property_type_Hytte</th>\n",
       "      <th>property_type_Leilighet</th>\n",
       "      <th>property_type_Rekkehus</th>\n",
       "      <th>property_type_Tomannsbolig</th>\n",
       "      <th>ownership_type_Andel</th>\n",
       "      <th>ownership_type_Eier (Selveier)</th>\n",
       "      <th>address_in_oslo_True</th>\n",
       "    </tr>\n",
       "  </thead>\n",
       "  <tbody>\n",
       "    <tr>\n",
       "      <th>count</th>\n",
       "      <td>693.000000</td>\n",
       "      <td>693.000000</td>\n",
       "      <td>6.930000e+02</td>\n",
       "      <td>693.000000</td>\n",
       "      <td>693.000000</td>\n",
       "      <td>693.000000</td>\n",
       "      <td>693.000000</td>\n",
       "      <td>693.000000</td>\n",
       "      <td>693.000000</td>\n",
       "      <td>693.000000</td>\n",
       "      <td>693.000000</td>\n",
       "      <td>693.000000</td>\n",
       "      <td>693.000000</td>\n",
       "      <td>693.000000</td>\n",
       "      <td>693.000000</td>\n",
       "      <td>693.000000</td>\n",
       "      <td>693.000000</td>\n",
       "      <td>693.000000</td>\n",
       "      <td>693.000000</td>\n",
       "      <td>693.000000</td>\n",
       "      <td>693.000000</td>\n",
       "      <td>693.000000</td>\n",
       "      <td>693.0</td>\n",
       "      <td>693.000000</td>\n",
       "      <td>693.000000</td>\n",
       "      <td>693.000000</td>\n",
       "      <td>693.000000</td>\n",
       "      <td>693.000000</td>\n",
       "      <td>693.000000</td>\n",
       "    </tr>\n",
       "    <tr>\n",
       "      <th>mean</th>\n",
       "      <td>82.523810</td>\n",
       "      <td>92.976768</td>\n",
       "      <td>5.409195e+06</td>\n",
       "      <td>1936.927850</td>\n",
       "      <td>2.186147</td>\n",
       "      <td>2.911977</td>\n",
       "      <td>1979.398268</td>\n",
       "      <td>59.936497</td>\n",
       "      <td>10.835018</td>\n",
       "      <td>69530.206063</td>\n",
       "      <td>0.301587</td>\n",
       "      <td>0.046176</td>\n",
       "      <td>0.080808</td>\n",
       "      <td>0.062049</td>\n",
       "      <td>0.062049</td>\n",
       "      <td>0.099567</td>\n",
       "      <td>0.126984</td>\n",
       "      <td>0.028860</td>\n",
       "      <td>0.086580</td>\n",
       "      <td>0.138528</td>\n",
       "      <td>0.200577</td>\n",
       "      <td>0.054834</td>\n",
       "      <td>0.0</td>\n",
       "      <td>0.875902</td>\n",
       "      <td>0.036075</td>\n",
       "      <td>0.031746</td>\n",
       "      <td>0.321789</td>\n",
       "      <td>0.642136</td>\n",
       "      <td>0.620491</td>\n",
       "    </tr>\n",
       "    <tr>\n",
       "      <th>std</th>\n",
       "      <td>41.807722</td>\n",
       "      <td>51.846038</td>\n",
       "      <td>2.885322e+06</td>\n",
       "      <td>1155.062281</td>\n",
       "      <td>1.000713</td>\n",
       "      <td>1.755104</td>\n",
       "      <td>41.507226</td>\n",
       "      <td>0.116349</td>\n",
       "      <td>0.208572</td>\n",
       "      <td>23573.431255</td>\n",
       "      <td>0.459279</td>\n",
       "      <td>0.210018</td>\n",
       "      <td>0.272737</td>\n",
       "      <td>0.241419</td>\n",
       "      <td>0.241419</td>\n",
       "      <td>0.299638</td>\n",
       "      <td>0.333196</td>\n",
       "      <td>0.167534</td>\n",
       "      <td>0.281422</td>\n",
       "      <td>0.345703</td>\n",
       "      <td>0.400721</td>\n",
       "      <td>0.227820</td>\n",
       "      <td>0.0</td>\n",
       "      <td>0.329932</td>\n",
       "      <td>0.186612</td>\n",
       "      <td>0.175450</td>\n",
       "      <td>0.467500</td>\n",
       "      <td>0.479718</td>\n",
       "      <td>0.485615</td>\n",
       "    </tr>\n",
       "    <tr>\n",
       "      <th>min</th>\n",
       "      <td>14.000000</td>\n",
       "      <td>16.000000</td>\n",
       "      <td>1.514691e+06</td>\n",
       "      <td>326.000000</td>\n",
       "      <td>0.000000</td>\n",
       "      <td>1.000000</td>\n",
       "      <td>1850.000000</td>\n",
       "      <td>59.502466</td>\n",
       "      <td>10.376291</td>\n",
       "      <td>17347.783784</td>\n",
       "      <td>0.000000</td>\n",
       "      <td>0.000000</td>\n",
       "      <td>0.000000</td>\n",
       "      <td>0.000000</td>\n",
       "      <td>0.000000</td>\n",
       "      <td>0.000000</td>\n",
       "      <td>0.000000</td>\n",
       "      <td>0.000000</td>\n",
       "      <td>0.000000</td>\n",
       "      <td>0.000000</td>\n",
       "      <td>0.000000</td>\n",
       "      <td>0.000000</td>\n",
       "      <td>0.0</td>\n",
       "      <td>0.000000</td>\n",
       "      <td>0.000000</td>\n",
       "      <td>0.000000</td>\n",
       "      <td>0.000000</td>\n",
       "      <td>0.000000</td>\n",
       "      <td>0.000000</td>\n",
       "    </tr>\n",
       "    <tr>\n",
       "      <th>25%</th>\n",
       "      <td>56.000000</td>\n",
       "      <td>62.000000</td>\n",
       "      <td>3.500622e+06</td>\n",
       "      <td>1113.000000</td>\n",
       "      <td>2.000000</td>\n",
       "      <td>2.000000</td>\n",
       "      <td>1952.000000</td>\n",
       "      <td>59.914704</td>\n",
       "      <td>10.732694</td>\n",
       "      <td>49100.833333</td>\n",
       "      <td>0.000000</td>\n",
       "      <td>0.000000</td>\n",
       "      <td>0.000000</td>\n",
       "      <td>0.000000</td>\n",
       "      <td>0.000000</td>\n",
       "      <td>0.000000</td>\n",
       "      <td>0.000000</td>\n",
       "      <td>0.000000</td>\n",
       "      <td>0.000000</td>\n",
       "      <td>0.000000</td>\n",
       "      <td>0.000000</td>\n",
       "      <td>0.000000</td>\n",
       "      <td>0.0</td>\n",
       "      <td>1.000000</td>\n",
       "      <td>0.000000</td>\n",
       "      <td>0.000000</td>\n",
       "      <td>0.000000</td>\n",
       "      <td>0.000000</td>\n",
       "      <td>0.000000</td>\n",
       "    </tr>\n",
       "    <tr>\n",
       "      <th>50%</th>\n",
       "      <td>73.000000</td>\n",
       "      <td>80.000000</td>\n",
       "      <td>4.540060e+06</td>\n",
       "      <td>1553.000000</td>\n",
       "      <td>2.000000</td>\n",
       "      <td>2.000000</td>\n",
       "      <td>1988.000000</td>\n",
       "      <td>59.926846</td>\n",
       "      <td>10.774158</td>\n",
       "      <td>69499.151515</td>\n",
       "      <td>0.000000</td>\n",
       "      <td>0.000000</td>\n",
       "      <td>0.000000</td>\n",
       "      <td>0.000000</td>\n",
       "      <td>0.000000</td>\n",
       "      <td>0.000000</td>\n",
       "      <td>0.000000</td>\n",
       "      <td>0.000000</td>\n",
       "      <td>0.000000</td>\n",
       "      <td>0.000000</td>\n",
       "      <td>0.000000</td>\n",
       "      <td>0.000000</td>\n",
       "      <td>0.0</td>\n",
       "      <td>1.000000</td>\n",
       "      <td>0.000000</td>\n",
       "      <td>0.000000</td>\n",
       "      <td>0.000000</td>\n",
       "      <td>1.000000</td>\n",
       "      <td>1.000000</td>\n",
       "    </tr>\n",
       "    <tr>\n",
       "      <th>75%</th>\n",
       "      <td>94.000000</td>\n",
       "      <td>105.000000</td>\n",
       "      <td>6.407300e+06</td>\n",
       "      <td>2667.000000</td>\n",
       "      <td>3.000000</td>\n",
       "      <td>4.000000</td>\n",
       "      <td>2019.000000</td>\n",
       "      <td>59.946158</td>\n",
       "      <td>10.882372</td>\n",
       "      <td>84873.417722</td>\n",
       "      <td>1.000000</td>\n",
       "      <td>0.000000</td>\n",
       "      <td>0.000000</td>\n",
       "      <td>0.000000</td>\n",
       "      <td>0.000000</td>\n",
       "      <td>0.000000</td>\n",
       "      <td>0.000000</td>\n",
       "      <td>0.000000</td>\n",
       "      <td>0.000000</td>\n",
       "      <td>0.000000</td>\n",
       "      <td>0.000000</td>\n",
       "      <td>0.000000</td>\n",
       "      <td>0.0</td>\n",
       "      <td>1.000000</td>\n",
       "      <td>0.000000</td>\n",
       "      <td>0.000000</td>\n",
       "      <td>1.000000</td>\n",
       "      <td>1.000000</td>\n",
       "      <td>1.000000</td>\n",
       "    </tr>\n",
       "    <tr>\n",
       "      <th>max</th>\n",
       "      <td>368.000000</td>\n",
       "      <td>479.000000</td>\n",
       "      <td>2.310457e+07</td>\n",
       "      <td>7715.000000</td>\n",
       "      <td>8.000000</td>\n",
       "      <td>12.000000</td>\n",
       "      <td>2019.000000</td>\n",
       "      <td>60.334302</td>\n",
       "      <td>11.569888</td>\n",
       "      <td>156462.585034</td>\n",
       "      <td>1.000000</td>\n",
       "      <td>1.000000</td>\n",
       "      <td>1.000000</td>\n",
       "      <td>1.000000</td>\n",
       "      <td>1.000000</td>\n",
       "      <td>1.000000</td>\n",
       "      <td>1.000000</td>\n",
       "      <td>1.000000</td>\n",
       "      <td>1.000000</td>\n",
       "      <td>1.000000</td>\n",
       "      <td>1.000000</td>\n",
       "      <td>1.000000</td>\n",
       "      <td>0.0</td>\n",
       "      <td>1.000000</td>\n",
       "      <td>1.000000</td>\n",
       "      <td>1.000000</td>\n",
       "      <td>1.000000</td>\n",
       "      <td>1.000000</td>\n",
       "      <td>1.000000</td>\n",
       "    </tr>\n",
       "  </tbody>\n",
       "</table>\n",
       "</div>"
      ],
      "text/plain": [
       "       primary_size  total_size         price       time_s  num_bedrooms  \\\n",
       "count    693.000000  693.000000  6.930000e+02   693.000000    693.000000   \n",
       "mean      82.523810   92.976768  5.409195e+06  1936.927850      2.186147   \n",
       "std       41.807722   51.846038  2.885322e+06  1155.062281      1.000713   \n",
       "min       14.000000   16.000000  1.514691e+06   326.000000      0.000000   \n",
       "25%       56.000000   62.000000  3.500622e+06  1113.000000      2.000000   \n",
       "50%       73.000000   80.000000  4.540060e+06  1553.000000      2.000000   \n",
       "75%       94.000000  105.000000  6.407300e+06  2667.000000      3.000000   \n",
       "max      368.000000  479.000000  2.310457e+07  7715.000000      8.000000   \n",
       "\n",
       "            floor  construction_year         lat         lng  price_per_sq_m  \\\n",
       "count  693.000000         693.000000  693.000000  693.000000      693.000000   \n",
       "mean     2.911977        1979.398268   59.936497   10.835018    69530.206063   \n",
       "std      1.755104          41.507226    0.116349    0.208572    23573.431255   \n",
       "min      1.000000        1850.000000   59.502466   10.376291    17347.783784   \n",
       "25%      2.000000        1952.000000   59.914704   10.732694    49100.833333   \n",
       "50%      2.000000        1988.000000   59.926846   10.774158    69499.151515   \n",
       "75%      4.000000        2019.000000   59.946158   10.882372    84873.417722   \n",
       "max     12.000000        2019.000000   60.334302   11.569888   156462.585034   \n",
       "\n",
       "       new_building_True  energy_letter_B  energy_letter_C  energy_letter_D  \\\n",
       "count         693.000000       693.000000       693.000000       693.000000   \n",
       "mean            0.301587         0.046176         0.080808         0.062049   \n",
       "std             0.459279         0.210018         0.272737         0.241419   \n",
       "min             0.000000         0.000000         0.000000         0.000000   \n",
       "25%             0.000000         0.000000         0.000000         0.000000   \n",
       "50%             0.000000         0.000000         0.000000         0.000000   \n",
       "75%             1.000000         0.000000         0.000000         0.000000   \n",
       "max             1.000000         1.000000         1.000000         1.000000   \n",
       "\n",
       "       energy_letter_E  energy_letter_F  energy_letter_G  \\\n",
       "count       693.000000       693.000000       693.000000   \n",
       "mean          0.062049         0.099567         0.126984   \n",
       "std           0.241419         0.299638         0.333196   \n",
       "min           0.000000         0.000000         0.000000   \n",
       "25%           0.000000         0.000000         0.000000   \n",
       "50%           0.000000         0.000000         0.000000   \n",
       "75%           0.000000         0.000000         0.000000   \n",
       "max           1.000000         1.000000         1.000000   \n",
       "\n",
       "       energy_color_lysegrønn  energy_color_mørkegrønn  energy_color_oransje  \\\n",
       "count           693.000000              693.000000               693.000000    \n",
       "mean              0.028860                0.086580                 0.138528    \n",
       "std               0.167534                0.281422                 0.345703    \n",
       "min               0.000000                0.000000                 0.000000    \n",
       "25%               0.000000                0.000000                 0.000000    \n",
       "50%               0.000000                0.000000                 0.000000    \n",
       "75%               0.000000                0.000000                 0.000000    \n",
       "max               1.000000                1.000000                 1.000000    \n",
       "\n",
       "       energy_color_rød  property_type_Enebolig  property_type_Hytte  \\\n",
       "count        693.000000           693.000000                   693.0   \n",
       "mean           0.200577             0.054834                     0.0   \n",
       "std            0.400721             0.227820                     0.0   \n",
       "min            0.000000             0.000000                     0.0   \n",
       "25%            0.000000             0.000000                     0.0   \n",
       "50%            0.000000             0.000000                     0.0   \n",
       "75%            0.000000             0.000000                     0.0   \n",
       "max            1.000000             1.000000                     0.0   \n",
       "\n",
       "       property_type_Leilighet  property_type_Rekkehus  \\\n",
       "count           693.000000               693.000000      \n",
       "mean              0.875902                 0.036075      \n",
       "std               0.329932                 0.186612      \n",
       "min               0.000000                 0.000000      \n",
       "25%               1.000000                 0.000000      \n",
       "50%               1.000000                 0.000000      \n",
       "75%               1.000000                 0.000000      \n",
       "max               1.000000                 1.000000      \n",
       "\n",
       "       property_type_Tomannsbolig  ownership_type_Andel  \\\n",
       "count           693.000000                  693.000000    \n",
       "mean              0.031746                    0.321789    \n",
       "std               0.175450                    0.467500    \n",
       "min               0.000000                    0.000000    \n",
       "25%               0.000000                    0.000000    \n",
       "50%               0.000000                    0.000000    \n",
       "75%               0.000000                    1.000000    \n",
       "max               1.000000                    1.000000    \n",
       "\n",
       "       ownership_type_Eier (Selveier)  address_in_oslo_True  \n",
       "count           693.000000                      693.000000   \n",
       "mean              0.642136                        0.620491   \n",
       "std               0.479718                        0.485615   \n",
       "min               0.000000                        0.000000   \n",
       "25%               0.000000                        0.000000   \n",
       "50%               1.000000                        1.000000   \n",
       "75%               1.000000                        1.000000   \n",
       "max               1.000000                        1.000000   "
      ]
     },
     "execution_count": 1799,
     "metadata": {},
     "output_type": "execute_result"
    }
   ],
   "source": [
    "model_data.describe()"
   ]
  },
  {
   "cell_type": "code",
   "execution_count": 1800,
   "metadata": {},
   "outputs": [
    {
     "name": "stdout",
     "output_type": "stream",
     "text": [
      "<class 'pandas.core.frame.DataFrame'>\n",
      "MultiIndex: 693 entries, (85287718, 13) to (150469257, 1858)\n",
      "Data columns (total 30 columns):\n",
      "primary_size                      693 non-null float64\n",
      "total_size                        693 non-null float64\n",
      "price                             693 non-null float64\n",
      "time_s                            693 non-null float64\n",
      "num_bedrooms                      693 non-null float64\n",
      "floor                             693 non-null float64\n",
      "construction_year                 693 non-null float64\n",
      "lat                               693 non-null float64\n",
      "lng                               693 non-null float64\n",
      "post_code                         693 non-null object\n",
      "price_per_sq_m                    693 non-null float64\n",
      "new_building_True                 693 non-null uint8\n",
      "energy_letter_B                   693 non-null uint8\n",
      "energy_letter_C                   693 non-null uint8\n",
      "energy_letter_D                   693 non-null uint8\n",
      "energy_letter_E                   693 non-null uint8\n",
      "energy_letter_F                   693 non-null uint8\n",
      "energy_letter_G                   693 non-null uint8\n",
      "energy_color_lysegrønn            693 non-null uint8\n",
      "energy_color_mørkegrønn           693 non-null uint8\n",
      "energy_color_oransje              693 non-null uint8\n",
      "energy_color_rød                  693 non-null uint8\n",
      "property_type_Enebolig            693 non-null uint8\n",
      "property_type_Hytte               693 non-null uint8\n",
      "property_type_Leilighet           693 non-null uint8\n",
      "property_type_Rekkehus            693 non-null uint8\n",
      "property_type_Tomannsbolig        693 non-null uint8\n",
      "ownership_type_Andel              693 non-null uint8\n",
      "ownership_type_Eier (Selveier)    693 non-null uint8\n",
      "address_in_oslo_True              693 non-null uint8\n",
      "dtypes: float64(10), object(1), uint8(19)\n",
      "memory usage: 89.7+ KB\n"
     ]
    }
   ],
   "source": [
    "model_data.info()"
   ]
  },
  {
   "cell_type": "code",
   "execution_count": 1801,
   "metadata": {},
   "outputs": [
    {
     "data": {
      "text/plain": [
       "Index(['primary_size', 'total_size', 'price', 'time_s', 'num_bedrooms',\n",
       "       'floor', 'construction_year', 'lat', 'lng', 'post_code',\n",
       "       'price_per_sq_m', 'new_building_True', 'energy_letter_B',\n",
       "       'energy_letter_C', 'energy_letter_D', 'energy_letter_E',\n",
       "       'energy_letter_F', 'energy_letter_G', 'energy_color_lysegrønn',\n",
       "       'energy_color_mørkegrønn', 'energy_color_oransje', 'energy_color_rød',\n",
       "       'property_type_Enebolig', 'property_type_Hytte',\n",
       "       'property_type_Leilighet', 'property_type_Rekkehus',\n",
       "       'property_type_Tomannsbolig', 'ownership_type_Andel',\n",
       "       'ownership_type_Eier (Selveier)', 'address_in_oslo_True'],\n",
       "      dtype='object')"
      ]
     },
     "execution_count": 1801,
     "metadata": {},
     "output_type": "execute_result"
    }
   ],
   "source": [
    "model_data.columns"
   ]
  },
  {
   "cell_type": "code",
   "execution_count": 1802,
   "metadata": {},
   "outputs": [],
   "source": [
    "target = 'price'\n",
    "possible_targets = ['price_per_sq_m', 'price']\n",
    "possible_targets.remove(target)"
   ]
  },
  {
   "cell_type": "code",
   "execution_count": 1803,
   "metadata": {},
   "outputs": [],
   "source": [
    "model_data.drop(possible_targets, axis=1, inplace=True)"
   ]
  },
  {
   "cell_type": "code",
   "execution_count": 1804,
   "metadata": {},
   "outputs": [],
   "source": [
    "cols = list(model_data.columns)\n",
    "cols.remove(target)\n",
    "cols.append(target)\n",
    "model_data = model_data[cols]"
   ]
  },
  {
   "cell_type": "code",
   "execution_count": 1805,
   "metadata": {},
   "outputs": [],
   "source": [
    "selected_cols = ['primary_size', 'price', 'time_s', 'num_bedrooms',\n",
    "                 'floor', 'construction_year', 'lat', 'lng',\n",
    "                 'property_type_Enebolig', 'property_type_Leilighet',\n",
    "                 'property_type_Rekkehus', 'ownership_type_Andel',\n",
    "                 'ownership_type_Eier (Selveier)', 'address_in_oslo_True']"
   ]
  },
  {
   "cell_type": "code",
   "execution_count": 1806,
   "metadata": {},
   "outputs": [],
   "source": [
    "model_data = model_data[selected_cols]"
   ]
  },
  {
   "cell_type": "markdown",
   "metadata": {},
   "source": [
    "model_data = scipy.sparse.csr_matrix(model_data.values)"
   ]
  },
  {
   "cell_type": "code",
   "execution_count": 1807,
   "metadata": {},
   "outputs": [],
   "source": [
    "random_seed = 42\n",
    "test_size = 0.25"
   ]
  },
  {
   "cell_type": "code",
   "execution_count": 1808,
   "metadata": {},
   "outputs": [],
   "source": [
    "X_train, X_test, y_train, y_test = train_test_split(model_data.drop(target, axis=1),\n",
    "                                                    model_data[target],\n",
    "                                                    test_size=test_size,\n",
    "                                                    random_state=random_seed)"
   ]
  },
  {
   "cell_type": "code",
   "execution_count": 1809,
   "metadata": {},
   "outputs": [
    {
     "data": {
      "text/plain": [
       "(519, 13)"
      ]
     },
     "execution_count": 1809,
     "metadata": {},
     "output_type": "execute_result"
    }
   ],
   "source": [
    "X_train.shape"
   ]
  },
  {
   "cell_type": "code",
   "execution_count": 1810,
   "metadata": {},
   "outputs": [],
   "source": [
    "def create_model():\n",
    "    model = Sequential()\n",
    "    model.add(Dense(32, input_dim=X_train.shape[1], activation=\"relu\"))\n",
    "    model.add(Dense(16, activation=\"relu\"))\n",
    "    # model.add(Dropout(0.25))\n",
    "    model.add(Dense(8, activation=\"relu\"))\n",
    "    model.add(Dense(4, activation=\"relu\"))\n",
    "    model.add(Dense(1, activation=\"linear\"))\n",
    "    model.compile(loss='mean_squared_error', optimizer='adam')\n",
    "    return model"
   ]
  },
  {
   "cell_type": "code",
   "execution_count": 1811,
   "metadata": {},
   "outputs": [],
   "source": [
    "steps = []\n",
    "\n",
    "steps.append(('scale', MinMaxScaler()))\n",
    "steps.append(('normalize', Normalizer()))\n",
    "# steps.append(('standardize', StandardScaler()))\n",
    "# steps.append(('dl', KerasRegressor(build_fn=create_model, epochs=700, batch_size=700, verbose=False)))\n",
    "steps.append(('ada', AdaBoostRegressor()))\n",
    "# steps.append(('linear', LinearRegression()))\n",
    "# steps.append(('kneighbors', KNeighborsRegressor()))\n",
    "# steps.append(('bayes', ComplementNB()))\n",
    "# steps.append(('mlp', MLPRegressor()))"
   ]
  },
  {
   "cell_type": "code",
   "execution_count": 1812,
   "metadata": {},
   "outputs": [],
   "source": [
    "pipeline = Pipeline(steps)"
   ]
  },
  {
   "cell_type": "code",
   "execution_count": 1813,
   "metadata": {},
   "outputs": [
    {
     "data": {
      "text/plain": [
       "Pipeline(memory=None,\n",
       "         steps=[('scale', MinMaxScaler(copy=True, feature_range=(0, 1))),\n",
       "                ('normalize', Normalizer(copy=True, norm='l2')),\n",
       "                ('ada',\n",
       "                 AdaBoostRegressor(base_estimator=None, learning_rate=1.0,\n",
       "                                   loss='linear', n_estimators=50,\n",
       "                                   random_state=None))],\n",
       "         verbose=False)"
      ]
     },
     "execution_count": 1813,
     "metadata": {},
     "output_type": "execute_result"
    }
   ],
   "source": [
    "pipeline.fit(X_train, y_train)"
   ]
  },
  {
   "cell_type": "code",
   "execution_count": 1814,
   "metadata": {},
   "outputs": [],
   "source": [
    "pred = pipeline.predict(X_test)"
   ]
  },
  {
   "cell_type": "code",
   "execution_count": 1815,
   "metadata": {},
   "outputs": [],
   "source": [
    "y_pred = pd.Series(pred, index=X_test.index, name='predicted')"
   ]
  },
  {
   "cell_type": "code",
   "execution_count": 1816,
   "metadata": {},
   "outputs": [],
   "source": [
    "res = {}\n",
    "for metric, name in zip([mean_absolute_error, median_absolute_error, r2_score, explained_variance_score],\n",
    "                        ['mean_abs_err', 'med_abs_err', 'r2_score', 'explained_var']):\n",
    "    res[name] = metric(y_test, y_pred)"
   ]
  },
  {
   "cell_type": "code",
   "execution_count": 1817,
   "metadata": {},
   "outputs": [
    {
     "data": {
      "text/plain": [
       "{'mean_abs_err': 1092759.856226043,\n",
       " 'med_abs_err': 930747.6445924765,\n",
       " 'r2_score': 0.6519597352648254,\n",
       " 'explained_var': 0.7180615594808168}"
      ]
     },
     "execution_count": 1817,
     "metadata": {},
     "output_type": "execute_result"
    }
   ],
   "source": [
    "res"
   ]
  },
  {
   "cell_type": "code",
   "execution_count": 1818,
   "metadata": {},
   "outputs": [],
   "source": [
    "train_sizes, train_scores, test_scores = learning_curve(pipeline,\n",
    "                                                        X_train,\n",
    "                                                        y_train,\n",
    "                                                        train_sizes = np.arange(0.1, 1.1, 0.1),\n",
    "                                                        scoring='neg_mean_absolute_error',\n",
    "                                                        cv=2)"
   ]
  },
  {
   "cell_type": "code",
   "execution_count": 1819,
   "metadata": {},
   "outputs": [],
   "source": [
    "learning_curve_res = pd.DataFrame(columns = range(train_scores.shape[1]))\n",
    "for result, result_type in zip([train_scores, test_scores], ['train', 'test']):\n",
    "    frame = pd.DataFrame(result)\n",
    "    frame['size'] = train_sizes\n",
    "    frame['type'] = result_type\n",
    "    learning_curve_res = learning_curve_res.append(frame, ignore_index = True)"
   ]
  },
  {
   "cell_type": "code",
   "execution_count": 1820,
   "metadata": {},
   "outputs": [],
   "source": [
    "learning_curve_res = learning_curve_res.melt(id_vars = ['size', 'type'], var_name = 'cv_fit', value_name = 'score')"
   ]
  },
  {
   "cell_type": "code",
   "execution_count": 1821,
   "metadata": {},
   "outputs": [
    {
     "data": {
      "text/plain": [
       "<matplotlib.axes._subplots.AxesSubplot at 0x14cf0db00>"
      ]
     },
     "execution_count": 1821,
     "metadata": {},
     "output_type": "execute_result"
    },
    {
     "data": {
      "image/png": "[encoded data removed]",
      "text/plain": [
       "<Figure size 864x576 with 1 Axes>"
      ]
     },
     "metadata": {},
     "output_type": "display_data"
    }
   ],
   "source": [
    "fig = plt.figure(figsize = (12, 8))\n",
    "plt.title('Learning Curves')\n",
    "sns.lineplot(x = 'size', y = 'score', hue = 'type', data = learning_curve_res)"
   ]
  },
  {
   "cell_type": "code",
   "execution_count": 1822,
   "metadata": {},
   "outputs": [],
   "source": [
    "feature_importances = pd.Series(pipeline.named_steps['ada'].feature_importances_, index=X_test.columns).sort_values(ascending=True)"
   ]
  },
  {
   "cell_type": "code",
   "execution_count": 1823,
   "metadata": {},
   "outputs": [
    {
     "data": {
      "text/plain": [
       "property_type_Rekkehus            0.000000\n",
       "property_type_Enebolig            0.001201\n",
       "property_type_Leilighet           0.002216\n",
       "ownership_type_Andel              0.005230\n",
       "floor                             0.011686\n",
       "lat                               0.026938\n",
       "construction_year                 0.048354\n",
       "ownership_type_Eier (Selveier)    0.053161\n",
       "num_bedrooms                      0.074016\n",
       "address_in_oslo_True              0.075282\n",
       "lng                               0.109649\n",
       "time_s                            0.224560\n",
       "primary_size                      0.367707\n",
       "dtype: float64"
      ]
     },
     "execution_count": 1823,
     "metadata": {},
     "output_type": "execute_result"
    }
   ],
   "source": [
    "feature_importances"
   ]
  },
  {
   "cell_type": "code",
   "execution_count": 1824,
   "metadata": {},
   "outputs": [
    {
     "data": {
      "image/png": "[encoded data removed]",
      "text/plain": [
       "<Figure size 1008x720 with 1 Axes>"
      ]
     },
     "metadata": {},
     "output_type": "display_data"
    }
   ],
   "source": [
    "plt.yticks(range(len(feature_importances)), feature_importances.index)\n",
    "plt.title('Feature Importances')\n",
    "plt.barh(range(len(feature_importances)), feature_importances)\n",
    "plt.show()"
   ]
  },
  {
   "cell_type": "code",
   "execution_count": null,
   "metadata": {},
   "outputs": [],
   "source": []
  },
  {
   "cell_type": "code",
   "execution_count": null,
   "metadata": {},
   "outputs": [],
   "source": []
  },
  {
   "cell_type": "code",
   "execution_count": null,
   "metadata": {},
   "outputs": [],
   "source": []
  },
  {
   "cell_type": "code",
   "execution_count": null,
   "metadata": {},
   "outputs": [],
   "source": []
  },
  {
   "cell_type": "code",
   "execution_count": null,
   "metadata": {},
   "outputs": [],
   "source": []
  },
  {
   "cell_type": "code",
   "execution_count": 1825,
   "metadata": {},
   "outputs": [],
   "source": [
    "prop1 = [[225, 1860, 5, 3, 1921, 59.938175, 10.967029, 1, 0, 0, 0, 1, 0]]\n",
    "prop2 = [[103, 1920, 3, 3, 1978, 59.946532, 10.895096, 0, 1, 0, 1, 0, 1]]"
   ]
  },
  {
   "cell_type": "code",
   "execution_count": 1826,
   "metadata": {},
   "outputs": [
    {
     "data": {
      "text/plain": [
       "8514403"
      ]
     },
     "execution_count": 1826,
     "metadata": {},
     "output_type": "execute_result"
    }
   ],
   "source": [
    "int(pipeline.predict(prop1))"
   ]
  },
  {
   "cell_type": "code",
   "execution_count": 1827,
   "metadata": {},
   "outputs": [
    {
     "data": {
      "text/plain": [
       "6101072"
      ]
     },
     "execution_count": 1827,
     "metadata": {},
     "output_type": "execute_result"
    }
   ],
   "source": [
    "int(pipeline.predict(prop2))"
   ]
  },
  {
   "cell_type": "code",
   "execution_count": null,
   "metadata": {},
   "outputs": [],
   "source": []
  }
 ],
 "metadata": {
  "kernelspec": {
   "display_name": "Python 3",
   "language": "python",
   "name": "python3"
  },
  "language_info": {
   "codemirror_mode": {
    "name": "ipython",
    "version": 3
   },
   "file_extension": ".py",
   "mimetype": "text/x-python",
   "name": "python",
   "nbconvert_exporter": "python",
   "pygments_lexer": "ipython3",
   "version": "3.7.3"
  }
 },
 "nbformat": 4,
 "nbformat_minor": 2
}
