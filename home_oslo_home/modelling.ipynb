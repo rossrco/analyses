{
 "cells": [
  {
   "cell_type": "code",
   "execution_count": 731,
   "metadata": {},
   "outputs": [],
   "source": [
    "import os\n",
    "import pandas as pd\n",
    "import numpy as np\n",
    "from google.cloud import bigquery\n",
    "import matplotlib.pyplot as plt\n",
    "import seaborn as sns"
   ]
  },
  {
   "cell_type": "code",
   "execution_count": 732,
   "metadata": {},
   "outputs": [],
   "source": [
    "from keras.models import Sequential\n",
    "from keras.layers import Dense, Dropout\n",
    "from keras.wrappers.scikit_learn import KerasRegressor\n",
    "from sklearn.model_selection import train_test_split, KFold, cross_val_score, learning_curve\n",
    "from sklearn.preprocessing import MinMaxScaler, StandardScaler, normalize, Normalizer\n",
    "from sklearn.metrics import mean_absolute_error\n",
    "from sklearn.ensemble import AdaBoostRegressor, IsolationForest\n",
    "from sklearn.pipeline import make_pipeline, Pipeline\n",
    "from sklearn.linear_model import LinearRegression\n",
    "from sklearn.neighbors import KNeighborsRegressor\n",
    "from sklearn.naive_bayes import ComplementNB\n",
    "from sklearn.neural_network import MLPRegressor"
   ]
  },
  {
   "cell_type": "code",
   "execution_count": 733,
   "metadata": {},
   "outputs": [],
   "source": [
    "#set the visual style\n",
    "pd.set_option('display.max_colwidth', 20)\n",
    "pd.set_option('display.max_columns', 100)\n",
    "pd.set_option('display.max_rows', 10000)\n",
    "from IPython.display import display, HTML\n",
    "%matplotlib inline\n",
    "sns.set(style='dark')\n",
    "plt.rcParams['figure.figsize'] = [14, 10]"
   ]
  },
  {
   "cell_type": "code",
   "execution_count": 734,
   "metadata": {},
   "outputs": [],
   "source": [
    "query_dir = 'queries'"
   ]
  },
  {
   "cell_type": "code",
   "execution_count": 735,
   "metadata": {},
   "outputs": [],
   "source": [
    "queries = {}\n",
    "for query_file in (os.listdir(query_dir)):\n",
    "    with open(os.path.join(query_dir, query_file), 'r') as query:\n",
    "        queries[query_file] = query.read()"
   ]
  },
  {
   "cell_type": "code",
   "execution_count": 736,
   "metadata": {},
   "outputs": [],
   "source": [
    "query_client = bigquery.Client()"
   ]
  },
  {
   "cell_type": "code",
   "execution_count": 737,
   "metadata": {},
   "outputs": [],
   "source": [
    "request = queries['combined_analysis_data.sql']"
   ]
  },
  {
   "cell_type": "code",
   "execution_count": 738,
   "metadata": {},
   "outputs": [],
   "source": [
    "data = query_client.query(request).to_dataframe()"
   ]
  },
  {
   "cell_type": "code",
   "execution_count": 739,
   "metadata": {},
   "outputs": [],
   "source": [
    "data = data[(data.price.notna()) & (data.primary_size.notna())].copy()"
   ]
  },
  {
   "cell_type": "code",
   "execution_count": 740,
   "metadata": {},
   "outputs": [
    {
     "name": "stdout",
     "output_type": "stream",
     "text": [
      "<class 'pandas.core.frame.DataFrame'>\n",
      "Int64Index: 1602 entries, 0 to 1858\n",
      "Data columns (total 21 columns):\n",
      "ad_id                1602 non-null int64\n",
      "apt_id               855 non-null object\n",
      "new_building         1602 non-null bool\n",
      "num_bedrooms         1580 non-null float64\n",
      "floor                1273 non-null float64\n",
      "primary_size         1602 non-null float64\n",
      "total_size           1546 non-null float64\n",
      "price                1602 non-null float64\n",
      "property_type        1602 non-null object\n",
      "ownership_type       1602 non-null object\n",
      "construction_year    1601 non-null float64\n",
      "energy_character     753 non-null object\n",
      "common_expenses      561 non-null float64\n",
      "common_wealth        418 non-null float64\n",
      "common_debt          536 non-null float64\n",
      "time_s               1536 non-null float64\n",
      "lat                  1536 non-null float64\n",
      "lng                  1536 non-null float64\n",
      "address              1602 non-null object\n",
      "short_description    1602 non-null object\n",
      "full_description     1602 non-null object\n",
      "dtypes: bool(1), float64(12), int64(1), object(7)\n",
      "memory usage: 264.4+ KB\n"
     ]
    }
   ],
   "source": [
    "data.info()"
   ]
  },
  {
   "cell_type": "code",
   "execution_count": 741,
   "metadata": {},
   "outputs": [
    {
     "data": {
      "text/html": [
       "<div>\n",
       "<style scoped>\n",
       "    .dataframe tbody tr th:only-of-type {\n",
       "        vertical-align: middle;\n",
       "    }\n",
       "\n",
       "    .dataframe tbody tr th {\n",
       "        vertical-align: top;\n",
       "    }\n",
       "\n",
       "    .dataframe thead th {\n",
       "        text-align: right;\n",
       "    }\n",
       "</style>\n",
       "<table border=\"1\" class=\"dataframe\">\n",
       "  <thead>\n",
       "    <tr style=\"text-align: right;\">\n",
       "      <th></th>\n",
       "      <th>ad_id</th>\n",
       "      <th>apt_id</th>\n",
       "      <th>new_building</th>\n",
       "      <th>num_bedrooms</th>\n",
       "      <th>floor</th>\n",
       "      <th>primary_size</th>\n",
       "      <th>total_size</th>\n",
       "      <th>price</th>\n",
       "      <th>property_type</th>\n",
       "      <th>ownership_type</th>\n",
       "      <th>construction_year</th>\n",
       "      <th>energy_character</th>\n",
       "      <th>common_expenses</th>\n",
       "      <th>common_wealth</th>\n",
       "      <th>common_debt</th>\n",
       "      <th>time_s</th>\n",
       "      <th>lat</th>\n",
       "      <th>lng</th>\n",
       "      <th>address</th>\n",
       "      <th>short_description</th>\n",
       "      <th>full_description</th>\n",
       "    </tr>\n",
       "  </thead>\n",
       "  <tbody>\n",
       "    <tr>\n",
       "      <th>0</th>\n",
       "      <td>85287718</td>\n",
       "      <td>120</td>\n",
       "      <td>True</td>\n",
       "      <td>2.0</td>\n",
       "      <td>1.0</td>\n",
       "      <td>48.0</td>\n",
       "      <td>59.0</td>\n",
       "      <td>4150000.0</td>\n",
       "      <td>Leilighet</td>\n",
       "      <td>Eier (Selveier)</td>\n",
       "      <td>2019.0</td>\n",
       "      <td>None</td>\n",
       "      <td>NaN</td>\n",
       "      <td>NaN</td>\n",
       "      <td>NaN</td>\n",
       "      <td>1262.0</td>\n",
       "      <td>59.916908</td>\n",
       "      <td>10.801887</td>\n",
       "      <td>Innspurten 6, 06...</td>\n",
       "      <td>Hovinenga Hus C ...</td>\n",
       "      <td>Ansvarlig megler...</td>\n",
       "    </tr>\n",
       "    <tr>\n",
       "      <th>1</th>\n",
       "      <td>85287718</td>\n",
       "      <td>143</td>\n",
       "      <td>True</td>\n",
       "      <td>2.0</td>\n",
       "      <td>2.0</td>\n",
       "      <td>56.0</td>\n",
       "      <td>61.0</td>\n",
       "      <td>4350000.0</td>\n",
       "      <td>Leilighet</td>\n",
       "      <td>Eier (Selveier)</td>\n",
       "      <td>2019.0</td>\n",
       "      <td>None</td>\n",
       "      <td>NaN</td>\n",
       "      <td>NaN</td>\n",
       "      <td>NaN</td>\n",
       "      <td>1262.0</td>\n",
       "      <td>59.916908</td>\n",
       "      <td>10.801887</td>\n",
       "      <td>Innspurten 6, 06...</td>\n",
       "      <td>Hovinenga Hus C ...</td>\n",
       "      <td>Ansvarlig megler...</td>\n",
       "    </tr>\n",
       "    <tr>\n",
       "      <th>2</th>\n",
       "      <td>85287718</td>\n",
       "      <td>183</td>\n",
       "      <td>True</td>\n",
       "      <td>2.0</td>\n",
       "      <td>5.0</td>\n",
       "      <td>51.0</td>\n",
       "      <td>59.0</td>\n",
       "      <td>4350000.0</td>\n",
       "      <td>Leilighet</td>\n",
       "      <td>Eier (Selveier)</td>\n",
       "      <td>2019.0</td>\n",
       "      <td>None</td>\n",
       "      <td>NaN</td>\n",
       "      <td>NaN</td>\n",
       "      <td>NaN</td>\n",
       "      <td>1262.0</td>\n",
       "      <td>59.916908</td>\n",
       "      <td>10.801887</td>\n",
       "      <td>Innspurten 6, 06...</td>\n",
       "      <td>Hovinenga Hus C ...</td>\n",
       "      <td>Ansvarlig megler...</td>\n",
       "    </tr>\n",
       "    <tr>\n",
       "      <th>3</th>\n",
       "      <td>85287718</td>\n",
       "      <td>187</td>\n",
       "      <td>True</td>\n",
       "      <td>2.0</td>\n",
       "      <td>5.0</td>\n",
       "      <td>48.0</td>\n",
       "      <td>59.0</td>\n",
       "      <td>4350000.0</td>\n",
       "      <td>Leilighet</td>\n",
       "      <td>Eier (Selveier)</td>\n",
       "      <td>2019.0</td>\n",
       "      <td>None</td>\n",
       "      <td>NaN</td>\n",
       "      <td>NaN</td>\n",
       "      <td>NaN</td>\n",
       "      <td>1262.0</td>\n",
       "      <td>59.916908</td>\n",
       "      <td>10.801887</td>\n",
       "      <td>Innspurten 6, 06...</td>\n",
       "      <td>Hovinenga Hus C ...</td>\n",
       "      <td>Ansvarlig megler...</td>\n",
       "    </tr>\n",
       "    <tr>\n",
       "      <th>4</th>\n",
       "      <td>85287718</td>\n",
       "      <td>204</td>\n",
       "      <td>True</td>\n",
       "      <td>3.0</td>\n",
       "      <td>6.0</td>\n",
       "      <td>86.0</td>\n",
       "      <td>92.0</td>\n",
       "      <td>8495000.0</td>\n",
       "      <td>Leilighet</td>\n",
       "      <td>Eier (Selveier)</td>\n",
       "      <td>2019.0</td>\n",
       "      <td>None</td>\n",
       "      <td>NaN</td>\n",
       "      <td>NaN</td>\n",
       "      <td>NaN</td>\n",
       "      <td>1262.0</td>\n",
       "      <td>59.916908</td>\n",
       "      <td>10.801887</td>\n",
       "      <td>Innspurten 6, 06...</td>\n",
       "      <td>Hovinenga Hus C ...</td>\n",
       "      <td>Ansvarlig megler...</td>\n",
       "    </tr>\n",
       "  </tbody>\n",
       "</table>\n",
       "</div>"
      ],
      "text/plain": [
       "      ad_id apt_id  new_building  num_bedrooms  floor  primary_size  \\\n",
       "0  85287718    120          True           2.0    1.0          48.0   \n",
       "1  85287718    143          True           2.0    2.0          56.0   \n",
       "2  85287718    183          True           2.0    5.0          51.0   \n",
       "3  85287718    187          True           2.0    5.0          48.0   \n",
       "4  85287718    204          True           3.0    6.0          86.0   \n",
       "\n",
       "   total_size      price property_type   ownership_type  construction_year  \\\n",
       "0        59.0  4150000.0     Leilighet  Eier (Selveier)             2019.0   \n",
       "1        61.0  4350000.0     Leilighet  Eier (Selveier)             2019.0   \n",
       "2        59.0  4350000.0     Leilighet  Eier (Selveier)             2019.0   \n",
       "3        59.0  4350000.0     Leilighet  Eier (Selveier)             2019.0   \n",
       "4        92.0  8495000.0     Leilighet  Eier (Selveier)             2019.0   \n",
       "\n",
       "  energy_character  common_expenses  common_wealth  common_debt  time_s  \\\n",
       "0             None              NaN            NaN          NaN  1262.0   \n",
       "1             None              NaN            NaN          NaN  1262.0   \n",
       "2             None              NaN            NaN          NaN  1262.0   \n",
       "3             None              NaN            NaN          NaN  1262.0   \n",
       "4             None              NaN            NaN          NaN  1262.0   \n",
       "\n",
       "         lat        lng              address    short_description  \\\n",
       "0  59.916908  10.801887  Innspurten 6, 06...  Hovinenga Hus C ...   \n",
       "1  59.916908  10.801887  Innspurten 6, 06...  Hovinenga Hus C ...   \n",
       "2  59.916908  10.801887  Innspurten 6, 06...  Hovinenga Hus C ...   \n",
       "3  59.916908  10.801887  Innspurten 6, 06...  Hovinenga Hus C ...   \n",
       "4  59.916908  10.801887  Innspurten 6, 06...  Hovinenga Hus C ...   \n",
       "\n",
       "      full_description  \n",
       "0  Ansvarlig megler...  \n",
       "1  Ansvarlig megler...  \n",
       "2  Ansvarlig megler...  \n",
       "3  Ansvarlig megler...  \n",
       "4  Ansvarlig megler...  "
      ]
     },
     "execution_count": 741,
     "metadata": {},
     "output_type": "execute_result"
    }
   ],
   "source": [
    "data.head()"
   ]
  },
  {
   "cell_type": "code",
   "execution_count": 742,
   "metadata": {},
   "outputs": [],
   "source": [
    "energy_cols = ['energy_letter', 'energy_color']\n",
    "\n",
    "for col in energy_cols:\n",
    "    data[col] = 0\n",
    "\n",
    "energy_res = [[c.strip() for c in char.split('-')] if char is not None and '-' in char else [None, None] for char in data.energy_character]\n",
    "data[energy_cols] = pd.DataFrame(energy_res, columns=energy_cols)"
   ]
  },
  {
   "cell_type": "code",
   "execution_count": 743,
   "metadata": {},
   "outputs": [],
   "source": [
    "num_cols = ['primary_size', 'total_size', 'price', 'time_s', 'num_bedrooms', 'floor', 'construction_year', 'lat', 'lng']\n",
    "cat_cols = ['new_building', 'energy_letter', 'energy_color', 'property_type', 'ownership_type']\n",
    "text_cols = ['short_description', 'full_description']"
   ]
  },
  {
   "cell_type": "code",
   "execution_count": 744,
   "metadata": {},
   "outputs": [],
   "source": [
    "sample_size = 5"
   ]
  },
  {
   "cell_type": "code",
   "execution_count": 745,
   "metadata": {},
   "outputs": [],
   "source": [
    "data_random_one_from_new_buildings = data.groupby('ad_id').apply(lambda obj: obj.sample(sample_size)\n",
    "                                                                 if len(obj) > sample_size\n",
    "                                                                 else obj.sample(len(obj)))"
   ]
  },
  {
   "cell_type": "code",
   "execution_count": 746,
   "metadata": {},
   "outputs": [],
   "source": [
    "num_data = data_random_one_from_new_buildings[num_cols].copy()"
   ]
  },
  {
   "cell_type": "code",
   "execution_count": 747,
   "metadata": {},
   "outputs": [],
   "source": [
    "cat_data = data_random_one_from_new_buildings[cat_cols].copy()"
   ]
  },
  {
   "cell_type": "code",
   "execution_count": 748,
   "metadata": {},
   "outputs": [],
   "source": [
    "for col in cat_cols:\n",
    "    cat_data = cat_data.join(pd.get_dummies(cat_data[col], prefix=col, drop_first=True))\n",
    "    cat_data.drop(col, axis=1, inplace=True)"
   ]
  },
  {
   "cell_type": "code",
   "execution_count": 749,
   "metadata": {},
   "outputs": [],
   "source": [
    "text_data = data_random_one_from_new_buildings[text_cols].copy()"
   ]
  },
  {
   "cell_type": "code",
   "execution_count": 750,
   "metadata": {},
   "outputs": [],
   "source": [
    "num_data['price_per_sq_m'] = num_data.price / num_data.primary_size"
   ]
  },
  {
   "cell_type": "code",
   "execution_count": 751,
   "metadata": {},
   "outputs": [],
   "source": [
    "num_cat_data_corr = num_data.join(cat_data).corr()"
   ]
  },
  {
   "cell_type": "code",
   "execution_count": 752,
   "metadata": {},
   "outputs": [
    {
     "data": {
      "text/plain": [
       "<matplotlib.axes._subplots.AxesSubplot at 0x14988ea20>"
      ]
     },
     "execution_count": 752,
     "metadata": {},
     "output_type": "execute_result"
    },
    {
     "data": {
      "image/png": "[encoded data removed]",
      "text/plain": [
       "<Figure size 1008x720 with 2 Axes>"
      ]
     },
     "metadata": {},
     "output_type": "display_data"
    }
   ],
   "source": [
    "sns.heatmap(num_cat_data_corr)"
   ]
  },
  {
   "cell_type": "code",
   "execution_count": 753,
   "metadata": {},
   "outputs": [
    {
     "data": {
      "image/png": "[encoded data removed]",
      "text/plain": [
       "<Figure size 864x576 with 1 Axes>"
      ]
     },
     "metadata": {},
     "output_type": "display_data"
    }
   ],
   "source": [
    "corr_col = 'price_per_sq_m'\n",
    "to_plot = num_cat_data_corr[corr_col].drop(corr_col).sort_values(ascending=False)\n",
    "f = plt.figure(figsize=(12, 8))\n",
    "plt.yticks(range(len(to_plot)), to_plot.index)\n",
    "plt.title(f'Correlation Of {corr_col}')\n",
    "plt.barh(range(len(to_plot)), to_plot)\n",
    "plt.show()"
   ]
  },
  {
   "cell_type": "code",
   "execution_count": 754,
   "metadata": {},
   "outputs": [],
   "source": [
    "model_data = num_data.join(cat_data)"
   ]
  },
  {
   "cell_type": "code",
   "execution_count": 755,
   "metadata": {},
   "outputs": [],
   "source": [
    "model_data.dropna(inplace=True)"
   ]
  },
  {
   "cell_type": "code",
   "execution_count": 756,
   "metadata": {},
   "outputs": [],
   "source": [
    "# model_data = model_data[model_data.total_size.isin(range(45, 95))]\n",
    "# model_data = model_data[model_data.price.isin(range(int(3e6), int(8e6)))]"
   ]
  },
  {
   "cell_type": "code",
   "execution_count": 757,
   "metadata": {},
   "outputs": [
    {
     "data": {
      "text/html": [
       "<div>\n",
       "<style scoped>\n",
       "    .dataframe tbody tr th:only-of-type {\n",
       "        vertical-align: middle;\n",
       "    }\n",
       "\n",
       "    .dataframe tbody tr th {\n",
       "        vertical-align: top;\n",
       "    }\n",
       "\n",
       "    .dataframe thead th {\n",
       "        text-align: right;\n",
       "    }\n",
       "</style>\n",
       "<table border=\"1\" class=\"dataframe\">\n",
       "  <thead>\n",
       "    <tr style=\"text-align: right;\">\n",
       "      <th></th>\n",
       "      <th>primary_size</th>\n",
       "      <th>total_size</th>\n",
       "      <th>price</th>\n",
       "      <th>time_s</th>\n",
       "      <th>num_bedrooms</th>\n",
       "      <th>floor</th>\n",
       "      <th>construction_year</th>\n",
       "      <th>lat</th>\n",
       "      <th>lng</th>\n",
       "      <th>price_per_sq_m</th>\n",
       "      <th>new_building_True</th>\n",
       "      <th>energy_letter_B</th>\n",
       "      <th>energy_letter_C</th>\n",
       "      <th>energy_letter_D</th>\n",
       "      <th>energy_letter_E</th>\n",
       "      <th>energy_letter_F</th>\n",
       "      <th>energy_letter_G</th>\n",
       "      <th>energy_letter_oransje</th>\n",
       "      <th>energy_color_lysegrønn</th>\n",
       "      <th>energy_color_mørkegrønn</th>\n",
       "      <th>energy_color_oransje</th>\n",
       "      <th>energy_color_rød</th>\n",
       "      <th>property_type_Enebolig</th>\n",
       "      <th>property_type_Hytte</th>\n",
       "      <th>property_type_Leilighet</th>\n",
       "      <th>property_type_Rekkehus</th>\n",
       "      <th>property_type_Tomannsbolig</th>\n",
       "      <th>ownership_type_Andel</th>\n",
       "      <th>ownership_type_Eier (Selveier)</th>\n",
       "    </tr>\n",
       "  </thead>\n",
       "  <tbody>\n",
       "    <tr>\n",
       "      <th>count</th>\n",
       "      <td>694.000000</td>\n",
       "      <td>694.000000</td>\n",
       "      <td>6.940000e+02</td>\n",
       "      <td>694.000000</td>\n",
       "      <td>694.000000</td>\n",
       "      <td>694.000000</td>\n",
       "      <td>694.000000</td>\n",
       "      <td>694.000000</td>\n",
       "      <td>694.000000</td>\n",
       "      <td>694.000000</td>\n",
       "      <td>694.000000</td>\n",
       "      <td>694.000000</td>\n",
       "      <td>694.000000</td>\n",
       "      <td>694.000000</td>\n",
       "      <td>694.000000</td>\n",
       "      <td>694.000000</td>\n",
       "      <td>694.000000</td>\n",
       "      <td>694.000000</td>\n",
       "      <td>694.000000</td>\n",
       "      <td>694.000000</td>\n",
       "      <td>694.000000</td>\n",
       "      <td>694.000000</td>\n",
       "      <td>694.000000</td>\n",
       "      <td>694.0</td>\n",
       "      <td>694.000000</td>\n",
       "      <td>694.000000</td>\n",
       "      <td>694.000000</td>\n",
       "      <td>694.000000</td>\n",
       "      <td>694.000000</td>\n",
       "    </tr>\n",
       "    <tr>\n",
       "      <th>mean</th>\n",
       "      <td>82.221902</td>\n",
       "      <td>92.699568</td>\n",
       "      <td>5.395997e+06</td>\n",
       "      <td>1935.305476</td>\n",
       "      <td>2.193084</td>\n",
       "      <td>2.938040</td>\n",
       "      <td>1979.455331</td>\n",
       "      <td>59.936466</td>\n",
       "      <td>10.834952</td>\n",
       "      <td>69759.621675</td>\n",
       "      <td>0.302594</td>\n",
       "      <td>0.034582</td>\n",
       "      <td>0.072046</td>\n",
       "      <td>0.066282</td>\n",
       "      <td>0.063401</td>\n",
       "      <td>0.103746</td>\n",
       "      <td>0.132565</td>\n",
       "      <td>0.001441</td>\n",
       "      <td>0.030259</td>\n",
       "      <td>0.087896</td>\n",
       "      <td>0.136888</td>\n",
       "      <td>0.193084</td>\n",
       "      <td>0.054755</td>\n",
       "      <td>0.0</td>\n",
       "      <td>0.876081</td>\n",
       "      <td>0.036023</td>\n",
       "      <td>0.031700</td>\n",
       "      <td>0.322767</td>\n",
       "      <td>0.641210</td>\n",
       "    </tr>\n",
       "    <tr>\n",
       "      <th>std</th>\n",
       "      <td>41.600620</td>\n",
       "      <td>51.692447</td>\n",
       "      <td>2.827813e+06</td>\n",
       "      <td>1155.019629</td>\n",
       "      <td>0.993577</td>\n",
       "      <td>1.747534</td>\n",
       "      <td>41.504500</td>\n",
       "      <td>0.116267</td>\n",
       "      <td>0.208429</td>\n",
       "      <td>23765.092221</td>\n",
       "      <td>0.459712</td>\n",
       "      <td>0.182851</td>\n",
       "      <td>0.258751</td>\n",
       "      <td>0.248955</td>\n",
       "      <td>0.243858</td>\n",
       "      <td>0.305151</td>\n",
       "      <td>0.339348</td>\n",
       "      <td>0.037959</td>\n",
       "      <td>0.171424</td>\n",
       "      <td>0.283348</td>\n",
       "      <td>0.343977</td>\n",
       "      <td>0.395003</td>\n",
       "      <td>0.227666</td>\n",
       "      <td>0.0</td>\n",
       "      <td>0.329727</td>\n",
       "      <td>0.186482</td>\n",
       "      <td>0.175327</td>\n",
       "      <td>0.467871</td>\n",
       "      <td>0.479991</td>\n",
       "    </tr>\n",
       "    <tr>\n",
       "      <th>min</th>\n",
       "      <td>14.000000</td>\n",
       "      <td>16.000000</td>\n",
       "      <td>1.514691e+06</td>\n",
       "      <td>326.000000</td>\n",
       "      <td>0.000000</td>\n",
       "      <td>1.000000</td>\n",
       "      <td>1850.000000</td>\n",
       "      <td>59.502466</td>\n",
       "      <td>10.376291</td>\n",
       "      <td>17347.783784</td>\n",
       "      <td>0.000000</td>\n",
       "      <td>0.000000</td>\n",
       "      <td>0.000000</td>\n",
       "      <td>0.000000</td>\n",
       "      <td>0.000000</td>\n",
       "      <td>0.000000</td>\n",
       "      <td>0.000000</td>\n",
       "      <td>0.000000</td>\n",
       "      <td>0.000000</td>\n",
       "      <td>0.000000</td>\n",
       "      <td>0.000000</td>\n",
       "      <td>0.000000</td>\n",
       "      <td>0.000000</td>\n",
       "      <td>0.0</td>\n",
       "      <td>0.000000</td>\n",
       "      <td>0.000000</td>\n",
       "      <td>0.000000</td>\n",
       "      <td>0.000000</td>\n",
       "      <td>0.000000</td>\n",
       "    </tr>\n",
       "    <tr>\n",
       "      <th>25%</th>\n",
       "      <td>56.000000</td>\n",
       "      <td>62.000000</td>\n",
       "      <td>3.516563e+06</td>\n",
       "      <td>1113.000000</td>\n",
       "      <td>2.000000</td>\n",
       "      <td>2.000000</td>\n",
       "      <td>1952.250000</td>\n",
       "      <td>59.914725</td>\n",
       "      <td>10.732717</td>\n",
       "      <td>49083.696970</td>\n",
       "      <td>0.000000</td>\n",
       "      <td>0.000000</td>\n",
       "      <td>0.000000</td>\n",
       "      <td>0.000000</td>\n",
       "      <td>0.000000</td>\n",
       "      <td>0.000000</td>\n",
       "      <td>0.000000</td>\n",
       "      <td>0.000000</td>\n",
       "      <td>0.000000</td>\n",
       "      <td>0.000000</td>\n",
       "      <td>0.000000</td>\n",
       "      <td>0.000000</td>\n",
       "      <td>0.000000</td>\n",
       "      <td>0.0</td>\n",
       "      <td>1.000000</td>\n",
       "      <td>0.000000</td>\n",
       "      <td>0.000000</td>\n",
       "      <td>0.000000</td>\n",
       "      <td>0.000000</td>\n",
       "    </tr>\n",
       "    <tr>\n",
       "      <th>50%</th>\n",
       "      <td>72.000000</td>\n",
       "      <td>80.000000</td>\n",
       "      <td>4.568736e+06</td>\n",
       "      <td>1551.500000</td>\n",
       "      <td>2.000000</td>\n",
       "      <td>2.000000</td>\n",
       "      <td>1988.000000</td>\n",
       "      <td>59.926644</td>\n",
       "      <td>10.774202</td>\n",
       "      <td>69609.940382</td>\n",
       "      <td>0.000000</td>\n",
       "      <td>0.000000</td>\n",
       "      <td>0.000000</td>\n",
       "      <td>0.000000</td>\n",
       "      <td>0.000000</td>\n",
       "      <td>0.000000</td>\n",
       "      <td>0.000000</td>\n",
       "      <td>0.000000</td>\n",
       "      <td>0.000000</td>\n",
       "      <td>0.000000</td>\n",
       "      <td>0.000000</td>\n",
       "      <td>0.000000</td>\n",
       "      <td>0.000000</td>\n",
       "      <td>0.0</td>\n",
       "      <td>1.000000</td>\n",
       "      <td>0.000000</td>\n",
       "      <td>0.000000</td>\n",
       "      <td>0.000000</td>\n",
       "      <td>1.000000</td>\n",
       "    </tr>\n",
       "    <tr>\n",
       "      <th>75%</th>\n",
       "      <td>93.000000</td>\n",
       "      <td>104.000000</td>\n",
       "      <td>6.389677e+06</td>\n",
       "      <td>2662.250000</td>\n",
       "      <td>3.000000</td>\n",
       "      <td>4.000000</td>\n",
       "      <td>2019.000000</td>\n",
       "      <td>59.946084</td>\n",
       "      <td>10.882103</td>\n",
       "      <td>85336.145175</td>\n",
       "      <td>1.000000</td>\n",
       "      <td>0.000000</td>\n",
       "      <td>0.000000</td>\n",
       "      <td>0.000000</td>\n",
       "      <td>0.000000</td>\n",
       "      <td>0.000000</td>\n",
       "      <td>0.000000</td>\n",
       "      <td>0.000000</td>\n",
       "      <td>0.000000</td>\n",
       "      <td>0.000000</td>\n",
       "      <td>0.000000</td>\n",
       "      <td>0.000000</td>\n",
       "      <td>0.000000</td>\n",
       "      <td>0.0</td>\n",
       "      <td>1.000000</td>\n",
       "      <td>0.000000</td>\n",
       "      <td>0.000000</td>\n",
       "      <td>1.000000</td>\n",
       "      <td>1.000000</td>\n",
       "    </tr>\n",
       "    <tr>\n",
       "      <th>max</th>\n",
       "      <td>368.000000</td>\n",
       "      <td>479.000000</td>\n",
       "      <td>2.310457e+07</td>\n",
       "      <td>7715.000000</td>\n",
       "      <td>8.000000</td>\n",
       "      <td>12.000000</td>\n",
       "      <td>2019.000000</td>\n",
       "      <td>60.334302</td>\n",
       "      <td>11.569888</td>\n",
       "      <td>152294.000000</td>\n",
       "      <td>1.000000</td>\n",
       "      <td>1.000000</td>\n",
       "      <td>1.000000</td>\n",
       "      <td>1.000000</td>\n",
       "      <td>1.000000</td>\n",
       "      <td>1.000000</td>\n",
       "      <td>1.000000</td>\n",
       "      <td>1.000000</td>\n",
       "      <td>1.000000</td>\n",
       "      <td>1.000000</td>\n",
       "      <td>1.000000</td>\n",
       "      <td>1.000000</td>\n",
       "      <td>1.000000</td>\n",
       "      <td>0.0</td>\n",
       "      <td>1.000000</td>\n",
       "      <td>1.000000</td>\n",
       "      <td>1.000000</td>\n",
       "      <td>1.000000</td>\n",
       "      <td>1.000000</td>\n",
       "    </tr>\n",
       "  </tbody>\n",
       "</table>\n",
       "</div>"
      ],
      "text/plain": [
       "       primary_size  total_size         price       time_s  num_bedrooms  \\\n",
       "count    694.000000  694.000000  6.940000e+02   694.000000    694.000000   \n",
       "mean      82.221902   92.699568  5.395997e+06  1935.305476      2.193084   \n",
       "std       41.600620   51.692447  2.827813e+06  1155.019629      0.993577   \n",
       "min       14.000000   16.000000  1.514691e+06   326.000000      0.000000   \n",
       "25%       56.000000   62.000000  3.516563e+06  1113.000000      2.000000   \n",
       "50%       72.000000   80.000000  4.568736e+06  1551.500000      2.000000   \n",
       "75%       93.000000  104.000000  6.389677e+06  2662.250000      3.000000   \n",
       "max      368.000000  479.000000  2.310457e+07  7715.000000      8.000000   \n",
       "\n",
       "            floor  construction_year         lat         lng  price_per_sq_m  \\\n",
       "count  694.000000         694.000000  694.000000  694.000000      694.000000   \n",
       "mean     2.938040        1979.455331   59.936466   10.834952    69759.621675   \n",
       "std      1.747534          41.504500    0.116267    0.208429    23765.092221   \n",
       "min      1.000000        1850.000000   59.502466   10.376291    17347.783784   \n",
       "25%      2.000000        1952.250000   59.914725   10.732717    49083.696970   \n",
       "50%      2.000000        1988.000000   59.926644   10.774202    69609.940382   \n",
       "75%      4.000000        2019.000000   59.946084   10.882103    85336.145175   \n",
       "max     12.000000        2019.000000   60.334302   11.569888   152294.000000   \n",
       "\n",
       "       new_building_True  energy_letter_B  energy_letter_C  energy_letter_D  \\\n",
       "count         694.000000       694.000000       694.000000       694.000000   \n",
       "mean            0.302594         0.034582         0.072046         0.066282   \n",
       "std             0.459712         0.182851         0.258751         0.248955   \n",
       "min             0.000000         0.000000         0.000000         0.000000   \n",
       "25%             0.000000         0.000000         0.000000         0.000000   \n",
       "50%             0.000000         0.000000         0.000000         0.000000   \n",
       "75%             1.000000         0.000000         0.000000         0.000000   \n",
       "max             1.000000         1.000000         1.000000         1.000000   \n",
       "\n",
       "       energy_letter_E  energy_letter_F  energy_letter_G  \\\n",
       "count       694.000000       694.000000       694.000000   \n",
       "mean          0.063401         0.103746         0.132565   \n",
       "std           0.243858         0.305151         0.339348   \n",
       "min           0.000000         0.000000         0.000000   \n",
       "25%           0.000000         0.000000         0.000000   \n",
       "50%           0.000000         0.000000         0.000000   \n",
       "75%           0.000000         0.000000         0.000000   \n",
       "max           1.000000         1.000000         1.000000   \n",
       "\n",
       "       energy_letter_oransje  energy_color_lysegrønn  energy_color_mørkegrønn  \\\n",
       "count           694.000000             694.000000              694.000000       \n",
       "mean              0.001441               0.030259                0.087896       \n",
       "std               0.037959               0.171424                0.283348       \n",
       "min               0.000000               0.000000                0.000000       \n",
       "25%               0.000000               0.000000                0.000000       \n",
       "50%               0.000000               0.000000                0.000000       \n",
       "75%               0.000000               0.000000                0.000000       \n",
       "max               1.000000               1.000000                1.000000       \n",
       "\n",
       "       energy_color_oransje  energy_color_rød  property_type_Enebolig  \\\n",
       "count           694.000000         694.000000           694.000000      \n",
       "mean              0.136888           0.193084             0.054755      \n",
       "std               0.343977           0.395003             0.227666      \n",
       "min               0.000000           0.000000             0.000000      \n",
       "25%               0.000000           0.000000             0.000000      \n",
       "50%               0.000000           0.000000             0.000000      \n",
       "75%               0.000000           0.000000             0.000000      \n",
       "max               1.000000           1.000000             1.000000      \n",
       "\n",
       "       property_type_Hytte  property_type_Leilighet  property_type_Rekkehus  \\\n",
       "count                694.0           694.000000               694.000000      \n",
       "mean                   0.0             0.876081                 0.036023      \n",
       "std                    0.0             0.329727                 0.186482      \n",
       "min                    0.0             0.000000                 0.000000      \n",
       "25%                    0.0             1.000000                 0.000000      \n",
       "50%                    0.0             1.000000                 0.000000      \n",
       "75%                    0.0             1.000000                 0.000000      \n",
       "max                    0.0             1.000000                 1.000000      \n",
       "\n",
       "       property_type_Tomannsbolig  ownership_type_Andel  \\\n",
       "count           694.000000                  694.000000    \n",
       "mean              0.031700                    0.322767    \n",
       "std               0.175327                    0.467871    \n",
       "min               0.000000                    0.000000    \n",
       "25%               0.000000                    0.000000    \n",
       "50%               0.000000                    0.000000    \n",
       "75%               0.000000                    1.000000    \n",
       "max               1.000000                    1.000000    \n",
       "\n",
       "       ownership_type_Eier (Selveier)  \n",
       "count           694.000000             \n",
       "mean              0.641210             \n",
       "std               0.479991             \n",
       "min               0.000000             \n",
       "25%               0.000000             \n",
       "50%               1.000000             \n",
       "75%               1.000000             \n",
       "max               1.000000             "
      ]
     },
     "execution_count": 757,
     "metadata": {},
     "output_type": "execute_result"
    }
   ],
   "source": [
    "model_data.describe()"
   ]
  },
  {
   "cell_type": "code",
   "execution_count": 758,
   "metadata": {},
   "outputs": [
    {
     "name": "stdout",
     "output_type": "stream",
     "text": [
      "<class 'pandas.core.frame.DataFrame'>\n",
      "MultiIndex: 694 entries, (85287718, 6) to (150469257, 1858)\n",
      "Data columns (total 29 columns):\n",
      "primary_size                      694 non-null float64\n",
      "total_size                        694 non-null float64\n",
      "price                             694 non-null float64\n",
      "time_s                            694 non-null float64\n",
      "num_bedrooms                      694 non-null float64\n",
      "floor                             694 non-null float64\n",
      "construction_year                 694 non-null float64\n",
      "lat                               694 non-null float64\n",
      "lng                               694 non-null float64\n",
      "price_per_sq_m                    694 non-null float64\n",
      "new_building_True                 694 non-null uint8\n",
      "energy_letter_B                   694 non-null uint8\n",
      "energy_letter_C                   694 non-null uint8\n",
      "energy_letter_D                   694 non-null uint8\n",
      "energy_letter_E                   694 non-null uint8\n",
      "energy_letter_F                   694 non-null uint8\n",
      "energy_letter_G                   694 non-null uint8\n",
      "energy_letter_oransje             694 non-null uint8\n",
      "energy_color_lysegrønn            694 non-null uint8\n",
      "energy_color_mørkegrønn           694 non-null uint8\n",
      "energy_color_oransje              694 non-null uint8\n",
      "energy_color_rød                  694 non-null uint8\n",
      "property_type_Enebolig            694 non-null uint8\n",
      "property_type_Hytte               694 non-null uint8\n",
      "property_type_Leilighet           694 non-null uint8\n",
      "property_type_Rekkehus            694 non-null uint8\n",
      "property_type_Tomannsbolig        694 non-null uint8\n",
      "ownership_type_Andel              694 non-null uint8\n",
      "ownership_type_Eier (Selveier)    694 non-null uint8\n",
      "dtypes: float64(10), uint8(19)\n",
      "memory usage: 84.4 KB\n"
     ]
    }
   ],
   "source": [
    "model_data.info()"
   ]
  },
  {
   "cell_type": "code",
   "execution_count": 759,
   "metadata": {},
   "outputs": [
    {
     "data": {
      "text/plain": [
       "Index(['primary_size', 'total_size', 'price', 'time_s', 'num_bedrooms',\n",
       "       'floor', 'construction_year', 'lat', 'lng', 'price_per_sq_m',\n",
       "       'new_building_True', 'energy_letter_B', 'energy_letter_C',\n",
       "       'energy_letter_D', 'energy_letter_E', 'energy_letter_F',\n",
       "       'energy_letter_G', 'energy_letter_oransje', 'energy_color_lysegrønn',\n",
       "       'energy_color_mørkegrønn', 'energy_color_oransje', 'energy_color_rød',\n",
       "       'property_type_Enebolig', 'property_type_Hytte',\n",
       "       'property_type_Leilighet', 'property_type_Rekkehus',\n",
       "       'property_type_Tomannsbolig', 'ownership_type_Andel',\n",
       "       'ownership_type_Eier (Selveier)'],\n",
       "      dtype='object')"
      ]
     },
     "execution_count": 759,
     "metadata": {},
     "output_type": "execute_result"
    }
   ],
   "source": [
    "model_data.columns"
   ]
  },
  {
   "cell_type": "code",
   "execution_count": 760,
   "metadata": {},
   "outputs": [],
   "source": [
    "target = 'price'\n",
    "possible_targets = ['price_per_sq_m', 'price']\n",
    "possible_targets.remove(target)"
   ]
  },
  {
   "cell_type": "code",
   "execution_count": 761,
   "metadata": {},
   "outputs": [],
   "source": [
    "model_data.drop(possible_targets, axis=1, inplace=True)"
   ]
  },
  {
   "cell_type": "code",
   "execution_count": 762,
   "metadata": {},
   "outputs": [],
   "source": [
    "cols = list(model_data.columns)\n",
    "cols.remove(target)\n",
    "cols.append(target)\n",
    "model_data = model_data[cols]"
   ]
  },
  {
   "cell_type": "code",
   "execution_count": 763,
   "metadata": {},
   "outputs": [],
   "source": [
    "selected_cols = ['primary_size', 'price', 'time_s', 'num_bedrooms',\n",
    "                 'floor', 'construction_year', 'lat', 'lng',\n",
    "                 'property_type_Enebolig',\n",
    "                 'property_type_Hytte', 'property_type_Leilighet',\n",
    "                 'property_type_Rekkehus', 'property_type_Tomannsbolig',\n",
    "                 'ownership_type_Andel', 'ownership_type_Eier (Selveier)']"
   ]
  },
  {
   "cell_type": "code",
   "execution_count": 764,
   "metadata": {},
   "outputs": [],
   "source": [
    "scaler = MinMaxScaler()\n",
    "model_data_scaled = pd.DataFrame(scaler.fit_transform(model_data), columns=model_data.columns, index=model_data.index)"
   ]
  },
  {
   "cell_type": "code",
   "execution_count": 765,
   "metadata": {},
   "outputs": [],
   "source": [
    "# model_data = model_data[selected_cols]"
   ]
  },
  {
   "cell_type": "code",
   "execution_count": 766,
   "metadata": {},
   "outputs": [],
   "source": [
    "random_seed = 42\n",
    "test_size = 0.25"
   ]
  },
  {
   "cell_type": "code",
   "execution_count": 767,
   "metadata": {},
   "outputs": [],
   "source": [
    "X_train, X_test, y_train, y_test = train_test_split(model_data_scaled.drop(target, axis=1),\n",
    "                                                    model_data_scaled[target],\n",
    "                                                    test_size=test_size,\n",
    "                                                    random_state=random_seed)"
   ]
  },
  {
   "cell_type": "code",
   "execution_count": 768,
   "metadata": {},
   "outputs": [
    {
     "data": {
      "text/plain": [
       "(520, 27)"
      ]
     },
     "execution_count": 768,
     "metadata": {},
     "output_type": "execute_result"
    }
   ],
   "source": [
    "X_train.shape"
   ]
  },
  {
   "cell_type": "code",
   "execution_count": 769,
   "metadata": {},
   "outputs": [],
   "source": [
    "def create_model():\n",
    "    model = Sequential()\n",
    "    model.add(Dense(32, input_dim=X_train.shape[1], activation=\"relu\"))\n",
    "    model.add(Dense(16, activation=\"relu\"))\n",
    "    # model.add(Dropout(0.25))\n",
    "    model.add(Dense(8, activation=\"relu\"))\n",
    "    model.add(Dense(4, activation=\"relu\"))\n",
    "    model.add(Dense(1, activation=\"linear\"))\n",
    "    model.compile(loss='mean_squared_error', optimizer='adam')\n",
    "    return model"
   ]
  },
  {
   "cell_type": "code",
   "execution_count": 770,
   "metadata": {},
   "outputs": [],
   "source": [
    "steps = []\n",
    "steps.append(('normalize', Normalizer()))\n",
    "# steps.append(('scale', MinMaxScaler()))\n",
    "# steps.append(('standardize', StandardScaler()))\n",
    "# steps.append(('dl', KerasRegressor(build_fn=create_model, epochs=700, batch_size=700, verbose=False)))\n",
    "steps.append(('ada', AdaBoostRegressor()))\n",
    "# steps.append(('linear', LinearRegression()))\n",
    "# steps.append(('kneighbors', KNeighborsRegressor()))\n",
    "# steps.append(('bayes', ComplementNB()))\n",
    "# steps.append(('mlp', MLPRegressor()))"
   ]
  },
  {
   "cell_type": "code",
   "execution_count": 771,
   "metadata": {},
   "outputs": [],
   "source": [
    "pipeline = Pipeline(steps)"
   ]
  },
  {
   "cell_type": "code",
   "execution_count": 772,
   "metadata": {},
   "outputs": [
    {
     "data": {
      "text/plain": [
       "Pipeline(memory=None,\n",
       "         steps=[('normalize', Normalizer(copy=True, norm='l2')),\n",
       "                ('ada',\n",
       "                 AdaBoostRegressor(base_estimator=None, learning_rate=1.0,\n",
       "                                   loss='linear', n_estimators=50,\n",
       "                                   random_state=None))],\n",
       "         verbose=False)"
      ]
     },
     "execution_count": 772,
     "metadata": {},
     "output_type": "execute_result"
    }
   ],
   "source": [
    "pipeline.fit(X_train, y_train)"
   ]
  },
  {
   "cell_type": "code",
   "execution_count": 773,
   "metadata": {},
   "outputs": [],
   "source": [
    "pred = pipeline.predict(X_test)"
   ]
  },
  {
   "cell_type": "code",
   "execution_count": 774,
   "metadata": {},
   "outputs": [],
   "source": [
    "y_pred = pd.Series(pred, index=X_test.index, name='predicted')"
   ]
  },
  {
   "cell_type": "code",
   "execution_count": 775,
   "metadata": {},
   "outputs": [],
   "source": [
    "data_and_pred = X_test.join(y_pred)\n",
    "inverse_scaled_res = pd.DataFrame(scaler.inverse_transform(data_and_pred),\n",
    "                                  columns=data_and_pred.columns,\n",
    "                                  index=data_and_pred.index).join(model_data[target], how='left')\n",
    "\n",
    "inverse_scaled_res = inverse_scaled_res[['predicted', target]]"
   ]
  },
  {
   "cell_type": "code",
   "execution_count": 776,
   "metadata": {},
   "outputs": [
    {
     "data": {
      "text/html": [
       "<div>\n",
       "<style scoped>\n",
       "    .dataframe tbody tr th:only-of-type {\n",
       "        vertical-align: middle;\n",
       "    }\n",
       "\n",
       "    .dataframe tbody tr th {\n",
       "        vertical-align: top;\n",
       "    }\n",
       "\n",
       "    .dataframe thead th {\n",
       "        text-align: right;\n",
       "    }\n",
       "</style>\n",
       "<table border=\"1\" class=\"dataframe\">\n",
       "  <thead>\n",
       "    <tr style=\"text-align: right;\">\n",
       "      <th></th>\n",
       "      <th></th>\n",
       "      <th>predicted</th>\n",
       "      <th>price</th>\n",
       "    </tr>\n",
       "    <tr>\n",
       "      <th>ad_id</th>\n",
       "      <th></th>\n",
       "      <th></th>\n",
       "      <th></th>\n",
       "    </tr>\n",
       "  </thead>\n",
       "  <tbody>\n",
       "    <tr>\n",
       "      <th>149502637</th>\n",
       "      <th>1261</th>\n",
       "      <td>8.330420e+06</td>\n",
       "      <td>7452400.0</td>\n",
       "    </tr>\n",
       "    <tr>\n",
       "      <th>150365877</th>\n",
       "      <th>1819</th>\n",
       "      <td>4.560483e+06</td>\n",
       "      <td>3602149.0</td>\n",
       "    </tr>\n",
       "    <tr>\n",
       "      <th>146667253</th>\n",
       "      <th>1045</th>\n",
       "      <td>8.125333e+06</td>\n",
       "      <td>4839722.0</td>\n",
       "    </tr>\n",
       "    <tr>\n",
       "      <th>149430372</th>\n",
       "      <th>1207</th>\n",
       "      <td>4.600801e+06</td>\n",
       "      <td>3328175.0</td>\n",
       "    </tr>\n",
       "    <tr>\n",
       "      <th>149262846</th>\n",
       "      <th>1167</th>\n",
       "      <td>9.404126e+06</td>\n",
       "      <td>11313722.0</td>\n",
       "    </tr>\n",
       "  </tbody>\n",
       "</table>\n",
       "</div>"
      ],
      "text/plain": [
       "                   predicted       price\n",
       "ad_id                                   \n",
       "149502637 1261  8.330420e+06   7452400.0\n",
       "150365877 1819  4.560483e+06   3602149.0\n",
       "146667253 1045  8.125333e+06   4839722.0\n",
       "149430372 1207  4.600801e+06   3328175.0\n",
       "149262846 1167  9.404126e+06  11313722.0"
      ]
     },
     "execution_count": 776,
     "metadata": {},
     "output_type": "execute_result"
    }
   ],
   "source": [
    "inverse_scaled_res.head()"
   ]
  },
  {
   "cell_type": "code",
   "execution_count": 777,
   "metadata": {},
   "outputs": [
    {
     "name": "stdout",
     "output_type": "stream",
     "text": [
      "The unscaled mae is: 1073071\n"
     ]
    }
   ],
   "source": [
    "unscaled_error = mean_absolute_error(inverse_scaled_res[target], inverse_scaled_res['predicted'])\n",
    "print(f'The unscaled mae is: {unscaled_error:.0f}')"
   ]
  },
  {
   "cell_type": "code",
   "execution_count": 778,
   "metadata": {},
   "outputs": [
    {
     "name": "stdout",
     "output_type": "stream",
     "text": [
      "The mae is: 5.0%\n"
     ]
    }
   ],
   "source": [
    "scaled_error = mean_absolute_error(y_test, y_pred)\n",
    "print(f'The mae is: {scaled_error:.1%}')"
   ]
  },
  {
   "cell_type": "code",
   "execution_count": 779,
   "metadata": {},
   "outputs": [],
   "source": [
    "train_sizes, train_scores, test_scores = learning_curve(pipeline,\n",
    "                                                        X_train,\n",
    "                                                        y_train,\n",
    "                                                        train_sizes = np.arange(0.1, 1.1, 0.1),\n",
    "                                                        scoring='neg_mean_absolute_error',\n",
    "                                                        cv=2)"
   ]
  },
  {
   "cell_type": "code",
   "execution_count": 780,
   "metadata": {},
   "outputs": [],
   "source": [
    "learning_curve_res = pd.DataFrame(columns = range(train_scores.shape[1]))\n",
    "for result, result_type in zip([train_scores, test_scores], ['train', 'test']):\n",
    "    frame = pd.DataFrame(result)\n",
    "    frame['size'] = train_sizes\n",
    "    frame['type'] = result_type\n",
    "    learning_curve_res = learning_curve_res.append(frame, ignore_index = True)"
   ]
  },
  {
   "cell_type": "code",
   "execution_count": 781,
   "metadata": {},
   "outputs": [],
   "source": [
    "learning_curve_res = learning_curve_res.melt(id_vars = ['size', 'type'], var_name = 'cv_fit', value_name = 'score')"
   ]
  },
  {
   "cell_type": "code",
   "execution_count": 782,
   "metadata": {},
   "outputs": [
    {
     "data": {
      "text/plain": [
       "<matplotlib.axes._subplots.AxesSubplot at 0x148cad2e8>"
      ]
     },
     "execution_count": 782,
     "metadata": {},
     "output_type": "execute_result"
    },
    {
     "data": {
      "image/png": "[encoded data removed]",
      "text/plain": [
       "<Figure size 864x576 with 1 Axes>"
      ]
     },
     "metadata": {},
     "output_type": "display_data"
    }
   ],
   "source": [
    "fig = plt.figure(figsize = (12, 8))\n",
    "plt.title('Learning Curves')\n",
    "sns.lineplot(x = 'size', y = 'score', hue = 'type', data = learning_curve_res)"
   ]
  },
  {
   "cell_type": "code",
   "execution_count": null,
   "metadata": {},
   "outputs": [],
   "source": []
  }
 ],
 "metadata": {
  "kernelspec": {
   "display_name": "Python 3",
   "language": "python",
   "name": "python3"
  },
  "language_info": {
   "codemirror_mode": {
    "name": "ipython",
    "version": 3
   },
   "file_extension": ".py",
   "mimetype": "text/x-python",
   "name": "python",
   "nbconvert_exporter": "python",
   "pygments_lexer": "ipython3",
   "version": "3.7.3"
  }
 },
 "nbformat": 4,
 "nbformat_minor": 2
}
