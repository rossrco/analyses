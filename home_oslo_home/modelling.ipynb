{
 "cells": [
  {
   "cell_type": "markdown",
   "metadata": {},
   "source": [
    "# Common Imports"
   ]
  },
  {
   "cell_type": "code",
   "execution_count": 1,
   "metadata": {},
   "outputs": [],
   "source": [
    "import os\n",
    "import re\n",
    "import pandas as pd\n",
    "import numpy as np\n",
    "import scipy\n",
    "import sklearn\n",
    "from google.cloud import bigquery\n",
    "import matplotlib.pyplot as plt\n",
    "import seaborn as sns"
   ]
  },
  {
   "cell_type": "markdown",
   "metadata": {},
   "source": [
    "# Machine Learning Imports"
   ]
  },
  {
   "cell_type": "code",
   "execution_count": 2,
   "metadata": {},
   "outputs": [
    {
     "name": "stderr",
     "output_type": "stream",
     "text": [
      "Using TensorFlow backend.\n"
     ]
    }
   ],
   "source": [
    "import tensorflow\n",
    "from keras.models import Sequential\n",
    "from keras.layers import Dense, Dropout\n",
    "from keras.wrappers.scikit_learn import KerasRegressor\n",
    "from sklearn.decomposition import PCA\n",
    "from sklearn.feature_selection import RFECV, VarianceThreshold\n",
    "from sklearn.model_selection import train_test_split, KFold, cross_val_score, learning_curve, cross_validate\n",
    "from sklearn.preprocessing import MinMaxScaler, StandardScaler, normalize, Normalizer, MaxAbsScaler\n",
    "from sklearn.metrics import mean_absolute_error, median_absolute_error, r2_score, explained_variance_score, make_scorer\n",
    "from sklearn.ensemble import AdaBoostRegressor, IsolationForest\n",
    "from sklearn.pipeline import make_pipeline, Pipeline\n",
    "from sklearn.linear_model import LinearRegression\n",
    "from sklearn.neighbors import KNeighborsRegressor, RadiusNeighborsRegressor, LocalOutlierFactor\n",
    "from sklearn.naive_bayes import ComplementNB, MultinomialNB, GaussianNB\n",
    "from sklearn.neural_network import MLPRegressor"
   ]
  },
  {
   "cell_type": "markdown",
   "metadata": {},
   "source": [
    "# Set The Visual Style"
   ]
  },
  {
   "cell_type": "code",
   "execution_count": 3,
   "metadata": {},
   "outputs": [],
   "source": [
    "pd.set_option('display.max_colwidth', 20)\n",
    "pd.set_option('display.max_columns', 100)\n",
    "pd.set_option('display.max_rows', 100)\n",
    "from IPython.display import display, HTML\n",
    "%matplotlib inline\n",
    "sns.set(style='dark')\n",
    "plt.rcParams['figure.figsize'] = [14, 10]"
   ]
  },
  {
   "cell_type": "markdown",
   "metadata": {},
   "source": [
    "# Set Hyperparameters"
   ]
  },
  {
   "cell_type": "code",
   "execution_count": 4,
   "metadata": {},
   "outputs": [],
   "source": [
    "new_apt_sample_size = 3\n",
    "metrics = ['neg_mean_absolute_error', 'neg_median_absolute_error', 'r2', 'explained_variance', 'max_error']\n",
    "cv = 3\n",
    "random_seed = 42\n",
    "var_threshold = 0.3\n",
    "test_size = 0.3\n",
    "preferred_score = 'r2'\n",
    "tensorflow.set_random_seed(random_seed)"
   ]
  },
  {
   "cell_type": "markdown",
   "metadata": {},
   "source": [
    "# Import Data\n",
    "## Main Dataset"
   ]
  },
  {
   "cell_type": "code",
   "execution_count": 5,
   "metadata": {},
   "outputs": [],
   "source": [
    "query_dir = 'queries'"
   ]
  },
  {
   "cell_type": "code",
   "execution_count": 6,
   "metadata": {},
   "outputs": [],
   "source": [
    "queries = {}\n",
    "for query_file in (os.listdir(query_dir)):\n",
    "    with open(os.path.join(query_dir, query_file), 'r') as query:\n",
    "        queries[query_file] = query.read()"
   ]
  },
  {
   "cell_type": "code",
   "execution_count": 7,
   "metadata": {},
   "outputs": [],
   "source": [
    "query_client = bigquery.Client()"
   ]
  },
  {
   "cell_type": "code",
   "execution_count": 8,
   "metadata": {},
   "outputs": [],
   "source": [
    "request = queries['combined_analysis_data.sql']"
   ]
  },
  {
   "cell_type": "code",
   "execution_count": 9,
   "metadata": {},
   "outputs": [],
   "source": [
    "data = query_client.query(request).to_dataframe()"
   ]
  },
  {
   "cell_type": "code",
   "execution_count": 10,
   "metadata": {},
   "outputs": [],
   "source": [
    "data = data[(data.price.notna()) & (data.primary_size.notna())].copy()"
   ]
  },
  {
   "cell_type": "code",
   "execution_count": 11,
   "metadata": {},
   "outputs": [
    {
     "name": "stdout",
     "output_type": "stream",
     "text": [
      "<class 'pandas.core.frame.DataFrame'>\n",
      "Int64Index: 4847 entries, 0 to 5453\n",
      "Data columns (total 22 columns):\n",
      "ad_id                 4847 non-null int64\n",
      "apt_id                3562 non-null object\n",
      "new_building          4847 non-null bool\n",
      "num_bedrooms          4776 non-null float64\n",
      "floor                 4066 non-null float64\n",
      "primary_size          4847 non-null float64\n",
      "total_size            4739 non-null float64\n",
      "price                 4847 non-null float64\n",
      "property_type         4847 non-null object\n",
      "ownership_type        4847 non-null object\n",
      "construction_year     4842 non-null float64\n",
      "energy_character      1657 non-null object\n",
      "common_expenses       968 non-null float64\n",
      "brokerage_expenses    1282 non-null float64\n",
      "common_wealth         679 non-null float64\n",
      "common_debt           1212 non-null float64\n",
      "time_s                4674 non-null float64\n",
      "lat                   4674 non-null float64\n",
      "lng                   4674 non-null float64\n",
      "address               4847 non-null object\n",
      "short_description     4847 non-null object\n",
      "full_description      4847 non-null object\n",
      "dtypes: bool(1), float64(13), int64(1), object(7)\n",
      "memory usage: 837.8+ KB\n"
     ]
    }
   ],
   "source": [
    "data.info()"
   ]
  },
  {
   "cell_type": "markdown",
   "metadata": {},
   "source": [
    "## Google Maps Neighborhood Data"
   ]
  },
  {
   "cell_type": "code",
   "execution_count": 12,
   "metadata": {},
   "outputs": [],
   "source": [
    "request = queries['all_post_code_places.sql']"
   ]
  },
  {
   "cell_type": "code",
   "execution_count": 13,
   "metadata": {},
   "outputs": [],
   "source": [
    "gmaps_neighborhood_data = query_client.query(request).to_dataframe()"
   ]
  },
  {
   "cell_type": "code",
   "execution_count": 14,
   "metadata": {},
   "outputs": [
    {
     "name": "stdout",
     "output_type": "stream",
     "text": [
      "<class 'pandas.core.frame.DataFrame'>\n",
      "RangeIndex: 117498 entries, 0 to 117497\n",
      "Data columns (total 6 columns):\n",
      "post_code          117498 non-null object\n",
      "radius             117498 non-null int64\n",
      "place_name         117498 non-null object\n",
      "place_type         117498 non-null object\n",
      "place_attribute    117498 non-null object\n",
      "attribute_value    42240 non-null float64\n",
      "dtypes: float64(1), int64(1), object(4)\n",
      "memory usage: 5.4+ MB\n"
     ]
    }
   ],
   "source": [
    "gmaps_neighborhood_data.info()"
   ]
  },
  {
   "cell_type": "markdown",
   "metadata": {},
   "source": [
    "## Norwegian Post Code Data"
   ]
  },
  {
   "cell_type": "code",
   "execution_count": 15,
   "metadata": {},
   "outputs": [],
   "source": [
    "request = queries['post_codes_osl.sql']\n",
    "post_codes_osl = query_client.query(request).to_dataframe().set_index('post_code', drop=True)"
   ]
  },
  {
   "cell_type": "code",
   "execution_count": 16,
   "metadata": {},
   "outputs": [],
   "source": [
    "request = queries['post_codes_no.sql']\n",
    "post_codes_no = query_client.query(request).to_dataframe().set_index('post_code', drop=True)"
   ]
  },
  {
   "cell_type": "markdown",
   "metadata": {},
   "source": [
    "# Feature Engineering\n",
    "## Energy Letter and Color"
   ]
  },
  {
   "cell_type": "code",
   "execution_count": 17,
   "metadata": {},
   "outputs": [],
   "source": [
    "energy_cols = ['energy_letter', 'energy_color']\n",
    "\n",
    "for col in energy_cols:\n",
    "    data[col] = 0\n",
    "\n",
    "energy_res = [[c.strip() for c in char.split('-')] if char is not None and '-' in char else [None, None] for char in data.energy_character]\n",
    "data[energy_cols] = pd.DataFrame(energy_res, columns=energy_cols)"
   ]
  },
  {
   "cell_type": "markdown",
   "metadata": {},
   "source": [
    "## Post Codes"
   ]
  },
  {
   "cell_type": "code",
   "execution_count": 18,
   "metadata": {},
   "outputs": [],
   "source": [
    "def get_postcode_from_address(address):\n",
    "    try:\n",
    "        return re.search(r'(.*)(\\d{4})(.*)', address, re.I)[2]\n",
    "    except:\n",
    "        return None"
   ]
  },
  {
   "cell_type": "code",
   "execution_count": 19,
   "metadata": {},
   "outputs": [],
   "source": [
    "data['post_code'] = data.address.apply(get_postcode_from_address)"
   ]
  },
  {
   "cell_type": "markdown",
   "metadata": {},
   "source": [
    "## Combined Area Names"
   ]
  },
  {
   "cell_type": "code",
   "execution_count": 20,
   "metadata": {},
   "outputs": [],
   "source": [
    "data['settlement_name'] = pd.merge(data[['ad_id', 'post_code']], post_codes_no, how='left', left_on='post_code', right_index=True)['municipality']"
   ]
  },
  {
   "cell_type": "code",
   "execution_count": 21,
   "metadata": {},
   "outputs": [],
   "source": [
    "data['neighborhood_name'] = pd.merge(data[['ad_id', 'post_code']], post_codes_osl, how='left', left_on='post_code', right_index=True)['neighborhood_name']"
   ]
  },
  {
   "cell_type": "code",
   "execution_count": 22,
   "metadata": {},
   "outputs": [],
   "source": [
    "data['area_name'] = [s_n.lower() if s_n != 'oslo' else n_n.lower() for s_n, n_n in zip(data['settlement_name'], data['neighborhood_name'])]"
   ]
  },
  {
   "cell_type": "code",
   "execution_count": 23,
   "metadata": {},
   "outputs": [],
   "source": [
    "data['address_oslo'] = data['settlement_name'].apply(lambda s_n: True if s_n == 'oslo' else False)"
   ]
  },
  {
   "cell_type": "markdown",
   "metadata": {},
   "source": [
    "## Price Per Square Meter"
   ]
  },
  {
   "cell_type": "code",
   "execution_count": 24,
   "metadata": {},
   "outputs": [],
   "source": [
    "data['price_per_sq_m'] = data.price.div(data.primary_size).round(0)"
   ]
  },
  {
   "cell_type": "code",
   "execution_count": 25,
   "metadata": {},
   "outputs": [],
   "source": [
    "new_building_pct = pd.Series(data[data.new_building == True]\\\n",
    "                             .groupby('area_name')['ad_id'].count()\\\n",
    "                             .div(data\\\n",
    "                                  .groupby('area_name')['ad_id'].count()),\n",
    "                             name='area_new_building_pct')\n",
    "\n",
    "data = data.merge(new_building_pct, how='left', left_on='area_name', right_index=True)"
   ]
  },
  {
   "cell_type": "markdown",
   "metadata": {},
   "source": [
    "## Combined Property Type"
   ]
  },
  {
   "cell_type": "code",
   "execution_count": 26,
   "metadata": {},
   "outputs": [],
   "source": [
    "data['comb_property_type'] = ['house' if pt in ['Enebolig', 'Rekkehus', 'Tomannsbolig']\n",
    "                              else 'apartment' if pt == 'Leilighet'\n",
    "                              else 'other'\n",
    "                              for pt in data['property_type']]"
   ]
  },
  {
   "cell_type": "markdown",
   "metadata": {},
   "source": [
    "## Median House Price Per Post Code"
   ]
  },
  {
   "cell_type": "code",
   "execution_count": 27,
   "metadata": {},
   "outputs": [],
   "source": [
    "median_property_prices = pd.pivot_table(data=data[data.comb_property_type.isin(['house', 'apartment'])],\n",
    "                                        index='post_code',\n",
    "                                        columns='comb_property_type',\n",
    "                                        values='price_per_sq_m',\n",
    "                                        aggfunc='median')\n",
    "\n",
    "median_property_prices.rename(columns={'apartment': 'med_price_apartment', 'house': 'med_price_house'}, inplace=True)\n",
    "\n",
    "data = data.merge(median_property_prices, how='left', left_on='post_code', right_index=True)"
   ]
  },
  {
   "cell_type": "markdown",
   "metadata": {},
   "source": [
    "# Data Imputation"
   ]
  },
  {
   "cell_type": "code",
   "execution_count": 172,
   "metadata": {},
   "outputs": [
    {
     "data": {
      "text/plain": [
       "common_wealth            4164\n",
       "common_expenses          3878\n",
       "common_debt              3631\n",
       "brokerage_expenses       3565\n",
       "energy_character         3187\n",
       "med_price_house          1918\n",
       "apt_id                   1281\n",
       "med_price_apartment       179\n",
       "lng                       173\n",
       "lat                       173\n",
       "area_new_building_pct      67\n",
       "immigrant_pct               4\n",
       "cramped_spaces              4\n",
       "income_inequality           4\n",
       "uni_graduates               4\n",
       "low_income_households       4\n",
       "establishment               1\n",
       "convenience_store           1\n",
       "courthouse                  1\n",
       "dentist                     1\n",
       "dtype: int64"
      ]
     },
     "execution_count": 172,
     "metadata": {},
     "output_type": "execute_result"
    }
   ],
   "source": [
    "data.isna().sum(axis=0).sort_values(ascending=False)[:20]"
   ]
  },
  {
   "cell_type": "code",
   "execution_count": null,
   "metadata": {},
   "outputs": [],
   "source": []
  },
  {
   "cell_type": "markdown",
   "metadata": {},
   "source": [
    "## Impute Number Of Bedrooms"
   ]
  },
  {
   "cell_type": "code",
   "execution_count": 29,
   "metadata": {},
   "outputs": [],
   "source": [
    "data['primary_size_bin'] = pd.cut(data['primary_size'], bins=[-np.inf, 30, 40, 50, 60, 70, 80, 100, 150, 200, np.inf])"
   ]
  },
  {
   "cell_type": "code",
   "execution_count": 30,
   "metadata": {},
   "outputs": [],
   "source": [
    "num_bedrooms_grouping = data.groupby(['primary_size_bin'])['num_bedrooms'].median()"
   ]
  },
  {
   "cell_type": "code",
   "execution_count": 31,
   "metadata": {},
   "outputs": [],
   "source": [
    "data['num_bedrooms'] = [num_bedrooms_grouping.loc[size_bin] if np.isnan(num_bedr) else num_bedr\n",
    "                        for size_bin, num_bedr\n",
    "                        in zip(data['primary_size_bin'], data['num_bedrooms'])]"
   ]
  },
  {
   "cell_type": "markdown",
   "metadata": {},
   "source": [
    "## Impute Floor"
   ]
  },
  {
   "cell_type": "code",
   "execution_count": 32,
   "metadata": {},
   "outputs": [],
   "source": [
    "data['floor_level'] = [fl if prop_type == 'Leilighet' else 1 for fl, prop_type in zip(data['floor'], data['property_type'])]\n",
    "data['num_floors'] = [fl if prop_type != 'Leilighet' else 1 for fl, prop_type in zip(data['floor'], data['property_type'])]\n",
    "\n",
    "data['floor_level'] = data['floor_level'].fillna(1)\n",
    "data['num_floors'] = data['num_floors'].fillna(1)\n",
    "data['floor'] = data['floor'].fillna(2)"
   ]
  },
  {
   "cell_type": "markdown",
   "metadata": {},
   "source": [
    "## Impute Total Size"
   ]
  },
  {
   "cell_type": "code",
   "execution_count": 33,
   "metadata": {},
   "outputs": [],
   "source": [
    "data['total_size'] = [primary_size if np.isnan(total_size) else total_size\n",
    "                      for primary_size, total_size\n",
    "                      in zip(data['primary_size'], data['total_size'])]"
   ]
  },
  {
   "cell_type": "markdown",
   "metadata": {},
   "source": [
    "## Impute Construction Year"
   ]
  },
  {
   "cell_type": "code",
   "execution_count": 34,
   "metadata": {},
   "outputs": [],
   "source": [
    "data['construction_year'].fillna(data[data['new_building'] == False]['construction_year'].median(), inplace=True) "
   ]
  },
  {
   "cell_type": "markdown",
   "metadata": {},
   "source": [
    "## Impute Energy Character"
   ]
  },
  {
   "cell_type": "code",
   "execution_count": 35,
   "metadata": {},
   "outputs": [],
   "source": [
    "constr_year_bins = [-np.inf, 1900, 1945, 1965, 1970, 1980, 1990, 2000, 2010, np.inf]\n",
    "data['construction_year_bin'] = pd.cut(data['construction_year'],\n",
    "                                       bins=constr_year_bins)"
   ]
  },
  {
   "cell_type": "code",
   "execution_count": 36,
   "metadata": {},
   "outputs": [],
   "source": [
    "to_plot = data.groupby(['construction_year_bin', 'energy_letter'])['energy_letter'].count()"
   ]
  },
  {
   "cell_type": "code",
   "execution_count": 37,
   "metadata": {},
   "outputs": [],
   "source": [
    "most_common_energy_c = []\n",
    "constr_year_index = []\n",
    "for y in to_plot.index.get_level_values('construction_year_bin').unique():\n",
    "    most_common_energy_c.append(to_plot.loc[y].sort_values(ascending=False).index[0])\n",
    "    constr_year_index.append(y)"
   ]
  },
  {
   "cell_type": "code",
   "execution_count": 38,
   "metadata": {},
   "outputs": [],
   "source": [
    "energy_letter_grouping = pd.Series(most_common_energy_c, index=constr_year_index)"
   ]
  },
  {
   "cell_type": "code",
   "execution_count": 39,
   "metadata": {},
   "outputs": [],
   "source": [
    "def imnpute_energy_letter(letter, construction_year_bin):\n",
    "    if str(letter) in 'ABCDEFG':\n",
    "        return letter\n",
    "    else:\n",
    "        return energy_letter_grouping.loc[construction_year_bin]"
   ]
  },
  {
   "cell_type": "code",
   "execution_count": 40,
   "metadata": {},
   "outputs": [],
   "source": [
    "data['energy_letter'] = [imnpute_energy_letter(letter, construction_year_bin) for letter, construction_year_bin in zip(data['energy_letter'], data['construction_year_bin'])]"
   ]
  },
  {
   "cell_type": "code",
   "execution_count": 41,
   "metadata": {},
   "outputs": [],
   "source": [
    "to_plot = data.groupby(['construction_year_bin', 'energy_color'])['energy_color'].count()"
   ]
  },
  {
   "cell_type": "code",
   "execution_count": 42,
   "metadata": {},
   "outputs": [],
   "source": [
    "most_common_energy_c = []\n",
    "constr_year_index = []\n",
    "for y in to_plot.index.get_level_values('construction_year_bin').unique():\n",
    "    most_common_energy_c.append(to_plot.loc[y].sort_values(ascending=False).index[0])\n",
    "    constr_year_index.append(y)"
   ]
  },
  {
   "cell_type": "code",
   "execution_count": 43,
   "metadata": {},
   "outputs": [],
   "source": [
    "energy_color_grouping = pd.Series(most_common_energy_c, index=constr_year_index)"
   ]
  },
  {
   "cell_type": "code",
   "execution_count": 44,
   "metadata": {},
   "outputs": [],
   "source": [
    "def imnpute_energy_color(color, construction_year_bin):\n",
    "    if str(color) in ['mørkegrønn', 'oransje', 'lysegrønn', 'rød', 'gul']:\n",
    "        return color\n",
    "    else:\n",
    "        return energy_color_grouping.loc[construction_year_bin]"
   ]
  },
  {
   "cell_type": "code",
   "execution_count": 45,
   "metadata": {},
   "outputs": [],
   "source": [
    "data['energy_color'] = [imnpute_energy_color(color, construction_year_bin) for color, construction_year_bin in zip(data['energy_color'], data['construction_year_bin'])]"
   ]
  },
  {
   "cell_type": "markdown",
   "metadata": {},
   "source": [
    "## Impute Travel Time"
   ]
  },
  {
   "cell_type": "code",
   "execution_count": 46,
   "metadata": {},
   "outputs": [],
   "source": [
    "missing_transport_factor = 1\n",
    "data['time_s'].fillna(data['time_s'].max() * missing_transport_factor, inplace=True)"
   ]
  },
  {
   "cell_type": "markdown",
   "metadata": {},
   "source": [
    "# Google Maps Data"
   ]
  },
  {
   "cell_type": "code",
   "execution_count": 47,
   "metadata": {},
   "outputs": [
    {
     "data": {
      "text/html": [
       "<div>\n",
       "<style scoped>\n",
       "    .dataframe tbody tr th:only-of-type {\n",
       "        vertical-align: middle;\n",
       "    }\n",
       "\n",
       "    .dataframe tbody tr th {\n",
       "        vertical-align: top;\n",
       "    }\n",
       "\n",
       "    .dataframe thead th {\n",
       "        text-align: right;\n",
       "    }\n",
       "</style>\n",
       "<table border=\"1\" class=\"dataframe\">\n",
       "  <thead>\n",
       "    <tr style=\"text-align: right;\">\n",
       "      <th></th>\n",
       "      <th>post_code</th>\n",
       "      <th>radius</th>\n",
       "      <th>place_name</th>\n",
       "      <th>place_type</th>\n",
       "      <th>place_attribute</th>\n",
       "      <th>attribute_value</th>\n",
       "    </tr>\n",
       "  </thead>\n",
       "  <tbody>\n",
       "    <tr>\n",
       "      <th>0</th>\n",
       "      <td>0001</td>\n",
       "      <td>500</td>\n",
       "      <td>Oslo</td>\n",
       "      <td>locality</td>\n",
       "      <td>rating</td>\n",
       "      <td>NaN</td>\n",
       "    </tr>\n",
       "    <tr>\n",
       "      <th>1</th>\n",
       "      <td>0001</td>\n",
       "      <td>500</td>\n",
       "      <td>Oslo</td>\n",
       "      <td>political</td>\n",
       "      <td>rating</td>\n",
       "      <td>NaN</td>\n",
       "    </tr>\n",
       "    <tr>\n",
       "      <th>2</th>\n",
       "      <td>0001</td>\n",
       "      <td>500</td>\n",
       "      <td>Oslo Opera House</td>\n",
       "      <td>premise</td>\n",
       "      <td>rating</td>\n",
       "      <td>NaN</td>\n",
       "    </tr>\n",
       "    <tr>\n",
       "      <th>3</th>\n",
       "      <td>0001</td>\n",
       "      <td>500</td>\n",
       "      <td>Oslo Opera House</td>\n",
       "      <td>point_of_interest</td>\n",
       "      <td>rating</td>\n",
       "      <td>NaN</td>\n",
       "    </tr>\n",
       "    <tr>\n",
       "      <th>4</th>\n",
       "      <td>0001</td>\n",
       "      <td>500</td>\n",
       "      <td>Oslo Opera House</td>\n",
       "      <td>establishment</td>\n",
       "      <td>rating</td>\n",
       "      <td>NaN</td>\n",
       "    </tr>\n",
       "  </tbody>\n",
       "</table>\n",
       "</div>"
      ],
      "text/plain": [
       "  post_code  radius        place_name         place_type place_attribute  \\\n",
       "0      0001     500              Oslo           locality          rating   \n",
       "1      0001     500              Oslo          political          rating   \n",
       "2      0001     500  Oslo Opera House            premise          rating   \n",
       "3      0001     500  Oslo Opera House  point_of_interest          rating   \n",
       "4      0001     500  Oslo Opera House      establishment          rating   \n",
       "\n",
       "   attribute_value  \n",
       "0              NaN  \n",
       "1              NaN  \n",
       "2              NaN  \n",
       "3              NaN  \n",
       "4              NaN  "
      ]
     },
     "execution_count": 47,
     "metadata": {},
     "output_type": "execute_result"
    }
   ],
   "source": [
    "gmaps_neighborhood_data.head()"
   ]
  },
  {
   "cell_type": "code",
   "execution_count": 48,
   "metadata": {},
   "outputs": [],
   "source": [
    "neighborhood_data = pd.DataFrame(index=gmaps_neighborhood_data.post_code.unique())"
   ]
  },
  {
   "cell_type": "code",
   "execution_count": 49,
   "metadata": {},
   "outputs": [],
   "source": [
    "neighborhood_data['mean_post_code_rating'] = gmaps_neighborhood_data[(gmaps_neighborhood_data.place_attribute == 'rating')]\\\n",
    "                                             .groupby('place_name').first()\\\n",
    "                                             .groupby('post_code')['attribute_value'].mean()"
   ]
  },
  {
   "cell_type": "code",
   "execution_count": 50,
   "metadata": {},
   "outputs": [],
   "source": [
    "neighborhood_data['post_code_place_count'] = gmaps_neighborhood_data[(gmaps_neighborhood_data.place_attribute == 'rating')]\\\n",
    "                                             .groupby('place_name').first()\\\n",
    "                                             .groupby('post_code')['attribute_value'].count()"
   ]
  },
  {
   "cell_type": "code",
   "execution_count": 51,
   "metadata": {},
   "outputs": [],
   "source": [
    "to_plot = gmaps_neighborhood_data[gmaps_neighborhood_data.place_attribute == 'rating']\n",
    "place_counts = pd.pivot_table(data=to_plot, index='post_code', columns='place_type', values='attribute_value', aggfunc='count', fill_value=0)"
   ]
  },
  {
   "cell_type": "code",
   "execution_count": 52,
   "metadata": {},
   "outputs": [],
   "source": [
    "neighborhood_data = neighborhood_data.join(place_counts)"
   ]
  },
  {
   "cell_type": "code",
   "execution_count": 53,
   "metadata": {},
   "outputs": [],
   "source": [
    "neighborhood_data.fillna(0, inplace=True)"
   ]
  },
  {
   "cell_type": "code",
   "execution_count": 54,
   "metadata": {},
   "outputs": [],
   "source": [
    "data = data.merge(neighborhood_data, how='left', left_on='post_code', right_index=True)"
   ]
  },
  {
   "cell_type": "code",
   "execution_count": 55,
   "metadata": {},
   "outputs": [],
   "source": [
    "neighborhood_cols = list(neighborhood_data.columns)"
   ]
  },
  {
   "cell_type": "markdown",
   "metadata": {},
   "source": [
    "# National Health Institute Data"
   ]
  },
  {
   "cell_type": "code",
   "execution_count": 56,
   "metadata": {},
   "outputs": [],
   "source": [
    "request = queries['full_fhi_data.sql']"
   ]
  },
  {
   "cell_type": "code",
   "execution_count": 57,
   "metadata": {},
   "outputs": [],
   "source": [
    "fhi_data = query_client.query(request).to_dataframe()"
   ]
  },
  {
   "cell_type": "code",
   "execution_count": 58,
   "metadata": {},
   "outputs": [
    {
     "data": {
      "text/html": [
       "<div>\n",
       "<style scoped>\n",
       "    .dataframe tbody tr th:only-of-type {\n",
       "        vertical-align: middle;\n",
       "    }\n",
       "\n",
       "    .dataframe tbody tr th {\n",
       "        vertical-align: top;\n",
       "    }\n",
       "\n",
       "    .dataframe thead th {\n",
       "        text-align: right;\n",
       "    }\n",
       "</style>\n",
       "<table border=\"1\" class=\"dataframe\">\n",
       "  <thead>\n",
       "    <tr style=\"text-align: right;\">\n",
       "      <th></th>\n",
       "      <th>dataset</th>\n",
       "      <th>area_name</th>\n",
       "      <th>year</th>\n",
       "      <th>value</th>\n",
       "    </tr>\n",
       "  </thead>\n",
       "  <tbody>\n",
       "    <tr>\n",
       "      <th>0</th>\n",
       "      <td>income_inequality</td>\n",
       "      <td>hurdal</td>\n",
       "      <td>2013</td>\n",
       "      <td>0.023</td>\n",
       "    </tr>\n",
       "    <tr>\n",
       "      <th>1</th>\n",
       "      <td>income_inequality</td>\n",
       "      <td>st.hanshaugen</td>\n",
       "      <td>2013</td>\n",
       "      <td>0.038</td>\n",
       "    </tr>\n",
       "    <tr>\n",
       "      <th>2</th>\n",
       "      <td>income_inequality</td>\n",
       "      <td>frogner</td>\n",
       "      <td>2013</td>\n",
       "      <td>0.045</td>\n",
       "    </tr>\n",
       "    <tr>\n",
       "      <th>3</th>\n",
       "      <td>income_inequality</td>\n",
       "      <td>ullern</td>\n",
       "      <td>2013</td>\n",
       "      <td>0.039</td>\n",
       "    </tr>\n",
       "    <tr>\n",
       "      <th>4</th>\n",
       "      <td>income_inequality</td>\n",
       "      <td>vestre aker</td>\n",
       "      <td>2013</td>\n",
       "      <td>0.043</td>\n",
       "    </tr>\n",
       "  </tbody>\n",
       "</table>\n",
       "</div>"
      ],
      "text/plain": [
       "             dataset      area_name  year  value\n",
       "0  income_inequality         hurdal  2013  0.023\n",
       "1  income_inequality  st.hanshaugen  2013  0.038\n",
       "2  income_inequality        frogner  2013  0.045\n",
       "3  income_inequality         ullern  2013  0.039\n",
       "4  income_inequality    vestre aker  2013  0.043"
      ]
     },
     "execution_count": 58,
     "metadata": {},
     "output_type": "execute_result"
    }
   ],
   "source": [
    "fhi_data.head()"
   ]
  },
  {
   "cell_type": "code",
   "execution_count": 59,
   "metadata": {},
   "outputs": [],
   "source": [
    "fhi_data_latest = pd.DataFrame(index=fhi_data.area_name.unique())\n",
    "for dataset in fhi_data.dataset.unique():\n",
    "    to_join = fhi_data[fhi_data.dataset == dataset]\n",
    "    latest_year = to_join[to_join.value.notna()].year.max()\n",
    "    to_join_latest_year = to_join[to_join.year == latest_year]\n",
    "    to_join_pivot = pd.pivot_table(data=to_join_latest_year,\n",
    "                                   index='area_name',\n",
    "                                   values='value').rename(columns={'value': dataset})\n",
    "    fhi_data_latest = fhi_data_latest.join(to_join_pivot)"
   ]
  },
  {
   "cell_type": "code",
   "execution_count": 60,
   "metadata": {},
   "outputs": [
    {
     "data": {
      "text/html": [
       "<div>\n",
       "<style scoped>\n",
       "    .dataframe tbody tr th:only-of-type {\n",
       "        vertical-align: middle;\n",
       "    }\n",
       "\n",
       "    .dataframe tbody tr th {\n",
       "        vertical-align: top;\n",
       "    }\n",
       "\n",
       "    .dataframe thead th {\n",
       "        text-align: right;\n",
       "    }\n",
       "</style>\n",
       "<table border=\"1\" class=\"dataframe\">\n",
       "  <thead>\n",
       "    <tr style=\"text-align: right;\">\n",
       "      <th></th>\n",
       "      <th>income_inequality</th>\n",
       "      <th>uni_graduates</th>\n",
       "      <th>low_income_households</th>\n",
       "      <th>cramped_spaces</th>\n",
       "      <th>immigrant_pct</th>\n",
       "    </tr>\n",
       "  </thead>\n",
       "  <tbody>\n",
       "    <tr>\n",
       "      <th>hurdal</th>\n",
       "      <td>0.025</td>\n",
       "      <td>0.35</td>\n",
       "      <td>0.168</td>\n",
       "      <td>0.128</td>\n",
       "      <td>0.103</td>\n",
       "    </tr>\n",
       "    <tr>\n",
       "      <th>st.hanshaugen</th>\n",
       "      <td>0.038</td>\n",
       "      <td>0.73</td>\n",
       "      <td>0.186</td>\n",
       "      <td>0.469</td>\n",
       "      <td>0.278</td>\n",
       "    </tr>\n",
       "    <tr>\n",
       "      <th>frogner</th>\n",
       "      <td>0.047</td>\n",
       "      <td>0.72</td>\n",
       "      <td>0.160</td>\n",
       "      <td>0.328</td>\n",
       "      <td>0.280</td>\n",
       "    </tr>\n",
       "    <tr>\n",
       "      <th>ullern</th>\n",
       "      <td>0.040</td>\n",
       "      <td>0.76</td>\n",
       "      <td>0.066</td>\n",
       "      <td>0.160</td>\n",
       "      <td>0.199</td>\n",
       "    </tr>\n",
       "    <tr>\n",
       "      <th>vestre aker</th>\n",
       "      <td>0.045</td>\n",
       "      <td>0.77</td>\n",
       "      <td>0.069</td>\n",
       "      <td>0.140</td>\n",
       "      <td>0.178</td>\n",
       "    </tr>\n",
       "  </tbody>\n",
       "</table>\n",
       "</div>"
      ],
      "text/plain": [
       "               income_inequality  uni_graduates  low_income_households  \\\n",
       "hurdal                     0.025           0.35                0.168     \n",
       "st.hanshaugen              0.038           0.73                0.186     \n",
       "frogner                    0.047           0.72                0.160     \n",
       "ullern                     0.040           0.76                0.066     \n",
       "vestre aker                0.045           0.77                0.069     \n",
       "\n",
       "               cramped_spaces  immigrant_pct  \n",
       "hurdal                  0.128          0.103  \n",
       "st.hanshaugen           0.469          0.278  \n",
       "frogner                 0.328          0.280  \n",
       "ullern                  0.160          0.199  \n",
       "vestre aker             0.140          0.178  "
      ]
     },
     "execution_count": 60,
     "metadata": {},
     "output_type": "execute_result"
    }
   ],
   "source": [
    "fhi_data_latest.head()"
   ]
  },
  {
   "cell_type": "code",
   "execution_count": 61,
   "metadata": {},
   "outputs": [],
   "source": [
    "fhi_cols = list(fhi_data_latest.columns)"
   ]
  },
  {
   "cell_type": "code",
   "execution_count": 62,
   "metadata": {},
   "outputs": [],
   "source": [
    "data = data.merge(fhi_data_latest, how='left', left_on='area_name', right_index=True)"
   ]
  },
  {
   "cell_type": "markdown",
   "metadata": {},
   "source": [
    "# Remove Properties Other Than Houses and Apartments"
   ]
  },
  {
   "cell_type": "code",
   "execution_count": 63,
   "metadata": {},
   "outputs": [],
   "source": [
    "data = data[~data.property_type.isin(['Garasje/Parkering', 'Gårdsbruk/Småbruk'])].copy()"
   ]
  },
  {
   "cell_type": "markdown",
   "metadata": {},
   "source": [
    "# Mark Selected Columns"
   ]
  },
  {
   "cell_type": "code",
   "execution_count": 64,
   "metadata": {},
   "outputs": [],
   "source": [
    "num_cols = ['price_per_sq_m', 'price', 'primary_size', 'time_s', 'floor', 'num_bedrooms',\n",
    "            'construction_year', 'area_new_building_pct', 'med_price_apartment', 'med_price_house'] + fhi_cols + neighborhood_cols\n",
    "cat_cols = ['comb_property_type', 'ownership_type', 'address_oslo', 'new_building']\n",
    "text_cols = ['full_description']"
   ]
  },
  {
   "cell_type": "code",
   "execution_count": 65,
   "metadata": {},
   "outputs": [],
   "source": [
    "data_sample_from_new_buildings = data.groupby('ad_id').apply(lambda obj: obj.sample(n=new_apt_sample_size, random_state=random_seed)\n",
    "                                                             if len(obj) > new_apt_sample_size\n",
    "                                                             else obj.sample(len(obj)))"
   ]
  },
  {
   "cell_type": "code",
   "execution_count": 66,
   "metadata": {},
   "outputs": [],
   "source": [
    "num_data = data_sample_from_new_buildings[num_cols].copy()"
   ]
  },
  {
   "cell_type": "code",
   "execution_count": 67,
   "metadata": {},
   "outputs": [],
   "source": [
    "cat_data = data_sample_from_new_buildings[cat_cols].copy()"
   ]
  },
  {
   "cell_type": "code",
   "execution_count": 68,
   "metadata": {},
   "outputs": [],
   "source": [
    "for col in cat_cols:\n",
    "    cat_data = cat_data.join(pd.get_dummies(cat_data[col], prefix=col, drop_first=True))\n",
    "    cat_data.drop(col, axis=1, inplace=True)"
   ]
  },
  {
   "cell_type": "code",
   "execution_count": 69,
   "metadata": {},
   "outputs": [],
   "source": [
    "text_data = data_sample_from_new_buildings[text_cols].copy()"
   ]
  },
  {
   "cell_type": "markdown",
   "metadata": {},
   "source": [
    "# Predict Price With Numeric And Categorical Features"
   ]
  },
  {
   "cell_type": "code",
   "execution_count": 70,
   "metadata": {},
   "outputs": [],
   "source": [
    "def get_learning_curves(estimator, X, y, train_sizes=np.arange(0.1, 1.1, 0.1), score='neg_mean_absolute_error', cv=5):\n",
    "    train_sizes, train_scores, test_scores = learning_curve(estimator, X, y, train_sizes=train_sizes, scoring=score, cv=cv)\n",
    "    curve_data = pd.DataFrame(columns = range(train_scores.shape[1]))\n",
    "    for result, result_type in zip([train_scores, test_scores], ['train', 'test']):\n",
    "        frame = pd.DataFrame(result)\n",
    "        frame['size'] = train_sizes\n",
    "        frame['type'] = result_type\n",
    "        curve_data = curve_data.append(frame, ignore_index = True)\n",
    "    curve_data = curve_data.melt(id_vars = ['size', 'type'], var_name = 'cv_fit', value_name = 'score')\n",
    "    return curve_data"
   ]
  },
  {
   "cell_type": "code",
   "execution_count": 71,
   "metadata": {},
   "outputs": [],
   "source": [
    "def get_cv_res(estimator, X, y, score=['neg_mean_absolute_error'], cv=5):\n",
    "    cross_val = cross_validate(estimator, X, y, scoring=score, cv=cv)\n",
    "    return cross_val"
   ]
  },
  {
   "cell_type": "code",
   "execution_count": 72,
   "metadata": {},
   "outputs": [],
   "source": [
    "def print_cv_res(cross_val):\n",
    "    for key, val in cross_val.items():\n",
    "        print('Mean {}, {:.2f}'.format(key, val.mean()))"
   ]
  },
  {
   "cell_type": "code",
   "execution_count": 73,
   "metadata": {},
   "outputs": [],
   "source": [
    "def create_model():\n",
    "    model = Sequential()\n",
    "    model.add(Dense(32, input_dim=X_train.shape[1], activation=\"relu\"))\n",
    "    model.add(Dense(16, activation=\"relu\"))\n",
    "    # model.add(Dropout(0.25))\n",
    "    model.add(Dense(8, activation=\"relu\"))\n",
    "    model.add(Dense(4, activation=\"relu\"))\n",
    "    model.add(Dense(1, activation=\"linear\"))\n",
    "    model.compile(loss='mean_squared_error', optimizer='adam')\n",
    "    return model"
   ]
  },
  {
   "cell_type": "code",
   "execution_count": 74,
   "metadata": {},
   "outputs": [],
   "source": [
    "estimators = {'deep_learning_regressor': KerasRegressor(build_fn=create_model, epochs=700, batch_size=700, verbose=False),\n",
    "              'adaboost': AdaBoostRegressor(random_state=random_seed),\n",
    "              'linear': LinearRegression(),\n",
    "              'kneighbors': KNeighborsRegressor(),\n",
    "              'bayes': ComplementNB(),\n",
    "              'mlp': MLPRegressor(random_state=random_seed)}"
   ]
  },
  {
   "cell_type": "code",
   "execution_count": 75,
   "metadata": {},
   "outputs": [],
   "source": [
    "estimator = estimators['adaboost']"
   ]
  },
  {
   "cell_type": "markdown",
   "metadata": {},
   "source": [
    "# Define Model Data\n",
    "## Remove NaNs"
   ]
  },
  {
   "cell_type": "code",
   "execution_count": 76,
   "metadata": {},
   "outputs": [],
   "source": [
    "model_data = num_data.join(cat_data)"
   ]
  },
  {
   "cell_type": "code",
   "execution_count": 77,
   "metadata": {},
   "outputs": [],
   "source": [
    "model_data.dropna(inplace=True)"
   ]
  },
  {
   "cell_type": "markdown",
   "metadata": {},
   "source": [
    "## Select Properties In Oslo"
   ]
  },
  {
   "cell_type": "code",
   "execution_count": 78,
   "metadata": {},
   "outputs": [],
   "source": [
    "# model_data = model_data[model_data.address_oslo_True == 1].copy()\n",
    "# model_data.drop('address_oslo_True', axis=1, inplace=True)"
   ]
  },
  {
   "cell_type": "code",
   "execution_count": 79,
   "metadata": {},
   "outputs": [
    {
     "data": {
      "text/plain": [
       "(990, 126)"
      ]
     },
     "execution_count": 79,
     "metadata": {},
     "output_type": "execute_result"
    }
   ],
   "source": [
    "model_data.shape"
   ]
  },
  {
   "cell_type": "markdown",
   "metadata": {},
   "source": [
    "## Remove Low Variance Features"
   ]
  },
  {
   "cell_type": "code",
   "execution_count": 80,
   "metadata": {},
   "outputs": [],
   "source": [
    "var_estimator = VarianceThreshold(threshold=var_threshold)"
   ]
  },
  {
   "cell_type": "code",
   "execution_count": 81,
   "metadata": {},
   "outputs": [
    {
     "data": {
      "text/plain": [
       "VarianceThreshold(threshold=0.3)"
      ]
     },
     "execution_count": 81,
     "metadata": {},
     "output_type": "execute_result"
    }
   ],
   "source": [
    "var_estimator.fit(model_data)"
   ]
  },
  {
   "cell_type": "code",
   "execution_count": 82,
   "metadata": {},
   "outputs": [],
   "source": [
    "variances = pd.Series(var_estimator.variances_, index=model_data.columns)"
   ]
  },
  {
   "cell_type": "code",
   "execution_count": 83,
   "metadata": {},
   "outputs": [
    {
     "data": {
      "text/plain": [
       "price                       1.055922e+13\n",
       "price_per_sq_m              3.951675e+08\n",
       "med_price_apartment         3.012279e+08\n",
       "med_price_house             2.847710e+08\n",
       "time_s                      5.987908e+06\n",
       "primary_size                2.904501e+03\n",
       "construction_year           6.412263e+02\n",
       "post_code_place_count       2.560633e+01\n",
       "establishment               1.914707e+01\n",
       "point_of_interest           1.914707e+01\n",
       "store                       7.881242e+00\n",
       "health                      2.232120e+00\n",
       "home_goods_store            1.484205e+00\n",
       "food                        1.461652e+00\n",
       "floor                       1.445372e+00\n",
       "num_bedrooms                1.234985e+00\n",
       "mean_post_code_rating       1.056806e+00\n",
       "grocery_or_supermarket      6.903540e-01\n",
       "school                      5.724355e-01\n",
       "restaurant                  4.968768e-01\n",
       "furniture_store             4.250342e-01\n",
       "car_repair                  4.218916e-01\n",
       "clothing_store              4.033058e-01\n",
       "electronics_store           4.004336e-01\n",
       "hair_care                   3.359616e-01\n",
       "finance                     3.201928e-01\n",
       "supermarket                 2.649821e-01\n",
       "new_building_True           2.489552e-01\n",
       "comb_property_type_house    2.470248e-01\n",
       "doctor                      2.400326e-01\n",
       "dtype: float64"
      ]
     },
     "execution_count": 83,
     "metadata": {},
     "output_type": "execute_result"
    }
   ],
   "source": [
    "variances.sort_values(ascending=False).head(30)"
   ]
  },
  {
   "cell_type": "code",
   "execution_count": 84,
   "metadata": {},
   "outputs": [],
   "source": [
    "variance_filtered_features = pd.Series(var_estimator.get_support(), index=model_data.columns)"
   ]
  },
  {
   "cell_type": "code",
   "execution_count": 85,
   "metadata": {},
   "outputs": [],
   "source": [
    "variance_selected_features = list(variance_filtered_features[variance_filtered_features == True].index)"
   ]
  },
  {
   "cell_type": "code",
   "execution_count": 86,
   "metadata": {},
   "outputs": [],
   "source": [
    "model_data = model_data[variance_selected_features].copy()"
   ]
  },
  {
   "cell_type": "markdown",
   "metadata": {},
   "source": [
    "## List All Columns"
   ]
  },
  {
   "cell_type": "code",
   "execution_count": 87,
   "metadata": {},
   "outputs": [
    {
     "data": {
      "text/plain": [
       "Index(['price_per_sq_m', 'price', 'primary_size', 'time_s', 'floor',\n",
       "       'num_bedrooms', 'construction_year', 'med_price_apartment',\n",
       "       'med_price_house', 'mean_post_code_rating', 'post_code_place_count',\n",
       "       'car_repair', 'clothing_store', 'electronics_store', 'establishment',\n",
       "       'finance', 'food', 'furniture_store', 'grocery_or_supermarket',\n",
       "       'hair_care', 'health', 'home_goods_store', 'point_of_interest',\n",
       "       'restaurant', 'school', 'store'],\n",
       "      dtype='object')"
      ]
     },
     "execution_count": 87,
     "metadata": {},
     "output_type": "execute_result"
    }
   ],
   "source": [
    "model_data.columns"
   ]
  },
  {
   "cell_type": "markdown",
   "metadata": {},
   "source": [
    "## Remove Outliers"
   ]
  },
  {
   "cell_type": "code",
   "execution_count": 88,
   "metadata": {},
   "outputs": [],
   "source": [
    "outlier_detector = LocalOutlierFactor()"
   ]
  },
  {
   "cell_type": "code",
   "execution_count": 89,
   "metadata": {},
   "outputs": [
    {
     "name": "stderr",
     "output_type": "stream",
     "text": [
      "/Users/ruslan.kozhuharov/venvs/home_oslo_home/lib/python3.7/site-packages/sklearn/neighbors/lof.py:236: FutureWarning: default contamination parameter 0.1 will change in version 0.22 to \"auto\". This will change the predict method behavior.\n",
      "  FutureWarning)\n"
     ]
    },
    {
     "data": {
      "text/plain": [
       "LocalOutlierFactor(algorithm='auto', contamination='legacy', leaf_size=30,\n",
       "                   metric='minkowski', metric_params=None, n_jobs=None,\n",
       "                   n_neighbors=20, novelty=False, p=2)"
      ]
     },
     "execution_count": 89,
     "metadata": {},
     "output_type": "execute_result"
    }
   ],
   "source": [
    "outlier_detector.fit(model_data)"
   ]
  },
  {
   "cell_type": "code",
   "execution_count": 90,
   "metadata": {},
   "outputs": [],
   "source": [
    "model_data['neg_outlier_factor'] = outlier_detector.negative_outlier_factor_"
   ]
  },
  {
   "cell_type": "code",
   "execution_count": 91,
   "metadata": {},
   "outputs": [],
   "source": [
    "model_data = model_data[model_data.neg_outlier_factor > -1.5].copy()"
   ]
  },
  {
   "cell_type": "code",
   "execution_count": 92,
   "metadata": {},
   "outputs": [],
   "source": [
    "model_data.drop('neg_outlier_factor', axis=1, inplace=True)"
   ]
  },
  {
   "cell_type": "markdown",
   "metadata": {},
   "source": [
    "## Select Modelling Target"
   ]
  },
  {
   "cell_type": "code",
   "execution_count": 93,
   "metadata": {},
   "outputs": [],
   "source": [
    "target = 'price_per_sq_m'\n",
    "possible_targets = ['price_per_sq_m', 'price']\n",
    "possible_targets.remove(target)"
   ]
  },
  {
   "cell_type": "code",
   "execution_count": 94,
   "metadata": {},
   "outputs": [],
   "source": [
    "model_data.drop(possible_targets, axis=1, inplace=True)"
   ]
  },
  {
   "cell_type": "code",
   "execution_count": 95,
   "metadata": {},
   "outputs": [],
   "source": [
    "cols = list(model_data.columns)\n",
    "cols.remove(target)\n",
    "cols.append(target)\n",
    "model_data = model_data[cols]"
   ]
  },
  {
   "cell_type": "markdown",
   "metadata": {},
   "source": [
    "## Define X and y"
   ]
  },
  {
   "cell_type": "code",
   "execution_count": 96,
   "metadata": {},
   "outputs": [],
   "source": [
    "X = model_data.drop(target, axis=1)\n",
    "y = model_data[target]"
   ]
  },
  {
   "cell_type": "code",
   "execution_count": 97,
   "metadata": {},
   "outputs": [
    {
     "data": {
      "text/plain": [
       "(966, 24)"
      ]
     },
     "execution_count": 97,
     "metadata": {},
     "output_type": "execute_result"
    }
   ],
   "source": [
    "X.shape"
   ]
  },
  {
   "cell_type": "code",
   "execution_count": 98,
   "metadata": {},
   "outputs": [],
   "source": [
    "x_cols = X.columns"
   ]
  },
  {
   "cell_type": "markdown",
   "metadata": {},
   "source": [
    "## Perform Train-Test Split"
   ]
  },
  {
   "cell_type": "code",
   "execution_count": 99,
   "metadata": {},
   "outputs": [],
   "source": [
    "X_train, X_test, y_train, y_test = train_test_split(X, y,\n",
    "                                                    test_size=test_size,\n",
    "                                                    random_state=random_seed)"
   ]
  },
  {
   "cell_type": "code",
   "execution_count": 100,
   "metadata": {},
   "outputs": [
    {
     "data": {
      "text/plain": [
       "(676, 24)"
      ]
     },
     "execution_count": 100,
     "metadata": {},
     "output_type": "execute_result"
    }
   ],
   "source": [
    "X_train.shape"
   ]
  },
  {
   "cell_type": "code",
   "execution_count": 101,
   "metadata": {},
   "outputs": [],
   "source": [
    "X_sparse = scipy.sparse.csr_matrix(X.values)"
   ]
  },
  {
   "cell_type": "markdown",
   "metadata": {},
   "source": [
    "## Define Pipeline"
   ]
  },
  {
   "cell_type": "code",
   "execution_count": 102,
   "metadata": {},
   "outputs": [],
   "source": [
    "steps = []\n",
    "\n",
    "# steps.append(('scale', MaxAbsScaler()))\n",
    "steps.append(('scale', MinMaxScaler()))\n",
    "steps.append(('normalize', Normalizer()))\n",
    "# steps.append(('pca', PCA(n_components=10)))\n",
    "# steps.append(('standardize', StandardScaler()))\n",
    "steps.append(('estimator', estimator))"
   ]
  },
  {
   "cell_type": "code",
   "execution_count": 103,
   "metadata": {},
   "outputs": [],
   "source": [
    "pipeline = Pipeline(steps)"
   ]
  },
  {
   "cell_type": "markdown",
   "metadata": {},
   "source": [
    "# Perform Recursive Feature Elimination"
   ]
  },
  {
   "cell_type": "code",
   "execution_count": 104,
   "metadata": {},
   "outputs": [],
   "source": [
    "rfe = RFECV(estimator, step=1, cv=KFold(cv), scoring='neg_median_absolute_error')"
   ]
  },
  {
   "cell_type": "code",
   "execution_count": 105,
   "metadata": {},
   "outputs": [
    {
     "data": {
      "text/plain": [
       "RFECV(cv=KFold(n_splits=3, random_state=None, shuffle=False),\n",
       "      estimator=AdaBoostRegressor(base_estimator=None, learning_rate=1.0,\n",
       "                                  loss='linear', n_estimators=50,\n",
       "                                  random_state=42),\n",
       "      min_features_to_select=1, n_jobs=None,\n",
       "      scoring='neg_median_absolute_error', step=1, verbose=0)"
      ]
     },
     "execution_count": 105,
     "metadata": {},
     "output_type": "execute_result"
    }
   ],
   "source": [
    "rfe.fit(X_train, y_train)"
   ]
  },
  {
   "cell_type": "code",
   "execution_count": 106,
   "metadata": {},
   "outputs": [
    {
     "data": {
      "image/png": "[encoded data removed]",
      "text/plain": [
       "<Figure size 1008x720 with 1 Axes>"
      ]
     },
     "metadata": {},
     "output_type": "display_data"
    }
   ],
   "source": [
    "plt.figure()\n",
    "plt.xlabel('n_features')\n",
    "plt.ylabel('error')\n",
    "plt.plot(range(1, len(rfe.grid_scores_) + 1), rfe.grid_scores_)\n",
    "plt.show()"
   ]
  },
  {
   "cell_type": "markdown",
   "metadata": {},
   "source": [
    "## Select Optimal Features"
   ]
  },
  {
   "cell_type": "code",
   "execution_count": 107,
   "metadata": {},
   "outputs": [],
   "source": [
    "top_n = 30\n",
    "# optimal_n_features = min(rfe.grid_scores_.argmax() + 1, top_n)\n",
    "optimal_n_features = rfe.grid_scores_.argmax() + 1"
   ]
  },
  {
   "cell_type": "code",
   "execution_count": 108,
   "metadata": {},
   "outputs": [
    {
     "name": "stdout",
     "output_type": "stream",
     "text": [
      "The optimal number of features is: 16\n"
     ]
    }
   ],
   "source": [
    "print(f'The optimal number of features is: {optimal_n_features}')"
   ]
  },
  {
   "cell_type": "code",
   "execution_count": 109,
   "metadata": {},
   "outputs": [],
   "source": [
    "feature_ranking = pd.Series(rfe.ranking_, index=x_cols)"
   ]
  },
  {
   "cell_type": "code",
   "execution_count": 110,
   "metadata": {},
   "outputs": [
    {
     "data": {
      "text/plain": [
       "primary_size              1\n",
       "furniture_store           1\n",
       "food                      1\n",
       "finance                   1\n",
       "establishment             1\n",
       "school                    1\n",
       "point_of_interest         1\n",
       "restaurant                1\n",
       "post_code_place_count     1\n",
       "med_price_house           1\n",
       "med_price_apartment       1\n",
       "construction_year         1\n",
       "num_bedrooms              1\n",
       "floor                     1\n",
       "time_s                    1\n",
       "home_goods_store          1\n",
       "mean_post_code_rating     2\n",
       "hair_care                 3\n",
       "store                     4\n",
       "car_repair                5\n",
       "clothing_store            6\n",
       "grocery_or_supermarket    7\n",
       "health                    8\n",
       "electronics_store         9\n",
       "dtype: int64"
      ]
     },
     "execution_count": 110,
     "metadata": {},
     "output_type": "execute_result"
    }
   ],
   "source": [
    "feature_ranking.sort_values()"
   ]
  },
  {
   "cell_type": "code",
   "execution_count": 111,
   "metadata": {},
   "outputs": [],
   "source": [
    "selected_features = list(feature_ranking.sort_values()[:optimal_n_features].index)"
   ]
  },
  {
   "cell_type": "code",
   "execution_count": 112,
   "metadata": {},
   "outputs": [
    {
     "data": {
      "text/plain": [
       "['primary_size',\n",
       " 'furniture_store',\n",
       " 'food',\n",
       " 'finance',\n",
       " 'establishment',\n",
       " 'school',\n",
       " 'point_of_interest',\n",
       " 'restaurant',\n",
       " 'post_code_place_count',\n",
       " 'med_price_house',\n",
       " 'med_price_apartment',\n",
       " 'construction_year',\n",
       " 'num_bedrooms',\n",
       " 'floor',\n",
       " 'time_s',\n",
       " 'home_goods_store']"
      ]
     },
     "execution_count": 112,
     "metadata": {},
     "output_type": "execute_result"
    }
   ],
   "source": [
    "selected_features"
   ]
  },
  {
   "cell_type": "markdown",
   "metadata": {},
   "source": [
    "# Fit Model"
   ]
  },
  {
   "cell_type": "code",
   "execution_count": 113,
   "metadata": {},
   "outputs": [
    {
     "data": {
      "text/plain": [
       "Pipeline(memory=None,\n",
       "         steps=[('scale', MinMaxScaler(copy=True, feature_range=(0, 1))),\n",
       "                ('normalize', Normalizer(copy=True, norm='l2')),\n",
       "                ('estimator',\n",
       "                 AdaBoostRegressor(base_estimator=None, learning_rate=1.0,\n",
       "                                   loss='linear', n_estimators=50,\n",
       "                                   random_state=42))],\n",
       "         verbose=False)"
      ]
     },
     "execution_count": 113,
     "metadata": {},
     "output_type": "execute_result"
    }
   ],
   "source": [
    "pipeline.fit(X_train[selected_features], y_train)"
   ]
  },
  {
   "cell_type": "code",
   "execution_count": 114,
   "metadata": {},
   "outputs": [],
   "source": [
    "pred = pipeline.predict(X_test[selected_features])"
   ]
  },
  {
   "cell_type": "code",
   "execution_count": 115,
   "metadata": {},
   "outputs": [],
   "source": [
    "y_pred = pd.Series(pred, index=y_test.index, name='predicted')"
   ]
  },
  {
   "cell_type": "markdown",
   "metadata": {},
   "source": [
    "# Draw Learning Curves"
   ]
  },
  {
   "cell_type": "code",
   "execution_count": 116,
   "metadata": {},
   "outputs": [],
   "source": [
    "learning_curve_res = get_learning_curves(pipeline, X_train[selected_features], y_train, score='neg_median_absolute_error')"
   ]
  },
  {
   "cell_type": "code",
   "execution_count": 117,
   "metadata": {},
   "outputs": [
    {
     "data": {
      "image/png": "[encoded data removed]",
      "text/plain": [
       "<Figure size 864x576 with 1 Axes>"
      ]
     },
     "metadata": {},
     "output_type": "display_data"
    }
   ],
   "source": [
    "fig = plt.figure(figsize = (12, 8))\n",
    "plt.title('Learning Curves')\n",
    "sns.lineplot(x='size', y='score', hue='type', data=learning_curve_res)\n",
    "plt.show()"
   ]
  },
  {
   "cell_type": "markdown",
   "metadata": {},
   "source": [
    "# Display Cross-Validation Results"
   ]
  },
  {
   "cell_type": "code",
   "execution_count": 118,
   "metadata": {},
   "outputs": [],
   "source": [
    "cv_res = get_cv_res(pipeline,\n",
    "                    X_train[selected_features],\n",
    "                    y_train,\n",
    "                    score=['neg_median_absolute_error',\n",
    "                           'r2',\n",
    "                           'explained_variance',\n",
    "                           'max_error'],\n",
    "                    cv=cv)"
   ]
  },
  {
   "cell_type": "code",
   "execution_count": 119,
   "metadata": {},
   "outputs": [
    {
     "name": "stdout",
     "output_type": "stream",
     "text": [
      "Mean fit_time, 0.08\n",
      "Mean score_time, 0.02\n",
      "Mean test_neg_median_absolute_error, -6107.86\n",
      "Mean test_r2, 0.65\n",
      "Mean test_explained_variance, 0.67\n",
      "Mean test_max_error, -47882.49\n"
     ]
    }
   ],
   "source": [
    "print_cv_res(cv_res)"
   ]
  },
  {
   "cell_type": "markdown",
   "metadata": {},
   "source": [
    "## Display Predicted VS Actual"
   ]
  },
  {
   "cell_type": "code",
   "execution_count": 120,
   "metadata": {},
   "outputs": [
    {
     "data": {
      "image/png": "[encoded data removed]",
      "text/plain": [
       "<Figure size 1008x720 with 1 Axes>"
      ]
     },
     "metadata": {},
     "output_type": "display_data"
    }
   ],
   "source": [
    "plt.scatter(y_test, y_pred)\n",
    "plt.xlabel('y_test')\n",
    "plt.ylabel('y_pred')\n",
    "plt.axis('equal')\n",
    "plt.axis('square')\n",
    "plt.xlim([0,plt.xlim()[1]])\n",
    "plt.ylim([0,plt.ylim()[1]])\n",
    "_ = plt.plot([-5e7, 5e7], [-5e7, 5e7])\n",
    "plt.title('True VS Predicted')\n",
    "plt.show()"
   ]
  },
  {
   "cell_type": "markdown",
   "metadata": {},
   "source": [
    "## Display Error Spread"
   ]
  },
  {
   "cell_type": "code",
   "execution_count": 121,
   "metadata": {},
   "outputs": [],
   "source": [
    "to_plot = X_test.join(y_pred).join(y_test)\n",
    "to_plot['pred_diff'] = to_plot['predicted'] - to_plot[target]"
   ]
  },
  {
   "cell_type": "code",
   "execution_count": 122,
   "metadata": {},
   "outputs": [
    {
     "data": {
      "text/plain": [
       "<matplotlib.axes._subplots.AxesSubplot at 0x14dcafd30>"
      ]
     },
     "execution_count": 122,
     "metadata": {},
     "output_type": "execute_result"
    },
    {
     "data": {
      "image/png": "[encoded data removed]",
      "text/plain": [
       "<Figure size 1008x720 with 1 Axes>"
      ]
     },
     "metadata": {},
     "output_type": "display_data"
    }
   ],
   "source": [
    "sns.distplot(to_plot.pred_diff)"
   ]
  },
  {
   "cell_type": "markdown",
   "metadata": {},
   "source": [
    "### Top Overvalued"
   ]
  },
  {
   "cell_type": "code",
   "execution_count": 123,
   "metadata": {},
   "outputs": [
    {
     "data": {
      "text/html": [
       "<div>\n",
       "<style scoped>\n",
       "    .dataframe tbody tr th:only-of-type {\n",
       "        vertical-align: middle;\n",
       "    }\n",
       "\n",
       "    .dataframe tbody tr th {\n",
       "        vertical-align: top;\n",
       "    }\n",
       "\n",
       "    .dataframe thead th {\n",
       "        text-align: right;\n",
       "    }\n",
       "</style>\n",
       "<table border=\"1\" class=\"dataframe\">\n",
       "  <thead>\n",
       "    <tr style=\"text-align: right;\">\n",
       "      <th></th>\n",
       "      <th></th>\n",
       "      <th>primary_size</th>\n",
       "      <th>time_s</th>\n",
       "      <th>floor</th>\n",
       "      <th>num_bedrooms</th>\n",
       "      <th>construction_year</th>\n",
       "      <th>med_price_apartment</th>\n",
       "      <th>med_price_house</th>\n",
       "      <th>mean_post_code_rating</th>\n",
       "      <th>post_code_place_count</th>\n",
       "      <th>car_repair</th>\n",
       "      <th>clothing_store</th>\n",
       "      <th>electronics_store</th>\n",
       "      <th>establishment</th>\n",
       "      <th>finance</th>\n",
       "      <th>food</th>\n",
       "      <th>furniture_store</th>\n",
       "      <th>grocery_or_supermarket</th>\n",
       "      <th>hair_care</th>\n",
       "      <th>health</th>\n",
       "      <th>home_goods_store</th>\n",
       "      <th>point_of_interest</th>\n",
       "      <th>restaurant</th>\n",
       "      <th>school</th>\n",
       "      <th>store</th>\n",
       "      <th>predicted</th>\n",
       "      <th>price_per_sq_m</th>\n",
       "      <th>pred_diff</th>\n",
       "    </tr>\n",
       "    <tr>\n",
       "      <th>ad_id</th>\n",
       "      <th></th>\n",
       "      <th></th>\n",
       "      <th></th>\n",
       "      <th></th>\n",
       "      <th></th>\n",
       "      <th></th>\n",
       "      <th></th>\n",
       "      <th></th>\n",
       "      <th></th>\n",
       "      <th></th>\n",
       "      <th></th>\n",
       "      <th></th>\n",
       "      <th></th>\n",
       "      <th></th>\n",
       "      <th></th>\n",
       "      <th></th>\n",
       "      <th></th>\n",
       "      <th></th>\n",
       "      <th></th>\n",
       "      <th></th>\n",
       "      <th></th>\n",
       "      <th></th>\n",
       "      <th></th>\n",
       "      <th></th>\n",
       "      <th></th>\n",
       "      <th></th>\n",
       "      <th></th>\n",
       "      <th></th>\n",
       "    </tr>\n",
       "  </thead>\n",
       "  <tbody>\n",
       "    <tr>\n",
       "      <th>150041920</th>\n",
       "      <th>4813</th>\n",
       "      <td>56.0</td>\n",
       "      <td>3573.0</td>\n",
       "      <td>2.0</td>\n",
       "      <td>1.0</td>\n",
       "      <td>2005.0</td>\n",
       "      <td>44158.0</td>\n",
       "      <td>52838.0</td>\n",
       "      <td>4.250</td>\n",
       "      <td>10.0</td>\n",
       "      <td>0.0</td>\n",
       "      <td>0.0</td>\n",
       "      <td>0.0</td>\n",
       "      <td>11.0</td>\n",
       "      <td>0.0</td>\n",
       "      <td>4.0</td>\n",
       "      <td>0.0</td>\n",
       "      <td>0.0</td>\n",
       "      <td>1.0</td>\n",
       "      <td>4.0</td>\n",
       "      <td>0.0</td>\n",
       "      <td>11.0</td>\n",
       "      <td>3.0</td>\n",
       "      <td>0.0</td>\n",
       "      <td>1.0</td>\n",
       "      <td>59588.262295</td>\n",
       "      <td>37452.0</td>\n",
       "      <td>22136.262295</td>\n",
       "    </tr>\n",
       "    <tr>\n",
       "      <th>149949428</th>\n",
       "      <th>4777</th>\n",
       "      <td>273.0</td>\n",
       "      <td>2554.0</td>\n",
       "      <td>2.0</td>\n",
       "      <td>3.0</td>\n",
       "      <td>1963.0</td>\n",
       "      <td>75455.0</td>\n",
       "      <td>53537.5</td>\n",
       "      <td>5.000</td>\n",
       "      <td>2.0</td>\n",
       "      <td>0.0</td>\n",
       "      <td>0.0</td>\n",
       "      <td>0.0</td>\n",
       "      <td>2.0</td>\n",
       "      <td>0.0</td>\n",
       "      <td>0.0</td>\n",
       "      <td>0.0</td>\n",
       "      <td>0.0</td>\n",
       "      <td>0.0</td>\n",
       "      <td>0.0</td>\n",
       "      <td>0.0</td>\n",
       "      <td>2.0</td>\n",
       "      <td>0.0</td>\n",
       "      <td>1.0</td>\n",
       "      <td>0.0</td>\n",
       "      <td>51106.464646</td>\n",
       "      <td>29701.0</td>\n",
       "      <td>21405.464646</td>\n",
       "    </tr>\n",
       "    <tr>\n",
       "      <th>151098033</th>\n",
       "      <th>5249</th>\n",
       "      <td>65.0</td>\n",
       "      <td>2259.0</td>\n",
       "      <td>1.0</td>\n",
       "      <td>2.0</td>\n",
       "      <td>1958.0</td>\n",
       "      <td>71522.0</td>\n",
       "      <td>40508.0</td>\n",
       "      <td>4.525</td>\n",
       "      <td>12.0</td>\n",
       "      <td>0.0</td>\n",
       "      <td>0.0</td>\n",
       "      <td>0.0</td>\n",
       "      <td>13.0</td>\n",
       "      <td>0.0</td>\n",
       "      <td>1.0</td>\n",
       "      <td>0.0</td>\n",
       "      <td>1.0</td>\n",
       "      <td>1.0</td>\n",
       "      <td>2.0</td>\n",
       "      <td>0.0</td>\n",
       "      <td>13.0</td>\n",
       "      <td>0.0</td>\n",
       "      <td>0.0</td>\n",
       "      <td>1.0</td>\n",
       "      <td>63221.124629</td>\n",
       "      <td>42881.0</td>\n",
       "      <td>20340.124629</td>\n",
       "    </tr>\n",
       "    <tr>\n",
       "      <th>151527397</th>\n",
       "      <th>5392</th>\n",
       "      <td>69.0</td>\n",
       "      <td>4552.0</td>\n",
       "      <td>2.0</td>\n",
       "      <td>1.0</td>\n",
       "      <td>1971.0</td>\n",
       "      <td>43206.0</td>\n",
       "      <td>37255.0</td>\n",
       "      <td>4.160</td>\n",
       "      <td>10.0</td>\n",
       "      <td>0.0</td>\n",
       "      <td>0.0</td>\n",
       "      <td>0.0</td>\n",
       "      <td>11.0</td>\n",
       "      <td>1.0</td>\n",
       "      <td>2.0</td>\n",
       "      <td>0.0</td>\n",
       "      <td>1.0</td>\n",
       "      <td>0.0</td>\n",
       "      <td>0.0</td>\n",
       "      <td>0.0</td>\n",
       "      <td>11.0</td>\n",
       "      <td>0.0</td>\n",
       "      <td>0.0</td>\n",
       "      <td>2.0</td>\n",
       "      <td>51801.202381</td>\n",
       "      <td>32694.0</td>\n",
       "      <td>19107.202381</td>\n",
       "    </tr>\n",
       "    <tr>\n",
       "      <th>149515013</th>\n",
       "      <th>4343</th>\n",
       "      <td>73.0</td>\n",
       "      <td>1495.0</td>\n",
       "      <td>1.0</td>\n",
       "      <td>2.0</td>\n",
       "      <td>1957.0</td>\n",
       "      <td>79991.5</td>\n",
       "      <td>71031.0</td>\n",
       "      <td>4.500</td>\n",
       "      <td>2.0</td>\n",
       "      <td>0.0</td>\n",
       "      <td>0.0</td>\n",
       "      <td>0.0</td>\n",
       "      <td>8.0</td>\n",
       "      <td>0.0</td>\n",
       "      <td>2.0</td>\n",
       "      <td>0.0</td>\n",
       "      <td>0.0</td>\n",
       "      <td>1.0</td>\n",
       "      <td>1.0</td>\n",
       "      <td>0.0</td>\n",
       "      <td>8.0</td>\n",
       "      <td>2.0</td>\n",
       "      <td>0.0</td>\n",
       "      <td>1.0</td>\n",
       "      <td>74560.490964</td>\n",
       "      <td>55878.0</td>\n",
       "      <td>18682.490964</td>\n",
       "    </tr>\n",
       "  </tbody>\n",
       "</table>\n",
       "</div>"
      ],
      "text/plain": [
       "                primary_size  time_s  floor  num_bedrooms  construction_year  \\\n",
       "ad_id                                                                          \n",
       "150041920 4813          56.0  3573.0    2.0           1.0             2005.0   \n",
       "149949428 4777         273.0  2554.0    2.0           3.0             1963.0   \n",
       "151098033 5249          65.0  2259.0    1.0           2.0             1958.0   \n",
       "151527397 5392          69.0  4552.0    2.0           1.0             1971.0   \n",
       "149515013 4343          73.0  1495.0    1.0           2.0             1957.0   \n",
       "\n",
       "                med_price_apartment  med_price_house  mean_post_code_rating  \\\n",
       "ad_id                                                                         \n",
       "150041920 4813              44158.0          52838.0                4.250     \n",
       "149949428 4777              75455.0          53537.5                5.000     \n",
       "151098033 5249              71522.0          40508.0                4.525     \n",
       "151527397 5392              43206.0          37255.0                4.160     \n",
       "149515013 4343              79991.5          71031.0                4.500     \n",
       "\n",
       "                post_code_place_count  car_repair  clothing_store  \\\n",
       "ad_id                                                               \n",
       "150041920 4813                 10.0           0.0             0.0   \n",
       "149949428 4777                  2.0           0.0             0.0   \n",
       "151098033 5249                 12.0           0.0             0.0   \n",
       "151527397 5392                 10.0           0.0             0.0   \n",
       "149515013 4343                  2.0           0.0             0.0   \n",
       "\n",
       "                electronics_store  establishment  finance  food  \\\n",
       "ad_id                                                             \n",
       "150041920 4813                0.0           11.0      0.0   4.0   \n",
       "149949428 4777                0.0            2.0      0.0   0.0   \n",
       "151098033 5249                0.0           13.0      0.0   1.0   \n",
       "151527397 5392                0.0           11.0      1.0   2.0   \n",
       "149515013 4343                0.0            8.0      0.0   2.0   \n",
       "\n",
       "                furniture_store  grocery_or_supermarket  hair_care  health  \\\n",
       "ad_id                                                                        \n",
       "150041920 4813              0.0                  0.0           1.0     4.0   \n",
       "149949428 4777              0.0                  0.0           0.0     0.0   \n",
       "151098033 5249              0.0                  1.0           1.0     2.0   \n",
       "151527397 5392              0.0                  1.0           0.0     0.0   \n",
       "149515013 4343              0.0                  0.0           1.0     1.0   \n",
       "\n",
       "                home_goods_store  point_of_interest  restaurant  school  \\\n",
       "ad_id                                                                     \n",
       "150041920 4813               0.0               11.0         3.0     0.0   \n",
       "149949428 4777               0.0                2.0         0.0     1.0   \n",
       "151098033 5249               0.0               13.0         0.0     0.0   \n",
       "151527397 5392               0.0               11.0         0.0     0.0   \n",
       "149515013 4343               0.0                8.0         2.0     0.0   \n",
       "\n",
       "                store     predicted  price_per_sq_m     pred_diff  \n",
       "ad_id                                                              \n",
       "150041920 4813    1.0  59588.262295         37452.0  22136.262295  \n",
       "149949428 4777    0.0  51106.464646         29701.0  21405.464646  \n",
       "151098033 5249    1.0  63221.124629         42881.0  20340.124629  \n",
       "151527397 5392    2.0  51801.202381         32694.0  19107.202381  \n",
       "149515013 4343    1.0  74560.490964         55878.0  18682.490964  "
      ]
     },
     "execution_count": 123,
     "metadata": {},
     "output_type": "execute_result"
    }
   ],
   "source": [
    "to_plot[(to_plot.pred_diff > 5e3) | (to_plot.pred_diff < 5e3)].sort_values('pred_diff', ascending=False).head()"
   ]
  },
  {
   "cell_type": "markdown",
   "metadata": {},
   "source": [
    "### Top Undervalued"
   ]
  },
  {
   "cell_type": "code",
   "execution_count": 124,
   "metadata": {},
   "outputs": [
    {
     "data": {
      "text/html": [
       "<div>\n",
       "<style scoped>\n",
       "    .dataframe tbody tr th:only-of-type {\n",
       "        vertical-align: middle;\n",
       "    }\n",
       "\n",
       "    .dataframe tbody tr th {\n",
       "        vertical-align: top;\n",
       "    }\n",
       "\n",
       "    .dataframe thead th {\n",
       "        text-align: right;\n",
       "    }\n",
       "</style>\n",
       "<table border=\"1\" class=\"dataframe\">\n",
       "  <thead>\n",
       "    <tr style=\"text-align: right;\">\n",
       "      <th></th>\n",
       "      <th></th>\n",
       "      <th>primary_size</th>\n",
       "      <th>time_s</th>\n",
       "      <th>floor</th>\n",
       "      <th>num_bedrooms</th>\n",
       "      <th>construction_year</th>\n",
       "      <th>med_price_apartment</th>\n",
       "      <th>med_price_house</th>\n",
       "      <th>mean_post_code_rating</th>\n",
       "      <th>post_code_place_count</th>\n",
       "      <th>car_repair</th>\n",
       "      <th>clothing_store</th>\n",
       "      <th>electronics_store</th>\n",
       "      <th>establishment</th>\n",
       "      <th>finance</th>\n",
       "      <th>food</th>\n",
       "      <th>furniture_store</th>\n",
       "      <th>grocery_or_supermarket</th>\n",
       "      <th>hair_care</th>\n",
       "      <th>health</th>\n",
       "      <th>home_goods_store</th>\n",
       "      <th>point_of_interest</th>\n",
       "      <th>restaurant</th>\n",
       "      <th>school</th>\n",
       "      <th>store</th>\n",
       "      <th>predicted</th>\n",
       "      <th>price_per_sq_m</th>\n",
       "      <th>pred_diff</th>\n",
       "    </tr>\n",
       "    <tr>\n",
       "      <th>ad_id</th>\n",
       "      <th></th>\n",
       "      <th></th>\n",
       "      <th></th>\n",
       "      <th></th>\n",
       "      <th></th>\n",
       "      <th></th>\n",
       "      <th></th>\n",
       "      <th></th>\n",
       "      <th></th>\n",
       "      <th></th>\n",
       "      <th></th>\n",
       "      <th></th>\n",
       "      <th></th>\n",
       "      <th></th>\n",
       "      <th></th>\n",
       "      <th></th>\n",
       "      <th></th>\n",
       "      <th></th>\n",
       "      <th></th>\n",
       "      <th></th>\n",
       "      <th></th>\n",
       "      <th></th>\n",
       "      <th></th>\n",
       "      <th></th>\n",
       "      <th></th>\n",
       "      <th></th>\n",
       "      <th></th>\n",
       "      <th></th>\n",
       "    </tr>\n",
       "  </thead>\n",
       "  <tbody>\n",
       "    <tr>\n",
       "      <th rowspan=\"2\" valign=\"top\">147931548</th>\n",
       "      <th>3821</th>\n",
       "      <td>115.0</td>\n",
       "      <td>15199.0</td>\n",
       "      <td>5.0</td>\n",
       "      <td>3.0</td>\n",
       "      <td>2019.0</td>\n",
       "      <td>76734.0</td>\n",
       "      <td>50236.5</td>\n",
       "      <td>4.160000</td>\n",
       "      <td>15.0</td>\n",
       "      <td>0.0</td>\n",
       "      <td>1.0</td>\n",
       "      <td>3.0</td>\n",
       "      <td>16.0</td>\n",
       "      <td>0.0</td>\n",
       "      <td>0.0</td>\n",
       "      <td>0.0</td>\n",
       "      <td>0.0</td>\n",
       "      <td>0.0</td>\n",
       "      <td>3.0</td>\n",
       "      <td>3.0</td>\n",
       "      <td>16.0</td>\n",
       "      <td>0.0</td>\n",
       "      <td>0.0</td>\n",
       "      <td>6.0</td>\n",
       "      <td>50901.159420</td>\n",
       "      <td>73970.0</td>\n",
       "      <td>-23068.840580</td>\n",
       "    </tr>\n",
       "    <tr>\n",
       "      <th>3829</th>\n",
       "      <td>44.0</td>\n",
       "      <td>15199.0</td>\n",
       "      <td>7.0</td>\n",
       "      <td>1.0</td>\n",
       "      <td>2019.0</td>\n",
       "      <td>76734.0</td>\n",
       "      <td>50236.5</td>\n",
       "      <td>4.160000</td>\n",
       "      <td>15.0</td>\n",
       "      <td>0.0</td>\n",
       "      <td>1.0</td>\n",
       "      <td>3.0</td>\n",
       "      <td>16.0</td>\n",
       "      <td>0.0</td>\n",
       "      <td>0.0</td>\n",
       "      <td>0.0</td>\n",
       "      <td>0.0</td>\n",
       "      <td>0.0</td>\n",
       "      <td>3.0</td>\n",
       "      <td>3.0</td>\n",
       "      <td>16.0</td>\n",
       "      <td>0.0</td>\n",
       "      <td>0.0</td>\n",
       "      <td>6.0</td>\n",
       "      <td>61676.981132</td>\n",
       "      <td>89920.0</td>\n",
       "      <td>-28243.018868</td>\n",
       "    </tr>\n",
       "    <tr>\n",
       "      <th>150596184</th>\n",
       "      <th>5040</th>\n",
       "      <td>119.0</td>\n",
       "      <td>5065.0</td>\n",
       "      <td>2.0</td>\n",
       "      <td>2.0</td>\n",
       "      <td>1917.0</td>\n",
       "      <td>56876.0</td>\n",
       "      <td>67407.0</td>\n",
       "      <td>4.480000</td>\n",
       "      <td>5.0</td>\n",
       "      <td>0.0</td>\n",
       "      <td>0.0</td>\n",
       "      <td>0.0</td>\n",
       "      <td>5.0</td>\n",
       "      <td>0.0</td>\n",
       "      <td>0.0</td>\n",
       "      <td>0.0</td>\n",
       "      <td>0.0</td>\n",
       "      <td>0.0</td>\n",
       "      <td>0.0</td>\n",
       "      <td>1.0</td>\n",
       "      <td>5.0</td>\n",
       "      <td>0.0</td>\n",
       "      <td>0.0</td>\n",
       "      <td>1.0</td>\n",
       "      <td>45031.618557</td>\n",
       "      <td>77648.0</td>\n",
       "      <td>-32616.381443</td>\n",
       "    </tr>\n",
       "    <tr>\n",
       "      <th>149581606</th>\n",
       "      <th>4429</th>\n",
       "      <td>85.0</td>\n",
       "      <td>2219.0</td>\n",
       "      <td>4.0</td>\n",
       "      <td>2.0</td>\n",
       "      <td>2017.0</td>\n",
       "      <td>113015.5</td>\n",
       "      <td>93957.0</td>\n",
       "      <td>4.542857</td>\n",
       "      <td>7.0</td>\n",
       "      <td>0.0</td>\n",
       "      <td>1.0</td>\n",
       "      <td>0.0</td>\n",
       "      <td>10.0</td>\n",
       "      <td>0.0</td>\n",
       "      <td>1.0</td>\n",
       "      <td>1.0</td>\n",
       "      <td>1.0</td>\n",
       "      <td>0.0</td>\n",
       "      <td>4.0</td>\n",
       "      <td>1.0</td>\n",
       "      <td>10.0</td>\n",
       "      <td>0.0</td>\n",
       "      <td>0.0</td>\n",
       "      <td>3.0</td>\n",
       "      <td>98793.000000</td>\n",
       "      <td>132746.0</td>\n",
       "      <td>-33953.000000</td>\n",
       "    </tr>\n",
       "    <tr>\n",
       "      <th>106352673</th>\n",
       "      <th>605</th>\n",
       "      <td>82.0</td>\n",
       "      <td>1521.0</td>\n",
       "      <td>4.0</td>\n",
       "      <td>2.0</td>\n",
       "      <td>2019.0</td>\n",
       "      <td>72596.0</td>\n",
       "      <td>46875.5</td>\n",
       "      <td>3.285714</td>\n",
       "      <td>7.0</td>\n",
       "      <td>0.0</td>\n",
       "      <td>0.0</td>\n",
       "      <td>0.0</td>\n",
       "      <td>7.0</td>\n",
       "      <td>0.0</td>\n",
       "      <td>0.0</td>\n",
       "      <td>0.0</td>\n",
       "      <td>0.0</td>\n",
       "      <td>0.0</td>\n",
       "      <td>0.0</td>\n",
       "      <td>1.0</td>\n",
       "      <td>7.0</td>\n",
       "      <td>0.0</td>\n",
       "      <td>0.0</td>\n",
       "      <td>1.0</td>\n",
       "      <td>74560.490964</td>\n",
       "      <td>120991.0</td>\n",
       "      <td>-46430.509036</td>\n",
       "    </tr>\n",
       "  </tbody>\n",
       "</table>\n",
       "</div>"
      ],
      "text/plain": [
       "                primary_size   time_s  floor  num_bedrooms  construction_year  \\\n",
       "ad_id                                                                           \n",
       "147931548 3821         115.0  15199.0    5.0           3.0             2019.0   \n",
       "          3829          44.0  15199.0    7.0           1.0             2019.0   \n",
       "150596184 5040         119.0   5065.0    2.0           2.0             1917.0   \n",
       "149581606 4429          85.0   2219.0    4.0           2.0             2017.0   \n",
       "106352673 605           82.0   1521.0    4.0           2.0             2019.0   \n",
       "\n",
       "                med_price_apartment  med_price_house  mean_post_code_rating  \\\n",
       "ad_id                                                                         \n",
       "147931548 3821              76734.0          50236.5             4.160000     \n",
       "          3829              76734.0          50236.5             4.160000     \n",
       "150596184 5040              56876.0          67407.0             4.480000     \n",
       "149581606 4429             113015.5          93957.0             4.542857     \n",
       "106352673 605               72596.0          46875.5             3.285714     \n",
       "\n",
       "                post_code_place_count  car_repair  clothing_store  \\\n",
       "ad_id                                                               \n",
       "147931548 3821                 15.0           0.0             1.0   \n",
       "          3829                 15.0           0.0             1.0   \n",
       "150596184 5040                  5.0           0.0             0.0   \n",
       "149581606 4429                  7.0           0.0             1.0   \n",
       "106352673 605                   7.0           0.0             0.0   \n",
       "\n",
       "                electronics_store  establishment  finance  food  \\\n",
       "ad_id                                                             \n",
       "147931548 3821                3.0           16.0      0.0   0.0   \n",
       "          3829                3.0           16.0      0.0   0.0   \n",
       "150596184 5040                0.0            5.0      0.0   0.0   \n",
       "149581606 4429                0.0           10.0      0.0   1.0   \n",
       "106352673 605                 0.0            7.0      0.0   0.0   \n",
       "\n",
       "                furniture_store  grocery_or_supermarket  hair_care  health  \\\n",
       "ad_id                                                                        \n",
       "147931548 3821              0.0                  0.0           0.0     3.0   \n",
       "          3829              0.0                  0.0           0.0     3.0   \n",
       "150596184 5040              0.0                  0.0           0.0     0.0   \n",
       "149581606 4429              1.0                  1.0           0.0     4.0   \n",
       "106352673 605               0.0                  0.0           0.0     0.0   \n",
       "\n",
       "                home_goods_store  point_of_interest  restaurant  school  \\\n",
       "ad_id                                                                     \n",
       "147931548 3821               3.0               16.0         0.0     0.0   \n",
       "          3829               3.0               16.0         0.0     0.0   \n",
       "150596184 5040               1.0                5.0         0.0     0.0   \n",
       "149581606 4429               1.0               10.0         0.0     0.0   \n",
       "106352673 605                1.0                7.0         0.0     0.0   \n",
       "\n",
       "                store     predicted  price_per_sq_m     pred_diff  \n",
       "ad_id                                                              \n",
       "147931548 3821    6.0  50901.159420         73970.0 -23068.840580  \n",
       "          3829    6.0  61676.981132         89920.0 -28243.018868  \n",
       "150596184 5040    1.0  45031.618557         77648.0 -32616.381443  \n",
       "149581606 4429    3.0  98793.000000        132746.0 -33953.000000  \n",
       "106352673 605     1.0  74560.490964        120991.0 -46430.509036  "
      ]
     },
     "execution_count": 124,
     "metadata": {},
     "output_type": "execute_result"
    }
   ],
   "source": [
    "to_plot[(to_plot.pred_diff > 5e3) | (to_plot.pred_diff < 5e3)].sort_values('pred_diff', ascending=False).tail()"
   ]
  },
  {
   "cell_type": "markdown",
   "metadata": {},
   "source": [
    "# Display Feature Importances"
   ]
  },
  {
   "cell_type": "code",
   "execution_count": 125,
   "metadata": {},
   "outputs": [],
   "source": [
    "feature_importances = pd.Series(pipeline.named_steps['estimator'].feature_importances_, index=selected_features).sort_values(ascending=True)"
   ]
  },
  {
   "cell_type": "code",
   "execution_count": 126,
   "metadata": {},
   "outputs": [
    {
     "data": {
      "image/png": "[encoded data removed]",
      "text/plain": [
       "<Figure size 1008x720 with 1 Axes>"
      ]
     },
     "metadata": {},
     "output_type": "display_data"
    }
   ],
   "source": [
    "top_n = 30\n",
    "to_plot = feature_importances[-top_n:]\n",
    "plt.yticks(range(len(to_plot)), to_plot.index)\n",
    "plt.title('Feature Importances')\n",
    "plt.barh(range(len(to_plot)), to_plot)\n",
    "plt.show()"
   ]
  },
  {
   "cell_type": "markdown",
   "metadata": {},
   "source": [
    "# Predict Price With NLP"
   ]
  },
  {
   "cell_type": "code",
   "execution_count": 127,
   "metadata": {},
   "outputs": [],
   "source": [
    "from sklearn.feature_extraction.text import CountVectorizer\n",
    "from sklearn.feature_extraction.text import TfidfTransformer\n",
    "from sklearn.feature_extraction.text import TfidfVectorizer\n",
    "from sklearn.preprocessing import Normalizer\n",
    "from sklearn.decomposition import TruncatedSVD"
   ]
  },
  {
   "cell_type": "code",
   "execution_count": 128,
   "metadata": {},
   "outputs": [],
   "source": [
    "selected_text_char = 'full_description'"
   ]
  },
  {
   "cell_type": "code",
   "execution_count": 129,
   "metadata": {},
   "outputs": [],
   "source": [
    "text_data = text_data[text_data.index.isin(model_data.index)].join(model_data[target])"
   ]
  },
  {
   "cell_type": "code",
   "execution_count": 130,
   "metadata": {},
   "outputs": [
    {
     "data": {
      "text/html": [
       "<div>\n",
       "<style scoped>\n",
       "    .dataframe tbody tr th:only-of-type {\n",
       "        vertical-align: middle;\n",
       "    }\n",
       "\n",
       "    .dataframe tbody tr th {\n",
       "        vertical-align: top;\n",
       "    }\n",
       "\n",
       "    .dataframe thead th {\n",
       "        text-align: right;\n",
       "    }\n",
       "</style>\n",
       "<table border=\"1\" class=\"dataframe\">\n",
       "  <thead>\n",
       "    <tr style=\"text-align: right;\">\n",
       "      <th></th>\n",
       "      <th></th>\n",
       "      <th>full_description</th>\n",
       "      <th>price_per_sq_m</th>\n",
       "    </tr>\n",
       "    <tr>\n",
       "      <th>ad_id</th>\n",
       "      <th></th>\n",
       "      <th></th>\n",
       "      <th></th>\n",
       "    </tr>\n",
       "  </thead>\n",
       "  <tbody>\n",
       "    <tr>\n",
       "      <th rowspan=\"3\" valign=\"top\">69757913</th>\n",
       "      <th>11</th>\n",
       "      <td>FremdriftSnr 34,...</td>\n",
       "      <td>39991.0</td>\n",
       "    </tr>\n",
       "    <tr>\n",
       "      <th>9</th>\n",
       "      <td>FremdriftSnr 34,...</td>\n",
       "      <td>39429.0</td>\n",
       "    </tr>\n",
       "    <tr>\n",
       "      <th>0</th>\n",
       "      <td>FremdriftSnr 34,...</td>\n",
       "      <td>36086.0</td>\n",
       "    </tr>\n",
       "    <tr>\n",
       "      <th rowspan=\"2\" valign=\"top\">78653360</th>\n",
       "      <th>14</th>\n",
       "      <td>Om ProsjektetI S...</td>\n",
       "      <td>71210.0</td>\n",
       "    </tr>\n",
       "    <tr>\n",
       "      <th>17</th>\n",
       "      <td>Om ProsjektetI S...</td>\n",
       "      <td>64966.0</td>\n",
       "    </tr>\n",
       "  </tbody>\n",
       "</table>\n",
       "</div>"
      ],
      "text/plain": [
       "                full_description  price_per_sq_m\n",
       "ad_id                                           \n",
       "69757913 11  FremdriftSnr 34,...         39991.0\n",
       "         9   FremdriftSnr 34,...         39429.0\n",
       "         0   FremdriftSnr 34,...         36086.0\n",
       "78653360 14  Om ProsjektetI S...         71210.0\n",
       "         17  Om ProsjektetI S...         64966.0"
      ]
     },
     "execution_count": 130,
     "metadata": {},
     "output_type": "execute_result"
    }
   ],
   "source": [
    "text_data.head()"
   ]
  },
  {
   "cell_type": "code",
   "execution_count": 131,
   "metadata": {},
   "outputs": [],
   "source": [
    "def tokenize_regex(regex, text):\n",
    "    return [t.lower() for t in re.split(regex, text) if t != '']"
   ]
  },
  {
   "cell_type": "code",
   "execution_count": 132,
   "metadata": {},
   "outputs": [],
   "source": [
    "def recognize_num(text):\n",
    "    modified = []\n",
    "    for t in text:\n",
    "        try:\n",
    "            num = int(t)\n",
    "            modified.append('<num>')\n",
    "        except ValueError as e:\n",
    "            modified.append(t)\n",
    "    return modified"
   ]
  },
  {
   "cell_type": "code",
   "execution_count": 133,
   "metadata": {},
   "outputs": [],
   "source": [
    "punct_whitesp = re.compile(r'\\s|[\\+\\-\\.\\,\\(\\)\\?\\!]+')"
   ]
  },
  {
   "cell_type": "code",
   "execution_count": 134,
   "metadata": {},
   "outputs": [],
   "source": [
    "text_data[f'{selected_text_char}_split'] = [tokenize_regex(punct_whitesp, t) for t in text_data[selected_text_char]]\n",
    "text_data[f'{selected_text_char}_split'] = [recognize_num(text) for text in text_data[f'{selected_text_char}_split']]"
   ]
  },
  {
   "cell_type": "code",
   "execution_count": 135,
   "metadata": {},
   "outputs": [
    {
     "data": {
      "text/html": [
       "<div>\n",
       "<style scoped>\n",
       "    .dataframe tbody tr th:only-of-type {\n",
       "        vertical-align: middle;\n",
       "    }\n",
       "\n",
       "    .dataframe tbody tr th {\n",
       "        vertical-align: top;\n",
       "    }\n",
       "\n",
       "    .dataframe thead th {\n",
       "        text-align: right;\n",
       "    }\n",
       "</style>\n",
       "<table border=\"1\" class=\"dataframe\">\n",
       "  <thead>\n",
       "    <tr style=\"text-align: right;\">\n",
       "      <th></th>\n",
       "      <th></th>\n",
       "      <th>full_description</th>\n",
       "      <th>price_per_sq_m</th>\n",
       "      <th>full_description_split</th>\n",
       "    </tr>\n",
       "    <tr>\n",
       "      <th>ad_id</th>\n",
       "      <th></th>\n",
       "      <th></th>\n",
       "      <th></th>\n",
       "      <th></th>\n",
       "    </tr>\n",
       "  </thead>\n",
       "  <tbody>\n",
       "    <tr>\n",
       "      <th rowspan=\"3\" valign=\"top\">69757913</th>\n",
       "      <th>11</th>\n",
       "      <td>FremdriftSnr 34,...</td>\n",
       "      <td>39991.0</td>\n",
       "      <td>[fremdriftsnr, &lt;...</td>\n",
       "    </tr>\n",
       "    <tr>\n",
       "      <th>9</th>\n",
       "      <td>FremdriftSnr 34,...</td>\n",
       "      <td>39429.0</td>\n",
       "      <td>[fremdriftsnr, &lt;...</td>\n",
       "    </tr>\n",
       "    <tr>\n",
       "      <th>0</th>\n",
       "      <td>FremdriftSnr 34,...</td>\n",
       "      <td>36086.0</td>\n",
       "      <td>[fremdriftsnr, &lt;...</td>\n",
       "    </tr>\n",
       "    <tr>\n",
       "      <th rowspan=\"2\" valign=\"top\">78653360</th>\n",
       "      <th>14</th>\n",
       "      <td>Om ProsjektetI S...</td>\n",
       "      <td>71210.0</td>\n",
       "      <td>[om, prosjekteti...</td>\n",
       "    </tr>\n",
       "    <tr>\n",
       "      <th>17</th>\n",
       "      <td>Om ProsjektetI S...</td>\n",
       "      <td>64966.0</td>\n",
       "      <td>[om, prosjekteti...</td>\n",
       "    </tr>\n",
       "  </tbody>\n",
       "</table>\n",
       "</div>"
      ],
      "text/plain": [
       "                full_description  price_per_sq_m full_description_split\n",
       "ad_id                                                                  \n",
       "69757913 11  FremdriftSnr 34,...         39991.0  [fremdriftsnr, <...  \n",
       "         9   FremdriftSnr 34,...         39429.0  [fremdriftsnr, <...  \n",
       "         0   FremdriftSnr 34,...         36086.0  [fremdriftsnr, <...  \n",
       "78653360 14  Om ProsjektetI S...         71210.0  [om, prosjekteti...  \n",
       "         17  Om ProsjektetI S...         64966.0  [om, prosjekteti...  "
      ]
     },
     "execution_count": 135,
     "metadata": {},
     "output_type": "execute_result"
    }
   ],
   "source": [
    "text_data.head()"
   ]
  },
  {
   "cell_type": "code",
   "execution_count": 136,
   "metadata": {},
   "outputs": [],
   "source": [
    "def dummy_tokenizer(doc):\n",
    "    return doc"
   ]
  },
  {
   "cell_type": "code",
   "execution_count": 137,
   "metadata": {},
   "outputs": [],
   "source": [
    "count_vectorizer = CountVectorizer(analyzer='word',\n",
    "                                   tokenizer=dummy_tokenizer,\n",
    "                                   preprocessor=dummy_tokenizer,\n",
    "                                   ngram_range=(1, 1),\n",
    "                                   token_pattern=None,\n",
    "                                   min_df=2)"
   ]
  },
  {
   "cell_type": "code",
   "execution_count": 138,
   "metadata": {},
   "outputs": [],
   "source": [
    "vectorized_full_desc = count_vectorizer.fit_transform(text_data[f'{selected_text_char}_split'])"
   ]
  },
  {
   "cell_type": "code",
   "execution_count": 139,
   "metadata": {},
   "outputs": [],
   "source": [
    "y_text = text_data.price_per_sq_m"
   ]
  },
  {
   "cell_type": "code",
   "execution_count": 140,
   "metadata": {},
   "outputs": [],
   "source": [
    "term_index = pd.Series(count_vectorizer.vocabulary_)"
   ]
  },
  {
   "cell_type": "code",
   "execution_count": 141,
   "metadata": {},
   "outputs": [],
   "source": [
    "term_frequency = pd.Series(vectorized_full_desc.toarray().sum(axis=0), index=term_index.sort_values(ascending=True).index)"
   ]
  },
  {
   "cell_type": "code",
   "execution_count": 142,
   "metadata": {},
   "outputs": [],
   "source": [
    "stop_word_min_rank = 80"
   ]
  },
  {
   "cell_type": "code",
   "execution_count": 143,
   "metadata": {},
   "outputs": [],
   "source": [
    "stop_words = list(term_frequency.sort_values(ascending=False)[:stop_word_min_rank].index)"
   ]
  },
  {
   "cell_type": "code",
   "execution_count": 144,
   "metadata": {},
   "outputs": [],
   "source": [
    "def remove_stop_words(stop_word_list, text):\n",
    "    return list(set(text) - set(stop_word_list))"
   ]
  },
  {
   "cell_type": "code",
   "execution_count": 145,
   "metadata": {},
   "outputs": [],
   "source": [
    "text_data[f'{selected_text_char}_split'] = [remove_stop_words(stop_words, text) for text in text_data[f'{selected_text_char}_split']]"
   ]
  },
  {
   "cell_type": "code",
   "execution_count": 146,
   "metadata": {},
   "outputs": [],
   "source": [
    "vectorized_full_desc = count_vectorizer.fit_transform(text_data[f'{selected_text_char}_split'])"
   ]
  },
  {
   "cell_type": "code",
   "execution_count": null,
   "metadata": {},
   "outputs": [],
   "source": []
  },
  {
   "cell_type": "code",
   "execution_count": null,
   "metadata": {},
   "outputs": [],
   "source": []
  },
  {
   "cell_type": "code",
   "execution_count": null,
   "metadata": {},
   "outputs": [],
   "source": []
  },
  {
   "cell_type": "code",
   "execution_count": null,
   "metadata": {},
   "outputs": [],
   "source": []
  },
  {
   "cell_type": "code",
   "execution_count": 147,
   "metadata": {},
   "outputs": [],
   "source": [
    "tfidf_transformer = TfidfTransformer()"
   ]
  },
  {
   "cell_type": "code",
   "execution_count": 148,
   "metadata": {},
   "outputs": [],
   "source": [
    "tfidf = tfidf_transformer.fit_transform(vectorized_full_desc)"
   ]
  },
  {
   "cell_type": "code",
   "execution_count": 149,
   "metadata": {},
   "outputs": [
    {
     "data": {
      "text/plain": [
       "<966x14747 sparse matrix of type '<class 'numpy.float64'>'\n",
       "\twith 242255 stored elements in Compressed Sparse Row format>"
      ]
     },
     "execution_count": 149,
     "metadata": {},
     "output_type": "execute_result"
    }
   ],
   "source": [
    "tfidf"
   ]
  },
  {
   "cell_type": "code",
   "execution_count": 150,
   "metadata": {},
   "outputs": [],
   "source": [
    "X_text_train, X_text_test, y_text_train, y_text_test = train_test_split(tfidf,\n",
    "                                                                        y_text,\n",
    "                                                                        test_size=test_size,\n",
    "                                                                        random_state=random_seed)"
   ]
  },
  {
   "cell_type": "code",
   "execution_count": 151,
   "metadata": {},
   "outputs": [
    {
     "data": {
      "text/plain": [
       "AdaBoostRegressor(base_estimator=None, learning_rate=1.0, loss='linear',\n",
       "                  n_estimators=50, random_state=42)"
      ]
     },
     "execution_count": 151,
     "metadata": {},
     "output_type": "execute_result"
    }
   ],
   "source": [
    "estimator.fit(X_text_train, y_text_train)"
   ]
  },
  {
   "cell_type": "code",
   "execution_count": 152,
   "metadata": {},
   "outputs": [],
   "source": [
    "y_text_pred = estimator.predict(X_text_test)"
   ]
  },
  {
   "cell_type": "markdown",
   "metadata": {},
   "source": [
    "# Draw Learning Curves"
   ]
  },
  {
   "cell_type": "code",
   "execution_count": 153,
   "metadata": {},
   "outputs": [],
   "source": [
    "learning_curve_res = get_learning_curves(estimator,\n",
    "                                         X_text_train,\n",
    "                                         y_text_train,\n",
    "                                         score='neg_median_absolute_error')"
   ]
  },
  {
   "cell_type": "code",
   "execution_count": 154,
   "metadata": {},
   "outputs": [
    {
     "data": {
      "image/png": "[encoded data removed]",
      "text/plain": [
       "<Figure size 864x576 with 1 Axes>"
      ]
     },
     "metadata": {},
     "output_type": "display_data"
    }
   ],
   "source": [
    "fig = plt.figure(figsize = (12, 8))\n",
    "plt.title('Learning Curves')\n",
    "sns.lineplot(x='size', y='score', hue='type', data=learning_curve_res)\n",
    "plt.show()"
   ]
  },
  {
   "cell_type": "markdown",
   "metadata": {},
   "source": [
    "# Display Cross-Validation Results"
   ]
  },
  {
   "cell_type": "code",
   "execution_count": 155,
   "metadata": {},
   "outputs": [],
   "source": [
    "cv_res = get_cv_res(estimator,\n",
    "                    X_text_train,\n",
    "                    y_text_train,\n",
    "                    score=['neg_median_absolute_error',\n",
    "                           'r2',\n",
    "                           'explained_variance',\n",
    "                           'max_error'])"
   ]
  },
  {
   "cell_type": "code",
   "execution_count": 156,
   "metadata": {},
   "outputs": [
    {
     "name": "stdout",
     "output_type": "stream",
     "text": [
      "Mean fit_time, 1.36\n",
      "Mean score_time, 0.06\n",
      "Mean test_neg_median_absolute_error, -9939.99\n",
      "Mean test_r2, 0.32\n",
      "Mean test_explained_variance, 0.33\n",
      "Mean test_max_error, -52506.82\n"
     ]
    }
   ],
   "source": [
    "print_cv_res(cv_res)"
   ]
  },
  {
   "cell_type": "code",
   "execution_count": 157,
   "metadata": {},
   "outputs": [],
   "source": [
    "feature_importances = pd.Series(estimator.feature_importances_, index=list(count_vectorizer.vocabulary_.keys()))"
   ]
  },
  {
   "cell_type": "code",
   "execution_count": 158,
   "metadata": {},
   "outputs": [
    {
     "data": {
      "image/png": "[encoded data removed]",
      "text/plain": [
       "<Figure size 1008x720 with 1 Axes>"
      ]
     },
     "metadata": {},
     "output_type": "display_data"
    }
   ],
   "source": [
    "top_n = 30\n",
    "to_plot = feature_importances.sort_values(ascending=True)[-top_n:]\n",
    "plt.yticks(range(len(to_plot)), to_plot.index)\n",
    "plt.title('Feature Importances')\n",
    "plt.barh(range(len(to_plot)), to_plot)\n",
    "plt.show()"
   ]
  },
  {
   "cell_type": "code",
   "execution_count": 159,
   "metadata": {},
   "outputs": [],
   "source": [
    "top_n = 10\n",
    "best_text_features = list(feature_importances.sort_values(ascending=False)[:top_n].index)"
   ]
  },
  {
   "cell_type": "code",
   "execution_count": 160,
   "metadata": {},
   "outputs": [
    {
     "data": {
      "text/plain": [
       "['kafé',\n",
       " 'beliggenhetpernilletoppen',\n",
       " 'seksjonsbegjæring/sameievedtekter',\n",
       " 'bredbåndsleverandør',\n",
       " 'servitutter/heftelser:2008/168189',\n",
       " 'felleslån',\n",
       " 'peis',\n",
       " 'kjøpesenter:',\n",
       " 'identitet',\n",
       " 'ventilasjonssystem']"
      ]
     },
     "execution_count": 160,
     "metadata": {},
     "output_type": "execute_result"
    }
   ],
   "source": [
    "best_text_features"
   ]
  },
  {
   "cell_type": "code",
   "execution_count": 161,
   "metadata": {},
   "outputs": [],
   "source": [
    "all_features = X"
   ]
  },
  {
   "cell_type": "code",
   "execution_count": 162,
   "metadata": {},
   "outputs": [],
   "source": [
    "for f in best_text_features:\n",
    "    all_features[f] = text_data[selected_text_char].str.lower().str.contains(f).map({True: 1, False: 0})"
   ]
  },
  {
   "cell_type": "code",
   "execution_count": null,
   "metadata": {},
   "outputs": [],
   "source": []
  },
  {
   "cell_type": "code",
   "execution_count": null,
   "metadata": {},
   "outputs": [],
   "source": []
  },
  {
   "cell_type": "markdown",
   "metadata": {},
   "source": [
    "# Predict Price With All Features"
   ]
  },
  {
   "cell_type": "code",
   "execution_count": 163,
   "metadata": {},
   "outputs": [],
   "source": [
    "X_full_train, X_full_test, y_full_train, y_full_test = train_test_split(all_features,\n",
    "                                                                        y,\n",
    "                                                                        test_size=test_size,\n",
    "                                                                        random_state=random_seed)"
   ]
  },
  {
   "cell_type": "code",
   "execution_count": 164,
   "metadata": {},
   "outputs": [
    {
     "data": {
      "text/plain": [
       "Pipeline(memory=None,\n",
       "         steps=[('scale', MinMaxScaler(copy=True, feature_range=(0, 1))),\n",
       "                ('normalize', Normalizer(copy=True, norm='l2')),\n",
       "                ('estimator',\n",
       "                 AdaBoostRegressor(base_estimator=None, learning_rate=1.0,\n",
       "                                   loss='linear', n_estimators=50,\n",
       "                                   random_state=42))],\n",
       "         verbose=False)"
      ]
     },
     "execution_count": 164,
     "metadata": {},
     "output_type": "execute_result"
    }
   ],
   "source": [
    "pipeline.fit(X_full_train, y_full_train)"
   ]
  },
  {
   "cell_type": "code",
   "execution_count": 165,
   "metadata": {},
   "outputs": [],
   "source": [
    "y_pred = estimator.predict(X_full_test)"
   ]
  },
  {
   "cell_type": "markdown",
   "metadata": {},
   "source": [
    "# Draw Learning Curves"
   ]
  },
  {
   "cell_type": "code",
   "execution_count": 166,
   "metadata": {},
   "outputs": [],
   "source": [
    "learning_curve_res = get_learning_curves(pipeline,\n",
    "                                         X_full_train,\n",
    "                                         y_full_train,\n",
    "                                         score='neg_median_absolute_error')"
   ]
  },
  {
   "cell_type": "code",
   "execution_count": 167,
   "metadata": {},
   "outputs": [
    {
     "data": {
      "image/png": "[encoded data removed]",
      "text/plain": [
       "<Figure size 864x576 with 1 Axes>"
      ]
     },
     "metadata": {},
     "output_type": "display_data"
    }
   ],
   "source": [
    "fig = plt.figure(figsize = (12, 8))\n",
    "plt.title('Learning Curves')\n",
    "sns.lineplot(x='size', y='score', hue='type', data=learning_curve_res)\n",
    "plt.show()"
   ]
  },
  {
   "cell_type": "markdown",
   "metadata": {},
   "source": [
    "# Display Cross-Validation Results"
   ]
  },
  {
   "cell_type": "code",
   "execution_count": 168,
   "metadata": {},
   "outputs": [],
   "source": [
    "cv_res = get_cv_res(pipeline,\n",
    "                    X_full_train,\n",
    "                    y_full_train,\n",
    "                    score=['neg_median_absolute_error',\n",
    "                           'r2',\n",
    "                           'explained_variance',\n",
    "                           'max_error'])"
   ]
  },
  {
   "cell_type": "code",
   "execution_count": 169,
   "metadata": {},
   "outputs": [
    {
     "name": "stdout",
     "output_type": "stream",
     "text": [
      "Mean fit_time, 0.09\n",
      "Mean score_time, 0.02\n",
      "Mean test_neg_median_absolute_error, -5782.58\n",
      "Mean test_r2, 0.65\n",
      "Mean test_explained_variance, 0.67\n",
      "Mean test_max_error, -38901.57\n"
     ]
    }
   ],
   "source": [
    "print_cv_res(cv_res)"
   ]
  },
  {
   "cell_type": "markdown",
   "metadata": {},
   "source": [
    "# Display Feature Importances"
   ]
  },
  {
   "cell_type": "code",
   "execution_count": 170,
   "metadata": {},
   "outputs": [],
   "source": [
    "feature_importances = pd.Series(pipeline.named_steps['estimator'].feature_importances_, index=X.columns).sort_values(ascending=True)"
   ]
  },
  {
   "cell_type": "code",
   "execution_count": 171,
   "metadata": {},
   "outputs": [
    {
     "data": {
      "image/png": "[encoded data removed]",
      "text/plain": [
       "<Figure size 1008x720 with 1 Axes>"
      ]
     },
     "metadata": {},
     "output_type": "display_data"
    }
   ],
   "source": [
    "top_n = 30\n",
    "to_plot = feature_importances[-top_n:]\n",
    "plt.yticks(range(len(to_plot)), to_plot.index)\n",
    "plt.title('Feature Importances')\n",
    "plt.barh(range(len(to_plot)), to_plot)\n",
    "plt.show()"
   ]
  },
  {
   "cell_type": "markdown",
   "metadata": {},
   "source": [
    "# TODO\n",
    "* Draw learning curves on multiple metrics\n",
    "* Produce statistics for all types of models\n",
    "* Select final model\n",
    "* Tune up the final model\n",
    "* Deploy model to cloud"
   ]
  },
  {
   "cell_type": "code",
   "execution_count": null,
   "metadata": {},
   "outputs": [],
   "source": []
  }
 ],
 "metadata": {
  "kernelspec": {
   "display_name": "Python 3",
   "language": "python",
   "name": "python3"
  },
  "language_info": {
   "codemirror_mode": {
    "name": "ipython",
    "version": 3
   },
   "file_extension": ".py",
   "mimetype": "text/x-python",
   "name": "python",
   "nbconvert_exporter": "python",
   "pygments_lexer": "ipython3",
   "version": "3.7.3"
  }
 },
 "nbformat": 4,
 "nbformat_minor": 2
}
