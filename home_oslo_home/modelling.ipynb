{
 "cells": [
  {
   "cell_type": "code",
   "execution_count": 1,
   "metadata": {},
   "outputs": [],
   "source": [
    "import os\n",
    "import re\n",
    "import pandas as pd\n",
    "import numpy as np\n",
    "import scipy\n",
    "from google.cloud import bigquery\n",
    "import matplotlib.pyplot as plt\n",
    "import seaborn as sns"
   ]
  },
  {
   "cell_type": "code",
   "execution_count": 2,
   "metadata": {},
   "outputs": [
    {
     "name": "stderr",
     "output_type": "stream",
     "text": [
      "Using TensorFlow backend.\n"
     ]
    }
   ],
   "source": [
    "import tensorflow\n",
    "from keras.models import Sequential\n",
    "from keras.layers import Dense, Dropout\n",
    "from keras.wrappers.scikit_learn import KerasRegressor\n",
    "from sklearn.decomposition import PCA\n",
    "from sklearn.feature_selection import RFECV\n",
    "from sklearn.model_selection import train_test_split, KFold, cross_val_score, learning_curve, cross_validate\n",
    "from sklearn.preprocessing import MinMaxScaler, StandardScaler, normalize, Normalizer, MaxAbsScaler\n",
    "from sklearn.metrics import mean_absolute_error, median_absolute_error, r2_score, explained_variance_score, make_scorer\n",
    "from sklearn.ensemble import AdaBoostRegressor, IsolationForest\n",
    "from sklearn.pipeline import make_pipeline, Pipeline\n",
    "from sklearn.linear_model import LinearRegression\n",
    "from sklearn.neighbors import KNeighborsRegressor, RadiusNeighborsRegressor\n",
    "from sklearn.naive_bayes import ComplementNB, MultinomialNB, GaussianNB\n",
    "from sklearn.neural_network import MLPRegressor"
   ]
  },
  {
   "cell_type": "code",
   "execution_count": 3,
   "metadata": {},
   "outputs": [],
   "source": [
    "#set the visual style\n",
    "pd.set_option('display.max_colwidth', 20)\n",
    "pd.set_option('display.max_columns', 100)\n",
    "pd.set_option('display.max_rows', 5000)\n",
    "from IPython.display import display, HTML\n",
    "%matplotlib inline\n",
    "sns.set(style='dark')\n",
    "plt.rcParams['figure.figsize'] = [14, 10]"
   ]
  },
  {
   "cell_type": "markdown",
   "metadata": {},
   "source": [
    "# Import Data"
   ]
  },
  {
   "cell_type": "code",
   "execution_count": 4,
   "metadata": {},
   "outputs": [],
   "source": [
    "query_dir = 'queries'"
   ]
  },
  {
   "cell_type": "code",
   "execution_count": 5,
   "metadata": {},
   "outputs": [],
   "source": [
    "queries = {}\n",
    "for query_file in (os.listdir(query_dir)):\n",
    "    with open(os.path.join(query_dir, query_file), 'r') as query:\n",
    "        queries[query_file] = query.read()"
   ]
  },
  {
   "cell_type": "code",
   "execution_count": 6,
   "metadata": {},
   "outputs": [],
   "source": [
    "query_client = bigquery.Client()"
   ]
  },
  {
   "cell_type": "code",
   "execution_count": 7,
   "metadata": {},
   "outputs": [],
   "source": [
    "request = queries['combined_analysis_data.sql']"
   ]
  },
  {
   "cell_type": "code",
   "execution_count": 8,
   "metadata": {},
   "outputs": [],
   "source": [
    "data = query_client.query(request).to_dataframe()"
   ]
  },
  {
   "cell_type": "code",
   "execution_count": 9,
   "metadata": {},
   "outputs": [],
   "source": [
    "data = data[(data.price.notna()) & (data.primary_size.notna())].copy()"
   ]
  },
  {
   "cell_type": "code",
   "execution_count": 10,
   "metadata": {},
   "outputs": [
    {
     "name": "stdout",
     "output_type": "stream",
     "text": [
      "<class 'pandas.core.frame.DataFrame'>\n",
      "Int64Index: 4716 entries, 0 to 5321\n",
      "Data columns (total 22 columns):\n",
      "ad_id                 4716 non-null int64\n",
      "apt_id                3432 non-null object\n",
      "new_building          4716 non-null bool\n",
      "num_bedrooms          4645 non-null float64\n",
      "floor                 3938 non-null float64\n",
      "primary_size          4716 non-null float64\n",
      "total_size            4608 non-null float64\n",
      "price                 4716 non-null float64\n",
      "property_type         4716 non-null object\n",
      "ownership_type        4716 non-null object\n",
      "construction_year     4711 non-null float64\n",
      "energy_character      1657 non-null object\n",
      "common_expenses       967 non-null float64\n",
      "brokerage_expenses    1281 non-null float64\n",
      "common_wealth         678 non-null float64\n",
      "common_debt           1211 non-null float64\n",
      "time_s                4566 non-null float64\n",
      "lat                   4566 non-null float64\n",
      "lng                   4566 non-null float64\n",
      "address               4716 non-null object\n",
      "short_description     4716 non-null object\n",
      "full_description      4716 non-null object\n",
      "dtypes: bool(1), float64(13), int64(1), object(7)\n",
      "memory usage: 815.2+ KB\n"
     ]
    }
   ],
   "source": [
    "data.info()"
   ]
  },
  {
   "cell_type": "code",
   "execution_count": 11,
   "metadata": {},
   "outputs": [],
   "source": [
    "request = queries['all_post_code_places.sql']"
   ]
  },
  {
   "cell_type": "code",
   "execution_count": 12,
   "metadata": {},
   "outputs": [],
   "source": [
    "post_code_data = query_client.query(request).to_dataframe()"
   ]
  },
  {
   "cell_type": "code",
   "execution_count": 13,
   "metadata": {},
   "outputs": [
    {
     "name": "stdout",
     "output_type": "stream",
     "text": [
      "<class 'pandas.core.frame.DataFrame'>\n",
      "RangeIndex: 117498 entries, 0 to 117497\n",
      "Data columns (total 6 columns):\n",
      "post_code          117498 non-null object\n",
      "radius             117498 non-null int64\n",
      "place_name         117498 non-null object\n",
      "place_type         117498 non-null object\n",
      "place_attribute    117498 non-null object\n",
      "attribute_value    42240 non-null float64\n",
      "dtypes: float64(1), int64(1), object(4)\n",
      "memory usage: 5.4+ MB\n"
     ]
    }
   ],
   "source": [
    "post_code_data.info()"
   ]
  },
  {
   "cell_type": "markdown",
   "metadata": {},
   "source": [
    "# Feature Engineering\n",
    "## Energy Letter and Color"
   ]
  },
  {
   "cell_type": "code",
   "execution_count": 14,
   "metadata": {},
   "outputs": [],
   "source": [
    "energy_cols = ['energy_letter', 'energy_color']\n",
    "\n",
    "for col in energy_cols:\n",
    "    data[col] = 0\n",
    "\n",
    "energy_res = [[c.strip() for c in char.split('-')] if char is not None and '-' in char else [None, None] for char in data.energy_character]\n",
    "data[energy_cols] = pd.DataFrame(energy_res, columns=energy_cols)"
   ]
  },
  {
   "cell_type": "markdown",
   "metadata": {},
   "source": [
    "## Post Codes"
   ]
  },
  {
   "cell_type": "code",
   "execution_count": 15,
   "metadata": {},
   "outputs": [],
   "source": [
    "def get_postcode_from_address(address):\n",
    "    try:\n",
    "        return re.search(r'(.*)(\\d{4})(.*)', address, re.I)[2]\n",
    "    except:\n",
    "        return None"
   ]
  },
  {
   "cell_type": "code",
   "execution_count": 16,
   "metadata": {},
   "outputs": [],
   "source": [
    "data['post_code'] = data.address.apply(get_postcode_from_address)"
   ]
  },
  {
   "cell_type": "markdown",
   "metadata": {},
   "source": [
    "## Settlement Names"
   ]
  },
  {
   "cell_type": "code",
   "execution_count": 17,
   "metadata": {},
   "outputs": [],
   "source": [
    "post_codes_no = pd.read_csv('post_codes_no.csv', dtype={'post_code': str}).set_index('post_code')"
   ]
  },
  {
   "cell_type": "code",
   "execution_count": 18,
   "metadata": {},
   "outputs": [
    {
     "name": "stdout",
     "output_type": "stream",
     "text": [
      "<class 'pandas.core.frame.DataFrame'>\n",
      "Index: 5057 entries, 0001 to 9991\n",
      "Data columns (total 4 columns):\n",
      "name               5057 non-null object\n",
      "municipality_id    5057 non-null int64\n",
      "municipality       5057 non-null object\n",
      "type               5057 non-null object\n",
      "dtypes: int64(1), object(3)\n",
      "memory usage: 197.5+ KB\n"
     ]
    }
   ],
   "source": [
    "post_codes_no.info()"
   ]
  },
  {
   "cell_type": "code",
   "execution_count": 19,
   "metadata": {},
   "outputs": [],
   "source": [
    "data['settlement_name'] = pd.merge(data[['ad_id', 'post_code']], post_codes_no, how='left', left_on='post_code', right_index=True)['municipality']"
   ]
  },
  {
   "cell_type": "markdown",
   "metadata": {},
   "source": [
    "## Oslo Neighborhood Names"
   ]
  },
  {
   "cell_type": "code",
   "execution_count": 20,
   "metadata": {},
   "outputs": [],
   "source": [
    "post_codes_osl = pd.read_csv('post_codes.csv', dtype={'post_code':str}).set_index('post_code', drop=True)"
   ]
  },
  {
   "cell_type": "code",
   "execution_count": 21,
   "metadata": {},
   "outputs": [
    {
     "name": "stdout",
     "output_type": "stream",
     "text": [
      "<class 'pandas.core.frame.DataFrame'>\n",
      "Index: 995 entries, 0001 to 2185\n",
      "Data columns (total 5 columns):\n",
      "lat                  995 non-null float64\n",
      "lng                  995 non-null float64\n",
      "municipality         995 non-null object\n",
      "neighborhood_name    940 non-null object\n",
      "population           590 non-null float64\n",
      "dtypes: float64(3), object(2)\n",
      "memory usage: 46.6+ KB\n"
     ]
    }
   ],
   "source": [
    "post_codes_osl.info()"
   ]
  },
  {
   "cell_type": "code",
   "execution_count": 22,
   "metadata": {},
   "outputs": [],
   "source": [
    "data['neighborhood_name'] = pd.merge(data[['ad_id', 'post_code']], post_codes_osl, how='left', left_on='post_code', right_index=True)['neighborhood_name']"
   ]
  },
  {
   "cell_type": "markdown",
   "metadata": {},
   "source": [
    "## Combine Oslo Neighborhood Names and Settlement Names"
   ]
  },
  {
   "cell_type": "code",
   "execution_count": 23,
   "metadata": {},
   "outputs": [],
   "source": [
    "data['area_name'] = [s_n.lower() if s_n != 'OSLO' else n_n.lower() for s_n, n_n in zip(data['settlement_name'], data['neighborhood_name'])]"
   ]
  },
  {
   "cell_type": "code",
   "execution_count": 24,
   "metadata": {},
   "outputs": [],
   "source": [
    "data['address_oslo'] = data['settlement_name'].apply(lambda s_n: True if s_n == 'OSLO' else False)"
   ]
  },
  {
   "cell_type": "markdown",
   "metadata": {},
   "source": [
    "# Data Imputation"
   ]
  },
  {
   "cell_type": "code",
   "execution_count": 25,
   "metadata": {},
   "outputs": [
    {
     "name": "stdout",
     "output_type": "stream",
     "text": [
      "<class 'pandas.core.frame.DataFrame'>\n",
      "Int64Index: 4716 entries, 0 to 5321\n",
      "Data columns (total 29 columns):\n",
      "ad_id                 4716 non-null int64\n",
      "apt_id                3432 non-null object\n",
      "new_building          4716 non-null bool\n",
      "num_bedrooms          4645 non-null float64\n",
      "floor                 3938 non-null float64\n",
      "primary_size          4716 non-null float64\n",
      "total_size            4608 non-null float64\n",
      "price                 4716 non-null float64\n",
      "property_type         4716 non-null object\n",
      "ownership_type        4716 non-null object\n",
      "construction_year     4711 non-null float64\n",
      "energy_character      1657 non-null object\n",
      "common_expenses       967 non-null float64\n",
      "brokerage_expenses    1281 non-null float64\n",
      "common_wealth         678 non-null float64\n",
      "common_debt           1211 non-null float64\n",
      "time_s                4566 non-null float64\n",
      "lat                   4566 non-null float64\n",
      "lng                   4566 non-null float64\n",
      "address               4716 non-null object\n",
      "short_description     4716 non-null object\n",
      "full_description      4716 non-null object\n",
      "energy_letter         1424 non-null object\n",
      "energy_color          1424 non-null object\n",
      "post_code             4716 non-null object\n",
      "settlement_name       4716 non-null object\n",
      "neighborhood_name     4715 non-null object\n",
      "area_name             4716 non-null object\n",
      "address_oslo          4716 non-null bool\n",
      "dtypes: bool(2), float64(13), int64(1), object(13)\n",
      "memory usage: 1.0+ MB\n"
     ]
    }
   ],
   "source": [
    "data.info()"
   ]
  },
  {
   "cell_type": "markdown",
   "metadata": {},
   "source": [
    "## Impute Number Of Bedrooms"
   ]
  },
  {
   "cell_type": "code",
   "execution_count": 26,
   "metadata": {},
   "outputs": [],
   "source": [
    "data['primary_size_bin'] = pd.cut(data['primary_size'], bins=[-np.inf, 30, 40, 50, 60, 70, 80, 100, 150, 200, np.inf])"
   ]
  },
  {
   "cell_type": "code",
   "execution_count": 27,
   "metadata": {},
   "outputs": [],
   "source": [
    "num_bedrooms_grouping = data.groupby(['primary_size_bin'])['num_bedrooms'].median()"
   ]
  },
  {
   "cell_type": "code",
   "execution_count": 28,
   "metadata": {},
   "outputs": [],
   "source": [
    "data['num_bedrooms'] = [num_bedrooms_grouping.loc[size_bin] if np.isnan(num_bedr) else num_bedr\n",
    "                        for size_bin, num_bedr\n",
    "                        in zip(data['primary_size_bin'], data['num_bedrooms'])]"
   ]
  },
  {
   "cell_type": "markdown",
   "metadata": {},
   "source": [
    "## Impute Floor"
   ]
  },
  {
   "cell_type": "code",
   "execution_count": 29,
   "metadata": {},
   "outputs": [],
   "source": [
    "data['floor_level'] = [fl if prop_type == 'Leilighet' else 1 for fl, prop_type in zip(data['floor'], data['property_type'])]\n",
    "data['num_floors'] = [fl if prop_type != 'Leilighet' else 1 for fl, prop_type in zip(data['floor'], data['property_type'])]\n",
    "\n",
    "data['floor_level'] = data['floor_level'].fillna(1)\n",
    "data['num_floors'] = data['num_floors'].fillna(1)\n",
    "data['floor'] = data['floor'].fillna(2)"
   ]
  },
  {
   "cell_type": "markdown",
   "metadata": {},
   "source": [
    "## Impute Total Size"
   ]
  },
  {
   "cell_type": "code",
   "execution_count": 30,
   "metadata": {},
   "outputs": [],
   "source": [
    "data['total_size'] = [primary_size if np.isnan(total_size) else total_size\n",
    "                      for primary_size, total_size\n",
    "                      in zip(data['primary_size'], data['total_size'])]"
   ]
  },
  {
   "cell_type": "markdown",
   "metadata": {},
   "source": [
    "## Impute Construction Year"
   ]
  },
  {
   "cell_type": "code",
   "execution_count": 31,
   "metadata": {},
   "outputs": [],
   "source": [
    "data['construction_year'].fillna(data[data['new_building'] == False]['construction_year'].median(), inplace=True) "
   ]
  },
  {
   "cell_type": "markdown",
   "metadata": {},
   "source": [
    "## Impute Energy Character"
   ]
  },
  {
   "cell_type": "code",
   "execution_count": 32,
   "metadata": {},
   "outputs": [],
   "source": [
    "constr_year_bins = [-np.inf, 1900, 1945, 1965, 1970, 1980, 1990, 2000, 2010, np.inf]\n",
    "data['construction_year_bin'] = pd.cut(data['construction_year'],\n",
    "                                       bins=constr_year_bins)"
   ]
  },
  {
   "cell_type": "code",
   "execution_count": 33,
   "metadata": {},
   "outputs": [],
   "source": [
    "to_plot = data.groupby(['construction_year_bin', 'energy_letter'])['energy_letter'].count()"
   ]
  },
  {
   "cell_type": "code",
   "execution_count": 34,
   "metadata": {},
   "outputs": [],
   "source": [
    "most_common_energy_c = []\n",
    "constr_year_index = []\n",
    "for y in to_plot.index.get_level_values('construction_year_bin').unique():\n",
    "    most_common_energy_c.append(to_plot.loc[y].sort_values(ascending=False).index[0])\n",
    "    constr_year_index.append(y)"
   ]
  },
  {
   "cell_type": "code",
   "execution_count": 35,
   "metadata": {},
   "outputs": [],
   "source": [
    "energy_letter_grouping = pd.Series(most_common_energy_c, index=constr_year_index)"
   ]
  },
  {
   "cell_type": "code",
   "execution_count": 36,
   "metadata": {},
   "outputs": [],
   "source": [
    "def imnpute_energy_letter(letter, construction_year_bin):\n",
    "    if str(letter) in 'ABCDEFG':\n",
    "        return letter\n",
    "    else:\n",
    "        return energy_letter_grouping.loc[construction_year_bin]"
   ]
  },
  {
   "cell_type": "code",
   "execution_count": 37,
   "metadata": {},
   "outputs": [],
   "source": [
    "data['energy_letter'] = [imnpute_energy_letter(letter, construction_year_bin) for letter, construction_year_bin in zip(data['energy_letter'], data['construction_year_bin'])]"
   ]
  },
  {
   "cell_type": "code",
   "execution_count": 38,
   "metadata": {},
   "outputs": [],
   "source": [
    "to_plot = data.groupby(['construction_year_bin', 'energy_color'])['energy_color'].count()"
   ]
  },
  {
   "cell_type": "code",
   "execution_count": 39,
   "metadata": {},
   "outputs": [],
   "source": [
    "most_common_energy_c = []\n",
    "constr_year_index = []\n",
    "for y in to_plot.index.get_level_values('construction_year_bin').unique():\n",
    "    most_common_energy_c.append(to_plot.loc[y].sort_values(ascending=False).index[0])\n",
    "    constr_year_index.append(y)"
   ]
  },
  {
   "cell_type": "code",
   "execution_count": 40,
   "metadata": {},
   "outputs": [],
   "source": [
    "energy_color_grouping = pd.Series(most_common_energy_c, index=constr_year_index)"
   ]
  },
  {
   "cell_type": "code",
   "execution_count": 41,
   "metadata": {},
   "outputs": [],
   "source": [
    "def imnpute_energy_color(color, construction_year_bin):\n",
    "    if str(color) in ['mørkegrønn', 'oransje', 'lysegrønn', 'rød', 'gul']:\n",
    "        return color\n",
    "    else:\n",
    "        return energy_color_grouping.loc[construction_year_bin]"
   ]
  },
  {
   "cell_type": "code",
   "execution_count": 42,
   "metadata": {},
   "outputs": [],
   "source": [
    "data['energy_color'] = [imnpute_energy_color(color, construction_year_bin) for color, construction_year_bin in zip(data['energy_color'], data['construction_year_bin'])]"
   ]
  },
  {
   "cell_type": "markdown",
   "metadata": {},
   "source": [
    "## Impute Travel Time"
   ]
  },
  {
   "cell_type": "code",
   "execution_count": 43,
   "metadata": {},
   "outputs": [],
   "source": [
    "missing_transport_factor = 1\n",
    "data['time_s'].fillna(data['time_s'].max() * missing_transport_factor, inplace=True)"
   ]
  },
  {
   "cell_type": "markdown",
   "metadata": {},
   "source": [
    "# Feature Engineering"
   ]
  },
  {
   "cell_type": "code",
   "execution_count": 44,
   "metadata": {},
   "outputs": [],
   "source": [
    "new_building_pct = pd.Series(data[data.new_building == True]\\\n",
    "                             .groupby('area_name')['ad_id'].count()\\\n",
    "                             .div(data\\\n",
    "                                  .groupby('area_name')['ad_id'].count()),\n",
    "                             name='area_new_building_pct')"
   ]
  },
  {
   "cell_type": "code",
   "execution_count": 45,
   "metadata": {},
   "outputs": [],
   "source": [
    "data = data.merge(new_building_pct, how='left', left_on='area_name', right_index=True)"
   ]
  },
  {
   "cell_type": "code",
   "execution_count": null,
   "metadata": {},
   "outputs": [],
   "source": []
  },
  {
   "cell_type": "code",
   "execution_count": null,
   "metadata": {},
   "outputs": [],
   "source": []
  },
  {
   "cell_type": "code",
   "execution_count": 46,
   "metadata": {},
   "outputs": [],
   "source": [
    "# add feature for hybeldel\n",
    "data['exclusive'] = data.short_description.str.lower().str.contains(r'sydvestvend|terrasse|utsikt|eksklusiv')\n",
    "data['renovated'] = data.short_description.str.lower().str.contains(r'oppgraderingsbrev|nyoppusset|opparbeidet')"
   ]
  },
  {
   "cell_type": "code",
   "execution_count": null,
   "metadata": {},
   "outputs": [],
   "source": []
  },
  {
   "cell_type": "code",
   "execution_count": null,
   "metadata": {},
   "outputs": [],
   "source": []
  },
  {
   "cell_type": "markdown",
   "metadata": {},
   "source": [
    "# Google Maps Data"
   ]
  },
  {
   "cell_type": "code",
   "execution_count": 47,
   "metadata": {},
   "outputs": [
    {
     "data": {
      "text/html": [
       "<div>\n",
       "<style scoped>\n",
       "    .dataframe tbody tr th:only-of-type {\n",
       "        vertical-align: middle;\n",
       "    }\n",
       "\n",
       "    .dataframe tbody tr th {\n",
       "        vertical-align: top;\n",
       "    }\n",
       "\n",
       "    .dataframe thead th {\n",
       "        text-align: right;\n",
       "    }\n",
       "</style>\n",
       "<table border=\"1\" class=\"dataframe\">\n",
       "  <thead>\n",
       "    <tr style=\"text-align: right;\">\n",
       "      <th></th>\n",
       "      <th>post_code</th>\n",
       "      <th>radius</th>\n",
       "      <th>place_name</th>\n",
       "      <th>place_type</th>\n",
       "      <th>place_attribute</th>\n",
       "      <th>attribute_value</th>\n",
       "    </tr>\n",
       "  </thead>\n",
       "  <tbody>\n",
       "    <tr>\n",
       "      <th>0</th>\n",
       "      <td>0001</td>\n",
       "      <td>500</td>\n",
       "      <td>Oslo</td>\n",
       "      <td>locality</td>\n",
       "      <td>rating</td>\n",
       "      <td>NaN</td>\n",
       "    </tr>\n",
       "    <tr>\n",
       "      <th>1</th>\n",
       "      <td>0001</td>\n",
       "      <td>500</td>\n",
       "      <td>Oslo</td>\n",
       "      <td>political</td>\n",
       "      <td>rating</td>\n",
       "      <td>NaN</td>\n",
       "    </tr>\n",
       "    <tr>\n",
       "      <th>2</th>\n",
       "      <td>0001</td>\n",
       "      <td>500</td>\n",
       "      <td>Oslo Opera House</td>\n",
       "      <td>premise</td>\n",
       "      <td>rating</td>\n",
       "      <td>NaN</td>\n",
       "    </tr>\n",
       "    <tr>\n",
       "      <th>3</th>\n",
       "      <td>0001</td>\n",
       "      <td>500</td>\n",
       "      <td>Oslo Opera House</td>\n",
       "      <td>point_of_interest</td>\n",
       "      <td>rating</td>\n",
       "      <td>NaN</td>\n",
       "    </tr>\n",
       "    <tr>\n",
       "      <th>4</th>\n",
       "      <td>0001</td>\n",
       "      <td>500</td>\n",
       "      <td>Oslo Opera House</td>\n",
       "      <td>establishment</td>\n",
       "      <td>rating</td>\n",
       "      <td>NaN</td>\n",
       "    </tr>\n",
       "  </tbody>\n",
       "</table>\n",
       "</div>"
      ],
      "text/plain": [
       "  post_code  radius        place_name         place_type place_attribute  \\\n",
       "0      0001     500              Oslo           locality          rating   \n",
       "1      0001     500              Oslo          political          rating   \n",
       "2      0001     500  Oslo Opera House            premise          rating   \n",
       "3      0001     500  Oslo Opera House  point_of_interest          rating   \n",
       "4      0001     500  Oslo Opera House      establishment          rating   \n",
       "\n",
       "   attribute_value  \n",
       "0              NaN  \n",
       "1              NaN  \n",
       "2              NaN  \n",
       "3              NaN  \n",
       "4              NaN  "
      ]
     },
     "execution_count": 47,
     "metadata": {},
     "output_type": "execute_result"
    }
   ],
   "source": [
    "post_code_data.head()"
   ]
  },
  {
   "cell_type": "code",
   "execution_count": 48,
   "metadata": {},
   "outputs": [],
   "source": [
    "neighborhood_data = pd.DataFrame(index=post_code_data.post_code.unique())"
   ]
  },
  {
   "cell_type": "code",
   "execution_count": 49,
   "metadata": {},
   "outputs": [],
   "source": [
    "neighborhood_data['mean_post_code_rating'] = post_code_data[(post_code_data.place_attribute == 'rating')]\\\n",
    "                                             .groupby('place_name').first()\\\n",
    "                                             .groupby('post_code')['attribute_value'].mean()"
   ]
  },
  {
   "cell_type": "code",
   "execution_count": 50,
   "metadata": {},
   "outputs": [],
   "source": [
    "neighborhood_data['post_code_place_count'] = post_code_data[(post_code_data.place_attribute == 'rating')]\\\n",
    "                                             .groupby('place_name').first()\\\n",
    "                                             .groupby('post_code')['attribute_value'].count()"
   ]
  },
  {
   "cell_type": "code",
   "execution_count": 51,
   "metadata": {},
   "outputs": [],
   "source": [
    "to_plot = post_code_data[post_code_data.place_attribute == 'rating']\n",
    "place_counts = pd.pivot_table(data=to_plot, index='post_code', columns='place_type', values='attribute_value', aggfunc='count', fill_value=0)"
   ]
  },
  {
   "cell_type": "code",
   "execution_count": 52,
   "metadata": {},
   "outputs": [],
   "source": [
    "neighborhood_data = neighborhood_data.join(place_counts)"
   ]
  },
  {
   "cell_type": "code",
   "execution_count": 53,
   "metadata": {},
   "outputs": [],
   "source": [
    "to_plot = post_code_data[post_code_data.place_attribute == 'rating']\n",
    "neighborhood_data['establishment_rating'] = pd.pivot_table(data=to_plot,\n",
    "                                                           index='post_code',\n",
    "                                                           columns='place_type',\n",
    "                                                           values='attribute_value',\n",
    "                                                           aggfunc='mean',\n",
    "                                                           fill_value=0)['establishment']"
   ]
  },
  {
   "cell_type": "code",
   "execution_count": 54,
   "metadata": {},
   "outputs": [],
   "source": [
    "to_plot = post_code_data[(post_code_data.place_name.str.lower().str.contains(r'meny'))\n",
    "                         & (post_code_data.place_type == 'store')\n",
    "                         & (post_code_data.place_attribute == 'rating')]\n",
    "\n",
    "neighborhood_data['meny_store'] = pd.pivot_table(data=to_plot,\n",
    "                                                 index='post_code',\n",
    "                                                 values='attribute_value',\n",
    "                                                 aggfunc='count',\n",
    "                                                 fill_value=0)"
   ]
  },
  {
   "cell_type": "code",
   "execution_count": 55,
   "metadata": {},
   "outputs": [],
   "source": [
    "to_plot = post_code_data[(post_code_data.place_name.str.lower().str.contains(r'marina|båt|boat'))\n",
    "                         & (post_code_data.place_type == 'point_of_interest')\n",
    "                         & (post_code_data.place_attribute == 'rating')]\n",
    "\n",
    "neighborhood_data['marina'] = pd.pivot_table(data=to_plot,\n",
    "                                             index='post_code',\n",
    "                                             values='attribute_value',\n",
    "                                             aggfunc='count',\n",
    "                                             fill_value=0)"
   ]
  },
  {
   "cell_type": "code",
   "execution_count": 56,
   "metadata": {},
   "outputs": [],
   "source": [
    "to_plot = post_code_data[(post_code_data.place_name.str.lower().str.contains(r'sats'))\n",
    "                         & (post_code_data.place_type == 'gym')\n",
    "                         & (post_code_data.place_attribute == 'rating')]\n",
    "\n",
    "neighborhood_data['sats'] = pd.pivot_table(data=to_plot,\n",
    "                                           index='post_code',\n",
    "                                           values='attribute_value',\n",
    "                                           aggfunc='count',\n",
    "                                           fill_value=0)"
   ]
  },
  {
   "cell_type": "code",
   "execution_count": 57,
   "metadata": {},
   "outputs": [],
   "source": [
    "neighborhood_data.fillna(0, inplace=True)"
   ]
  },
  {
   "cell_type": "code",
   "execution_count": 58,
   "metadata": {},
   "outputs": [],
   "source": [
    "data = data.merge(neighborhood_data, how='left', left_on='post_code', right_index=True)"
   ]
  },
  {
   "cell_type": "code",
   "execution_count": 59,
   "metadata": {},
   "outputs": [],
   "source": [
    "neighborhood_cols = list(neighborhood_data.columns)"
   ]
  },
  {
   "cell_type": "markdown",
   "metadata": {},
   "source": [
    "# National Health Institute Data"
   ]
  },
  {
   "cell_type": "code",
   "execution_count": 60,
   "metadata": {},
   "outputs": [],
   "source": [
    "request = queries['full_fhi_data.sql']"
   ]
  },
  {
   "cell_type": "code",
   "execution_count": 61,
   "metadata": {},
   "outputs": [],
   "source": [
    "fhi_data = query_client.query(request).to_dataframe()"
   ]
  },
  {
   "cell_type": "code",
   "execution_count": 62,
   "metadata": {},
   "outputs": [
    {
     "data": {
      "text/html": [
       "<div>\n",
       "<style scoped>\n",
       "    .dataframe tbody tr th:only-of-type {\n",
       "        vertical-align: middle;\n",
       "    }\n",
       "\n",
       "    .dataframe tbody tr th {\n",
       "        vertical-align: top;\n",
       "    }\n",
       "\n",
       "    .dataframe thead th {\n",
       "        text-align: right;\n",
       "    }\n",
       "</style>\n",
       "<table border=\"1\" class=\"dataframe\">\n",
       "  <thead>\n",
       "    <tr style=\"text-align: right;\">\n",
       "      <th></th>\n",
       "      <th>dataset</th>\n",
       "      <th>area_name</th>\n",
       "      <th>year</th>\n",
       "      <th>value</th>\n",
       "    </tr>\n",
       "  </thead>\n",
       "  <tbody>\n",
       "    <tr>\n",
       "      <th>0</th>\n",
       "      <td>income_inequality</td>\n",
       "      <td>hurdal</td>\n",
       "      <td>2013</td>\n",
       "      <td>0.023</td>\n",
       "    </tr>\n",
       "    <tr>\n",
       "      <th>1</th>\n",
       "      <td>income_inequality</td>\n",
       "      <td>st.hanshaugen</td>\n",
       "      <td>2013</td>\n",
       "      <td>0.038</td>\n",
       "    </tr>\n",
       "    <tr>\n",
       "      <th>2</th>\n",
       "      <td>income_inequality</td>\n",
       "      <td>frogner</td>\n",
       "      <td>2013</td>\n",
       "      <td>0.045</td>\n",
       "    </tr>\n",
       "    <tr>\n",
       "      <th>3</th>\n",
       "      <td>income_inequality</td>\n",
       "      <td>ullern</td>\n",
       "      <td>2013</td>\n",
       "      <td>0.039</td>\n",
       "    </tr>\n",
       "    <tr>\n",
       "      <th>4</th>\n",
       "      <td>income_inequality</td>\n",
       "      <td>vestre aker</td>\n",
       "      <td>2013</td>\n",
       "      <td>0.043</td>\n",
       "    </tr>\n",
       "  </tbody>\n",
       "</table>\n",
       "</div>"
      ],
      "text/plain": [
       "             dataset      area_name  year  value\n",
       "0  income_inequality         hurdal  2013  0.023\n",
       "1  income_inequality  st.hanshaugen  2013  0.038\n",
       "2  income_inequality        frogner  2013  0.045\n",
       "3  income_inequality         ullern  2013  0.039\n",
       "4  income_inequality    vestre aker  2013  0.043"
      ]
     },
     "execution_count": 62,
     "metadata": {},
     "output_type": "execute_result"
    }
   ],
   "source": [
    "fhi_data.head()"
   ]
  },
  {
   "cell_type": "code",
   "execution_count": 63,
   "metadata": {},
   "outputs": [],
   "source": [
    "fhi_data_latest = pd.DataFrame(index=fhi_data.area_name.unique())\n",
    "for dataset in fhi_data.dataset.unique():\n",
    "    to_join = fhi_data[fhi_data.dataset == dataset]\n",
    "    latest_year = to_join[to_join.value.notna()].year.max()\n",
    "    to_join_latest_year = to_join[to_join.year == latest_year]\n",
    "    to_join_pivot = pd.pivot_table(data=to_join_latest_year,\n",
    "                                   index='area_name',\n",
    "                                   values='value').rename(columns={'value': dataset})\n",
    "    fhi_data_latest = fhi_data_latest.join(to_join_pivot)"
   ]
  },
  {
   "cell_type": "code",
   "execution_count": 64,
   "metadata": {},
   "outputs": [
    {
     "data": {
      "text/html": [
       "<div>\n",
       "<style scoped>\n",
       "    .dataframe tbody tr th:only-of-type {\n",
       "        vertical-align: middle;\n",
       "    }\n",
       "\n",
       "    .dataframe tbody tr th {\n",
       "        vertical-align: top;\n",
       "    }\n",
       "\n",
       "    .dataframe thead th {\n",
       "        text-align: right;\n",
       "    }\n",
       "</style>\n",
       "<table border=\"1\" class=\"dataframe\">\n",
       "  <thead>\n",
       "    <tr style=\"text-align: right;\">\n",
       "      <th></th>\n",
       "      <th>income_inequality</th>\n",
       "      <th>uni_graduates</th>\n",
       "      <th>low_income_households</th>\n",
       "      <th>cramped_spaces</th>\n",
       "      <th>immigrant_pct</th>\n",
       "    </tr>\n",
       "  </thead>\n",
       "  <tbody>\n",
       "    <tr>\n",
       "      <th>hurdal</th>\n",
       "      <td>0.025</td>\n",
       "      <td>0.35</td>\n",
       "      <td>0.168</td>\n",
       "      <td>0.128</td>\n",
       "      <td>0.103</td>\n",
       "    </tr>\n",
       "    <tr>\n",
       "      <th>st.hanshaugen</th>\n",
       "      <td>0.038</td>\n",
       "      <td>0.73</td>\n",
       "      <td>0.186</td>\n",
       "      <td>0.469</td>\n",
       "      <td>0.278</td>\n",
       "    </tr>\n",
       "    <tr>\n",
       "      <th>frogner</th>\n",
       "      <td>0.047</td>\n",
       "      <td>0.72</td>\n",
       "      <td>0.160</td>\n",
       "      <td>0.328</td>\n",
       "      <td>0.280</td>\n",
       "    </tr>\n",
       "    <tr>\n",
       "      <th>ullern</th>\n",
       "      <td>0.040</td>\n",
       "      <td>0.76</td>\n",
       "      <td>0.066</td>\n",
       "      <td>0.160</td>\n",
       "      <td>0.199</td>\n",
       "    </tr>\n",
       "    <tr>\n",
       "      <th>vestre aker</th>\n",
       "      <td>0.045</td>\n",
       "      <td>0.77</td>\n",
       "      <td>0.069</td>\n",
       "      <td>0.140</td>\n",
       "      <td>0.178</td>\n",
       "    </tr>\n",
       "  </tbody>\n",
       "</table>\n",
       "</div>"
      ],
      "text/plain": [
       "               income_inequality  uni_graduates  low_income_households  \\\n",
       "hurdal                     0.025           0.35                0.168     \n",
       "st.hanshaugen              0.038           0.73                0.186     \n",
       "frogner                    0.047           0.72                0.160     \n",
       "ullern                     0.040           0.76                0.066     \n",
       "vestre aker                0.045           0.77                0.069     \n",
       "\n",
       "               cramped_spaces  immigrant_pct  \n",
       "hurdal                  0.128          0.103  \n",
       "st.hanshaugen           0.469          0.278  \n",
       "frogner                 0.328          0.280  \n",
       "ullern                  0.160          0.199  \n",
       "vestre aker             0.140          0.178  "
      ]
     },
     "execution_count": 64,
     "metadata": {},
     "output_type": "execute_result"
    }
   ],
   "source": [
    "fhi_data_latest.head()"
   ]
  },
  {
   "cell_type": "code",
   "execution_count": 76,
   "metadata": {},
   "outputs": [],
   "source": [
    "fhi_cols = list(fhi_data_latest.columns)"
   ]
  },
  {
   "cell_type": "code",
   "execution_count": 65,
   "metadata": {},
   "outputs": [],
   "source": [
    "data = data.merge(fhi_data_latest, how='left', left_on='area_name', right_index=True)"
   ]
  },
  {
   "cell_type": "markdown",
   "metadata": {},
   "source": [
    "# Other Data"
   ]
  },
  {
   "cell_type": "code",
   "execution_count": 66,
   "metadata": {},
   "outputs": [],
   "source": [
    "rich_post_codes = pd.read_csv('high_income_post_codes.csv', dtype={'post_code': str})"
   ]
  },
  {
   "cell_type": "code",
   "execution_count": 67,
   "metadata": {},
   "outputs": [],
   "source": [
    "rich_post_codes.set_index('post_code', inplace=True)"
   ]
  },
  {
   "cell_type": "code",
   "execution_count": 68,
   "metadata": {},
   "outputs": [],
   "source": [
    "data = data.merge(rich_post_codes['high_income_post_code'], how='left', left_on='post_code', right_index=True)"
   ]
  },
  {
   "cell_type": "code",
   "execution_count": 69,
   "metadata": {},
   "outputs": [],
   "source": [
    "data['high_income_post_code'] = data['high_income_post_code'].fillna(False)"
   ]
  },
  {
   "cell_type": "markdown",
   "metadata": {},
   "source": [
    "# Remove Properties Other Than Houses and Apartments"
   ]
  },
  {
   "cell_type": "code",
   "execution_count": 70,
   "metadata": {},
   "outputs": [],
   "source": [
    "data['comb_property_type'] = ['house' if pt in ['Enebolig', 'Rekkehus', 'Tomannsbolig']\n",
    "                              else 'apartment' if pt == 'Leilighet'\n",
    "                              else 'other'\n",
    "                              for pt in data['property_type']]"
   ]
  },
  {
   "cell_type": "code",
   "execution_count": 71,
   "metadata": {},
   "outputs": [],
   "source": [
    "data = data[~data.property_type.isin(['Garasje/Parkering', 'Gårdsbruk/Småbruk'])].copy()"
   ]
  },
  {
   "cell_type": "markdown",
   "metadata": {},
   "source": [
    "# Mark Selected Columns"
   ]
  },
  {
   "cell_type": "code",
   "execution_count": 77,
   "metadata": {},
   "outputs": [],
   "source": [
    "num_cols = ['price', 'primary_size', 'time_s', 'floor', 'num_bedrooms', 'construction_year',\n",
    "            'area_new_building_pct'] + fhi_cols + neighborhood_cols\n",
    "cat_cols = ['comb_property_type', 'ownership_type', 'address_oslo', 'new_building',\n",
    "            'high_income_post_code', 'exclusive', 'renovated']\n",
    "text_cols = ['short_description', 'full_description']"
   ]
  },
  {
   "cell_type": "code",
   "execution_count": 78,
   "metadata": {},
   "outputs": [],
   "source": [
    "sample_size = 5"
   ]
  },
  {
   "cell_type": "code",
   "execution_count": 79,
   "metadata": {},
   "outputs": [],
   "source": [
    "data_sample_from_new_buildings = data.groupby('ad_id').apply(lambda obj: obj.sample(sample_size)\n",
    "                                                             if len(obj) > sample_size\n",
    "                                                             else obj.sample(len(obj)))"
   ]
  },
  {
   "cell_type": "code",
   "execution_count": 80,
   "metadata": {},
   "outputs": [],
   "source": [
    "num_data = data_sample_from_new_buildings[num_cols].copy()"
   ]
  },
  {
   "cell_type": "code",
   "execution_count": 81,
   "metadata": {},
   "outputs": [],
   "source": [
    "cat_data = data_sample_from_new_buildings[cat_cols].copy()"
   ]
  },
  {
   "cell_type": "code",
   "execution_count": 82,
   "metadata": {},
   "outputs": [],
   "source": [
    "for col in cat_cols:\n",
    "    cat_data = cat_data.join(pd.get_dummies(cat_data[col], prefix=col, drop_first=True))\n",
    "    cat_data.drop(col, axis=1, inplace=True)"
   ]
  },
  {
   "cell_type": "code",
   "execution_count": 83,
   "metadata": {},
   "outputs": [],
   "source": [
    "text_data = data_sample_from_new_buildings[text_cols].copy()"
   ]
  },
  {
   "cell_type": "markdown",
   "metadata": {},
   "source": [
    "# Feature Engineering"
   ]
  },
  {
   "cell_type": "code",
   "execution_count": 84,
   "metadata": {},
   "outputs": [],
   "source": [
    "num_data['price_per_sq_m'] = num_data.price.div(num_data.primary_size).round(0)"
   ]
  },
  {
   "cell_type": "markdown",
   "metadata": {},
   "source": [
    "# Predict Price With Numeric And Categorical Features"
   ]
  },
  {
   "cell_type": "code",
   "execution_count": 85,
   "metadata": {},
   "outputs": [],
   "source": [
    "def get_learning_curves(estimator, X, y, train_sizes=np.arange(0.1, 1.1, 0.1), score='neg_mean_absolute_error', cv=5):\n",
    "    train_sizes, train_scores, test_scores = learning_curve(estimator, X, y, train_sizes=train_sizes, scoring=score, cv=cv)\n",
    "    curve_data = pd.DataFrame(columns = range(train_scores.shape[1]))\n",
    "    for result, result_type in zip([train_scores, test_scores], ['train', 'test']):\n",
    "        frame = pd.DataFrame(result)\n",
    "        frame['size'] = train_sizes\n",
    "        frame['type'] = result_type\n",
    "        curve_data = curve_data.append(frame, ignore_index = True)\n",
    "    curve_data = curve_data.melt(id_vars = ['size', 'type'], var_name = 'cv_fit', value_name = 'score')\n",
    "    return curve_data"
   ]
  },
  {
   "cell_type": "code",
   "execution_count": 86,
   "metadata": {},
   "outputs": [],
   "source": [
    "def get_cv_res(estimator, X, y, score=['neg_mean_absolute_error'], cv=5):\n",
    "    cross_val = cross_validate(estimator, X, y, scoring=score, cv=cv)\n",
    "    return cross_val"
   ]
  },
  {
   "cell_type": "code",
   "execution_count": 87,
   "metadata": {},
   "outputs": [],
   "source": [
    "def print_cv_res(cross_val):\n",
    "    for key, val in cross_val.items():\n",
    "        print('Mean {}, {:.2f}'.format(key, val.mean()))"
   ]
  },
  {
   "cell_type": "markdown",
   "metadata": {},
   "source": [
    "# Define Hyperparameters"
   ]
  },
  {
   "cell_type": "code",
   "execution_count": 88,
   "metadata": {},
   "outputs": [],
   "source": [
    "metrics = ['neg_mean_absolute_error', 'neg_median_absolute_error', 'r2', 'explained_variance', 'max_error']\n",
    "cv = 3\n",
    "random_seed = 42\n",
    "test_size = 0.3\n",
    "preferred_score = 'r2'\n",
    "tensorflow.set_random_seed(random_seed)"
   ]
  },
  {
   "cell_type": "code",
   "execution_count": 89,
   "metadata": {},
   "outputs": [],
   "source": [
    "def create_model():\n",
    "    model = Sequential()\n",
    "    model.add(Dense(32, input_dim=X_train.shape[1], activation=\"relu\"))\n",
    "    model.add(Dense(16, activation=\"relu\"))\n",
    "    # model.add(Dropout(0.25))\n",
    "    model.add(Dense(8, activation=\"relu\"))\n",
    "    model.add(Dense(4, activation=\"relu\"))\n",
    "    model.add(Dense(1, activation=\"linear\"))\n",
    "    model.compile(loss='mean_squared_error', optimizer='adam')\n",
    "    return model"
   ]
  },
  {
   "cell_type": "code",
   "execution_count": 90,
   "metadata": {},
   "outputs": [],
   "source": [
    "estimators = {'deep_learning_regressor': KerasRegressor(build_fn=create_model, epochs=700, batch_size=700, verbose=False),\n",
    "              'adaboost': AdaBoostRegressor(random_state=random_seed),\n",
    "              'linear': LinearRegression(),\n",
    "              'kneighbors': KNeighborsRegressor(),\n",
    "              'bayes': ComplementNB(),\n",
    "              'mlp': MLPRegressor(random_state=random_seed)}"
   ]
  },
  {
   "cell_type": "code",
   "execution_count": 91,
   "metadata": {},
   "outputs": [],
   "source": [
    "estimator = estimators['adaboost']"
   ]
  },
  {
   "cell_type": "markdown",
   "metadata": {},
   "source": [
    "# Define Model Data\n",
    "## Remove NaNs"
   ]
  },
  {
   "cell_type": "code",
   "execution_count": 92,
   "metadata": {},
   "outputs": [],
   "source": [
    "model_data = num_data.join(cat_data)"
   ]
  },
  {
   "cell_type": "code",
   "execution_count": 93,
   "metadata": {},
   "outputs": [],
   "source": [
    "model_data.dropna(inplace=True)"
   ]
  },
  {
   "cell_type": "markdown",
   "metadata": {},
   "source": [
    "## Select Properties In Oslo"
   ]
  },
  {
   "cell_type": "code",
   "execution_count": 94,
   "metadata": {},
   "outputs": [],
   "source": [
    "model_data = model_data[model_data.address_oslo_True == 1].copy()\n",
    "model_data.drop('address_oslo_True', axis=1, inplace=True)"
   ]
  },
  {
   "cell_type": "code",
   "execution_count": 95,
   "metadata": {},
   "outputs": [
    {
     "data": {
      "text/plain": [
       "(1098, 130)"
      ]
     },
     "execution_count": 95,
     "metadata": {},
     "output_type": "execute_result"
    }
   ],
   "source": [
    "model_data.shape"
   ]
  },
  {
   "cell_type": "markdown",
   "metadata": {},
   "source": [
    "## List All Columns"
   ]
  },
  {
   "cell_type": "code",
   "execution_count": 96,
   "metadata": {},
   "outputs": [
    {
     "data": {
      "text/plain": [
       "Index(['price', 'primary_size', 'time_s', 'floor', 'num_bedrooms',\n",
       "       'construction_year', 'area_new_building_pct', 'income_inequality',\n",
       "       'uni_graduates', 'low_income_households',\n",
       "       ...\n",
       "       'sats', 'price_per_sq_m', 'comb_property_type_house',\n",
       "       'comb_property_type_other', 'ownership_type_Andel',\n",
       "       'ownership_type_Eier (Selveier)', 'new_building_True',\n",
       "       'high_income_post_code_True', 'exclusive_True', 'renovated_True'],\n",
       "      dtype='object', length=130)"
      ]
     },
     "execution_count": 96,
     "metadata": {},
     "output_type": "execute_result"
    }
   ],
   "source": [
    "model_data.columns"
   ]
  },
  {
   "cell_type": "markdown",
   "metadata": {},
   "source": [
    "## Remove Outliers"
   ]
  },
  {
   "cell_type": "code",
   "execution_count": 97,
   "metadata": {},
   "outputs": [],
   "source": [
    "from sklearn.neighbors import LocalOutlierFactor\n",
    "outlier_detector = LocalOutlierFactor()"
   ]
  },
  {
   "cell_type": "code",
   "execution_count": 98,
   "metadata": {},
   "outputs": [
    {
     "name": "stderr",
     "output_type": "stream",
     "text": [
      "/Users/ruslan.kozhuharov/venvs/home_oslo_home/lib/python3.7/site-packages/sklearn/neighbors/lof.py:236: FutureWarning: default contamination parameter 0.1 will change in version 0.22 to \"auto\". This will change the predict method behavior.\n",
      "  FutureWarning)\n"
     ]
    },
    {
     "data": {
      "text/plain": [
       "LocalOutlierFactor(algorithm='auto', contamination='legacy', leaf_size=30,\n",
       "                   metric='minkowski', metric_params=None, n_jobs=None,\n",
       "                   n_neighbors=20, novelty=False, p=2)"
      ]
     },
     "execution_count": 98,
     "metadata": {},
     "output_type": "execute_result"
    }
   ],
   "source": [
    "outlier_detector.fit(model_data)"
   ]
  },
  {
   "cell_type": "code",
   "execution_count": 99,
   "metadata": {},
   "outputs": [],
   "source": [
    "model_data['neg_outlier_factor'] = outlier_detector.negative_outlier_factor_"
   ]
  },
  {
   "cell_type": "code",
   "execution_count": 100,
   "metadata": {},
   "outputs": [],
   "source": [
    "model_data = model_data[model_data.neg_outlier_factor > -1.].copy()"
   ]
  },
  {
   "cell_type": "code",
   "execution_count": 101,
   "metadata": {},
   "outputs": [],
   "source": [
    "model_data.drop('neg_outlier_factor', axis=1, inplace=True)"
   ]
  },
  {
   "cell_type": "markdown",
   "metadata": {},
   "source": [
    "## Select Modelling Target"
   ]
  },
  {
   "cell_type": "code",
   "execution_count": 102,
   "metadata": {},
   "outputs": [],
   "source": [
    "target = 'price_per_sq_m'\n",
    "possible_targets = ['price_per_sq_m', 'price']\n",
    "possible_targets.remove(target)"
   ]
  },
  {
   "cell_type": "code",
   "execution_count": 103,
   "metadata": {},
   "outputs": [],
   "source": [
    "model_data.drop(possible_targets, axis=1, inplace=True)"
   ]
  },
  {
   "cell_type": "code",
   "execution_count": 104,
   "metadata": {},
   "outputs": [],
   "source": [
    "cols = list(model_data.columns)\n",
    "cols.remove(target)\n",
    "cols.append(target)\n",
    "model_data = model_data[cols]"
   ]
  },
  {
   "cell_type": "markdown",
   "metadata": {},
   "source": [
    "## Define X and y"
   ]
  },
  {
   "cell_type": "code",
   "execution_count": 105,
   "metadata": {},
   "outputs": [],
   "source": [
    "X = model_data.drop(target, axis=1)\n",
    "y = model_data[target]"
   ]
  },
  {
   "cell_type": "code",
   "execution_count": 106,
   "metadata": {},
   "outputs": [],
   "source": [
    "x_cols = X.columns"
   ]
  },
  {
   "cell_type": "markdown",
   "metadata": {},
   "source": [
    "## Perform Train-Test Split"
   ]
  },
  {
   "cell_type": "code",
   "execution_count": 107,
   "metadata": {},
   "outputs": [],
   "source": [
    "X_train, X_test, y_train, y_test = train_test_split(X, y,\n",
    "                                                    test_size=test_size,\n",
    "                                                    random_state=random_seed)"
   ]
  },
  {
   "cell_type": "code",
   "execution_count": 108,
   "metadata": {},
   "outputs": [
    {
     "data": {
      "text/plain": [
       "(284, 128)"
      ]
     },
     "execution_count": 108,
     "metadata": {},
     "output_type": "execute_result"
    }
   ],
   "source": [
    "X_train.shape"
   ]
  },
  {
   "cell_type": "code",
   "execution_count": 109,
   "metadata": {},
   "outputs": [],
   "source": [
    "X_sparse = scipy.sparse.csr_matrix(X.values)"
   ]
  },
  {
   "cell_type": "markdown",
   "metadata": {},
   "source": [
    "## Define Pipeline"
   ]
  },
  {
   "cell_type": "code",
   "execution_count": 110,
   "metadata": {},
   "outputs": [],
   "source": [
    "steps = []\n",
    "\n",
    "# steps.append(('scale', MaxAbsScaler()))\n",
    "steps.append(('scale', MinMaxScaler()))\n",
    "steps.append(('normalize', Normalizer()))\n",
    "# steps.append(('pca', PCA(n_components=10)))\n",
    "# steps.append(('standardize', StandardScaler()))\n",
    "steps.append(('estimator', estimator))"
   ]
  },
  {
   "cell_type": "code",
   "execution_count": 111,
   "metadata": {},
   "outputs": [],
   "source": [
    "pipeline = Pipeline(steps)"
   ]
  },
  {
   "cell_type": "markdown",
   "metadata": {},
   "source": [
    "# Perform Recursive Feature Elimination"
   ]
  },
  {
   "cell_type": "code",
   "execution_count": 112,
   "metadata": {},
   "outputs": [],
   "source": [
    "rfe = RFECV(estimator, step=1, cv=KFold(cv), scoring='neg_median_absolute_error')"
   ]
  },
  {
   "cell_type": "code",
   "execution_count": 113,
   "metadata": {},
   "outputs": [
    {
     "data": {
      "text/plain": [
       "RFECV(cv=KFold(n_splits=3, random_state=None, shuffle=False),\n",
       "      estimator=AdaBoostRegressor(base_estimator=None, learning_rate=1.0,\n",
       "                                  loss='linear', n_estimators=50,\n",
       "                                  random_state=42),\n",
       "      min_features_to_select=1, n_jobs=None,\n",
       "      scoring='neg_median_absolute_error', step=1, verbose=0)"
      ]
     },
     "execution_count": 113,
     "metadata": {},
     "output_type": "execute_result"
    }
   ],
   "source": [
    "rfe.fit(X_train, y_train)"
   ]
  },
  {
   "cell_type": "code",
   "execution_count": 114,
   "metadata": {},
   "outputs": [
    {
     "data": {
      "image/png": "[encoded data removed]",
      "text/plain": [
       "<Figure size 1008x720 with 1 Axes>"
      ]
     },
     "metadata": {},
     "output_type": "display_data"
    }
   ],
   "source": [
    "plt.figure()\n",
    "plt.xlabel('n_features')\n",
    "plt.ylabel('error')\n",
    "plt.plot(range(1, len(rfe.grid_scores_) + 1), rfe.grid_scores_)\n",
    "plt.show()"
   ]
  },
  {
   "cell_type": "markdown",
   "metadata": {},
   "source": [
    "## Select Optimal Features"
   ]
  },
  {
   "cell_type": "code",
   "execution_count": 115,
   "metadata": {},
   "outputs": [],
   "source": [
    "top_n = 30\n",
    "# optimal_n_features = min(rfe.grid_scores_.argmax() + 1, top_n)\n",
    "optimal_n_features = rfe.grid_scores_.argmax() + 1"
   ]
  },
  {
   "cell_type": "code",
   "execution_count": 116,
   "metadata": {},
   "outputs": [
    {
     "name": "stdout",
     "output_type": "stream",
     "text": [
      "The optimal number of features is: 122\n"
     ]
    }
   ],
   "source": [
    "print(f'The optimal number of features is: {optimal_n_features}')"
   ]
  },
  {
   "cell_type": "code",
   "execution_count": 117,
   "metadata": {},
   "outputs": [],
   "source": [
    "feature_ranking = pd.Series(rfe.ranking_, index=x_cols)"
   ]
  },
  {
   "cell_type": "code",
   "execution_count": 118,
   "metadata": {},
   "outputs": [],
   "source": [
    "# feature_ranking.sort_values()"
   ]
  },
  {
   "cell_type": "code",
   "execution_count": 119,
   "metadata": {},
   "outputs": [],
   "source": [
    "selected_features = list(feature_ranking.sort_values()[:optimal_n_features].index)"
   ]
  },
  {
   "cell_type": "markdown",
   "metadata": {},
   "source": [
    "# Fit Model"
   ]
  },
  {
   "cell_type": "code",
   "execution_count": 120,
   "metadata": {},
   "outputs": [
    {
     "data": {
      "text/plain": [
       "Pipeline(memory=None,\n",
       "         steps=[('scale', MinMaxScaler(copy=True, feature_range=(0, 1))),\n",
       "                ('normalize', Normalizer(copy=True, norm='l2')),\n",
       "                ('estimator',\n",
       "                 AdaBoostRegressor(base_estimator=None, learning_rate=1.0,\n",
       "                                   loss='linear', n_estimators=50,\n",
       "                                   random_state=42))],\n",
       "         verbose=False)"
      ]
     },
     "execution_count": 120,
     "metadata": {},
     "output_type": "execute_result"
    }
   ],
   "source": [
    "pipeline.fit(X_train[selected_features], y_train)"
   ]
  },
  {
   "cell_type": "code",
   "execution_count": 121,
   "metadata": {},
   "outputs": [],
   "source": [
    "pred = pipeline.predict(X_test[selected_features])"
   ]
  },
  {
   "cell_type": "code",
   "execution_count": 122,
   "metadata": {},
   "outputs": [],
   "source": [
    "y_pred = pd.Series(pred, index=y_test.index, name='predicted')"
   ]
  },
  {
   "cell_type": "markdown",
   "metadata": {},
   "source": [
    "# Draw Learning Curves"
   ]
  },
  {
   "cell_type": "code",
   "execution_count": 123,
   "metadata": {},
   "outputs": [],
   "source": [
    "learning_curve_res = get_learning_curves(pipeline, X_train[selected_features], y_train, score='neg_median_absolute_error')"
   ]
  },
  {
   "cell_type": "code",
   "execution_count": 124,
   "metadata": {},
   "outputs": [
    {
     "data": {
      "image/png": "[encoded data removed]",
      "text/plain": [
       "<Figure size 864x576 with 1 Axes>"
      ]
     },
     "metadata": {},
     "output_type": "display_data"
    }
   ],
   "source": [
    "fig = plt.figure(figsize = (12, 8))\n",
    "plt.title('Learning Curves')\n",
    "sns.lineplot(x='size', y='score', hue='type', data=learning_curve_res)\n",
    "plt.show()"
   ]
  },
  {
   "cell_type": "markdown",
   "metadata": {},
   "source": [
    "# Display Cross-Validation Results"
   ]
  },
  {
   "cell_type": "code",
   "execution_count": 125,
   "metadata": {},
   "outputs": [],
   "source": [
    "cv_res = get_cv_res(pipeline,\n",
    "                    X_train[selected_features],\n",
    "                    y_train,\n",
    "                    score=['neg_median_absolute_error',\n",
    "                           'r2',\n",
    "                           'explained_variance',\n",
    "                           'max_error'])"
   ]
  },
  {
   "cell_type": "code",
   "execution_count": 126,
   "metadata": {},
   "outputs": [
    {
     "name": "stdout",
     "output_type": "stream",
     "text": [
      "Mean fit_time, 0.08\n",
      "Mean score_time, 0.01\n",
      "Mean test_neg_median_absolute_error, -7264.55\n",
      "Mean test_r2, 0.54\n",
      "Mean test_explained_variance, 0.55\n",
      "Mean test_max_error, -43263.27\n"
     ]
    }
   ],
   "source": [
    "print_cv_res(cv_res)"
   ]
  },
  {
   "cell_type": "markdown",
   "metadata": {},
   "source": [
    "## Display Predicted VS Actual"
   ]
  },
  {
   "cell_type": "code",
   "execution_count": 127,
   "metadata": {},
   "outputs": [
    {
     "data": {
      "image/png": "[encoded data removed]",
      "text/plain": [
       "<Figure size 1008x720 with 1 Axes>"
      ]
     },
     "metadata": {},
     "output_type": "display_data"
    }
   ],
   "source": [
    "plt.scatter(y_test, y_pred)\n",
    "plt.xlabel('y_test')\n",
    "plt.ylabel('y_pred')\n",
    "plt.axis('equal')\n",
    "plt.axis('square')\n",
    "plt.xlim([0,plt.xlim()[1]])\n",
    "plt.ylim([0,plt.ylim()[1]])\n",
    "_ = plt.plot([-5e7, 5e7], [-5e7, 5e7])\n",
    "plt.title('True VS Predicted')\n",
    "plt.show()"
   ]
  },
  {
   "cell_type": "markdown",
   "metadata": {},
   "source": [
    "## Display Error Spread"
   ]
  },
  {
   "cell_type": "code",
   "execution_count": 128,
   "metadata": {},
   "outputs": [],
   "source": [
    "to_plot = X_test.join(y_pred).join(y_test)\n",
    "to_plot['pred_diff'] = to_plot['predicted'] - to_plot[target]"
   ]
  },
  {
   "cell_type": "code",
   "execution_count": 129,
   "metadata": {},
   "outputs": [
    {
     "data": {
      "text/plain": [
       "<matplotlib.axes._subplots.AxesSubplot at 0x14aa08940>"
      ]
     },
     "execution_count": 129,
     "metadata": {},
     "output_type": "execute_result"
    },
    {
     "data": {
      "image/png": "[encoded data removed]",
      "text/plain": [
       "<Figure size 1008x720 with 1 Axes>"
      ]
     },
     "metadata": {},
     "output_type": "display_data"
    }
   ],
   "source": [
    "sns.distplot(to_plot.pred_diff)"
   ]
  },
  {
   "cell_type": "code",
   "execution_count": 130,
   "metadata": {},
   "outputs": [
    {
     "data": {
      "text/html": [
       "<div>\n",
       "<style scoped>\n",
       "    .dataframe tbody tr th:only-of-type {\n",
       "        vertical-align: middle;\n",
       "    }\n",
       "\n",
       "    .dataframe tbody tr th {\n",
       "        vertical-align: top;\n",
       "    }\n",
       "\n",
       "    .dataframe thead th {\n",
       "        text-align: right;\n",
       "    }\n",
       "</style>\n",
       "<table border=\"1\" class=\"dataframe\">\n",
       "  <thead>\n",
       "    <tr style=\"text-align: right;\">\n",
       "      <th></th>\n",
       "      <th></th>\n",
       "      <th>primary_size</th>\n",
       "      <th>time_s</th>\n",
       "      <th>floor</th>\n",
       "      <th>num_bedrooms</th>\n",
       "      <th>construction_year</th>\n",
       "      <th>area_new_building_pct</th>\n",
       "      <th>income_inequality</th>\n",
       "      <th>uni_graduates</th>\n",
       "      <th>low_income_households</th>\n",
       "      <th>cramped_spaces</th>\n",
       "      <th>immigrant_pct</th>\n",
       "      <th>mean_post_code_rating</th>\n",
       "      <th>post_code_place_count</th>\n",
       "      <th>accounting</th>\n",
       "      <th>administrative_area_level_2</th>\n",
       "      <th>airport</th>\n",
       "      <th>amusement_park</th>\n",
       "      <th>art_gallery</th>\n",
       "      <th>atm</th>\n",
       "      <th>bakery</th>\n",
       "      <th>bank</th>\n",
       "      <th>bar</th>\n",
       "      <th>beauty_salon</th>\n",
       "      <th>bicycle_store</th>\n",
       "      <th>book_store</th>\n",
       "      <th>bowling_alley</th>\n",
       "      <th>bus_station</th>\n",
       "      <th>cafe</th>\n",
       "      <th>car_dealer</th>\n",
       "      <th>car_rental</th>\n",
       "      <th>car_repair</th>\n",
       "      <th>car_wash</th>\n",
       "      <th>cemetery</th>\n",
       "      <th>church</th>\n",
       "      <th>city_hall</th>\n",
       "      <th>clothing_store</th>\n",
       "      <th>convenience_store</th>\n",
       "      <th>courthouse</th>\n",
       "      <th>dentist</th>\n",
       "      <th>department_store</th>\n",
       "      <th>doctor</th>\n",
       "      <th>electrician</th>\n",
       "      <th>electronics_store</th>\n",
       "      <th>embassy</th>\n",
       "      <th>establishment</th>\n",
       "      <th>finance</th>\n",
       "      <th>fire_station</th>\n",
       "      <th>florist</th>\n",
       "      <th>food</th>\n",
       "      <th>funeral_home</th>\n",
       "      <th>...</th>\n",
       "      <th>park</th>\n",
       "      <th>parking</th>\n",
       "      <th>pet_store</th>\n",
       "      <th>pharmacy</th>\n",
       "      <th>physiotherapist</th>\n",
       "      <th>place_of_worship</th>\n",
       "      <th>plumber</th>\n",
       "      <th>point_of_interest</th>\n",
       "      <th>police</th>\n",
       "      <th>political</th>\n",
       "      <th>post_office</th>\n",
       "      <th>premise</th>\n",
       "      <th>real_estate_agency</th>\n",
       "      <th>restaurant</th>\n",
       "      <th>roofing_contractor</th>\n",
       "      <th>rv_park</th>\n",
       "      <th>school</th>\n",
       "      <th>shoe_store</th>\n",
       "      <th>shopping_mall</th>\n",
       "      <th>spa</th>\n",
       "      <th>stadium</th>\n",
       "      <th>storage</th>\n",
       "      <th>store</th>\n",
       "      <th>sublocality</th>\n",
       "      <th>sublocality_level_1</th>\n",
       "      <th>sublocality_level_2</th>\n",
       "      <th>subway_station</th>\n",
       "      <th>supermarket</th>\n",
       "      <th>taxi_stand</th>\n",
       "      <th>train_station</th>\n",
       "      <th>transit_station</th>\n",
       "      <th>travel_agency</th>\n",
       "      <th>university</th>\n",
       "      <th>veterinary_care</th>\n",
       "      <th>zoo</th>\n",
       "      <th>establishment_rating</th>\n",
       "      <th>meny_store</th>\n",
       "      <th>marina</th>\n",
       "      <th>sats</th>\n",
       "      <th>comb_property_type_house</th>\n",
       "      <th>comb_property_type_other</th>\n",
       "      <th>ownership_type_Andel</th>\n",
       "      <th>ownership_type_Eier (Selveier)</th>\n",
       "      <th>new_building_True</th>\n",
       "      <th>high_income_post_code_True</th>\n",
       "      <th>exclusive_True</th>\n",
       "      <th>renovated_True</th>\n",
       "      <th>predicted</th>\n",
       "      <th>price_per_sq_m</th>\n",
       "      <th>pred_diff</th>\n",
       "    </tr>\n",
       "    <tr>\n",
       "      <th>ad_id</th>\n",
       "      <th></th>\n",
       "      <th></th>\n",
       "      <th></th>\n",
       "      <th></th>\n",
       "      <th></th>\n",
       "      <th></th>\n",
       "      <th></th>\n",
       "      <th></th>\n",
       "      <th></th>\n",
       "      <th></th>\n",
       "      <th></th>\n",
       "      <th></th>\n",
       "      <th></th>\n",
       "      <th></th>\n",
       "      <th></th>\n",
       "      <th></th>\n",
       "      <th></th>\n",
       "      <th></th>\n",
       "      <th></th>\n",
       "      <th></th>\n",
       "      <th></th>\n",
       "      <th></th>\n",
       "      <th></th>\n",
       "      <th></th>\n",
       "      <th></th>\n",
       "      <th></th>\n",
       "      <th></th>\n",
       "      <th></th>\n",
       "      <th></th>\n",
       "      <th></th>\n",
       "      <th></th>\n",
       "      <th></th>\n",
       "      <th></th>\n",
       "      <th></th>\n",
       "      <th></th>\n",
       "      <th></th>\n",
       "      <th></th>\n",
       "      <th></th>\n",
       "      <th></th>\n",
       "      <th></th>\n",
       "      <th></th>\n",
       "      <th></th>\n",
       "      <th></th>\n",
       "      <th></th>\n",
       "      <th></th>\n",
       "      <th></th>\n",
       "      <th></th>\n",
       "      <th></th>\n",
       "      <th></th>\n",
       "      <th></th>\n",
       "      <th></th>\n",
       "      <th></th>\n",
       "      <th></th>\n",
       "      <th></th>\n",
       "      <th></th>\n",
       "      <th></th>\n",
       "      <th></th>\n",
       "      <th></th>\n",
       "      <th></th>\n",
       "      <th></th>\n",
       "      <th></th>\n",
       "      <th></th>\n",
       "      <th></th>\n",
       "      <th></th>\n",
       "      <th></th>\n",
       "      <th></th>\n",
       "      <th></th>\n",
       "      <th></th>\n",
       "      <th></th>\n",
       "      <th></th>\n",
       "      <th></th>\n",
       "      <th></th>\n",
       "      <th></th>\n",
       "      <th></th>\n",
       "      <th></th>\n",
       "      <th></th>\n",
       "      <th></th>\n",
       "      <th></th>\n",
       "      <th></th>\n",
       "      <th></th>\n",
       "      <th></th>\n",
       "      <th></th>\n",
       "      <th></th>\n",
       "      <th></th>\n",
       "      <th></th>\n",
       "      <th></th>\n",
       "      <th></th>\n",
       "      <th></th>\n",
       "      <th></th>\n",
       "      <th></th>\n",
       "      <th></th>\n",
       "      <th></th>\n",
       "      <th></th>\n",
       "      <th></th>\n",
       "      <th></th>\n",
       "      <th></th>\n",
       "      <th></th>\n",
       "      <th></th>\n",
       "      <th></th>\n",
       "      <th></th>\n",
       "      <th></th>\n",
       "      <th></th>\n",
       "    </tr>\n",
       "  </thead>\n",
       "  <tbody>\n",
       "    <tr>\n",
       "      <th>142237086</th>\n",
       "      <th>2805</th>\n",
       "      <td>99.0</td>\n",
       "      <td>600.0</td>\n",
       "      <td>5.0</td>\n",
       "      <td>3.0</td>\n",
       "      <td>1870.0</td>\n",
       "      <td>0.395833</td>\n",
       "      <td>0.038</td>\n",
       "      <td>0.73</td>\n",
       "      <td>0.186</td>\n",
       "      <td>0.469</td>\n",
       "      <td>0.278</td>\n",
       "      <td>0.00</td>\n",
       "      <td>0.0</td>\n",
       "      <td>0.0</td>\n",
       "      <td>0.0</td>\n",
       "      <td>0.0</td>\n",
       "      <td>0.0</td>\n",
       "      <td>0.0</td>\n",
       "      <td>0.0</td>\n",
       "      <td>0.0</td>\n",
       "      <td>0.0</td>\n",
       "      <td>3.0</td>\n",
       "      <td>0.0</td>\n",
       "      <td>1.0</td>\n",
       "      <td>0.0</td>\n",
       "      <td>0.0</td>\n",
       "      <td>0.0</td>\n",
       "      <td>0.0</td>\n",
       "      <td>0.0</td>\n",
       "      <td>0.0</td>\n",
       "      <td>0.0</td>\n",
       "      <td>0.0</td>\n",
       "      <td>0.0</td>\n",
       "      <td>0.0</td>\n",
       "      <td>0.0</td>\n",
       "      <td>0.0</td>\n",
       "      <td>0.0</td>\n",
       "      <td>0.0</td>\n",
       "      <td>0.0</td>\n",
       "      <td>0.0</td>\n",
       "      <td>0.0</td>\n",
       "      <td>0.0</td>\n",
       "      <td>0.0</td>\n",
       "      <td>0.0</td>\n",
       "      <td>18.0</td>\n",
       "      <td>0.0</td>\n",
       "      <td>0.0</td>\n",
       "      <td>0.0</td>\n",
       "      <td>3.0</td>\n",
       "      <td>0.0</td>\n",
       "      <td>...</td>\n",
       "      <td>0.0</td>\n",
       "      <td>0.0</td>\n",
       "      <td>0.0</td>\n",
       "      <td>0.0</td>\n",
       "      <td>0.0</td>\n",
       "      <td>0.0</td>\n",
       "      <td>0.0</td>\n",
       "      <td>18.0</td>\n",
       "      <td>0.0</td>\n",
       "      <td>0.0</td>\n",
       "      <td>0.0</td>\n",
       "      <td>0.0</td>\n",
       "      <td>0.0</td>\n",
       "      <td>3.0</td>\n",
       "      <td>0.0</td>\n",
       "      <td>0.0</td>\n",
       "      <td>0.0</td>\n",
       "      <td>0.0</td>\n",
       "      <td>0.0</td>\n",
       "      <td>0.0</td>\n",
       "      <td>0.0</td>\n",
       "      <td>0.0</td>\n",
       "      <td>2.0</td>\n",
       "      <td>0.0</td>\n",
       "      <td>0.0</td>\n",
       "      <td>0.0</td>\n",
       "      <td>0.0</td>\n",
       "      <td>0.0</td>\n",
       "      <td>0.0</td>\n",
       "      <td>0.0</td>\n",
       "      <td>0.0</td>\n",
       "      <td>0.0</td>\n",
       "      <td>0.0</td>\n",
       "      <td>0.0</td>\n",
       "      <td>0.0</td>\n",
       "      <td>4.144444</td>\n",
       "      <td>0.0</td>\n",
       "      <td>0.0</td>\n",
       "      <td>0.0</td>\n",
       "      <td>0</td>\n",
       "      <td>0</td>\n",
       "      <td>1</td>\n",
       "      <td>0</td>\n",
       "      <td>0</td>\n",
       "      <td>0</td>\n",
       "      <td>0</td>\n",
       "      <td>0</td>\n",
       "      <td>83028.537634</td>\n",
       "      <td>50052.0</td>\n",
       "      <td>32976.537634</td>\n",
       "    </tr>\n",
       "    <tr>\n",
       "      <th>149543484</th>\n",
       "      <th>4237</th>\n",
       "      <td>198.0</td>\n",
       "      <td>1218.0</td>\n",
       "      <td>1.0</td>\n",
       "      <td>3.0</td>\n",
       "      <td>1938.0</td>\n",
       "      <td>0.591398</td>\n",
       "      <td>0.045</td>\n",
       "      <td>0.77</td>\n",
       "      <td>0.069</td>\n",
       "      <td>0.140</td>\n",
       "      <td>0.178</td>\n",
       "      <td>4.50</td>\n",
       "      <td>1.0</td>\n",
       "      <td>0.0</td>\n",
       "      <td>0.0</td>\n",
       "      <td>0.0</td>\n",
       "      <td>0.0</td>\n",
       "      <td>0.0</td>\n",
       "      <td>0.0</td>\n",
       "      <td>0.0</td>\n",
       "      <td>0.0</td>\n",
       "      <td>0.0</td>\n",
       "      <td>0.0</td>\n",
       "      <td>1.0</td>\n",
       "      <td>0.0</td>\n",
       "      <td>0.0</td>\n",
       "      <td>0.0</td>\n",
       "      <td>0.0</td>\n",
       "      <td>0.0</td>\n",
       "      <td>0.0</td>\n",
       "      <td>0.0</td>\n",
       "      <td>0.0</td>\n",
       "      <td>0.0</td>\n",
       "      <td>0.0</td>\n",
       "      <td>0.0</td>\n",
       "      <td>1.0</td>\n",
       "      <td>0.0</td>\n",
       "      <td>0.0</td>\n",
       "      <td>0.0</td>\n",
       "      <td>0.0</td>\n",
       "      <td>1.0</td>\n",
       "      <td>0.0</td>\n",
       "      <td>0.0</td>\n",
       "      <td>0.0</td>\n",
       "      <td>16.0</td>\n",
       "      <td>0.0</td>\n",
       "      <td>0.0</td>\n",
       "      <td>0.0</td>\n",
       "      <td>0.0</td>\n",
       "      <td>0.0</td>\n",
       "      <td>...</td>\n",
       "      <td>0.0</td>\n",
       "      <td>0.0</td>\n",
       "      <td>1.0</td>\n",
       "      <td>1.0</td>\n",
       "      <td>0.0</td>\n",
       "      <td>0.0</td>\n",
       "      <td>0.0</td>\n",
       "      <td>16.0</td>\n",
       "      <td>0.0</td>\n",
       "      <td>0.0</td>\n",
       "      <td>0.0</td>\n",
       "      <td>0.0</td>\n",
       "      <td>2.0</td>\n",
       "      <td>0.0</td>\n",
       "      <td>0.0</td>\n",
       "      <td>0.0</td>\n",
       "      <td>0.0</td>\n",
       "      <td>0.0</td>\n",
       "      <td>1.0</td>\n",
       "      <td>0.0</td>\n",
       "      <td>0.0</td>\n",
       "      <td>0.0</td>\n",
       "      <td>5.0</td>\n",
       "      <td>0.0</td>\n",
       "      <td>0.0</td>\n",
       "      <td>0.0</td>\n",
       "      <td>0.0</td>\n",
       "      <td>0.0</td>\n",
       "      <td>0.0</td>\n",
       "      <td>0.0</td>\n",
       "      <td>0.0</td>\n",
       "      <td>0.0</td>\n",
       "      <td>0.0</td>\n",
       "      <td>0.0</td>\n",
       "      <td>0.0</td>\n",
       "      <td>4.425000</td>\n",
       "      <td>0.0</td>\n",
       "      <td>0.0</td>\n",
       "      <td>0.0</td>\n",
       "      <td>1</td>\n",
       "      <td>0</td>\n",
       "      <td>0</td>\n",
       "      <td>1</td>\n",
       "      <td>0</td>\n",
       "      <td>0</td>\n",
       "      <td>0</td>\n",
       "      <td>0</td>\n",
       "      <td>84799.251799</td>\n",
       "      <td>54362.0</td>\n",
       "      <td>30437.251799</td>\n",
       "    </tr>\n",
       "    <tr>\n",
       "      <th>150007367</th>\n",
       "      <th>4664</th>\n",
       "      <td>85.0</td>\n",
       "      <td>1664.0</td>\n",
       "      <td>3.0</td>\n",
       "      <td>2.0</td>\n",
       "      <td>1955.0</td>\n",
       "      <td>0.840000</td>\n",
       "      <td>0.032</td>\n",
       "      <td>0.55</td>\n",
       "      <td>0.233</td>\n",
       "      <td>0.459</td>\n",
       "      <td>0.443</td>\n",
       "      <td>0.00</td>\n",
       "      <td>0.0</td>\n",
       "      <td>0.0</td>\n",
       "      <td>0.0</td>\n",
       "      <td>0.0</td>\n",
       "      <td>0.0</td>\n",
       "      <td>0.0</td>\n",
       "      <td>0.0</td>\n",
       "      <td>0.0</td>\n",
       "      <td>0.0</td>\n",
       "      <td>0.0</td>\n",
       "      <td>0.0</td>\n",
       "      <td>0.0</td>\n",
       "      <td>0.0</td>\n",
       "      <td>1.0</td>\n",
       "      <td>0.0</td>\n",
       "      <td>0.0</td>\n",
       "      <td>0.0</td>\n",
       "      <td>0.0</td>\n",
       "      <td>0.0</td>\n",
       "      <td>0.0</td>\n",
       "      <td>0.0</td>\n",
       "      <td>0.0</td>\n",
       "      <td>0.0</td>\n",
       "      <td>0.0</td>\n",
       "      <td>0.0</td>\n",
       "      <td>0.0</td>\n",
       "      <td>1.0</td>\n",
       "      <td>0.0</td>\n",
       "      <td>0.0</td>\n",
       "      <td>0.0</td>\n",
       "      <td>0.0</td>\n",
       "      <td>0.0</td>\n",
       "      <td>9.0</td>\n",
       "      <td>1.0</td>\n",
       "      <td>0.0</td>\n",
       "      <td>0.0</td>\n",
       "      <td>3.0</td>\n",
       "      <td>0.0</td>\n",
       "      <td>...</td>\n",
       "      <td>0.0</td>\n",
       "      <td>0.0</td>\n",
       "      <td>0.0</td>\n",
       "      <td>1.0</td>\n",
       "      <td>0.0</td>\n",
       "      <td>0.0</td>\n",
       "      <td>0.0</td>\n",
       "      <td>9.0</td>\n",
       "      <td>0.0</td>\n",
       "      <td>0.0</td>\n",
       "      <td>1.0</td>\n",
       "      <td>0.0</td>\n",
       "      <td>0.0</td>\n",
       "      <td>2.0</td>\n",
       "      <td>0.0</td>\n",
       "      <td>0.0</td>\n",
       "      <td>0.0</td>\n",
       "      <td>0.0</td>\n",
       "      <td>0.0</td>\n",
       "      <td>0.0</td>\n",
       "      <td>0.0</td>\n",
       "      <td>0.0</td>\n",
       "      <td>2.0</td>\n",
       "      <td>0.0</td>\n",
       "      <td>0.0</td>\n",
       "      <td>0.0</td>\n",
       "      <td>0.0</td>\n",
       "      <td>0.0</td>\n",
       "      <td>0.0</td>\n",
       "      <td>0.0</td>\n",
       "      <td>0.0</td>\n",
       "      <td>0.0</td>\n",
       "      <td>0.0</td>\n",
       "      <td>0.0</td>\n",
       "      <td>0.0</td>\n",
       "      <td>3.433333</td>\n",
       "      <td>0.0</td>\n",
       "      <td>0.0</td>\n",
       "      <td>0.0</td>\n",
       "      <td>0</td>\n",
       "      <td>0</td>\n",
       "      <td>1</td>\n",
       "      <td>0</td>\n",
       "      <td>0</td>\n",
       "      <td>0</td>\n",
       "      <td>1</td>\n",
       "      <td>0</td>\n",
       "      <td>70412.294118</td>\n",
       "      <td>40747.0</td>\n",
       "      <td>29665.294118</td>\n",
       "    </tr>\n",
       "    <tr>\n",
       "      <th>149496535</th>\n",
       "      <th>4188</th>\n",
       "      <td>304.0</td>\n",
       "      <td>1816.0</td>\n",
       "      <td>2.0</td>\n",
       "      <td>3.0</td>\n",
       "      <td>1977.0</td>\n",
       "      <td>0.676190</td>\n",
       "      <td>0.038</td>\n",
       "      <td>0.76</td>\n",
       "      <td>0.068</td>\n",
       "      <td>0.221</td>\n",
       "      <td>0.185</td>\n",
       "      <td>4.20</td>\n",
       "      <td>1.0</td>\n",
       "      <td>0.0</td>\n",
       "      <td>0.0</td>\n",
       "      <td>0.0</td>\n",
       "      <td>0.0</td>\n",
       "      <td>0.0</td>\n",
       "      <td>0.0</td>\n",
       "      <td>0.0</td>\n",
       "      <td>0.0</td>\n",
       "      <td>0.0</td>\n",
       "      <td>0.0</td>\n",
       "      <td>0.0</td>\n",
       "      <td>0.0</td>\n",
       "      <td>0.0</td>\n",
       "      <td>0.0</td>\n",
       "      <td>0.0</td>\n",
       "      <td>0.0</td>\n",
       "      <td>0.0</td>\n",
       "      <td>0.0</td>\n",
       "      <td>0.0</td>\n",
       "      <td>0.0</td>\n",
       "      <td>0.0</td>\n",
       "      <td>0.0</td>\n",
       "      <td>0.0</td>\n",
       "      <td>0.0</td>\n",
       "      <td>0.0</td>\n",
       "      <td>0.0</td>\n",
       "      <td>0.0</td>\n",
       "      <td>0.0</td>\n",
       "      <td>0.0</td>\n",
       "      <td>0.0</td>\n",
       "      <td>0.0</td>\n",
       "      <td>2.0</td>\n",
       "      <td>0.0</td>\n",
       "      <td>0.0</td>\n",
       "      <td>0.0</td>\n",
       "      <td>0.0</td>\n",
       "      <td>0.0</td>\n",
       "      <td>...</td>\n",
       "      <td>0.0</td>\n",
       "      <td>0.0</td>\n",
       "      <td>0.0</td>\n",
       "      <td>0.0</td>\n",
       "      <td>0.0</td>\n",
       "      <td>0.0</td>\n",
       "      <td>0.0</td>\n",
       "      <td>2.0</td>\n",
       "      <td>0.0</td>\n",
       "      <td>0.0</td>\n",
       "      <td>0.0</td>\n",
       "      <td>0.0</td>\n",
       "      <td>0.0</td>\n",
       "      <td>0.0</td>\n",
       "      <td>0.0</td>\n",
       "      <td>0.0</td>\n",
       "      <td>0.0</td>\n",
       "      <td>0.0</td>\n",
       "      <td>0.0</td>\n",
       "      <td>0.0</td>\n",
       "      <td>0.0</td>\n",
       "      <td>0.0</td>\n",
       "      <td>0.0</td>\n",
       "      <td>0.0</td>\n",
       "      <td>0.0</td>\n",
       "      <td>0.0</td>\n",
       "      <td>0.0</td>\n",
       "      <td>0.0</td>\n",
       "      <td>0.0</td>\n",
       "      <td>0.0</td>\n",
       "      <td>0.0</td>\n",
       "      <td>0.0</td>\n",
       "      <td>0.0</td>\n",
       "      <td>0.0</td>\n",
       "      <td>0.0</td>\n",
       "      <td>3.950000</td>\n",
       "      <td>0.0</td>\n",
       "      <td>0.0</td>\n",
       "      <td>0.0</td>\n",
       "      <td>1</td>\n",
       "      <td>0</td>\n",
       "      <td>0</td>\n",
       "      <td>1</td>\n",
       "      <td>0</td>\n",
       "      <td>1</td>\n",
       "      <td>0</td>\n",
       "      <td>0</td>\n",
       "      <td>68041.289157</td>\n",
       "      <td>40465.0</td>\n",
       "      <td>27576.289157</td>\n",
       "    </tr>\n",
       "    <tr>\n",
       "      <th>149858754</th>\n",
       "      <th>4479</th>\n",
       "      <td>46.0</td>\n",
       "      <td>516.0</td>\n",
       "      <td>5.0</td>\n",
       "      <td>1.0</td>\n",
       "      <td>1939.0</td>\n",
       "      <td>0.367742</td>\n",
       "      <td>0.047</td>\n",
       "      <td>0.72</td>\n",
       "      <td>0.160</td>\n",
       "      <td>0.328</td>\n",
       "      <td>0.280</td>\n",
       "      <td>4.25</td>\n",
       "      <td>2.0</td>\n",
       "      <td>0.0</td>\n",
       "      <td>0.0</td>\n",
       "      <td>0.0</td>\n",
       "      <td>0.0</td>\n",
       "      <td>0.0</td>\n",
       "      <td>0.0</td>\n",
       "      <td>0.0</td>\n",
       "      <td>0.0</td>\n",
       "      <td>0.0</td>\n",
       "      <td>1.0</td>\n",
       "      <td>1.0</td>\n",
       "      <td>0.0</td>\n",
       "      <td>0.0</td>\n",
       "      <td>0.0</td>\n",
       "      <td>0.0</td>\n",
       "      <td>0.0</td>\n",
       "      <td>0.0</td>\n",
       "      <td>0.0</td>\n",
       "      <td>0.0</td>\n",
       "      <td>0.0</td>\n",
       "      <td>0.0</td>\n",
       "      <td>0.0</td>\n",
       "      <td>1.0</td>\n",
       "      <td>0.0</td>\n",
       "      <td>0.0</td>\n",
       "      <td>0.0</td>\n",
       "      <td>0.0</td>\n",
       "      <td>0.0</td>\n",
       "      <td>0.0</td>\n",
       "      <td>0.0</td>\n",
       "      <td>0.0</td>\n",
       "      <td>16.0</td>\n",
       "      <td>0.0</td>\n",
       "      <td>0.0</td>\n",
       "      <td>0.0</td>\n",
       "      <td>4.0</td>\n",
       "      <td>0.0</td>\n",
       "      <td>...</td>\n",
       "      <td>0.0</td>\n",
       "      <td>0.0</td>\n",
       "      <td>0.0</td>\n",
       "      <td>1.0</td>\n",
       "      <td>0.0</td>\n",
       "      <td>0.0</td>\n",
       "      <td>0.0</td>\n",
       "      <td>16.0</td>\n",
       "      <td>0.0</td>\n",
       "      <td>0.0</td>\n",
       "      <td>0.0</td>\n",
       "      <td>0.0</td>\n",
       "      <td>0.0</td>\n",
       "      <td>4.0</td>\n",
       "      <td>0.0</td>\n",
       "      <td>0.0</td>\n",
       "      <td>0.0</td>\n",
       "      <td>1.0</td>\n",
       "      <td>0.0</td>\n",
       "      <td>3.0</td>\n",
       "      <td>0.0</td>\n",
       "      <td>0.0</td>\n",
       "      <td>3.0</td>\n",
       "      <td>0.0</td>\n",
       "      <td>0.0</td>\n",
       "      <td>0.0</td>\n",
       "      <td>0.0</td>\n",
       "      <td>0.0</td>\n",
       "      <td>0.0</td>\n",
       "      <td>0.0</td>\n",
       "      <td>0.0</td>\n",
       "      <td>0.0</td>\n",
       "      <td>0.0</td>\n",
       "      <td>0.0</td>\n",
       "      <td>0.0</td>\n",
       "      <td>3.875000</td>\n",
       "      <td>0.0</td>\n",
       "      <td>0.0</td>\n",
       "      <td>1.0</td>\n",
       "      <td>0</td>\n",
       "      <td>0</td>\n",
       "      <td>0</td>\n",
       "      <td>1</td>\n",
       "      <td>0</td>\n",
       "      <td>0</td>\n",
       "      <td>0</td>\n",
       "      <td>0</td>\n",
       "      <td>107105.315789</td>\n",
       "      <td>83852.0</td>\n",
       "      <td>23253.315789</td>\n",
       "    </tr>\n",
       "  </tbody>\n",
       "</table>\n",
       "<p>5 rows × 131 columns</p>\n",
       "</div>"
      ],
      "text/plain": [
       "                primary_size  time_s  floor  num_bedrooms  construction_year  \\\n",
       "ad_id                                                                          \n",
       "142237086 2805          99.0   600.0    5.0           3.0             1870.0   \n",
       "149543484 4237         198.0  1218.0    1.0           3.0             1938.0   \n",
       "150007367 4664          85.0  1664.0    3.0           2.0             1955.0   \n",
       "149496535 4188         304.0  1816.0    2.0           3.0             1977.0   \n",
       "149858754 4479          46.0   516.0    5.0           1.0             1939.0   \n",
       "\n",
       "                area_new_building_pct  income_inequality  uni_graduates  \\\n",
       "ad_id                                                                     \n",
       "142237086 2805             0.395833                0.038           0.73   \n",
       "149543484 4237             0.591398                0.045           0.77   \n",
       "150007367 4664             0.840000                0.032           0.55   \n",
       "149496535 4188             0.676190                0.038           0.76   \n",
       "149858754 4479             0.367742                0.047           0.72   \n",
       "\n",
       "                low_income_households  cramped_spaces  immigrant_pct  \\\n",
       "ad_id                                                                  \n",
       "142237086 2805                0.186             0.469          0.278   \n",
       "149543484 4237                0.069             0.140          0.178   \n",
       "150007367 4664                0.233             0.459          0.443   \n",
       "149496535 4188                0.068             0.221          0.185   \n",
       "149858754 4479                0.160             0.328          0.280   \n",
       "\n",
       "                mean_post_code_rating  post_code_place_count  accounting  \\\n",
       "ad_id                                                                      \n",
       "142237086 2805                 0.00                    0.0           0.0   \n",
       "149543484 4237                 4.50                    1.0           0.0   \n",
       "150007367 4664                 0.00                    0.0           0.0   \n",
       "149496535 4188                 4.20                    1.0           0.0   \n",
       "149858754 4479                 4.25                    2.0           0.0   \n",
       "\n",
       "                administrative_area_level_2  airport  amusement_park  \\\n",
       "ad_id                                                                  \n",
       "142237086 2805                  0.0              0.0             0.0   \n",
       "149543484 4237                  0.0              0.0             0.0   \n",
       "150007367 4664                  0.0              0.0             0.0   \n",
       "149496535 4188                  0.0              0.0             0.0   \n",
       "149858754 4479                  0.0              0.0             0.0   \n",
       "\n",
       "                art_gallery  atm  bakery  bank  bar  beauty_salon  \\\n",
       "ad_id                                                               \n",
       "142237086 2805          0.0  0.0     0.0   0.0  3.0           0.0   \n",
       "149543484 4237          0.0  0.0     0.0   0.0  0.0           0.0   \n",
       "150007367 4664          0.0  0.0     0.0   0.0  0.0           0.0   \n",
       "149496535 4188          0.0  0.0     0.0   0.0  0.0           0.0   \n",
       "149858754 4479          0.0  0.0     0.0   0.0  0.0           1.0   \n",
       "\n",
       "                bicycle_store  book_store  bowling_alley  bus_station  cafe  \\\n",
       "ad_id                                                                         \n",
       "142237086 2805            1.0         0.0            0.0          0.0   0.0   \n",
       "149543484 4237            1.0         0.0            0.0          0.0   0.0   \n",
       "150007367 4664            0.0         0.0            1.0          0.0   0.0   \n",
       "149496535 4188            0.0         0.0            0.0          0.0   0.0   \n",
       "149858754 4479            1.0         0.0            0.0          0.0   0.0   \n",
       "\n",
       "                car_dealer  car_rental  car_repair  car_wash  cemetery  \\\n",
       "ad_id                                                                    \n",
       "142237086 2805         0.0         0.0         0.0       0.0       0.0   \n",
       "149543484 4237         0.0         0.0         0.0       0.0       0.0   \n",
       "150007367 4664         0.0         0.0         0.0       0.0       0.0   \n",
       "149496535 4188         0.0         0.0         0.0       0.0       0.0   \n",
       "149858754 4479         0.0         0.0         0.0       0.0       0.0   \n",
       "\n",
       "                church  city_hall  clothing_store  convenience_store  \\\n",
       "ad_id                                                                  \n",
       "142237086 2805     0.0        0.0             0.0                0.0   \n",
       "149543484 4237     0.0        0.0             1.0                0.0   \n",
       "150007367 4664     0.0        0.0             0.0                0.0   \n",
       "149496535 4188     0.0        0.0             0.0                0.0   \n",
       "149858754 4479     0.0        0.0             1.0                0.0   \n",
       "\n",
       "                courthouse  dentist  department_store  doctor  electrician  \\\n",
       "ad_id                                                                        \n",
       "142237086 2805         0.0      0.0               0.0     0.0          0.0   \n",
       "149543484 4237         0.0      0.0               0.0     1.0          0.0   \n",
       "150007367 4664         0.0      1.0               0.0     0.0          0.0   \n",
       "149496535 4188         0.0      0.0               0.0     0.0          0.0   \n",
       "149858754 4479         0.0      0.0               0.0     0.0          0.0   \n",
       "\n",
       "                electronics_store  embassy  establishment  finance  \\\n",
       "ad_id                                                                \n",
       "142237086 2805                0.0      0.0           18.0      0.0   \n",
       "149543484 4237                0.0      0.0           16.0      0.0   \n",
       "150007367 4664                0.0      0.0            9.0      1.0   \n",
       "149496535 4188                0.0      0.0            2.0      0.0   \n",
       "149858754 4479                0.0      0.0           16.0      0.0   \n",
       "\n",
       "                fire_station  florist  food  funeral_home  ...  park  parking  \\\n",
       "ad_id                                                      ...                  \n",
       "142237086 2805           0.0      0.0   3.0           0.0  ...   0.0      0.0   \n",
       "149543484 4237           0.0      0.0   0.0           0.0  ...   0.0      0.0   \n",
       "150007367 4664           0.0      0.0   3.0           0.0  ...   0.0      0.0   \n",
       "149496535 4188           0.0      0.0   0.0           0.0  ...   0.0      0.0   \n",
       "149858754 4479           0.0      0.0   4.0           0.0  ...   0.0      0.0   \n",
       "\n",
       "                pet_store  pharmacy  physiotherapist  place_of_worship  \\\n",
       "ad_id                                                                    \n",
       "142237086 2805        0.0       0.0              0.0               0.0   \n",
       "149543484 4237        1.0       1.0              0.0               0.0   \n",
       "150007367 4664        0.0       1.0              0.0               0.0   \n",
       "149496535 4188        0.0       0.0              0.0               0.0   \n",
       "149858754 4479        0.0       1.0              0.0               0.0   \n",
       "\n",
       "                plumber  point_of_interest  police  political  post_office  \\\n",
       "ad_id                                                                        \n",
       "142237086 2805      0.0               18.0     0.0        0.0          0.0   \n",
       "149543484 4237      0.0               16.0     0.0        0.0          0.0   \n",
       "150007367 4664      0.0                9.0     0.0        0.0          1.0   \n",
       "149496535 4188      0.0                2.0     0.0        0.0          0.0   \n",
       "149858754 4479      0.0               16.0     0.0        0.0          0.0   \n",
       "\n",
       "                premise  real_estate_agency  restaurant  roofing_contractor  \\\n",
       "ad_id                                                                         \n",
       "142237086 2805      0.0                 0.0         3.0                 0.0   \n",
       "149543484 4237      0.0                 2.0         0.0                 0.0   \n",
       "150007367 4664      0.0                 0.0         2.0                 0.0   \n",
       "149496535 4188      0.0                 0.0         0.0                 0.0   \n",
       "149858754 4479      0.0                 0.0         4.0                 0.0   \n",
       "\n",
       "                rv_park  school  shoe_store  shopping_mall  spa  stadium  \\\n",
       "ad_id                                                                      \n",
       "142237086 2805      0.0     0.0         0.0            0.0  0.0      0.0   \n",
       "149543484 4237      0.0     0.0         0.0            1.0  0.0      0.0   \n",
       "150007367 4664      0.0     0.0         0.0            0.0  0.0      0.0   \n",
       "149496535 4188      0.0     0.0         0.0            0.0  0.0      0.0   \n",
       "149858754 4479      0.0     0.0         1.0            0.0  3.0      0.0   \n",
       "\n",
       "                storage  store  sublocality  sublocality_level_1  \\\n",
       "ad_id                                                              \n",
       "142237086 2805      0.0    2.0          0.0                  0.0   \n",
       "149543484 4237      0.0    5.0          0.0                  0.0   \n",
       "150007367 4664      0.0    2.0          0.0                  0.0   \n",
       "149496535 4188      0.0    0.0          0.0                  0.0   \n",
       "149858754 4479      0.0    3.0          0.0                  0.0   \n",
       "\n",
       "                sublocality_level_2  subway_station  supermarket  taxi_stand  \\\n",
       "ad_id                                                                          \n",
       "142237086 2805                  0.0             0.0          0.0         0.0   \n",
       "149543484 4237                  0.0             0.0          0.0         0.0   \n",
       "150007367 4664                  0.0             0.0          0.0         0.0   \n",
       "149496535 4188                  0.0             0.0          0.0         0.0   \n",
       "149858754 4479                  0.0             0.0          0.0         0.0   \n",
       "\n",
       "                train_station  transit_station  travel_agency  university  \\\n",
       "ad_id                                                                       \n",
       "142237086 2805            0.0              0.0            0.0         0.0   \n",
       "149543484 4237            0.0              0.0            0.0         0.0   \n",
       "150007367 4664            0.0              0.0            0.0         0.0   \n",
       "149496535 4188            0.0              0.0            0.0         0.0   \n",
       "149858754 4479            0.0              0.0            0.0         0.0   \n",
       "\n",
       "                veterinary_care  zoo  establishment_rating  meny_store  \\\n",
       "ad_id                                                                    \n",
       "142237086 2805              0.0  0.0             4.144444          0.0   \n",
       "149543484 4237              0.0  0.0             4.425000          0.0   \n",
       "150007367 4664              0.0  0.0             3.433333          0.0   \n",
       "149496535 4188              0.0  0.0             3.950000          0.0   \n",
       "149858754 4479              0.0  0.0             3.875000          0.0   \n",
       "\n",
       "                marina  sats  comb_property_type_house  \\\n",
       "ad_id                                                    \n",
       "142237086 2805     0.0   0.0                    0        \n",
       "149543484 4237     0.0   0.0                    1        \n",
       "150007367 4664     0.0   0.0                    0        \n",
       "149496535 4188     0.0   0.0                    1        \n",
       "149858754 4479     0.0   1.0                    0        \n",
       "\n",
       "                comb_property_type_other  ownership_type_Andel  \\\n",
       "ad_id                                                            \n",
       "142237086 2805                    0                         1    \n",
       "149543484 4237                    0                         0    \n",
       "150007367 4664                    0                         1    \n",
       "149496535 4188                    0                         0    \n",
       "149858754 4479                    0                         0    \n",
       "\n",
       "                ownership_type_Eier (Selveier)  new_building_True  \\\n",
       "ad_id                                                               \n",
       "142237086 2805                    0                             0   \n",
       "149543484 4237                    1                             0   \n",
       "150007367 4664                    0                             0   \n",
       "149496535 4188                    1                             0   \n",
       "149858754 4479                    1                             0   \n",
       "\n",
       "                high_income_post_code_True  exclusive_True  renovated_True  \\\n",
       "ad_id                                                                        \n",
       "142237086 2805                    0                      0               0   \n",
       "149543484 4237                    0                      0               0   \n",
       "150007367 4664                    0                      1               0   \n",
       "149496535 4188                    1                      0               0   \n",
       "149858754 4479                    0                      0               0   \n",
       "\n",
       "                    predicted  price_per_sq_m     pred_diff  \n",
       "ad_id                                                        \n",
       "142237086 2805   83028.537634         50052.0  32976.537634  \n",
       "149543484 4237   84799.251799         54362.0  30437.251799  \n",
       "150007367 4664   70412.294118         40747.0  29665.294118  \n",
       "149496535 4188   68041.289157         40465.0  27576.289157  \n",
       "149858754 4479  107105.315789         83852.0  23253.315789  \n",
       "\n",
       "[5 rows x 131 columns]"
      ]
     },
     "execution_count": 130,
     "metadata": {},
     "output_type": "execute_result"
    }
   ],
   "source": [
    "to_plot[to_plot.pred_diff > 5e3].sort_values('pred_diff', ascending=False).head()"
   ]
  },
  {
   "cell_type": "code",
   "execution_count": 131,
   "metadata": {},
   "outputs": [
    {
     "data": {
      "text/html": [
       "<div>\n",
       "<style scoped>\n",
       "    .dataframe tbody tr th:only-of-type {\n",
       "        vertical-align: middle;\n",
       "    }\n",
       "\n",
       "    .dataframe tbody tr th {\n",
       "        vertical-align: top;\n",
       "    }\n",
       "\n",
       "    .dataframe thead th {\n",
       "        text-align: right;\n",
       "    }\n",
       "</style>\n",
       "<table border=\"1\" class=\"dataframe\">\n",
       "  <thead>\n",
       "    <tr style=\"text-align: right;\">\n",
       "      <th></th>\n",
       "      <th></th>\n",
       "      <th>primary_size</th>\n",
       "      <th>time_s</th>\n",
       "      <th>floor</th>\n",
       "      <th>num_bedrooms</th>\n",
       "      <th>construction_year</th>\n",
       "      <th>area_new_building_pct</th>\n",
       "      <th>income_inequality</th>\n",
       "      <th>uni_graduates</th>\n",
       "      <th>low_income_households</th>\n",
       "      <th>cramped_spaces</th>\n",
       "      <th>immigrant_pct</th>\n",
       "      <th>mean_post_code_rating</th>\n",
       "      <th>post_code_place_count</th>\n",
       "      <th>accounting</th>\n",
       "      <th>administrative_area_level_2</th>\n",
       "      <th>airport</th>\n",
       "      <th>amusement_park</th>\n",
       "      <th>art_gallery</th>\n",
       "      <th>atm</th>\n",
       "      <th>bakery</th>\n",
       "      <th>bank</th>\n",
       "      <th>bar</th>\n",
       "      <th>beauty_salon</th>\n",
       "      <th>bicycle_store</th>\n",
       "      <th>book_store</th>\n",
       "      <th>bowling_alley</th>\n",
       "      <th>bus_station</th>\n",
       "      <th>cafe</th>\n",
       "      <th>car_dealer</th>\n",
       "      <th>car_rental</th>\n",
       "      <th>car_repair</th>\n",
       "      <th>car_wash</th>\n",
       "      <th>cemetery</th>\n",
       "      <th>church</th>\n",
       "      <th>city_hall</th>\n",
       "      <th>clothing_store</th>\n",
       "      <th>convenience_store</th>\n",
       "      <th>courthouse</th>\n",
       "      <th>dentist</th>\n",
       "      <th>department_store</th>\n",
       "      <th>doctor</th>\n",
       "      <th>electrician</th>\n",
       "      <th>electronics_store</th>\n",
       "      <th>embassy</th>\n",
       "      <th>establishment</th>\n",
       "      <th>finance</th>\n",
       "      <th>fire_station</th>\n",
       "      <th>florist</th>\n",
       "      <th>food</th>\n",
       "      <th>funeral_home</th>\n",
       "      <th>...</th>\n",
       "      <th>park</th>\n",
       "      <th>parking</th>\n",
       "      <th>pet_store</th>\n",
       "      <th>pharmacy</th>\n",
       "      <th>physiotherapist</th>\n",
       "      <th>place_of_worship</th>\n",
       "      <th>plumber</th>\n",
       "      <th>point_of_interest</th>\n",
       "      <th>police</th>\n",
       "      <th>political</th>\n",
       "      <th>post_office</th>\n",
       "      <th>premise</th>\n",
       "      <th>real_estate_agency</th>\n",
       "      <th>restaurant</th>\n",
       "      <th>roofing_contractor</th>\n",
       "      <th>rv_park</th>\n",
       "      <th>school</th>\n",
       "      <th>shoe_store</th>\n",
       "      <th>shopping_mall</th>\n",
       "      <th>spa</th>\n",
       "      <th>stadium</th>\n",
       "      <th>storage</th>\n",
       "      <th>store</th>\n",
       "      <th>sublocality</th>\n",
       "      <th>sublocality_level_1</th>\n",
       "      <th>sublocality_level_2</th>\n",
       "      <th>subway_station</th>\n",
       "      <th>supermarket</th>\n",
       "      <th>taxi_stand</th>\n",
       "      <th>train_station</th>\n",
       "      <th>transit_station</th>\n",
       "      <th>travel_agency</th>\n",
       "      <th>university</th>\n",
       "      <th>veterinary_care</th>\n",
       "      <th>zoo</th>\n",
       "      <th>establishment_rating</th>\n",
       "      <th>meny_store</th>\n",
       "      <th>marina</th>\n",
       "      <th>sats</th>\n",
       "      <th>comb_property_type_house</th>\n",
       "      <th>comb_property_type_other</th>\n",
       "      <th>ownership_type_Andel</th>\n",
       "      <th>ownership_type_Eier (Selveier)</th>\n",
       "      <th>new_building_True</th>\n",
       "      <th>high_income_post_code_True</th>\n",
       "      <th>exclusive_True</th>\n",
       "      <th>renovated_True</th>\n",
       "      <th>predicted</th>\n",
       "      <th>price_per_sq_m</th>\n",
       "      <th>pred_diff</th>\n",
       "    </tr>\n",
       "    <tr>\n",
       "      <th>ad_id</th>\n",
       "      <th></th>\n",
       "      <th></th>\n",
       "      <th></th>\n",
       "      <th></th>\n",
       "      <th></th>\n",
       "      <th></th>\n",
       "      <th></th>\n",
       "      <th></th>\n",
       "      <th></th>\n",
       "      <th></th>\n",
       "      <th></th>\n",
       "      <th></th>\n",
       "      <th></th>\n",
       "      <th></th>\n",
       "      <th></th>\n",
       "      <th></th>\n",
       "      <th></th>\n",
       "      <th></th>\n",
       "      <th></th>\n",
       "      <th></th>\n",
       "      <th></th>\n",
       "      <th></th>\n",
       "      <th></th>\n",
       "      <th></th>\n",
       "      <th></th>\n",
       "      <th></th>\n",
       "      <th></th>\n",
       "      <th></th>\n",
       "      <th></th>\n",
       "      <th></th>\n",
       "      <th></th>\n",
       "      <th></th>\n",
       "      <th></th>\n",
       "      <th></th>\n",
       "      <th></th>\n",
       "      <th></th>\n",
       "      <th></th>\n",
       "      <th></th>\n",
       "      <th></th>\n",
       "      <th></th>\n",
       "      <th></th>\n",
       "      <th></th>\n",
       "      <th></th>\n",
       "      <th></th>\n",
       "      <th></th>\n",
       "      <th></th>\n",
       "      <th></th>\n",
       "      <th></th>\n",
       "      <th></th>\n",
       "      <th></th>\n",
       "      <th></th>\n",
       "      <th></th>\n",
       "      <th></th>\n",
       "      <th></th>\n",
       "      <th></th>\n",
       "      <th></th>\n",
       "      <th></th>\n",
       "      <th></th>\n",
       "      <th></th>\n",
       "      <th></th>\n",
       "      <th></th>\n",
       "      <th></th>\n",
       "      <th></th>\n",
       "      <th></th>\n",
       "      <th></th>\n",
       "      <th></th>\n",
       "      <th></th>\n",
       "      <th></th>\n",
       "      <th></th>\n",
       "      <th></th>\n",
       "      <th></th>\n",
       "      <th></th>\n",
       "      <th></th>\n",
       "      <th></th>\n",
       "      <th></th>\n",
       "      <th></th>\n",
       "      <th></th>\n",
       "      <th></th>\n",
       "      <th></th>\n",
       "      <th></th>\n",
       "      <th></th>\n",
       "      <th></th>\n",
       "      <th></th>\n",
       "      <th></th>\n",
       "      <th></th>\n",
       "      <th></th>\n",
       "      <th></th>\n",
       "      <th></th>\n",
       "      <th></th>\n",
       "      <th></th>\n",
       "      <th></th>\n",
       "      <th></th>\n",
       "      <th></th>\n",
       "      <th></th>\n",
       "      <th></th>\n",
       "      <th></th>\n",
       "      <th></th>\n",
       "      <th></th>\n",
       "      <th></th>\n",
       "      <th></th>\n",
       "      <th></th>\n",
       "      <th></th>\n",
       "    </tr>\n",
       "  </thead>\n",
       "  <tbody>\n",
       "    <tr>\n",
       "      <th>106186889</th>\n",
       "      <th>581</th>\n",
       "      <td>79.0</td>\n",
       "      <td>1096.0</td>\n",
       "      <td>4.0</td>\n",
       "      <td>2.0</td>\n",
       "      <td>2019.0</td>\n",
       "      <td>0.695531</td>\n",
       "      <td>0.033</td>\n",
       "      <td>0.68</td>\n",
       "      <td>0.236</td>\n",
       "      <td>0.521</td>\n",
       "      <td>0.347</td>\n",
       "      <td>5.000000</td>\n",
       "      <td>1.0</td>\n",
       "      <td>0.0</td>\n",
       "      <td>0.0</td>\n",
       "      <td>0.0</td>\n",
       "      <td>0.0</td>\n",
       "      <td>0.0</td>\n",
       "      <td>0.0</td>\n",
       "      <td>0.0</td>\n",
       "      <td>0.0</td>\n",
       "      <td>1.0</td>\n",
       "      <td>0.0</td>\n",
       "      <td>0.0</td>\n",
       "      <td>0.0</td>\n",
       "      <td>0.0</td>\n",
       "      <td>0.0</td>\n",
       "      <td>0.0</td>\n",
       "      <td>0.0</td>\n",
       "      <td>0.0</td>\n",
       "      <td>0.0</td>\n",
       "      <td>0.0</td>\n",
       "      <td>0.0</td>\n",
       "      <td>0.0</td>\n",
       "      <td>0.0</td>\n",
       "      <td>0.0</td>\n",
       "      <td>0.0</td>\n",
       "      <td>0.0</td>\n",
       "      <td>0.0</td>\n",
       "      <td>0.0</td>\n",
       "      <td>0.0</td>\n",
       "      <td>0.0</td>\n",
       "      <td>1.0</td>\n",
       "      <td>0.0</td>\n",
       "      <td>14.0</td>\n",
       "      <td>0.0</td>\n",
       "      <td>0.0</td>\n",
       "      <td>0.0</td>\n",
       "      <td>0.0</td>\n",
       "      <td>0.0</td>\n",
       "      <td>...</td>\n",
       "      <td>0.0</td>\n",
       "      <td>0.0</td>\n",
       "      <td>0.0</td>\n",
       "      <td>0.0</td>\n",
       "      <td>0.0</td>\n",
       "      <td>0.0</td>\n",
       "      <td>0.0</td>\n",
       "      <td>14.0</td>\n",
       "      <td>0.0</td>\n",
       "      <td>0.0</td>\n",
       "      <td>0.0</td>\n",
       "      <td>0.0</td>\n",
       "      <td>1.0</td>\n",
       "      <td>0.0</td>\n",
       "      <td>0.0</td>\n",
       "      <td>0.0</td>\n",
       "      <td>0.0</td>\n",
       "      <td>0.0</td>\n",
       "      <td>0.0</td>\n",
       "      <td>0.0</td>\n",
       "      <td>0.0</td>\n",
       "      <td>0.0</td>\n",
       "      <td>5.0</td>\n",
       "      <td>0.0</td>\n",
       "      <td>0.0</td>\n",
       "      <td>0.0</td>\n",
       "      <td>0.0</td>\n",
       "      <td>0.0</td>\n",
       "      <td>0.0</td>\n",
       "      <td>0.0</td>\n",
       "      <td>0.0</td>\n",
       "      <td>0.0</td>\n",
       "      <td>0.0</td>\n",
       "      <td>0.0</td>\n",
       "      <td>0.0</td>\n",
       "      <td>4.071429</td>\n",
       "      <td>0.0</td>\n",
       "      <td>0.0</td>\n",
       "      <td>0.0</td>\n",
       "      <td>0</td>\n",
       "      <td>0</td>\n",
       "      <td>0</td>\n",
       "      <td>1</td>\n",
       "      <td>1</td>\n",
       "      <td>0</td>\n",
       "      <td>0</td>\n",
       "      <td>0</td>\n",
       "      <td>86071.217822</td>\n",
       "      <td>80380.0</td>\n",
       "      <td>5691.217822</td>\n",
       "    </tr>\n",
       "    <tr>\n",
       "      <th>102186780</th>\n",
       "      <th>387</th>\n",
       "      <td>48.0</td>\n",
       "      <td>1729.0</td>\n",
       "      <td>3.0</td>\n",
       "      <td>1.0</td>\n",
       "      <td>2019.0</td>\n",
       "      <td>0.521127</td>\n",
       "      <td>0.031</td>\n",
       "      <td>0.44</td>\n",
       "      <td>0.290</td>\n",
       "      <td>0.465</td>\n",
       "      <td>0.561</td>\n",
       "      <td>4.666667</td>\n",
       "      <td>3.0</td>\n",
       "      <td>0.0</td>\n",
       "      <td>0.0</td>\n",
       "      <td>0.0</td>\n",
       "      <td>0.0</td>\n",
       "      <td>0.0</td>\n",
       "      <td>0.0</td>\n",
       "      <td>0.0</td>\n",
       "      <td>0.0</td>\n",
       "      <td>0.0</td>\n",
       "      <td>0.0</td>\n",
       "      <td>0.0</td>\n",
       "      <td>0.0</td>\n",
       "      <td>0.0</td>\n",
       "      <td>0.0</td>\n",
       "      <td>0.0</td>\n",
       "      <td>1.0</td>\n",
       "      <td>0.0</td>\n",
       "      <td>0.0</td>\n",
       "      <td>0.0</td>\n",
       "      <td>0.0</td>\n",
       "      <td>0.0</td>\n",
       "      <td>0.0</td>\n",
       "      <td>0.0</td>\n",
       "      <td>0.0</td>\n",
       "      <td>0.0</td>\n",
       "      <td>0.0</td>\n",
       "      <td>0.0</td>\n",
       "      <td>0.0</td>\n",
       "      <td>0.0</td>\n",
       "      <td>0.0</td>\n",
       "      <td>0.0</td>\n",
       "      <td>12.0</td>\n",
       "      <td>0.0</td>\n",
       "      <td>0.0</td>\n",
       "      <td>0.0</td>\n",
       "      <td>1.0</td>\n",
       "      <td>0.0</td>\n",
       "      <td>...</td>\n",
       "      <td>0.0</td>\n",
       "      <td>0.0</td>\n",
       "      <td>0.0</td>\n",
       "      <td>0.0</td>\n",
       "      <td>0.0</td>\n",
       "      <td>0.0</td>\n",
       "      <td>1.0</td>\n",
       "      <td>12.0</td>\n",
       "      <td>0.0</td>\n",
       "      <td>0.0</td>\n",
       "      <td>0.0</td>\n",
       "      <td>0.0</td>\n",
       "      <td>0.0</td>\n",
       "      <td>0.0</td>\n",
       "      <td>0.0</td>\n",
       "      <td>0.0</td>\n",
       "      <td>0.0</td>\n",
       "      <td>0.0</td>\n",
       "      <td>0.0</td>\n",
       "      <td>0.0</td>\n",
       "      <td>0.0</td>\n",
       "      <td>0.0</td>\n",
       "      <td>7.0</td>\n",
       "      <td>0.0</td>\n",
       "      <td>0.0</td>\n",
       "      <td>0.0</td>\n",
       "      <td>0.0</td>\n",
       "      <td>0.0</td>\n",
       "      <td>0.0</td>\n",
       "      <td>0.0</td>\n",
       "      <td>0.0</td>\n",
       "      <td>0.0</td>\n",
       "      <td>0.0</td>\n",
       "      <td>0.0</td>\n",
       "      <td>0.0</td>\n",
       "      <td>4.191667</td>\n",
       "      <td>0.0</td>\n",
       "      <td>0.0</td>\n",
       "      <td>0.0</td>\n",
       "      <td>0</td>\n",
       "      <td>0</td>\n",
       "      <td>1</td>\n",
       "      <td>0</td>\n",
       "      <td>1</td>\n",
       "      <td>0</td>\n",
       "      <td>0</td>\n",
       "      <td>0</td>\n",
       "      <td>73513.920000</td>\n",
       "      <td>67896.0</td>\n",
       "      <td>5617.920000</td>\n",
       "    </tr>\n",
       "    <tr>\n",
       "      <th>95783493</th>\n",
       "      <th>271</th>\n",
       "      <td>48.0</td>\n",
       "      <td>1729.0</td>\n",
       "      <td>3.0</td>\n",
       "      <td>1.0</td>\n",
       "      <td>2019.0</td>\n",
       "      <td>0.521127</td>\n",
       "      <td>0.031</td>\n",
       "      <td>0.44</td>\n",
       "      <td>0.290</td>\n",
       "      <td>0.465</td>\n",
       "      <td>0.561</td>\n",
       "      <td>4.666667</td>\n",
       "      <td>3.0</td>\n",
       "      <td>0.0</td>\n",
       "      <td>0.0</td>\n",
       "      <td>0.0</td>\n",
       "      <td>0.0</td>\n",
       "      <td>0.0</td>\n",
       "      <td>0.0</td>\n",
       "      <td>0.0</td>\n",
       "      <td>0.0</td>\n",
       "      <td>0.0</td>\n",
       "      <td>0.0</td>\n",
       "      <td>0.0</td>\n",
       "      <td>0.0</td>\n",
       "      <td>0.0</td>\n",
       "      <td>0.0</td>\n",
       "      <td>0.0</td>\n",
       "      <td>1.0</td>\n",
       "      <td>0.0</td>\n",
       "      <td>0.0</td>\n",
       "      <td>0.0</td>\n",
       "      <td>0.0</td>\n",
       "      <td>0.0</td>\n",
       "      <td>0.0</td>\n",
       "      <td>0.0</td>\n",
       "      <td>0.0</td>\n",
       "      <td>0.0</td>\n",
       "      <td>0.0</td>\n",
       "      <td>0.0</td>\n",
       "      <td>0.0</td>\n",
       "      <td>0.0</td>\n",
       "      <td>0.0</td>\n",
       "      <td>0.0</td>\n",
       "      <td>12.0</td>\n",
       "      <td>0.0</td>\n",
       "      <td>0.0</td>\n",
       "      <td>0.0</td>\n",
       "      <td>1.0</td>\n",
       "      <td>0.0</td>\n",
       "      <td>...</td>\n",
       "      <td>0.0</td>\n",
       "      <td>0.0</td>\n",
       "      <td>0.0</td>\n",
       "      <td>0.0</td>\n",
       "      <td>0.0</td>\n",
       "      <td>0.0</td>\n",
       "      <td>1.0</td>\n",
       "      <td>12.0</td>\n",
       "      <td>0.0</td>\n",
       "      <td>0.0</td>\n",
       "      <td>0.0</td>\n",
       "      <td>0.0</td>\n",
       "      <td>0.0</td>\n",
       "      <td>0.0</td>\n",
       "      <td>0.0</td>\n",
       "      <td>0.0</td>\n",
       "      <td>0.0</td>\n",
       "      <td>0.0</td>\n",
       "      <td>0.0</td>\n",
       "      <td>0.0</td>\n",
       "      <td>0.0</td>\n",
       "      <td>0.0</td>\n",
       "      <td>7.0</td>\n",
       "      <td>0.0</td>\n",
       "      <td>0.0</td>\n",
       "      <td>0.0</td>\n",
       "      <td>0.0</td>\n",
       "      <td>0.0</td>\n",
       "      <td>0.0</td>\n",
       "      <td>0.0</td>\n",
       "      <td>0.0</td>\n",
       "      <td>0.0</td>\n",
       "      <td>0.0</td>\n",
       "      <td>0.0</td>\n",
       "      <td>0.0</td>\n",
       "      <td>4.191667</td>\n",
       "      <td>0.0</td>\n",
       "      <td>0.0</td>\n",
       "      <td>0.0</td>\n",
       "      <td>0</td>\n",
       "      <td>0</td>\n",
       "      <td>1</td>\n",
       "      <td>0</td>\n",
       "      <td>1</td>\n",
       "      <td>0</td>\n",
       "      <td>0</td>\n",
       "      <td>0</td>\n",
       "      <td>73513.920000</td>\n",
       "      <td>67896.0</td>\n",
       "      <td>5617.920000</td>\n",
       "    </tr>\n",
       "    <tr>\n",
       "      <th>116469549</th>\n",
       "      <th>957</th>\n",
       "      <td>54.0</td>\n",
       "      <td>740.0</td>\n",
       "      <td>2.0</td>\n",
       "      <td>2.0</td>\n",
       "      <td>2019.0</td>\n",
       "      <td>0.395833</td>\n",
       "      <td>0.038</td>\n",
       "      <td>0.73</td>\n",
       "      <td>0.186</td>\n",
       "      <td>0.469</td>\n",
       "      <td>0.278</td>\n",
       "      <td>3.733333</td>\n",
       "      <td>6.0</td>\n",
       "      <td>0.0</td>\n",
       "      <td>0.0</td>\n",
       "      <td>0.0</td>\n",
       "      <td>0.0</td>\n",
       "      <td>0.0</td>\n",
       "      <td>0.0</td>\n",
       "      <td>0.0</td>\n",
       "      <td>0.0</td>\n",
       "      <td>4.0</td>\n",
       "      <td>0.0</td>\n",
       "      <td>0.0</td>\n",
       "      <td>0.0</td>\n",
       "      <td>0.0</td>\n",
       "      <td>0.0</td>\n",
       "      <td>0.0</td>\n",
       "      <td>0.0</td>\n",
       "      <td>0.0</td>\n",
       "      <td>0.0</td>\n",
       "      <td>0.0</td>\n",
       "      <td>0.0</td>\n",
       "      <td>1.0</td>\n",
       "      <td>0.0</td>\n",
       "      <td>0.0</td>\n",
       "      <td>0.0</td>\n",
       "      <td>0.0</td>\n",
       "      <td>0.0</td>\n",
       "      <td>0.0</td>\n",
       "      <td>0.0</td>\n",
       "      <td>0.0</td>\n",
       "      <td>0.0</td>\n",
       "      <td>0.0</td>\n",
       "      <td>17.0</td>\n",
       "      <td>0.0</td>\n",
       "      <td>0.0</td>\n",
       "      <td>0.0</td>\n",
       "      <td>5.0</td>\n",
       "      <td>0.0</td>\n",
       "      <td>...</td>\n",
       "      <td>0.0</td>\n",
       "      <td>0.0</td>\n",
       "      <td>0.0</td>\n",
       "      <td>0.0</td>\n",
       "      <td>0.0</td>\n",
       "      <td>1.0</td>\n",
       "      <td>0.0</td>\n",
       "      <td>17.0</td>\n",
       "      <td>0.0</td>\n",
       "      <td>0.0</td>\n",
       "      <td>0.0</td>\n",
       "      <td>0.0</td>\n",
       "      <td>0.0</td>\n",
       "      <td>5.0</td>\n",
       "      <td>0.0</td>\n",
       "      <td>0.0</td>\n",
       "      <td>1.0</td>\n",
       "      <td>0.0</td>\n",
       "      <td>0.0</td>\n",
       "      <td>0.0</td>\n",
       "      <td>0.0</td>\n",
       "      <td>0.0</td>\n",
       "      <td>1.0</td>\n",
       "      <td>0.0</td>\n",
       "      <td>0.0</td>\n",
       "      <td>0.0</td>\n",
       "      <td>0.0</td>\n",
       "      <td>0.0</td>\n",
       "      <td>0.0</td>\n",
       "      <td>0.0</td>\n",
       "      <td>0.0</td>\n",
       "      <td>0.0</td>\n",
       "      <td>0.0</td>\n",
       "      <td>0.0</td>\n",
       "      <td>1.0</td>\n",
       "      <td>4.041176</td>\n",
       "      <td>0.0</td>\n",
       "      <td>0.0</td>\n",
       "      <td>0.0</td>\n",
       "      <td>0</td>\n",
       "      <td>0</td>\n",
       "      <td>1</td>\n",
       "      <td>0</td>\n",
       "      <td>1</td>\n",
       "      <td>0</td>\n",
       "      <td>0</td>\n",
       "      <td>0</td>\n",
       "      <td>95225.688889</td>\n",
       "      <td>90000.0</td>\n",
       "      <td>5225.688889</td>\n",
       "    </tr>\n",
       "    <tr>\n",
       "      <th>150202688</th>\n",
       "      <th>4744</th>\n",
       "      <td>48.0</td>\n",
       "      <td>917.0</td>\n",
       "      <td>2.0</td>\n",
       "      <td>1.0</td>\n",
       "      <td>1934.0</td>\n",
       "      <td>0.804469</td>\n",
       "      <td>0.035</td>\n",
       "      <td>0.64</td>\n",
       "      <td>0.321</td>\n",
       "      <td>0.574</td>\n",
       "      <td>0.392</td>\n",
       "      <td>3.025000</td>\n",
       "      <td>4.0</td>\n",
       "      <td>0.0</td>\n",
       "      <td>0.0</td>\n",
       "      <td>0.0</td>\n",
       "      <td>0.0</td>\n",
       "      <td>0.0</td>\n",
       "      <td>0.0</td>\n",
       "      <td>0.0</td>\n",
       "      <td>0.0</td>\n",
       "      <td>1.0</td>\n",
       "      <td>0.0</td>\n",
       "      <td>0.0</td>\n",
       "      <td>0.0</td>\n",
       "      <td>0.0</td>\n",
       "      <td>0.0</td>\n",
       "      <td>0.0</td>\n",
       "      <td>3.0</td>\n",
       "      <td>0.0</td>\n",
       "      <td>3.0</td>\n",
       "      <td>0.0</td>\n",
       "      <td>0.0</td>\n",
       "      <td>1.0</td>\n",
       "      <td>0.0</td>\n",
       "      <td>0.0</td>\n",
       "      <td>0.0</td>\n",
       "      <td>0.0</td>\n",
       "      <td>0.0</td>\n",
       "      <td>0.0</td>\n",
       "      <td>0.0</td>\n",
       "      <td>0.0</td>\n",
       "      <td>0.0</td>\n",
       "      <td>0.0</td>\n",
       "      <td>17.0</td>\n",
       "      <td>0.0</td>\n",
       "      <td>0.0</td>\n",
       "      <td>0.0</td>\n",
       "      <td>2.0</td>\n",
       "      <td>0.0</td>\n",
       "      <td>...</td>\n",
       "      <td>0.0</td>\n",
       "      <td>0.0</td>\n",
       "      <td>0.0</td>\n",
       "      <td>0.0</td>\n",
       "      <td>0.0</td>\n",
       "      <td>1.0</td>\n",
       "      <td>0.0</td>\n",
       "      <td>17.0</td>\n",
       "      <td>0.0</td>\n",
       "      <td>0.0</td>\n",
       "      <td>0.0</td>\n",
       "      <td>0.0</td>\n",
       "      <td>0.0</td>\n",
       "      <td>1.0</td>\n",
       "      <td>0.0</td>\n",
       "      <td>0.0</td>\n",
       "      <td>0.0</td>\n",
       "      <td>0.0</td>\n",
       "      <td>0.0</td>\n",
       "      <td>0.0</td>\n",
       "      <td>0.0</td>\n",
       "      <td>0.0</td>\n",
       "      <td>4.0</td>\n",
       "      <td>0.0</td>\n",
       "      <td>0.0</td>\n",
       "      <td>0.0</td>\n",
       "      <td>0.0</td>\n",
       "      <td>0.0</td>\n",
       "      <td>0.0</td>\n",
       "      <td>0.0</td>\n",
       "      <td>0.0</td>\n",
       "      <td>0.0</td>\n",
       "      <td>0.0</td>\n",
       "      <td>0.0</td>\n",
       "      <td>0.0</td>\n",
       "      <td>3.688235</td>\n",
       "      <td>0.0</td>\n",
       "      <td>0.0</td>\n",
       "      <td>1.0</td>\n",
       "      <td>0</td>\n",
       "      <td>0</td>\n",
       "      <td>0</td>\n",
       "      <td>0</td>\n",
       "      <td>0</td>\n",
       "      <td>0</td>\n",
       "      <td>1</td>\n",
       "      <td>0</td>\n",
       "      <td>82000.219512</td>\n",
       "      <td>76817.0</td>\n",
       "      <td>5183.219512</td>\n",
       "    </tr>\n",
       "  </tbody>\n",
       "</table>\n",
       "<p>5 rows × 131 columns</p>\n",
       "</div>"
      ],
      "text/plain": [
       "                primary_size  time_s  floor  num_bedrooms  construction_year  \\\n",
       "ad_id                                                                          \n",
       "106186889 581           79.0  1096.0    4.0           2.0             2019.0   \n",
       "102186780 387           48.0  1729.0    3.0           1.0             2019.0   \n",
       "95783493  271           48.0  1729.0    3.0           1.0             2019.0   \n",
       "116469549 957           54.0   740.0    2.0           2.0             2019.0   \n",
       "150202688 4744          48.0   917.0    2.0           1.0             1934.0   \n",
       "\n",
       "                area_new_building_pct  income_inequality  uni_graduates  \\\n",
       "ad_id                                                                     \n",
       "106186889 581              0.695531                0.033           0.68   \n",
       "102186780 387              0.521127                0.031           0.44   \n",
       "95783493  271              0.521127                0.031           0.44   \n",
       "116469549 957              0.395833                0.038           0.73   \n",
       "150202688 4744             0.804469                0.035           0.64   \n",
       "\n",
       "                low_income_households  cramped_spaces  immigrant_pct  \\\n",
       "ad_id                                                                  \n",
       "106186889 581                 0.236             0.521          0.347   \n",
       "102186780 387                 0.290             0.465          0.561   \n",
       "95783493  271                 0.290             0.465          0.561   \n",
       "116469549 957                 0.186             0.469          0.278   \n",
       "150202688 4744                0.321             0.574          0.392   \n",
       "\n",
       "                mean_post_code_rating  post_code_place_count  accounting  \\\n",
       "ad_id                                                                      \n",
       "106186889 581              5.000000                    1.0           0.0   \n",
       "102186780 387              4.666667                    3.0           0.0   \n",
       "95783493  271              4.666667                    3.0           0.0   \n",
       "116469549 957              3.733333                    6.0           0.0   \n",
       "150202688 4744             3.025000                    4.0           0.0   \n",
       "\n",
       "                administrative_area_level_2  airport  amusement_park  \\\n",
       "ad_id                                                                  \n",
       "106186889 581                   0.0              0.0             0.0   \n",
       "102186780 387                   0.0              0.0             0.0   \n",
       "95783493  271                   0.0              0.0             0.0   \n",
       "116469549 957                   0.0              0.0             0.0   \n",
       "150202688 4744                  0.0              0.0             0.0   \n",
       "\n",
       "                art_gallery  atm  bakery  bank  bar  beauty_salon  \\\n",
       "ad_id                                                               \n",
       "106186889 581           0.0  0.0     0.0   0.0  1.0           0.0   \n",
       "102186780 387           0.0  0.0     0.0   0.0  0.0           0.0   \n",
       "95783493  271           0.0  0.0     0.0   0.0  0.0           0.0   \n",
       "116469549 957           0.0  0.0     0.0   0.0  4.0           0.0   \n",
       "150202688 4744          0.0  0.0     0.0   0.0  1.0           0.0   \n",
       "\n",
       "                bicycle_store  book_store  bowling_alley  bus_station  cafe  \\\n",
       "ad_id                                                                         \n",
       "106186889 581             0.0         0.0            0.0          0.0   0.0   \n",
       "102186780 387             0.0         0.0            0.0          0.0   0.0   \n",
       "95783493  271             0.0         0.0            0.0          0.0   0.0   \n",
       "116469549 957             0.0         0.0            0.0          0.0   0.0   \n",
       "150202688 4744            0.0         0.0            0.0          0.0   0.0   \n",
       "\n",
       "                car_dealer  car_rental  car_repair  car_wash  cemetery  \\\n",
       "ad_id                                                                    \n",
       "106186889 581          0.0         0.0         0.0       0.0       0.0   \n",
       "102186780 387          1.0         0.0         0.0       0.0       0.0   \n",
       "95783493  271          1.0         0.0         0.0       0.0       0.0   \n",
       "116469549 957          0.0         0.0         0.0       0.0       0.0   \n",
       "150202688 4744         3.0         0.0         3.0       0.0       0.0   \n",
       "\n",
       "                church  city_hall  clothing_store  convenience_store  \\\n",
       "ad_id                                                                  \n",
       "106186889 581      0.0        0.0             0.0                0.0   \n",
       "102186780 387      0.0        0.0             0.0                0.0   \n",
       "95783493  271      0.0        0.0             0.0                0.0   \n",
       "116469549 957      1.0        0.0             0.0                0.0   \n",
       "150202688 4744     1.0        0.0             0.0                0.0   \n",
       "\n",
       "                courthouse  dentist  department_store  doctor  electrician  \\\n",
       "ad_id                                                                        \n",
       "106186889 581          0.0      0.0               0.0     0.0          0.0   \n",
       "102186780 387          0.0      0.0               0.0     0.0          0.0   \n",
       "95783493  271          0.0      0.0               0.0     0.0          0.0   \n",
       "116469549 957          0.0      0.0               0.0     0.0          0.0   \n",
       "150202688 4744         0.0      0.0               0.0     0.0          0.0   \n",
       "\n",
       "                electronics_store  embassy  establishment  finance  \\\n",
       "ad_id                                                                \n",
       "106186889 581                 1.0      0.0           14.0      0.0   \n",
       "102186780 387                 0.0      0.0           12.0      0.0   \n",
       "95783493  271                 0.0      0.0           12.0      0.0   \n",
       "116469549 957                 0.0      0.0           17.0      0.0   \n",
       "150202688 4744                0.0      0.0           17.0      0.0   \n",
       "\n",
       "                fire_station  florist  food  funeral_home  ...  park  parking  \\\n",
       "ad_id                                                      ...                  \n",
       "106186889 581            0.0      0.0   0.0           0.0  ...   0.0      0.0   \n",
       "102186780 387            0.0      0.0   1.0           0.0  ...   0.0      0.0   \n",
       "95783493  271            0.0      0.0   1.0           0.0  ...   0.0      0.0   \n",
       "116469549 957            0.0      0.0   5.0           0.0  ...   0.0      0.0   \n",
       "150202688 4744           0.0      0.0   2.0           0.0  ...   0.0      0.0   \n",
       "\n",
       "                pet_store  pharmacy  physiotherapist  place_of_worship  \\\n",
       "ad_id                                                                    \n",
       "106186889 581         0.0       0.0              0.0               0.0   \n",
       "102186780 387         0.0       0.0              0.0               0.0   \n",
       "95783493  271         0.0       0.0              0.0               0.0   \n",
       "116469549 957         0.0       0.0              0.0               1.0   \n",
       "150202688 4744        0.0       0.0              0.0               1.0   \n",
       "\n",
       "                plumber  point_of_interest  police  political  post_office  \\\n",
       "ad_id                                                                        \n",
       "106186889 581       0.0               14.0     0.0        0.0          0.0   \n",
       "102186780 387       1.0               12.0     0.0        0.0          0.0   \n",
       "95783493  271       1.0               12.0     0.0        0.0          0.0   \n",
       "116469549 957       0.0               17.0     0.0        0.0          0.0   \n",
       "150202688 4744      0.0               17.0     0.0        0.0          0.0   \n",
       "\n",
       "                premise  real_estate_agency  restaurant  roofing_contractor  \\\n",
       "ad_id                                                                         \n",
       "106186889 581       0.0                 1.0         0.0                 0.0   \n",
       "102186780 387       0.0                 0.0         0.0                 0.0   \n",
       "95783493  271       0.0                 0.0         0.0                 0.0   \n",
       "116469549 957       0.0                 0.0         5.0                 0.0   \n",
       "150202688 4744      0.0                 0.0         1.0                 0.0   \n",
       "\n",
       "                rv_park  school  shoe_store  shopping_mall  spa  stadium  \\\n",
       "ad_id                                                                      \n",
       "106186889 581       0.0     0.0         0.0            0.0  0.0      0.0   \n",
       "102186780 387       0.0     0.0         0.0            0.0  0.0      0.0   \n",
       "95783493  271       0.0     0.0         0.0            0.0  0.0      0.0   \n",
       "116469549 957       0.0     1.0         0.0            0.0  0.0      0.0   \n",
       "150202688 4744      0.0     0.0         0.0            0.0  0.0      0.0   \n",
       "\n",
       "                storage  store  sublocality  sublocality_level_1  \\\n",
       "ad_id                                                              \n",
       "106186889 581       0.0    5.0          0.0                  0.0   \n",
       "102186780 387       0.0    7.0          0.0                  0.0   \n",
       "95783493  271       0.0    7.0          0.0                  0.0   \n",
       "116469549 957       0.0    1.0          0.0                  0.0   \n",
       "150202688 4744      0.0    4.0          0.0                  0.0   \n",
       "\n",
       "                sublocality_level_2  subway_station  supermarket  taxi_stand  \\\n",
       "ad_id                                                                          \n",
       "106186889 581                   0.0             0.0          0.0         0.0   \n",
       "102186780 387                   0.0             0.0          0.0         0.0   \n",
       "95783493  271                   0.0             0.0          0.0         0.0   \n",
       "116469549 957                   0.0             0.0          0.0         0.0   \n",
       "150202688 4744                  0.0             0.0          0.0         0.0   \n",
       "\n",
       "                train_station  transit_station  travel_agency  university  \\\n",
       "ad_id                                                                       \n",
       "106186889 581             0.0              0.0            0.0         0.0   \n",
       "102186780 387             0.0              0.0            0.0         0.0   \n",
       "95783493  271             0.0              0.0            0.0         0.0   \n",
       "116469549 957             0.0              0.0            0.0         0.0   \n",
       "150202688 4744            0.0              0.0            0.0         0.0   \n",
       "\n",
       "                veterinary_care  zoo  establishment_rating  meny_store  \\\n",
       "ad_id                                                                    \n",
       "106186889 581               0.0  0.0             4.071429          0.0   \n",
       "102186780 387               0.0  0.0             4.191667          0.0   \n",
       "95783493  271               0.0  0.0             4.191667          0.0   \n",
       "116469549 957               0.0  1.0             4.041176          0.0   \n",
       "150202688 4744              0.0  0.0             3.688235          0.0   \n",
       "\n",
       "                marina  sats  comb_property_type_house  \\\n",
       "ad_id                                                    \n",
       "106186889 581      0.0   0.0                    0        \n",
       "102186780 387      0.0   0.0                    0        \n",
       "95783493  271      0.0   0.0                    0        \n",
       "116469549 957      0.0   0.0                    0        \n",
       "150202688 4744     0.0   1.0                    0        \n",
       "\n",
       "                comb_property_type_other  ownership_type_Andel  \\\n",
       "ad_id                                                            \n",
       "106186889 581                     0                         0    \n",
       "102186780 387                     0                         1    \n",
       "95783493  271                     0                         1    \n",
       "116469549 957                     0                         1    \n",
       "150202688 4744                    0                         0    \n",
       "\n",
       "                ownership_type_Eier (Selveier)  new_building_True  \\\n",
       "ad_id                                                               \n",
       "106186889 581                     1                             1   \n",
       "102186780 387                     0                             1   \n",
       "95783493  271                     0                             1   \n",
       "116469549 957                     0                             1   \n",
       "150202688 4744                    0                             0   \n",
       "\n",
       "                high_income_post_code_True  exclusive_True  renovated_True  \\\n",
       "ad_id                                                                        \n",
       "106186889 581                     0                      0               0   \n",
       "102186780 387                     0                      0               0   \n",
       "95783493  271                     0                      0               0   \n",
       "116469549 957                     0                      0               0   \n",
       "150202688 4744                    0                      1               0   \n",
       "\n",
       "                   predicted  price_per_sq_m    pred_diff  \n",
       "ad_id                                                      \n",
       "106186889 581   86071.217822         80380.0  5691.217822  \n",
       "102186780 387   73513.920000         67896.0  5617.920000  \n",
       "95783493  271   73513.920000         67896.0  5617.920000  \n",
       "116469549 957   95225.688889         90000.0  5225.688889  \n",
       "150202688 4744  82000.219512         76817.0  5183.219512  \n",
       "\n",
       "[5 rows x 131 columns]"
      ]
     },
     "execution_count": 131,
     "metadata": {},
     "output_type": "execute_result"
    }
   ],
   "source": [
    "to_plot[to_plot.pred_diff > 5e3].sort_values('pred_diff', ascending=False).tail()"
   ]
  },
  {
   "cell_type": "markdown",
   "metadata": {},
   "source": [
    "# Display Feature Importances"
   ]
  },
  {
   "cell_type": "code",
   "execution_count": 132,
   "metadata": {},
   "outputs": [],
   "source": [
    "feature_importances = pd.Series(pipeline.named_steps['estimator'].feature_importances_, index=selected_features).sort_values(ascending=True)"
   ]
  },
  {
   "cell_type": "code",
   "execution_count": 133,
   "metadata": {},
   "outputs": [
    {
     "data": {
      "image/png": "[encoded data removed]",
      "text/plain": [
       "<Figure size 1008x720 with 1 Axes>"
      ]
     },
     "metadata": {},
     "output_type": "display_data"
    }
   ],
   "source": [
    "top_n = 30\n",
    "to_plot = feature_importances[-top_n:]\n",
    "plt.yticks(range(len(to_plot)), to_plot.index)\n",
    "plt.title('Feature Importances')\n",
    "plt.barh(range(len(to_plot)), to_plot)\n",
    "plt.show()"
   ]
  },
  {
   "cell_type": "markdown",
   "metadata": {},
   "source": [
    "# Predict Price With NLP"
   ]
  },
  {
   "cell_type": "code",
   "execution_count": null,
   "metadata": {},
   "outputs": [],
   "source": [
    "from sklearn.feature_extraction.text import CountVectorizer\n",
    "from sklearn.feature_extraction.text import TfidfTransformer\n",
    "from sklearn.feature_extraction.text import TfidfVectorizer\n",
    "from sklearn.preprocessing import Normalizer\n",
    "from sklearn.decomposition import TruncatedSVD"
   ]
  },
  {
   "cell_type": "code",
   "execution_count": null,
   "metadata": {},
   "outputs": [],
   "source": [
    "stop_words = ['av', 'og', 'til', 'over', 'fra', 'om',\n",
    "              'den', 'det', 'denne', 'dette', 'ved',\n",
    "              'in', 'inn', 'en', 'opp', 'ikke', 'oss',\n",
    "              'for', 'du', 'fortsatt', 'flere', 'eller',\n",
    "              'hele', 'her', 'men', 'kan', 'meget',\n",
    "              'ingen', 'inntil', 'mer']\n",
    "\n",
    "real_estate_terms = ['solgt', 'informasjon', 'bygget',\n",
    "                     'leiligheter', 'salg', 'solgte', 'bell']\n",
    "\n",
    "other_terms = ['inkl', 'nn', 'dok', 'str', 'avg', 'yt',\n",
    "               'kl', 'kj', 'hj', 'schl', 'nyg']\n",
    "\n",
    "stop_words = stop_words + real_estate_terms + other_terms"
   ]
  },
  {
   "cell_type": "code",
   "execution_count": null,
   "metadata": {},
   "outputs": [],
   "source": [
    "count_vectorizer = CountVectorizer(ngram_range=(1, 1),\n",
    "                                   token_pattern = r'[A-z\\-]{3,}',\n",
    "                                   strip_accents=None,\n",
    "                                   lowercase=True,\n",
    "                                   stop_words=stop_words,\n",
    "                                   # vocabulary=\n",
    "                                   min_df=1,\n",
    "                                   max_features = 5000)"
   ]
  },
  {
   "cell_type": "code",
   "execution_count": null,
   "metadata": {},
   "outputs": [],
   "source": [
    "vectorized_full_desc = count_vectorizer.fit_transform(data_sample_from_new_buildings[data_sample_from_new_buildings.index.isin(model_data.index)].short_description)"
   ]
  },
  {
   "cell_type": "code",
   "execution_count": null,
   "metadata": {},
   "outputs": [],
   "source": [
    "tfidf_transformer = TfidfTransformer()"
   ]
  },
  {
   "cell_type": "code",
   "execution_count": null,
   "metadata": {},
   "outputs": [],
   "source": [
    "tfidf = tfidf_transformer.fit_transform(vectorized_full_desc)"
   ]
  },
  {
   "cell_type": "code",
   "execution_count": null,
   "metadata": {},
   "outputs": [],
   "source": [
    "tfidf"
   ]
  },
  {
   "cell_type": "code",
   "execution_count": null,
   "metadata": {},
   "outputs": [],
   "source": [
    "X_text_train, X_text_test, y_text_train, y_text_test = train_test_split(tfidf,\n",
    "                                                                        y,\n",
    "                                                                        test_size=test_size,\n",
    "                                                                        random_state=random_seed)"
   ]
  },
  {
   "cell_type": "code",
   "execution_count": null,
   "metadata": {},
   "outputs": [],
   "source": [
    "estimator.fit(X_text_train, y_text_train)"
   ]
  },
  {
   "cell_type": "code",
   "execution_count": null,
   "metadata": {},
   "outputs": [],
   "source": [
    "y_text_pred = estimator.predict(X_text_test)"
   ]
  },
  {
   "cell_type": "markdown",
   "metadata": {},
   "source": [
    "# Draw Learning Curves"
   ]
  },
  {
   "cell_type": "code",
   "execution_count": null,
   "metadata": {},
   "outputs": [],
   "source": [
    "learning_curve_res = get_learning_curves(estimator,\n",
    "                                         X_text_train,\n",
    "                                         y_text_train,\n",
    "                                         score='neg_median_absolute_error')"
   ]
  },
  {
   "cell_type": "code",
   "execution_count": null,
   "metadata": {},
   "outputs": [],
   "source": [
    "fig = plt.figure(figsize = (12, 8))\n",
    "plt.title('Learning Curves')\n",
    "sns.lineplot(x='size', y='score', hue='type', data=learning_curve_res)\n",
    "plt.show()"
   ]
  },
  {
   "cell_type": "markdown",
   "metadata": {},
   "source": [
    "# Display Cross-Validation Results"
   ]
  },
  {
   "cell_type": "code",
   "execution_count": null,
   "metadata": {},
   "outputs": [],
   "source": [
    "cv_res = get_cv_res(estimator,\n",
    "                    X_text_train,\n",
    "                    y_text_train,\n",
    "                    score=['neg_median_absolute_error',\n",
    "                           'r2',\n",
    "                           'explained_variance',\n",
    "                           'max_error'])"
   ]
  },
  {
   "cell_type": "code",
   "execution_count": null,
   "metadata": {},
   "outputs": [],
   "source": [
    "print_cv_res(cv_res)"
   ]
  },
  {
   "cell_type": "code",
   "execution_count": null,
   "metadata": {},
   "outputs": [],
   "source": [
    "feature_importances = pd.Series(estimator.feature_importances_, index=list(count_vectorizer.vocabulary_.keys()))"
   ]
  },
  {
   "cell_type": "code",
   "execution_count": null,
   "metadata": {},
   "outputs": [],
   "source": [
    "to_plot = feature_importances.sort_values(ascending=False)[:30]\n",
    "plt.yticks(range(len(to_plot)), to_plot.index)\n",
    "plt.title('Feature Importances')\n",
    "plt.barh(range(len(to_plot)), to_plot)\n",
    "plt.show()"
   ]
  },
  {
   "cell_type": "markdown",
   "metadata": {},
   "source": [
    "# Predict Price With All Features"
   ]
  },
  {
   "cell_type": "code",
   "execution_count": null,
   "metadata": {},
   "outputs": [],
   "source": [
    "# all_features = scipy.sparse.hstack([vectorized_full_desc, X_sparse])\n",
    "all_features = scipy.sparse.hstack([tfidf, X_sparse])"
   ]
  },
  {
   "cell_type": "code",
   "execution_count": null,
   "metadata": {},
   "outputs": [],
   "source": [
    "all_features"
   ]
  },
  {
   "cell_type": "code",
   "execution_count": null,
   "metadata": {},
   "outputs": [],
   "source": [
    "X_full_train, X_full_test, y_full_train, y_full_test = train_test_split(all_features,\n",
    "                                                                        y,\n",
    "                                                                        test_size=test_size,\n",
    "                                                                        random_state=random_seed)"
   ]
  },
  {
   "cell_type": "code",
   "execution_count": null,
   "metadata": {},
   "outputs": [],
   "source": [
    "estimator.fit(X_full_train, y_full_train)"
   ]
  },
  {
   "cell_type": "code",
   "execution_count": null,
   "metadata": {},
   "outputs": [],
   "source": [
    "y_pred = estimator.predict(X_full_test)"
   ]
  },
  {
   "cell_type": "markdown",
   "metadata": {},
   "source": [
    "# Draw Learning Curves"
   ]
  },
  {
   "cell_type": "code",
   "execution_count": null,
   "metadata": {},
   "outputs": [],
   "source": [
    "learning_curve_res = get_learning_curves(estimator,\n",
    "                                         X_full_train,\n",
    "                                         y_full_train,\n",
    "                                         score='neg_median_absolute_error')"
   ]
  },
  {
   "cell_type": "code",
   "execution_count": null,
   "metadata": {},
   "outputs": [],
   "source": [
    "fig = plt.figure(figsize = (12, 8))\n",
    "plt.title('Learning Curves')\n",
    "sns.lineplot(x='size', y='score', hue='type', data=learning_curve_res)\n",
    "plt.show()"
   ]
  },
  {
   "cell_type": "markdown",
   "metadata": {},
   "source": [
    "# Display Cross-Validation Results"
   ]
  },
  {
   "cell_type": "code",
   "execution_count": null,
   "metadata": {},
   "outputs": [],
   "source": [
    "cv_res = get_cv_res(estimator,\n",
    "                    X_full_train,\n",
    "                    y_full_train,\n",
    "                    score=['neg_median_absolute_error',\n",
    "                           'r2',\n",
    "                           'explained_variance',\n",
    "                           'max_error'])"
   ]
  },
  {
   "cell_type": "code",
   "execution_count": null,
   "metadata": {},
   "outputs": [],
   "source": [
    "print_cv_res(cv_res)"
   ]
  },
  {
   "cell_type": "markdown",
   "metadata": {},
   "source": [
    "# Display Feature Importances"
   ]
  },
  {
   "cell_type": "code",
   "execution_count": null,
   "metadata": {},
   "outputs": [],
   "source": [
    "feature_importances = pd.Series(estimator.feature_importances_, index=list(count_vectorizer.vocabulary_.keys()) + list(x_cols)).sort_values(ascending=True)"
   ]
  },
  {
   "cell_type": "code",
   "execution_count": null,
   "metadata": {},
   "outputs": [],
   "source": [
    "feature_importances.sort_values(ascending=False)[:30]"
   ]
  },
  {
   "cell_type": "code",
   "execution_count": null,
   "metadata": {},
   "outputs": [],
   "source": [
    "to_plot = feature_importances.sort_values(ascending=False)[:30]\n",
    "plt.yticks(range(len(to_plot)), to_plot.index)\n",
    "plt.title('Feature Importances')\n",
    "plt.barh(range(len(to_plot)), to_plot)\n",
    "plt.show()"
   ]
  },
  {
   "cell_type": "code",
   "execution_count": null,
   "metadata": {},
   "outputs": [],
   "source": [
    "vocab = pd.Series(list(count_vectorizer.vocabulary_.values()), index=count_vectorizer.vocabulary_.keys())"
   ]
  },
  {
   "cell_type": "code",
   "execution_count": null,
   "metadata": {},
   "outputs": [],
   "source": [
    "vocab.sort_values(ascending=False)[:10]"
   ]
  },
  {
   "cell_type": "markdown",
   "metadata": {},
   "source": [
    "# TODO\n",
    "* Draw learning curves on multiple metrics\n",
    "* Limit the number of place types on the neighborhood data\n",
    "* Save CSV data to BQ database\n",
    "* Implement better tokenizer and pass the results to the TFIDF\n",
    "* Produce statistics for all types of models\n",
    "* Select final model\n",
    "* Tune up the final model\n",
    "* Deploy model to cloud"
   ]
  },
  {
   "cell_type": "code",
   "execution_count": null,
   "metadata": {},
   "outputs": [],
   "source": []
  }
 ],
 "metadata": {
  "kernelspec": {
   "display_name": "Python 3",
   "language": "python",
   "name": "python3"
  },
  "language_info": {
   "codemirror_mode": {
    "name": "ipython",
    "version": 3
   },
   "file_extension": ".py",
   "mimetype": "text/x-python",
   "name": "python",
   "nbconvert_exporter": "python",
   "pygments_lexer": "ipython3",
   "version": "3.7.3"
  }
 },
 "nbformat": 4,
 "nbformat_minor": 2
}
