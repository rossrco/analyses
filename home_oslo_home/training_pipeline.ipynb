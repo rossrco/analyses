{
 "cells": [
  {
   "cell_type": "markdown",
   "metadata": {},
   "source": [
    "## 2.2 Algorithms And Techniques\n",
    "For the purpose of this analysis we will use two machine learning algorithms:\n",
    "* Linear Regression. Linear regression is a simple and fast algorithm. As we saw previously in our Exploratory Data Analysis (EDA) point 2.1.1, a linear regression on a single datapoint alone could give us an r2 score of more than 40%. Apart from that, linear regression is one of the algorithms integrated on Google BigQuery. This means that we can re-train a model and predict the values of records directly in our database.\n",
    "* Adaboost Regressor. As we saw in our EDA, we do have a certain number of outliers. The adaboost regressor algorithm handles outlier cases slightly better as it fits additional copies of the original regressors, focusing on the difficult cases [[1]](https://scikit-learn.org/stable/modules/generated/sklearn.ensemble.AdaBoostRegressor.html \"SciKit Learn's documentation\").\n",
    "\n",
    "## 2.3 Benchmark\n",
    "As a benchmark, we will a granular view of the median `price_per_sq_m`, namely we will use the median `price_per_sq_m` per post code. That is, for every record in our dataset, our predicted benchmark price will be the median `price_per_sq_m` for the last 6 months.\n",
    "\n",
    "# 3 Methodology\n",
    "## 3.1 Data Preprocessing\n",
    "We will take the following pre-processing steps:\n",
    "* Encode the `property_type` variable as `property_type_apartment`. The encoded variable has value `1` if the `property_type` is apartment and `0` for all house types.\n",
    "* Encode the `ownership_type` variable as `ownership_full`. The encoded variable is `1` only if full ownership rights are for sale (not as a part of a building cooperative).\n",
    "* The post code is extracted from the `address` column. The post code is later used to join the National Health Institute (NHI) data as well as the Google Maps data.\n",
    "* Add the count of lodging places and dining places from the Google Maps dataset. This is done by counting the number of places from the dataset by post code where the place type is dining or lodging.\n",
    "* Add the latest percentage of university graduates per post code. This is done by selecting the latest date where the percentage of graduates is available. The statistic is already aggregated by NHI by area name so it only needs to be joined to the main dataset.\n",
    "* The training pipeline also includes scaling and normalizing of all features.\n",
    "\n",
    "## 3.2 Implementation\n",
    "\n",
    "## 3.3 Refinement"
   ]
  },
  {
   "cell_type": "code",
   "execution_count": 41,
   "metadata": {},
   "outputs": [],
   "source": [
    "import pandas as pd\n",
    "import numpy as np\n",
    "from sklearn import pipeline\n",
    "from sklearn import preprocessing\n",
    "from sklearn import model_selection\n",
    "from sklearn import ensemble\n",
    "from sklearn import neighbors\n",
    "from sklearn import linear_model\n",
    "from sklearn import metrics\n",
    "import matplotlib.pyplot as plt\n",
    "import seaborn as sns\n",
    "from google.cloud import bigquery\n",
    "import utils as u\n",
    "import custom_transformers as ct"
   ]
  },
  {
   "cell_type": "code",
   "execution_count": 42,
   "metadata": {},
   "outputs": [],
   "source": [
    "pd.set_option('display.max_colwidth', 20)\n",
    "pd.set_option('display.max_columns', 100)\n",
    "pd.set_option('display.max_rows', 100)\n",
    "from IPython.display import display, HTML\n",
    "%matplotlib inline\n",
    "sns.set(style='dark')\n",
    "plt.rcParams['figure.figsize'] = [14, 10]"
   ]
  },
  {
   "cell_type": "code",
   "execution_count": 43,
   "metadata": {},
   "outputs": [],
   "source": [
    "sample_size = 2\n",
    "random_seed = 42\n",
    "test_size = 0.3\n",
    "cv = 3"
   ]
  },
  {
   "cell_type": "code",
   "execution_count": 44,
   "metadata": {},
   "outputs": [],
   "source": [
    "queries = u.get_queries('queries')"
   ]
  },
  {
   "cell_type": "code",
   "execution_count": 45,
   "metadata": {},
   "outputs": [],
   "source": [
    "bq_client = bigquery.Client()"
   ]
  },
  {
   "cell_type": "code",
   "execution_count": 46,
   "metadata": {},
   "outputs": [],
   "source": [
    "data = u.get_data(queries, 'training_data.sql', bq_client)"
   ]
  },
  {
   "cell_type": "code",
   "execution_count": 47,
   "metadata": {},
   "outputs": [
    {
     "data": {
      "text/html": [
       "<div>\n",
       "<style scoped>\n",
       "    .dataframe tbody tr th:only-of-type {\n",
       "        vertical-align: middle;\n",
       "    }\n",
       "\n",
       "    .dataframe tbody tr th {\n",
       "        vertical-align: top;\n",
       "    }\n",
       "\n",
       "    .dataframe thead th {\n",
       "        text-align: right;\n",
       "    }\n",
       "</style>\n",
       "<table border=\"1\" class=\"dataframe\">\n",
       "  <thead>\n",
       "    <tr style=\"text-align: right;\">\n",
       "      <th></th>\n",
       "      <th>ad_id</th>\n",
       "      <th>apt_id</th>\n",
       "      <th>time_s</th>\n",
       "      <th>property_type_apartment</th>\n",
       "      <th>construction_year</th>\n",
       "      <th>ownership_full</th>\n",
       "      <th>floor</th>\n",
       "      <th>num_bedrooms</th>\n",
       "      <th>address</th>\n",
       "      <th>price_per_sq_m</th>\n",
       "    </tr>\n",
       "  </thead>\n",
       "  <tbody>\n",
       "    <tr>\n",
       "      <th>0</th>\n",
       "      <td>154481527</td>\n",
       "      <td>None</td>\n",
       "      <td>NaN</td>\n",
       "      <td>1</td>\n",
       "      <td>2006.0</td>\n",
       "      <td>0</td>\n",
       "      <td>7.0</td>\n",
       "      <td>3.0</td>\n",
       "      <td>Rubina Ranas gat...</td>\n",
       "      <td>99772.0</td>\n",
       "    </tr>\n",
       "    <tr>\n",
       "      <th>1</th>\n",
       "      <td>154434920</td>\n",
       "      <td>None</td>\n",
       "      <td>NaN</td>\n",
       "      <td>1</td>\n",
       "      <td>1979.0</td>\n",
       "      <td>0</td>\n",
       "      <td>1.0</td>\n",
       "      <td>2.0</td>\n",
       "      <td>Grefsenveien 28,...</td>\n",
       "      <td>69059.0</td>\n",
       "    </tr>\n",
       "    <tr>\n",
       "      <th>2</th>\n",
       "      <td>154516679</td>\n",
       "      <td>None</td>\n",
       "      <td>NaN</td>\n",
       "      <td>1</td>\n",
       "      <td>1918.0</td>\n",
       "      <td>0</td>\n",
       "      <td>2.0</td>\n",
       "      <td>2.0</td>\n",
       "      <td>Haralds vei 6, 0...</td>\n",
       "      <td>86763.0</td>\n",
       "    </tr>\n",
       "    <tr>\n",
       "      <th>3</th>\n",
       "      <td>147803036</td>\n",
       "      <td>None</td>\n",
       "      <td>NaN</td>\n",
       "      <td>0</td>\n",
       "      <td>2010.0</td>\n",
       "      <td>1</td>\n",
       "      <td>NaN</td>\n",
       "      <td>4.0</td>\n",
       "      <td>Dalsveien 56 D, ...</td>\n",
       "      <td>70699.0</td>\n",
       "    </tr>\n",
       "    <tr>\n",
       "      <th>4</th>\n",
       "      <td>150211925</td>\n",
       "      <td>None</td>\n",
       "      <td>NaN</td>\n",
       "      <td>1</td>\n",
       "      <td>2019.0</td>\n",
       "      <td>0</td>\n",
       "      <td>2.0</td>\n",
       "      <td>2.0</td>\n",
       "      <td>Midtveien 47, 05...</td>\n",
       "      <td>70560.0</td>\n",
       "    </tr>\n",
       "  </tbody>\n",
       "</table>\n",
       "</div>"
      ],
      "text/plain": [
       "       ad_id apt_id  time_s  property_type_apartment  construction_year  \\\n",
       "0  154481527   None     NaN                    1                 2006.0   \n",
       "1  154434920   None     NaN                    1                 1979.0   \n",
       "2  154516679   None     NaN                    1                 1918.0   \n",
       "3  147803036   None     NaN                    0                 2010.0   \n",
       "4  150211925   None     NaN                    1                 2019.0   \n",
       "\n",
       "   ownership_full  floor  num_bedrooms              address  price_per_sq_m  \n",
       "0               0    7.0           3.0  Rubina Ranas gat...         99772.0  \n",
       "1               0    1.0           2.0  Grefsenveien 28,...         69059.0  \n",
       "2               0    2.0           2.0  Haralds vei 6, 0...         86763.0  \n",
       "3               1    NaN           4.0  Dalsveien 56 D, ...         70699.0  \n",
       "4               0    2.0           2.0  Midtveien 47, 05...         70560.0  "
      ]
     },
     "execution_count": 47,
     "metadata": {},
     "output_type": "execute_result"
    }
   ],
   "source": [
    "data.head()"
   ]
  },
  {
   "cell_type": "code",
   "execution_count": 48,
   "metadata": {},
   "outputs": [
    {
     "data": {
      "text/plain": [
       "(1440, 10)"
      ]
     },
     "execution_count": 48,
     "metadata": {},
     "output_type": "execute_result"
    }
   ],
   "source": [
    "data.shape"
   ]
  },
  {
   "cell_type": "code",
   "execution_count": 49,
   "metadata": {},
   "outputs": [],
   "source": [
    "data = data[data.address.notnull()].copy()"
   ]
  },
  {
   "cell_type": "code",
   "execution_count": 50,
   "metadata": {},
   "outputs": [],
   "source": [
    "data_sample = data.groupby('ad_id').apply(lambda obj: obj.sample(n=sample_size, random_state=random_seed)\n",
    "                                          if len(obj) > sample_size\n",
    "                                          else obj.sample(len(obj)))"
   ]
  },
  {
   "cell_type": "code",
   "execution_count": 51,
   "metadata": {},
   "outputs": [],
   "source": [
    "data = data.set_index(['ad_id', 'apt_id'], drop=True)"
   ]
  },
  {
   "cell_type": "code",
   "execution_count": 52,
   "metadata": {},
   "outputs": [
    {
     "data": {
      "text/plain": [
       "(1440, 8)"
      ]
     },
     "execution_count": 52,
     "metadata": {},
     "output_type": "execute_result"
    }
   ],
   "source": [
    "data.shape"
   ]
  },
  {
   "cell_type": "code",
   "execution_count": 53,
   "metadata": {},
   "outputs": [],
   "source": [
    "data_enrichment = [('extract_post_code', ct.PostCodeExtractor()),\n",
    "                   ('add_area_name', ct.PostCodeEnricher()),\n",
    "                   ('add_gmaps_data', ct.GmapsPlaceEnricher()),\n",
    "                   ('add_nhs_data', ct.NhsDataEnricher()),\n",
    "                   ('add_historic_data', ct.HistoricDataEnricher()),\n",
    "                   ('remove_helper_columns', ct.AuxiliaryColumnRemover()),\n",
    "                   ('impute_features', ct.CustomImputer())]\n",
    "\n",
    "model_steps = [('scale', preprocessing.MinMaxScaler()),\n",
    "               ('normalize', preprocessing.Normalizer()),\n",
    "               ('model', 'passthrough')]\n",
    "\n",
    "models = [ensemble.AdaBoostRegressor(random_state=random_seed),\n",
    "          linear_model.LinearRegression()]\n",
    "\n",
    "model_params = {'model': models}"
   ]
  },
  {
   "cell_type": "code",
   "execution_count": 54,
   "metadata": {},
   "outputs": [],
   "source": [
    "enrichment_pipeline = pipeline.Pipeline(data_enrichment)"
   ]
  },
  {
   "cell_type": "code",
   "execution_count": 55,
   "metadata": {},
   "outputs": [],
   "source": [
    "model_pipeline = pipeline.Pipeline(model_steps)"
   ]
  },
  {
   "cell_type": "code",
   "execution_count": 56,
   "metadata": {},
   "outputs": [
    {
     "data": {
      "text/plain": [
       "floor                      232\n",
       "time_s                      91\n",
       "num_bedrooms                63\n",
       "price_per_sq_m               0\n",
       "address                      0\n",
       "ownership_full               0\n",
       "construction_year            0\n",
       "property_type_apartment      0\n",
       "dtype: int64"
      ]
     },
     "execution_count": 56,
     "metadata": {},
     "output_type": "execute_result"
    }
   ],
   "source": [
    "data.isna().sum(axis=0).sort_values(ascending=False)[:20]"
   ]
  },
  {
   "cell_type": "code",
   "execution_count": 57,
   "metadata": {},
   "outputs": [],
   "source": [
    "X = data.drop('price_per_sq_m', axis=1)\n",
    "y = data.price_per_sq_m"
   ]
  },
  {
   "cell_type": "code",
   "execution_count": 58,
   "metadata": {},
   "outputs": [],
   "source": [
    "X = enrichment_pipeline.fit_transform(X)"
   ]
  },
  {
   "cell_type": "code",
   "execution_count": 59,
   "metadata": {},
   "outputs": [],
   "source": [
    "y_bench = X.median_price_per_sq_m\n",
    "X = X.drop('median_price_per_sq_m', axis=1)"
   ]
  },
  {
   "cell_type": "code",
   "execution_count": 60,
   "metadata": {},
   "outputs": [
    {
     "data": {
      "text/html": [
       "<div>\n",
       "<style scoped>\n",
       "    .dataframe tbody tr th:only-of-type {\n",
       "        vertical-align: middle;\n",
       "    }\n",
       "\n",
       "    .dataframe tbody tr th {\n",
       "        vertical-align: top;\n",
       "    }\n",
       "\n",
       "    .dataframe thead th {\n",
       "        text-align: right;\n",
       "    }\n",
       "</style>\n",
       "<table border=\"1\" class=\"dataframe\">\n",
       "  <thead>\n",
       "    <tr style=\"text-align: right;\">\n",
       "      <th></th>\n",
       "      <th></th>\n",
       "      <th>time_s</th>\n",
       "      <th>property_type_apartment</th>\n",
       "      <th>construction_year</th>\n",
       "      <th>ownership_full</th>\n",
       "      <th>floor</th>\n",
       "      <th>num_bedrooms</th>\n",
       "      <th>num_lodging_places</th>\n",
       "      <th>num_dining_places</th>\n",
       "      <th>uni_graduates</th>\n",
       "    </tr>\n",
       "    <tr>\n",
       "      <th>ad_id</th>\n",
       "      <th>apt_id</th>\n",
       "      <th></th>\n",
       "      <th></th>\n",
       "      <th></th>\n",
       "      <th></th>\n",
       "      <th></th>\n",
       "      <th></th>\n",
       "      <th></th>\n",
       "      <th></th>\n",
       "      <th></th>\n",
       "    </tr>\n",
       "  </thead>\n",
       "  <tbody>\n",
       "    <tr>\n",
       "      <th>154481527</th>\n",
       "      <th>NaN</th>\n",
       "      <td>14400.0</td>\n",
       "      <td>1</td>\n",
       "      <td>2006.0</td>\n",
       "      <td>0</td>\n",
       "      <td>7.0</td>\n",
       "      <td>3.0</td>\n",
       "      <td>6.0</td>\n",
       "      <td>3.0</td>\n",
       "      <td>0.64</td>\n",
       "    </tr>\n",
       "    <tr>\n",
       "      <th>154434920</th>\n",
       "      <th>NaN</th>\n",
       "      <td>14400.0</td>\n",
       "      <td>1</td>\n",
       "      <td>1979.0</td>\n",
       "      <td>0</td>\n",
       "      <td>1.0</td>\n",
       "      <td>2.0</td>\n",
       "      <td>1.0</td>\n",
       "      <td>1.0</td>\n",
       "      <td>0.76</td>\n",
       "    </tr>\n",
       "    <tr>\n",
       "      <th>154516679</th>\n",
       "      <th>NaN</th>\n",
       "      <td>14400.0</td>\n",
       "      <td>1</td>\n",
       "      <td>1918.0</td>\n",
       "      <td>0</td>\n",
       "      <td>2.0</td>\n",
       "      <td>2.0</td>\n",
       "      <td>0.0</td>\n",
       "      <td>0.0</td>\n",
       "      <td>0.68</td>\n",
       "    </tr>\n",
       "    <tr>\n",
       "      <th>147803036</th>\n",
       "      <th>NaN</th>\n",
       "      <td>14400.0</td>\n",
       "      <td>0</td>\n",
       "      <td>2010.0</td>\n",
       "      <td>1</td>\n",
       "      <td>1.0</td>\n",
       "      <td>4.0</td>\n",
       "      <td>0.0</td>\n",
       "      <td>0.0</td>\n",
       "      <td>0.77</td>\n",
       "    </tr>\n",
       "    <tr>\n",
       "      <th>150211925</th>\n",
       "      <th>NaN</th>\n",
       "      <td>14400.0</td>\n",
       "      <td>1</td>\n",
       "      <td>2019.0</td>\n",
       "      <td>0</td>\n",
       "      <td>2.0</td>\n",
       "      <td>2.0</td>\n",
       "      <td>1.0</td>\n",
       "      <td>0.0</td>\n",
       "      <td>0.55</td>\n",
       "    </tr>\n",
       "  </tbody>\n",
       "</table>\n",
       "</div>"
      ],
      "text/plain": [
       "                   time_s  property_type_apartment  construction_year  \\\n",
       "ad_id     apt_id                                                        \n",
       "154481527 NaN     14400.0                    1                 2006.0   \n",
       "154434920 NaN     14400.0                    1                 1979.0   \n",
       "154516679 NaN     14400.0                    1                 1918.0   \n",
       "147803036 NaN     14400.0                    0                 2010.0   \n",
       "150211925 NaN     14400.0                    1                 2019.0   \n",
       "\n",
       "                  ownership_full  floor  num_bedrooms  num_lodging_places  \\\n",
       "ad_id     apt_id                                                            \n",
       "154481527 NaN                  0    7.0           3.0                 6.0   \n",
       "154434920 NaN                  0    1.0           2.0                 1.0   \n",
       "154516679 NaN                  0    2.0           2.0                 0.0   \n",
       "147803036 NaN                  1    1.0           4.0                 0.0   \n",
       "150211925 NaN                  0    2.0           2.0                 1.0   \n",
       "\n",
       "                  num_dining_places  uni_graduates  \n",
       "ad_id     apt_id                                    \n",
       "154481527 NaN                   3.0           0.64  \n",
       "154434920 NaN                   1.0           0.76  \n",
       "154516679 NaN                   0.0           0.68  \n",
       "147803036 NaN                   0.0           0.77  \n",
       "150211925 NaN                   0.0           0.55  "
      ]
     },
     "execution_count": 60,
     "metadata": {},
     "output_type": "execute_result"
    }
   ],
   "source": [
    "X.head()"
   ]
  },
  {
   "cell_type": "code",
   "execution_count": 61,
   "metadata": {},
   "outputs": [],
   "source": [
    "X_train, X_test, y_train, y_test, y_bench_train, y_bench_test = model_selection.train_test_split(X, y, y_bench, test_size=test_size, random_state=random_seed)"
   ]
  },
  {
   "cell_type": "code",
   "execution_count": 62,
   "metadata": {},
   "outputs": [
    {
     "data": {
      "text/plain": [
       "(1008, 9)"
      ]
     },
     "execution_count": 62,
     "metadata": {},
     "output_type": "execute_result"
    }
   ],
   "source": [
    "X_train.shape"
   ]
  },
  {
   "cell_type": "code",
   "execution_count": 63,
   "metadata": {},
   "outputs": [],
   "source": [
    "grid = model_selection.GridSearchCV(model_pipeline, cv=cv, n_jobs=1, param_grid=model_params, scoring='neg_mean_absolute_error')"
   ]
  },
  {
   "cell_type": "code",
   "execution_count": 64,
   "metadata": {},
   "outputs": [
    {
     "data": {
      "text/plain": [
       "GridSearchCV(cv=3, error_score='raise-deprecating',\n",
       "             estimator=Pipeline(memory=None,\n",
       "                                steps=[('scale',\n",
       "                                        MinMaxScaler(copy=True,\n",
       "                                                     feature_range=(0, 1))),\n",
       "                                       ('normalize',\n",
       "                                        Normalizer(copy=True, norm='l2')),\n",
       "                                       ('model', 'passthrough')],\n",
       "                                verbose=False),\n",
       "             iid='warn', n_jobs=1,\n",
       "             param_grid={'model': [AdaBoostRegressor(base_estimator=None,\n",
       "                                                     learning_rate=1.0,\n",
       "                                                     loss='linear',\n",
       "                                                     n_estimators=50,\n",
       "                                                     random_state=42),\n",
       "                                   LinearRegression(copy_X=True,\n",
       "                                                    fit_intercept=True,\n",
       "                                                    n_jobs=None,\n",
       "                                                    normalize=False)]},\n",
       "             pre_dispatch='2*n_jobs', refit=True, return_train_score=False,\n",
       "             scoring='neg_mean_absolute_error', verbose=0)"
      ]
     },
     "execution_count": 64,
     "metadata": {},
     "output_type": "execute_result"
    }
   ],
   "source": [
    "grid.fit(X_train, y_train)"
   ]
  },
  {
   "cell_type": "code",
   "execution_count": 65,
   "metadata": {},
   "outputs": [
    {
     "data": {
      "text/plain": [
       "-11377.210660947703"
      ]
     },
     "execution_count": 65,
     "metadata": {},
     "output_type": "execute_result"
    }
   ],
   "source": [
    "grid.best_score_"
   ]
  },
  {
   "cell_type": "code",
   "execution_count": 66,
   "metadata": {},
   "outputs": [],
   "source": [
    "final_model = grid.best_estimator_"
   ]
  },
  {
   "cell_type": "code",
   "execution_count": 67,
   "metadata": {},
   "outputs": [
    {
     "data": {
      "text/plain": [
       "Pipeline(memory=None,\n",
       "         steps=[('scale', MinMaxScaler(copy=True, feature_range=(0, 1))),\n",
       "                ('normalize', Normalizer(copy=True, norm='l2')),\n",
       "                ('model',\n",
       "                 LinearRegression(copy_X=True, fit_intercept=True, n_jobs=None,\n",
       "                                  normalize=False))],\n",
       "         verbose=False)"
      ]
     },
     "execution_count": 67,
     "metadata": {},
     "output_type": "execute_result"
    }
   ],
   "source": [
    "final_model"
   ]
  },
  {
   "cell_type": "markdown",
   "metadata": {},
   "source": [
    "# Results"
   ]
  },
  {
   "cell_type": "code",
   "execution_count": 68,
   "metadata": {},
   "outputs": [],
   "source": [
    "learning_curve_res = u.get_learning_curves(final_model, X_train, y_train, score='neg_mean_absolute_error', cv=cv)"
   ]
  },
  {
   "cell_type": "code",
   "execution_count": 69,
   "metadata": {},
   "outputs": [
    {
     "data": {
      "image/png": "[encoded data removed]",
      "text/plain": [
       "<Figure size 864x576 with 1 Axes>"
      ]
     },
     "metadata": {},
     "output_type": "display_data"
    }
   ],
   "source": [
    "fig = plt.figure(figsize = (12, 8))\n",
    "plt.title('Learning Curves')\n",
    "sns.lineplot(x='size', y='score', hue='type', data=learning_curve_res)\n",
    "plt.ylim([plt.ylim()[0], 0])\n",
    "plt.show()"
   ]
  },
  {
   "cell_type": "code",
   "execution_count": 70,
   "metadata": {},
   "outputs": [],
   "source": [
    "cv_res = u.get_cv_res(final_model,\n",
    "                      X_train,\n",
    "                      y_train,\n",
    "                      score=['neg_mean_absolute_error',\n",
    "                             'r2',\n",
    "                             'explained_variance',\n",
    "                             'max_error'],\n",
    "                      cv=cv)"
   ]
  },
  {
   "cell_type": "code",
   "execution_count": 71,
   "metadata": {},
   "outputs": [
    {
     "name": "stdout",
     "output_type": "stream",
     "text": [
      "Mean fit_time, 0.00\n",
      "Mean score_time, 0.00\n",
      "Mean test_neg_mean_absolute_error, -11377.21\n",
      "Mean test_r2, 0.46\n",
      "Mean test_explained_variance, 0.47\n",
      "Mean test_max_error, -66381.90\n"
     ]
    }
   ],
   "source": [
    "print_cv_res(cv_res)"
   ]
  },
  {
   "cell_type": "code",
   "execution_count": 72,
   "metadata": {},
   "outputs": [],
   "source": [
    "pred = final_model.predict(X_test)"
   ]
  },
  {
   "cell_type": "code",
   "execution_count": 73,
   "metadata": {},
   "outputs": [],
   "source": [
    "y_pred = pd.Series(pred, index=y_test.index, name='predicted')"
   ]
  },
  {
   "cell_type": "code",
   "execution_count": 74,
   "metadata": {},
   "outputs": [
    {
     "name": "stdout",
     "output_type": "stream",
     "text": [
      "mean_absolute_error: 11753.79\n",
      "explained_variance: 0.50\n",
      "r2: 0.50\n",
      "max_error: 89077.91\n"
     ]
    }
   ],
   "source": [
    "u.print_scores(y_test, y_pred)"
   ]
  },
  {
   "cell_type": "code",
   "execution_count": 75,
   "metadata": {},
   "outputs": [
    {
     "name": "stdout",
     "output_type": "stream",
     "text": [
      "mean_absolute_error: 9221.22\n",
      "explained_variance: 0.57\n",
      "r2: 0.57\n",
      "max_error: 89991.00\n"
     ]
    }
   ],
   "source": [
    "u.print_scores(y_test, y_bench_test)"
   ]
  },
  {
   "cell_type": "code",
   "execution_count": 76,
   "metadata": {},
   "outputs": [
    {
     "data": {
      "image/png": "[encoded data removed]",
      "text/plain": [
       "<Figure size 1152x576 with 2 Axes>"
      ]
     },
     "metadata": {},
     "output_type": "display_data"
    }
   ],
   "source": [
    "fig = plt.figure(figsize=(16, 8))\n",
    "i = 1\n",
    "for dataset, dataset_name in zip([y_pred, y_bench_test], ['y_pred', 'y_bench']):\n",
    "    ax = plt.subplot(1, 2, i)\n",
    "    plt.scatter(y_test, dataset)\n",
    "    ax.set_xlabel('y_test')\n",
    "    ax.set_ylabel(dataset_name)\n",
    "    ax.axis('equal')\n",
    "    ax.axis('square')\n",
    "    ax.set_xlim([0,plt.xlim()[1]])\n",
    "    ax.set_ylim([0,plt.ylim()[1]])\n",
    "    _ = plt.plot([-5e7, 5e7], [-5e7, 5e7])\n",
    "    i += 1\n",
    "plt.suptitle('True VS Predicted', y=0.9)\n",
    "plt.subplots_adjust(wspace=0.3)\n",
    "plt.show()"
   ]
  },
  {
   "cell_type": "code",
   "execution_count": 77,
   "metadata": {},
   "outputs": [
    {
     "data": {
      "image/png": "[encoded data removed]",
      "text/plain": [
       "<Figure size 1152x576 with 2 Axes>"
      ]
     },
     "metadata": {},
     "output_type": "display_data"
    }
   ],
   "source": [
    "fig = plt.figure(figsize=(16, 8))\n",
    "i = 1\n",
    "for dataset, dataset_name in zip([y_pred, y_bench_test], ['y_pred', 'y_bench']):\n",
    "    ax = plt.subplot(1, 2, i)\n",
    "    to_plot = dataset.rename('predicted').to_frame().join(y_test)\n",
    "    to_plot['pred_diff'] = to_plot['predicted'] - to_plot['price_per_sq_m']\n",
    "    sns.distplot(to_plot.pred_diff)\n",
    "    plt.title(dataset_name)\n",
    "    i += 1\n",
    "plt.suptitle('Error Distribution')\n",
    "plt.show()"
   ]
  },
  {
   "cell_type": "code",
   "execution_count": 78,
   "metadata": {},
   "outputs": [],
   "source": [
    "if isinstance(final_model.named_steps['model'], linear_model.LinearRegression):\n",
    "    feature_importances = pd.Series(final_model.named_steps['model'].coef_, index=X.columns)\n",
    "    xlabel = 'feature coefficient'\n",
    "elif isinstance(final_model.named_steps['model'], ensemble.AdaBoostRegressor):\n",
    "    feature_importances = pd.Series(final_model.named_steps['model'].feature_importances_, index=X.columns)\n",
    "    xlabel = 'feature importance'"
   ]
  },
  {
   "cell_type": "code",
   "execution_count": 79,
   "metadata": {},
   "outputs": [
    {
     "data": {
      "image/png": "[encoded data removed]",
      "text/plain": [
       "<Figure size 1008x720 with 1 Axes>"
      ]
     },
     "metadata": {},
     "output_type": "display_data"
    }
   ],
   "source": [
    "to_plot = feature_importances.sort_values()\n",
    "plt.yticks(range(len(to_plot)), to_plot.index)\n",
    "plt.title('Feature Representation')\n",
    "plt.barh(range(len(to_plot)), to_plot)\n",
    "plt.xlabel(xlabel)\n",
    "plt.show()"
   ]
  },
  {
   "cell_type": "code",
   "execution_count": null,
   "metadata": {},
   "outputs": [],
   "source": []
  }
 ],
 "metadata": {
  "kernelspec": {
   "display_name": "Python 3",
   "language": "python",
   "name": "python3"
  },
  "language_info": {
   "codemirror_mode": {
    "name": "ipython",
    "version": 3
   },
   "file_extension": ".py",
   "mimetype": "text/x-python",
   "name": "python",
   "nbconvert_exporter": "python",
   "pygments_lexer": "ipython3",
   "version": "3.7.3"
  }
 },
 "nbformat": 4,
 "nbformat_minor": 2
}
