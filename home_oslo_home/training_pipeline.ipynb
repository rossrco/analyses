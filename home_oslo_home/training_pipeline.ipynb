{
 "cells": [
  {
   "cell_type": "code",
   "execution_count": 1,
   "metadata": {},
   "outputs": [],
   "source": [
    "import pandas as pd\n",
    "import numpy as np\n",
    "from sklearn import pipeline\n",
    "from sklearn import base\n",
    "from sklearn import preprocessing\n",
    "from sklearn import model_selection\n",
    "from sklearn import ensemble\n",
    "from sklearn import neighbors\n",
    "import matplotlib.pyplot as plt\n",
    "import seaborn as sns\n",
    "from google.cloud import bigquery\n",
    "import utils as u"
   ]
  },
  {
   "cell_type": "code",
   "execution_count": 2,
   "metadata": {},
   "outputs": [],
   "source": [
    "pd.set_option('display.max_colwidth', 20)\n",
    "pd.set_option('display.max_columns', 100)\n",
    "pd.set_option('display.max_rows', 100)\n",
    "from IPython.display import display, HTML\n",
    "%matplotlib inline\n",
    "sns.set(style='dark')\n",
    "plt.rcParams['figure.figsize'] = [14, 10]"
   ]
  },
  {
   "cell_type": "code",
   "execution_count": 3,
   "metadata": {},
   "outputs": [],
   "source": [
    "# account for inflation?"
   ]
  },
  {
   "cell_type": "code",
   "execution_count": 4,
   "metadata": {},
   "outputs": [],
   "source": [
    "sample_size = 2\n",
    "random_seed = 42\n",
    "test_size = 0.3\n",
    "cv = 3"
   ]
  },
  {
   "cell_type": "code",
   "execution_count": 5,
   "metadata": {},
   "outputs": [],
   "source": [
    "queries = u.get_queries('queries')"
   ]
  },
  {
   "cell_type": "code",
   "execution_count": 6,
   "metadata": {},
   "outputs": [],
   "source": [
    "bq_client = bigquery.Client()"
   ]
  },
  {
   "cell_type": "code",
   "execution_count": 7,
   "metadata": {},
   "outputs": [],
   "source": [
    "data = u.get_data(queries, 'training_data.sql', bq_client)"
   ]
  },
  {
   "cell_type": "code",
   "execution_count": 8,
   "metadata": {},
   "outputs": [
    {
     "data": {
      "text/html": [
       "<div>\n",
       "<style scoped>\n",
       "    .dataframe tbody tr th:only-of-type {\n",
       "        vertical-align: middle;\n",
       "    }\n",
       "\n",
       "    .dataframe tbody tr th {\n",
       "        vertical-align: top;\n",
       "    }\n",
       "\n",
       "    .dataframe thead th {\n",
       "        text-align: right;\n",
       "    }\n",
       "</style>\n",
       "<table border=\"1\" class=\"dataframe\">\n",
       "  <thead>\n",
       "    <tr style=\"text-align: right;\">\n",
       "      <th></th>\n",
       "      <th>ad_id</th>\n",
       "      <th>apt_id</th>\n",
       "      <th>time_s</th>\n",
       "      <th>property_type_apartment</th>\n",
       "      <th>new_building</th>\n",
       "      <th>construction_year</th>\n",
       "      <th>ownership_full</th>\n",
       "      <th>floor</th>\n",
       "      <th>num_bedrooms</th>\n",
       "      <th>primary_size</th>\n",
       "      <th>address</th>\n",
       "      <th>price_per_sq_m</th>\n",
       "    </tr>\n",
       "  </thead>\n",
       "  <tbody>\n",
       "    <tr>\n",
       "      <th>0</th>\n",
       "      <td>120529958</td>\n",
       "      <td>Bolig 7</td>\n",
       "      <td>6915.0</td>\n",
       "      <td>0</td>\n",
       "      <td>1</td>\n",
       "      <td>2019.0</td>\n",
       "      <td>1</td>\n",
       "      <td>NaN</td>\n",
       "      <td>4.0</td>\n",
       "      <td>144.0</td>\n",
       "      <td>Gjeriveien 16, 2...</td>\n",
       "      <td>40354.0</td>\n",
       "    </tr>\n",
       "    <tr>\n",
       "      <th>1</th>\n",
       "      <td>120529958</td>\n",
       "      <td>Bolig 8</td>\n",
       "      <td>6915.0</td>\n",
       "      <td>0</td>\n",
       "      <td>1</td>\n",
       "      <td>2019.0</td>\n",
       "      <td>1</td>\n",
       "      <td>NaN</td>\n",
       "      <td>4.0</td>\n",
       "      <td>144.0</td>\n",
       "      <td>Gjeriveien 16, 2...</td>\n",
       "      <td>41743.0</td>\n",
       "    </tr>\n",
       "    <tr>\n",
       "      <th>2</th>\n",
       "      <td>131896301</td>\n",
       "      <td>20</td>\n",
       "      <td>6989.0</td>\n",
       "      <td>0</td>\n",
       "      <td>1</td>\n",
       "      <td>2019.0</td>\n",
       "      <td>1</td>\n",
       "      <td>NaN</td>\n",
       "      <td>4.0</td>\n",
       "      <td>144.0</td>\n",
       "      <td>Plutosvingen, 21...</td>\n",
       "      <td>32375.0</td>\n",
       "    </tr>\n",
       "    <tr>\n",
       "      <th>3</th>\n",
       "      <td>131917001</td>\n",
       "      <td>Enebolig i kjede...</td>\n",
       "      <td>4327.0</td>\n",
       "      <td>0</td>\n",
       "      <td>1</td>\n",
       "      <td>2019.0</td>\n",
       "      <td>1</td>\n",
       "      <td>NaN</td>\n",
       "      <td>4.0</td>\n",
       "      <td>115.0</td>\n",
       "      <td>Kornkroken, 2055...</td>\n",
       "      <td>39197.0</td>\n",
       "    </tr>\n",
       "    <tr>\n",
       "      <th>4</th>\n",
       "      <td>135078656</td>\n",
       "      <td>B1.2.</td>\n",
       "      <td>4336.0</td>\n",
       "      <td>0</td>\n",
       "      <td>1</td>\n",
       "      <td>2019.0</td>\n",
       "      <td>1</td>\n",
       "      <td>NaN</td>\n",
       "      <td>3.0</td>\n",
       "      <td>102.0</td>\n",
       "      <td>Svalevegen 2-16,...</td>\n",
       "      <td>38235.0</td>\n",
       "    </tr>\n",
       "  </tbody>\n",
       "</table>\n",
       "</div>"
      ],
      "text/plain": [
       "       ad_id               apt_id  time_s  property_type_apartment  \\\n",
       "0  120529958              Bolig 7  6915.0                    0       \n",
       "1  120529958              Bolig 8  6915.0                    0       \n",
       "2  131896301                   20  6989.0                    0       \n",
       "3  131917001  Enebolig i kjede...  4327.0                    0       \n",
       "4  135078656                B1.2.  4336.0                    0       \n",
       "\n",
       "   new_building  construction_year  ownership_full  floor  num_bedrooms  \\\n",
       "0             1             2019.0               1    NaN           4.0   \n",
       "1             1             2019.0               1    NaN           4.0   \n",
       "2             1             2019.0               1    NaN           4.0   \n",
       "3             1             2019.0               1    NaN           4.0   \n",
       "4             1             2019.0               1    NaN           3.0   \n",
       "\n",
       "   primary_size              address  price_per_sq_m  \n",
       "0         144.0  Gjeriveien 16, 2...         40354.0  \n",
       "1         144.0  Gjeriveien 16, 2...         41743.0  \n",
       "2         144.0  Plutosvingen, 21...         32375.0  \n",
       "3         115.0  Kornkroken, 2055...         39197.0  \n",
       "4         102.0  Svalevegen 2-16,...         38235.0  "
      ]
     },
     "execution_count": 8,
     "metadata": {},
     "output_type": "execute_result"
    }
   ],
   "source": [
    "data.head()"
   ]
  },
  {
   "cell_type": "code",
   "execution_count": 9,
   "metadata": {},
   "outputs": [
    {
     "data": {
      "text/plain": [
       "(6288, 12)"
      ]
     },
     "execution_count": 9,
     "metadata": {},
     "output_type": "execute_result"
    }
   ],
   "source": [
    "data.shape"
   ]
  },
  {
   "cell_type": "code",
   "execution_count": null,
   "metadata": {},
   "outputs": [],
   "source": []
  },
  {
   "cell_type": "code",
   "execution_count": 10,
   "metadata": {},
   "outputs": [],
   "source": [
    "data = data[data.address.notnull()].copy()"
   ]
  },
  {
   "cell_type": "code",
   "execution_count": 11,
   "metadata": {},
   "outputs": [],
   "source": [
    "data_sample = data.groupby('ad_id').apply(lambda obj: obj.sample(n=sample_size, random_state=random_seed)\n",
    "                                          if len(obj) > sample_size\n",
    "                                          else obj.sample(len(obj)))"
   ]
  },
  {
   "cell_type": "code",
   "execution_count": 12,
   "metadata": {},
   "outputs": [],
   "source": [
    "data = data.set_index(['ad_id', 'apt_id'], drop=True)"
   ]
  },
  {
   "cell_type": "code",
   "execution_count": 13,
   "metadata": {},
   "outputs": [
    {
     "data": {
      "text/plain": [
       "(6288, 10)"
      ]
     },
     "execution_count": 13,
     "metadata": {},
     "output_type": "execute_result"
    }
   ],
   "source": [
    "data.shape"
   ]
  },
  {
   "cell_type": "code",
   "execution_count": null,
   "metadata": {},
   "outputs": [],
   "source": []
  },
  {
   "cell_type": "code",
   "execution_count": 14,
   "metadata": {},
   "outputs": [],
   "source": [
    "class PostCodeExtractor(base.TransformerMixin, base.BaseEstimator):\n",
    "    '''Extract the post code from the address column\n",
    "    and drop the address column'''\n",
    "    \n",
    "    def __inint__(self):\n",
    "        pass\n",
    "    \n",
    "    def fit(self, X, y=None):\n",
    "        return self\n",
    "    \n",
    "    def transform(self, X):\n",
    "        X_c = X.copy()\n",
    "        X_c['post_code'] = X_c['address'].str.extract(r'.*(\\d{4}).*', expand=False)\n",
    "        return X_c\n",
    "\n",
    "\n",
    "class PostCodeEnricher(base.TransformerMixin, base.BaseEstimator):\n",
    "    '''Extract the post code data from bigquery,\n",
    "    merge it with the training data.'''\n",
    "    \n",
    "    def __init__(self):\n",
    "        pass\n",
    "    \n",
    "    def fit(self, X, y=None):\n",
    "        return self\n",
    "    \n",
    "    def transform(self, X):\n",
    "        post_codes = u.get_data(queries, 'post_code_area_name.sql', bq_client).set_index('post_code', drop=True)\n",
    "        X = X.merge(post_codes, how='left', left_on='post_code', right_index=True)\n",
    "        return X\n",
    "\n",
    "\n",
    "class GmapsPlaceEnricher(base.TransformerMixin, base.BaseEstimator):\n",
    "    '''Extract the gmaps data from bigquery,\n",
    "    merge it with the training data.'''\n",
    "    \n",
    "    def __init__(self):\n",
    "        pass\n",
    "    \n",
    "    def fit(self, X, y=None):\n",
    "        return self\n",
    "    \n",
    "    def transform(self, X):\n",
    "        gmaps = u.get_data(queries, 'gmaps_lodging_dining_places.sql', bq_client).set_index('post_code', drop=True)\n",
    "        X = X.merge(gmaps, how='left', left_on='post_code', right_index=True)\n",
    "        return X\n",
    "\n",
    "\n",
    "class NhsDataEnricher(base.TransformerMixin, base.BaseEstimator):\n",
    "    '''Extract the nhs data from bigquery,\n",
    "    merge it with the training data.'''\n",
    "    \n",
    "    def __init__(self):\n",
    "        pass\n",
    "    \n",
    "    def fit(self, X, y=None):\n",
    "        return self\n",
    "    \n",
    "    def transform(self, X):\n",
    "        nhs = u.get_data(queries, 'uni_graduates_by_area_name.sql', bq_client).set_index('area_name', drop=True)\n",
    "        X = X.merge(nhs, how='left', left_on='area_name', right_index=True)\n",
    "        return X\n",
    "\n",
    "\n",
    "class HistoricDataEnricher(base.TransformerMixin, base.BaseEstimator):\n",
    "    '''Extract the mean historic prices per\n",
    "    post cide and merge them with the\n",
    "    training data'''\n",
    "    \n",
    "    def __init__(self):\n",
    "        pass\n",
    "    \n",
    "    def fit(self, X, y=None):\n",
    "        return self\n",
    "    \n",
    "    def transform(self, X):\n",
    "        historic = u.get_data(queries, 'aggregate_price_last_n_months.sql', bq_client).set_index('post_code', drop=True)\n",
    "        X = X.merge(historic, how='left', left_on='post_code', right_index=True)\n",
    "        return X\n",
    "\n",
    "\n",
    "class AuxiliaryColumnRemover(base.TransformerMixin, base.BaseEstimator):\n",
    "    '''Remove the helper columns.'''\n",
    "    \n",
    "    def __init__(self):\n",
    "        pass\n",
    "    \n",
    "    def fit(self, X, y=None):\n",
    "        return self\n",
    "    \n",
    "    def transform(self, X):\n",
    "        X.drop(['post_code', 'area_name', 'settlement_name', 'address'], axis=1, inplace=True)\n",
    "        return X\n",
    "\n",
    "\n",
    "class CustomImputer(base.TransformerMixin, base.BaseEstimator):\n",
    "    '''Impute various columns.'''\n",
    "    \n",
    "    def __init__(self):\n",
    "        pass\n",
    "    \n",
    "    def fit(self, X, y=None):\n",
    "        self.columns = X.columns\n",
    "        return self\n",
    "    \n",
    "    def transform(self, X):\n",
    "        X['floor'].fillna(1, inplace=True)\n",
    "        X['time_s'].fillna(60 * 60 * 4, inplace=True)\n",
    "        X['num_bedrooms'].fillna(0, inplace=True)\n",
    "        X['num_lodging_places'].fillna(0, inplace=True)\n",
    "        X['num_dining_places'].fillna(0, inplace=True)\n",
    "        X['median_price_per_sq_m'].fillna(X.median_price_per_sq_m.median(), inplace=True)\n",
    "        X['uni_graduates'].fillna(X.uni_graduates.mean(), inplace=True)\n",
    "        return X"
   ]
  },
  {
   "cell_type": "code",
   "execution_count": 15,
   "metadata": {},
   "outputs": [],
   "source": [
    "data_enrichment = [('extract_post_code', PostCodeExtractor()),\n",
    "                   ('add_area_name', PostCodeEnricher()),\n",
    "                   ('add_gmaps_data', GmapsPlaceEnricher()),\n",
    "                   ('add_nhs_data', NhsDataEnricher()),\n",
    "                   ('add_historic_data', HistoricDataEnricher()),\n",
    "                   ('remove_helper_columns', AuxiliaryColumnRemover()),\n",
    "                   ('impute_features', CustomImputer())]\n",
    "\n",
    "model_steps = [('scale', preprocessing.MinMaxScaler()),\n",
    "               ('normalize', preprocessing.Normalizer()),\n",
    "               ('model', ensemble.AdaBoostRegressor(random_state=random_seed))]"
   ]
  },
  {
   "cell_type": "code",
   "execution_count": 16,
   "metadata": {},
   "outputs": [],
   "source": [
    "enrichment_pipeline = pipeline.Pipeline(data_enrichment)"
   ]
  },
  {
   "cell_type": "code",
   "execution_count": 17,
   "metadata": {},
   "outputs": [],
   "source": [
    "model_pipeline = pipeline.Pipeline(model_steps)"
   ]
  },
  {
   "cell_type": "code",
   "execution_count": 18,
   "metadata": {},
   "outputs": [
    {
     "data": {
      "text/plain": [
       "floor                      943\n",
       "time_s                     147\n",
       "num_bedrooms               136\n",
       "price_per_sq_m               0\n",
       "address                      0\n",
       "primary_size                 0\n",
       "ownership_full               0\n",
       "construction_year            0\n",
       "new_building                 0\n",
       "property_type_apartment      0\n",
       "dtype: int64"
      ]
     },
     "execution_count": 18,
     "metadata": {},
     "output_type": "execute_result"
    }
   ],
   "source": [
    "data.isna().sum(axis=0).sort_values(ascending=False)[:20]"
   ]
  },
  {
   "cell_type": "code",
   "execution_count": 19,
   "metadata": {},
   "outputs": [],
   "source": [
    "X = data.drop('price_per_sq_m', axis=1)\n",
    "y = data.price_per_sq_m"
   ]
  },
  {
   "cell_type": "code",
   "execution_count": 20,
   "metadata": {},
   "outputs": [],
   "source": [
    "X = enrichment_pipeline.fit_transform(X)"
   ]
  },
  {
   "cell_type": "code",
   "execution_count": 21,
   "metadata": {},
   "outputs": [
    {
     "data": {
      "text/html": [
       "<div>\n",
       "<style scoped>\n",
       "    .dataframe tbody tr th:only-of-type {\n",
       "        vertical-align: middle;\n",
       "    }\n",
       "\n",
       "    .dataframe tbody tr th {\n",
       "        vertical-align: top;\n",
       "    }\n",
       "\n",
       "    .dataframe thead th {\n",
       "        text-align: right;\n",
       "    }\n",
       "</style>\n",
       "<table border=\"1\" class=\"dataframe\">\n",
       "  <thead>\n",
       "    <tr style=\"text-align: right;\">\n",
       "      <th></th>\n",
       "      <th></th>\n",
       "      <th>time_s</th>\n",
       "      <th>property_type_apartment</th>\n",
       "      <th>new_building</th>\n",
       "      <th>construction_year</th>\n",
       "      <th>ownership_full</th>\n",
       "      <th>floor</th>\n",
       "      <th>num_bedrooms</th>\n",
       "      <th>primary_size</th>\n",
       "      <th>num_lodging_places</th>\n",
       "      <th>num_dining_places</th>\n",
       "      <th>uni_graduates</th>\n",
       "      <th>median_price_per_sq_m</th>\n",
       "    </tr>\n",
       "    <tr>\n",
       "      <th>ad_id</th>\n",
       "      <th>apt_id</th>\n",
       "      <th></th>\n",
       "      <th></th>\n",
       "      <th></th>\n",
       "      <th></th>\n",
       "      <th></th>\n",
       "      <th></th>\n",
       "      <th></th>\n",
       "      <th></th>\n",
       "      <th></th>\n",
       "      <th></th>\n",
       "      <th></th>\n",
       "      <th></th>\n",
       "    </tr>\n",
       "  </thead>\n",
       "  <tbody>\n",
       "    <tr>\n",
       "      <th rowspan=\"2\" valign=\"top\">120529958</th>\n",
       "      <th>Bolig 7</th>\n",
       "      <td>6915.0</td>\n",
       "      <td>0</td>\n",
       "      <td>1</td>\n",
       "      <td>2019.0</td>\n",
       "      <td>1</td>\n",
       "      <td>1.0</td>\n",
       "      <td>4.0</td>\n",
       "      <td>144.0</td>\n",
       "      <td>0.0</td>\n",
       "      <td>1.0</td>\n",
       "      <td>0.47</td>\n",
       "      <td>51637</td>\n",
       "    </tr>\n",
       "    <tr>\n",
       "      <th>Bolig 8</th>\n",
       "      <td>6915.0</td>\n",
       "      <td>0</td>\n",
       "      <td>1</td>\n",
       "      <td>2019.0</td>\n",
       "      <td>1</td>\n",
       "      <td>1.0</td>\n",
       "      <td>4.0</td>\n",
       "      <td>144.0</td>\n",
       "      <td>0.0</td>\n",
       "      <td>1.0</td>\n",
       "      <td>0.47</td>\n",
       "      <td>51637</td>\n",
       "    </tr>\n",
       "    <tr>\n",
       "      <th>131896301</th>\n",
       "      <th>20</th>\n",
       "      <td>6989.0</td>\n",
       "      <td>0</td>\n",
       "      <td>1</td>\n",
       "      <td>2019.0</td>\n",
       "      <td>1</td>\n",
       "      <td>1.0</td>\n",
       "      <td>4.0</td>\n",
       "      <td>144.0</td>\n",
       "      <td>0.0</td>\n",
       "      <td>0.0</td>\n",
       "      <td>0.34</td>\n",
       "      <td>41818</td>\n",
       "    </tr>\n",
       "    <tr>\n",
       "      <th>131917001</th>\n",
       "      <th>Enebolig i kjede, rekke 3, bolig 39</th>\n",
       "      <td>4327.0</td>\n",
       "      <td>0</td>\n",
       "      <td>1</td>\n",
       "      <td>2019.0</td>\n",
       "      <td>1</td>\n",
       "      <td>1.0</td>\n",
       "      <td>4.0</td>\n",
       "      <td>115.0</td>\n",
       "      <td>0.0</td>\n",
       "      <td>0.0</td>\n",
       "      <td>0.38</td>\n",
       "      <td>40971</td>\n",
       "    </tr>\n",
       "    <tr>\n",
       "      <th>135078656</th>\n",
       "      <th>B1.2.</th>\n",
       "      <td>4336.0</td>\n",
       "      <td>0</td>\n",
       "      <td>1</td>\n",
       "      <td>2019.0</td>\n",
       "      <td>1</td>\n",
       "      <td>1.0</td>\n",
       "      <td>3.0</td>\n",
       "      <td>102.0</td>\n",
       "      <td>0.0</td>\n",
       "      <td>0.0</td>\n",
       "      <td>0.34</td>\n",
       "      <td>37745</td>\n",
       "    </tr>\n",
       "  </tbody>\n",
       "</table>\n",
       "</div>"
      ],
      "text/plain": [
       "                                time_s  property_type_apartment  new_building  \\\n",
       "ad_id     apt_id                                                                \n",
       "120529958 Bolig 7               6915.0                    0                 1   \n",
       "          Bolig 8               6915.0                    0                 1   \n",
       "131896301 20                    6989.0                    0                 1   \n",
       "131917001 Enebolig i kjede,...  4327.0                    0                 1   \n",
       "135078656 B1.2.                 4336.0                    0                 1   \n",
       "\n",
       "                                construction_year  ownership_full  floor  \\\n",
       "ad_id     apt_id                                                           \n",
       "120529958 Bolig 7                          2019.0               1    1.0   \n",
       "          Bolig 8                          2019.0               1    1.0   \n",
       "131896301 20                               2019.0               1    1.0   \n",
       "131917001 Enebolig i kjede,...             2019.0               1    1.0   \n",
       "135078656 B1.2.                            2019.0               1    1.0   \n",
       "\n",
       "                                num_bedrooms  primary_size  \\\n",
       "ad_id     apt_id                                             \n",
       "120529958 Bolig 7                        4.0         144.0   \n",
       "          Bolig 8                        4.0         144.0   \n",
       "131896301 20                             4.0         144.0   \n",
       "131917001 Enebolig i kjede,...           4.0         115.0   \n",
       "135078656 B1.2.                          3.0         102.0   \n",
       "\n",
       "                                num_lodging_places  num_dining_places  \\\n",
       "ad_id     apt_id                                                        \n",
       "120529958 Bolig 7                              0.0                1.0   \n",
       "          Bolig 8                              0.0                1.0   \n",
       "131896301 20                                   0.0                0.0   \n",
       "131917001 Enebolig i kjede,...                 0.0                0.0   \n",
       "135078656 B1.2.                                0.0                0.0   \n",
       "\n",
       "                                uni_graduates  median_price_per_sq_m  \n",
       "ad_id     apt_id                                                      \n",
       "120529958 Bolig 7                        0.47                51637    \n",
       "          Bolig 8                        0.47                51637    \n",
       "131896301 20                             0.34                41818    \n",
       "131917001 Enebolig i kjede,...           0.38                40971    \n",
       "135078656 B1.2.                          0.34                37745    "
      ]
     },
     "execution_count": 21,
     "metadata": {},
     "output_type": "execute_result"
    }
   ],
   "source": [
    "X.head()"
   ]
  },
  {
   "cell_type": "code",
   "execution_count": 22,
   "metadata": {},
   "outputs": [],
   "source": [
    "X_train, X_test, y_train, y_test = model_selection.train_test_split(X, y, test_size=test_size, random_state=random_seed)"
   ]
  },
  {
   "cell_type": "code",
   "execution_count": 23,
   "metadata": {},
   "outputs": [
    {
     "data": {
      "text/plain": [
       "(4401, 12)"
      ]
     },
     "execution_count": 23,
     "metadata": {},
     "output_type": "execute_result"
    }
   ],
   "source": [
    "X_train.shape"
   ]
  },
  {
   "cell_type": "code",
   "execution_count": 24,
   "metadata": {},
   "outputs": [
    {
     "data": {
      "text/plain": [
       "Pipeline(memory=None,\n",
       "         steps=[('scale', MinMaxScaler(copy=True, feature_range=(0, 1))),\n",
       "                ('normalize', Normalizer(copy=True, norm='l2')),\n",
       "                ('model',\n",
       "                 AdaBoostRegressor(base_estimator=None, learning_rate=1.0,\n",
       "                                   loss='linear', n_estimators=50,\n",
       "                                   random_state=42))],\n",
       "         verbose=False)"
      ]
     },
     "execution_count": 24,
     "metadata": {},
     "output_type": "execute_result"
    }
   ],
   "source": [
    "model_pipeline.fit(X_train, y_train)"
   ]
  },
  {
   "cell_type": "code",
   "execution_count": 25,
   "metadata": {},
   "outputs": [],
   "source": [
    "def get_learning_curves(estimator, X, y, train_sizes=np.arange(0.1, 1.1, 0.1), score='neg_mean_absolute_error', cv=5):\n",
    "    train_sizes, train_scores, test_scores = model_selection.learning_curve(estimator, X, y, train_sizes=train_sizes, scoring=score, cv=cv)\n",
    "    curve_data = pd.DataFrame(columns = range(train_scores.shape[1]))\n",
    "    for result, result_type in zip([train_scores, test_scores], ['train', 'test']):\n",
    "        frame = pd.DataFrame(result)\n",
    "        frame['size'] = train_sizes\n",
    "        frame['type'] = result_type\n",
    "        curve_data = curve_data.append(frame, ignore_index = True)\n",
    "    curve_data = curve_data.melt(id_vars = ['size', 'type'], var_name = 'cv_fit', value_name = 'score')\n",
    "    return curve_data\n",
    "\n",
    "\n",
    "def get_cv_res(estimator, X, y, score=['neg_mean_absolute_error'], cv=5):\n",
    "    cross_val = model_selection.cross_validate(estimator, X, y, scoring=score, cv=cv)\n",
    "    return cross_val\n",
    "\n",
    "\n",
    "def print_cv_res(cross_val):\n",
    "    for key, val in cross_val.items():\n",
    "        print('Mean {}, {:.2f}'.format(key, val.mean()))"
   ]
  },
  {
   "cell_type": "code",
   "execution_count": 26,
   "metadata": {},
   "outputs": [],
   "source": [
    "learning_curve_res = get_learning_curves(model_pipeline, X_train, y_train, score='neg_median_absolute_error', cv=cv)"
   ]
  },
  {
   "cell_type": "code",
   "execution_count": 27,
   "metadata": {},
   "outputs": [
    {
     "data": {
      "image/png": "[encoded data removed]",
      "text/plain": [
       "<Figure size 864x576 with 1 Axes>"
      ]
     },
     "metadata": {},
     "output_type": "display_data"
    }
   ],
   "source": [
    "fig = plt.figure(figsize = (12, 8))\n",
    "plt.title('Learning Curves')\n",
    "sns.lineplot(x='size', y='score', hue='type', data=learning_curve_res)\n",
    "plt.show()"
   ]
  },
  {
   "cell_type": "code",
   "execution_count": 28,
   "metadata": {},
   "outputs": [],
   "source": [
    "cv_res = get_cv_res(model_pipeline,\n",
    "                    X_train,\n",
    "                    y_train,\n",
    "                    score=['neg_median_absolute_error',\n",
    "                           'r2',\n",
    "                           'explained_variance',\n",
    "                           'max_error'],\n",
    "                    cv=cv)"
   ]
  },
  {
   "cell_type": "code",
   "execution_count": 29,
   "metadata": {},
   "outputs": [
    {
     "name": "stdout",
     "output_type": "stream",
     "text": [
      "Mean fit_time, 0.18\n",
      "Mean score_time, 0.03\n",
      "Mean test_neg_median_absolute_error, -8085.21\n",
      "Mean test_r2, 0.73\n",
      "Mean test_explained_variance, 0.78\n",
      "Mean test_max_error, -68955.98\n"
     ]
    }
   ],
   "source": [
    "print_cv_res(cv_res)"
   ]
  },
  {
   "cell_type": "code",
   "execution_count": null,
   "metadata": {},
   "outputs": [],
   "source": []
  },
  {
   "cell_type": "code",
   "execution_count": 30,
   "metadata": {},
   "outputs": [],
   "source": [
    "pred = model_pipeline.predict(X_test)"
   ]
  },
  {
   "cell_type": "code",
   "execution_count": 31,
   "metadata": {},
   "outputs": [],
   "source": [
    "y_pred = pd.Series(pred, index=y_test.index, name='predicted')"
   ]
  },
  {
   "cell_type": "code",
   "execution_count": 32,
   "metadata": {},
   "outputs": [
    {
     "data": {
      "text/plain": [
       "ad_id      apt_id\n",
       "106186889  A401      98425.910547\n",
       "147944287  NaN       86816.219328\n",
       "148030792  NaN       85135.234559\n",
       "151176430  HUS 4     67427.823529\n",
       "110808466  C62       67457.165680\n",
       "Name: predicted, dtype: float64"
      ]
     },
     "execution_count": 32,
     "metadata": {},
     "output_type": "execute_result"
    }
   ],
   "source": [
    "y_pred.head()"
   ]
  },
  {
   "cell_type": "code",
   "execution_count": 33,
   "metadata": {},
   "outputs": [
    {
     "data": {
      "image/png": "[encoded data removed]",
      "text/plain": [
       "<Figure size 1008x720 with 1 Axes>"
      ]
     },
     "metadata": {},
     "output_type": "display_data"
    }
   ],
   "source": [
    "plt.scatter(y_test, y_pred)\n",
    "plt.xlabel('y_test')\n",
    "plt.ylabel('y_pred')\n",
    "plt.axis('equal')\n",
    "plt.axis('square')\n",
    "plt.xlim([0,plt.xlim()[1]])\n",
    "plt.ylim([0,plt.ylim()[1]])\n",
    "_ = plt.plot([-5e7, 5e7], [-5e7, 5e7])\n",
    "plt.title('True VS Predicted')\n",
    "plt.show()"
   ]
  },
  {
   "cell_type": "code",
   "execution_count": 34,
   "metadata": {},
   "outputs": [],
   "source": [
    "to_plot = X_test.join(y_pred).join(y_test)\n",
    "to_plot['pred_diff'] = to_plot['predicted'] - to_plot['price_per_sq_m']"
   ]
  },
  {
   "cell_type": "code",
   "execution_count": 35,
   "metadata": {},
   "outputs": [
    {
     "data": {
      "text/plain": [
       "<matplotlib.axes._subplots.AxesSubplot at 0x10bdd9198>"
      ]
     },
     "execution_count": 35,
     "metadata": {},
     "output_type": "execute_result"
    },
    {
     "data": {
      "image/png": "[encoded data removed]",
      "text/plain": [
       "<Figure size 1008x720 with 1 Axes>"
      ]
     },
     "metadata": {},
     "output_type": "display_data"
    }
   ],
   "source": [
    "sns.distplot(to_plot.pred_diff)"
   ]
  },
  {
   "cell_type": "code",
   "execution_count": 36,
   "metadata": {},
   "outputs": [],
   "source": [
    "feature_importances = pd.Series(model_pipeline.named_steps['model'].feature_importances_,\n",
    "                                index=enrichment_pipeline.named_steps['impute_features'].columns).sort_values(ascending=True)"
   ]
  },
  {
   "cell_type": "code",
   "execution_count": 37,
   "metadata": {},
   "outputs": [
    {
     "data": {
      "image/png": "[encoded data removed]",
      "text/plain": [
       "<Figure size 1008x720 with 1 Axes>"
      ]
     },
     "metadata": {},
     "output_type": "display_data"
    }
   ],
   "source": [
    "to_plot = feature_importances\n",
    "plt.yticks(range(len(to_plot)), to_plot.index)\n",
    "plt.title('Feature Importances')\n",
    "plt.barh(range(len(to_plot)), to_plot)\n",
    "plt.show()"
   ]
  },
  {
   "cell_type": "code",
   "execution_count": 38,
   "metadata": {},
   "outputs": [
    {
     "data": {
      "text/html": [
       "<style  type=\"text/css\" >\n",
       "</style><table id=\"T_d5d8fdcc_b4f5_11e9_9324_acde48001122\" ><thead>    <tr>        <th class=\"blank level0\" ></th>        <th class=\"col_heading level0 col0\" >importance</th>    </tr></thead><tbody>\n",
       "                <tr>\n",
       "                        <th id=\"T_d5d8fdcc_b4f5_11e9_9324_acde48001122level0_row0\" class=\"row_heading level0 row0\" >num_lodging_places</th>\n",
       "                        <td id=\"T_d5d8fdcc_b4f5_11e9_9324_acde48001122row0_col0\" class=\"data row0 col0\" >0.0%</td>\n",
       "            </tr>\n",
       "            <tr>\n",
       "                        <th id=\"T_d5d8fdcc_b4f5_11e9_9324_acde48001122level0_row1\" class=\"row_heading level0 row1\" >floor</th>\n",
       "                        <td id=\"T_d5d8fdcc_b4f5_11e9_9324_acde48001122row1_col0\" class=\"data row1 col0\" >1.7%</td>\n",
       "            </tr>\n",
       "            <tr>\n",
       "                        <th id=\"T_d5d8fdcc_b4f5_11e9_9324_acde48001122level0_row2\" class=\"row_heading level0 row2\" >uni_graduates</th>\n",
       "                        <td id=\"T_d5d8fdcc_b4f5_11e9_9324_acde48001122row2_col0\" class=\"data row2 col0\" >2.1%</td>\n",
       "            </tr>\n",
       "            <tr>\n",
       "                        <th id=\"T_d5d8fdcc_b4f5_11e9_9324_acde48001122level0_row3\" class=\"row_heading level0 row3\" >num_dining_places</th>\n",
       "                        <td id=\"T_d5d8fdcc_b4f5_11e9_9324_acde48001122row3_col0\" class=\"data row3 col0\" >2.5%</td>\n",
       "            </tr>\n",
       "            <tr>\n",
       "                        <th id=\"T_d5d8fdcc_b4f5_11e9_9324_acde48001122level0_row4\" class=\"row_heading level0 row4\" >primary_size</th>\n",
       "                        <td id=\"T_d5d8fdcc_b4f5_11e9_9324_acde48001122row4_col0\" class=\"data row4 col0\" >4.0%</td>\n",
       "            </tr>\n",
       "            <tr>\n",
       "                        <th id=\"T_d5d8fdcc_b4f5_11e9_9324_acde48001122level0_row5\" class=\"row_heading level0 row5\" >num_bedrooms</th>\n",
       "                        <td id=\"T_d5d8fdcc_b4f5_11e9_9324_acde48001122row5_col0\" class=\"data row5 col0\" >4.2%</td>\n",
       "            </tr>\n",
       "            <tr>\n",
       "                        <th id=\"T_d5d8fdcc_b4f5_11e9_9324_acde48001122level0_row6\" class=\"row_heading level0 row6\" >construction_year</th>\n",
       "                        <td id=\"T_d5d8fdcc_b4f5_11e9_9324_acde48001122row6_col0\" class=\"data row6 col0\" >4.6%</td>\n",
       "            </tr>\n",
       "            <tr>\n",
       "                        <th id=\"T_d5d8fdcc_b4f5_11e9_9324_acde48001122level0_row7\" class=\"row_heading level0 row7\" >ownership_full</th>\n",
       "                        <td id=\"T_d5d8fdcc_b4f5_11e9_9324_acde48001122row7_col0\" class=\"data row7 col0\" >9.1%</td>\n",
       "            </tr>\n",
       "            <tr>\n",
       "                        <th id=\"T_d5d8fdcc_b4f5_11e9_9324_acde48001122level0_row8\" class=\"row_heading level0 row8\" >new_building</th>\n",
       "                        <td id=\"T_d5d8fdcc_b4f5_11e9_9324_acde48001122row8_col0\" class=\"data row8 col0\" >11.4%</td>\n",
       "            </tr>\n",
       "            <tr>\n",
       "                        <th id=\"T_d5d8fdcc_b4f5_11e9_9324_acde48001122level0_row9\" class=\"row_heading level0 row9\" >property_type_apartment</th>\n",
       "                        <td id=\"T_d5d8fdcc_b4f5_11e9_9324_acde48001122row9_col0\" class=\"data row9 col0\" >12.8%</td>\n",
       "            </tr>\n",
       "            <tr>\n",
       "                        <th id=\"T_d5d8fdcc_b4f5_11e9_9324_acde48001122level0_row10\" class=\"row_heading level0 row10\" >median_price_per_sq_m</th>\n",
       "                        <td id=\"T_d5d8fdcc_b4f5_11e9_9324_acde48001122row10_col0\" class=\"data row10 col0\" >20.1%</td>\n",
       "            </tr>\n",
       "            <tr>\n",
       "                        <th id=\"T_d5d8fdcc_b4f5_11e9_9324_acde48001122level0_row11\" class=\"row_heading level0 row11\" >time_s</th>\n",
       "                        <td id=\"T_d5d8fdcc_b4f5_11e9_9324_acde48001122row11_col0\" class=\"data row11 col0\" >27.3%</td>\n",
       "            </tr>\n",
       "    </tbody></table>"
      ],
      "text/plain": [
       "<pandas.io.formats.style.Styler at 0x12fbb3400>"
      ]
     },
     "execution_count": 38,
     "metadata": {},
     "output_type": "execute_result"
    }
   ],
   "source": [
    "feature_importances.to_frame(name='importance').style.format('{:.1%}')"
   ]
  },
  {
   "cell_type": "code",
   "execution_count": null,
   "metadata": {},
   "outputs": [],
   "source": []
  }
 ],
 "metadata": {
  "kernelspec": {
   "display_name": "Python 3",
   "language": "python",
   "name": "python3"
  },
  "language_info": {
   "codemirror_mode": {
    "name": "ipython",
    "version": 3
   },
   "file_extension": ".py",
   "mimetype": "text/x-python",
   "name": "python",
   "nbconvert_exporter": "python",
   "pygments_lexer": "ipython3",
   "version": "3.7.3"
  }
 },
 "nbformat": 4,
 "nbformat_minor": 2
}
