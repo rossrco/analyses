{
 "cells": [
  {
   "cell_type": "markdown",
   "metadata": {},
   "source": [
    "# Project Overview\n",
    "This project is carried out on a synthetic dataset gracefully provided by Revolut. The goal of this project is to understand and address the drivers of user churn. To this end, our analysis will explore the concept of user **engagement**. We will work under the assumption that low engagement leads to user churn.\n",
    "\n",
    "## 1. Problem Statement\n",
    "In order to understand user engagement, our goal will be to:\n",
    "\n",
    "1. Define a target metric to measure user engagement.\n",
    "2. Build a model to classify engaged users.\n",
    "3. Propose business actions to convert unengaged to engaged users.\n",
    "\n",
    "## 2. Define User Engagement\n",
    "We will first import the files from the data folder (we won't give detailed description of the files themselves as it is already provided in the assignemtn by Revolut)."
   ]
  },
  {
   "cell_type": "code",
   "execution_count": 495,
   "metadata": {},
   "outputs": [],
   "source": [
    "import os\n",
    "import datetime\n",
    "import calendar\n",
    "\n",
    "from dateutil.relativedelta import relativedelta as reldelt\n",
    "\n",
    "import pandas as pd\n",
    "import numpy as np\n",
    "import scipy as sp\n",
    "\n",
    "import category_encoders\n",
    "import imblearn\n",
    "import xgboost\n",
    "from sklearn import model_selection\n",
    "from sklearn import metrics\n",
    "from sklearn import pipeline\n",
    "\n",
    "import matplotlib.pyplot as plt\n",
    "import seaborn as sns\n",
    "\n",
    "from IPython.display import display, clear_output"
   ]
  },
  {
   "cell_type": "code",
   "execution_count": 146,
   "metadata": {},
   "outputs": [],
   "source": [
    "filepath = os.path.abspath(os.path.join(os.getcwd(), '..', 'data'))"
   ]
  },
  {
   "cell_type": "code",
   "execution_count": 3,
   "metadata": {},
   "outputs": [
    {
     "data": {
      "text/plain": [
       "['rev-transactions.csv',\n",
       " 'rev-devices.csv',\n",
       " 'rev-users.csv',\n",
       " 'rev-notifications.csv']"
      ]
     },
     "execution_count": 3,
     "metadata": {},
     "output_type": "execute_result"
    }
   ],
   "source": [
    "os.listdir(filepath)"
   ]
  },
  {
   "cell_type": "code",
   "execution_count": 4,
   "metadata": {},
   "outputs": [],
   "source": [
    "trans = pd.read_csv(os.path.join(filepath, 'rev-transactions.csv'), parse_dates=['created_date'])\n",
    "devices = pd.read_csv(os.path.join(filepath, 'rev-devices.csv'))\n",
    "users = pd.read_csv(os.path.join(filepath, 'rev-users.csv'), parse_dates=['created_date'])\n",
    "notif = pd.read_csv(os.path.join(filepath, 'rev-notifications.csv'), parse_dates=['created_date'])"
   ]
  },
  {
   "cell_type": "markdown",
   "metadata": {},
   "source": [
    "## 2.1 Number Of Transactions And Users Per Month\n",
    "We will start our analysis by plotting the total number of transactions and users per month."
   ]
  },
  {
   "cell_type": "code",
   "execution_count": 5,
   "metadata": {},
   "outputs": [
    {
     "data": {
      "image/png": "[encoded data removed]",
      "text/plain": [
       "<Figure size 1008x432 with 2 Axes>"
      ]
     },
     "metadata": {
      "needs_background": "light"
     },
     "output_type": "display_data"
    }
   ],
   "source": [
    "to_plot_1 = trans.resample('M', on='created_date').transaction_id.count()\n",
    "to_plot_2 = users.resample('M', on='created_date').user_id.count()\n",
    "\n",
    "x_ticks = {}\n",
    "\n",
    "for df, name in zip([to_plot_1, to_plot_2],\n",
    "                    ['trans', 'users']):\n",
    "    x_ticks[name + '_ticks'] = list(range(len(df)))\n",
    "    x_ticks[name + '_labels'] = [d.strftime('%Y-%m') for d in df.index]\n",
    "\n",
    "fig = plt.figure(figsize=(14, 6))\n",
    "\n",
    "fig_1 = plt.subplot(1, 2, 1)\n",
    "fig_1.bar(x_ticks['trans_ticks'], to_plot_1.values)\n",
    "fig_1.set_xticklabels(x_ticks['trans_labels'], rotation=45)\n",
    "fig_1.set_title('Transactions')\n",
    "fig_1.set_ylabel('n_trans')\n",
    "\n",
    "fig_2 = plt.subplot(1, 2, 2)\n",
    "fig_2.bar(x_ticks['users_ticks'], to_plot_2.values)\n",
    "fig_2.set_xticklabels(x_ticks['users_labels'], rotation=45)\n",
    "fig_2.set_title('Users')\n",
    "fig_2.set_ylabel('n_users')\n",
    "\n",
    "plt.suptitle('Number Of Transactions And Users Per Month')\n",
    "plt.show()"
   ]
  },
  {
   "cell_type": "markdown",
   "metadata": {},
   "source": [
    "As we can see, the number of transactions per month is increasing faster compared to the number of users. The number of users have increased by 12% (from 1560 in May, 2018 to 1912 in November, 2018), while the number of transactions in the same period has increased by 32% (from 73270 to 228287). This means that the growth in transactions is not only due to the growth in new users, but also due to the growth in the number of transactions certain users make.\n",
    "\n",
    "## 2.2 Hypothesis - The Number Of Transactions Can Be Used To Measure Engagement\n",
    "We can therefore opine that the number of transactions can be used, in some form, to measure engagement. We can consider the amount of the transactions as well. However the amount is strongly dependent on the GDP per capita of the country where the transaction originates. Therefore it cannot be used as an absolute measure of engagement.\n",
    "\n",
    "We should also consider the case of remittances. If the Revolut platform is used for remittances, is the receiving user engaged? The `direction` of the transfer indicates whether a user is receiving remittances. This means that if a user utilises the app simply for receiving remittances, the count of transactions would still be a valid measure. There would still be a number of inbound transactions.\n",
    "\n",
    "Only users that do not engage with the platform at all (neither paying or receiving payments) will be considered as potential churned users.\n",
    "\n",
    "Let us summarise our hypothesis:\n",
    "\n",
    "1. A measure of engagement can be derived (to be determined how) from the number transactions.\n",
    "2. Users who mainly receive payments are still considered engaged.\n",
    "3. Only users who do not create or receive transactions are considered disengaged.\n",
    "\n",
    "Our criteria for confirming the hypothesis are:\n",
    "* The measure separates the engaged from the unengaged group\n",
    "* The measure has a business utility (unengaged users are truly inactive and not utilising the platform)\n",
    "\n",
    "## 2.3 Definition\n",
    "We will begin our work on the hypothesis by aggregating the number of transactions by month and by user."
   ]
  },
  {
   "cell_type": "code",
   "execution_count": 6,
   "metadata": {},
   "outputs": [],
   "source": [
    "trans_agg = trans.groupby('user_id')\\\n",
    "            .resample('M', on='created_date')\\\n",
    "            .transaction_id.count()\\\n",
    "            .reset_index()"
   ]
  },
  {
   "cell_type": "code",
   "execution_count": 7,
   "metadata": {},
   "outputs": [],
   "source": [
    "trans_agg.rename(columns={'transaction_id': 'n_trans'}, inplace=True)"
   ]
  },
  {
   "cell_type": "markdown",
   "metadata": {},
   "source": [
    "We will focus our initial investigation on users with 14 month of history. This is in order to make sure that a low number of transactions is not due to a short time on book."
   ]
  },
  {
   "cell_type": "code",
   "execution_count": 8,
   "metadata": {},
   "outputs": [],
   "source": [
    "users_months = trans_agg.user_id.value_counts()\n",
    "# user_mask_months = users_months[users_months>=14].index.to_list()"
   ]
  },
  {
   "cell_type": "markdown",
   "metadata": {},
   "source": [
    "Next, we will define a churned user as a `user_id` where:\n",
    "> The mean number of transactions in the last **N** months is equal or less than **M**\n",
    "\n",
    "Both `N` and `M` are hyperparameters for this exercise. This means that we could set up an experiment where we perform grid search over a reasonable range of values for both of them."
   ]
  },
  {
   "cell_type": "code",
   "execution_count": 9,
   "metadata": {},
   "outputs": [
    {
     "name": "stdout",
     "output_type": "stream",
     "text": [
      "Calculated for user 18765, for N=3 and M=3\n",
      "CPU times: user 18min 11s, sys: 1min 3s, total: 19min 14s\n",
      "Wall time: 19min 6s\n"
     ]
    }
   ],
   "source": [
    "%%time\n",
    "\n",
    "M = [2, 3]\n",
    "N = [1, 2, 3]\n",
    "user_engagement = {}\n",
    "\n",
    "for n in N:\n",
    "    for m in M:\n",
    "        data = []\n",
    "        for i, u in enumerate(users_months.index):\n",
    "            if users_months.loc[u] >= n:\n",
    "                user_data = trans_agg[trans_agg.user_id==u].sort_values('created_date')\n",
    "                mean_n_trans = user_data[-n:].n_trans.sum() / n\n",
    "                data.append({'user_id': u, 'mean_n_trans': mean_n_trans})\n",
    "            else:\n",
    "                data.append({'user_id': u, 'mean_n_trans': np.nan})\n",
    "\n",
    "            clear_output()\n",
    "            print(f'Calculated for user {i}, for N={n} and M={m}')\n",
    "        user_engagement[(n, m)] = pd.DataFrame(data)\n",
    "        user_engagement[(n, m)]['engaged'] = [1 if mean_n_trans > m\n",
    "                                              else 0\n",
    "                                              for mean_n_trans\n",
    "                                              in user_engagement[(n, m)].mean_n_trans]\n",
    "\n",
    "        user_engagement[(n, m)]['log_mean_n_trans'] = np.log1p(user_engagement[(n, m)].mean_n_trans)"
   ]
  },
  {
   "cell_type": "code",
   "execution_count": 10,
   "metadata": {},
   "outputs": [
    {
     "name": "stdout",
     "output_type": "stream",
     "text": [
      "With N=1 and M=2, the unengaged are 27% of all users.\n",
      "With N=1 and M=3, the unengaged are 35% of all users.\n",
      "With N=2 and M=2, the unengaged are 20% of all users.\n",
      "With N=2 and M=3, the unengaged are 25% of all users.\n",
      "With N=3 and M=2, the unengaged are 25% of all users.\n",
      "With N=3 and M=3, the unengaged are 29% of all users.\n"
     ]
    }
   ],
   "source": [
    "for n in N:\n",
    "    for m in M:\n",
    "        engaged_count = user_engagement[(n, m)].engaged.value_counts()\n",
    "        all_users = engaged_count.sum()\n",
    "        unengaged = engaged_count[0]\n",
    "        print('With N={} and M={}, the unengaged are {:.0%} of all users.'\\\n",
    "              .format(n, m, unengaged/all_users))\n",
    "        del engaged_count"
   ]
  },
  {
   "cell_type": "markdown",
   "metadata": {},
   "source": [
    "## 2.4 Investigate The Results And Confirm The Hypothesis\n",
    "Let us investigate the difference in distribution for the log of mean number of transactions for the group labeled as engaged and the one labeled as unengaged. We will plot the results for `N` = 3 and `M` = 3, but we will perform the statistical tests for all cases from our grid search experiment."
   ]
  },
  {
   "cell_type": "code",
   "execution_count": 25,
   "metadata": {},
   "outputs": [
    {
     "data": {
      "image/png": "[encoded data removed]",
      "text/plain": [
       "<Figure size 1152x576 with 2 Axes>"
      ]
     },
     "metadata": {
      "needs_background": "light"
     },
     "output_type": "display_data"
    }
   ],
   "source": [
    "fig = plt.figure(figsize=(16, 8))\n",
    "\n",
    "to_plot = user_engagement[(2, 3)]\n",
    "\n",
    "plt.subplot(1, 2, 1)\n",
    "sns.distplot(to_plot[to_plot.engaged==1].log_mean_n_trans, norm_hist=True)\n",
    "sns.distplot(to_plot[to_plot.engaged==0].log_mean_n_trans, norm_hist=True)\n",
    "plt.legend(labels=['engaged', 'unengaged'])\n",
    "\n",
    "plt.subplot(1, 2, 2)\n",
    "sns.boxplot(x='engaged', y='log_mean_n_trans', data=to_plot)\n",
    "\n",
    "plt.suptitle('Distribution Of The LOG Mean Number Of Transactions')\n",
    "plt.show()"
   ]
  },
  {
   "cell_type": "markdown",
   "metadata": {},
   "source": [
    "As we can see, the engaged group conducts on average 100 transactions per month, while the uengaged group conducts on average 1 transaction per month (we have used a `log1p` function to avoid exiting the domain of the `log` function).\n",
    "\n",
    "We now need to assert that the two distributions are significantly different. We can do that using a Kolmogorov-Smirnov test."
   ]
  },
  {
   "cell_type": "code",
   "execution_count": 12,
   "metadata": {},
   "outputs": [
    {
     "name": "stdout",
     "output_type": "stream",
     "text": [
      "With N=1 and M=2, the KS test result is: Ks_2sampResult(statistic=1.0, pvalue=0.0).\n",
      "With N=1 and M=3, the KS test result is: Ks_2sampResult(statistic=1.0, pvalue=0.0).\n",
      "With N=2 and M=2, the KS test result is: Ks_2sampResult(statistic=0.7332793959007551, pvalue=0.0).\n",
      "With N=2 and M=3, the KS test result is: Ks_2sampResult(statistic=0.7928361960620025, pvalue=0.0).\n",
      "With N=3 and M=2, the KS test result is: Ks_2sampResult(statistic=0.5870124303471924, pvalue=0.0).\n",
      "With N=3 and M=3, the KS test result is: Ks_2sampResult(statistic=0.5026610387227014, pvalue=0.0).\n"
     ]
    }
   ],
   "source": [
    "for n in N:\n",
    "    for m in M:\n",
    "        to_plot = user_engagement[(n, m)]\n",
    "        ks_test = sp.stats.ks_2samp(to_plot[to_plot.engaged==1].mean_n_trans,\n",
    "                                    to_plot[to_plot.engaged==0].mean_n_trans)\n",
    "        print('With N={} and M={}, the KS test result is: {}.'.format(n, m, ks_test))\n",
    "        del to_plot, ks_test"
   ]
  },
  {
   "cell_type": "markdown",
   "metadata": {},
   "source": [
    "In This case, the null hypothesis is that the samples are drawn from the same distributions. As we can see from the `pvalue`, the null hypothesis is rejected (i.e. the samples represent different distributions) for every instance of the experiment.\n",
    "\n",
    "Since all grid search results satisfy the requirements, we can allow ourselves to select the one that also fits the business needs best. In this case, having a mean number of transactions `M` = 3 spread over `N` = 2 months good be a good solution. This is because seasonal variations in business (bank holidays, vacation months) could temporary reduce the activity of some users. In this case, a longer observation period of `N` = 2 should give us a more realistic view on the consistency of a user's inactivity.\n",
    "\n",
    "In summary, there seems to be a good separation between the categories of engaged and unengaged. The engagement metric also has business utility - engaged users have a potential to generate revenue for Revolut (if their payment plan or transaction amount are within certain parameters). On the other hand, the unengaged users have little to no chance of generating revenue."
   ]
  },
  {
   "cell_type": "code",
   "execution_count": 126,
   "metadata": {},
   "outputs": [],
   "source": [
    "n = 2\n",
    "m = 3\n",
    "final_labels = user_engagement[(n, m)].copy()\n",
    "final_labels.set_index('user_id', drop=True, inplace=True)\n",
    "trans_agg['engaged'] = [final_labels.loc[u].engaged for u in trans_agg.user_id]"
   ]
  },
  {
   "cell_type": "markdown",
   "metadata": {},
   "source": [
    "Let us now go back to our very first figure where we plotted the number of transactions per month. We will now re-plot it and add the `engaged` label."
   ]
  },
  {
   "cell_type": "code",
   "execution_count": 127,
   "metadata": {},
   "outputs": [
    {
     "data": {
      "image/png": "[encoded data removed]",
      "text/plain": [
       "<Figure size 411.875x360 with 1 Axes>"
      ]
     },
     "metadata": {
      "needs_background": "light"
     },
     "output_type": "display_data"
    }
   ],
   "source": [
    "to_plot = trans_agg.groupby(['created_date', 'engaged']).n_trans.sum().reset_index()\n",
    "x_labels = [pd.to_datetime(d).strftime('%Y-%m') for d in to_plot_1.created_date.unique()]\n",
    "\n",
    "fig_1 = sns.catplot(x='created_date', y='n_trans', hue='engaged', data=to_plot, kind='bar')\n",
    "fig_1.set_xticklabels(labels=x_labels, rotation=45)\n",
    "plt.title('Number Of Transactions Per Month By Engagement')\n",
    "plt.show()"
   ]
  },
  {
   "cell_type": "markdown",
   "metadata": {},
   "source": [
    "As we can see, the number of transactions is increasing due to the activity of the engaged customers. This confirms our intuition and is in line with the business goals of Revolut (i.e. maximise the number of engaged customers in order to maximise revenue).\n",
    "\n",
    "## 3. Predict User Engagement\n",
    "We will now train a classifier that can predict if a customer is engaged or not. Please note that this classifier will predict the final state of the user at the end of the whole timespan of transactions less the number of months for observation (i.e. `N`). If we are to build a model for monthly prediction, we would structure the target variable differently.\n",
    "\n",
    "That is, for monthly perdiction, we would build the target as: for every month, check if the user has on average **M** transatctions for the next **N** months. Thus we would have a set of predictions for the same users for every month of our timespan until **N** months before the latest date.\n",
    "\n",
    "This would allow us to deploy such a model and evaluate our users every month, and take the necessary actions to prevent churn.\n",
    "\n",
    "In our case, however, we are simply classifing the observed engaged and unengaged customers.\n",
    "\n",
    "As this is a prototype of a model (with a limited time investment), we will consciously take several shortcuts, namely:\n",
    "\n",
    "* We will directly use the XGBoost model. It has a proven performance advantage over other models both in terms of speed and accuracy of fit. Therefore, we will refrain from performing a grid search over several models.\n",
    "* We will not perform a grid search over several feature engineering alternatives. We will select several features and model to a reasonable result of the test metrics.\n",
    "\n",
    "We will consciously exclude the notifications as they contain items encouraging engagement and could thus lead to survivour bias. However, we can use this data for designing of measures that increase engagement.\n",
    "\n",
    "With those clarifications in place, let us begin by selecting the latest date available in our dataset:"
   ]
  },
  {
   "cell_type": "code",
   "execution_count": 511,
   "metadata": {},
   "outputs": [],
   "source": [
    "def get_m_between(date_1, date_2):\n",
    "    delta = reldelt(date_1, date_2)\n",
    "    return (delta.years * 12) + delta.months\n",
    "\n",
    "def get_last_day_month(date_1, n_months):\n",
    "    new_date = date_1 + reldelt(months=n_months)\n",
    "    last_day = calendar.monthrange(new_date.year, new_date.month)[1]\n",
    "    res_date = datetime.datetime(new_date.year, new_date.month, last_day)\n",
    "    return pd.to_datetime(res_date)"
   ]
  },
  {
   "cell_type": "code",
   "execution_count": 169,
   "metadata": {},
   "outputs": [],
   "source": [
    "max_trans_date = trans.created_date.max()"
   ]
  },
  {
   "cell_type": "markdown",
   "metadata": {},
   "source": [
    "Our features will be based on the users table. We will select the users that have months on book > `N` such that we have valid class for the target.\n",
    "\n",
    "The first set of features we will derive are:\n",
    "\n",
    "* Age\n",
    "* Months on book (based on the latest available date in the `transactions` dataset)\n",
    "* The combination of `city` and `country`. This is an example of a feature combination as described in chapter 3.1 in [this paper](https://arxiv.org/abs/1606.07792)."
   ]
  },
  {
   "cell_type": "code",
   "execution_count": 521,
   "metadata": {},
   "outputs": [],
   "source": [
    "features = users.copy()\n",
    "features['age'] = [max_trans_date.year - birth_y for birth_y in features.birth_year]\n",
    "features['month_on_book'] = [get_m_between(max_trans_date, d) for d in features.created_date]\n",
    "features['country_city'] = features.country + '_' + features.city"
   ]
  },
  {
   "cell_type": "code",
   "execution_count": 522,
   "metadata": {},
   "outputs": [],
   "source": [
    "features.drop(['birth_year', 'created_date'], axis=1, inplace=True)"
   ]
  },
  {
   "cell_type": "markdown",
   "metadata": {},
   "source": [
    "Next, we will add the target variable and index the dataset on the `user_id` column."
   ]
  },
  {
   "cell_type": "code",
   "execution_count": 523,
   "metadata": {},
   "outputs": [],
   "source": [
    "features = features.merge(final_labels['engaged'], how='left', left_on='user_id', right_index=True)"
   ]
  },
  {
   "cell_type": "code",
   "execution_count": 524,
   "metadata": {},
   "outputs": [],
   "source": [
    "features.set_index('user_id', drop=True, inplace=True)"
   ]
  },
  {
   "cell_type": "code",
   "execution_count": 525,
   "metadata": {},
   "outputs": [],
   "source": [
    "features = features[features.engaged.notna()].copy()"
   ]
  },
  {
   "cell_type": "markdown",
   "metadata": {},
   "source": [
    "We will one-hot encode the devices that each user is registered with as the next addition to the feature set."
   ]
  },
  {
   "cell_type": "code",
   "execution_count": 526,
   "metadata": {},
   "outputs": [],
   "source": [
    "device_features = pd.crosstab(devices.user_id, devices.brand)"
   ]
  },
  {
   "cell_type": "code",
   "execution_count": 527,
   "metadata": {},
   "outputs": [],
   "source": [
    "features = features.join(device_features, how='left')"
   ]
  },
  {
   "cell_type": "code",
   "execution_count": 528,
   "metadata": {},
   "outputs": [],
   "source": [
    "trans_agg_features = trans_agg[trans_agg.created_date < max_trans_date - reldelt(years=0, months=n)].copy()"
   ]
  },
  {
   "cell_type": "markdown",
   "metadata": {},
   "source": [
    "We will also derive the total number of transactions in the last 1 month and the last 3 months (before the prediction period, that is). This is a point worth discussing in a bit more detail. If we had not limited ourselves to transactions before the perdicted period of `N` months (we will refer to it as the 'observation period'), we would have been leaking the target in the feature set. This is because the target is directly derived from the last `N` months of the transaction data.\n",
    "\n",
    "However, we are now interested in:\n",
    "* 1 month before that period\n",
    "* 3 months before that period\n",
    "\n",
    "If we were to forecast the number of transactions using a Vector Autoregressions Model, we would in essence use that same data. Therefore we consider the use of behavior data from 1 month and 3 months before the observation period as fair use in terms of modelling."
   ]
  },
  {
   "cell_type": "code",
   "execution_count": 549,
   "metadata": {},
   "outputs": [],
   "source": [
    "last_m = sorted(trans_agg_features.created_date.unique()).pop()\n",
    "obs_period_start_date = pd.to_datetime(last_m)\n",
    "last_1m = get_last_day_month(obs_period_start_date, -1)\n",
    "last_3m = get_last_day_month(obs_period_start_date, -3)"
   ]
  },
  {
   "cell_type": "code",
   "execution_count": 530,
   "metadata": {},
   "outputs": [],
   "source": [
    "for name, period in zip(['n_trans_l1_m', 'n_trans_l3_m'], [last_1m, last_3m]):\n",
    "    new_feature = trans_agg_features[trans_agg_features.created_date>period].groupby('user_id').n_trans.sum().rename(name)\n",
    "    features = features.join(new_feature).fillna(0)"
   ]
  },
  {
   "cell_type": "markdown",
   "metadata": {},
   "source": [
    "For the notifications features, we will assume that the cases of missing values are cases of meaningful `0`."
   ]
  },
  {
   "cell_type": "code",
   "execution_count": 531,
   "metadata": {},
   "outputs": [],
   "source": [
    "for c in ['attributes_notifications_marketing_push',\n",
    "          'attributes_notifications_marketing_email']:\n",
    "    features[c] = features[c].fillna(0)"
   ]
  },
  {
   "cell_type": "code",
   "execution_count": 532,
   "metadata": {},
   "outputs": [
    {
     "data": {
      "text/html": [
       "<div>\n",
       "<style scoped>\n",
       "    .dataframe tbody tr th:only-of-type {\n",
       "        vertical-align: middle;\n",
       "    }\n",
       "\n",
       "    .dataframe tbody tr th {\n",
       "        vertical-align: top;\n",
       "    }\n",
       "\n",
       "    .dataframe thead th {\n",
       "        text-align: right;\n",
       "    }\n",
       "</style>\n",
       "<table border=\"1\" class=\"dataframe\">\n",
       "  <thead>\n",
       "    <tr style=\"text-align: right;\">\n",
       "      <th></th>\n",
       "      <th>country</th>\n",
       "      <th>city</th>\n",
       "      <th>user_settings_crypto_unlocked</th>\n",
       "      <th>plan</th>\n",
       "      <th>attributes_notifications_marketing_push</th>\n",
       "      <th>attributes_notifications_marketing_email</th>\n",
       "      <th>num_contacts</th>\n",
       "      <th>num_referrals</th>\n",
       "      <th>num_successful_referrals</th>\n",
       "      <th>age</th>\n",
       "      <th>month_on_book</th>\n",
       "      <th>country_city</th>\n",
       "      <th>engaged</th>\n",
       "      <th>Android</th>\n",
       "      <th>Apple</th>\n",
       "      <th>Unknown</th>\n",
       "      <th>n_trans_l1_m</th>\n",
       "      <th>n_trans_l3_m</th>\n",
       "    </tr>\n",
       "    <tr>\n",
       "      <th>user_id</th>\n",
       "      <th></th>\n",
       "      <th></th>\n",
       "      <th></th>\n",
       "      <th></th>\n",
       "      <th></th>\n",
       "      <th></th>\n",
       "      <th></th>\n",
       "      <th></th>\n",
       "      <th></th>\n",
       "      <th></th>\n",
       "      <th></th>\n",
       "      <th></th>\n",
       "      <th></th>\n",
       "      <th></th>\n",
       "      <th></th>\n",
       "      <th></th>\n",
       "      <th></th>\n",
       "      <th></th>\n",
       "    </tr>\n",
       "  </thead>\n",
       "  <tbody>\n",
       "    <tr>\n",
       "      <th>user_0</th>\n",
       "      <td>PL</td>\n",
       "      <td>Gdansk</td>\n",
       "      <td>1</td>\n",
       "      <td>STANDARD</td>\n",
       "      <td>1.0</td>\n",
       "      <td>1.0</td>\n",
       "      <td>3</td>\n",
       "      <td>0</td>\n",
       "      <td>0</td>\n",
       "      <td>30</td>\n",
       "      <td>16</td>\n",
       "      <td>PL_Gdansk</td>\n",
       "      <td>1.0</td>\n",
       "      <td>0</td>\n",
       "      <td>1</td>\n",
       "      <td>0</td>\n",
       "      <td>25.0</td>\n",
       "      <td>79.0</td>\n",
       "    </tr>\n",
       "    <tr>\n",
       "      <th>user_1</th>\n",
       "      <td>GB</td>\n",
       "      <td>London</td>\n",
       "      <td>0</td>\n",
       "      <td>STANDARD</td>\n",
       "      <td>0.0</td>\n",
       "      <td>0.0</td>\n",
       "      <td>21</td>\n",
       "      <td>0</td>\n",
       "      <td>0</td>\n",
       "      <td>44</td>\n",
       "      <td>15</td>\n",
       "      <td>GB_London</td>\n",
       "      <td>1.0</td>\n",
       "      <td>0</td>\n",
       "      <td>1</td>\n",
       "      <td>0</td>\n",
       "      <td>0.0</td>\n",
       "      <td>28.0</td>\n",
       "    </tr>\n",
       "    <tr>\n",
       "      <th>user_2</th>\n",
       "      <td>PL</td>\n",
       "      <td>Poznań</td>\n",
       "      <td>0</td>\n",
       "      <td>STANDARD</td>\n",
       "      <td>0.0</td>\n",
       "      <td>0.0</td>\n",
       "      <td>21</td>\n",
       "      <td>0</td>\n",
       "      <td>0</td>\n",
       "      <td>32</td>\n",
       "      <td>15</td>\n",
       "      <td>PL_Poznań</td>\n",
       "      <td>0.0</td>\n",
       "      <td>1</td>\n",
       "      <td>0</td>\n",
       "      <td>0</td>\n",
       "      <td>1.0</td>\n",
       "      <td>5.0</td>\n",
       "    </tr>\n",
       "    <tr>\n",
       "      <th>user_3</th>\n",
       "      <td>FR</td>\n",
       "      <td>Paris</td>\n",
       "      <td>0</td>\n",
       "      <td>STANDARD</td>\n",
       "      <td>1.0</td>\n",
       "      <td>0.0</td>\n",
       "      <td>0</td>\n",
       "      <td>0</td>\n",
       "      <td>0</td>\n",
       "      <td>25</td>\n",
       "      <td>16</td>\n",
       "      <td>FR_Paris</td>\n",
       "      <td>0.0</td>\n",
       "      <td>0</td>\n",
       "      <td>1</td>\n",
       "      <td>0</td>\n",
       "      <td>1.0</td>\n",
       "      <td>54.0</td>\n",
       "    </tr>\n",
       "    <tr>\n",
       "      <th>user_4</th>\n",
       "      <td>GB</td>\n",
       "      <td>Beckenham</td>\n",
       "      <td>0</td>\n",
       "      <td>STANDARD</td>\n",
       "      <td>0.0</td>\n",
       "      <td>0.0</td>\n",
       "      <td>2</td>\n",
       "      <td>0</td>\n",
       "      <td>0</td>\n",
       "      <td>34</td>\n",
       "      <td>16</td>\n",
       "      <td>GB_Beckenham</td>\n",
       "      <td>0.0</td>\n",
       "      <td>0</td>\n",
       "      <td>1</td>\n",
       "      <td>0</td>\n",
       "      <td>0.0</td>\n",
       "      <td>2.0</td>\n",
       "    </tr>\n",
       "  </tbody>\n",
       "</table>\n",
       "</div>"
      ],
      "text/plain": [
       "        country       city  user_settings_crypto_unlocked      plan  \\\n",
       "user_id                                                               \n",
       "user_0       PL     Gdansk                              1  STANDARD   \n",
       "user_1       GB     London                              0  STANDARD   \n",
       "user_2       PL     Poznań                              0  STANDARD   \n",
       "user_3       FR      Paris                              0  STANDARD   \n",
       "user_4       GB  Beckenham                              0  STANDARD   \n",
       "\n",
       "         attributes_notifications_marketing_push  \\\n",
       "user_id                                            \n",
       "user_0                                       1.0   \n",
       "user_1                                       0.0   \n",
       "user_2                                       0.0   \n",
       "user_3                                       1.0   \n",
       "user_4                                       0.0   \n",
       "\n",
       "         attributes_notifications_marketing_email  num_contacts  \\\n",
       "user_id                                                           \n",
       "user_0                                        1.0             3   \n",
       "user_1                                        0.0            21   \n",
       "user_2                                        0.0            21   \n",
       "user_3                                        0.0             0   \n",
       "user_4                                        0.0             2   \n",
       "\n",
       "         num_referrals  num_successful_referrals  age  month_on_book  \\\n",
       "user_id                                                                \n",
       "user_0               0                         0   30             16   \n",
       "user_1               0                         0   44             15   \n",
       "user_2               0                         0   32             15   \n",
       "user_3               0                         0   25             16   \n",
       "user_4               0                         0   34             16   \n",
       "\n",
       "         country_city  engaged  Android  Apple  Unknown  n_trans_l1_m  \\\n",
       "user_id                                                                 \n",
       "user_0      PL_Gdansk      1.0        0      1        0          25.0   \n",
       "user_1      GB_London      1.0        0      1        0           0.0   \n",
       "user_2      PL_Poznań      0.0        1      0        0           1.0   \n",
       "user_3       FR_Paris      0.0        0      1        0           1.0   \n",
       "user_4   GB_Beckenham      0.0        0      1        0           0.0   \n",
       "\n",
       "         n_trans_l3_m  \n",
       "user_id                \n",
       "user_0           79.0  \n",
       "user_1           28.0  \n",
       "user_2            5.0  \n",
       "user_3           54.0  \n",
       "user_4            2.0  "
      ]
     },
     "execution_count": 532,
     "metadata": {},
     "output_type": "execute_result"
    }
   ],
   "source": [
    "features.head()"
   ]
  },
  {
   "cell_type": "markdown",
   "metadata": {},
   "source": [
    "As we have several categorical columns, we will use target encoding. Roughly speaking, the encoding will be a form of a ratio of the target classes based on previously-seen data.\n",
    "\n",
    "Finally, we need to address the imbalance in the dataset. Our unengaged customers were roughly 30% of all customers. We will use a combination of oversampling of the `0` category as well as undersampling of the `1` category to achieve a balanced dataset."
   ]
  },
  {
   "cell_type": "code",
   "execution_count": 533,
   "metadata": {},
   "outputs": [],
   "source": [
    "random_seed = 42\n",
    "test_size = 0.3\n",
    "\n",
    "cat_features = ['country', 'city', 'plan', 'country_city']\n",
    "cat_enc = category_encoders.target_encoder.TargetEncoder(cols=cat_features)\n",
    "smt = imblearn.over_sampling.SMOTE(random_state=random_seed)"
   ]
  },
  {
   "cell_type": "code",
   "execution_count": 534,
   "metadata": {},
   "outputs": [],
   "source": [
    "X, y = features.drop('engaged', axis=1), features.engaged"
   ]
  },
  {
   "cell_type": "code",
   "execution_count": 535,
   "metadata": {},
   "outputs": [],
   "source": [
    "X_train, X_test, y_train, y_test = model_selection.train_test_split(X, y, test_size=test_size, random_state=random_seed)"
   ]
  },
  {
   "cell_type": "code",
   "execution_count": 536,
   "metadata": {},
   "outputs": [],
   "source": [
    "model = xgboost.XGBClassifier(random_state=random_seed)"
   ]
  },
  {
   "cell_type": "code",
   "execution_count": 537,
   "metadata": {},
   "outputs": [],
   "source": [
    "pipe = imblearn.pipeline.Pipeline(steps=[('encode', cat_enc),\n",
    "                                         ('balance', smt),\n",
    "                                         ('model', model)])"
   ]
  },
  {
   "cell_type": "markdown",
   "metadata": {},
   "source": [
    "With the experimentation pipeline defined as above, let us set a grid of model hyperparameters to go over. This will unfortunately be a computationally-costly exercise."
   ]
  },
  {
   "cell_type": "code",
   "execution_count": 538,
   "metadata": {},
   "outputs": [],
   "source": [
    "params = {'model__learning_rate': [.1, .01],\n",
    "          'model__max_depth': [3, 5],\n",
    "          'model__reg_alpha': [0, 1],\n",
    "          'model__reg_lambda': [0, 1],\n",
    "          'model__n_estimators': [100, 500, 1000]}\n",
    "\n",
    "search = model_selection.GridSearchCV(pipe, params, verbose=1, n_jobs=8)"
   ]
  },
  {
   "cell_type": "code",
   "execution_count": 539,
   "metadata": {},
   "outputs": [
    {
     "name": "stdout",
     "output_type": "stream",
     "text": [
      "Fitting 5 folds for each of 48 candidates, totalling 240 fits\n"
     ]
    },
    {
     "name": "stderr",
     "output_type": "stream",
     "text": [
      "[Parallel(n_jobs=8)]: Using backend LokyBackend with 8 concurrent workers.\n",
      "[Parallel(n_jobs=8)]: Done  34 tasks      | elapsed:   30.8s\n",
      "[Parallel(n_jobs=8)]: Done 184 tasks      | elapsed:  4.8min\n",
      "[Parallel(n_jobs=8)]: Done 240 out of 240 | elapsed:  6.8min finished\n"
     ]
    },
    {
     "name": "stdout",
     "output_type": "stream",
     "text": [
      "CPU times: user 15.5 s, sys: 801 ms, total: 16.3 s\n",
      "Wall time: 7min\n"
     ]
    },
    {
     "data": {
      "text/plain": [
       "GridSearchCV(cv=None, error_score=nan,\n",
       "             estimator=Pipeline(memory=None,\n",
       "                                steps=[('encode',\n",
       "                                        TargetEncoder(cols=['country', 'city',\n",
       "                                                            'plan',\n",
       "                                                            'country_city'],\n",
       "                                                      drop_invariant=False,\n",
       "                                                      handle_missing='value',\n",
       "                                                      handle_unknown='value',\n",
       "                                                      min_samples_leaf=1,\n",
       "                                                      return_df=True,\n",
       "                                                      smoothing=1.0,\n",
       "                                                      verbose=0)),\n",
       "                                       ('balance',\n",
       "                                        SMOTE(k_neighbors=5, n_jobs=None,\n",
       "                                              random_state=42,\n",
       "                                              sampling_strategy='...\n",
       "                                                      scale_pos_weight=1,\n",
       "                                                      seed=None, silent=None,\n",
       "                                                      subsample=1,\n",
       "                                                      verbosity=1))],\n",
       "                                verbose=False),\n",
       "             iid='deprecated', n_jobs=8,\n",
       "             param_grid={'model__learning_rate': [0.1, 0.01],\n",
       "                         'model__max_depth': [3, 5],\n",
       "                         'model__n_estimators': [100, 500, 1000],\n",
       "                         'model__reg_alpha': [0, 1],\n",
       "                         'model__reg_lambda': [0, 1]},\n",
       "             pre_dispatch='2*n_jobs', refit=True, return_train_score=False,\n",
       "             scoring=None, verbose=1)"
      ]
     },
     "execution_count": 539,
     "metadata": {},
     "output_type": "execute_result"
    }
   ],
   "source": [
    "%%time\n",
    "search.fit(X_train, y_train)"
   ]
  },
  {
   "cell_type": "markdown",
   "metadata": {},
   "source": [
    "Finally, we will select the best model and use the test set to produce metrics on completely-unseen data."
   ]
  },
  {
   "cell_type": "code",
   "execution_count": 540,
   "metadata": {},
   "outputs": [
    {
     "name": "stdout",
     "output_type": "stream",
     "text": [
      "The best score from the grid search experiment is: 0.87.\n"
     ]
    }
   ],
   "source": [
    "print(f'The best score from the grid search experiment is: {search.best_score_:.2f}.')"
   ]
  },
  {
   "cell_type": "code",
   "execution_count": 541,
   "metadata": {},
   "outputs": [],
   "source": [
    "final_model = search.best_estimator_"
   ]
  },
  {
   "cell_type": "code",
   "execution_count": 542,
   "metadata": {},
   "outputs": [
    {
     "data": {
      "text/plain": [
       "Pipeline(memory=None,\n",
       "         steps=[('encode',\n",
       "                 TargetEncoder(cols=['country', 'city', 'plan', 'country_city'],\n",
       "                               drop_invariant=False, handle_missing='value',\n",
       "                               handle_unknown='value', min_samples_leaf=1,\n",
       "                               return_df=True, smoothing=1.0, verbose=0)),\n",
       "                ('balance',\n",
       "                 SMOTE(k_neighbors=5, n_jobs=None, random_state=42,\n",
       "                       sampling_strategy='auto')),\n",
       "                ('model',\n",
       "                 XGBClassifier(base_score=0.5, booster='gbtree',\n",
       "                               colsample_bylevel=1, colsample_bynode=1,\n",
       "                               colsample_bytree=1, gamma=0, learning_rate=0.1,\n",
       "                               max_delta_step=0, max_depth=5,\n",
       "                               min_child_weight=1, missing=None,\n",
       "                               n_estimators=500, n_jobs=1, nthread=None,\n",
       "                               objective='binary:logistic', random_state=42,\n",
       "                               reg_alpha=0, reg_lambda=1, scale_pos_weight=1,\n",
       "                               seed=None, silent=None, subsample=1,\n",
       "                               verbosity=1))],\n",
       "         verbose=False)"
      ]
     },
     "execution_count": 542,
     "metadata": {},
     "output_type": "execute_result"
    }
   ],
   "source": [
    "final_model"
   ]
  },
  {
   "cell_type": "code",
   "execution_count": 543,
   "metadata": {},
   "outputs": [],
   "source": [
    "y_pred = final_model.predict(X_test)"
   ]
  },
  {
   "cell_type": "code",
   "execution_count": 544,
   "metadata": {},
   "outputs": [
    {
     "name": "stdout",
     "output_type": "stream",
     "text": [
      "              precision    recall  f1-score   support\n",
      "\n",
      "         0.0       0.76      0.69      0.72      1418\n",
      "         1.0       0.90      0.93      0.91      4212\n",
      "\n",
      "    accuracy                           0.87      5630\n",
      "   macro avg       0.83      0.81      0.82      5630\n",
      "weighted avg       0.86      0.87      0.86      5630\n",
      "\n"
     ]
    }
   ],
   "source": [
    "print(metrics.classification_report(y_true=y_test,\n",
    "                                    y_pred=y_pred))"
   ]
  },
  {
   "cell_type": "code",
   "execution_count": 545,
   "metadata": {},
   "outputs": [
    {
     "data": {
      "image/png": "[encoded data removed]",
      "text/plain": [
       "<Figure size 432x288 with 1 Axes>"
      ]
     },
     "metadata": {
      "needs_background": "light"
     },
     "output_type": "display_data"
    }
   ],
   "source": [
    "_false_pos, _true_pos, _thresholds = metrics.roc_curve(y_test, y_pred)\n",
    "roc_auc = metrics.auc(_false_pos, _true_pos,)\n",
    "\n",
    "plt.plot(_false_pos, _true_pos, label='AUC = %0.3f' % roc_auc)\n",
    "plt.plot([0, 1], [0, 1])\n",
    "\n",
    "plt.xlim([-0.01, 1])\n",
    "plt.ylim([0, 1.01])\n",
    "\n",
    "plt.title('ROC Plot')\n",
    "plt.legend(loc='lower right')\n",
    "plt.ylabel('true_pos_rate')\n",
    "plt.xlabel('false_pos_rate')\n",
    "\n",
    "plt.show()"
   ]
  },
  {
   "cell_type": "code",
   "execution_count": 596,
   "metadata": {},
   "outputs": [
    {
     "data": {
      "image/png": "[encoded data removed]",
      "text/plain": [
       "<Figure size 432x288 with 1 Axes>"
      ]
     },
     "metadata": {
      "needs_background": "light"
     },
     "output_type": "display_data"
    }
   ],
   "source": [
    "conf_matrix = metrics.confusion_matrix(y_test, y_pred)\n",
    "\n",
    "sns.heatmap(conf_matrix, annot=True, cbar=False)\n",
    "\n",
    "plt.ylabel('true_class')\n",
    "plt.xlabel('y_test_pred')\n",
    "plt.title('Confusion Matrix')\n",
    "\n",
    "plt.show()"
   ]
  },
  {
   "cell_type": "code",
   "execution_count": 547,
   "metadata": {},
   "outputs": [],
   "source": [
    "f_importance = pd.Series(final_model.named_steps['model'].feature_importances_, index=X.columns)"
   ]
  },
  {
   "cell_type": "code",
   "execution_count": 548,
   "metadata": {},
   "outputs": [
    {
     "data": {
      "text/plain": [
       "n_trans_l3_m                                0.244731\n",
       "Apple                                       0.170443\n",
       "attributes_notifications_marketing_push     0.102478\n",
       "city                                        0.068333\n",
       "n_trans_l1_m                                0.057721\n",
       "country                                     0.053379\n",
       "attributes_notifications_marketing_email    0.048092\n",
       "user_settings_crypto_unlocked               0.045109\n",
       "country_city                                0.042275\n",
       "Unknown                                     0.037279\n",
       "plan                                        0.037047\n",
       "month_on_book                               0.034787\n",
       "Android                                     0.031853\n",
       "num_contacts                                0.018107\n",
       "age                                         0.008368\n",
       "num_referrals                               0.000000\n",
       "num_successful_referrals                    0.000000\n",
       "dtype: float32"
      ]
     },
     "execution_count": 548,
     "metadata": {},
     "output_type": "execute_result"
    }
   ],
   "source": [
    "f_importance.sort_values(ascending=False)"
   ]
  },
  {
   "cell_type": "markdown",
   "metadata": {},
   "source": [
    "## 4. Preventing Churn\n",
    "We consciously refrained from using the `notifications` dataset during training. This is because notifications could be actions that prevent churn. This means that modelling this causal relationship could be another way of leaking the target."
   ]
  },
  {
   "cell_type": "code",
   "execution_count": 142,
   "metadata": {},
   "outputs": [],
   "source": [
    "latest_notif = notif[notif.created_date < (max_trans_date - reldelt(years=0, months=n))].copy()"
   ]
  },
  {
   "cell_type": "code",
   "execution_count": 143,
   "metadata": {},
   "outputs": [
    {
     "data": {
      "text/html": [
       "<div>\n",
       "<style scoped>\n",
       "    .dataframe tbody tr th:only-of-type {\n",
       "        vertical-align: middle;\n",
       "    }\n",
       "\n",
       "    .dataframe tbody tr th {\n",
       "        vertical-align: top;\n",
       "    }\n",
       "\n",
       "    .dataframe thead th {\n",
       "        text-align: right;\n",
       "    }\n",
       "</style>\n",
       "<table border=\"1\" class=\"dataframe\">\n",
       "  <thead>\n",
       "    <tr style=\"text-align: right;\">\n",
       "      <th></th>\n",
       "      <th>reason</th>\n",
       "      <th>channel</th>\n",
       "      <th>status</th>\n",
       "      <th>user_id</th>\n",
       "      <th>created_date</th>\n",
       "    </tr>\n",
       "  </thead>\n",
       "  <tbody>\n",
       "    <tr>\n",
       "      <th>0</th>\n",
       "      <td>REENGAGEMENT_ACTIVE_FUNDS</td>\n",
       "      <td>PUSH</td>\n",
       "      <td>SENT</td>\n",
       "      <td>user_7086</td>\n",
       "      <td>2018-12-02 17:58:33.320645</td>\n",
       "    </tr>\n",
       "    <tr>\n",
       "      <th>1</th>\n",
       "      <td>REENGAGEMENT_ACTIVE_FUNDS</td>\n",
       "      <td>PUSH</td>\n",
       "      <td>SENT</td>\n",
       "      <td>user_6598</td>\n",
       "      <td>2018-12-01 23:09:37.367127</td>\n",
       "    </tr>\n",
       "    <tr>\n",
       "      <th>2</th>\n",
       "      <td>REENGAGEMENT_ACTIVE_FUNDS</td>\n",
       "      <td>PUSH</td>\n",
       "      <td>SENT</td>\n",
       "      <td>user_4151</td>\n",
       "      <td>2018-12-04 02:57:56.425660</td>\n",
       "    </tr>\n",
       "    <tr>\n",
       "      <th>3</th>\n",
       "      <td>REENGAGEMENT_ACTIVE_FUNDS</td>\n",
       "      <td>PUSH</td>\n",
       "      <td>SENT</td>\n",
       "      <td>user_1408</td>\n",
       "      <td>2018-12-11 02:04:46.284683</td>\n",
       "    </tr>\n",
       "    <tr>\n",
       "      <th>4</th>\n",
       "      <td>REENGAGEMENT_ACTIVE_FUNDS</td>\n",
       "      <td>PUSH</td>\n",
       "      <td>SENT</td>\n",
       "      <td>user_6292</td>\n",
       "      <td>2018-12-14 17:09:58.900808</td>\n",
       "    </tr>\n",
       "  </tbody>\n",
       "</table>\n",
       "</div>"
      ],
      "text/plain": [
       "                      reason channel status    user_id  \\\n",
       "0  REENGAGEMENT_ACTIVE_FUNDS    PUSH   SENT  user_7086   \n",
       "1  REENGAGEMENT_ACTIVE_FUNDS    PUSH   SENT  user_6598   \n",
       "2  REENGAGEMENT_ACTIVE_FUNDS    PUSH   SENT  user_4151   \n",
       "3  REENGAGEMENT_ACTIVE_FUNDS    PUSH   SENT  user_1408   \n",
       "4  REENGAGEMENT_ACTIVE_FUNDS    PUSH   SENT  user_6292   \n",
       "\n",
       "                created_date  \n",
       "0 2018-12-02 17:58:33.320645  \n",
       "1 2018-12-01 23:09:37.367127  \n",
       "2 2018-12-04 02:57:56.425660  \n",
       "3 2018-12-11 02:04:46.284683  \n",
       "4 2018-12-14 17:09:58.900808  "
      ]
     },
     "execution_count": 143,
     "metadata": {},
     "output_type": "execute_result"
    }
   ],
   "source": [
    "latest_notif.head()"
   ]
  },
  {
   "cell_type": "markdown",
   "metadata": {},
   "source": [
    "Let us look at the mean number of engaged customers per notification category, when notification is sent 1 month before the current date:"
   ]
  },
  {
   "cell_type": "code",
   "execution_count": 593,
   "metadata": {},
   "outputs": [
    {
     "data": {
      "text/plain": [
       "reason\n",
       "ONBOARDING_TIPS_ACTIVATED_USERS      1.000000\n",
       "PREMIUM_ENGAGEMENT_FEES_SAVED        0.958333\n",
       "ENGAGEMENT_SPLIT_BILL_RESTAURANT     0.928389\n",
       "MADE_MONEY_REQUEST_NOT_SPLIT_BILL    0.891566\n",
       "FIFTH_PAYMENT_PROMO                  0.780306\n",
       "REENGAGEMENT_ACTIVE_FUNDS            0.774714\n",
       "LOST_CARD_ORDER                      0.770435\n",
       "METAL_GAME_START                     0.761345\n",
       "JOINING_ANNIVERSARY                  0.729502\n",
       "NO_INITIAL_CARD_USE                  0.473165\n",
       "Name: engaged, dtype: float64"
      ]
     },
     "execution_count": 593,
     "metadata": {},
     "output_type": "execute_result"
    }
   ],
   "source": [
    "notif_mask = latest_notif[(latest_notif.status=='SENT') & (latest_notif.created_date>last_1m)]\n",
    "engagement_notif_l1m = notif_mask.merge(y, how='left', left_on='user_id', right_index=True)\n",
    "engagement_notif_l1m.groupby('reason').engaged.mean().sort_values(ascending=False)"
   ]
  },
  {
   "cell_type": "markdown",
   "metadata": {},
   "source": [
    "Let us compare the results from above to notifications sent 3 months before the current date:"
   ]
  },
  {
   "cell_type": "code",
   "execution_count": 594,
   "metadata": {},
   "outputs": [
    {
     "data": {
      "text/plain": [
       "reason\n",
       "PREMIUM_ENGAGEMENT_FEES_SAVED           0.974684\n",
       "ONBOARDING_TIPS_ACTIVATED_USERS         0.952118\n",
       "ENGAGEMENT_SPLIT_BILL_RESTAURANT        0.946786\n",
       "MADE_MONEY_REQUEST_NOT_SPLIT_BILL       0.909091\n",
       "REENGAGEMENT_ACTIVE_FUNDS               0.797451\n",
       "FIFTH_PAYMENT_PROMO                     0.791295\n",
       "METAL_GAME_START                        0.761345\n",
       "JOINING_ANNIVERSARY                     0.728314\n",
       "LOST_CARD_ORDER                         0.709629\n",
       "NO_INITIAL_CARD_ORDER                   0.638528\n",
       "NO_INITIAL_CARD_USE                     0.623074\n",
       "NO_INITIAL_FREE_PROMOPAGE_CARD_ORDER    0.506667\n",
       "Name: engaged, dtype: float64"
      ]
     },
     "execution_count": 594,
     "metadata": {},
     "output_type": "execute_result"
    }
   ],
   "source": [
    "notif_mask = latest_notif[(latest_notif.status=='SENT') & (latest_notif.created_date>last_3m)]\n",
    "engagement_notif_l3m = notif_mask.merge(y, how='left', left_on='user_id', right_index=True)\n",
    "engagement_notif_l3m.groupby('reason').engaged.mean().sort_values(ascending=False)"
   ]
  },
  {
   "cell_type": "markdown",
   "metadata": {},
   "source": [
    "It looks like the `ONBOARDING_TIPS_ACTIVATED_USERS`, `PREMIUM_ENGAGEMENT_FEES_SAVED` and `ENGAGEMENT_SPLIT_BILL_RESTAURANT` messages are related to the mean number of engaged customers. We can therefore propose the following A/B test:\n",
    "\n",
    "We can split our predicted, unengaged customers in two groups (test group and control group). The test group will receive an engagement notification and we will measure the results `N` months after sendout. If the test group outperforms the control group (and the expected `M` transactions in `N` months), we can implement the measure for the entire population.\n",
    "\n",
    "## 5. Improvements\n",
    "Since this exercise was under a significant time constraints, we have not been able to roll out a full solution. However one such would include:\n",
    "\n",
    "* The implementation of monthly forecasts of engagement and measuring against the test metrics for every month.\n",
    "* A more detailed investigation of the actions that can nudge the customers into engagement.\n",
    "* More thorough feature engineering and regressive feature elimination.\n",
    "* Use of semi-supervised learning that to learn what an 'engaged' customer is and recognizing the opposite based on the error from the expectation.\n",
    "* Directly forecasting the number of transactions for the next `N` months based on endogenous as well as exogenous metrics.\n",
    "\n",
    "Thank you for the challenge!"
   ]
  },
  {
   "cell_type": "code",
   "execution_count": null,
   "metadata": {},
   "outputs": [],
   "source": []
  }
 ],
 "metadata": {
  "kernelspec": {
   "display_name": "Python 3",
   "language": "python",
   "name": "python3"
  },
  "language_info": {
   "codemirror_mode": {
    "name": "ipython",
    "version": 3
   },
   "file_extension": ".py",
   "mimetype": "text/x-python",
   "name": "python",
   "nbconvert_exporter": "python",
   "pygments_lexer": "ipython3",
   "version": "3.7.6"
  }
 },
 "nbformat": 4,
 "nbformat_minor": 4
}
